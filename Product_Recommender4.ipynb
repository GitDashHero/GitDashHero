{
  "nbformat": 4,
  "nbformat_minor": 0,
  "metadata": {
    "colab": {
      "name": "Product Recommender.ipynb",
      "provenance": [],
      "collapsed_sections": [],
      "include_colab_link": true
    },
    "kernelspec": {
      "display_name": "Python 3",
      "name": "python3"
    },
    "language_info": {
      "name": "python"
    }
  },
  "cells": [
    {
      "cell_type": "markdown",
      "metadata": {
        "id": "view-in-github",
        "colab_type": "text"
      },
      "source": [
        "<a href=\"https://colab.research.google.com/github/GitDashHero/GitDashHero/blob/main/Product_Recommender4.ipynb\" target=\"_parent\"><img src=\"https://colab.research.google.com/assets/colab-badge.svg\" alt=\"Open In Colab\"/></a>"
      ]
    },
    {
      "cell_type": "markdown",
      "metadata": {
        "id": "mbDSs2p9CTIN"
      },
      "source": [
        "## **PRODUCT RECOMMENDER SYSTEM - CSDA 1040**"
      ]
    },
    {
      "cell_type": "markdown",
      "metadata": {
        "id": "USFFlQzTCifz"
      },
      "source": [
        "### **Context: Building a Product Recommender System**"
      ]
    },
    {
      "cell_type": "markdown",
      "metadata": {
        "id": "xbyEWEM6DdKZ"
      },
      "source": [
        "Everyday millions of products get sold online. It has been established that products recommended to users based on popularity and other metrics on e-commerce websites leads to enhanced user experience. Most popular e-commerce website boost their average order value and also increases revenues significantly thereby improves conversion. Recommender systems are among the most visible and successful applications of Articial Intelligence and Machine Learning technology in practice. Nowadays, such systems accompany us\n",
        "through our daily online lives — for example on e-commerce sites, on media streaming platforms, or in social networks. They help us by suggesting things that are assumed to be of interest to us and which we are correspondingly likely to inspect, consume, or purchase."
      ]
    },
    {
      "cell_type": "markdown",
      "metadata": {
        "id": "l0YZAIlcFoJx"
      },
      "source": [
        "**Data Source: Source** - Amazon Reviews data (http://jmcauley.ucsd.edu/data/amazon/) The repository has several datasets. For this case study, we are using the Electronics dataset.\n",
        "Learning Outcomes"
      ]
    },
    {
      "cell_type": "markdown",
      "metadata": {
        "id": "fGTxhX5XGkvI"
      },
      "source": [
        "**BUSINESS PROBLEM:**\n",
        "\n",
        "As a business that is invested in online sales, it has become imperative to build a product recommender system. Customers that are accustomed to online shopping have come to expect a level of personalization and recommendation to enhance their experience and might move away to websites that are more perceptive to their needs.\n",
        "\n",
        "a) Helps User find the right type of product more easily which leads to better levels of engagement\n",
        "\n",
        "b) Also helps the business use cross-sell, upsell and entice customers which leads to increased sales\n",
        "\n",
        "c) Leads to a personalized experience "
      ]
    },
    {
      "cell_type": "markdown",
      "metadata": {
        "id": "VFp8xxhBGk60"
      },
      "source": [
        "\n",
        "**ANALYTICAL OBJECTIVE**\n",
        "\n",
        "Build a Recommender Model that recommends products to users either based on popularity or ratings to increase customer engagement and drive sales. \n",
        "\n",
        "There are different types of recommender models based on popularity, user based, content based recommendation, collaborative filtering.\n",
        "\n"
      ]
    },
    {
      "cell_type": "code",
      "metadata": {
        "id": "MQUfJbd_B7_O"
      },
      "source": [
        "# Importing Libraries\n",
        "\n",
        "import pandas as pd\n",
        "import numpy as np\n",
        "import seaborn as sns\n",
        "import matplotlib.pyplot as plt\n",
        "%matplotlib inline\n",
        "from sklearn.model_selection import train_test_split\n",
        "import numpy as np # linear algebra\n",
        "import pandas as pd # data processing, CSV file I/O (e.g. pd.read_csv)\n",
        "import os\n",
        "from IPython.core.interactiveshell import InteractiveShell\n",
        "InteractiveShell.ast_node_interactivity = \"all\"\n",
        "import math\n",
        "import json\n",
        "import time\n",
        "import matplotlib.pyplot as plt\n",
        "import seaborn as sns\n",
        "from sklearn.metrics.pairwise import cosine_similarity\n",
        "from sklearn.model_selection import train_test_split\n",
        "from sklearn.neighbors import NearestNeighbors\n",
        "import scipy.sparse\n",
        "from scipy.sparse import csr_matrix\n",
        "from scipy.sparse.linalg import svds\n",
        "import warnings; warnings.simplefilter('ignore')\n",
        "%matplotlib inline\n",
        "\n",
        "# suppress display of warnings\n",
        "warnings.filterwarnings('ignore')\n",
        "\n",
        "# display all dataframe columns\n",
        "pd.options.display.max_columns = None\n",
        "\n",
        "# to set the limit to 3 decimals\n",
        "pd.options.display.float_format = '{:.7f}'.format\n",
        "\n",
        "# display all dataframe rows\n",
        "pd.options.display.max_rows = None\n",
        "\n"
      ],
      "execution_count": 1,
      "outputs": []
    },
    {
      "cell_type": "code",
      "metadata": {
        "colab": {
          "base_uri": "https://localhost:8080/",
          "height": 204
        },
        "id": "lh0cdlZFNTNb",
        "outputId": "96a8cdad-27b1-4ccd-ac07-5c13bfd20289"
      },
      "source": [
        "# Loading Data with headers and display\n",
        "electronics_data = pd.read_csv(\"ratings_Electronics.csv\", names=['userId', 'productId','Rating','timestamp'])\n",
        "electronics_data = electronics_data.iloc[1:]\n",
        "electronics_data.head()"
      ],
      "execution_count": 2,
      "outputs": [
        {
          "output_type": "execute_result",
          "data": {
            "text/html": [
              "<div>\n",
              "<style scoped>\n",
              "    .dataframe tbody tr th:only-of-type {\n",
              "        vertical-align: middle;\n",
              "    }\n",
              "\n",
              "    .dataframe tbody tr th {\n",
              "        vertical-align: top;\n",
              "    }\n",
              "\n",
              "    .dataframe thead th {\n",
              "        text-align: right;\n",
              "    }\n",
              "</style>\n",
              "<table border=\"1\" class=\"dataframe\">\n",
              "  <thead>\n",
              "    <tr style=\"text-align: right;\">\n",
              "      <th></th>\n",
              "      <th>userId</th>\n",
              "      <th>productId</th>\n",
              "      <th>Rating</th>\n",
              "      <th>timestamp</th>\n",
              "    </tr>\n",
              "  </thead>\n",
              "  <tbody>\n",
              "    <tr>\n",
              "      <th>1</th>\n",
              "      <td>A2CX7LUOHB2NDG</td>\n",
              "      <td>0321732944</td>\n",
              "      <td>5.0000000</td>\n",
              "      <td>1341100800.0000000</td>\n",
              "    </tr>\n",
              "    <tr>\n",
              "      <th>2</th>\n",
              "      <td>A2NWSAGRHCP8N5</td>\n",
              "      <td>0439886341</td>\n",
              "      <td>1.0000000</td>\n",
              "      <td>1367193600.0000000</td>\n",
              "    </tr>\n",
              "    <tr>\n",
              "      <th>3</th>\n",
              "      <td>A2WNBOD3WNDNKT</td>\n",
              "      <td>0439886341</td>\n",
              "      <td>3.0000000</td>\n",
              "      <td>1374451200.0000000</td>\n",
              "    </tr>\n",
              "    <tr>\n",
              "      <th>4</th>\n",
              "      <td>A1GI0U4ZRJA8WN</td>\n",
              "      <td>0439886341</td>\n",
              "      <td>1.0000000</td>\n",
              "      <td>1334707200.0000000</td>\n",
              "    </tr>\n",
              "    <tr>\n",
              "      <th>5</th>\n",
              "      <td>A1QGNMC6O1VW39</td>\n",
              "      <td>0511189877</td>\n",
              "      <td>5.0000000</td>\n",
              "      <td>1397433600.0000000</td>\n",
              "    </tr>\n",
              "  </tbody>\n",
              "</table>\n",
              "</div>"
            ],
            "text/plain": [
              "           userId   productId    Rating          timestamp\n",
              "1  A2CX7LUOHB2NDG  0321732944 5.0000000 1341100800.0000000\n",
              "2  A2NWSAGRHCP8N5  0439886341 1.0000000 1367193600.0000000\n",
              "3  A2WNBOD3WNDNKT  0439886341 3.0000000 1374451200.0000000\n",
              "4  A1GI0U4ZRJA8WN  0439886341 1.0000000 1334707200.0000000\n",
              "5  A1QGNMC6O1VW39  0511189877 5.0000000 1397433600.0000000"
            ]
          },
          "metadata": {},
          "execution_count": 2
        }
      ]
    },
    {
      "cell_type": "markdown",
      "metadata": {
        "id": "i8c9Od9vYHFL"
      },
      "source": [
        "**DATA EXPLORATION**"
      ]
    },
    {
      "cell_type": "code",
      "metadata": {
        "colab": {
          "base_uri": "https://localhost:8080/"
        },
        "id": "XMGxaOy8X7wT",
        "outputId": "1adaa73c-7a82-4d43-ec79-170ad2243c46"
      },
      "source": [
        "# Datatypes\n",
        "\n",
        "electronics_data.info()"
      ],
      "execution_count": 3,
      "outputs": [
        {
          "output_type": "stream",
          "name": "stdout",
          "text": [
            "<class 'pandas.core.frame.DataFrame'>\n",
            "RangeIndex: 3192096 entries, 1 to 3192096\n",
            "Data columns (total 4 columns):\n",
            " #   Column     Dtype  \n",
            "---  ------     -----  \n",
            " 0   userId     object \n",
            " 1   productId  object \n",
            " 2   Rating     float64\n",
            " 3   timestamp  float64\n",
            "dtypes: float64(2), object(2)\n",
            "memory usage: 97.4+ MB\n"
          ]
        }
      ]
    },
    {
      "cell_type": "code",
      "metadata": {
        "colab": {
          "base_uri": "https://localhost:8080/"
        },
        "id": "xpxZpQMvX77C",
        "outputId": "4d36882f-a71a-4373-d028-d437838a0d1a"
      },
      "source": [
        "# Shape of the data\n",
        "electronics_data.shape"
      ],
      "execution_count": 4,
      "outputs": [
        {
          "output_type": "execute_result",
          "data": {
            "text/plain": [
              "(3192096, 4)"
            ]
          },
          "metadata": {},
          "execution_count": 4
        }
      ]
    },
    {
      "cell_type": "code",
      "metadata": {
        "colab": {
          "base_uri": "https://localhost:8080/"
        },
        "id": "8eQG4-tbX8Ek",
        "outputId": "b8d83815-1f80-4643-e6e6-c0bdc3ff67c3"
      },
      "source": [
        "# More on our data\n",
        "electronics_data.describe()['Rating'].T"
      ],
      "execution_count": 5,
      "outputs": [
        {
          "output_type": "execute_result",
          "data": {
            "text/plain": [
              "count   3192095.0000000\n",
              "mean          3.9752777\n",
              "std           1.4021868\n",
              "min           1.0000000\n",
              "25%           3.0000000\n",
              "50%           5.0000000\n",
              "75%           5.0000000\n",
              "max           5.0000000\n",
              "Name: Rating, dtype: float64"
            ]
          },
          "metadata": {},
          "execution_count": 5
        }
      ]
    },
    {
      "cell_type": "code",
      "metadata": {
        "colab": {
          "base_uri": "https://localhost:8080/"
        },
        "id": "vtY4_9VhX8Ng",
        "outputId": "9f13d6f6-e0bb-4149-ed06-b435b0e4c24b"
      },
      "source": [
        "# Checking for any null or missing values\n",
        "print('Number of missing values across columns: \\n',electronics_data.isnull().sum())"
      ],
      "execution_count": 6,
      "outputs": [
        {
          "output_type": "stream",
          "name": "stdout",
          "text": [
            "Number of missing values across columns: \n",
            " userId       0\n",
            "productId    0\n",
            "Rating       1\n",
            "timestamp    1\n",
            "dtype: int64\n"
          ]
        }
      ]
    },
    {
      "cell_type": "code",
      "metadata": {
        "colab": {
          "base_uri": "https://localhost:8080/"
        },
        "id": "iw7VE_qAZNEg",
        "outputId": "fe93a70e-ae5a-47f8-c12e-77168540867a"
      },
      "source": [
        "#Find the minimum and maximum ratings\n",
        "print('Minimum rating is: %d' %(electronics_data.Rating.min()))\n",
        "print('Maximum rating is: %d' %(electronics_data.Rating.max()))"
      ],
      "execution_count": 7,
      "outputs": [
        {
          "output_type": "stream",
          "name": "stdout",
          "text": [
            "Minimum rating is: 1\n",
            "Maximum rating is: 5\n"
          ]
        }
      ]
    },
    {
      "cell_type": "markdown",
      "metadata": {
        "id": "_s_9pa84a6ys"
      },
      "source": [
        "**DATA DISTRIBUTION**"
      ]
    },
    {
      "cell_type": "code",
      "metadata": {
        "id": "3zcuu-wNfZjH",
        "colab": {
          "base_uri": "https://localhost:8080/",
          "height": 391
        },
        "outputId": "0f4ee7cf-f6f9-4050-d451-6035638301b7"
      },
      "source": [
        "\n",
        "sns.pairplot(electronics_data, diag_kind= 'kde')\n"
      ],
      "execution_count": 8,
      "outputs": [
        {
          "output_type": "execute_result",
          "data": {
            "text/plain": [
              "<seaborn.axisgrid.PairGrid at 0x7f496c6f08d0>"
            ]
          },
          "metadata": {},
          "execution_count": 8
        },
        {
          "output_type": "display_data",
          "data": {
            "image/png": "[encoded data removed]",
            "text/plain": [
              "<Figure size 360x360 with 6 Axes>"
            ]
          },
          "metadata": {
            "needs_background": "light"
          }
        }
      ]
    },
    {
      "cell_type": "code",
      "metadata": {
        "id": "fiCo7dzoX8X1",
        "colab": {
          "base_uri": "https://localhost:8080/",
          "height": 204
        },
        "outputId": "49124e3f-6087-4c66-aba5-ea78080edc2d"
      },
      "source": [
        "# Checking the distribution of the ratings\n",
        "rating_counts = pd.DataFrame(electronics_data['Rating'].value_counts()).reset_index()\n",
        "rating_counts.columns = ['Labels', 'Ratings']\n",
        "rating_counts"
      ],
      "execution_count": 9,
      "outputs": [
        {
          "output_type": "execute_result",
          "data": {
            "text/html": [
              "<div>\n",
              "<style scoped>\n",
              "    .dataframe tbody tr th:only-of-type {\n",
              "        vertical-align: middle;\n",
              "    }\n",
              "\n",
              "    .dataframe tbody tr th {\n",
              "        vertical-align: top;\n",
              "    }\n",
              "\n",
              "    .dataframe thead th {\n",
              "        text-align: right;\n",
              "    }\n",
              "</style>\n",
              "<table border=\"1\" class=\"dataframe\">\n",
              "  <thead>\n",
              "    <tr style=\"text-align: right;\">\n",
              "      <th></th>\n",
              "      <th>Labels</th>\n",
              "      <th>Ratings</th>\n",
              "    </tr>\n",
              "  </thead>\n",
              "  <tbody>\n",
              "    <tr>\n",
              "      <th>0</th>\n",
              "      <td>5.0000000</td>\n",
              "      <td>1733884</td>\n",
              "    </tr>\n",
              "    <tr>\n",
              "      <th>1</th>\n",
              "      <td>4.0000000</td>\n",
              "      <td>619460</td>\n",
              "    </tr>\n",
              "    <tr>\n",
              "      <th>2</th>\n",
              "      <td>1.0000000</td>\n",
              "      <td>391617</td>\n",
              "    </tr>\n",
              "    <tr>\n",
              "      <th>3</th>\n",
              "      <td>3.0000000</td>\n",
              "      <td>256319</td>\n",
              "    </tr>\n",
              "    <tr>\n",
              "      <th>4</th>\n",
              "      <td>2.0000000</td>\n",
              "      <td>190815</td>\n",
              "    </tr>\n",
              "  </tbody>\n",
              "</table>\n",
              "</div>"
            ],
            "text/plain": [
              "     Labels  Ratings\n",
              "0 5.0000000  1733884\n",
              "1 4.0000000   619460\n",
              "2 1.0000000   391617\n",
              "3 3.0000000   256319\n",
              "4 2.0000000   190815"
            ]
          },
          "metadata": {},
          "execution_count": 9
        }
      ]
    },
    {
      "cell_type": "code",
      "metadata": {
        "id": "emjJwbphkG5h",
        "colab": {
          "base_uri": "https://localhost:8080/",
          "height": 776
        },
        "outputId": "2efcc4c1-65ac-4141-f673-d50f17657ff3"
      },
      "source": [
        "fig, (ax1, ax2) = plt.subplots(nrows=1, ncols=2, figsize=(15,7))\n",
        "sns.countplot(electronics_data['Rating'], ax=ax1)\n",
        "ax1.set_xlabel('Rating Distribution', fontsize=10)\n",
        "ax1.set_ylabel('Count', fontsize=10)\n",
        "\n",
        "\n",
        "explode = (0.1, 0, 0.1, 0, 0)\n",
        "ax2.pie(rating_counts[\"Ratings\"], explode=explode, labels=rating_counts.Labels, autopct='%1.2f%%',\n",
        "        shadow=True, startangle=70)\n",
        "ax2.axis('equal')\n",
        "plt.title(\"Rating Ratio\")\n",
        "plt.legend(rating_counts.Labels, loc=3)\n",
        "plt.show()"
      ],
      "execution_count": 10,
      "outputs": [
        {
          "output_type": "execute_result",
          "data": {
            "text/plain": [
              "<matplotlib.axes._subplots.AxesSubplot at 0x7f49611f8710>"
            ]
          },
          "metadata": {},
          "execution_count": 10
        },
        {
          "output_type": "execute_result",
          "data": {
            "text/plain": [
              "Text(0.5, 0, 'Rating Distribution')"
            ]
          },
          "metadata": {},
          "execution_count": 10
        },
        {
          "output_type": "execute_result",
          "data": {
            "text/plain": [
              "Text(0, 0.5, 'Count')"
            ]
          },
          "metadata": {},
          "execution_count": 10
        },
        {
          "output_type": "execute_result",
          "data": {
            "text/plain": [
              "([<matplotlib.patches.Wedge at 0x7f4960d51250>,\n",
              "  <matplotlib.patches.Wedge at 0x7f4960d511d0>,\n",
              "  <matplotlib.patches.Wedge at 0x7f4960cf1910>,\n",
              "  <matplotlib.patches.Wedge at 0x7f4960d04610>,\n",
              "  <matplotlib.patches.Wedge at 0x7f4960d0c510>],\n",
              " [Text(-1.1727772471401794, 0.2541525695134766, '5.0'),\n",
              "  Text(0.5578939074679748, -0.9480265755822012, '4.0'),\n",
              "  Text(1.1988485727202942, -0.05255568177194563, '1.0'),\n",
              "  Text(0.9116566810693687, 0.6155339924501193, '3.0'),\n",
              "  Text(0.5625860855793836, 0.9452496476129819, '2.0')],\n",
              " [Text(-0.6841200608317713, 0.14825566554952802, '54.32%'),\n",
              "  Text(0.3043057677098044, -0.5171054048630187, '19.41%'),\n",
              "  Text(0.6993283340868381, -0.030657481033634953, '12.27%'),\n",
              "  Text(0.49726728058329195, 0.3357458140637014, '8.03%'),\n",
              "  Text(0.30686513758875467, 0.5155907168798083, '5.98%')])"
            ]
          },
          "metadata": {},
          "execution_count": 10
        },
        {
          "output_type": "execute_result",
          "data": {
            "text/plain": [
              "(-1.2157865398449696,\n",
              " 1.2150826205469787,\n",
              " -1.1149910052649246,\n",
              " 1.1313380691203048)"
            ]
          },
          "metadata": {},
          "execution_count": 10
        },
        {
          "output_type": "execute_result",
          "data": {
            "text/plain": [
              "Text(0.5, 1.0, 'Rating Ratio')"
            ]
          },
          "metadata": {},
          "execution_count": 10
        },
        {
          "output_type": "execute_result",
          "data": {
            "text/plain": [
              "<matplotlib.legend.Legend at 0x7f4960d51190>"
            ]
          },
          "metadata": {},
          "execution_count": 10
        },
        {
          "output_type": "display_data",
          "data": {
            "image/png": "[encoded data removed]",
            "text/plain": [
              "<Figure size 1080x504 with 2 Axes>"
            ]
          },
          "metadata": {
            "needs_background": "light"
          }
        }
      ]
    },
    {
      "cell_type": "markdown",
      "metadata": {
        "id": "SZCB8bvVf1MI"
      },
      "source": [
        "**OBSERVATIONS:**\n",
        "\n",
        "We can see that most customers provide a rating of \"5\". Very few customers have given a rating of \"2\". \n",
        "\n",
        "From the barplot and pia chart we can clearly see that approx 55% of data have 5 rating followed by 4(approx 19%). Least number of people have given 2 rating. \n",
        "\n",
        "Either most products are liked by customers or there is more to investigate such as dropping of reviews by bots or promotional events. \n",
        "\n",
        "Are customers asked for feedback, if they give a lower rating thus making it easier to go with a rating of \"5\"?"
      ]
    },
    {
      "cell_type": "markdown",
      "metadata": {
        "id": "x0h_5KZjbC_r"
      },
      "source": [
        "**UNIQUE USERS AND NUMBER OF UNIQUE PRODUCTS**"
      ]
    },
    {
      "cell_type": "code",
      "metadata": {
        "id": "0767NVZ3j4mN"
      },
      "source": [
        "electronics_data.productId = electronics_data.productId.fillna('')"
      ],
      "execution_count": 11,
      "outputs": []
    },
    {
      "cell_type": "code",
      "metadata": {
        "id": "u6bglPj2a4b9",
        "colab": {
          "base_uri": "https://localhost:8080/"
        },
        "outputId": "a4d6f73e-f592-4168-99b5-258b02fa419e"
      },
      "source": [
        "print(\"\\nTotal no of Ratings :\",electronics_data.shape[0])\n",
        "print(\"Total No of Users   :\", len(np.unique(electronics_data.userId)))\n",
        "print(\"Total No of Products  :\", len(np.unique(electronics_data.productId)))"
      ],
      "execution_count": 12,
      "outputs": [
        {
          "output_type": "stream",
          "name": "stdout",
          "text": [
            "\n",
            "Total no of Ratings : 3192096\n",
            "Total No of Users   : 2029434\n",
            "Total No of Products  : 173704\n"
          ]
        }
      ]
    },
    {
      "cell_type": "code",
      "metadata": {
        "id": "gC8gIQN8a4nW"
      },
      "source": [
        "#Dropping the Timestamp Column and it is not needed for our analysis\n",
        "\n",
        "electronics_data.drop(['timestamp'], axis=1,inplace=True)"
      ],
      "execution_count": 13,
      "outputs": []
    },
    {
      "cell_type": "markdown",
      "metadata": {
        "id": "-UwKu3H-lu1s"
      },
      "source": [
        "**POPULARITY BASED RECOMMENDER**\n",
        "\n",
        "Popularity based recommendation system uses the most frequently sold items to drive sales. For example, if any product which is usually bought by every new user then there are chances that it may suggest that item to the user who just signed up.\n",
        "\n",
        "The problems with popularity based recommendation system is that the personalization is not available with this method i.e. even though you know the behaviour of the user you cannot recommend items accordingly.\n",
        "\n",
        "This is good for new users when data is not available on their preferences.\n"
      ]
    },
    {
      "cell_type": "code",
      "metadata": {
        "id": "EWbWRTFya4zD"
      },
      "source": [
        "#  Taking Subset of users who have given 50 or more number of ratings\n",
        "users_counts = electronics_data['userId'].value_counts().rename('users_counts')\n",
        "users_data   = electronics_data.merge(users_counts.to_frame(),\n",
        "                                left_on='userId',\n",
        "                                right_index=True)"
      ],
      "execution_count": 14,
      "outputs": []
    },
    {
      "cell_type": "code",
      "metadata": {
        "id": "8LTygCqkltfW",
        "colab": {
          "base_uri": "https://localhost:8080/",
          "height": 204
        },
        "outputId": "2d3a3d0c-ec5a-4f02-cc3d-89aba46abef1"
      },
      "source": [
        "subset_df = users_data[users_data.users_counts >= 50]\n",
        "subset_df.tail()\n",
        "\n",
        "# Customers who have rated more than 50 products. These customers seem like they are regular buyers and provide regular feedback."
      ],
      "execution_count": 15,
      "outputs": [
        {
          "output_type": "execute_result",
          "data": {
            "text/html": [
              "<div>\n",
              "<style scoped>\n",
              "    .dataframe tbody tr th:only-of-type {\n",
              "        vertical-align: middle;\n",
              "    }\n",
              "\n",
              "    .dataframe tbody tr th {\n",
              "        vertical-align: top;\n",
              "    }\n",
              "\n",
              "    .dataframe thead th {\n",
              "        text-align: right;\n",
              "    }\n",
              "</style>\n",
              "<table border=\"1\" class=\"dataframe\">\n",
              "  <thead>\n",
              "    <tr style=\"text-align: right;\">\n",
              "      <th></th>\n",
              "      <th>userId</th>\n",
              "      <th>productId</th>\n",
              "      <th>Rating</th>\n",
              "      <th>users_counts</th>\n",
              "    </tr>\n",
              "  </thead>\n",
              "  <tbody>\n",
              "    <tr>\n",
              "      <th>2897164</th>\n",
              "      <td>A2CIQEY05SPHTZ</td>\n",
              "      <td>B002VPDM2K</td>\n",
              "      <td>3.0000000</td>\n",
              "      <td>51</td>\n",
              "    </tr>\n",
              "    <tr>\n",
              "      <th>2902224</th>\n",
              "      <td>A2CIQEY05SPHTZ</td>\n",
              "      <td>B002VPE1Y8</td>\n",
              "      <td>4.0000000</td>\n",
              "      <td>51</td>\n",
              "    </tr>\n",
              "    <tr>\n",
              "      <th>2936096</th>\n",
              "      <td>A2CIQEY05SPHTZ</td>\n",
              "      <td>B002XUL5OU</td>\n",
              "      <td>4.0000000</td>\n",
              "      <td>51</td>\n",
              "    </tr>\n",
              "    <tr>\n",
              "      <th>2982519</th>\n",
              "      <td>A2CIQEY05SPHTZ</td>\n",
              "      <td>B0030M5NFC</td>\n",
              "      <td>4.0000000</td>\n",
              "      <td>51</td>\n",
              "    </tr>\n",
              "    <tr>\n",
              "      <th>3075349</th>\n",
              "      <td>A2CIQEY05SPHTZ</td>\n",
              "      <td>B0035MDZKM</td>\n",
              "      <td>4.0000000</td>\n",
              "      <td>51</td>\n",
              "    </tr>\n",
              "  </tbody>\n",
              "</table>\n",
              "</div>"
            ],
            "text/plain": [
              "                 userId   productId    Rating  users_counts\n",
              "2897164  A2CIQEY05SPHTZ  B002VPDM2K 3.0000000            51\n",
              "2902224  A2CIQEY05SPHTZ  B002VPE1Y8 4.0000000            51\n",
              "2936096  A2CIQEY05SPHTZ  B002XUL5OU 4.0000000            51\n",
              "2982519  A2CIQEY05SPHTZ  B0030M5NFC 4.0000000            51\n",
              "3075349  A2CIQEY05SPHTZ  B0035MDZKM 4.0000000            51"
            ]
          },
          "metadata": {},
          "execution_count": 15
        }
      ]
    },
    {
      "cell_type": "markdown",
      "metadata": {
        "id": "nMXbusE6naCX"
      },
      "source": [
        "**Resolving the \"Grey Sheep\" Problem:**\n",
        "\n",
        "\"Recommender Systems have been successfully applied to alleviate the information overload problem and assist the process of decision making. Collaborative filtering, as one of the most popular recommendation algorithms, has been fully explored and developed in the past two decades. However, one of the challenges in collaborative filtering, the problem of \"Grey Sheep\" user, is still under investigation. \"Grey Sheep\" users is a group of the users who have special tastes and they may neither agree nor disagree with the majority of the users. The identification of them becomes a challenge in collaborative filtering, since they may introduce difficulties to produce accurate collaborative recommendations\" (Source:https://dl.acm.org/doi/abs/10.1145/3125649.3125651)"
      ]
    },
    {
      "cell_type": "code",
      "metadata": {
        "id": "aiJGGXQVmjz-",
        "colab": {
          "base_uri": "https://localhost:8080/",
          "height": 204
        },
        "outputId": "2509112d-1a67-4be4-9aa0-44284970c846"
      },
      "source": [
        "# We resolve the \"Grey Sheep\" Problem by taking a subset of products that have 10 or more ratings. \n",
        "# This will ensure that these are commonly purchased and rated.\n",
        "product_rating_counts = subset_df['productId'].value_counts().rename('product_rating_counts')\n",
        "product_rating_data   = subset_df.merge(product_rating_counts.to_frame(),\n",
        "                                left_on='productId',\n",
        "                                right_index=True)\n",
        "product_rating_data = product_rating_data[product_rating_data.product_rating_counts >= 10]\n",
        "product_rating_data.tail()\n"
      ],
      "execution_count": 16,
      "outputs": [
        {
          "output_type": "execute_result",
          "data": {
            "text/html": [
              "<div>\n",
              "<style scoped>\n",
              "    .dataframe tbody tr th:only-of-type {\n",
              "        vertical-align: middle;\n",
              "    }\n",
              "\n",
              "    .dataframe tbody tr th {\n",
              "        vertical-align: top;\n",
              "    }\n",
              "\n",
              "    .dataframe thead th {\n",
              "        text-align: right;\n",
              "    }\n",
              "</style>\n",
              "<table border=\"1\" class=\"dataframe\">\n",
              "  <thead>\n",
              "    <tr style=\"text-align: right;\">\n",
              "      <th></th>\n",
              "      <th>userId</th>\n",
              "      <th>productId</th>\n",
              "      <th>Rating</th>\n",
              "      <th>users_counts</th>\n",
              "      <th>product_rating_counts</th>\n",
              "    </tr>\n",
              "  </thead>\n",
              "  <tbody>\n",
              "    <tr>\n",
              "      <th>208660</th>\n",
              "      <td>AHROSV6WJOEGY</td>\n",
              "      <td>B00006RVPW</td>\n",
              "      <td>5.0000000</td>\n",
              "      <td>50</td>\n",
              "      <td>10</td>\n",
              "    </tr>\n",
              "    <tr>\n",
              "      <th>208913</th>\n",
              "      <td>A3Q4TYJVAM4IRM</td>\n",
              "      <td>B00006RVPW</td>\n",
              "      <td>5.0000000</td>\n",
              "      <td>86</td>\n",
              "      <td>10</td>\n",
              "    </tr>\n",
              "    <tr>\n",
              "      <th>208786</th>\n",
              "      <td>A1CPRP3VFJRS1R</td>\n",
              "      <td>B00006RVPW</td>\n",
              "      <td>5.0000000</td>\n",
              "      <td>64</td>\n",
              "      <td>10</td>\n",
              "    </tr>\n",
              "    <tr>\n",
              "      <th>208259</th>\n",
              "      <td>A38KK0SZYEH5UD</td>\n",
              "      <td>B00006RVPW</td>\n",
              "      <td>5.0000000</td>\n",
              "      <td>92</td>\n",
              "      <td>10</td>\n",
              "    </tr>\n",
              "    <tr>\n",
              "      <th>209194</th>\n",
              "      <td>AI8EMB0HUC6Z5</td>\n",
              "      <td>B00006RVPW</td>\n",
              "      <td>5.0000000</td>\n",
              "      <td>62</td>\n",
              "      <td>10</td>\n",
              "    </tr>\n",
              "  </tbody>\n",
              "</table>\n",
              "</div>"
            ],
            "text/plain": [
              "                userId   productId    Rating  users_counts  \\\n",
              "208660   AHROSV6WJOEGY  B00006RVPW 5.0000000            50   \n",
              "208913  A3Q4TYJVAM4IRM  B00006RVPW 5.0000000            86   \n",
              "208786  A1CPRP3VFJRS1R  B00006RVPW 5.0000000            64   \n",
              "208259  A38KK0SZYEH5UD  B00006RVPW 5.0000000            92   \n",
              "209194   AI8EMB0HUC6Z5  B00006RVPW 5.0000000            62   \n",
              "\n",
              "        product_rating_counts  \n",
              "208660                     10  \n",
              "208913                     10  \n",
              "208786                     10  \n",
              "208259                     10  \n",
              "209194                     10  "
            ]
          },
          "metadata": {},
          "execution_count": 16
        }
      ]
    },
    {
      "cell_type": "code",
      "metadata": {
        "id": "Zm8tv_0fqjU2",
        "colab": {
          "base_uri": "https://localhost:8080/",
          "height": 339
        },
        "outputId": "a28bc937-f2fc-454f-928d-3956cca67d57"
      },
      "source": [
        "no_of_ratings_per_product = product_rating_data.groupby(by='productId')['Rating'].count().sort_values(ascending=False)\n",
        "\n",
        "fig = plt.figure(figsize=plt.figaspect(.5))\n",
        "ax = plt.gca()\n",
        "plt.plot(no_of_ratings_per_product.values)\n",
        "plt.title('# RATINGS per Product')\n",
        "plt.xlabel('Product')\n",
        "plt.ylabel('No of ratings per product')\n",
        "ax.set_xticklabels([])\n",
        "\n",
        "plt.show()"
      ],
      "execution_count": 17,
      "outputs": [
        {
          "output_type": "execute_result",
          "data": {
            "text/plain": [
              "[<matplotlib.lines.Line2D at 0x7f4960c30150>]"
            ]
          },
          "metadata": {},
          "execution_count": 17
        },
        {
          "output_type": "execute_result",
          "data": {
            "text/plain": [
              "Text(0.5, 1.0, '# RATINGS per Product')"
            ]
          },
          "metadata": {},
          "execution_count": 17
        },
        {
          "output_type": "execute_result",
          "data": {
            "text/plain": [
              "Text(0.5, 0, 'Product')"
            ]
          },
          "metadata": {},
          "execution_count": 17
        },
        {
          "output_type": "execute_result",
          "data": {
            "text/plain": [
              "Text(0, 0.5, 'No of ratings per product')"
            ]
          },
          "metadata": {},
          "execution_count": 17
        },
        {
          "output_type": "execute_result",
          "data": {
            "text/plain": [
              "[]"
            ]
          },
          "metadata": {},
          "execution_count": 17
        },
        {
          "output_type": "display_data",
          "data": {
            "image/png": "[encoded data removed]",
            "text/plain": [
              "<Figure size 576x288 with 1 Axes>"
            ]
          },
          "metadata": {
            "needs_background": "light"
          }
        }
      ]
    },
    {
      "cell_type": "code",
      "metadata": {
        "id": "oF9mSGSYq7d-",
        "colab": {
          "base_uri": "https://localhost:8080/"
        },
        "outputId": "0bd8cc71-11b0-472d-a263-a21bb8b70157"
      },
      "source": [
        "#Average rating of the product \n",
        "\n",
        "product_rating_data.groupby('productId')['Rating'].mean().head()"
      ],
      "execution_count": 18,
      "outputs": [
        {
          "output_type": "execute_result",
          "data": {
            "text/plain": [
              "productId\n",
              "B00004SB92   4.3636364\n",
              "B00004ZCJE   4.3000000\n",
              "B00005LEN4   4.6956522\n",
              "B00005T3G0   4.8181818\n",
              "B00006B7DA   4.2500000\n",
              "Name: Rating, dtype: float64"
            ]
          },
          "metadata": {},
          "execution_count": 18
        }
      ]
    },
    {
      "cell_type": "code",
      "metadata": {
        "id": "det14Bxxq7p2",
        "colab": {
          "base_uri": "https://localhost:8080/"
        },
        "outputId": "61a416ac-d47f-47ee-b5e1-ca7078b61585"
      },
      "source": [
        "product_rating_data.groupby('productId')['Rating'].mean().sort_values(ascending=False).head()"
      ],
      "execution_count": 19,
      "outputs": [
        {
          "output_type": "execute_result",
          "data": {
            "text/plain": [
              "productId\n",
              "B0000BZL1P   5.0000000\n",
              "B001TH7GUU   4.9473684\n",
              "B00017LSPI   4.9333333\n",
              "B0010Z28XG   4.9166667\n",
              "B002WE6D44   4.9130435\n",
              "Name: Rating, dtype: float64"
            ]
          },
          "metadata": {},
          "execution_count": 19
        }
      ]
    },
    {
      "cell_type": "code",
      "metadata": {
        "id": "RrRTaJ1aq7zG",
        "colab": {
          "base_uri": "https://localhost:8080/"
        },
        "outputId": "81d0940d-abec-4c47-95f9-dc42acfaf26e"
      },
      "source": [
        "#Top Products with maximum ratings of \"5\"\n",
        "\n",
        "product_rating_data.groupby('productId')['Rating'].count().sort_values(ascending=False).head()"
      ],
      "execution_count": 20,
      "outputs": [
        {
          "output_type": "execute_result",
          "data": {
            "text/plain": [
              "productId\n",
              "B002R5AM7C    42\n",
              "B002SQK2F2    33\n",
              "B000JMJWV2    32\n",
              "B000N99BBC    31\n",
              "B00004ZCJE    30\n",
              "Name: Rating, dtype: int64"
            ]
          },
          "metadata": {},
          "execution_count": 20
        }
      ]
    },
    {
      "cell_type": "code",
      "metadata": {
        "id": "P4kktTQYq726",
        "colab": {
          "base_uri": "https://localhost:8080/",
          "height": 235
        },
        "outputId": "81280ca1-0b65-41c9-8510-f881a06e5ae1"
      },
      "source": [
        "ratings_mean_count = pd.DataFrame(product_rating_data.groupby('productId')['Rating'].mean())\n",
        "ratings_mean_count['rating_counts'] = pd.DataFrame(product_rating_data.groupby('productId')['Rating'].count())\n",
        "ratings_mean_count.head()"
      ],
      "execution_count": 21,
      "outputs": [
        {
          "output_type": "execute_result",
          "data": {
            "text/html": [
              "<div>\n",
              "<style scoped>\n",
              "    .dataframe tbody tr th:only-of-type {\n",
              "        vertical-align: middle;\n",
              "    }\n",
              "\n",
              "    .dataframe tbody tr th {\n",
              "        vertical-align: top;\n",
              "    }\n",
              "\n",
              "    .dataframe thead th {\n",
              "        text-align: right;\n",
              "    }\n",
              "</style>\n",
              "<table border=\"1\" class=\"dataframe\">\n",
              "  <thead>\n",
              "    <tr style=\"text-align: right;\">\n",
              "      <th></th>\n",
              "      <th>Rating</th>\n",
              "      <th>rating_counts</th>\n",
              "    </tr>\n",
              "    <tr>\n",
              "      <th>productId</th>\n",
              "      <th></th>\n",
              "      <th></th>\n",
              "    </tr>\n",
              "  </thead>\n",
              "  <tbody>\n",
              "    <tr>\n",
              "      <th>B00004SB92</th>\n",
              "      <td>4.3636364</td>\n",
              "      <td>11</td>\n",
              "    </tr>\n",
              "    <tr>\n",
              "      <th>B00004ZCJE</th>\n",
              "      <td>4.3000000</td>\n",
              "      <td>30</td>\n",
              "    </tr>\n",
              "    <tr>\n",
              "      <th>B00005LEN4</th>\n",
              "      <td>4.6956522</td>\n",
              "      <td>23</td>\n",
              "    </tr>\n",
              "    <tr>\n",
              "      <th>B00005T3G0</th>\n",
              "      <td>4.8181818</td>\n",
              "      <td>11</td>\n",
              "    </tr>\n",
              "    <tr>\n",
              "      <th>B00006B7DA</th>\n",
              "      <td>4.2500000</td>\n",
              "      <td>12</td>\n",
              "    </tr>\n",
              "  </tbody>\n",
              "</table>\n",
              "</div>"
            ],
            "text/plain": [
              "              Rating  rating_counts\n",
              "productId                          \n",
              "B00004SB92 4.3636364             11\n",
              "B00004ZCJE 4.3000000             30\n",
              "B00005LEN4 4.6956522             23\n",
              "B00005T3G0 4.8181818             11\n",
              "B00006B7DA 4.2500000             12"
            ]
          },
          "metadata": {},
          "execution_count": 21
        }
      ]
    },
    {
      "cell_type": "code",
      "metadata": {
        "id": "UZ9FZxv5q77f",
        "colab": {
          "base_uri": "https://localhost:8080/",
          "height": 391
        },
        "outputId": "5f80454f-f50e-490c-de82-b81d32009997"
      },
      "source": [
        "plt.figure(figsize=(8,6))\n",
        "plt.rcParams['patch.force_edgecolor'] = True\n",
        "ratings_mean_count['rating_counts'].hist(bins=20)"
      ],
      "execution_count": 22,
      "outputs": [
        {
          "output_type": "execute_result",
          "data": {
            "text/plain": [
              "<Figure size 576x432 with 0 Axes>"
            ]
          },
          "metadata": {},
          "execution_count": 22
        },
        {
          "output_type": "execute_result",
          "data": {
            "text/plain": [
              "<matplotlib.axes._subplots.AxesSubplot at 0x7f4960c007d0>"
            ]
          },
          "metadata": {},
          "execution_count": 22
        },
        {
          "output_type": "display_data",
          "data": {
            "image/png": "[encoded data removed]",
            "text/plain": [
              "<Figure size 576x432 with 1 Axes>"
            ]
          },
          "metadata": {
            "needs_background": "light"
          }
        }
      ]
    },
    {
      "cell_type": "markdown",
      "metadata": {
        "id": "BL0MNphx0OVc"
      },
      "source": [
        "**OBSERVATION:**\n",
        "\n",
        "We see that the most customers have reviewed the top 25 products. This leads us to the conclusion that this seems to be the most popular product."
      ]
    },
    {
      "cell_type": "code",
      "metadata": {
        "id": "vHsXvk-aq7-M",
        "colab": {
          "base_uri": "https://localhost:8080/",
          "height": 391
        },
        "outputId": "3ab0abc1-015e-4df2-a676-b4a12918fe59"
      },
      "source": [
        "plt.figure(figsize=(8,6))\n",
        "plt.rcParams['patch.force_edgecolor'] = True\n",
        "ratings_mean_count['Rating'].hist(bins=50)"
      ],
      "execution_count": 23,
      "outputs": [
        {
          "output_type": "execute_result",
          "data": {
            "text/plain": [
              "<Figure size 576x432 with 0 Axes>"
            ]
          },
          "metadata": {},
          "execution_count": 23
        },
        {
          "output_type": "execute_result",
          "data": {
            "text/plain": [
              "<matplotlib.axes._subplots.AxesSubplot at 0x7f4960af8490>"
            ]
          },
          "metadata": {},
          "execution_count": 23
        },
        {
          "output_type": "display_data",
          "data": {
            "image/png": "[encoded data removed]",
            "text/plain": [
              "<Figure size 576x432 with 1 Axes>"
            ]
          },
          "metadata": {
            "needs_background": "light"
          }
        }
      ]
    },
    {
      "cell_type": "markdown",
      "metadata": {
        "id": "4nT13Jbh2DcH"
      },
      "source": [
        "**OBSERVATION**\n",
        "\n",
        "Here we see that the items with most ratings seem to be popular and consistently score between Rating \"4\" to Rating \"5\""
      ]
    },
    {
      "cell_type": "code",
      "metadata": {
        "id": "mKsh2tJjq8Bd",
        "colab": {
          "base_uri": "https://localhost:8080/",
          "height": 475
        },
        "outputId": "05d6e0b8-845f-40da-d637-1f590b0acaea"
      },
      "source": [
        "# Lets see the data on a jointplot\n",
        "plt.figure(figsize=(8,6))\n",
        "plt.rcParams['patch.force_edgecolor'] = True\n",
        "sns.jointplot(x='Rating', y='rating_counts', data=ratings_mean_count, alpha=0.4)"
      ],
      "execution_count": 24,
      "outputs": [
        {
          "output_type": "execute_result",
          "data": {
            "text/plain": [
              "<Figure size 576x432 with 0 Axes>"
            ]
          },
          "metadata": {},
          "execution_count": 24
        },
        {
          "output_type": "execute_result",
          "data": {
            "text/plain": [
              "<seaborn.axisgrid.JointGrid at 0x7f49609e9ad0>"
            ]
          },
          "metadata": {},
          "execution_count": 24
        },
        {
          "output_type": "display_data",
          "data": {
            "text/plain": [
              "<Figure size 576x432 with 0 Axes>"
            ]
          },
          "metadata": {}
        },
        {
          "output_type": "display_data",
          "data": {
            "image/png": "[encoded data removed]",
            "text/plain": [
              "<Figure size 432x432 with 3 Axes>"
            ]
          },
          "metadata": {
            "needs_background": "light"
          }
        }
      ]
    },
    {
      "cell_type": "code",
      "metadata": {
        "id": "dIzZtRjqq8Fm",
        "colab": {
          "base_uri": "https://localhost:8080/",
          "height": 355
        },
        "outputId": "2acc5c1a-972d-4220-baf1-f57e5d4ecf11"
      },
      "source": [
        "popular_products = pd.DataFrame(product_rating_data.groupby('productId')['Rating'].count())\n",
        "most_popular = popular_products.sort_values('Rating', ascending=False)\n",
        "most_popular.head(10).plot(kind = \"bar\")"
      ],
      "execution_count": 25,
      "outputs": [
        {
          "output_type": "execute_result",
          "data": {
            "text/plain": [
              "<matplotlib.axes._subplots.AxesSubplot at 0x7f496091af10>"
            ]
          },
          "metadata": {},
          "execution_count": 25
        },
        {
          "output_type": "display_data",
          "data": {
            "image/png": "[encoded data removed]",
            "text/plain": [
              "<Figure size 432x288 with 1 Axes>"
            ]
          },
          "metadata": {
            "needs_background": "light"
          }
        }
      ]
    },
    {
      "cell_type": "markdown",
      "metadata": {
        "id": "5MWdzzHv3gS0"
      },
      "source": [
        "The above chart shows us the Top 10 Recommended Products based on popularity"
      ]
    },
    {
      "cell_type": "markdown",
      "metadata": {
        "id": "-BKtftcA5gxy"
      },
      "source": [
        "**DATA PREPARATION**\n",
        "\n"
      ]
    },
    {
      "cell_type": "code",
      "metadata": {
        "id": "HZEH4gSOq8Jy"
      },
      "source": [
        "df1=product_rating_data.copy()\n",
        "df2 = df1.drop(['users_counts', 'product_rating_counts'], axis=1)"
      ],
      "execution_count": 26,
      "outputs": []
    },
    {
      "cell_type": "code",
      "metadata": {
        "id": "1nvHvgewq8MB",
        "colab": {
          "base_uri": "https://localhost:8080/",
          "height": 204
        },
        "outputId": "ea8aa813-2c50-4191-cdc0-a42736a5bda7"
      },
      "source": [
        "df2.head()"
      ],
      "execution_count": 27,
      "outputs": [
        {
          "output_type": "execute_result",
          "data": {
            "text/html": [
              "<div>\n",
              "<style scoped>\n",
              "    .dataframe tbody tr th:only-of-type {\n",
              "        vertical-align: middle;\n",
              "    }\n",
              "\n",
              "    .dataframe tbody tr th {\n",
              "        vertical-align: top;\n",
              "    }\n",
              "\n",
              "    .dataframe thead th {\n",
              "        text-align: right;\n",
              "    }\n",
              "</style>\n",
              "<table border=\"1\" class=\"dataframe\">\n",
              "  <thead>\n",
              "    <tr style=\"text-align: right;\">\n",
              "      <th></th>\n",
              "      <th>userId</th>\n",
              "      <th>productId</th>\n",
              "      <th>Rating</th>\n",
              "    </tr>\n",
              "  </thead>\n",
              "  <tbody>\n",
              "    <tr>\n",
              "      <th>227983</th>\n",
              "      <td>A17HMM1M7T9PJ1</td>\n",
              "      <td>B00007GQLU</td>\n",
              "      <td>5.0000000</td>\n",
              "    </tr>\n",
              "    <tr>\n",
              "      <th>227685</th>\n",
              "      <td>A1VHCO8RQFIGQJ</td>\n",
              "      <td>B00007GQLU</td>\n",
              "      <td>5.0000000</td>\n",
              "    </tr>\n",
              "    <tr>\n",
              "      <th>227907</th>\n",
              "      <td>A3OA4DV4L81N1D</td>\n",
              "      <td>B00007GQLU</td>\n",
              "      <td>5.0000000</td>\n",
              "    </tr>\n",
              "    <tr>\n",
              "      <th>227909</th>\n",
              "      <td>AAQ9NJ480N9W5</td>\n",
              "      <td>B00007GQLU</td>\n",
              "      <td>4.0000000</td>\n",
              "    </tr>\n",
              "    <tr>\n",
              "      <th>227578</th>\n",
              "      <td>A4WEZJOIZIV4U</td>\n",
              "      <td>B00007GQLU</td>\n",
              "      <td>5.0000000</td>\n",
              "    </tr>\n",
              "  </tbody>\n",
              "</table>\n",
              "</div>"
            ],
            "text/plain": [
              "                userId   productId    Rating\n",
              "227983  A17HMM1M7T9PJ1  B00007GQLU 5.0000000\n",
              "227685  A1VHCO8RQFIGQJ  B00007GQLU 5.0000000\n",
              "227907  A3OA4DV4L81N1D  B00007GQLU 5.0000000\n",
              "227909   AAQ9NJ480N9W5  B00007GQLU 4.0000000\n",
              "227578   A4WEZJOIZIV4U  B00007GQLU 5.0000000"
            ]
          },
          "metadata": {},
          "execution_count": 27
        }
      ]
    },
    {
      "cell_type": "code",
      "metadata": {
        "id": "199celAm7x_8",
        "colab": {
          "base_uri": "https://localhost:8080/"
        },
        "outputId": "8bf59210-6c68-4926-c597-251bd6f111f3"
      },
      "source": [
        "!pip3 install numpy\n",
        "!pip3 install scikit-surprise"
      ],
      "execution_count": 28,
      "outputs": [
        {
          "output_type": "stream",
          "name": "stdout",
          "text": [
            "Requirement already satisfied: numpy in /usr/local/lib/python3.7/dist-packages (1.19.5)\n",
            "Requirement already satisfied: scikit-surprise in /usr/local/lib/python3.7/dist-packages (1.1.1)\n",
            "Requirement already satisfied: scipy>=1.0.0 in /usr/local/lib/python3.7/dist-packages (from scikit-surprise) (1.4.1)\n",
            "Requirement already satisfied: six>=1.10.0 in /usr/local/lib/python3.7/dist-packages (from scikit-surprise) (1.15.0)\n",
            "Requirement already satisfied: numpy>=1.11.2 in /usr/local/lib/python3.7/dist-packages (from scikit-surprise) (1.19.5)\n",
            "Requirement already satisfied: joblib>=0.11 in /usr/local/lib/python3.7/dist-packages (from scikit-surprise) (1.0.1)\n"
          ]
        }
      ]
    },
    {
      "cell_type": "code",
      "metadata": {
        "id": "cwAR5Nrz61bW"
      },
      "source": [
        "from collections import defaultdict\n",
        "from surprise import KNNWithMeans\n",
        "from surprise import SVD, SVDpp\n",
        "from surprise import KNNBaseline\n",
        "from surprise import KNNBasic\n",
        "from surprise import KNNWithZScore\n",
        "from surprise import BaselineOnly\n",
        "from surprise import Dataset\n",
        "from surprise import Reader\n",
        "from surprise import accuracy\n",
        "from surprise.model_selection import train_test_split\n",
        "from surprise.model_selection import cross_validate\n",
        "from surprise.model_selection import KFold\n",
        "from surprise.model_selection import GridSearchCV\n",
        "\n",
        "import time"
      ],
      "execution_count": 29,
      "outputs": []
    },
    {
      "cell_type": "code",
      "metadata": {
        "id": "sJy33egTq8Pv"
      },
      "source": [
        "# Spliting the data randomly into train and test dataset. (Split it in 70/30 ratio)\n",
        "\n",
        "k = 5 \n",
        "#(To Get top - K ( K = 5) recommendations)\n",
        "reader = Reader(rating_scale=(1, 5))\n",
        "surprise_data = Dataset.load_from_df(df2[['userId', 'productId', 'Rating']], reader)\n",
        "trainset, testset = train_test_split(surprise_data, test_size=.30, random_state=7)"
      ],
      "execution_count": 30,
      "outputs": []
    },
    {
      "cell_type": "markdown",
      "metadata": {
        "id": "DHyieHL28TBS"
      },
      "source": [
        "**DATA MODELING**\n",
        "\n",
        "Here we will try two types of Popularity Recommender Models - \n",
        "\n",
        "1) Using Mean Product Rating\n",
        "\n",
        "2) Using Ranking Based Rating"
      ]
    },
    {
      "cell_type": "code",
      "metadata": {
        "id": "7m4dPGSW9Fk5",
        "colab": {
          "base_uri": "https://localhost:8080/"
        },
        "outputId": "1e1b00e4-0595-44e0-dec8-cd5fc99616d2"
      },
      "source": [
        "# 1) Using Mean Product Rating\n",
        "df2.groupby('productId')['Rating'].mean().head()"
      ],
      "execution_count": 31,
      "outputs": [
        {
          "output_type": "execute_result",
          "data": {
            "text/plain": [
              "productId\n",
              "B00004SB92   4.3636364\n",
              "B00004ZCJE   4.3000000\n",
              "B00005LEN4   4.6956522\n",
              "B00005T3G0   4.8181818\n",
              "B00006B7DA   4.2500000\n",
              "Name: Rating, dtype: float64"
            ]
          },
          "metadata": {},
          "execution_count": 31
        }
      ]
    },
    {
      "cell_type": "code",
      "metadata": {
        "id": "FoUOQsYK9F_f",
        "colab": {
          "base_uri": "https://localhost:8080/"
        },
        "outputId": "8324d41f-874a-4ccf-ac60-8734a1ac8e2d"
      },
      "source": [
        "df2.groupby('productId')['Rating'].mean().sort_values(ascending=False).head()"
      ],
      "execution_count": 32,
      "outputs": [
        {
          "output_type": "execute_result",
          "data": {
            "text/plain": [
              "productId\n",
              "B0000BZL1P   5.0000000\n",
              "B001TH7GUU   4.9473684\n",
              "B00017LSPI   4.9333333\n",
              "B0010Z28XG   4.9166667\n",
              "B002WE6D44   4.9130435\n",
              "Name: Rating, dtype: float64"
            ]
          },
          "metadata": {},
          "execution_count": 32
        }
      ]
    },
    {
      "cell_type": "code",
      "metadata": {
        "id": "Y9FduWyd9y2x",
        "colab": {
          "base_uri": "https://localhost:8080/",
          "height": 235
        },
        "outputId": "53511ca4-f145-42af-d6cb-b07853d02da6"
      },
      "source": [
        "prod_rating_count = pd.DataFrame(df2.groupby('productId')['Rating'].mean().sort_values(ascending=False))\n",
        "prod_rating_count['prod_rating_count'] = pd.DataFrame(df2.groupby('productId')['Rating'].count())\n",
        "prod_rating_count.head(k)"
      ],
      "execution_count": 33,
      "outputs": [
        {
          "output_type": "execute_result",
          "data": {
            "text/html": [
              "<div>\n",
              "<style scoped>\n",
              "    .dataframe tbody tr th:only-of-type {\n",
              "        vertical-align: middle;\n",
              "    }\n",
              "\n",
              "    .dataframe tbody tr th {\n",
              "        vertical-align: top;\n",
              "    }\n",
              "\n",
              "    .dataframe thead th {\n",
              "        text-align: right;\n",
              "    }\n",
              "</style>\n",
              "<table border=\"1\" class=\"dataframe\">\n",
              "  <thead>\n",
              "    <tr style=\"text-align: right;\">\n",
              "      <th></th>\n",
              "      <th>Rating</th>\n",
              "      <th>prod_rating_count</th>\n",
              "    </tr>\n",
              "    <tr>\n",
              "      <th>productId</th>\n",
              "      <th></th>\n",
              "      <th></th>\n",
              "    </tr>\n",
              "  </thead>\n",
              "  <tbody>\n",
              "    <tr>\n",
              "      <th>B0000BZL1P</th>\n",
              "      <td>5.0000000</td>\n",
              "      <td>18</td>\n",
              "    </tr>\n",
              "    <tr>\n",
              "      <th>B001TH7GUU</th>\n",
              "      <td>4.9473684</td>\n",
              "      <td>19</td>\n",
              "    </tr>\n",
              "    <tr>\n",
              "      <th>B00017LSPI</th>\n",
              "      <td>4.9333333</td>\n",
              "      <td>15</td>\n",
              "    </tr>\n",
              "    <tr>\n",
              "      <th>B0010Z28XG</th>\n",
              "      <td>4.9166667</td>\n",
              "      <td>12</td>\n",
              "    </tr>\n",
              "    <tr>\n",
              "      <th>B002WE6D44</th>\n",
              "      <td>4.9130435</td>\n",
              "      <td>23</td>\n",
              "    </tr>\n",
              "  </tbody>\n",
              "</table>\n",
              "</div>"
            ],
            "text/plain": [
              "              Rating  prod_rating_count\n",
              "productId                              \n",
              "B0000BZL1P 5.0000000                 18\n",
              "B001TH7GUU 4.9473684                 19\n",
              "B00017LSPI 4.9333333                 15\n",
              "B0010Z28XG 4.9166667                 12\n",
              "B002WE6D44 4.9130435                 23"
            ]
          },
          "metadata": {},
          "execution_count": 33
        }
      ]
    },
    {
      "cell_type": "code",
      "metadata": {
        "id": "TM0PXDAa9zLT",
        "colab": {
          "base_uri": "https://localhost:8080/",
          "height": 235
        },
        "outputId": "117e3d8d-74a0-4da5-fe6c-e017c166e518"
      },
      "source": [
        "basic_poplurity_model = prod_rating_count.sort_values(by=['prod_rating_count'], ascending=False)\n",
        "basic_poplurity_model.head(k)"
      ],
      "execution_count": 34,
      "outputs": [
        {
          "output_type": "execute_result",
          "data": {
            "text/html": [
              "<div>\n",
              "<style scoped>\n",
              "    .dataframe tbody tr th:only-of-type {\n",
              "        vertical-align: middle;\n",
              "    }\n",
              "\n",
              "    .dataframe tbody tr th {\n",
              "        vertical-align: top;\n",
              "    }\n",
              "\n",
              "    .dataframe thead th {\n",
              "        text-align: right;\n",
              "    }\n",
              "</style>\n",
              "<table border=\"1\" class=\"dataframe\">\n",
              "  <thead>\n",
              "    <tr style=\"text-align: right;\">\n",
              "      <th></th>\n",
              "      <th>Rating</th>\n",
              "      <th>prod_rating_count</th>\n",
              "    </tr>\n",
              "    <tr>\n",
              "      <th>productId</th>\n",
              "      <th></th>\n",
              "      <th></th>\n",
              "    </tr>\n",
              "  </thead>\n",
              "  <tbody>\n",
              "    <tr>\n",
              "      <th>B002R5AM7C</th>\n",
              "      <td>4.1428571</td>\n",
              "      <td>42</td>\n",
              "    </tr>\n",
              "    <tr>\n",
              "      <th>B002SQK2F2</th>\n",
              "      <td>3.0303030</td>\n",
              "      <td>33</td>\n",
              "    </tr>\n",
              "    <tr>\n",
              "      <th>B000JMJWV2</th>\n",
              "      <td>4.7187500</td>\n",
              "      <td>32</td>\n",
              "    </tr>\n",
              "    <tr>\n",
              "      <th>B000N99BBC</th>\n",
              "      <td>4.8064516</td>\n",
              "      <td>31</td>\n",
              "    </tr>\n",
              "    <tr>\n",
              "      <th>B00004ZCJE</th>\n",
              "      <td>4.3000000</td>\n",
              "      <td>30</td>\n",
              "    </tr>\n",
              "  </tbody>\n",
              "</table>\n",
              "</div>"
            ],
            "text/plain": [
              "              Rating  prod_rating_count\n",
              "productId                              \n",
              "B002R5AM7C 4.1428571                 42\n",
              "B002SQK2F2 3.0303030                 33\n",
              "B000JMJWV2 4.7187500                 32\n",
              "B000N99BBC 4.8064516                 31\n",
              "B00004ZCJE 4.3000000                 30"
            ]
          },
          "metadata": {},
          "execution_count": 34
        }
      ]
    },
    {
      "cell_type": "markdown",
      "metadata": {
        "id": "wk1gwARf-KgJ"
      },
      "source": [
        "These are the TOP 5 popular products that would be recommended based on Mean Product Rating"
      ]
    },
    {
      "cell_type": "markdown",
      "metadata": {
        "id": "Y23UrgTN-XTB"
      },
      "source": [
        "2) Ranking Based Rating"
      ]
    },
    {
      "cell_type": "code",
      "metadata": {
        "id": "0H1LOLGU9zRR",
        "colab": {
          "base_uri": "https://localhost:8080/",
          "height": 204
        },
        "outputId": "879493d5-13f3-4faa-8eac-2cdb0899b7df"
      },
      "source": [
        "df2_grouped = df2.groupby('productId').agg({'userId': 'count'}).reset_index()\n",
        "df2_grouped.rename(columns = {'userId': 'Score'},inplace=True)\n",
        "df2_grouped.head()"
      ],
      "execution_count": 35,
      "outputs": [
        {
          "output_type": "execute_result",
          "data": {
            "text/html": [
              "<div>\n",
              "<style scoped>\n",
              "    .dataframe tbody tr th:only-of-type {\n",
              "        vertical-align: middle;\n",
              "    }\n",
              "\n",
              "    .dataframe tbody tr th {\n",
              "        vertical-align: top;\n",
              "    }\n",
              "\n",
              "    .dataframe thead th {\n",
              "        text-align: right;\n",
              "    }\n",
              "</style>\n",
              "<table border=\"1\" class=\"dataframe\">\n",
              "  <thead>\n",
              "    <tr style=\"text-align: right;\">\n",
              "      <th></th>\n",
              "      <th>productId</th>\n",
              "      <th>Score</th>\n",
              "    </tr>\n",
              "  </thead>\n",
              "  <tbody>\n",
              "    <tr>\n",
              "      <th>0</th>\n",
              "      <td>B00004SB92</td>\n",
              "      <td>11</td>\n",
              "    </tr>\n",
              "    <tr>\n",
              "      <th>1</th>\n",
              "      <td>B00004ZCJE</td>\n",
              "      <td>30</td>\n",
              "    </tr>\n",
              "    <tr>\n",
              "      <th>2</th>\n",
              "      <td>B00005LEN4</td>\n",
              "      <td>23</td>\n",
              "    </tr>\n",
              "    <tr>\n",
              "      <th>3</th>\n",
              "      <td>B00005T3G0</td>\n",
              "      <td>11</td>\n",
              "    </tr>\n",
              "    <tr>\n",
              "      <th>4</th>\n",
              "      <td>B00006B7DA</td>\n",
              "      <td>12</td>\n",
              "    </tr>\n",
              "  </tbody>\n",
              "</table>\n",
              "</div>"
            ],
            "text/plain": [
              "    productId  Score\n",
              "0  B00004SB92     11\n",
              "1  B00004ZCJE     30\n",
              "2  B00005LEN4     23\n",
              "3  B00005T3G0     11\n",
              "4  B00006B7DA     12"
            ]
          },
          "metadata": {},
          "execution_count": 35
        }
      ]
    },
    {
      "cell_type": "code",
      "metadata": {
        "id": "HgiiaLw-9zaj",
        "colab": {
          "base_uri": "https://localhost:8080/",
          "height": 204
        },
        "outputId": "8ef4adc8-7094-4227-c514-8958e0a016a4"
      },
      "source": [
        "#Sort the products on recommendation score \n",
        "df2_sort = df2_grouped.sort_values(['Score', 'productId'], ascending = [0,1]) \n",
        "      \n",
        "#Generate a product rank based upon score \n",
        "df2_sort['Rank'] = df2_sort['Score'].rank(ascending=0, method='first') \n",
        "          \n",
        "#Get the top 5 recommendations \n",
        "popularity_recommendations = df2_sort.head(k) \n",
        "popularity_recommendations "
      ],
      "execution_count": 36,
      "outputs": [
        {
          "output_type": "execute_result",
          "data": {
            "text/html": [
              "<div>\n",
              "<style scoped>\n",
              "    .dataframe tbody tr th:only-of-type {\n",
              "        vertical-align: middle;\n",
              "    }\n",
              "\n",
              "    .dataframe tbody tr th {\n",
              "        vertical-align: top;\n",
              "    }\n",
              "\n",
              "    .dataframe thead th {\n",
              "        text-align: right;\n",
              "    }\n",
              "</style>\n",
              "<table border=\"1\" class=\"dataframe\">\n",
              "  <thead>\n",
              "    <tr style=\"text-align: right;\">\n",
              "      <th></th>\n",
              "      <th>productId</th>\n",
              "      <th>Score</th>\n",
              "      <th>Rank</th>\n",
              "    </tr>\n",
              "  </thead>\n",
              "  <tbody>\n",
              "    <tr>\n",
              "      <th>106</th>\n",
              "      <td>B002R5AM7C</td>\n",
              "      <td>42</td>\n",
              "      <td>1.0000000</td>\n",
              "    </tr>\n",
              "    <tr>\n",
              "      <th>108</th>\n",
              "      <td>B002SQK2F2</td>\n",
              "      <td>33</td>\n",
              "      <td>2.0000000</td>\n",
              "    </tr>\n",
              "    <tr>\n",
              "      <th>37</th>\n",
              "      <td>B000JMJWV2</td>\n",
              "      <td>32</td>\n",
              "      <td>3.0000000</td>\n",
              "    </tr>\n",
              "    <tr>\n",
              "      <th>44</th>\n",
              "      <td>B000N99BBC</td>\n",
              "      <td>31</td>\n",
              "      <td>4.0000000</td>\n",
              "    </tr>\n",
              "    <tr>\n",
              "      <th>1</th>\n",
              "      <td>B00004ZCJE</td>\n",
              "      <td>30</td>\n",
              "      <td>5.0000000</td>\n",
              "    </tr>\n",
              "  </tbody>\n",
              "</table>\n",
              "</div>"
            ],
            "text/plain": [
              "      productId  Score      Rank\n",
              "106  B002R5AM7C     42 1.0000000\n",
              "108  B002SQK2F2     33 2.0000000\n",
              "37   B000JMJWV2     32 3.0000000\n",
              "44   B000N99BBC     31 4.0000000\n",
              "1    B00004ZCJE     30 5.0000000"
            ]
          },
          "metadata": {},
          "execution_count": 36
        }
      ]
    },
    {
      "cell_type": "markdown",
      "metadata": {
        "id": "6xcsXTOdJPfo"
      },
      "source": [
        "**MODEL DEPLOYMENT AND EVALUATION**"
      ]
    },
    {
      "cell_type": "code",
      "metadata": {
        "id": "OaqXUHaN9zio"
      },
      "source": [
        "# Using popularity based recommender model to make predictions and find recommendations for random list of users with inferences\n",
        "\n",
        "import warnings\n",
        "warnings.filterwarnings('ignore')\n",
        "def recommend(userId):     \n",
        "    user_recommendations = popularity_recommendations \n",
        "          \n",
        "    #Adding user_id column for which the recommendations are being generated \n",
        "    user_recommendations['userID'] = userId \n",
        "      \n",
        "    #Bringing user_id column to the front \n",
        "    cols = user_recommendations.columns.tolist() \n",
        "    cols = cols[-1:] + cols[:-1] \n",
        "    user_recommendations = user_recommendations[cols] \n",
        "          \n",
        "    return user_recommendations "
      ],
      "execution_count": 37,
      "outputs": []
    },
    {
      "cell_type": "code",
      "metadata": {
        "id": "tsk0bDvf9zos",
        "colab": {
          "base_uri": "https://localhost:8080/"
        },
        "outputId": "7fd2aadd-15bc-495e-c300-5eae03424f2c"
      },
      "source": [
        "find_recom = [15,121,55,230,477]   # This list is user choice.\n",
        "for i in find_recom:\n",
        "    print(\"Here is the recommendation for the userId: %d\\n\" %(i))\n",
        "    print(recommend(i))    \n",
        "    print(\"\\n\") "
      ],
      "execution_count": 38,
      "outputs": [
        {
          "output_type": "stream",
          "name": "stdout",
          "text": [
            "Here is the recommendation for the userId: 15\n",
            "\n",
            "     userID   productId  Score      Rank\n",
            "106      15  B002R5AM7C     42 1.0000000\n",
            "108      15  B002SQK2F2     33 2.0000000\n",
            "37       15  B000JMJWV2     32 3.0000000\n",
            "44       15  B000N99BBC     31 4.0000000\n",
            "1        15  B00004ZCJE     30 5.0000000\n",
            "\n",
            "\n",
            "Here is the recommendation for the userId: 121\n",
            "\n",
            "     userID   productId  Score      Rank\n",
            "106     121  B002R5AM7C     42 1.0000000\n",
            "108     121  B002SQK2F2     33 2.0000000\n",
            "37      121  B000JMJWV2     32 3.0000000\n",
            "44      121  B000N99BBC     31 4.0000000\n",
            "1       121  B00004ZCJE     30 5.0000000\n",
            "\n",
            "\n",
            "Here is the recommendation for the userId: 55\n",
            "\n",
            "     userID   productId  Score      Rank\n",
            "106      55  B002R5AM7C     42 1.0000000\n",
            "108      55  B002SQK2F2     33 2.0000000\n",
            "37       55  B000JMJWV2     32 3.0000000\n",
            "44       55  B000N99BBC     31 4.0000000\n",
            "1        55  B00004ZCJE     30 5.0000000\n",
            "\n",
            "\n",
            "Here is the recommendation for the userId: 230\n",
            "\n",
            "     userID   productId  Score      Rank\n",
            "106     230  B002R5AM7C     42 1.0000000\n",
            "108     230  B002SQK2F2     33 2.0000000\n",
            "37      230  B000JMJWV2     32 3.0000000\n",
            "44      230  B000N99BBC     31 4.0000000\n",
            "1       230  B00004ZCJE     30 5.0000000\n",
            "\n",
            "\n",
            "Here is the recommendation for the userId: 477\n",
            "\n",
            "     userID   productId  Score      Rank\n",
            "106     477  B002R5AM7C     42 1.0000000\n",
            "108     477  B002SQK2F2     33 2.0000000\n",
            "37      477  B000JMJWV2     32 3.0000000\n",
            "44      477  B000N99BBC     31 4.0000000\n",
            "1       477  B00004ZCJE     30 5.0000000\n",
            "\n",
            "\n"
          ]
        }
      ]
    },
    {
      "cell_type": "code",
      "metadata": {
        "id": "bBhhKcWkg-CG"
      },
      "source": [
        "import pickle\n",
        "pickle.dump(popularity_recommendations ,open('mostpopular.pkl','wb'))"
      ],
      "execution_count": 39,
      "outputs": []
    },
    {
      "cell_type": "markdown",
      "metadata": {
        "id": "qNfXgiPgHijA"
      },
      "source": [
        "**NOTE:**\n",
        "\n",
        "Since this is a popularity-based recommender model, recommendations remain the same for all users. We predict the products based on the popularity. It is not personalized to the user."
      ]
    },
    {
      "cell_type": "markdown",
      "metadata": {
        "id": "gw5URhGlKEFS"
      },
      "source": [
        "**COLLABORATIVE FILTER MODELLING**\n",
        "\n",
        "We will use the SVD and KNN based modeling to find the closest product to the chosen product and also closest User Profile to the current User Profile\n"
      ]
    },
    {
      "cell_type": "markdown",
      "metadata": {
        "id": "KbgZRy48Sa7M"
      },
      "source": [
        "**SVD**"
      ]
    },
    {
      "cell_type": "code",
      "metadata": {
        "id": "E0pjhw45SfAz",
        "colab": {
          "base_uri": "https://localhost:8080/",
          "height": 304
        },
        "outputId": "15ee3cd8-73c1-4b33-c9e4-b5e695a4b9e4"
      },
      "source": [
        "# Creating Model using best parameters\n",
        "svd_model = SVD(n_epochs=20, lr_all=0.005, reg_all=0.2)\n",
        "\n",
        "# Training the algorithm on the trainset\n",
        "svd_model.fit(trainset)\n",
        "\n",
        "\n",
        "# Predicting for test set\n",
        "predictions_svd = svd_model.test(testset)\n",
        "\n",
        "# Evaluating RMSE, MAE of algorithm SVD on 5 split(s) by cross validation\n",
        "svd_cv = cross_validate(svd_model, surprise_data, measures=['RMSE', 'MAE'], cv=5, verbose=True)\n",
        "\n",
        "# Storing Crossvalidation Results in dataframe\n",
        "svd_df = pd.DataFrame.from_dict(svd_cv)\n",
        "svd_described = svd_df.describe()\n",
        "cv_results = pd.DataFrame([['SVD', svd_described['test_rmse']['mean'], svd_described['test_mae']['mean'], \n",
        "                           svd_described['fit_time']['mean'], svd_described['test_time']['mean']]],\n",
        "                            columns = ['Model', 'RMSE', 'MAE', 'Fit Time', 'Test Time'])\n",
        "# get RMSE\n",
        "print(\"\\n\\n==================== Model Evaluation ===============================\")\n",
        "accuracy.rmse(predictions_svd, verbose=True)\n",
        "print(\"=====================================================================\")\n",
        "cv_results"
      ],
      "execution_count": 40,
      "outputs": [
        {
          "output_type": "execute_result",
          "data": {
            "text/plain": [
              "<surprise.prediction_algorithms.matrix_factorization.SVD at 0x7f495f637590>"
            ]
          },
          "metadata": {},
          "execution_count": 40
        },
        {
          "output_type": "stream",
          "name": "stdout",
          "text": [
            "Evaluating RMSE, MAE of algorithm SVD on 5 split(s).\n",
            "\n",
            "                  Fold 1  Fold 2  Fold 3  Fold 4  Fold 5  Mean    Std     \n",
            "RMSE (testset)    0.8880  0.8120  0.9444  0.8320  0.8530  0.8659  0.0466  \n",
            "MAE (testset)     0.6503  0.6178  0.6881  0.6065  0.6366  0.6399  0.0285  \n",
            "Fit time          0.08    0.09    0.08    0.08    0.08    0.08    0.00    \n",
            "Test time         0.01    0.00    0.00    0.00    0.00    0.00    0.00    \n",
            "\n",
            "\n",
            "==================== Model Evaluation ===============================\n",
            "RMSE: 0.8210\n"
          ]
        },
        {
          "output_type": "execute_result",
          "data": {
            "text/plain": [
              "0.8210317091396195"
            ]
          },
          "metadata": {},
          "execution_count": 40
        },
        {
          "output_type": "stream",
          "name": "stdout",
          "text": [
            "=====================================================================\n"
          ]
        },
        {
          "output_type": "execute_result",
          "data": {
            "text/html": [
              "<div>\n",
              "<style scoped>\n",
              "    .dataframe tbody tr th:only-of-type {\n",
              "        vertical-align: middle;\n",
              "    }\n",
              "\n",
              "    .dataframe tbody tr th {\n",
              "        vertical-align: top;\n",
              "    }\n",
              "\n",
              "    .dataframe thead th {\n",
              "        text-align: right;\n",
              "    }\n",
              "</style>\n",
              "<table border=\"1\" class=\"dataframe\">\n",
              "  <thead>\n",
              "    <tr style=\"text-align: right;\">\n",
              "      <th></th>\n",
              "      <th>Model</th>\n",
              "      <th>RMSE</th>\n",
              "      <th>MAE</th>\n",
              "      <th>Fit Time</th>\n",
              "      <th>Test Time</th>\n",
              "    </tr>\n",
              "  </thead>\n",
              "  <tbody>\n",
              "    <tr>\n",
              "      <th>0</th>\n",
              "      <td>SVD</td>\n",
              "      <td>0.8658590</td>\n",
              "      <td>0.6398626</td>\n",
              "      <td>0.0800443</td>\n",
              "      <td>0.0040442</td>\n",
              "    </tr>\n",
              "  </tbody>\n",
              "</table>\n",
              "</div>"
            ],
            "text/plain": [
              "  Model      RMSE       MAE  Fit Time  Test Time\n",
              "0   SVD 0.8658590 0.6398626 0.0800443  0.0040442"
            ]
          },
          "metadata": {},
          "execution_count": 40
        }
      ]
    },
    {
      "cell_type": "markdown",
      "metadata": {
        "id": "LDXaIcHXS_vs"
      },
      "source": [
        "**Comment:** Here we can see that the RMSE of testset and complete dataset found from cross_validation is almost same and it seems like our model is performing well on trainset and testset."
      ]
    },
    {
      "cell_type": "markdown",
      "metadata": {
        "id": "bLYX-c1bTE9W"
      },
      "source": [
        "**SVD++**"
      ]
    },
    {
      "cell_type": "code",
      "metadata": {
        "id": "nbFjLXlPTTlp",
        "colab": {
          "base_uri": "https://localhost:8080/",
          "height": 335
        },
        "outputId": "72e013e5-303e-47e1-8aea-b0a81356d0c8"
      },
      "source": [
        "# Creating Model using best parameters\n",
        "svdpp_model = SVDpp(n_epochs=25, lr_all=0.01, reg_all=0.4)\n",
        "\n",
        "# Training the algorithm on the trainset\n",
        "svdpp_model.fit(trainset)\n",
        "\n",
        "\n",
        "# Predicting for test set\n",
        "predictions_svdpp = svdpp_model.test(testset)\n",
        "\n",
        "# Evaluating RMSE, MAE of algorithm SVDpp on 5 split(s) by cross validation\n",
        "svdpp_cv = cross_validate(svdpp_model, surprise_data, measures=['RMSE', 'MAE'], cv=5, verbose=True)\n",
        "\n",
        "# Storing Crossvalidation Results in dataframe\n",
        "svdpp_df = pd.DataFrame.from_dict(svdpp_cv)\n",
        "svdpp_described = svdpp_df.describe()\n",
        "svdpp_cv_results = pd.DataFrame([['SVD++', svdpp_described['test_rmse']['mean'], svdpp_described['test_mae']['mean'], \n",
        "                           svdpp_described['fit_time']['mean'], svdpp_described['test_time']['mean']]],\n",
        "                            columns = ['Model', 'RMSE', 'MAE', 'Fit Time', 'Test Time'])\n",
        "\n",
        "cv_results = cv_results.append(svdpp_cv_results, ignore_index=True)\n",
        "# get RMSE\n",
        "print(\"\\n\\n==================== Model Evaluation ===============================\")\n",
        "accuracy.rmse(predictions_svdpp, verbose=True)\n",
        "print(\"=====================================================================\")\n",
        "cv_results"
      ],
      "execution_count": 41,
      "outputs": [
        {
          "output_type": "execute_result",
          "data": {
            "text/plain": [
              "<surprise.prediction_algorithms.matrix_factorization.SVDpp at 0x7f495f5c34d0>"
            ]
          },
          "metadata": {},
          "execution_count": 41
        },
        {
          "output_type": "stream",
          "name": "stdout",
          "text": [
            "Evaluating RMSE, MAE of algorithm SVDpp on 5 split(s).\n",
            "\n",
            "                  Fold 1  Fold 2  Fold 3  Fold 4  Fold 5  Mean    Std     \n",
            "RMSE (testset)    0.8564  0.7631  0.9198  0.8776  0.8614  0.8557  0.0514  \n",
            "MAE (testset)     0.6499  0.5738  0.6492  0.6288  0.6201  0.6244  0.0278  \n",
            "Fit time          0.36    0.33    0.34    0.33    0.32    0.34    0.01    \n",
            "Test time         0.01    0.01    0.01    0.01    0.01    0.01    0.00    \n",
            "\n",
            "\n",
            "==================== Model Evaluation ===============================\n",
            "RMSE: 0.8153\n"
          ]
        },
        {
          "output_type": "execute_result",
          "data": {
            "text/plain": [
              "0.815331551649719"
            ]
          },
          "metadata": {},
          "execution_count": 41
        },
        {
          "output_type": "stream",
          "name": "stdout",
          "text": [
            "=====================================================================\n"
          ]
        },
        {
          "output_type": "execute_result",
          "data": {
            "text/html": [
              "<div>\n",
              "<style scoped>\n",
              "    .dataframe tbody tr th:only-of-type {\n",
              "        vertical-align: middle;\n",
              "    }\n",
              "\n",
              "    .dataframe tbody tr th {\n",
              "        vertical-align: top;\n",
              "    }\n",
              "\n",
              "    .dataframe thead th {\n",
              "        text-align: right;\n",
              "    }\n",
              "</style>\n",
              "<table border=\"1\" class=\"dataframe\">\n",
              "  <thead>\n",
              "    <tr style=\"text-align: right;\">\n",
              "      <th></th>\n",
              "      <th>Model</th>\n",
              "      <th>RMSE</th>\n",
              "      <th>MAE</th>\n",
              "      <th>Fit Time</th>\n",
              "      <th>Test Time</th>\n",
              "    </tr>\n",
              "  </thead>\n",
              "  <tbody>\n",
              "    <tr>\n",
              "      <th>0</th>\n",
              "      <td>SVD</td>\n",
              "      <td>0.8658590</td>\n",
              "      <td>0.6398626</td>\n",
              "      <td>0.0800443</td>\n",
              "      <td>0.0040442</td>\n",
              "    </tr>\n",
              "    <tr>\n",
              "      <th>1</th>\n",
              "      <td>SVD++</td>\n",
              "      <td>0.8556603</td>\n",
              "      <td>0.6243647</td>\n",
              "      <td>0.3361405</td>\n",
              "      <td>0.0074244</td>\n",
              "    </tr>\n",
              "  </tbody>\n",
              "</table>\n",
              "</div>"
            ],
            "text/plain": [
              "   Model      RMSE       MAE  Fit Time  Test Time\n",
              "0    SVD 0.8658590 0.6398626 0.0800443  0.0040442\n",
              "1  SVD++ 0.8556603 0.6243647 0.3361405  0.0074244"
            ]
          },
          "metadata": {},
          "execution_count": 41
        }
      ]
    },
    {
      "cell_type": "markdown",
      "metadata": {
        "id": "axMvqYEjLtH-"
      },
      "source": [
        "**KNN BASIC**"
      ]
    },
    {
      "cell_type": "code",
      "metadata": {
        "id": "6QHB7xHqLxTf",
        "colab": {
          "base_uri": "https://localhost:8080/"
        },
        "outputId": "25eeba0e-6f0f-41bf-f490-36fc4e4106ca"
      },
      "source": [
        "knn_param_grid = {'bsl_options': {'method': ['als', 'sgd'],\n",
        "                              'reg': [1, 2]},\n",
        "              'k': [15, 20, 25, 30, 40, 50, 60],\n",
        "              'sim_options': {'name': ['msd', 'cosine', 'pearson_baseline']}\n",
        "              }\n",
        "\n",
        "knnbasic_gs = GridSearchCV(KNNBasic, knn_param_grid, measures=['rmse', 'mae'], cv=5, n_jobs=5)\n",
        "knnmeans_gs = GridSearchCV(KNNWithMeans, knn_param_grid, measures=['rmse', 'mae'], cv=5, n_jobs=5)\n",
        "knnz_gs     = GridSearchCV(KNNWithZScore, knn_param_grid, measures=['rmse', 'mae'], cv=5, n_jobs=5)\n",
        "\n",
        "\n",
        "knnbasic_gs.fit(surprise_data)\n",
        "knnmeans_gs.fit(surprise_data)\n",
        "knnz_gs.fit(surprise_data)\n",
        "\n",
        "# best RMSE score\n",
        "print(knnbasic_gs.best_score['rmse'])\n",
        "print(knnmeans_gs.best_score['rmse'])\n",
        "print(knnz_gs.best_score['rmse'])\n",
        "\n",
        "# combination of parameters that gave the best RMSE score\n",
        "print(knnbasic_gs.best_params['rmse'])\n",
        "print(knnmeans_gs.best_params['rmse'])\n",
        "print(knnz_gs.best_params['rmse'])\n",
        "\n"
      ],
      "execution_count": 42,
      "outputs": [
        {
          "output_type": "stream",
          "name": "stdout",
          "text": [
            "0.9467501900351591\n",
            "0.9637944723423129\n",
            "0.9579017032577207\n",
            "{'bsl_options': {'method': 'als', 'reg': 1}, 'k': 25, 'sim_options': {'name': 'cosine', 'user_based': True}}\n",
            "{'bsl_options': {'method': 'als', 'reg': 1}, 'k': 20, 'sim_options': {'name': 'cosine', 'user_based': True}}\n",
            "{'bsl_options': {'method': 'als', 'reg': 1}, 'k': 15, 'sim_options': {'name': 'cosine', 'user_based': True}}\n"
          ]
        }
      ]
    },
    {
      "cell_type": "code",
      "metadata": {
        "id": "YVP7nggCLxaH",
        "colab": {
          "base_uri": "https://localhost:8080/",
          "height": 570
        },
        "outputId": "6646286e-35a6-47a7-f076-52123c7f01b1"
      },
      "source": [
        "# Creating Model using best parameters\n",
        "knnBasic_model = KNNBasic(k=50, sim_options={'name': 'cosine', 'user_based': False})\n",
        "\n",
        "# Training the algorithm on the trainset\n",
        "knnBasic_model.fit(trainset)\n",
        "\n",
        "# Predicting for test set\n",
        "prediction_knnBasic = knnBasic_model.test(testset)\n",
        "\n",
        "# Evaluating RMSE, MAE of algorithm KNNBasic on 5 split(s)\n",
        "knnBasic_cv = cross_validate(knnBasic_model, surprise_data, measures=['RMSE', 'MAE'], cv=5, verbose=True)\n",
        "\n",
        "# Storing Crossvalidation Results in dataframe\n",
        "knnBasic_df = pd.DataFrame.from_dict(knnBasic_cv)\n",
        "knnBasic_described = knnBasic_df.describe()\n",
        "knnBasic_cv_results = pd.DataFrame([['KNNBasic', knnBasic_described['test_rmse']['mean'], knnBasic_described['test_mae']['mean'], knnBasic_described['fit_time']['mean'], knnBasic_described['test_time']['mean']]],\n",
        "columns = ['Model', 'RMSE', 'MAE', 'Fit Time', 'Test Time'])\n",
        "cv_results = cv_results.append(knnBasic_cv_results, ignore_index=True)\n",
        "\n",
        "# get RMSE\n",
        "print(\"\\n\\n==================== Model Evaluation ===============================\")\n",
        "accuracy.rmse(prediction_knnBasic, verbose=True)\n",
        "print(\"=====================================================================\")\n",
        "cv_results\n"
      ],
      "execution_count": 43,
      "outputs": [
        {
          "output_type": "stream",
          "name": "stdout",
          "text": [
            "Computing the cosine similarity matrix...\n",
            "Done computing similarity matrix.\n"
          ]
        },
        {
          "output_type": "execute_result",
          "data": {
            "text/plain": [
              "<surprise.prediction_algorithms.knns.KNNBasic at 0x7f495f372590>"
            ]
          },
          "metadata": {},
          "execution_count": 43
        },
        {
          "output_type": "stream",
          "name": "stdout",
          "text": [
            "Computing the cosine similarity matrix...\n",
            "Done computing similarity matrix.\n",
            "Computing the cosine similarity matrix...\n",
            "Done computing similarity matrix.\n",
            "Computing the cosine similarity matrix...\n",
            "Done computing similarity matrix.\n",
            "Computing the cosine similarity matrix...\n",
            "Done computing similarity matrix.\n",
            "Computing the cosine similarity matrix...\n",
            "Done computing similarity matrix.\n",
            "Evaluating RMSE, MAE of algorithm KNNBasic on 5 split(s).\n",
            "\n",
            "                  Fold 1  Fold 2  Fold 3  Fold 4  Fold 5  Mean    Std     \n",
            "RMSE (testset)    0.9566  0.9471  0.9921  1.0177  0.9630  0.9753  0.0260  \n",
            "MAE (testset)     0.6566  0.6240  0.6778  0.6736  0.6502  0.6564  0.0192  \n",
            "Fit time          0.00    0.00    0.00    0.00    0.00    0.00    0.00    \n",
            "Test time         0.01    0.01    0.01    0.01    0.01    0.01    0.00    \n",
            "\n",
            "\n",
            "==================== Model Evaluation ===============================\n",
            "RMSE: 1.0119\n"
          ]
        },
        {
          "output_type": "execute_result",
          "data": {
            "text/plain": [
              "1.0119168692862568"
            ]
          },
          "metadata": {},
          "execution_count": 43
        },
        {
          "output_type": "stream",
          "name": "stdout",
          "text": [
            "=====================================================================\n"
          ]
        },
        {
          "output_type": "execute_result",
          "data": {
            "text/html": [
              "<div>\n",
              "<style scoped>\n",
              "    .dataframe tbody tr th:only-of-type {\n",
              "        vertical-align: middle;\n",
              "    }\n",
              "\n",
              "    .dataframe tbody tr th {\n",
              "        vertical-align: top;\n",
              "    }\n",
              "\n",
              "    .dataframe thead th {\n",
              "        text-align: right;\n",
              "    }\n",
              "</style>\n",
              "<table border=\"1\" class=\"dataframe\">\n",
              "  <thead>\n",
              "    <tr style=\"text-align: right;\">\n",
              "      <th></th>\n",
              "      <th>Model</th>\n",
              "      <th>RMSE</th>\n",
              "      <th>MAE</th>\n",
              "      <th>Fit Time</th>\n",
              "      <th>Test Time</th>\n",
              "    </tr>\n",
              "  </thead>\n",
              "  <tbody>\n",
              "    <tr>\n",
              "      <th>0</th>\n",
              "      <td>SVD</td>\n",
              "      <td>0.8658590</td>\n",
              "      <td>0.6398626</td>\n",
              "      <td>0.0800443</td>\n",
              "      <td>0.0040442</td>\n",
              "    </tr>\n",
              "    <tr>\n",
              "      <th>1</th>\n",
              "      <td>SVD++</td>\n",
              "      <td>0.8556603</td>\n",
              "      <td>0.6243647</td>\n",
              "      <td>0.3361405</td>\n",
              "      <td>0.0074244</td>\n",
              "    </tr>\n",
              "    <tr>\n",
              "      <th>2</th>\n",
              "      <td>KNNBasic</td>\n",
              "      <td>0.9753044</td>\n",
              "      <td>0.6564173</td>\n",
              "      <td>0.0047192</td>\n",
              "      <td>0.0056342</td>\n",
              "    </tr>\n",
              "  </tbody>\n",
              "</table>\n",
              "</div>"
            ],
            "text/plain": [
              "      Model      RMSE       MAE  Fit Time  Test Time\n",
              "0       SVD 0.8658590 0.6398626 0.0800443  0.0040442\n",
              "1     SVD++ 0.8556603 0.6243647 0.3361405  0.0074244\n",
              "2  KNNBasic 0.9753044 0.6564173 0.0047192  0.0056342"
            ]
          },
          "metadata": {},
          "execution_count": 43
        }
      ]
    },
    {
      "cell_type": "markdown",
      "metadata": {
        "id": "Fn_kzijQQfn1"
      },
      "source": [
        "**KNNWithZScore**"
      ]
    },
    {
      "cell_type": "code",
      "metadata": {
        "id": "T-yYX0QiLxf3",
        "colab": {
          "base_uri": "https://localhost:8080/",
          "height": 601
        },
        "outputId": "bf626769-0fe9-4b15-a418-501dc6180908"
      },
      "source": [
        "# Creating Model using best parameters\n",
        "knnZscore_model = KNNWithZScore(k=60, sim_options={'name': 'cosine', 'user_based': False})\n",
        "\n",
        "# Training the algorithm on the trainset\n",
        "knnZscore_model.fit(trainset)\n",
        "\n",
        "# Predicting for testset\n",
        "prediction_knnZscore = knnZscore_model.test(testset)\n",
        "\n",
        "# Evaluating RMSE, MAE of algorithm KNNWithZScore on 5 split(s)\n",
        "knnZscore_cv = cross_validate(knnZscore_model, surprise_data, measures=['RMSE', 'MAE'], cv=5, verbose=True)\n",
        "\n",
        "# Storing Crossvalidation Results in dataframe\n",
        "knnZscore_df = pd.DataFrame.from_dict(knnZscore_cv)\n",
        "knnZscore_described = knnZscore_df.describe()\n",
        "knnZscore_cv_results = pd.DataFrame([['KNNWithZScore', knnZscore_described['test_rmse']['mean'], knnZscore_described['test_mae']['mean'], \n",
        "                           knnZscore_described['fit_time']['mean'], knnZscore_described['test_time']['mean']]],\n",
        "                            columns = ['Model', 'RMSE', 'MAE', 'Fit Time', 'Test Time'])\n",
        "\n",
        "cv_results = cv_results.append(knnZscore_cv_results, ignore_index=True)\n",
        "# get RMSE\n",
        "print(\"\\n\\n==================== Model Evaluation ===============================\")\n",
        "accuracy.rmse(prediction_knnZscore, verbose=True)\n",
        "print(\"=====================================================================\")\n",
        "cv_results"
      ],
      "execution_count": 44,
      "outputs": [
        {
          "output_type": "stream",
          "name": "stdout",
          "text": [
            "Computing the cosine similarity matrix...\n",
            "Done computing similarity matrix.\n"
          ]
        },
        {
          "output_type": "execute_result",
          "data": {
            "text/plain": [
              "<surprise.prediction_algorithms.knns.KNNWithZScore at 0x7f495f32e5d0>"
            ]
          },
          "metadata": {},
          "execution_count": 44
        },
        {
          "output_type": "stream",
          "name": "stdout",
          "text": [
            "Computing the cosine similarity matrix...\n",
            "Done computing similarity matrix.\n",
            "Computing the cosine similarity matrix...\n",
            "Done computing similarity matrix.\n",
            "Computing the cosine similarity matrix...\n",
            "Done computing similarity matrix.\n",
            "Computing the cosine similarity matrix...\n",
            "Done computing similarity matrix.\n",
            "Computing the cosine similarity matrix...\n",
            "Done computing similarity matrix.\n",
            "Evaluating RMSE, MAE of algorithm KNNWithZScore on 5 split(s).\n",
            "\n",
            "                  Fold 1  Fold 2  Fold 3  Fold 4  Fold 5  Mean    Std     \n",
            "RMSE (testset)    0.9449  0.8978  0.8856  1.0335  0.8812  0.9286  0.0571  \n",
            "MAE (testset)     0.6543  0.5908  0.6149  0.6775  0.5935  0.6262  0.0343  \n",
            "Fit time          0.01    0.02    0.01    0.01    0.01    0.01    0.00    \n",
            "Test time         0.01    0.01    0.01    0.01    0.01    0.01    0.00    \n",
            "\n",
            "\n",
            "==================== Model Evaluation ===============================\n",
            "RMSE: 0.9617\n"
          ]
        },
        {
          "output_type": "execute_result",
          "data": {
            "text/plain": [
              "0.9617047967586995"
            ]
          },
          "metadata": {},
          "execution_count": 44
        },
        {
          "output_type": "stream",
          "name": "stdout",
          "text": [
            "=====================================================================\n"
          ]
        },
        {
          "output_type": "execute_result",
          "data": {
            "text/html": [
              "<div>\n",
              "<style scoped>\n",
              "    .dataframe tbody tr th:only-of-type {\n",
              "        vertical-align: middle;\n",
              "    }\n",
              "\n",
              "    .dataframe tbody tr th {\n",
              "        vertical-align: top;\n",
              "    }\n",
              "\n",
              "    .dataframe thead th {\n",
              "        text-align: right;\n",
              "    }\n",
              "</style>\n",
              "<table border=\"1\" class=\"dataframe\">\n",
              "  <thead>\n",
              "    <tr style=\"text-align: right;\">\n",
              "      <th></th>\n",
              "      <th>Model</th>\n",
              "      <th>RMSE</th>\n",
              "      <th>MAE</th>\n",
              "      <th>Fit Time</th>\n",
              "      <th>Test Time</th>\n",
              "    </tr>\n",
              "  </thead>\n",
              "  <tbody>\n",
              "    <tr>\n",
              "      <th>0</th>\n",
              "      <td>SVD</td>\n",
              "      <td>0.8658590</td>\n",
              "      <td>0.6398626</td>\n",
              "      <td>0.0800443</td>\n",
              "      <td>0.0040442</td>\n",
              "    </tr>\n",
              "    <tr>\n",
              "      <th>1</th>\n",
              "      <td>SVD++</td>\n",
              "      <td>0.8556603</td>\n",
              "      <td>0.6243647</td>\n",
              "      <td>0.3361405</td>\n",
              "      <td>0.0074244</td>\n",
              "    </tr>\n",
              "    <tr>\n",
              "      <th>2</th>\n",
              "      <td>KNNBasic</td>\n",
              "      <td>0.9753044</td>\n",
              "      <td>0.6564173</td>\n",
              "      <td>0.0047192</td>\n",
              "      <td>0.0056342</td>\n",
              "    </tr>\n",
              "    <tr>\n",
              "      <th>3</th>\n",
              "      <td>KNNWithZScore</td>\n",
              "      <td>0.9286006</td>\n",
              "      <td>0.6261830</td>\n",
              "      <td>0.0129176</td>\n",
              "      <td>0.0074487</td>\n",
              "    </tr>\n",
              "  </tbody>\n",
              "</table>\n",
              "</div>"
            ],
            "text/plain": [
              "           Model      RMSE       MAE  Fit Time  Test Time\n",
              "0            SVD 0.8658590 0.6398626 0.0800443  0.0040442\n",
              "1          SVD++ 0.8556603 0.6243647 0.3361405  0.0074244\n",
              "2       KNNBasic 0.9753044 0.6564173 0.0047192  0.0056342\n",
              "3  KNNWithZScore 0.9286006 0.6261830 0.0129176  0.0074487"
            ]
          },
          "metadata": {},
          "execution_count": 44
        }
      ]
    },
    {
      "cell_type": "markdown",
      "metadata": {
        "id": "oNArtAJWQ7gw"
      },
      "source": [
        "**KNNWithMeans User-User**"
      ]
    },
    {
      "cell_type": "code",
      "metadata": {
        "id": "XJY2S2vDLxkw",
        "colab": {
          "base_uri": "https://localhost:8080/",
          "height": 632
        },
        "outputId": "4c7d648f-023b-4db5-c305-0db8a3442245"
      },
      "source": [
        "# Creating Model using best parameters\n",
        "knnMeansUU_model = KNNWithMeans(k=60, sim_options={'name': 'cosine', 'user_based': True})\n",
        "\n",
        "# Training the algorithm on the trainset\n",
        "knnMeansUU_model.fit(trainset)\n",
        "\n",
        "# Predicting for testset\n",
        "prediction_knnMeansUU = knnMeansUU_model.test(testset)\n",
        "\n",
        "# Evaluating RMSE, MAE of algorithm KNNWithMeans User-User on 5 split(s)\n",
        "knnMeansUU_cv = cross_validate(knnMeansUU_model, surprise_data, measures=['RMSE', 'MAE'], cv=5, verbose=True)\n",
        "\n",
        "# Storing Crossvalidation Results in dataframe\n",
        "knnMeansUU_df = pd.DataFrame.from_dict(knnMeansUU_cv)\n",
        "knnMeansUU_described = knnMeansUU_df.describe()\n",
        "knnMeansUU_cv_results = pd.DataFrame([['KNNWithMeans User-User', knnMeansUU_described['test_rmse']['mean'], knnMeansUU_described['test_mae']['mean'], \n",
        "                           knnMeansUU_described['fit_time']['mean'], knnMeansUU_described['test_time']['mean']]],\n",
        "                            columns = ['Model', 'RMSE', 'MAE', 'Fit Time', 'Test Time'])\n",
        "\n",
        "cv_results = cv_results.append(knnMeansUU_cv_results, ignore_index=True)\n",
        "# get RMSE\n",
        "print(\"\\n\\n==================== Model Evaluation ===============================\")\n",
        "accuracy.rmse(prediction_knnMeansUU, verbose=True)\n",
        "print(\"=====================================================================\")\n",
        "cv_results"
      ],
      "execution_count": 45,
      "outputs": [
        {
          "output_type": "stream",
          "name": "stdout",
          "text": [
            "Computing the cosine similarity matrix...\n",
            "Done computing similarity matrix.\n"
          ]
        },
        {
          "output_type": "execute_result",
          "data": {
            "text/plain": [
              "<surprise.prediction_algorithms.knns.KNNWithMeans at 0x7f495f2cd150>"
            ]
          },
          "metadata": {},
          "execution_count": 45
        },
        {
          "output_type": "stream",
          "name": "stdout",
          "text": [
            "Computing the cosine similarity matrix...\n",
            "Done computing similarity matrix.\n",
            "Computing the cosine similarity matrix...\n",
            "Done computing similarity matrix.\n",
            "Computing the cosine similarity matrix...\n",
            "Done computing similarity matrix.\n",
            "Computing the cosine similarity matrix...\n",
            "Done computing similarity matrix.\n",
            "Computing the cosine similarity matrix...\n",
            "Done computing similarity matrix.\n",
            "Evaluating RMSE, MAE of algorithm KNNWithMeans on 5 split(s).\n",
            "\n",
            "                  Fold 1  Fold 2  Fold 3  Fold 4  Fold 5  Mean    Std     \n",
            "RMSE (testset)    1.0126  0.9324  1.0148  1.0178  1.0739  1.0103  0.0452  \n",
            "MAE (testset)     0.6529  0.6568  0.6698  0.7032  0.7176  0.6801  0.0258  \n",
            "Fit time          0.02    0.02    0.01    0.01    0.01    0.02    0.00    \n",
            "Test time         0.01    0.01    0.01    0.01    0.01    0.01    0.00    \n",
            "\n",
            "\n",
            "==================== Model Evaluation ===============================\n",
            "RMSE: 0.9262\n"
          ]
        },
        {
          "output_type": "execute_result",
          "data": {
            "text/plain": [
              "0.9262069504005537"
            ]
          },
          "metadata": {},
          "execution_count": 45
        },
        {
          "output_type": "stream",
          "name": "stdout",
          "text": [
            "=====================================================================\n"
          ]
        },
        {
          "output_type": "execute_result",
          "data": {
            "text/html": [
              "<div>\n",
              "<style scoped>\n",
              "    .dataframe tbody tr th:only-of-type {\n",
              "        vertical-align: middle;\n",
              "    }\n",
              "\n",
              "    .dataframe tbody tr th {\n",
              "        vertical-align: top;\n",
              "    }\n",
              "\n",
              "    .dataframe thead th {\n",
              "        text-align: right;\n",
              "    }\n",
              "</style>\n",
              "<table border=\"1\" class=\"dataframe\">\n",
              "  <thead>\n",
              "    <tr style=\"text-align: right;\">\n",
              "      <th></th>\n",
              "      <th>Model</th>\n",
              "      <th>RMSE</th>\n",
              "      <th>MAE</th>\n",
              "      <th>Fit Time</th>\n",
              "      <th>Test Time</th>\n",
              "    </tr>\n",
              "  </thead>\n",
              "  <tbody>\n",
              "    <tr>\n",
              "      <th>0</th>\n",
              "      <td>SVD</td>\n",
              "      <td>0.8658590</td>\n",
              "      <td>0.6398626</td>\n",
              "      <td>0.0800443</td>\n",
              "      <td>0.0040442</td>\n",
              "    </tr>\n",
              "    <tr>\n",
              "      <th>1</th>\n",
              "      <td>SVD++</td>\n",
              "      <td>0.8556603</td>\n",
              "      <td>0.6243647</td>\n",
              "      <td>0.3361405</td>\n",
              "      <td>0.0074244</td>\n",
              "    </tr>\n",
              "    <tr>\n",
              "      <th>2</th>\n",
              "      <td>KNNBasic</td>\n",
              "      <td>0.9753044</td>\n",
              "      <td>0.6564173</td>\n",
              "      <td>0.0047192</td>\n",
              "      <td>0.0056342</td>\n",
              "    </tr>\n",
              "    <tr>\n",
              "      <th>3</th>\n",
              "      <td>KNNWithZScore</td>\n",
              "      <td>0.9286006</td>\n",
              "      <td>0.6261830</td>\n",
              "      <td>0.0129176</td>\n",
              "      <td>0.0074487</td>\n",
              "    </tr>\n",
              "    <tr>\n",
              "      <th>4</th>\n",
              "      <td>KNNWithMeans User-User</td>\n",
              "      <td>1.0102983</td>\n",
              "      <td>0.6800511</td>\n",
              "      <td>0.0154708</td>\n",
              "      <td>0.0098921</td>\n",
              "    </tr>\n",
              "  </tbody>\n",
              "</table>\n",
              "</div>"
            ],
            "text/plain": [
              "                    Model      RMSE       MAE  Fit Time  Test Time\n",
              "0                     SVD 0.8658590 0.6398626 0.0800443  0.0040442\n",
              "1                   SVD++ 0.8556603 0.6243647 0.3361405  0.0074244\n",
              "2                KNNBasic 0.9753044 0.6564173 0.0047192  0.0056342\n",
              "3           KNNWithZScore 0.9286006 0.6261830 0.0129176  0.0074487\n",
              "4  KNNWithMeans User-User 1.0102983 0.6800511 0.0154708  0.0098921"
            ]
          },
          "metadata": {},
          "execution_count": 45
        }
      ]
    },
    {
      "cell_type": "markdown",
      "metadata": {
        "id": "yhqJf4GGRSbf"
      },
      "source": [
        "**KNNWithMeans Item-Item**"
      ]
    },
    {
      "cell_type": "code",
      "metadata": {
        "id": "JkZapqyhLxrU",
        "colab": {
          "base_uri": "https://localhost:8080/",
          "height": 663
        },
        "outputId": "8bc47cd2-6391-4295-80c2-458b0f733f6f"
      },
      "source": [
        "# Creating Model using best parameters\n",
        "knnMeansII_model = KNNWithMeans(k=60, sim_options={'name': 'cosine', 'user_based': False})\n",
        "\n",
        "# Training the algorithm on the trainset\n",
        "knnMeansII_model.fit(trainset)\n",
        "\n",
        "# Predicting for testset\n",
        "prediction_knnMeansII = knnMeansII_model.test(testset)\n",
        "\n",
        "# Evaluating RMSE, MAE of algorithm KNNWithMeans Item-Item on 5 split(s)\n",
        "knnMeansII_cv = cross_validate(knnMeansII_model, surprise_data, measures=['RMSE', 'MAE'], cv=5, verbose=True)\n",
        "\n",
        "# Storing Crossvalidation Results in dataframe\n",
        "knnMeansII_df = pd.DataFrame.from_dict(knnMeansII_cv)\n",
        "knnMeansII_described = knnMeansII_df.describe()\n",
        "knnMeansII_cv_results = pd.DataFrame([['KNNWithMeans Item-Item', knnMeansII_described['test_rmse']['mean'], knnMeansII_described['test_mae']['mean'], \n",
        "                           knnMeansII_described['fit_time']['mean'], knnMeansII_described['test_time']['mean']]],\n",
        "                            columns = ['Model', 'RMSE', 'MAE', 'Fit Time', 'Test Time'])\n",
        "\n",
        "cv_results = cv_results.append(knnMeansII_cv_results, ignore_index=True)\n",
        "\n",
        "# get RMSE\n",
        "print(\"\\n\\n==================== Model Evaluation ===============================\")\n",
        "accuracy.rmse(prediction_knnMeansII, verbose=True)\n",
        "print(\"=====================================================================\")\n",
        "cv_results"
      ],
      "execution_count": 46,
      "outputs": [
        {
          "output_type": "stream",
          "name": "stdout",
          "text": [
            "Computing the cosine similarity matrix...\n",
            "Done computing similarity matrix.\n"
          ]
        },
        {
          "output_type": "execute_result",
          "data": {
            "text/plain": [
              "<surprise.prediction_algorithms.knns.KNNWithMeans at 0x7f495f298cd0>"
            ]
          },
          "metadata": {},
          "execution_count": 46
        },
        {
          "output_type": "stream",
          "name": "stdout",
          "text": [
            "Computing the cosine similarity matrix...\n",
            "Done computing similarity matrix.\n",
            "Computing the cosine similarity matrix...\n",
            "Done computing similarity matrix.\n",
            "Computing the cosine similarity matrix...\n",
            "Done computing similarity matrix.\n",
            "Computing the cosine similarity matrix...\n",
            "Done computing similarity matrix.\n",
            "Computing the cosine similarity matrix...\n",
            "Done computing similarity matrix.\n",
            "Evaluating RMSE, MAE of algorithm KNNWithMeans on 5 split(s).\n",
            "\n",
            "                  Fold 1  Fold 2  Fold 3  Fold 4  Fold 5  Mean    Std     \n",
            "RMSE (testset)    1.0331  0.8957  0.9132  0.9131  0.9784  0.9467  0.0516  \n",
            "MAE (testset)     0.7018  0.6131  0.6302  0.6248  0.6656  0.6471  0.0325  \n",
            "Fit time          0.01    0.01    0.02    0.01    0.01    0.01    0.00    \n",
            "Test time         0.01    0.01    0.01    0.01    0.01    0.01    0.00    \n",
            "\n",
            "\n",
            "==================== Model Evaluation ===============================\n",
            "RMSE: 0.9053\n"
          ]
        },
        {
          "output_type": "execute_result",
          "data": {
            "text/plain": [
              "0.9053276867702928"
            ]
          },
          "metadata": {},
          "execution_count": 46
        },
        {
          "output_type": "stream",
          "name": "stdout",
          "text": [
            "=====================================================================\n"
          ]
        },
        {
          "output_type": "execute_result",
          "data": {
            "text/html": [
              "<div>\n",
              "<style scoped>\n",
              "    .dataframe tbody tr th:only-of-type {\n",
              "        vertical-align: middle;\n",
              "    }\n",
              "\n",
              "    .dataframe tbody tr th {\n",
              "        vertical-align: top;\n",
              "    }\n",
              "\n",
              "    .dataframe thead th {\n",
              "        text-align: right;\n",
              "    }\n",
              "</style>\n",
              "<table border=\"1\" class=\"dataframe\">\n",
              "  <thead>\n",
              "    <tr style=\"text-align: right;\">\n",
              "      <th></th>\n",
              "      <th>Model</th>\n",
              "      <th>RMSE</th>\n",
              "      <th>MAE</th>\n",
              "      <th>Fit Time</th>\n",
              "      <th>Test Time</th>\n",
              "    </tr>\n",
              "  </thead>\n",
              "  <tbody>\n",
              "    <tr>\n",
              "      <th>0</th>\n",
              "      <td>SVD</td>\n",
              "      <td>0.8658590</td>\n",
              "      <td>0.6398626</td>\n",
              "      <td>0.0800443</td>\n",
              "      <td>0.0040442</td>\n",
              "    </tr>\n",
              "    <tr>\n",
              "      <th>1</th>\n",
              "      <td>SVD++</td>\n",
              "      <td>0.8556603</td>\n",
              "      <td>0.6243647</td>\n",
              "      <td>0.3361405</td>\n",
              "      <td>0.0074244</td>\n",
              "    </tr>\n",
              "    <tr>\n",
              "      <th>2</th>\n",
              "      <td>KNNBasic</td>\n",
              "      <td>0.9753044</td>\n",
              "      <td>0.6564173</td>\n",
              "      <td>0.0047192</td>\n",
              "      <td>0.0056342</td>\n",
              "    </tr>\n",
              "    <tr>\n",
              "      <th>3</th>\n",
              "      <td>KNNWithZScore</td>\n",
              "      <td>0.9286006</td>\n",
              "      <td>0.6261830</td>\n",
              "      <td>0.0129176</td>\n",
              "      <td>0.0074487</td>\n",
              "    </tr>\n",
              "    <tr>\n",
              "      <th>4</th>\n",
              "      <td>KNNWithMeans User-User</td>\n",
              "      <td>1.0102983</td>\n",
              "      <td>0.6800511</td>\n",
              "      <td>0.0154708</td>\n",
              "      <td>0.0098921</td>\n",
              "    </tr>\n",
              "    <tr>\n",
              "      <th>5</th>\n",
              "      <td>KNNWithMeans Item-Item</td>\n",
              "      <td>0.9466832</td>\n",
              "      <td>0.6470933</td>\n",
              "      <td>0.0104959</td>\n",
              "      <td>0.0068626</td>\n",
              "    </tr>\n",
              "  </tbody>\n",
              "</table>\n",
              "</div>"
            ],
            "text/plain": [
              "                    Model      RMSE       MAE  Fit Time  Test Time\n",
              "0                     SVD 0.8658590 0.6398626 0.0800443  0.0040442\n",
              "1                   SVD++ 0.8556603 0.6243647 0.3361405  0.0074244\n",
              "2                KNNBasic 0.9753044 0.6564173 0.0047192  0.0056342\n",
              "3           KNNWithZScore 0.9286006 0.6261830 0.0129176  0.0074487\n",
              "4  KNNWithMeans User-User 1.0102983 0.6800511 0.0154708  0.0098921\n",
              "5  KNNWithMeans Item-Item 0.9466832 0.6470933 0.0104959  0.0068626"
            ]
          },
          "metadata": {},
          "execution_count": 46
        }
      ]
    },
    {
      "cell_type": "markdown",
      "metadata": {
        "id": "DPyeDQm0U9ui"
      },
      "source": [
        "**COMPARING ALL RMSE AND MAE ACROSS MODELS**"
      ]
    },
    {
      "cell_type": "code",
      "metadata": {
        "id": "5BeZST8kLxxO",
        "colab": {
          "base_uri": "https://localhost:8080/",
          "height": 1000
        },
        "outputId": "d778d648-d790-42bb-9aa9-f514fe8cf968"
      },
      "source": [
        "x_algo = ['KNN Basic', 'KNNWithMeans-User-User', 'KNNWithMeans-Item-Item', 'KNN ZScore', 'SVD', 'SVD++']\n",
        "all_algos_cv = [knnBasic_cv, knnMeansUU_cv, knnMeansII_cv, knnZscore_cv, svd_cv, svdpp_cv]\n",
        "\n",
        "rmse_cv = [round(res['test_rmse'].mean(), 4) for res in all_algos_cv]\n",
        "mae_cv  = [round(res['test_mae'].mean(), 4) for res in all_algos_cv]\n",
        "\n",
        "plt.figure(figsize=(20,15))\n",
        "\n",
        "plt.subplot(2, 1, 1)\n",
        "plt.title('Comparison of Algorithms on RMSE', loc='center', fontsize=15)\n",
        "plt.plot(x_algo, rmse_cv, label='RMSE', color='darkgreen', marker='o')\n",
        "plt.xlabel('Algorithms', fontsize=15)\n",
        "plt.ylabel('RMSE Value', fontsize=15)\n",
        "plt.legend()\n",
        "plt.grid(ls='dashed')\n",
        "\n",
        "plt.subplot(2, 1, 2)\n",
        "plt.title('Comparison of Algorithms on MAE', loc='center', fontsize=15)\n",
        "plt.plot(x_algo, mae_cv, label='MAE', color='navy', marker='o')\n",
        "plt.xlabel('Algorithms', fontsize=15)\n",
        "plt.ylabel('MAE Value', fontsize=15)\n",
        "plt.legend()\n",
        "plt.grid(ls='dashed')\n",
        "\n",
        "plt.show()\n",
        "\n",
        "cv_results\n"
      ],
      "execution_count": 47,
      "outputs": [
        {
          "output_type": "execute_result",
          "data": {
            "text/plain": [
              "<Figure size 1440x1080 with 0 Axes>"
            ]
          },
          "metadata": {},
          "execution_count": 47
        },
        {
          "output_type": "execute_result",
          "data": {
            "text/plain": [
              "<matplotlib.axes._subplots.AxesSubplot at 0x7f495f560f10>"
            ]
          },
          "metadata": {},
          "execution_count": 47
        },
        {
          "output_type": "execute_result",
          "data": {
            "text/plain": [
              "Text(0.5, 1.0, 'Comparison of Algorithms on RMSE')"
            ]
          },
          "metadata": {},
          "execution_count": 47
        },
        {
          "output_type": "execute_result",
          "data": {
            "text/plain": [
              "[<matplotlib.lines.Line2D at 0x7f496093ced0>]"
            ]
          },
          "metadata": {},
          "execution_count": 47
        },
        {
          "output_type": "execute_result",
          "data": {
            "text/plain": [
              "Text(0.5, 0, 'Algorithms')"
            ]
          },
          "metadata": {},
          "execution_count": 47
        },
        {
          "output_type": "execute_result",
          "data": {
            "text/plain": [
              "Text(0, 0.5, 'RMSE Value')"
            ]
          },
          "metadata": {},
          "execution_count": 47
        },
        {
          "output_type": "execute_result",
          "data": {
            "text/plain": [
              "<matplotlib.legend.Legend at 0x7f49608bb390>"
            ]
          },
          "metadata": {},
          "execution_count": 47
        },
        {
          "output_type": "execute_result",
          "data": {
            "text/plain": [
              "<matplotlib.axes._subplots.AxesSubplot at 0x7f495f306d50>"
            ]
          },
          "metadata": {},
          "execution_count": 47
        },
        {
          "output_type": "execute_result",
          "data": {
            "text/plain": [
              "Text(0.5, 1.0, 'Comparison of Algorithms on MAE')"
            ]
          },
          "metadata": {},
          "execution_count": 47
        },
        {
          "output_type": "execute_result",
          "data": {
            "text/plain": [
              "[<matplotlib.lines.Line2D at 0x7f495f3d49d0>]"
            ]
          },
          "metadata": {},
          "execution_count": 47
        },
        {
          "output_type": "execute_result",
          "data": {
            "text/plain": [
              "Text(0.5, 0, 'Algorithms')"
            ]
          },
          "metadata": {},
          "execution_count": 47
        },
        {
          "output_type": "execute_result",
          "data": {
            "text/plain": [
              "Text(0, 0.5, 'MAE Value')"
            ]
          },
          "metadata": {},
          "execution_count": 47
        },
        {
          "output_type": "execute_result",
          "data": {
            "text/plain": [
              "<matplotlib.legend.Legend at 0x7f495f3cd710>"
            ]
          },
          "metadata": {},
          "execution_count": 47
        },
        {
          "output_type": "display_data",
          "data": {
            "image/png": "[encoded data removed]",
            "text/plain": [
              "<Figure size 1440x1080 with 2 Axes>"
            ]
          },
          "metadata": {
            "needs_background": "light"
          }
        },
        {
          "output_type": "execute_result",
          "data": {
            "text/html": [
              "<div>\n",
              "<style scoped>\n",
              "    .dataframe tbody tr th:only-of-type {\n",
              "        vertical-align: middle;\n",
              "    }\n",
              "\n",
              "    .dataframe tbody tr th {\n",
              "        vertical-align: top;\n",
              "    }\n",
              "\n",
              "    .dataframe thead th {\n",
              "        text-align: right;\n",
              "    }\n",
              "</style>\n",
              "<table border=\"1\" class=\"dataframe\">\n",
              "  <thead>\n",
              "    <tr style=\"text-align: right;\">\n",
              "      <th></th>\n",
              "      <th>Model</th>\n",
              "      <th>RMSE</th>\n",
              "      <th>MAE</th>\n",
              "      <th>Fit Time</th>\n",
              "      <th>Test Time</th>\n",
              "    </tr>\n",
              "  </thead>\n",
              "  <tbody>\n",
              "    <tr>\n",
              "      <th>0</th>\n",
              "      <td>SVD</td>\n",
              "      <td>0.8658590</td>\n",
              "      <td>0.6398626</td>\n",
              "      <td>0.0800443</td>\n",
              "      <td>0.0040442</td>\n",
              "    </tr>\n",
              "    <tr>\n",
              "      <th>1</th>\n",
              "      <td>SVD++</td>\n",
              "      <td>0.8556603</td>\n",
              "      <td>0.6243647</td>\n",
              "      <td>0.3361405</td>\n",
              "      <td>0.0074244</td>\n",
              "    </tr>\n",
              "    <tr>\n",
              "      <th>2</th>\n",
              "      <td>KNNBasic</td>\n",
              "      <td>0.9753044</td>\n",
              "      <td>0.6564173</td>\n",
              "      <td>0.0047192</td>\n",
              "      <td>0.0056342</td>\n",
              "    </tr>\n",
              "    <tr>\n",
              "      <th>3</th>\n",
              "      <td>KNNWithZScore</td>\n",
              "      <td>0.9286006</td>\n",
              "      <td>0.6261830</td>\n",
              "      <td>0.0129176</td>\n",
              "      <td>0.0074487</td>\n",
              "    </tr>\n",
              "    <tr>\n",
              "      <th>4</th>\n",
              "      <td>KNNWithMeans User-User</td>\n",
              "      <td>1.0102983</td>\n",
              "      <td>0.6800511</td>\n",
              "      <td>0.0154708</td>\n",
              "      <td>0.0098921</td>\n",
              "    </tr>\n",
              "    <tr>\n",
              "      <th>5</th>\n",
              "      <td>KNNWithMeans Item-Item</td>\n",
              "      <td>0.9466832</td>\n",
              "      <td>0.6470933</td>\n",
              "      <td>0.0104959</td>\n",
              "      <td>0.0068626</td>\n",
              "    </tr>\n",
              "  </tbody>\n",
              "</table>\n",
              "</div>"
            ],
            "text/plain": [
              "                    Model      RMSE       MAE  Fit Time  Test Time\n",
              "0                     SVD 0.8658590 0.6398626 0.0800443  0.0040442\n",
              "1                   SVD++ 0.8556603 0.6243647 0.3361405  0.0074244\n",
              "2                KNNBasic 0.9753044 0.6564173 0.0047192  0.0056342\n",
              "3           KNNWithZScore 0.9286006 0.6261830 0.0129176  0.0074487\n",
              "4  KNNWithMeans User-User 1.0102983 0.6800511 0.0154708  0.0098921\n",
              "5  KNNWithMeans Item-Item 0.9466832 0.6470933 0.0104959  0.0068626"
            ]
          },
          "metadata": {},
          "execution_count": 47
        }
      ]
    },
    {
      "cell_type": "markdown",
      "metadata": {
        "id": "6te0or5tVYiL"
      },
      "source": [
        "**MODEL EVALUATION:**\n",
        "\n",
        "From above algorithm comparisons plots we can infer the followings:\n",
        "\n",
        "1.   RMSE : we can see that SVD++ is giving the best RMSE values\n",
        "2.   MAE : Here SVD++ and KNNWithMean-User-User both are giving the best MAE value\n",
        "3.   SVD++ is showing the best RMSE in Matrix Factorization Based Algorithms.\n",
        "4.   KNNWithMeans is giving the best RMSE in Collaborative Filtering Algorithms.\n",
        "5.  If compare SVD and SVD++ then can notice that RMSE and MAE value of SVD is slightly differs from the SVD++ but the Fit Time and Test Time taken by SVD is significant less(12 times) than SVD++. So, we will proceed with SVD got get top-k recommendations\n"
      ]
    },
    {
      "cell_type": "markdown",
      "metadata": {
        "id": "2N_7JdxZYuST"
      },
      "source": [
        "**MODEL DEPLOYMENT**"
      ]
    },
    {
      "cell_type": "code",
      "metadata": {
        "id": "_bTzP2IsLx28",
        "colab": {
          "base_uri": "https://localhost:8080/"
        },
        "outputId": "53aadab1-2350-478d-d8e7-da8b0092b3ff"
      },
      "source": [
        "top_n = defaultdict(list)\n",
        "def get_top_n(predictions, n=k):\n",
        "    # First map the predictions to each user.\n",
        "    top_n = defaultdict(list)\n",
        "    for uid, iid, true_r, est, _ in predictions:\n",
        "        top_n[uid].append((iid, est))\n",
        "\n",
        "    # Then sort the predictions for each user and retrieve the k highest ones.\n",
        "    for uid, user_ratings in top_n.items():\n",
        "        user_ratings.sort(key=lambda x: x[1], reverse=True)\n",
        "        top_n[uid] = user_ratings[:n]\n",
        "\n",
        "    return top_n\n",
        "\n",
        "top_n = get_top_n(predictions_svd, n=k)\n",
        "top_n"
      ],
      "execution_count": 48,
      "outputs": [
        {
          "output_type": "execute_result",
          "data": {
            "text/plain": [
              "defaultdict(list,\n",
              "            {'A100WO06OQR8BQ': [('B000VX6XL6', 4.740748179429496),\n",
              "              ('B00006RVPW', 4.3698477598492325)],\n",
              "             'A10Y058K7B96C6': [('B001GS8FZ2', 4.078371420929864),\n",
              "              ('B001CHHVCU', 3.7776546920448206)],\n",
              "             'A11KZ906QD08C5': [('B002WE6D44', 4.878942785598418),\n",
              "              ('B00006I53S', 4.536199253633474),\n",
              "              ('B000L47AHG', 4.414027919323077)],\n",
              "             'A12DQZKRKTNF5E': [('B002WE6D44', 4.9402014758810395),\n",
              "              ('B0002L5R78', 4.604922019133591),\n",
              "              ('B001E1Y5O6', 4.545799686061484)],\n",
              "             'A141OPVE376YFI': [('B002WE6D44', 4.801816050392606),\n",
              "              ('B000U5TUWE', 4.370027805628252),\n",
              "              ('B000TG4BA0', 4.2152184938739685)],\n",
              "             'A1435P5AMCPB3X': [('B000M17AVO', 4.496005343752952)],\n",
              "             'A149RNR5RH19YY': [('B001F51G16', 4.620718561872584),\n",
              "              ('B00007KDVI', 3.8548080508883302)],\n",
              "             'A14JBDSWKPKTZA': [('B001TH7GVE', 4.951286219817875),\n",
              "              ('B00007KDVI', 3.729859609379517)],\n",
              "             'A15QYHQH80W30L': [('B000TKHBDK', 4.485755084015733),\n",
              "              ('B000HJPK2C', 4.290990291164598)],\n",
              "             'A17BUUBOU0598B': [('B000JMJWV2', 4.109752986972693),\n",
              "              ('B000TKHBDK', 4.058122699091224),\n",
              "              ('B002SQK2F2', 3.106745202887923)],\n",
              "             'A17HMM1M7T9PJ1': [('B0010Z28XG', 4.545398513362346),\n",
              "              ('B00007GQLU', 4.437323232722495),\n",
              "              ('B00109Y2DQ', 4.3769379792931975)],\n",
              "             'A18HE80910BTZI': [('B00077AA5Q', 4.235919652189763),\n",
              "              ('B0025VKUQQ', 4.163477114399746),\n",
              "              ('B002SQK2F2', 3.171902200168351)],\n",
              "             'A18S2VGUH9SCV5': [('B002C7481G', 4.620210275163343),\n",
              "              ('B0002L5R78', 4.576964378674166),\n",
              "              ('B001T9NUJE', 4.535709918894895),\n",
              "              ('B000V1MLBE', 4.266312202695892)],\n",
              "             'A19RGDJPNZ7NZ': [('B001LK8P14', 4.203701496646673)],\n",
              "             'A19W47CXJJP1MI': [('B002VPE1Z2', 4.31998979699855)],\n",
              "             'A19X4BF861LQST': [('B000BQ7GW8', 4.53728350203173),\n",
              "              ('B000MX48VM', 4.513477891517949),\n",
              "              ('B00109Y2DQ', 4.403446892916906)],\n",
              "             'A19XMHRB3G4DIR': [('B000N99BBC', 4.787220917211767),\n",
              "              ('B002SZEOLG', 4.602400735451585)],\n",
              "             'A1BT6TL7UCIC5Y': [('B002R5AM7C', 4.3099915510288325),\n",
              "              ('B001GS8FZ2', 4.113052278723671)],\n",
              "             'A1CPRP3VFJRS1R': [('B002HWRJY4', 4.124808565698123),\n",
              "              ('B0002L5R78', 3.9865697533953703)],\n",
              "             'A1E55W6ES0FY17': [('B00009XVCZ', 4.486884788798679),\n",
              "              ('B000V1MLBE', 4.2446268593795935)],\n",
              "             'A1EH2S92FHWZRP': [('B000M2GYF6', 4.511565092812234),\n",
              "              ('B002IC0YL8', 4.495005122777753),\n",
              "              ('B000Q8UAWY', 4.48151655425024)],\n",
              "             'A1EKSETIBS9ETQ': [('B000M17AVO', 4.496359369455423)],\n",
              "             'A1EXGL6L0QQ0M5': [('B002QEBMAK', 4.5116973833027565),\n",
              "              ('B00004ZCJE', 4.300710387341558),\n",
              "              ('B002HWRJBM', 4.242787975482118),\n",
              "              ('B000JE7GPY', 4.237518474543033)],\n",
              "             'A1F1A0QQP2XVH5': [('B00017LSPI', 4.589897830537716),\n",
              "              ('B0013FRNKG', 4.40786254296943)],\n",
              "             'A1F9Z42CFF9IAY': [('B000AZ57M6', 4.440679490441985),\n",
              "              ('B001UI2FPE', 4.430929344885047),\n",
              "              ('B00009R6TA', 4.175917811519718),\n",
              "              ('B000M17AVO', 4.0676582509222845)],\n",
              "             'A1H98YV5K5BUX0': [('B0000BZL1P', 4.817258790087448),\n",
              "              ('B000TXZIDM', 4.534498903133428)],\n",
              "             'A1IU7S4HCK1XK0': [('B000N99BBC', 4.856491548269309)],\n",
              "             'A1J75JJ0Q2OEJN': [('B002SQK2F2', 3.2990923427682244)],\n",
              "             'A1JUBRIZMO0RJV': [('B001GS8FZ2', 3.8716907157425324)],\n",
              "             'A1KKE6VX8VPWZK': [('B001FWBUUG', 4.641406779977809),\n",
              "              ('B002R5AM7C', 4.321385406540047),\n",
              "              ('B00275XTSQ', 4.311184100393721)],\n",
              "             'A1KXJCXS6HFRQZ': [('B00077AA5Q', 4.4258050107009135),\n",
              "              ('B002HWRJBM', 4.295493439905098),\n",
              "              ('B0025VKUQQ', 4.286720110361475),\n",
              "              ('B002KC55OM', 3.9338375318032455),\n",
              "              ('B001DULYZG', 3.9300745354828615)],\n",
              "             'A1MFVAHTT2BHM0': [('B000S5Q9CA', 4.627859902700227),\n",
              "              ('B001F51G16', 4.571629714287046),\n",
              "              ('B00005T3G0', 4.557240895720034),\n",
              "              ('B002QEBMAK', 4.345503476350841)],\n",
              "             'A1MJMYLRTZ76ZX': [('B002C7481G', 4.526571358491728),\n",
              "              ('B000BKJZ9Q', 4.525783760394202),\n",
              "              ('B00004ZCJE', 4.329124415442463)],\n",
              "             'A1NNMOD9H36Q8E': [('B000HGIWN4', 4.165430113961622)],\n",
              "             'A1ODOGXEYECQQ8': [('B000VX6XL6', 4.79937476310097),\n",
              "              ('B0011NVMO8', 4.669856578779655),\n",
              "              ('B001TUYTZM', 4.631483562701768),\n",
              "              ('B0007QKMQY', 4.516832793740899),\n",
              "              ('B000JE7GPY', 4.452709177018431)],\n",
              "             'A1P3DDFL423B3C': [('B000A6PPOK', 4.525158323417459)],\n",
              "             'A1PL7QILVQV3IF': [('B001TK3ACA', 4.398073896320965),\n",
              "              ('B000JE7GPY', 4.345531305394687)],\n",
              "             'A1PV5T5S4D5NPI': [('B0019EHU8G', 4.8536433589691645)],\n",
              "             'A1QNYLBG73QRNF': [('B00009XVCZ', 4.589382902186731),\n",
              "              ('B00006I53S', 4.482007369682418),\n",
              "              ('B001G5ZTLS', 4.272761887301938),\n",
              "              ('B001CHHVCU', 3.8393461669645625)],\n",
              "             'A1QQA7Y92L4F9R': [('B000Q8UAWY', 4.596937801896906),\n",
              "              ('B0000BVYTV', 4.413760725068373)],\n",
              "             'A1QVFHPY8418HC': [('B000V1MLBE', 4.501749887438825)],\n",
              "             'A1RPTVW5VEOSI': [('B002J9HBIO', 4.425784498465987)],\n",
              "             'A1SB9BNNGKNX2Z': [('B00017LSPI', 4.795513173708494),\n",
              "              ('B002R5AM7C', 4.400065838706893)],\n",
              "             'A1SHHQSPOWR00F': [('B00007EDZG', 3.9491236273867103)],\n",
              "             'A1T1YSCDW0PD25': [('B001F51G16', 4.481512355497464),\n",
              "              ('B000U5TUWE', 4.3866491122622),\n",
              "              ('B002J9HBIO', 4.371866321763867)],\n",
              "             'A1TDR7Y90SVCHL': [('B002WE6D44', 4.657179731681975)],\n",
              "             'A1TQZUSOU22E9M': [('B00005LEN4', 4.799486287578182),\n",
              "              ('B002UT42UI', 4.348801003193625),\n",
              "              ('B001DULYZG', 4.332755275606508)],\n",
              "             'A1UEL5C1N6E5SE': [('B000JMJWV2', 4.635863403281174)],\n",
              "             'A1V4VVBQBFXRHC': [('B00316263Y', 4.460113234744218),\n",
              "              ('B000KO0GY6', 4.4334128605518295),\n",
              "              ('B00275XTSQ', 4.179442192682179)],\n",
              "             'A1VHCO8RQFIGQJ': [('B000JMJWV2', 4.743366554334272),\n",
              "              ('B002WE6D44', 4.711610883785138),\n",
              "              ('B0019EHU8G', 4.531295882536849),\n",
              "              ('B002J9HBIO', 4.477707620914575),\n",
              "              ('B00007GQLU', 4.437530655104756)],\n",
              "             'A1VLVWTLV3LVHR': [('B002R5AM7C', 3.903598303370336),\n",
              "              ('B001CHHVCU', 3.683986638121271)],\n",
              "             'A1VQHH85U7PX0': [('B0025VKUQQ', 4.687613598211907),\n",
              "              ('B00109Y2DQ', 4.679521607578519),\n",
              "              ('B000L47AHG', 4.550841782781027),\n",
              "              ('B00004ZCJE', 4.480840321448679),\n",
              "              ('B001TH7GSW', 4.450923150547605)],\n",
              "             'A1VTCSCH8FFC76': [('B00066IJPQ', 3.504954932852066)],\n",
              "             'A1VVRA3P6G1TWH': [('B0007QKMQY', 4.59411794714583),\n",
              "              ('B00009XVCZ', 4.54649024982127),\n",
              "              ('B00004ZCJE', 4.305663992280099)],\n",
              "             'A1X2LENOF84LCQ': [('B002HWRJY4', 4.244692457918037),\n",
              "              ('B000Q8UAWY', 4.018553592722736),\n",
              "              ('B002O3W2OI', 3.2375224552766086),\n",
              "              ('B002SQK2F2', 3.0806064916678593)],\n",
              "             'A1Z16630QMH8Q6': [('B000HPV3RW', 4.7127407344948695)],\n",
              "             'A1ZM846Y7AUYD': [('B000NP3DJW', 4.657512482975887),\n",
              "              ('B002SQK2F2', 3.270935632578496)],\n",
              "             'A203OCQQ12MAVT': [('B002KC55OM', 4.400769247997638),\n",
              "              ('B002R5AM7C', 4.375671170778073),\n",
              "              ('B0028Y4CWI', 3.8764929548498204),\n",
              "              ('B002SQK2F2', 3.50930877051427)],\n",
              "             'A20DZX38KRBIT8': [('B00007KDVI', 3.5097451422182515)],\n",
              "             'A212MDP6K4VJS5': [('B00005LEN4', 4.76972249068774),\n",
              "              ('B000HGIWN4', 4.757732861715507),\n",
              "              ('B002SZEOLG', 4.544899078626274)],\n",
              "             'A21T0D2F7SKG5S': [('B00006JN3G', 4.2303586082487525),\n",
              "              ('B002SZEOLG', 4.196439845376039)],\n",
              "             'A225G2TFM76GYX': [('B001TANZ0W', 4.790576187253502),\n",
              "              ('B001F7AHOG', 4.4298458225710835),\n",
              "              ('B001FA1NK0', 4.4276120265635734),\n",
              "              ('B002R5AM7C', 4.3636859733662),\n",
              "              ('B002SQK2F2', 3.5487413390027513)],\n",
              "             'A22CW0ZHY3NJH8': [('B000JMJWV2', 4.638972197319368)],\n",
              "             'A23GFTVIETX7DS': [('B002C7481G', 4.657921725394934),\n",
              "              ('B0002CPBWI', 4.504628537058772),\n",
              "              ('B002UT42UI', 4.346975450387768),\n",
              "              ('B001CHHVCU', 4.027841861559323)],\n",
              "             'A23NSKTMSPPBTR': [('B000N99BBC', 4.3572496044726865),\n",
              "              ('B0034CL2ZI', 4.258312002114668),\n",
              "              ('B001S4OTS6', 4.1159427526901675)],\n",
              "             'A250AXLRBVYKB4': [('B0019EHU8G', 4.882055912003615),\n",
              "              ('B002V88HFE', 4.845837646100055),\n",
              "              ('B00005LEN4', 4.840750355311272),\n",
              "              ('B000Q8UAWY', 4.608396725214963),\n",
              "              ('B001TH7GSW', 4.546622948947009)],\n",
              "             'A259MPG6SOL02P': [('B002WE4HE2', 4.347245052603361)],\n",
              "             'A25C2M3QF9G7OQ': [('B0011NVMO8', 4.703030925335054),\n",
              "              ('B00006I53S', 4.397818163014505)],\n",
              "             'A25FL6VLD7S23S': [('B001F51G16', 4.779623961408947)],\n",
              "             'A27B1U3OWCU14J': [('B000FBK3QK', 4.275694307216938),\n",
              "              ('B002BH3I9U', 3.9575859454473625)],\n",
              "             'A28UMA3GW9L124': [('B001E1Y5O6', 4.434205148730294),\n",
              "              ('B002O3W2OI', 3.899234871964707),\n",
              "              ('B0028Y4CWI', 3.813590304853506)],\n",
              "             'A2ARDVMUGDFED6': [('B000089GN3', 4.720061153281377),\n",
              "              ('B002C7481G', 4.590931659719623),\n",
              "              ('B001FWBUUG', 4.563658905398524),\n",
              "              ('B000M17AVO', 4.402723881194215),\n",
              "              ('B00009R6TA', 4.355309443793059)],\n",
              "             'A2AY4YUOX2N1BQ': [('B000VX6XL6', 4.678646690036293),\n",
              "              ('B00316263Y', 4.587944977070682),\n",
              "              ('B000F7QRTG', 4.554040645965002),\n",
              "              ('B00007GQLU', 4.514125823244267),\n",
              "              ('B0002L5R78', 4.405254418486951)],\n",
              "             'A2B7BUH8834Y6M': [('B0025VKUQQ', 4.370341876733383),\n",
              "              ('B00004ZCJE', 4.091525932433567)],\n",
              "             'A2BCDZO1XQLDH': [('B002R5AM7C', 4.19145125255656)],\n",
              "             'A2BLFCOPSMBOZ9': [('B001TH7GVE', 4.541023844367496),\n",
              "              ('B001T9NUJE', 4.272699453886388),\n",
              "              ('B002IC0YL8', 4.257511269470583),\n",
              "              ('B002VPE1Z2', 4.225059887607045),\n",
              "              ('B001TH7GSW', 4.197337415299943)],\n",
              "             'A2BMZRO0H7TFCS': [('B000HPV3RW', 4.566328997299545),\n",
              "              ('B000A6PPOK', 4.182738780650633)],\n",
              "             'A2CIQEY05SPHTZ': [('B001LK8P14', 4.345595754500757)],\n",
              "             'A2F7CSE6KT7NI4': [('B002SZEOLG', 4.597450034665753),\n",
              "              ('B00066IJPQ', 4.137771118750902)],\n",
              "             'A2FXBWR4T4OFQ': [('B001E1Y5O6', 4.706679184643019),\n",
              "              ('B00004ZCJE', 4.540622161527648)],\n",
              "             'A2HMF8ZR67BNZS': [('B002TMRZOQ', 4.761570041251842),\n",
              "              ('B00006JN3G', 4.680119217893218),\n",
              "              ('B000QUUFRW', 4.592430052874391),\n",
              "              ('B000LRMS66', 4.591387954834334)],\n",
              "             'A2J7FHZFKOKGZ6': [('B001F51G16', 4.5712747623921315)],\n",
              "             'A2JP9E1H0SF392': [('B0034CL2ZI', 4.615775123380619)],\n",
              "             'A2LCE1D0TW2XY0': [('B000AZ57M6', 4.427298067335791)],\n",
              "             'A2LXX47A0KMJVX': [('B002WE6D44', 4.666360814188464),\n",
              "              ('B000VX6XL6', 4.62106958764958),\n",
              "              ('B001FA1NK0', 4.112351211576385)],\n",
              "             'A2NB2E5DXE319Z': [('B000N99BBC', 4.707935865832851),\n",
              "              ('B002R5AM7C', 4.163953922353167)],\n",
              "             'A2NOW4U7W3F7RI': [('B001XURP7W', 4.589334856567245)],\n",
              "             'A2NSMJVQY0RV9S': [('B00017LSPI', 4.835329955163584),\n",
              "              ('B000S5Q9CA', 4.753442672571979),\n",
              "              ('B002HWRJBM', 4.552586579801535),\n",
              "              ('B000QUUFRW', 4.445742811205572)],\n",
              "             'A2PSD2R9A1CXG7': [('B000AZ57M6', 4.554834603303475),\n",
              "              ('B00006I53S', 4.123596932285191)],\n",
              "             'A2QI2NTDTMK2FV': [('B0019EHU8G', 4.636369389171624),\n",
              "              ('B001EYV9TM', 4.229785841319353)],\n",
              "             'A2RU4U1JZ3DMP5': [('B00017LSPI', 4.638797525503413),\n",
              "              ('B00077AA5Q', 4.505757902544798)],\n",
              "             'A2SATO5BNKWY3Y': [('B002QEBMAK', 4.299362031331853)],\n",
              "             'A2T689YVOAYGGD': [('B00009XVCZ', 4.444151089180531)],\n",
              "             'A2UOHALGF2X77Q': [('B002WE6D44', 4.869423602502752),\n",
              "              ('B000VX6XL6', 4.811903009147677),\n",
              "              ('B002V88HFE', 4.808133731886698),\n",
              "              ('B001S4OTS6', 4.549538993928596)],\n",
              "             'A2UQK3DAZ8NO2T': [('B000HGIWN4', 4.506827628785261)],\n",
              "             'A2UTZ4O5E2W4DK': [('B0010Z28XG', 4.611516127939478)],\n",
              "             'A2V7EO331SFUF6': [('B000S5Q9CA', 4.784824500752552),\n",
              "              ('B0002CPBWI', 4.317523979747596)],\n",
              "             'A2W2ODLRQ2L8LE': [('B000Q8UAWY', 4.553051319397879)],\n",
              "             'A2W9I628I6SE1U': [('B00119T6NQ', 4.506081333045482),\n",
              "              ('B000V1MLBE', 4.191933069903627),\n",
              "              ('B002TLTGM6', 4.051479423087604)],\n",
              "             'A2WB7LZ595CR50': [('B00109Y2DQ', 4.549627485570545),\n",
              "              ('B0011NVMO8', 4.536400673882966),\n",
              "              ('B002R5AM7C', 4.231185327797833)],\n",
              "             'A2WLNSZ9U0T1S3': [('B000VX6XL6', 4.423326950300555),\n",
              "              ('B000F7QRTG', 4.286660730615981),\n",
              "              ('B0015DYMVO', 4.241789690417247),\n",
              "              ('B0011ZK6PC', 4.0794205882383014),\n",
              "              ('B001DULYZG', 3.9820000015394386)],\n",
              "             'A2WXURU33RBGQS': [('B0012GK3MQ', 4.509295072240928),\n",
              "              ('B001D7REIK', 4.498518196388673),\n",
              "              ('B001XURP7W', 4.345886997383086)],\n",
              "             'A2XA8CW5DF4MNZ': [('B0025VKUQ6', 4.5271022442131414)],\n",
              "             'A2XRMQA6PJ5ZJ8': [('B002WE4HE2', 4.875685555397212),\n",
              "              ('B000HGIWN4', 4.715742402809177),\n",
              "              ('B0019EHU8G', 4.661730662522161),\n",
              "              ('B0013FRNKG', 4.63617576977731),\n",
              "              ('B000KO0GY6', 4.565957656065764)],\n",
              "             'A2XU6J41ZQOJ2V': [('B00109Y2DQ', 4.729104313194793)],\n",
              "             'A2Y3WWPUKIJ59I': [('B0034CL2ZI', 4.454519643234566)],\n",
              "             'A2Y739CRM15WDL': [('B001HSOFI2', 4.465946049223478),\n",
              "              ('B002BH3I9U', 4.07239838988479)],\n",
              "             'A2YHXGPCTENZY3': [('B002UT42UI', 4.0883798057804395)],\n",
              "             'A31BD4RXCON7QO': [('B000VX6XL6', 4.619523346725735),\n",
              "              ('B001KELVS0', 4.549452466069228)],\n",
              "             'A31ICLWQ9CSHRS': [('B00007GQLU', 4.454046750948112),\n",
              "              ('B000HJPK2C', 4.4035797486662425),\n",
              "              ('B00007E7JU', 4.252180379567251),\n",
              "              ('B000FBK3QK', 4.015318029847762),\n",
              "              ('B002SGATH8', 3.8671511057501817)],\n",
              "             'A31N0XY2UTB25C': [('B002WE4HE2', 4.868991458543903),\n",
              "              ('B0034CL2ZI', 4.700255286122884),\n",
              "              ('B001E1Y5O6', 4.5501296903510635)],\n",
              "             'A32O5FZH994CNY': [('B001FA1NK0', 4.457670107547207),\n",
              "              ('B001CHHVCU', 3.854807709736199)],\n",
              "             'A33HIV8RXRDM88': [('B002R5AM7C', 4.161494314371393),\n",
              "              ('B002SQK2F2', 3.432852009230585)],\n",
              "             'A33YZNZIRA3H97': [('B000MX48VM', 4.726770192633259),\n",
              "              ('B002UT42UI', 4.424341193154872)],\n",
              "             'A34C9AFFZOI45T': [('B000HPV3RW', 4.712252164936025)],\n",
              "             'A34LQ791ACZ0JC': [('B000N99BBC', 4.731607627918668)],\n",
              "             'A353U0L2HAMSHV': [('B00316263Y', 4.628796779849057),\n",
              "              ('B0002L5R78', 4.440119362183053)],\n",
              "             'A35HNL2VEDK9Z1': [('B000S5Q9CA', 4.438194859078307),\n",
              "              ('B0007MXZB2', 4.152481792599623)],\n",
              "             'A36A1ZYZH8568P': [('B002V88HFE', 4.4754062591328765),\n",
              "              ('B00077AA5Q', 4.391853384169884),\n",
              "              ('B0011ZK6PC', 4.250505972995748)],\n",
              "             'A36K2N527TXXJN': [('B000MX48VM', 4.727484337015013),\n",
              "              ('B0002L5R78', 4.573691137975499)],\n",
              "             'A370XYLIZCSK1Y': [('B000LRMS66', 4.640806866228377),\n",
              "              ('B0002L5R78', 4.631447732417791),\n",
              "              ('B002TLTGM6', 4.348923637145706)],\n",
              "             'A376OJHLE6SU9Q': [('B0002L5R78', 4.52773694923439),\n",
              "              ('B001TH7GSW', 4.405630281976699)],\n",
              "             'A38KK0SZYEH5UD': [('B00169N0BK', 4.726761059852491),\n",
              "              ('B000FBK3QK', 4.495532389263763)],\n",
              "             'A38RMU1Y5TDP9': [('B001E1Y5O6', 4.635638688151027),\n",
              "              ('B000TXZIDM', 4.432123306639139)],\n",
              "             'A3A4ZAIBQWKOZS': [('B0000BZL1P', 4.74158894225408),\n",
              "              ('B0015DYMVO', 4.597191251439974),\n",
              "              ('B002BH3Z8E', 4.5341620864920325)],\n",
              "             'A3AYSYSLHU26U9': [('B001PIBE8I', 4.607861081036442)],\n",
              "             'A3BACUOZV1M0WM': [('B000VX6XL6', 4.758904245784118)],\n",
              "             'A3CG93783LP0FO': [('B002WE4HE2', 4.8736797276878585),\n",
              "              ('B002V88HFE', 4.7110987104334665),\n",
              "              ('B002SZEOLG', 4.598003529342414),\n",
              "              ('B001E1Y5O6', 4.579766933668681)],\n",
              "             'A3CW0ZLUO5X2B1': [('B000LRMS66', 4.377907049671363),\n",
              "              ('B001TH7GSW', 4.2013499951797835)],\n",
              "             'A3DWO5RJDA430F': [('B000VX6XL6', 4.678646690036293),\n",
              "              ('B000L47AHG', 4.433615075344046)],\n",
              "             'A3EXWV8FNSSFL6': [('B00109Y2DQ', 4.558302536712621)],\n",
              "             'A3FEGTOLCWXSV4': [('B00169N0BK', 4.324117425631845)],\n",
              "             'A3FPSY1M6G7XIB': [('B00007E7JU', 4.617552370537475),\n",
              "              ('B00009R6TA', 4.4154145135256755),\n",
              "              ('B00004ZCJE', 4.286360977776985)],\n",
              "             'A3IY316DRNF5F2': [('B000089GN3', 4.4651229335033),\n",
              "              ('B002TLTGM6', 3.9130755303748788)],\n",
              "             'A3J8A5L5AF5TX9': [('B000BQ7GW8', 4.379698416269235),\n",
              "              ('B001TH7GVE', 4.334357618437732),\n",
              "              ('B001TH7GSW', 4.138714953330693)],\n",
              "             'A3L1VJMHFWONCB': [('B002V88HFE', 4.597912617979983),\n",
              "              ('B001TH7GVE', 4.59789394185676),\n",
              "              ('B00005T3G0', 4.5315337105609235)],\n",
              "             'A3L6L5O89JTX2T': [('B002WE6D44', 4.761507992210142),\n",
              "              ('B000MX48VM', 4.560280716219272),\n",
              "              ('B000QUUFRW', 4.405574471367493),\n",
              "              ('B0025VKUQ6', 4.176846584179993)],\n",
              "             'A3L9E0YI7C5G0W': [('B0015DYMVO', 4.110087215295533)],\n",
              "             'A3LGT6UZL99IW1': [('B002SZEOLG', 4.507214281246849)],\n",
              "             'A3LWC833HQIG7J': [('B0019EHU8G', 4.5499519852527195),\n",
              "              ('B002J9HBIO', 4.133972495464972),\n",
              "              ('B002SQK2F2', 3.1956690886883923)],\n",
              "             'A3N4VTNFPMTHEF': [('B002HWRJY4', 4.4304055424241255)],\n",
              "             'A3NEAETOSXDBOM': [('B001FWBUUG', 4.684608198642051)],\n",
              "             'A3NKRH3TJ4DPVI': [('B0002CPBWI', 4.368080821218666)],\n",
              "             'A3NOBH42C7UI5M': [('B0010Z28XG', 4.686147628151264),\n",
              "              ('B000LRMS66', 4.479273954225381),\n",
              "              ('B001LK8P14', 4.303186658739697),\n",
              "              ('B002UT42UI', 4.074520333972732)],\n",
              "             'A3OA4DV4L81N1D': [('B002V88HFE', 4.824991951427227)],\n",
              "             'A3OXHLG6DIBRW8': [('B002TMRZOQ', 4.823301328270891),\n",
              "              ('B00169N0BK', 4.7532405795811545),\n",
              "              ('B002ZCXJZE', 4.6689544536697545),\n",
              "              ('B00004ZCJE', 4.499578922056703)],\n",
              "             'A3P1508PZ0UADD': [('B001XURP7W', 4.451456967966222)],\n",
              "             'A3PD8JD9L4WEII': [('B002WE6D44', 4.753220191547672),\n",
              "              ('B000HDJT4S', 4.493862350479476),\n",
              "              ('B0015DYMVO', 4.3026386499075135)],\n",
              "             'A3Q4TYJVAM4IRM': [('B0010Z28XG', 4.615774290332357),\n",
              "              ('B0015DYMVO', 4.400323018623461)],\n",
              "             'A3QMJMTLJC34QC': [('B002TMRZOQ', 4.733727889347),\n",
              "              ('B000BQ7GW8', 4.604007158000476),\n",
              "              ('B002C7481G', 4.586590536971054),\n",
              "              ('B000TKHBDK', 4.55045341826613)],\n",
              "             'A3QNQQKJTL76H0': [('B002TLTGM6', 4.101241659079326)],\n",
              "             'A3QNX5KWHDV0GD': [('B001F51G16', 4.44151573401472),\n",
              "              ('B00007EDZG', 4.225151095809968)],\n",
              "             'A3QQGPI3CTV9SX': [('B0000BZL1P', 4.84784789546124),\n",
              "              ('B000Q8UAWY', 4.778501874437879),\n",
              "              ('B00006JN3G', 4.777400118078459),\n",
              "              ('B000HJPK2C', 4.545593873360767)],\n",
              "             'A3R4794K2RVU1S': [('B0034CL2ZI', 4.770441252241294),\n",
              "              ('B000TKHBDK', 4.65689626338451)],\n",
              "             'A3REK3OFONWB1Q': [('B001KELVS0', 4.696827745198878)],\n",
              "             'A3S3R88HA0HZG3': [('B00316263Y', 4.717578909484446),\n",
              "              ('B001GS8FZ2', 4.156058637357558),\n",
              "              ('B001CHHVCU', 4.069541977019184)],\n",
              "             'A3T7V207KRDE2O': [('B00005LEN4', 4.752565932351416),\n",
              "              ('B000TKHBDK', 4.694696872753731)],\n",
              "             'A3TBMAWIIHKHFN': [('B002WE6D44', 4.686738867827815),\n",
              "              ('B001FWBUUG', 4.334373155043176),\n",
              "              ('B00004ZCJE', 4.327632312279879),\n",
              "              ('B001E1Y5O6', 4.310147520218215)],\n",
              "             'A3TCMJ6GKZJFBQ': [('B0007QKMQY', 4.527604354979218),\n",
              "              ('B000M17AVO', 4.277821257399107)],\n",
              "             'A3U41ZL33SS92P': [('B002IC0YL8', 4.6315159306002),\n",
              "              ('B000A6PPOK', 4.393885289432571),\n",
              "              ('B00093IIRA', 4.157255888534449),\n",
              "              ('B002BH3I9U', 4.060896610527347)],\n",
              "             'A3V7D0LH8L7BG0': [('B0025VKUQ6', 4.234379958346286)],\n",
              "             'A3W4D8XOGLWUN5': [('B000Q8UAWY', 4.392420404151542)],\n",
              "             'A4WEZJOIZIV4U': [('B001TH7GUU', 4.841538728079975),\n",
              "              ('B000BQ7GW8', 4.7960449787139074),\n",
              "              ('B001S4OTS6', 4.6688598394983),\n",
              "              ('B00007E7JU', 4.431423157388244),\n",
              "              ('B001XURP7W', 4.355739600764177)],\n",
              "             'A5JLAU2ARJ0BO': [('B00004SB92', 4.428135390824967),\n",
              "              ('B00007EDZG', 4.193265711032486),\n",
              "              ('B0028Y4CWI', 3.8749173970633426)],\n",
              "             'A5KMMY627T3W': [('B0007QKMQY', 4.4501325586604015)],\n",
              "             'A680RUE1FDO8B': [('B001TOD7ME', 4.561018867504377),\n",
              "              ('B0019EHU8G', 4.545897373471364),\n",
              "              ('B00119T6NQ', 4.487599460494837),\n",
              "              ('B000EVSLRO', 4.419293497188452),\n",
              "              ('B0012GK3MQ', 4.263880315203947)],\n",
              "             'A6FIAB28IS79': [('B000MX48VM', 4.63865093696783),\n",
              "              ('B002C7481G', 4.582462414119011),\n",
              "              ('B000LRMS66', 4.542306928289472),\n",
              "              ('B001D7REIK', 4.521165184943099),\n",
              "              ('B001FA1NK0', 4.23364110287372)],\n",
              "             'A6VPK7X53QNAQ': [('B0013FRNKG', 4.621844739276926),\n",
              "              ('B002J9HBIO', 4.3922246564029)],\n",
              "             'A6VXZ1EEPRTLV': [('B002V88HFE', 4.641382979623879),\n",
              "              ('B001F7AHOG', 4.280472577688622)],\n",
              "             'A7QMQBGJ2TCQG': [('B00007EDZG', 4.199507586378806)],\n",
              "             'A7Y6AVS576M03': [('B000N99BBC', 4.731607627918668),\n",
              "              ('B000BQ7GW8', 4.651795964132227),\n",
              "              ('B000089GN3', 4.616229185372791)],\n",
              "             'A87N6UTYA6NOB': [('B0007MXZB2', 4.223050233531276)],\n",
              "             'AAQ9NJ480N9W5': [('B000MX48VM', 4.674406591744522),\n",
              "              ('B002V88HFE', 4.638443539510798),\n",
              "              ('B002ZCXJZE', 4.450813983554412),\n",
              "              ('B000QUUFRW', 4.421542582785022)],\n",
              "             'AAR7CEPXYJA0T': [('B002ZCXJZE', 4.215533435809458),\n",
              "              ('B002KC55OM', 3.8781786756964665),\n",
              "              ('B00066IJPQ', 3.597206325789561)],\n",
              "             'AB094YABX21WQ': [('B000JMJWV2', 4.707922116195968)],\n",
              "             'ABMF4UC4Z00NT': [('B0015DYMVO', 4.600273983060278)],\n",
              "             'ABQWMANK4AR63': [('B002YU83YO', 4.666802361790719),\n",
              "              ('B002C7481G', 4.541096543389576),\n",
              "              ('B002ZCXJZE', 4.49349366981294),\n",
              "              ('B000JE7GPY', 4.291329768770906)],\n",
              "             'ABVYGB2TKBO8F': [('B002HWRJY4', 4.664802699508575),\n",
              "              ('B000L47AHG', 4.59512733430183),\n",
              "              ('B000M17AVO', 4.525730514474431)],\n",
              "             'AC6Z7DP1Z5GHD': [('B000F7QRTG', 4.718231160200861)],\n",
              "             'ADLVFFE4VBT8': [('B002ZCXJZE', 4.54541321222606),\n",
              "              ('B000HPV3RW', 4.527097193920039),\n",
              "              ('B001TK3ACA', 4.44308985945101),\n",
              "              ('B0002L5R78', 4.3987639801115055),\n",
              "              ('B001XURP7W', 4.345106769410166)],\n",
              "             'AEJAGHLC675A7': [('B000N99BBC', 4.897639564013422),\n",
              "              ('B002SZEOLG', 4.666490883046126)],\n",
              "             'AEWYUPCNDV7HY': [('B00006B7DA', 4.5526432396308785),\n",
              "              ('B002IC0YL8', 4.4667759784410475)],\n",
              "             'AFNG8O2DXRCUV': [('B001TH7GUU', 4.881951917194877),\n",
              "              ('B000JMJWV2', 4.797346658749449)],\n",
              "             'AFR9GYKAHM37U': [('B000VX6XL6', 4.96413566270604),\n",
              "              ('B0000BVYTV', 4.607190709960701)],\n",
              "             'AGHZXQL9F94T9': [('B0007QKMQY', 4.560002303266559)],\n",
              "             'AGVWTYW0ULXHT': [('B000EVSLRO', 4.2224359678453265),\n",
              "              ('B00169N0BK', 4.204161318936152),\n",
              "              ('B002C7481G', 4.166244501635576),\n",
              "              ('B0002L5R78', 4.111089126585305),\n",
              "              ('B000JE7GPY', 4.095833117204127)],\n",
              "             'AGXMC3ITWZASE': [('B001LK8P14', 4.355843707225594),\n",
              "              ('B00275XTSQ', 4.077717871624537),\n",
              "              ('B002SQK2F2', 3.319578125876468)],\n",
              "             'AGXV8E7XK9J6H': [('B00017LSPI', 4.770599887152994),\n",
              "              ('B00006I53S', 4.2864882430421805)],\n",
              "             'AHROSV6WJOEGY': [('B00006RVPW', 4.236416233877104),\n",
              "              ('B00006I53S', 3.7395176997052357)],\n",
              "             'AI8EMB0HUC6Z5': [('B001TH7GUU', 5),\n",
              "              ('B000N99BBC', 4.813533776462295)],\n",
              "             'AIJQU979J6UFY': [('B0000BVYTV', 4.71970638548549),\n",
              "              ('B002O3W2OI', 3.9713206125584057)],\n",
              "             'AK3GKIV8DEY8B': [('B000Q8UAWY', 4.542767435628751)],\n",
              "             'AKT8TGIT6VVZ5': [('B00005LEN4', 4.7517600393083965),\n",
              "              ('B000M2GYF6', 4.660756809507381)],\n",
              "             'ALDAF4VVLFRHP': [('B002YU83YO', 4.732652546558113),\n",
              "              ('B0011NVMO8', 4.668429987987421)],\n",
              "             'AN81JUYW2SL24': [('B001T9NUJE', 4.716693728602794),\n",
              "              ('B00004SB92', 4.5682558977129855),\n",
              "              ('B002SGATH8', 4.52919966506536),\n",
              "              ('B002VPE1Z2', 4.519382684867892),\n",
              "              ('B00275XTSQ', 4.413738869225067)],\n",
              "             'AOEAD7DPLZE53': [('B000VX6XL6', 4.725975022037405)],\n",
              "             'AOMEH9W6LHC4S': [('B001KELVS0', 4.240324388702058),\n",
              "              ('B00004ZCJE', 4.023925115099223)],\n",
              "             'AONUCJBC85BL': [('B000F7QRTG', 4.400616762033104),\n",
              "              ('B000A6PPOK', 4.209085554326596),\n",
              "              ('B002R5AM7C', 4.005488747138482),\n",
              "              ('B001CHHVCU', 3.4970614013210755)],\n",
              "             'AQIJ3ZEEVCIKU': [('B000N99BBC', 4.526977593194016),\n",
              "              ('B001TANZ0W', 4.4414973697590465),\n",
              "              ('B0000BVYTV', 4.394716390625233),\n",
              "              ('B001TH7GVE', 4.390566697319526),\n",
              "              ('B000HPV3RW', 4.3891251216115865)],\n",
              "             'ARBKYIVNYWK3C': [('B000TKHBDK', 4.3368802659667764),\n",
              "              ('B001TOD7ME', 4.276498146622046),\n",
              "              ('B000JE7GPY', 4.012721756135301),\n",
              "              ('B002UT42UI', 3.9716442560275644),\n",
              "              ('B002TLTGM6', 3.6117247512422814)],\n",
              "             'AROQO2VDODT7': [('B00007GQLU', 4.670119698148016),\n",
              "              ('B00007E7JU', 4.59774767583495)],\n",
              "             'ARX7Z3NI6O0F7': [('B000KO0GY6', 4.545306145672369)],\n",
              "             'ASJSX783R5HTZ': [('B001TH7GUU', 4.472096551225864),\n",
              "              ('B001TH7GVE', 4.464021035752275),\n",
              "              ('B0000BZL1P', 4.376782348172032),\n",
              "              ('B00169N0BK', 4.20041107143097)],\n",
              "             'AT28RL25Q2OLK': [('B000HJPK2C', 4.481393694280115),\n",
              "              ('B002UT42UI', 4.426730981704081)],\n",
              "             'AT6CZDCP4TRGA': [('B00007KDVI', 3.8680139557458464)],\n",
              "             'ATDE9JYCPI0L1': [('B00004SB92', 4.406901570925284)],\n",
              "             'AUCISQA1YXX86': [('B001HSOFI2', 4.345293295977163)],\n",
              "             'AVPNQUVZWMDSX': [('B0010Z28XG', 4.7558348930222225),\n",
              "              ('B001TH7GSW', 4.475175702030849),\n",
              "              ('B002KC55OM', 4.336982197578097),\n",
              "              ('B00007KDVI', 3.9458244709962207)],\n",
              "             'AVSMRPI23DQI2': [('B0007QKMQY', 4.563399872736871),\n",
              "              ('B00093IIRA', 4.308850653593575),\n",
              "              ('B001FA1NK0', 4.280939551155689)],\n",
              "             'AWJWCKB92RJX2': [('B00109Y2DQ', 4.5728015878820445),\n",
              "              ('B000LRMS66', 4.559921483879144)],\n",
              "             'AWPODHOB4GFWL': [('B001HSOFI2', 4.703243402056579)],\n",
              "             'AX7317G153T8W': [('B0025VKUQQ', 4.393783258197274),\n",
              "              ('B001FA1NK0', 4.249935976111065),\n",
              "              ('B001DULYZG', 4.078426615691441),\n",
              "              ('B000TG4BA0', 4.051149587075616),\n",
              "              ('B001GS8FZ2', 3.990197266554927)],\n",
              "             'AYMD77ITD15PT': [('B001CHHVCU', 3.866858183040339)],\n",
              "             'AZ515FFZ7I2P7': [('B001TK3ACA', 4.381729120147143),\n",
              "              ('B002IC0YL8', 4.209858854269307),\n",
              "              ('B001CHHVCU', 3.4924624600661276)],\n",
              "             'AZMY6E8B52L2T': [('B001TH7GUU', 4.948476171733848),\n",
              "              ('B002QEBMAK', 4.634978993402265),\n",
              "              ('B000FBK3QK', 4.5127946496643725)]})"
            ]
          },
          "metadata": {},
          "execution_count": 48
        }
      ]
    },
    {
      "cell_type": "markdown",
      "metadata": {
        "id": "qXw69NTqZf5J"
      },
      "source": [
        "**NOTE:**\n",
        "\n",
        "The above list shows the model recommendations the \"TOP 5\" products for each user. There are some cases in which less than 5 products are recommended as the model is not able to find the appropriate number of neighbors"
      ]
    },
    {
      "cell_type": "code",
      "metadata": {
        "id": "ZWIy5HqzaBIi",
        "colab": {
          "base_uri": "https://localhost:8080/"
        },
        "outputId": "6c706375-5b0c-49fa-8cd4-312e5f54eb29"
      },
      "source": [
        "def precision_recall_at_k(predictions, k=5, threshold=3.5):\n",
        "    '''Return precision and recall at k metrics for each user.'''\n",
        "\n",
        "    # First map the predictions to each user.\n",
        "    user_est_true = defaultdict(list)\n",
        "    for uid, _, true_r, est, _ in predictions:\n",
        "        user_est_true[uid].append((est, true_r))\n",
        "\n",
        "    precisions = dict()\n",
        "    recalls = dict()\n",
        "    for uid, user_ratings in user_est_true.items():\n",
        "\n",
        "        # Sort user ratings by estimated value\n",
        "        user_ratings.sort(key=lambda x: x[0], reverse=True)\n",
        "\n",
        "        # Number of relevant items\n",
        "        n_rel = sum((true_r >= threshold) for (_, true_r) in user_ratings)\n",
        "\n",
        "        # Number of recommended items in top k\n",
        "        n_rec_k = sum((est >= threshold) for (est, _) in user_ratings[:k])\n",
        "\n",
        "        # Number of relevant and recommended items in top k\n",
        "        n_rel_and_rec_k = sum(((true_r >= threshold) and (est >= threshold))\n",
        "                              for (est, true_r) in user_ratings[:k])\n",
        "\n",
        "        # Precision@K: Proportion of recommended items that are relevant\n",
        "        precisions[uid] = n_rel_and_rec_k / n_rec_k if n_rec_k != 0 else 1\n",
        "\n",
        "        # Recall@K: Proportion of relevant items that are recommended\n",
        "        recalls[uid] = n_rel_and_rec_k / n_rel if n_rel != 0 else 1\n",
        "\n",
        "    return precisions, recalls\n",
        "\n",
        "\n",
        "kf = KFold(n_splits=5)\n",
        "svd_model = SVD(n_epochs=20, lr_all=0.005, reg_all=0.2)\n",
        "precs = []\n",
        "recalls = []\n",
        "\n",
        "for trainset, testset in kf.split(surprise_data):\n",
        "    svd_model.fit(trainset)\n",
        "    predictions = svd_model.test(testset)\n",
        "    precisions, recalls = precision_recall_at_k(predictions, k=5, threshold=3.5)\n",
        "\n",
        "    # Precision and recall can then be averaged over all users\n",
        "    print('Precision : ', sum(prec for prec in precisions.values()) / len(precisions))\n",
        "    print('Recalls : ',sum(rec for rec in recalls.values()) / len(recalls))\n"
      ],
      "execution_count": 49,
      "outputs": [
        {
          "output_type": "execute_result",
          "data": {
            "text/plain": [
              "<surprise.prediction_algorithms.matrix_factorization.SVD at 0x7f495f511650>"
            ]
          },
          "metadata": {},
          "execution_count": 49
        },
        {
          "output_type": "stream",
          "name": "stdout",
          "text": [
            "Precision :  0.8697916666666669\n",
            "Recalls :  0.9758522727272727\n"
          ]
        },
        {
          "output_type": "execute_result",
          "data": {
            "text/plain": [
              "<surprise.prediction_algorithms.matrix_factorization.SVD at 0x7f495f511650>"
            ]
          },
          "metadata": {},
          "execution_count": 49
        },
        {
          "output_type": "stream",
          "name": "stdout",
          "text": [
            "Precision :  0.8741441441441442\n",
            "Recalls :  0.9873873873873875\n"
          ]
        },
        {
          "output_type": "execute_result",
          "data": {
            "text/plain": [
              "<surprise.prediction_algorithms.matrix_factorization.SVD at 0x7f495f511650>"
            ]
          },
          "metadata": {},
          "execution_count": 49
        },
        {
          "output_type": "stream",
          "name": "stdout",
          "text": [
            "Precision :  0.8714539007092199\n",
            "Recalls :  0.9960106382978723\n"
          ]
        },
        {
          "output_type": "execute_result",
          "data": {
            "text/plain": [
              "<surprise.prediction_algorithms.matrix_factorization.SVD at 0x7f495f511650>"
            ]
          },
          "metadata": {},
          "execution_count": 49
        },
        {
          "output_type": "stream",
          "name": "stdout",
          "text": [
            "Precision :  0.9042328042328042\n",
            "Recalls :  0.9905517762660621\n"
          ]
        },
        {
          "output_type": "execute_result",
          "data": {
            "text/plain": [
              "<surprise.prediction_algorithms.matrix_factorization.SVD at 0x7f495f511650>"
            ]
          },
          "metadata": {},
          "execution_count": 49
        },
        {
          "output_type": "stream",
          "name": "stdout",
          "text": [
            "Precision :  0.8766098484848485\n",
            "Recalls :  0.987689393939394\n"
          ]
        }
      ]
    },
    {
      "cell_type": "code",
      "metadata": {
        "id": "eY2Cpzim5RZo"
      },
      "source": [
        "pickle.dump(svd_model,open('mostrelevant.pkl','wb'))"
      ],
      "execution_count": 50,
      "outputs": []
    },
    {
      "cell_type": "markdown",
      "metadata": {
        "id": "ZGrGEUqSau-c"
      },
      "source": [
        "**Comment:** Precision and Recall have been calculated at k=5. \n",
        "\n",
        " Precision and Recall are binary metrics used to evaluate models with binary output. We need a way to translate our numerical problem (ratings usually from 1 to 5) into a binary problem (relevant and not relevant items). To do the translation we assume that any true rating above 3.5 corresponds to a relevant item and any true rating below 3.5 is irrelevant.\n",
        "\n",
        "Precision at 5 within the TOP 5 recommendations is alomost 85%. This means that 86% of the recommendation are relevent to the users.\n",
        "Recall at 5 within the TOP 5 recommendations problem is almost 95%. This means that 95% of the total number of the relevent products appear in the top-k result."
      ]
    },
    {
      "cell_type": "markdown",
      "metadata": {
        "id": "UwAdUamYavVP"
      },
      "source": [
        "**CONCLUSION**\n",
        "\n",
        "- EDA shows us that most of the customers give a rating of \"5\". This leads us to the conclusion that customers are very satisfied with their purchase. It may need some investigation to see if some bots or mandatory feedback at lower ratings are causing the majority to give a top rating of \"5\"\n",
        "\n",
        "- Subset of users who have provided 50 or more ratings and products which have received more than 10 ratings have been used to remove outliers and overcome Grey Sheep issue.\n",
        "\n",
        "- Popularity Model - shows the TOP 5 recommended products irrespective of the user. The same 5 product will be recommended for every user.\n",
        "\n",
        "- 'Matrix Factorization Based Algorithms' & 'k-NN Based Algorithms' were used to build Collaborative Filtering model.\n",
        "\n",
        "- SVD++ yields the lowest RMSE which is slightly better than SVD but computational time of SVD++ is 12 times greater than SVD. SVD can be used to get the recommended products.\n",
        "\n",
        "- Precision which is almost 86%. which can be interpreted as 86% of the recommendations are actually relevant to the user.\n",
        "\n",
        "- Recall is at 96% which can be interpreted as percent of the relevant items were recommended in the top-k items."
      ]
    },
    {
      "cell_type": "code",
      "metadata": {
        "id": "66BUxovdbWXp",
        "colab": {
          "base_uri": "https://localhost:8080/"
        },
        "outputId": "4811a2c9-4864-45f2-af4f-23fff16e3021"
      },
      "source": [
        "!pip install colabcode\n",
        "!pip install fastapi"
      ],
      "execution_count": 51,
      "outputs": [
        {
          "output_type": "stream",
          "name": "stdout",
          "text": [
            "Requirement already satisfied: colabcode in /usr/local/lib/python3.7/dist-packages (0.3.0)\n",
            "Requirement already satisfied: nest-asyncio==1.4.3 in /usr/local/lib/python3.7/dist-packages (from colabcode) (1.4.3)\n",
            "Requirement already satisfied: pyngrok>=5.0.0 in /usr/local/lib/python3.7/dist-packages (from colabcode) (5.1.0)\n",
            "Requirement already satisfied: uvicorn==0.13.1 in /usr/local/lib/python3.7/dist-packages (from colabcode) (0.13.1)\n",
            "Requirement already satisfied: jupyterlab==3.0.7 in /usr/local/lib/python3.7/dist-packages (from colabcode) (3.0.7)\n",
            "Requirement already satisfied: jupyter-server~=1.2 in /usr/local/lib/python3.7/dist-packages (from jupyterlab==3.0.7->colabcode) (1.11.0)\n",
            "Requirement already satisfied: ipython in /usr/local/lib/python3.7/dist-packages (from jupyterlab==3.0.7->colabcode) (5.5.0)\n",
            "Requirement already satisfied: packaging in /usr/local/lib/python3.7/dist-packages (from jupyterlab==3.0.7->colabcode) (21.0)\n",
            "Requirement already satisfied: jupyter-core in /usr/local/lib/python3.7/dist-packages (from jupyterlab==3.0.7->colabcode) (4.8.1)\n",
            "Requirement already satisfied: nbclassic~=0.2 in /usr/local/lib/python3.7/dist-packages (from jupyterlab==3.0.7->colabcode) (0.3.2)\n",
            "Requirement already satisfied: tornado>=6.1.0 in /usr/local/lib/python3.7/dist-packages (from jupyterlab==3.0.7->colabcode) (6.1)\n",
            "Requirement already satisfied: jinja2>=2.10 in /usr/local/lib/python3.7/dist-packages (from jupyterlab==3.0.7->colabcode) (2.11.3)\n",
            "Requirement already satisfied: jupyterlab-server~=2.0 in /usr/local/lib/python3.7/dist-packages (from jupyterlab==3.0.7->colabcode) (2.8.2)\n",
            "Requirement already satisfied: click==7.* in /usr/local/lib/python3.7/dist-packages (from uvicorn==0.13.1->colabcode) (7.1.2)\n",
            "Requirement already satisfied: typing-extensions in /usr/local/lib/python3.7/dist-packages (from uvicorn==0.13.1->colabcode) (3.7.4.3)\n",
            "Requirement already satisfied: h11>=0.8 in /usr/local/lib/python3.7/dist-packages (from uvicorn==0.13.1->colabcode) (0.12.0)\n",
            "Requirement already satisfied: MarkupSafe>=0.23 in /usr/local/lib/python3.7/dist-packages (from jinja2>=2.10->jupyterlab==3.0.7->colabcode) (2.0.1)\n",
            "Requirement already satisfied: websocket-client in /usr/local/lib/python3.7/dist-packages (from jupyter-server~=1.2->jupyterlab==3.0.7->colabcode) (1.2.1)\n",
            "Requirement already satisfied: nbconvert in /usr/local/lib/python3.7/dist-packages (from jupyter-server~=1.2->jupyterlab==3.0.7->colabcode) (5.6.1)\n",
            "Requirement already satisfied: terminado>=0.8.3 in /usr/local/lib/python3.7/dist-packages (from jupyter-server~=1.2->jupyterlab==3.0.7->colabcode) (0.12.1)\n",
            "Requirement already satisfied: Send2Trash in /usr/local/lib/python3.7/dist-packages (from jupyter-server~=1.2->jupyterlab==3.0.7->colabcode) (1.8.0)\n",
            "Requirement already satisfied: ipython-genutils in /usr/local/lib/python3.7/dist-packages (from jupyter-server~=1.2->jupyterlab==3.0.7->colabcode) (0.2.0)\n",
            "Requirement already satisfied: prometheus-client in /usr/local/lib/python3.7/dist-packages (from jupyter-server~=1.2->jupyterlab==3.0.7->colabcode) (0.11.0)\n",
            "Requirement already satisfied: argon2-cffi in /usr/local/lib/python3.7/dist-packages (from jupyter-server~=1.2->jupyterlab==3.0.7->colabcode) (21.1.0)\n",
            "Requirement already satisfied: pyzmq>=17 in /usr/local/lib/python3.7/dist-packages (from jupyter-server~=1.2->jupyterlab==3.0.7->colabcode) (22.3.0)\n",
            "Requirement already satisfied: jupyter-client>=6.1.1 in /usr/local/lib/python3.7/dist-packages (from jupyter-server~=1.2->jupyterlab==3.0.7->colabcode) (6.1.12)\n",
            "Requirement already satisfied: traitlets>=4.2.1 in /usr/local/lib/python3.7/dist-packages (from jupyter-server~=1.2->jupyterlab==3.0.7->colabcode) (5.1.0)\n",
            "Requirement already satisfied: anyio<4,>=3.1.0 in /usr/local/lib/python3.7/dist-packages (from jupyter-server~=1.2->jupyterlab==3.0.7->colabcode) (3.3.2)\n",
            "Requirement already satisfied: requests-unixsocket in /usr/local/lib/python3.7/dist-packages (from jupyter-server~=1.2->jupyterlab==3.0.7->colabcode) (0.2.0)\n",
            "Requirement already satisfied: nbformat in /usr/local/lib/python3.7/dist-packages (from jupyter-server~=1.2->jupyterlab==3.0.7->colabcode) (5.1.3)\n",
            "Requirement already satisfied: idna>=2.8 in /usr/local/lib/python3.7/dist-packages (from anyio<4,>=3.1.0->jupyter-server~=1.2->jupyterlab==3.0.7->colabcode) (2.10)\n",
            "Requirement already satisfied: sniffio>=1.1 in /usr/local/lib/python3.7/dist-packages (from anyio<4,>=3.1.0->jupyter-server~=1.2->jupyterlab==3.0.7->colabcode) (1.2.0)\n",
            "Requirement already satisfied: python-dateutil>=2.1 in /usr/local/lib/python3.7/dist-packages (from jupyter-client>=6.1.1->jupyter-server~=1.2->jupyterlab==3.0.7->colabcode) (2.8.2)\n",
            "Requirement already satisfied: requests in /usr/local/lib/python3.7/dist-packages (from jupyterlab-server~=2.0->jupyterlab==3.0.7->colabcode) (2.23.0)\n",
            "Requirement already satisfied: jsonschema>=3.0.1 in /usr/local/lib/python3.7/dist-packages (from jupyterlab-server~=2.0->jupyterlab==3.0.7->colabcode) (4.0.1)\n",
            "Requirement already satisfied: babel in /usr/local/lib/python3.7/dist-packages (from jupyterlab-server~=2.0->jupyterlab==3.0.7->colabcode) (2.9.1)\n",
            "Requirement already satisfied: json5 in /usr/local/lib/python3.7/dist-packages (from jupyterlab-server~=2.0->jupyterlab==3.0.7->colabcode) (0.9.6)\n",
            "Requirement already satisfied: entrypoints>=0.2.2 in /usr/local/lib/python3.7/dist-packages (from jupyterlab-server~=2.0->jupyterlab==3.0.7->colabcode) (0.3)\n",
            "Requirement already satisfied: attrs>=17.4.0 in /usr/local/lib/python3.7/dist-packages (from jsonschema>=3.0.1->jupyterlab-server~=2.0->jupyterlab==3.0.7->colabcode) (21.2.0)\n",
            "Requirement already satisfied: importlib-metadata in /usr/local/lib/python3.7/dist-packages (from jsonschema>=3.0.1->jupyterlab-server~=2.0->jupyterlab==3.0.7->colabcode) (4.8.1)\n",
            "Requirement already satisfied: pyrsistent!=0.17.0,!=0.17.1,!=0.17.2,>=0.14.0 in /usr/local/lib/python3.7/dist-packages (from jsonschema>=3.0.1->jupyterlab-server~=2.0->jupyterlab==3.0.7->colabcode) (0.18.0)\n",
            "Requirement already satisfied: notebook<7 in /usr/local/lib/python3.7/dist-packages (from nbclassic~=0.2->jupyterlab==3.0.7->colabcode) (5.3.1)\n",
            "Requirement already satisfied: ipykernel in /usr/local/lib/python3.7/dist-packages (from notebook<7->nbclassic~=0.2->jupyterlab==3.0.7->colabcode) (4.10.1)\n",
            "Requirement already satisfied: PyYAML in /usr/local/lib/python3.7/dist-packages (from pyngrok>=5.0.0->colabcode) (3.13)\n",
            "Requirement already satisfied: six>=1.5 in /usr/local/lib/python3.7/dist-packages (from python-dateutil>=2.1->jupyter-client>=6.1.1->jupyter-server~=1.2->jupyterlab==3.0.7->colabcode) (1.15.0)\n",
            "Requirement already satisfied: ptyprocess in /usr/local/lib/python3.7/dist-packages (from terminado>=0.8.3->jupyter-server~=1.2->jupyterlab==3.0.7->colabcode) (0.7.0)\n",
            "Requirement already satisfied: cffi>=1.0.0 in /usr/local/lib/python3.7/dist-packages (from argon2-cffi->jupyter-server~=1.2->jupyterlab==3.0.7->colabcode) (1.14.6)\n",
            "Requirement already satisfied: pycparser in /usr/local/lib/python3.7/dist-packages (from cffi>=1.0.0->argon2-cffi->jupyter-server~=1.2->jupyterlab==3.0.7->colabcode) (2.20)\n",
            "Requirement already satisfied: pytz>=2015.7 in /usr/local/lib/python3.7/dist-packages (from babel->jupyterlab-server~=2.0->jupyterlab==3.0.7->colabcode) (2018.9)\n",
            "Requirement already satisfied: zipp>=0.5 in /usr/local/lib/python3.7/dist-packages (from importlib-metadata->jsonschema>=3.0.1->jupyterlab-server~=2.0->jupyterlab==3.0.7->colabcode) (3.5.0)\n",
            "Requirement already satisfied: pexpect in /usr/local/lib/python3.7/dist-packages (from ipython->jupyterlab==3.0.7->colabcode) (4.8.0)\n",
            "Requirement already satisfied: setuptools>=18.5 in /usr/local/lib/python3.7/dist-packages (from ipython->jupyterlab==3.0.7->colabcode) (57.4.0)\n",
            "Requirement already satisfied: pickleshare in /usr/local/lib/python3.7/dist-packages (from ipython->jupyterlab==3.0.7->colabcode) (0.7.5)\n",
            "Requirement already satisfied: prompt-toolkit<2.0.0,>=1.0.4 in /usr/local/lib/python3.7/dist-packages (from ipython->jupyterlab==3.0.7->colabcode) (1.0.18)\n",
            "Requirement already satisfied: decorator in /usr/local/lib/python3.7/dist-packages (from ipython->jupyterlab==3.0.7->colabcode) (4.4.2)\n",
            "Requirement already satisfied: pygments in /usr/local/lib/python3.7/dist-packages (from ipython->jupyterlab==3.0.7->colabcode) (2.6.1)\n",
            "Requirement already satisfied: simplegeneric>0.8 in /usr/local/lib/python3.7/dist-packages (from ipython->jupyterlab==3.0.7->colabcode) (0.8.1)\n",
            "Requirement already satisfied: wcwidth in /usr/local/lib/python3.7/dist-packages (from prompt-toolkit<2.0.0,>=1.0.4->ipython->jupyterlab==3.0.7->colabcode) (0.2.5)\n",
            "Requirement already satisfied: bleach in /usr/local/lib/python3.7/dist-packages (from nbconvert->jupyter-server~=1.2->jupyterlab==3.0.7->colabcode) (4.1.0)\n",
            "Requirement already satisfied: testpath in /usr/local/lib/python3.7/dist-packages (from nbconvert->jupyter-server~=1.2->jupyterlab==3.0.7->colabcode) (0.5.0)\n",
            "Requirement already satisfied: mistune<2,>=0.8.1 in /usr/local/lib/python3.7/dist-packages (from nbconvert->jupyter-server~=1.2->jupyterlab==3.0.7->colabcode) (0.8.4)\n",
            "Requirement already satisfied: pandocfilters>=1.4.1 in /usr/local/lib/python3.7/dist-packages (from nbconvert->jupyter-server~=1.2->jupyterlab==3.0.7->colabcode) (1.5.0)\n",
            "Requirement already satisfied: defusedxml in /usr/local/lib/python3.7/dist-packages (from nbconvert->jupyter-server~=1.2->jupyterlab==3.0.7->colabcode) (0.7.1)\n",
            "Requirement already satisfied: webencodings in /usr/local/lib/python3.7/dist-packages (from bleach->nbconvert->jupyter-server~=1.2->jupyterlab==3.0.7->colabcode) (0.5.1)\n",
            "Requirement already satisfied: pyparsing>=2.0.2 in /usr/local/lib/python3.7/dist-packages (from packaging->jupyterlab==3.0.7->colabcode) (2.4.7)\n",
            "Requirement already satisfied: urllib3!=1.25.0,!=1.25.1,<1.26,>=1.21.1 in /usr/local/lib/python3.7/dist-packages (from requests->jupyterlab-server~=2.0->jupyterlab==3.0.7->colabcode) (1.24.3)\n",
            "Requirement already satisfied: certifi>=2017.4.17 in /usr/local/lib/python3.7/dist-packages (from requests->jupyterlab-server~=2.0->jupyterlab==3.0.7->colabcode) (2021.5.30)\n",
            "Requirement already satisfied: chardet<4,>=3.0.2 in /usr/local/lib/python3.7/dist-packages (from requests->jupyterlab-server~=2.0->jupyterlab==3.0.7->colabcode) (3.0.4)\n",
            "Requirement already satisfied: fastapi in /usr/local/lib/python3.7/dist-packages (0.68.1)\n",
            "Requirement already satisfied: pydantic!=1.7,!=1.7.1,!=1.7.2,!=1.7.3,!=1.8,!=1.8.1,<2.0.0,>=1.6.2 in /usr/local/lib/python3.7/dist-packages (from fastapi) (1.8.2)\n",
            "Requirement already satisfied: starlette==0.14.2 in /usr/local/lib/python3.7/dist-packages (from fastapi) (0.14.2)\n",
            "Requirement already satisfied: typing-extensions>=3.7.4.3 in /usr/local/lib/python3.7/dist-packages (from pydantic!=1.7,!=1.7.1,!=1.7.2,!=1.7.3,!=1.8,!=1.8.1,<2.0.0,>=1.6.2->fastapi) (3.7.4.3)\n"
          ]
        }
      ]
    },
    {
      "cell_type": "code",
      "metadata": {
        "id": "cC0mAyX1wI-n"
      },
      "source": [
        "import uvicorn"
      ],
      "execution_count": 52,
      "outputs": []
    },
    {
      "cell_type": "code",
      "metadata": {
        "id": "rJsHtMvxxF8M"
      },
      "source": [
        "from pydantic import BaseModel"
      ],
      "execution_count": 53,
      "outputs": []
    },
    {
      "cell_type": "code",
      "metadata": {
        "id": "z1wZOMuibXa0"
      },
      "source": [
        "from colabcode import ColabCode"
      ],
      "execution_count": 54,
      "outputs": []
    },
    {
      "cell_type": "code",
      "metadata": {
        "id": "qI-eNsCXg7J_"
      },
      "source": [
        "from fastapi import FastAPI"
      ],
      "execution_count": 55,
      "outputs": []
    },
    {
      "cell_type": "code",
      "metadata": {
        "id": "rVCA6AIfF8mG"
      },
      "source": [
        "from typing import Optional"
      ],
      "execution_count": 56,
      "outputs": []
    },
    {
      "cell_type": "code",
      "metadata": {
        "id": "kBCXzKmWbmaj"
      },
      "source": [
        "#cc = ColabCode(port=12000, password=None, authtoken=None, mount_drive=False, code=False, lab=False)\n",
        "cc = ColabCode(port=12000, code=False)"
      ],
      "execution_count": 57,
      "outputs": []
    },
    {
      "cell_type": "code",
      "metadata": {
        "id": "SCDzJLf_bymq"
      },
      "source": [
        "app = FastAPI()\n",
        "\n",
        "@app.get(\"/\")\n",
        "async def read_root():\n",
        "  return {\"PRODUCT RECOMMENDER\":\"APP2\"}"
      ],
      "execution_count": 58,
      "outputs": []
    },
    {
      "cell_type": "code",
      "metadata": {
        "id": "iuioQ40-6xLK"
      },
      "source": [
        "app.main:app"
      ],
      "execution_count": 59,
      "outputs": []
    },
    {
      "cell_type": "code",
      "metadata": {
        "id": "nPSY5rJAc5O9"
      },
      "source": [
        "cc.run_app(app=app)"
      ],
      "execution_count": null,
      "outputs": []
    },
    {
      "cell_type": "markdown",
      "metadata": {
        "id": "TaAWOMA2JSC4"
      },
      "source": [
        ""
      ]
    },
    {
      "cell_type": "code",
      "metadata": {
        "id": "2yMISn3-b53v",
        "colab": {
          "base_uri": "https://localhost:8080/"
        },
        "outputId": "59fca169-e149-4726-aa93-55f08cab214e"
      },
      "source": [
        "%%writefile models.py\n",
        "from pydantic import BaseModel, conlist\n",
        "from typing import List\n",
        "\n",
        "class electronics_data(BaseModel)\n",
        "data: List[conlist(float, min_items=1, max_items=1)]"
      ],
      "execution_count": 60,
      "outputs": [
        {
          "output_type": "stream",
          "name": "stdout",
          "text": [
            "Public URL: NgrokTunnel: \"https://9b44-35-221-36-166.ngrok.io\" -> \"http://localhost:12000\"\n",
            "Overwriting models.py\n"
          ]
        }
      ]
    },
    {
      "cell_type": "code",
      "metadata": {
        "id": "HvqTI11JhXI9"
      },
      "source": [
        "import pickle\n",
        "import logging\n",
        "from fastapi import FastAPI"
      ],
      "execution_count": 61,
      "outputs": []
    },
    {
      "cell_type": "code",
      "metadata": {
        "id": "gEzsmhKTpeuP"
      },
      "source": [
        "pickle.dump(svd_model,open('mostrelevant.pkl','wb'))"
      ],
      "execution_count": 62,
      "outputs": []
    },
    {
      "cell_type": "code",
      "metadata": {
        "id": "RUT6vJv8uJWB",
        "colab": {
          "base_uri": "https://localhost:8080/"
        },
        "outputId": "8e3fbce7-4ebf-4edf-e586-96ebeac3c82a"
      },
      "source": [
        "%%writefile models.py\n",
        "from pydantic import BaseModel, conlist\n",
        "from typing import List\n",
        "\n",
        "class electronics_data(BaseModel):\n",
        "  userId: object \n",
        "  productId: object \n",
        "  Rating: float64\n",
        "  timestamp: float64\n",
        "data: List[conlist(float, min_items=1, max_items=1)]"
      ],
      "execution_count": 63,
      "outputs": [
        {
          "output_type": "stream",
          "name": "stdout",
          "text": [
            "Overwriting models.py\n"
          ]
        }
      ]
    },
    {
      "cell_type": "code",
      "metadata": {
        "id": "r3lenRM4vH6j"
      },
      "source": [
        "import pickle\n",
        "import logging\n"
      ],
      "execution_count": 64,
      "outputs": []
    },
    {
      "cell_type": "code",
      "metadata": {
        "id": "qMy9Plv7I4qc"
      },
      "source": [
        "# Create a pickle file\n",
        "pickle_out = open (\"mostpopular.pkl\", \"wb\")\n",
        "pickle.dump(most_popular, pickle_out)\n",
        "pickle_out.close()"
      ],
      "execution_count": 65,
      "outputs": []
    },
    {
      "cell_type": "code",
      "metadata": {
        "id": "H-q6bM4kPLZg"
      },
      "source": [
        "# Create the app object\n",
        "app = FastAPI()\n",
        "pickle_in = open (\"mostpopular.pkl\", \"rb\")\n",
        "most_popular=pickle.load(pickle_in)\n"
      ],
      "execution_count": 66,
      "outputs": []
    },
    {
      "cell_type": "code",
      "metadata": {
        "id": "lCL_UUBlP6Wa"
      },
      "source": [
        "# Index route, open automatically on http://127.0.0.1:8000\n",
        "@app.get('/')\n",
        "def index():\n",
        "  return{'message': 'My First Public App'}"
      ],
      "execution_count": 67,
      "outputs": []
    },
    {
      "cell_type": "code",
      "metadata": {
        "id": "VTI00pAdQ-kP",
        "colab": {
          "base_uri": "https://localhost:8080/",
          "height": 198
        },
        "outputId": "a26ef5f1-b215-4836-d8bb-7cdb460fc9bf"
      },
      "source": [
        "# Route with a single param \n",
        "@app.get('/Product Recommender')\n",
        "def get_name(Product Recommender: str):\n",
        "  return {'message': f'First, {Product Recommender}'}"
      ],
      "execution_count": 68,
      "outputs": [
        {
          "output_type": "error",
          "ename": "SyntaxError",
          "evalue": "ignored",
          "traceback": [
            "\u001b[0;36m  File \u001b[0;32m\"<ipython-input-68-b7d6ca37e63b>\"\u001b[0;36m, line \u001b[0;32m3\u001b[0m\n\u001b[0;31m    def get_name(Product Recommender: str):\u001b[0m\n\u001b[0m                                   ^\u001b[0m\n\u001b[0;31mSyntaxError\u001b[0m\u001b[0;31m:\u001b[0m invalid syntax\n"
          ]
        },
        {
          "output_type": "stream",
          "name": "stderr",
          "text": [
            "INFO:     Started server process [5207]\n",
            "INFO:     Waiting for application startup.\n",
            "INFO:     Application startup complete.\n",
            "INFO:     Uvicorn running on http://127.0.0.1:12000 (Press CTRL+C to quit)\n"
          ]
        }
      ]
    },
    {
      "cell_type": "code",
      "metadata": {
        "id": "lSM7vBrOu69o"
      },
      "source": [
        "# Expose the prediction\n",
        "@app.post('/predict')\n",
        "top_n = defaultdict(list)"
      ],
      "execution_count": null,
      "outputs": []
    },
    {
      "cell_type": "code",
      "metadata": {
        "id": "HOEP70xqrEFi"
      },
      "source": [
        "\n",
        "@app.get('/top_n')\n",
        "def get_top_n(predictions, n=k):\n",
        "    # First map the predictions to each user.\n",
        "    top_n = defaultdict(list)\n",
        "    for uid, iid, true_r, est, _ in predictions:\n",
        "        top_n[uid].append((iid, est))\n",
        "\n",
        "    # Then sort the predictions for each user and retrieve the k highest ones.\n",
        "    for uid, user_ratings in top_n.items():\n",
        "        user_ratings.sort(key=lambda x: x[1], reverse=True)\n",
        "        top_n[uid] = user_ratings[:n]\n",
        "\n",
        "    return top_n\n",
        "\n",
        "top_n = get_top_n(predictions_svd, n=k)\n",
        "top_n\n",
        "return {'prediction': top_n}"
      ],
      "execution_count": null,
      "outputs": []
    },
    {
      "cell_type": "code",
      "metadata": {
        "id": "U8xVO-2WtS9C"
      },
      "source": [
        "%%writefile models.py\n",
        "from pydantic import BaseModel, conlist\n",
        "from typing import List\n",
        "\n",
        "class electronics_data(BaseModel):\n",
        "  userId: object \n",
        "  productId: object \n",
        "  Rating: float64\n",
        "  timestamp: float64\n",
        "data: List[conlist(float, min_items=1, max_items=1)]"
      ],
      "execution_count": null,
      "outputs": []
    },
    {
      "cell_type": "code",
      "metadata": {
        "id": "hD4QmCbV6ndk"
      },
      "source": [
        "from fastapi import FastAPI\n",
        "\n",
        "app = FastAPI(title=\"Model Deployment\", description=\"with FastAPI and Colab\", version=\"1.0\")"
      ],
      "execution_count": null,
      "outputs": []
    },
    {
      "cell_type": "code",
      "metadata": {
        "id": "55ri56t_63BU"
      },
      "source": [
        "##Initialize logging\n",
        "#my_logger = logging.getLogger()\n",
        "#my_logger.setLevel(logging.DEBUG)\n",
        "#logging.basicConfig(level=logging.DEBUG, filename='logs.log')"
      ],
      "execution_count": null,
      "outputs": []
    },
    {
      "cell_type": "code",
      "metadata": {
        "id": "ZAoROwHscryN",
        "colab": {
          "base_uri": "https://localhost:8080/",
          "height": 130
        },
        "outputId": "fe7ccd56-e719-4b6b-91d1-186cb10f3141"
      },
      "source": [
        "model=\"/content/mostrelevant.pkl\"\n",
        "@app.on_event(\"startup\")\n",
        "def load_model():\n",
        "    global model\n",
        "    model = pickle.load(open(\"mostrelevant.pkl\", \"rb\")\n",
        "\n",
        "@app.get('/')\n",
        "def index():\n",
        "  return {'message': 'Electronic Products Recommender App'}\n",
        "\n",
        "@app.post('/predict')\n",
        "async def get_predictions \n",
        "data= dict(popularity_recommendations)['data']:\n",
        "        print(data)\n",
        "        prediction = list(map(lambda x: popularity_recommendations_types[x], model.predict(data).tolist()))\n",
        "        log_proba = model.predict_log_proba(data).tolist()\n",
        "        return {\"prediction\": prediction, \"log_proba\": log_proba}\n",
        "\n",
        "    except:\n",
        "        my_logger.error(\"Something went wrong!\")\n",
        "        return {\"prediction\": \"error\"}"
      ],
      "execution_count": 69,
      "outputs": [
        {
          "output_type": "error",
          "ename": "SyntaxError",
          "evalue": "ignored",
          "traceback": [
            "\u001b[0;36m  File \u001b[0;32m\"<ipython-input-69-dac2fa0a245e>\"\u001b[0;36m, line \u001b[0;32m8\u001b[0m\n\u001b[0;31m    def index():\u001b[0m\n\u001b[0m      ^\u001b[0m\n\u001b[0;31mSyntaxError\u001b[0m\u001b[0;31m:\u001b[0m invalid syntax\n"
          ]
        }
      ]
    },
    {
      "cell_type": "code",
      "metadata": {
        "id": "a6Pg5c09xaB9"
      },
      "source": [
        "#server = ColabCode(port=10000, code=False)"
      ],
      "execution_count": null,
      "outputs": []
    },
    {
      "cell_type": "code",
      "metadata": {
        "id": "c-RsefyExkdE"
      },
      "source": [
        "#server.run_app(app=app)"
      ],
      "execution_count": null,
      "outputs": []
    },
    {
      "cell_type": "code",
      "metadata": {
        "id": "zXQ4dKJ9F9Z6"
      },
      "source": [
        "!pip install colabcode\n",
        "!pip install fastapi"
      ],
      "execution_count": null,
      "outputs": []
    },
    {
      "cell_type": "code",
      "metadata": {
        "id": "7Avz5kqjFhGO"
      },
      "source": [
        "from colabcode import ColabCode\n",
        "from fastapi import FastAPI"
      ],
      "execution_count": null,
      "outputs": []
    },
    {
      "cell_type": "code",
      "metadata": {
        "id": "sv6ztCYwF5Xs"
      },
      "source": [
        "cc = ColabCode(port=12000, code=False)"
      ],
      "execution_count": null,
      "outputs": []
    },
    {
      "cell_type": "code",
      "metadata": {
        "id": "lHWIZAjQGDsI"
      },
      "source": [
        "app = FastAPI()\n",
        "\n",
        "@app.get(\"/\") # no end point, just the root, a very light-weight app\n",
        "async def read_root():\n",
        "  return {\"message\": \"My First Product Recommender\"}"
      ],
      "execution_count": null,
      "outputs": []
    },
    {
      "cell_type": "code",
      "metadata": {
        "id": "aWVVjcBZGQ7F"
      },
      "source": [
        "cc.run_app(app=app)"
      ],
      "execution_count": null,
      "outputs": []
    },
    {
      "cell_type": "code",
      "metadata": {
        "id": "nQbvvvNqGVaz"
      },
      "source": [
        "import pickle"
      ],
      "execution_count": null,
      "outputs": []
    },
    {
      "cell_type": "code",
      "metadata": {
        "id": "5SnL8iMXGetp"
      },
      "source": [
        "import pickle\n",
        "import logging\n",
        "from fastapi import FastAPI\n",
        "from models import Iris\n",
        "\n",
        "app = FastAPI(title=\"ML Models as API on Google Colab\", description=\"with FastAPI and ColabCode\", version=\"1.0\")\n",
        "\n",
        "# # Initialize logging\n",
        "# my_logger = logging.getLogger()\n",
        "# my_logger.setLevel(logging.DEBUG)\n",
        "# logging.basicConfig(level=logging.DEBUG, filename='logs.log')\n",
        "\n",
        "model = None\n",
        "\n",
        "@app.on_event(\"startup\")\n",
        "def load_model():\n",
        "    global model\n",
        "    model = pickle.load(open(\"model_gb.pkl\", \"rb\"))\n",
        "\n",
        "@app.post(\"/api\", tags=[\"prediction\"])\n",
        "async def get_predictions(iris: Iris):\n",
        "    try:\n",
        "        data = dict(iris)['data']\n",
        "        print(data)\n",
        "        iris_types = {\n",
        "            0: 'setosa',\n",
        "            1: 'versicolor',\n",
        "            2: 'virginica'\n",
        "        }\n",
        "        prediction = list(map(lambda x: iris_types[x], model.predict(data).tolist()))\n",
        "        log_proba = model.predict_log_proba(data).tolist()\n",
        "        return {\"prediction\": prediction, \"log_proba\": log_proba}\n",
        "    except:\n",
        "        my_logger.error(\"Something went wrong!\")\n",
        "        return {\"prediction\": \"error\"}"
      ],
      "execution_count": null,
      "outputs": []
    },
    {
      "cell_type": "code",
      "metadata": {
        "id": "CDu1719yHHjr"
      },
      "source": [
        "cc.run_app(app=app)"
      ],
      "execution_count": null,
      "outputs": []
    }
  ]
}