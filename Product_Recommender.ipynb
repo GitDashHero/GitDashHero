{
  "nbformat": 4,
  "nbformat_minor": 0,
  "metadata": {
    "colab": {
      "name": "Product Recommender.ipynb",
      "provenance": [],
      "collapsed_sections": [],
      "include_colab_link": true
    },
    "kernelspec": {
      "display_name": "Python 3",
      "name": "python3"
    },
    "language_info": {
      "name": "python"
    }
  },
  "cells": [
    {
      "cell_type": "markdown",
      "metadata": {
        "id": "view-in-github",
        "colab_type": "text"
      },
      "source": [
        "<a href=\"https://colab.research.google.com/github/GitDashHero/GitDashHero/blob/main/Product_Recommender.ipynb\" target=\"_parent\"><img src=\"https://colab.research.google.com/assets/colab-badge.svg\" alt=\"Open In Colab\"/></a>"
      ]
    },
    {
      "cell_type": "markdown",
      "metadata": {
        "id": "mbDSs2p9CTIN"
      },
      "source": [
        "## **PRODUCT RECOMMENDER SYSTEM - CSDA 1040**"
      ]
    },
    {
      "cell_type": "markdown",
      "metadata": {
        "id": "USFFlQzTCifz"
      },
      "source": [
        "### **Context: Building a Product Recommender System**"
      ]
    },
    {
      "cell_type": "markdown",
      "metadata": {
        "id": "xbyEWEM6DdKZ"
      },
      "source": [
        "Everyday millions of products get sold online. It has been established that products recommended to users based on popularity and other metrics on e-commerce websites leads to enhanced user experience. Most popular e-commerce website boost their average order value and also increases revenues significantly thereby improves conversion. Recommender systems are among the most visible and successful applications of Articial Intelligence and Machine Learning technology in practice. Nowadays, such systems accompany us\n",
        "through our daily online lives — for example on e-commerce sites, on media streaming platforms, or in social networks. They help us by suggesting things that are assumed to be of interest to us and which we are correspondingly likely to inspect, consume, or purchase."
      ]
    },
    {
      "cell_type": "markdown",
      "metadata": {
        "id": "l0YZAIlcFoJx"
      },
      "source": [
        "**Data Source: Source** - Amazon Reviews data (http://jmcauley.ucsd.edu/data/amazon/) The repository has several datasets. For this case study, we are using the Electronics dataset.\n",
        "Learning Outcomes"
      ]
    },
    {
      "cell_type": "markdown",
      "metadata": {
        "id": "fGTxhX5XGkvI"
      },
      "source": [
        "**BUSINESS PROBLEM:**\n",
        "\n",
        "As a business that is invested in online sales, it has become imperative to build a product recommender system. Customers that are accustomed to online shopping have come to expect a level of personalization and recommendation to enhance their experience and might move away to websites that are more perceptive to their needs.\n",
        "\n",
        "a) Helps User find the right type of product more easily which leads to better levels of engagement\n",
        "\n",
        "b) Also helps the business use cross-sell, upsell and entice customers which leads to increased sales\n",
        "\n",
        "c) Leads to a personalized experience "
      ]
    },
    {
      "cell_type": "markdown",
      "metadata": {
        "id": "VFp8xxhBGk60"
      },
      "source": [
        "\n",
        "**ANALYTICAL OBJECTIVE**\n",
        "\n",
        "Build a Recommender Model that recommends products to users either based on popularity or ratings to increase customer engagement and drive sales. \n",
        "\n",
        "There are different types of recommender models based on popularity, user based, content based recommendation, collaborative filtering.\n",
        "\n"
      ]
    },
    {
      "cell_type": "code",
      "metadata": {
        "id": "MQUfJbd_B7_O"
      },
      "source": [
        "# Importing Libraries\n",
        "\n",
        "import pandas as pd\n",
        "import numpy as np\n",
        "import seaborn as sns\n",
        "import matplotlib.pyplot as plt\n",
        "%matplotlib inline\n",
        "from sklearn.model_selection import train_test_split\n",
        "import numpy as np # linear algebra\n",
        "import pandas as pd # data processing, CSV file I/O (e.g. pd.read_csv)\n",
        "import os\n",
        "from IPython.core.interactiveshell import InteractiveShell\n",
        "InteractiveShell.ast_node_interactivity = \"all\"\n",
        "import math\n",
        "import json\n",
        "import time\n",
        "import matplotlib.pyplot as plt\n",
        "import seaborn as sns\n",
        "from sklearn.metrics.pairwise import cosine_similarity\n",
        "from sklearn.model_selection import train_test_split\n",
        "from sklearn.neighbors import NearestNeighbors\n",
        "import scipy.sparse\n",
        "from scipy.sparse import csr_matrix\n",
        "from scipy.sparse.linalg import svds\n",
        "import warnings; warnings.simplefilter('ignore')\n",
        "%matplotlib inline\n",
        "\n",
        "# suppress display of warnings\n",
        "warnings.filterwarnings('ignore')\n",
        "\n",
        "# display all dataframe columns\n",
        "pd.options.display.max_columns = None\n",
        "\n",
        "# to set the limit to 3 decimals\n",
        "pd.options.display.float_format = '{:.7f}'.format\n",
        "\n",
        "# display all dataframe rows\n",
        "pd.options.display.max_rows = None\n",
        "\n"
      ],
      "execution_count": 1,
      "outputs": []
    },
    {
      "cell_type": "code",
      "metadata": {
        "colab": {
          "base_uri": "https://localhost:8080/",
          "height": 204
        },
        "id": "lh0cdlZFNTNb",
        "outputId": "847d68dc-5ae3-4aa5-c37b-67fbe7a809bc"
      },
      "source": [
        "# Loading Data with headers and display\n",
        "electronics_data = pd.read_csv(\"ratings_Electronics.csv\", names=['userId', 'productId','Rating','timestamp'])\n",
        "electronics_data = electronics_data.iloc[1:]\n",
        "electronics_data.head()"
      ],
      "execution_count": 2,
      "outputs": [
        {
          "output_type": "execute_result",
          "data": {
            "text/html": [
              "<div>\n",
              "<style scoped>\n",
              "    .dataframe tbody tr th:only-of-type {\n",
              "        vertical-align: middle;\n",
              "    }\n",
              "\n",
              "    .dataframe tbody tr th {\n",
              "        vertical-align: top;\n",
              "    }\n",
              "\n",
              "    .dataframe thead th {\n",
              "        text-align: right;\n",
              "    }\n",
              "</style>\n",
              "<table border=\"1\" class=\"dataframe\">\n",
              "  <thead>\n",
              "    <tr style=\"text-align: right;\">\n",
              "      <th></th>\n",
              "      <th>userId</th>\n",
              "      <th>productId</th>\n",
              "      <th>Rating</th>\n",
              "      <th>timestamp</th>\n",
              "    </tr>\n",
              "  </thead>\n",
              "  <tbody>\n",
              "    <tr>\n",
              "      <th>1</th>\n",
              "      <td>A2CX7LUOHB2NDG</td>\n",
              "      <td>0321732944</td>\n",
              "      <td>5.0000000</td>\n",
              "      <td>1341100800.0000000</td>\n",
              "    </tr>\n",
              "    <tr>\n",
              "      <th>2</th>\n",
              "      <td>A2NWSAGRHCP8N5</td>\n",
              "      <td>0439886341</td>\n",
              "      <td>1.0000000</td>\n",
              "      <td>1367193600.0000000</td>\n",
              "    </tr>\n",
              "    <tr>\n",
              "      <th>3</th>\n",
              "      <td>A2WNBOD3WNDNKT</td>\n",
              "      <td>0439886341</td>\n",
              "      <td>3.0000000</td>\n",
              "      <td>1374451200.0000000</td>\n",
              "    </tr>\n",
              "    <tr>\n",
              "      <th>4</th>\n",
              "      <td>A1GI0U4ZRJA8WN</td>\n",
              "      <td>0439886341</td>\n",
              "      <td>1.0000000</td>\n",
              "      <td>1334707200.0000000</td>\n",
              "    </tr>\n",
              "    <tr>\n",
              "      <th>5</th>\n",
              "      <td>A1QGNMC6O1VW39</td>\n",
              "      <td>0511189877</td>\n",
              "      <td>5.0000000</td>\n",
              "      <td>1397433600.0000000</td>\n",
              "    </tr>\n",
              "  </tbody>\n",
              "</table>\n",
              "</div>"
            ],
            "text/plain": [
              "           userId   productId    Rating          timestamp\n",
              "1  A2CX7LUOHB2NDG  0321732944 5.0000000 1341100800.0000000\n",
              "2  A2NWSAGRHCP8N5  0439886341 1.0000000 1367193600.0000000\n",
              "3  A2WNBOD3WNDNKT  0439886341 3.0000000 1374451200.0000000\n",
              "4  A1GI0U4ZRJA8WN  0439886341 1.0000000 1334707200.0000000\n",
              "5  A1QGNMC6O1VW39  0511189877 5.0000000 1397433600.0000000"
            ]
          },
          "metadata": {},
          "execution_count": 2
        }
      ]
    },
    {
      "cell_type": "markdown",
      "metadata": {
        "id": "i8c9Od9vYHFL"
      },
      "source": [
        "**DATA EXPLORATION**"
      ]
    },
    {
      "cell_type": "code",
      "metadata": {
        "colab": {
          "base_uri": "https://localhost:8080/"
        },
        "id": "XMGxaOy8X7wT",
        "outputId": "cb62e1bc-a3c4-4761-8898-f261b0cf1a7d"
      },
      "source": [
        "# Datatypes\n",
        "\n",
        "electronics_data.info()"
      ],
      "execution_count": 3,
      "outputs": [
        {
          "output_type": "stream",
          "name": "stdout",
          "text": [
            "<class 'pandas.core.frame.DataFrame'>\n",
            "RangeIndex: 3192096 entries, 1 to 3192096\n",
            "Data columns (total 4 columns):\n",
            " #   Column     Dtype  \n",
            "---  ------     -----  \n",
            " 0   userId     object \n",
            " 1   productId  object \n",
            " 2   Rating     float64\n",
            " 3   timestamp  float64\n",
            "dtypes: float64(2), object(2)\n",
            "memory usage: 97.4+ MB\n"
          ]
        }
      ]
    },
    {
      "cell_type": "code",
      "metadata": {
        "colab": {
          "base_uri": "https://localhost:8080/"
        },
        "id": "xpxZpQMvX77C",
        "outputId": "874bb727-89f4-4d8f-be4b-a4bcdac44429"
      },
      "source": [
        "# Shape of the data\n",
        "electronics_data.shape"
      ],
      "execution_count": 4,
      "outputs": [
        {
          "output_type": "execute_result",
          "data": {
            "text/plain": [
              "(3192096, 4)"
            ]
          },
          "metadata": {},
          "execution_count": 4
        }
      ]
    },
    {
      "cell_type": "code",
      "metadata": {
        "colab": {
          "base_uri": "https://localhost:8080/"
        },
        "id": "8eQG4-tbX8Ek",
        "outputId": "29015a95-17e7-4378-ad21-110078efe583"
      },
      "source": [
        "# More on our data\n",
        "electronics_data.describe()['Rating'].T"
      ],
      "execution_count": 5,
      "outputs": [
        {
          "output_type": "execute_result",
          "data": {
            "text/plain": [
              "count   3192095.0000000\n",
              "mean          3.9752777\n",
              "std           1.4021868\n",
              "min           1.0000000\n",
              "25%           3.0000000\n",
              "50%           5.0000000\n",
              "75%           5.0000000\n",
              "max           5.0000000\n",
              "Name: Rating, dtype: float64"
            ]
          },
          "metadata": {},
          "execution_count": 5
        }
      ]
    },
    {
      "cell_type": "code",
      "metadata": {
        "colab": {
          "base_uri": "https://localhost:8080/"
        },
        "id": "vtY4_9VhX8Ng",
        "outputId": "1365e240-157a-4673-8398-0df01fa443d5"
      },
      "source": [
        "# Checking for any null or missing values\n",
        "print('Number of missing values across columns: \\n',electronics_data.isnull().sum())"
      ],
      "execution_count": 6,
      "outputs": [
        {
          "output_type": "stream",
          "name": "stdout",
          "text": [
            "Number of missing values across columns: \n",
            " userId       0\n",
            "productId    0\n",
            "Rating       1\n",
            "timestamp    1\n",
            "dtype: int64\n"
          ]
        }
      ]
    },
    {
      "cell_type": "code",
      "metadata": {
        "colab": {
          "base_uri": "https://localhost:8080/"
        },
        "id": "iw7VE_qAZNEg",
        "outputId": "360fec7b-8e21-4a85-c2df-f7f8a33f6c45"
      },
      "source": [
        "#Find the minimum and maximum ratings\n",
        "print('Minimum rating is: %d' %(electronics_data.Rating.min()))\n",
        "print('Maximum rating is: %d' %(electronics_data.Rating.max()))"
      ],
      "execution_count": 7,
      "outputs": [
        {
          "output_type": "stream",
          "name": "stdout",
          "text": [
            "Minimum rating is: 1\n",
            "Maximum rating is: 5\n"
          ]
        }
      ]
    },
    {
      "cell_type": "markdown",
      "metadata": {
        "id": "_s_9pa84a6ys"
      },
      "source": [
        "**DATA DISTRIBUTION**"
      ]
    },
    {
      "cell_type": "code",
      "metadata": {
        "id": "3zcuu-wNfZjH",
        "colab": {
          "base_uri": "https://localhost:8080/",
          "height": 391
        },
        "outputId": "1d998cab-5506-4c5b-f5ef-c45ff0cbb837"
      },
      "source": [
        "\n",
        "sns.pairplot(electronics_data, diag_kind= 'kde')\n"
      ],
      "execution_count": 8,
      "outputs": [
        {
          "output_type": "execute_result",
          "data": {
            "text/plain": [
              "<seaborn.axisgrid.PairGrid at 0x7f8fbadaa6d0>"
            ]
          },
          "metadata": {},
          "execution_count": 8
        },
        {
          "output_type": "display_data",
          "data": {
            "image/png": "[encoded data removed]",
            "text/plain": [
              "<Figure size 360x360 with 6 Axes>"
            ]
          },
          "metadata": {
            "needs_background": "light"
          }
        }
      ]
    },
    {
      "cell_type": "code",
      "metadata": {
        "id": "fiCo7dzoX8X1",
        "colab": {
          "base_uri": "https://localhost:8080/",
          "height": 204
        },
        "outputId": "303b2e32-72f5-4b4d-b658-1f580961a201"
      },
      "source": [
        "# Checking the distribution of the ratings\n",
        "rating_counts = pd.DataFrame(electronics_data['Rating'].value_counts()).reset_index()\n",
        "rating_counts.columns = ['Labels', 'Ratings']\n",
        "rating_counts"
      ],
      "execution_count": 9,
      "outputs": [
        {
          "output_type": "execute_result",
          "data": {
            "text/html": [
              "<div>\n",
              "<style scoped>\n",
              "    .dataframe tbody tr th:only-of-type {\n",
              "        vertical-align: middle;\n",
              "    }\n",
              "\n",
              "    .dataframe tbody tr th {\n",
              "        vertical-align: top;\n",
              "    }\n",
              "\n",
              "    .dataframe thead th {\n",
              "        text-align: right;\n",
              "    }\n",
              "</style>\n",
              "<table border=\"1\" class=\"dataframe\">\n",
              "  <thead>\n",
              "    <tr style=\"text-align: right;\">\n",
              "      <th></th>\n",
              "      <th>Labels</th>\n",
              "      <th>Ratings</th>\n",
              "    </tr>\n",
              "  </thead>\n",
              "  <tbody>\n",
              "    <tr>\n",
              "      <th>0</th>\n",
              "      <td>5.0000000</td>\n",
              "      <td>1733884</td>\n",
              "    </tr>\n",
              "    <tr>\n",
              "      <th>1</th>\n",
              "      <td>4.0000000</td>\n",
              "      <td>619460</td>\n",
              "    </tr>\n",
              "    <tr>\n",
              "      <th>2</th>\n",
              "      <td>1.0000000</td>\n",
              "      <td>391617</td>\n",
              "    </tr>\n",
              "    <tr>\n",
              "      <th>3</th>\n",
              "      <td>3.0000000</td>\n",
              "      <td>256319</td>\n",
              "    </tr>\n",
              "    <tr>\n",
              "      <th>4</th>\n",
              "      <td>2.0000000</td>\n",
              "      <td>190815</td>\n",
              "    </tr>\n",
              "  </tbody>\n",
              "</table>\n",
              "</div>"
            ],
            "text/plain": [
              "     Labels  Ratings\n",
              "0 5.0000000  1733884\n",
              "1 4.0000000   619460\n",
              "2 1.0000000   391617\n",
              "3 3.0000000   256319\n",
              "4 2.0000000   190815"
            ]
          },
          "metadata": {},
          "execution_count": 9
        }
      ]
    },
    {
      "cell_type": "code",
      "metadata": {
        "id": "emjJwbphkG5h",
        "colab": {
          "base_uri": "https://localhost:8080/",
          "height": 776
        },
        "outputId": "b8c62720-1f48-40f2-b9a0-55ea4d8193d0"
      },
      "source": [
        "fig, (ax1, ax2) = plt.subplots(nrows=1, ncols=2, figsize=(15,7))\n",
        "sns.countplot(electronics_data['Rating'], ax=ax1)\n",
        "ax1.set_xlabel('Rating Distribution', fontsize=10)\n",
        "ax1.set_ylabel('Count', fontsize=10)\n",
        "\n",
        "\n",
        "explode = (0.1, 0, 0.1, 0, 0)\n",
        "ax2.pie(rating_counts[\"Ratings\"], explode=explode, labels=rating_counts.Labels, autopct='%1.2f%%',\n",
        "        shadow=True, startangle=70)\n",
        "ax2.axis('equal')\n",
        "plt.title(\"Rating Ratio\")\n",
        "plt.legend(rating_counts.Labels, loc=3)\n",
        "plt.show()"
      ],
      "execution_count": 10,
      "outputs": [
        {
          "output_type": "execute_result",
          "data": {
            "text/plain": [
              "<matplotlib.axes._subplots.AxesSubplot at 0x7f8faf867b50>"
            ]
          },
          "metadata": {},
          "execution_count": 10
        },
        {
          "output_type": "execute_result",
          "data": {
            "text/plain": [
              "Text(0.5, 0, 'Rating Distribution')"
            ]
          },
          "metadata": {},
          "execution_count": 10
        },
        {
          "output_type": "execute_result",
          "data": {
            "text/plain": [
              "Text(0, 0.5, 'Count')"
            ]
          },
          "metadata": {},
          "execution_count": 10
        },
        {
          "output_type": "execute_result",
          "data": {
            "text/plain": [
              "([<matplotlib.patches.Wedge at 0x7f8faf3ff450>,\n",
              "  <matplotlib.patches.Wedge at 0x7f8faf3a9550>,\n",
              "  <matplotlib.patches.Wedge at 0x7f8faf3a9dd0>,\n",
              "  <matplotlib.patches.Wedge at 0x7f8faf3afad0>,\n",
              "  <matplotlib.patches.Wedge at 0x7f8faf3ba9d0>],\n",
              " [Text(-1.1727772471401794, 0.2541525695134766, '5.0'),\n",
              "  Text(0.5578939074679748, -0.9480265755822012, '4.0'),\n",
              "  Text(1.1988485727202942, -0.05255568177194563, '1.0'),\n",
              "  Text(0.9116566810693687, 0.6155339924501193, '3.0'),\n",
              "  Text(0.5625860855793836, 0.9452496476129819, '2.0')],\n",
              " [Text(-0.6841200608317713, 0.14825566554952802, '54.32%'),\n",
              "  Text(0.3043057677098044, -0.5171054048630187, '19.41%'),\n",
              "  Text(0.6993283340868381, -0.030657481033634953, '12.27%'),\n",
              "  Text(0.49726728058329195, 0.3357458140637014, '8.03%'),\n",
              "  Text(0.30686513758875467, 0.5155907168798083, '5.98%')])"
            ]
          },
          "metadata": {},
          "execution_count": 10
        },
        {
          "output_type": "execute_result",
          "data": {
            "text/plain": [
              "(-1.2157865398449696,\n",
              " 1.2150826205469787,\n",
              " -1.1149910052649246,\n",
              " 1.1313380691203048)"
            ]
          },
          "metadata": {},
          "execution_count": 10
        },
        {
          "output_type": "execute_result",
          "data": {
            "text/plain": [
              "Text(0.5, 1.0, 'Rating Ratio')"
            ]
          },
          "metadata": {},
          "execution_count": 10
        },
        {
          "output_type": "execute_result",
          "data": {
            "text/plain": [
              "<matplotlib.legend.Legend at 0x7f8faf3ff310>"
            ]
          },
          "metadata": {},
          "execution_count": 10
        },
        {
          "output_type": "display_data",
          "data": {
            "image/png": "[encoded data removed]",
            "text/plain": [
              "<Figure size 1080x504 with 2 Axes>"
            ]
          },
          "metadata": {
            "needs_background": "light"
          }
        }
      ]
    },
    {
      "cell_type": "markdown",
      "metadata": {
        "id": "SZCB8bvVf1MI"
      },
      "source": [
        "**OBSERVATIONS:**\n",
        "\n",
        "We can see that most customers provide a rating of \"5\". Very few customers have given a rating of \"2\". \n",
        "\n",
        "From the barplot and pia chart we can clearly see that approx 55% of data have 5 rating followed by 4(approx 19%). Least number of people have given 2 rating. \n",
        "\n",
        "Either most products are liked by customers or there is more to investigate such as dropping of reviews by bots or promotional events. \n",
        "\n",
        "Are customers asked for feedback, if they give a lower rating thus making it easier to go with a rating of \"5\"?"
      ]
    },
    {
      "cell_type": "markdown",
      "metadata": {
        "id": "x0h_5KZjbC_r"
      },
      "source": [
        "**UNIQUE USERS AND NUMBER OF UNIQUE PRODUCTS**"
      ]
    },
    {
      "cell_type": "code",
      "metadata": {
        "id": "0767NVZ3j4mN"
      },
      "source": [
        "electronics_data.productId = electronics_data.productId.fillna('')"
      ],
      "execution_count": 11,
      "outputs": []
    },
    {
      "cell_type": "code",
      "metadata": {
        "id": "u6bglPj2a4b9",
        "colab": {
          "base_uri": "https://localhost:8080/"
        },
        "outputId": "db32bffc-04c7-4f0d-fc0c-477d8da79f75"
      },
      "source": [
        "print(\"\\nTotal no of Ratings :\",electronics_data.shape[0])\n",
        "print(\"Total No of Users   :\", len(np.unique(electronics_data.userId)))\n",
        "print(\"Total No of Products  :\", len(np.unique(electronics_data.productId)))"
      ],
      "execution_count": 12,
      "outputs": [
        {
          "output_type": "stream",
          "name": "stdout",
          "text": [
            "\n",
            "Total no of Ratings : 3192096\n",
            "Total No of Users   : 2029434\n",
            "Total No of Products  : 173704\n"
          ]
        }
      ]
    },
    {
      "cell_type": "code",
      "metadata": {
        "id": "gC8gIQN8a4nW"
      },
      "source": [
        "#Dropping the Timestamp Column and it is not needed for our analysis\n",
        "\n",
        "electronics_data.drop(['timestamp'], axis=1,inplace=True)"
      ],
      "execution_count": 13,
      "outputs": []
    },
    {
      "cell_type": "markdown",
      "metadata": {
        "id": "-UwKu3H-lu1s"
      },
      "source": [
        "**POPULARITY BASED RECOMMENDER**\n",
        "\n",
        "Popularity based recommendation system uses the most frequently sold items to drive sales. For example, if any product which is usually bought by every new user then there are chances that it may suggest that item to the user who just signed up.\n",
        "\n",
        "The problems with popularity based recommendation system is that the personalization is not available with this method i.e. even though you know the behaviour of the user you cannot recommend items accordingly.\n",
        "\n",
        "This is good for new users when data is not available on their preferences.\n"
      ]
    },
    {
      "cell_type": "code",
      "metadata": {
        "id": "EWbWRTFya4zD"
      },
      "source": [
        "#  Taking Subset of users who have given 50 or more number of ratings\n",
        "users_counts = electronics_data['userId'].value_counts().rename('users_counts')\n",
        "users_data   = electronics_data.merge(users_counts.to_frame(),\n",
        "                                left_on='userId',\n",
        "                                right_index=True)"
      ],
      "execution_count": 14,
      "outputs": []
    },
    {
      "cell_type": "code",
      "metadata": {
        "id": "8LTygCqkltfW",
        "colab": {
          "base_uri": "https://localhost:8080/",
          "height": 204
        },
        "outputId": "d82873f9-272c-4dd9-a7e0-219733c786c7"
      },
      "source": [
        "subset_df = users_data[users_data.users_counts >= 50]\n",
        "subset_df.tail()\n",
        "\n",
        "# Customers who have rated more than 50 products. These customers seem like they are regular buyers and provide regular feedback."
      ],
      "execution_count": 15,
      "outputs": [
        {
          "output_type": "execute_result",
          "data": {
            "text/html": [
              "<div>\n",
              "<style scoped>\n",
              "    .dataframe tbody tr th:only-of-type {\n",
              "        vertical-align: middle;\n",
              "    }\n",
              "\n",
              "    .dataframe tbody tr th {\n",
              "        vertical-align: top;\n",
              "    }\n",
              "\n",
              "    .dataframe thead th {\n",
              "        text-align: right;\n",
              "    }\n",
              "</style>\n",
              "<table border=\"1\" class=\"dataframe\">\n",
              "  <thead>\n",
              "    <tr style=\"text-align: right;\">\n",
              "      <th></th>\n",
              "      <th>userId</th>\n",
              "      <th>productId</th>\n",
              "      <th>Rating</th>\n",
              "      <th>users_counts</th>\n",
              "    </tr>\n",
              "  </thead>\n",
              "  <tbody>\n",
              "    <tr>\n",
              "      <th>2897164</th>\n",
              "      <td>A2CIQEY05SPHTZ</td>\n",
              "      <td>B002VPDM2K</td>\n",
              "      <td>3.0000000</td>\n",
              "      <td>51</td>\n",
              "    </tr>\n",
              "    <tr>\n",
              "      <th>2902224</th>\n",
              "      <td>A2CIQEY05SPHTZ</td>\n",
              "      <td>B002VPE1Y8</td>\n",
              "      <td>4.0000000</td>\n",
              "      <td>51</td>\n",
              "    </tr>\n",
              "    <tr>\n",
              "      <th>2936096</th>\n",
              "      <td>A2CIQEY05SPHTZ</td>\n",
              "      <td>B002XUL5OU</td>\n",
              "      <td>4.0000000</td>\n",
              "      <td>51</td>\n",
              "    </tr>\n",
              "    <tr>\n",
              "      <th>2982519</th>\n",
              "      <td>A2CIQEY05SPHTZ</td>\n",
              "      <td>B0030M5NFC</td>\n",
              "      <td>4.0000000</td>\n",
              "      <td>51</td>\n",
              "    </tr>\n",
              "    <tr>\n",
              "      <th>3075349</th>\n",
              "      <td>A2CIQEY05SPHTZ</td>\n",
              "      <td>B0035MDZKM</td>\n",
              "      <td>4.0000000</td>\n",
              "      <td>51</td>\n",
              "    </tr>\n",
              "  </tbody>\n",
              "</table>\n",
              "</div>"
            ],
            "text/plain": [
              "                 userId   productId    Rating  users_counts\n",
              "2897164  A2CIQEY05SPHTZ  B002VPDM2K 3.0000000            51\n",
              "2902224  A2CIQEY05SPHTZ  B002VPE1Y8 4.0000000            51\n",
              "2936096  A2CIQEY05SPHTZ  B002XUL5OU 4.0000000            51\n",
              "2982519  A2CIQEY05SPHTZ  B0030M5NFC 4.0000000            51\n",
              "3075349  A2CIQEY05SPHTZ  B0035MDZKM 4.0000000            51"
            ]
          },
          "metadata": {},
          "execution_count": 15
        }
      ]
    },
    {
      "cell_type": "markdown",
      "metadata": {
        "id": "nMXbusE6naCX"
      },
      "source": [
        "**Resolving the \"Grey Sheep\" Problem:**\n",
        "\n",
        "\"Recommender Systems have been successfully applied to alleviate the information overload problem and assist the process of decision making. Collaborative filtering, as one of the most popular recommendation algorithms, has been fully explored and developed in the past two decades. However, one of the challenges in collaborative filtering, the problem of \"Grey Sheep\" user, is still under investigation. \"Grey Sheep\" users is a group of the users who have special tastes and they may neither agree nor disagree with the majority of the users. The identification of them becomes a challenge in collaborative filtering, since they may introduce difficulties to produce accurate collaborative recommendations\" (Source:https://dl.acm.org/doi/abs/10.1145/3125649.3125651)"
      ]
    },
    {
      "cell_type": "code",
      "metadata": {
        "id": "aiJGGXQVmjz-",
        "colab": {
          "base_uri": "https://localhost:8080/",
          "height": 204
        },
        "outputId": "75fcfd39-b837-4058-aecd-1121bd158420"
      },
      "source": [
        "# We resolve the \"Grey Sheep\" Problem by taking a subset of products that have 10 or more ratings. \n",
        "# This will ensure that these are commonly purchased and rated.\n",
        "product_rating_counts = subset_df['productId'].value_counts().rename('product_rating_counts')\n",
        "product_rating_data   = subset_df.merge(product_rating_counts.to_frame(),\n",
        "                                left_on='productId',\n",
        "                                right_index=True)\n",
        "product_rating_data = product_rating_data[product_rating_data.product_rating_counts >= 10]\n",
        "product_rating_data.tail()\n"
      ],
      "execution_count": 16,
      "outputs": [
        {
          "output_type": "execute_result",
          "data": {
            "text/html": [
              "<div>\n",
              "<style scoped>\n",
              "    .dataframe tbody tr th:only-of-type {\n",
              "        vertical-align: middle;\n",
              "    }\n",
              "\n",
              "    .dataframe tbody tr th {\n",
              "        vertical-align: top;\n",
              "    }\n",
              "\n",
              "    .dataframe thead th {\n",
              "        text-align: right;\n",
              "    }\n",
              "</style>\n",
              "<table border=\"1\" class=\"dataframe\">\n",
              "  <thead>\n",
              "    <tr style=\"text-align: right;\">\n",
              "      <th></th>\n",
              "      <th>userId</th>\n",
              "      <th>productId</th>\n",
              "      <th>Rating</th>\n",
              "      <th>users_counts</th>\n",
              "      <th>product_rating_counts</th>\n",
              "    </tr>\n",
              "  </thead>\n",
              "  <tbody>\n",
              "    <tr>\n",
              "      <th>208660</th>\n",
              "      <td>AHROSV6WJOEGY</td>\n",
              "      <td>B00006RVPW</td>\n",
              "      <td>5.0000000</td>\n",
              "      <td>50</td>\n",
              "      <td>10</td>\n",
              "    </tr>\n",
              "    <tr>\n",
              "      <th>208913</th>\n",
              "      <td>A3Q4TYJVAM4IRM</td>\n",
              "      <td>B00006RVPW</td>\n",
              "      <td>5.0000000</td>\n",
              "      <td>86</td>\n",
              "      <td>10</td>\n",
              "    </tr>\n",
              "    <tr>\n",
              "      <th>208786</th>\n",
              "      <td>A1CPRP3VFJRS1R</td>\n",
              "      <td>B00006RVPW</td>\n",
              "      <td>5.0000000</td>\n",
              "      <td>64</td>\n",
              "      <td>10</td>\n",
              "    </tr>\n",
              "    <tr>\n",
              "      <th>208259</th>\n",
              "      <td>A38KK0SZYEH5UD</td>\n",
              "      <td>B00006RVPW</td>\n",
              "      <td>5.0000000</td>\n",
              "      <td>92</td>\n",
              "      <td>10</td>\n",
              "    </tr>\n",
              "    <tr>\n",
              "      <th>209194</th>\n",
              "      <td>AI8EMB0HUC6Z5</td>\n",
              "      <td>B00006RVPW</td>\n",
              "      <td>5.0000000</td>\n",
              "      <td>62</td>\n",
              "      <td>10</td>\n",
              "    </tr>\n",
              "  </tbody>\n",
              "</table>\n",
              "</div>"
            ],
            "text/plain": [
              "                userId   productId    Rating  users_counts  \\\n",
              "208660   AHROSV6WJOEGY  B00006RVPW 5.0000000            50   \n",
              "208913  A3Q4TYJVAM4IRM  B00006RVPW 5.0000000            86   \n",
              "208786  A1CPRP3VFJRS1R  B00006RVPW 5.0000000            64   \n",
              "208259  A38KK0SZYEH5UD  B00006RVPW 5.0000000            92   \n",
              "209194   AI8EMB0HUC6Z5  B00006RVPW 5.0000000            62   \n",
              "\n",
              "        product_rating_counts  \n",
              "208660                     10  \n",
              "208913                     10  \n",
              "208786                     10  \n",
              "208259                     10  \n",
              "209194                     10  "
            ]
          },
          "metadata": {},
          "execution_count": 16
        }
      ]
    },
    {
      "cell_type": "code",
      "metadata": {
        "id": "Zm8tv_0fqjU2",
        "colab": {
          "base_uri": "https://localhost:8080/",
          "height": 339
        },
        "outputId": "c1088ed8-7152-4c6c-9244-a94925e4e482"
      },
      "source": [
        "no_of_ratings_per_product = product_rating_data.groupby(by='productId')['Rating'].count().sort_values(ascending=False)\n",
        "\n",
        "fig = plt.figure(figsize=plt.figaspect(.5))\n",
        "ax = plt.gca()\n",
        "plt.plot(no_of_ratings_per_product.values)\n",
        "plt.title('# RATINGS per Product')\n",
        "plt.xlabel('Product')\n",
        "plt.ylabel('No of ratings per product')\n",
        "ax.set_xticklabels([])\n",
        "\n",
        "plt.show()"
      ],
      "execution_count": 17,
      "outputs": [
        {
          "output_type": "execute_result",
          "data": {
            "text/plain": [
              "[<matplotlib.lines.Line2D at 0x7f8faf2e6610>]"
            ]
          },
          "metadata": {},
          "execution_count": 17
        },
        {
          "output_type": "execute_result",
          "data": {
            "text/plain": [
              "Text(0.5, 1.0, '# RATINGS per Product')"
            ]
          },
          "metadata": {},
          "execution_count": 17
        },
        {
          "output_type": "execute_result",
          "data": {
            "text/plain": [
              "Text(0.5, 0, 'Product')"
            ]
          },
          "metadata": {},
          "execution_count": 17
        },
        {
          "output_type": "execute_result",
          "data": {
            "text/plain": [
              "Text(0, 0.5, 'No of ratings per product')"
            ]
          },
          "metadata": {},
          "execution_count": 17
        },
        {
          "output_type": "execute_result",
          "data": {
            "text/plain": [
              "[]"
            ]
          },
          "metadata": {},
          "execution_count": 17
        },
        {
          "output_type": "display_data",
          "data": {
            "image/png": "[encoded data removed]",
            "text/plain": [
              "<Figure size 576x288 with 1 Axes>"
            ]
          },
          "metadata": {
            "needs_background": "light"
          }
        }
      ]
    },
    {
      "cell_type": "code",
      "metadata": {
        "id": "oF9mSGSYq7d-",
        "colab": {
          "base_uri": "https://localhost:8080/"
        },
        "outputId": "b0bdab06-5eda-428d-e389-d5bb87a5b468"
      },
      "source": [
        "#Average rating of the product \n",
        "\n",
        "product_rating_data.groupby('productId')['Rating'].mean().head()"
      ],
      "execution_count": 18,
      "outputs": [
        {
          "output_type": "execute_result",
          "data": {
            "text/plain": [
              "productId\n",
              "B00004SB92   4.3636364\n",
              "B00004ZCJE   4.3000000\n",
              "B00005LEN4   4.6956522\n",
              "B00005T3G0   4.8181818\n",
              "B00006B7DA   4.2500000\n",
              "Name: Rating, dtype: float64"
            ]
          },
          "metadata": {},
          "execution_count": 18
        }
      ]
    },
    {
      "cell_type": "code",
      "metadata": {
        "id": "det14Bxxq7p2",
        "colab": {
          "base_uri": "https://localhost:8080/"
        },
        "outputId": "17ac127c-a2be-42aa-fdcb-ce03ff8c28e3"
      },
      "source": [
        "product_rating_data.groupby('productId')['Rating'].mean().sort_values(ascending=False).head()"
      ],
      "execution_count": 19,
      "outputs": [
        {
          "output_type": "execute_result",
          "data": {
            "text/plain": [
              "productId\n",
              "B0000BZL1P   5.0000000\n",
              "B001TH7GUU   4.9473684\n",
              "B00017LSPI   4.9333333\n",
              "B0010Z28XG   4.9166667\n",
              "B002WE6D44   4.9130435\n",
              "Name: Rating, dtype: float64"
            ]
          },
          "metadata": {},
          "execution_count": 19
        }
      ]
    },
    {
      "cell_type": "code",
      "metadata": {
        "id": "RrRTaJ1aq7zG",
        "colab": {
          "base_uri": "https://localhost:8080/"
        },
        "outputId": "6079a812-d78d-4163-da3d-7cbd70532d4c"
      },
      "source": [
        "#Top Products with maximum ratings of \"5\"\n",
        "\n",
        "product_rating_data.groupby('productId')['Rating'].count().sort_values(ascending=False).head()"
      ],
      "execution_count": 20,
      "outputs": [
        {
          "output_type": "execute_result",
          "data": {
            "text/plain": [
              "productId\n",
              "B002R5AM7C    42\n",
              "B002SQK2F2    33\n",
              "B000JMJWV2    32\n",
              "B000N99BBC    31\n",
              "B00004ZCJE    30\n",
              "Name: Rating, dtype: int64"
            ]
          },
          "metadata": {},
          "execution_count": 20
        }
      ]
    },
    {
      "cell_type": "code",
      "metadata": {
        "id": "P4kktTQYq726",
        "colab": {
          "base_uri": "https://localhost:8080/",
          "height": 235
        },
        "outputId": "08b92552-680f-493a-90b3-f06b6385e3fc"
      },
      "source": [
        "ratings_mean_count = pd.DataFrame(product_rating_data.groupby('productId')['Rating'].mean())\n",
        "ratings_mean_count['rating_counts'] = pd.DataFrame(product_rating_data.groupby('productId')['Rating'].count())\n",
        "ratings_mean_count.head()"
      ],
      "execution_count": 21,
      "outputs": [
        {
          "output_type": "execute_result",
          "data": {
            "text/html": [
              "<div>\n",
              "<style scoped>\n",
              "    .dataframe tbody tr th:only-of-type {\n",
              "        vertical-align: middle;\n",
              "    }\n",
              "\n",
              "    .dataframe tbody tr th {\n",
              "        vertical-align: top;\n",
              "    }\n",
              "\n",
              "    .dataframe thead th {\n",
              "        text-align: right;\n",
              "    }\n",
              "</style>\n",
              "<table border=\"1\" class=\"dataframe\">\n",
              "  <thead>\n",
              "    <tr style=\"text-align: right;\">\n",
              "      <th></th>\n",
              "      <th>Rating</th>\n",
              "      <th>rating_counts</th>\n",
              "    </tr>\n",
              "    <tr>\n",
              "      <th>productId</th>\n",
              "      <th></th>\n",
              "      <th></th>\n",
              "    </tr>\n",
              "  </thead>\n",
              "  <tbody>\n",
              "    <tr>\n",
              "      <th>B00004SB92</th>\n",
              "      <td>4.3636364</td>\n",
              "      <td>11</td>\n",
              "    </tr>\n",
              "    <tr>\n",
              "      <th>B00004ZCJE</th>\n",
              "      <td>4.3000000</td>\n",
              "      <td>30</td>\n",
              "    </tr>\n",
              "    <tr>\n",
              "      <th>B00005LEN4</th>\n",
              "      <td>4.6956522</td>\n",
              "      <td>23</td>\n",
              "    </tr>\n",
              "    <tr>\n",
              "      <th>B00005T3G0</th>\n",
              "      <td>4.8181818</td>\n",
              "      <td>11</td>\n",
              "    </tr>\n",
              "    <tr>\n",
              "      <th>B00006B7DA</th>\n",
              "      <td>4.2500000</td>\n",
              "      <td>12</td>\n",
              "    </tr>\n",
              "  </tbody>\n",
              "</table>\n",
              "</div>"
            ],
            "text/plain": [
              "              Rating  rating_counts\n",
              "productId                          \n",
              "B00004SB92 4.3636364             11\n",
              "B00004ZCJE 4.3000000             30\n",
              "B00005LEN4 4.6956522             23\n",
              "B00005T3G0 4.8181818             11\n",
              "B00006B7DA 4.2500000             12"
            ]
          },
          "metadata": {},
          "execution_count": 21
        }
      ]
    },
    {
      "cell_type": "code",
      "metadata": {
        "id": "UZ9FZxv5q77f",
        "colab": {
          "base_uri": "https://localhost:8080/",
          "height": 391
        },
        "outputId": "5a2785cd-d9ea-4749-967e-1aca127600d9"
      },
      "source": [
        "plt.figure(figsize=(8,6))\n",
        "plt.rcParams['patch.force_edgecolor'] = True\n",
        "ratings_mean_count['rating_counts'].hist(bins=20)"
      ],
      "execution_count": 22,
      "outputs": [
        {
          "output_type": "execute_result",
          "data": {
            "text/plain": [
              "<Figure size 576x432 with 0 Axes>"
            ]
          },
          "metadata": {},
          "execution_count": 22
        },
        {
          "output_type": "execute_result",
          "data": {
            "text/plain": [
              "<matplotlib.axes._subplots.AxesSubplot at 0x7f8faf2b12d0>"
            ]
          },
          "metadata": {},
          "execution_count": 22
        },
        {
          "output_type": "display_data",
          "data": {
            "image/png": "[encoded data removed]",
            "text/plain": [
              "<Figure size 576x432 with 1 Axes>"
            ]
          },
          "metadata": {
            "needs_background": "light"
          }
        }
      ]
    },
    {
      "cell_type": "markdown",
      "metadata": {
        "id": "BL0MNphx0OVc"
      },
      "source": [
        "**OBSERVATION:**\n",
        "\n",
        "We see that the most customers have reviewed the top 25 products. This leads us to the conclusion that this seems to be the most popular product."
      ]
    },
    {
      "cell_type": "code",
      "metadata": {
        "id": "vHsXvk-aq7-M",
        "colab": {
          "base_uri": "https://localhost:8080/",
          "height": 391
        },
        "outputId": "c8f6da91-251a-44c6-a6f4-59537c6deb39"
      },
      "source": [
        "plt.figure(figsize=(8,6))\n",
        "plt.rcParams['patch.force_edgecolor'] = True\n",
        "ratings_mean_count['Rating'].hist(bins=50)"
      ],
      "execution_count": 23,
      "outputs": [
        {
          "output_type": "execute_result",
          "data": {
            "text/plain": [
              "<Figure size 576x432 with 0 Axes>"
            ]
          },
          "metadata": {},
          "execution_count": 23
        },
        {
          "output_type": "execute_result",
          "data": {
            "text/plain": [
              "<matplotlib.axes._subplots.AxesSubplot at 0x7f8faf2a4fd0>"
            ]
          },
          "metadata": {},
          "execution_count": 23
        },
        {
          "output_type": "display_data",
          "data": {
            "image/png": "[encoded data removed]",
            "text/plain": [
              "<Figure size 576x432 with 1 Axes>"
            ]
          },
          "metadata": {
            "needs_background": "light"
          }
        }
      ]
    },
    {
      "cell_type": "markdown",
      "metadata": {
        "id": "4nT13Jbh2DcH"
      },
      "source": [
        "**OBSERVATION**\n",
        "\n",
        "Here we see that the items with most ratings seem to be popular and consistently score between Rating \"4\" to Rating \"5\""
      ]
    },
    {
      "cell_type": "code",
      "metadata": {
        "id": "mKsh2tJjq8Bd",
        "colab": {
          "base_uri": "https://localhost:8080/",
          "height": 475
        },
        "outputId": "b6198a5b-d025-453d-e1e4-eb3fde20fbfd"
      },
      "source": [
        "# Lets see the data on a jointplot\n",
        "plt.figure(figsize=(8,6))\n",
        "plt.rcParams['patch.force_edgecolor'] = True\n",
        "sns.jointplot(x='Rating', y='rating_counts', data=ratings_mean_count, alpha=0.4)"
      ],
      "execution_count": 24,
      "outputs": [
        {
          "output_type": "execute_result",
          "data": {
            "text/plain": [
              "<Figure size 576x432 with 0 Axes>"
            ]
          },
          "metadata": {},
          "execution_count": 24
        },
        {
          "output_type": "execute_result",
          "data": {
            "text/plain": [
              "<seaborn.axisgrid.JointGrid at 0x7f8faf192690>"
            ]
          },
          "metadata": {},
          "execution_count": 24
        },
        {
          "output_type": "display_data",
          "data": {
            "text/plain": [
              "<Figure size 576x432 with 0 Axes>"
            ]
          },
          "metadata": {}
        },
        {
          "output_type": "display_data",
          "data": {
            "image/png": "[encoded data removed]",
            "text/plain": [
              "<Figure size 432x432 with 3 Axes>"
            ]
          },
          "metadata": {
            "needs_background": "light"
          }
        }
      ]
    },
    {
      "cell_type": "code",
      "metadata": {
        "id": "dIzZtRjqq8Fm",
        "colab": {
          "base_uri": "https://localhost:8080/",
          "height": 355
        },
        "outputId": "239a5400-43e7-4895-9991-e1cf00238bdd"
      },
      "source": [
        "popular_products = pd.DataFrame(product_rating_data.groupby('productId')['Rating'].count())\n",
        "most_popular = popular_products.sort_values('Rating', ascending=False)\n",
        "most_popular.head(10).plot(kind = \"bar\")"
      ],
      "execution_count": 25,
      "outputs": [
        {
          "output_type": "execute_result",
          "data": {
            "text/plain": [
              "<matplotlib.axes._subplots.AxesSubplot at 0x7f8faef02350>"
            ]
          },
          "metadata": {},
          "execution_count": 25
        },
        {
          "output_type": "display_data",
          "data": {
            "image/png": "[encoded data removed]",
            "text/plain": [
              "<Figure size 432x288 with 1 Axes>"
            ]
          },
          "metadata": {
            "needs_background": "light"
          }
        }
      ]
    },
    {
      "cell_type": "markdown",
      "metadata": {
        "id": "5MWdzzHv3gS0"
      },
      "source": [
        "The above chart shows us the Top 10 Recommended Products based on popularity"
      ]
    },
    {
      "cell_type": "markdown",
      "metadata": {
        "id": "-BKtftcA5gxy"
      },
      "source": [
        "**DATA PREPARATION**\n",
        "\n"
      ]
    },
    {
      "cell_type": "code",
      "metadata": {
        "id": "HZEH4gSOq8Jy"
      },
      "source": [
        "df1=product_rating_data.copy()\n",
        "df2 = df1.drop(['users_counts', 'product_rating_counts'], axis=1)"
      ],
      "execution_count": 26,
      "outputs": []
    },
    {
      "cell_type": "code",
      "metadata": {
        "id": "1nvHvgewq8MB",
        "colab": {
          "base_uri": "https://localhost:8080/",
          "height": 204
        },
        "outputId": "7dc215b2-fde7-41f6-b24d-77fa1bf06162"
      },
      "source": [
        "df2.head()"
      ],
      "execution_count": 27,
      "outputs": [
        {
          "output_type": "execute_result",
          "data": {
            "text/html": [
              "<div>\n",
              "<style scoped>\n",
              "    .dataframe tbody tr th:only-of-type {\n",
              "        vertical-align: middle;\n",
              "    }\n",
              "\n",
              "    .dataframe tbody tr th {\n",
              "        vertical-align: top;\n",
              "    }\n",
              "\n",
              "    .dataframe thead th {\n",
              "        text-align: right;\n",
              "    }\n",
              "</style>\n",
              "<table border=\"1\" class=\"dataframe\">\n",
              "  <thead>\n",
              "    <tr style=\"text-align: right;\">\n",
              "      <th></th>\n",
              "      <th>userId</th>\n",
              "      <th>productId</th>\n",
              "      <th>Rating</th>\n",
              "    </tr>\n",
              "  </thead>\n",
              "  <tbody>\n",
              "    <tr>\n",
              "      <th>227983</th>\n",
              "      <td>A17HMM1M7T9PJ1</td>\n",
              "      <td>B00007GQLU</td>\n",
              "      <td>5.0000000</td>\n",
              "    </tr>\n",
              "    <tr>\n",
              "      <th>227685</th>\n",
              "      <td>A1VHCO8RQFIGQJ</td>\n",
              "      <td>B00007GQLU</td>\n",
              "      <td>5.0000000</td>\n",
              "    </tr>\n",
              "    <tr>\n",
              "      <th>227907</th>\n",
              "      <td>A3OA4DV4L81N1D</td>\n",
              "      <td>B00007GQLU</td>\n",
              "      <td>5.0000000</td>\n",
              "    </tr>\n",
              "    <tr>\n",
              "      <th>227909</th>\n",
              "      <td>AAQ9NJ480N9W5</td>\n",
              "      <td>B00007GQLU</td>\n",
              "      <td>4.0000000</td>\n",
              "    </tr>\n",
              "    <tr>\n",
              "      <th>227578</th>\n",
              "      <td>A4WEZJOIZIV4U</td>\n",
              "      <td>B00007GQLU</td>\n",
              "      <td>5.0000000</td>\n",
              "    </tr>\n",
              "  </tbody>\n",
              "</table>\n",
              "</div>"
            ],
            "text/plain": [
              "                userId   productId    Rating\n",
              "227983  A17HMM1M7T9PJ1  B00007GQLU 5.0000000\n",
              "227685  A1VHCO8RQFIGQJ  B00007GQLU 5.0000000\n",
              "227907  A3OA4DV4L81N1D  B00007GQLU 5.0000000\n",
              "227909   AAQ9NJ480N9W5  B00007GQLU 4.0000000\n",
              "227578   A4WEZJOIZIV4U  B00007GQLU 5.0000000"
            ]
          },
          "metadata": {},
          "execution_count": 27
        }
      ]
    },
    {
      "cell_type": "code",
      "metadata": {
        "id": "199celAm7x_8",
        "colab": {
          "base_uri": "https://localhost:8080/"
        },
        "outputId": "8a60ba78-2f34-47ca-cb12-0f13d75bf0a1"
      },
      "source": [
        "!pip3 install numpy\n",
        "!pip3 install scikit-surprise"
      ],
      "execution_count": 28,
      "outputs": [
        {
          "output_type": "stream",
          "name": "stdout",
          "text": [
            "Requirement already satisfied: numpy in /usr/local/lib/python3.7/dist-packages (1.19.5)\n",
            "Requirement already satisfied: scikit-surprise in /usr/local/lib/python3.7/dist-packages (1.1.1)\n",
            "Requirement already satisfied: six>=1.10.0 in /usr/local/lib/python3.7/dist-packages (from scikit-surprise) (1.15.0)\n",
            "Requirement already satisfied: scipy>=1.0.0 in /usr/local/lib/python3.7/dist-packages (from scikit-surprise) (1.4.1)\n",
            "Requirement already satisfied: joblib>=0.11 in /usr/local/lib/python3.7/dist-packages (from scikit-surprise) (1.0.1)\n",
            "Requirement already satisfied: numpy>=1.11.2 in /usr/local/lib/python3.7/dist-packages (from scikit-surprise) (1.19.5)\n"
          ]
        }
      ]
    },
    {
      "cell_type": "code",
      "metadata": {
        "id": "cwAR5Nrz61bW"
      },
      "source": [
        "from collections import defaultdict\n",
        "from surprise import KNNWithMeans\n",
        "from surprise import SVD, SVDpp\n",
        "from surprise import KNNBaseline\n",
        "from surprise import KNNBasic\n",
        "from surprise import KNNWithZScore\n",
        "from surprise import BaselineOnly\n",
        "from surprise import Dataset\n",
        "from surprise import Reader\n",
        "from surprise import accuracy\n",
        "from surprise.model_selection import train_test_split\n",
        "from surprise.model_selection import cross_validate\n",
        "from surprise.model_selection import KFold\n",
        "from surprise.model_selection import GridSearchCV\n",
        "\n",
        "import time"
      ],
      "execution_count": 29,
      "outputs": []
    },
    {
      "cell_type": "code",
      "metadata": {
        "id": "sJy33egTq8Pv"
      },
      "source": [
        "# Spliting the data randomly into train and test dataset. (Split it in 70/30 ratio)\n",
        "\n",
        "k = 5 \n",
        "#(To Get top - K ( K = 5) recommendations)\n",
        "reader = Reader(rating_scale=(1, 5))\n",
        "surprise_data = Dataset.load_from_df(df2[['userId', 'productId', 'Rating']], reader)\n",
        "trainset, testset = train_test_split(surprise_data, test_size=.30, random_state=7)"
      ],
      "execution_count": 30,
      "outputs": []
    },
    {
      "cell_type": "markdown",
      "metadata": {
        "id": "DHyieHL28TBS"
      },
      "source": [
        "**DATA MODELING**\n",
        "\n",
        "Here we will try two types of Popularity Recommender Models - \n",
        "\n",
        "1) Using Mean Product Rating\n",
        "\n",
        "2) Using Ranking Based Rating"
      ]
    },
    {
      "cell_type": "code",
      "metadata": {
        "id": "7m4dPGSW9Fk5",
        "colab": {
          "base_uri": "https://localhost:8080/"
        },
        "outputId": "939e16b0-320f-4c8e-9600-325ac8290d6e"
      },
      "source": [
        "# 1) Using Mean Product Rating\n",
        "df2.groupby('productId')['Rating'].mean().head()"
      ],
      "execution_count": 31,
      "outputs": [
        {
          "output_type": "execute_result",
          "data": {
            "text/plain": [
              "productId\n",
              "B00004SB92   4.3636364\n",
              "B00004ZCJE   4.3000000\n",
              "B00005LEN4   4.6956522\n",
              "B00005T3G0   4.8181818\n",
              "B00006B7DA   4.2500000\n",
              "Name: Rating, dtype: float64"
            ]
          },
          "metadata": {},
          "execution_count": 31
        }
      ]
    },
    {
      "cell_type": "code",
      "metadata": {
        "id": "FoUOQsYK9F_f",
        "colab": {
          "base_uri": "https://localhost:8080/"
        },
        "outputId": "8e21b84d-d65e-4239-c98f-6cf818cc6b38"
      },
      "source": [
        "df2.groupby('productId')['Rating'].mean().sort_values(ascending=False).head()"
      ],
      "execution_count": 32,
      "outputs": [
        {
          "output_type": "execute_result",
          "data": {
            "text/plain": [
              "productId\n",
              "B0000BZL1P   5.0000000\n",
              "B001TH7GUU   4.9473684\n",
              "B00017LSPI   4.9333333\n",
              "B0010Z28XG   4.9166667\n",
              "B002WE6D44   4.9130435\n",
              "Name: Rating, dtype: float64"
            ]
          },
          "metadata": {},
          "execution_count": 32
        }
      ]
    },
    {
      "cell_type": "code",
      "metadata": {
        "id": "Y9FduWyd9y2x",
        "colab": {
          "base_uri": "https://localhost:8080/",
          "height": 235
        },
        "outputId": "be109f56-40a3-4c6f-d6f6-af9ac211a562"
      },
      "source": [
        "prod_rating_count = pd.DataFrame(df2.groupby('productId')['Rating'].mean().sort_values(ascending=False))\n",
        "prod_rating_count['prod_rating_count'] = pd.DataFrame(df2.groupby('productId')['Rating'].count())\n",
        "prod_rating_count.head(k)"
      ],
      "execution_count": 33,
      "outputs": [
        {
          "output_type": "execute_result",
          "data": {
            "text/html": [
              "<div>\n",
              "<style scoped>\n",
              "    .dataframe tbody tr th:only-of-type {\n",
              "        vertical-align: middle;\n",
              "    }\n",
              "\n",
              "    .dataframe tbody tr th {\n",
              "        vertical-align: top;\n",
              "    }\n",
              "\n",
              "    .dataframe thead th {\n",
              "        text-align: right;\n",
              "    }\n",
              "</style>\n",
              "<table border=\"1\" class=\"dataframe\">\n",
              "  <thead>\n",
              "    <tr style=\"text-align: right;\">\n",
              "      <th></th>\n",
              "      <th>Rating</th>\n",
              "      <th>prod_rating_count</th>\n",
              "    </tr>\n",
              "    <tr>\n",
              "      <th>productId</th>\n",
              "      <th></th>\n",
              "      <th></th>\n",
              "    </tr>\n",
              "  </thead>\n",
              "  <tbody>\n",
              "    <tr>\n",
              "      <th>B0000BZL1P</th>\n",
              "      <td>5.0000000</td>\n",
              "      <td>18</td>\n",
              "    </tr>\n",
              "    <tr>\n",
              "      <th>B001TH7GUU</th>\n",
              "      <td>4.9473684</td>\n",
              "      <td>19</td>\n",
              "    </tr>\n",
              "    <tr>\n",
              "      <th>B00017LSPI</th>\n",
              "      <td>4.9333333</td>\n",
              "      <td>15</td>\n",
              "    </tr>\n",
              "    <tr>\n",
              "      <th>B0010Z28XG</th>\n",
              "      <td>4.9166667</td>\n",
              "      <td>12</td>\n",
              "    </tr>\n",
              "    <tr>\n",
              "      <th>B002WE6D44</th>\n",
              "      <td>4.9130435</td>\n",
              "      <td>23</td>\n",
              "    </tr>\n",
              "  </tbody>\n",
              "</table>\n",
              "</div>"
            ],
            "text/plain": [
              "              Rating  prod_rating_count\n",
              "productId                              \n",
              "B0000BZL1P 5.0000000                 18\n",
              "B001TH7GUU 4.9473684                 19\n",
              "B00017LSPI 4.9333333                 15\n",
              "B0010Z28XG 4.9166667                 12\n",
              "B002WE6D44 4.9130435                 23"
            ]
          },
          "metadata": {},
          "execution_count": 33
        }
      ]
    },
    {
      "cell_type": "code",
      "metadata": {
        "id": "TM0PXDAa9zLT",
        "colab": {
          "base_uri": "https://localhost:8080/",
          "height": 235
        },
        "outputId": "764480a0-82a0-4314-c0d7-5b51cbac7eb9"
      },
      "source": [
        "basic_poplurity_model = prod_rating_count.sort_values(by=['prod_rating_count'], ascending=False)\n",
        "basic_poplurity_model.head(k)"
      ],
      "execution_count": 34,
      "outputs": [
        {
          "output_type": "execute_result",
          "data": {
            "text/html": [
              "<div>\n",
              "<style scoped>\n",
              "    .dataframe tbody tr th:only-of-type {\n",
              "        vertical-align: middle;\n",
              "    }\n",
              "\n",
              "    .dataframe tbody tr th {\n",
              "        vertical-align: top;\n",
              "    }\n",
              "\n",
              "    .dataframe thead th {\n",
              "        text-align: right;\n",
              "    }\n",
              "</style>\n",
              "<table border=\"1\" class=\"dataframe\">\n",
              "  <thead>\n",
              "    <tr style=\"text-align: right;\">\n",
              "      <th></th>\n",
              "      <th>Rating</th>\n",
              "      <th>prod_rating_count</th>\n",
              "    </tr>\n",
              "    <tr>\n",
              "      <th>productId</th>\n",
              "      <th></th>\n",
              "      <th></th>\n",
              "    </tr>\n",
              "  </thead>\n",
              "  <tbody>\n",
              "    <tr>\n",
              "      <th>B002R5AM7C</th>\n",
              "      <td>4.1428571</td>\n",
              "      <td>42</td>\n",
              "    </tr>\n",
              "    <tr>\n",
              "      <th>B002SQK2F2</th>\n",
              "      <td>3.0303030</td>\n",
              "      <td>33</td>\n",
              "    </tr>\n",
              "    <tr>\n",
              "      <th>B000JMJWV2</th>\n",
              "      <td>4.7187500</td>\n",
              "      <td>32</td>\n",
              "    </tr>\n",
              "    <tr>\n",
              "      <th>B000N99BBC</th>\n",
              "      <td>4.8064516</td>\n",
              "      <td>31</td>\n",
              "    </tr>\n",
              "    <tr>\n",
              "      <th>B00004ZCJE</th>\n",
              "      <td>4.3000000</td>\n",
              "      <td>30</td>\n",
              "    </tr>\n",
              "  </tbody>\n",
              "</table>\n",
              "</div>"
            ],
            "text/plain": [
              "              Rating  prod_rating_count\n",
              "productId                              \n",
              "B002R5AM7C 4.1428571                 42\n",
              "B002SQK2F2 3.0303030                 33\n",
              "B000JMJWV2 4.7187500                 32\n",
              "B000N99BBC 4.8064516                 31\n",
              "B00004ZCJE 4.3000000                 30"
            ]
          },
          "metadata": {},
          "execution_count": 34
        }
      ]
    },
    {
      "cell_type": "markdown",
      "metadata": {
        "id": "wk1gwARf-KgJ"
      },
      "source": [
        "These are the TOP 5 popular products that would be recommended based on Mean Product Rating"
      ]
    },
    {
      "cell_type": "markdown",
      "metadata": {
        "id": "Y23UrgTN-XTB"
      },
      "source": [
        "2) Ranking Based Rating"
      ]
    },
    {
      "cell_type": "code",
      "metadata": {
        "id": "0H1LOLGU9zRR",
        "colab": {
          "base_uri": "https://localhost:8080/",
          "height": 204
        },
        "outputId": "55ef9044-e3bd-46cc-f76b-ec4c336c49f5"
      },
      "source": [
        "df2_grouped = df2.groupby('productId').agg({'userId': 'count'}).reset_index()\n",
        "df2_grouped.rename(columns = {'userId': 'Score'},inplace=True)\n",
        "df2_grouped.head()"
      ],
      "execution_count": 35,
      "outputs": [
        {
          "output_type": "execute_result",
          "data": {
            "text/html": [
              "<div>\n",
              "<style scoped>\n",
              "    .dataframe tbody tr th:only-of-type {\n",
              "        vertical-align: middle;\n",
              "    }\n",
              "\n",
              "    .dataframe tbody tr th {\n",
              "        vertical-align: top;\n",
              "    }\n",
              "\n",
              "    .dataframe thead th {\n",
              "        text-align: right;\n",
              "    }\n",
              "</style>\n",
              "<table border=\"1\" class=\"dataframe\">\n",
              "  <thead>\n",
              "    <tr style=\"text-align: right;\">\n",
              "      <th></th>\n",
              "      <th>productId</th>\n",
              "      <th>Score</th>\n",
              "    </tr>\n",
              "  </thead>\n",
              "  <tbody>\n",
              "    <tr>\n",
              "      <th>0</th>\n",
              "      <td>B00004SB92</td>\n",
              "      <td>11</td>\n",
              "    </tr>\n",
              "    <tr>\n",
              "      <th>1</th>\n",
              "      <td>B00004ZCJE</td>\n",
              "      <td>30</td>\n",
              "    </tr>\n",
              "    <tr>\n",
              "      <th>2</th>\n",
              "      <td>B00005LEN4</td>\n",
              "      <td>23</td>\n",
              "    </tr>\n",
              "    <tr>\n",
              "      <th>3</th>\n",
              "      <td>B00005T3G0</td>\n",
              "      <td>11</td>\n",
              "    </tr>\n",
              "    <tr>\n",
              "      <th>4</th>\n",
              "      <td>B00006B7DA</td>\n",
              "      <td>12</td>\n",
              "    </tr>\n",
              "  </tbody>\n",
              "</table>\n",
              "</div>"
            ],
            "text/plain": [
              "    productId  Score\n",
              "0  B00004SB92     11\n",
              "1  B00004ZCJE     30\n",
              "2  B00005LEN4     23\n",
              "3  B00005T3G0     11\n",
              "4  B00006B7DA     12"
            ]
          },
          "metadata": {},
          "execution_count": 35
        }
      ]
    },
    {
      "cell_type": "code",
      "metadata": {
        "id": "HgiiaLw-9zaj",
        "colab": {
          "base_uri": "https://localhost:8080/",
          "height": 204
        },
        "outputId": "b1ce84c1-0584-44fa-c57b-0206278c564c"
      },
      "source": [
        "#Sort the products on recommendation score \n",
        "df2_sort = df2_grouped.sort_values(['Score', 'productId'], ascending = [0,1]) \n",
        "      \n",
        "#Generate a product rank based upon score \n",
        "df2_sort['Rank'] = df2_sort['Score'].rank(ascending=0, method='first') \n",
        "          \n",
        "#Get the top 5 recommendations \n",
        "popularity_recommendations = df2_sort.head(k) \n",
        "popularity_recommendations "
      ],
      "execution_count": 36,
      "outputs": [
        {
          "output_type": "execute_result",
          "data": {
            "text/html": [
              "<div>\n",
              "<style scoped>\n",
              "    .dataframe tbody tr th:only-of-type {\n",
              "        vertical-align: middle;\n",
              "    }\n",
              "\n",
              "    .dataframe tbody tr th {\n",
              "        vertical-align: top;\n",
              "    }\n",
              "\n",
              "    .dataframe thead th {\n",
              "        text-align: right;\n",
              "    }\n",
              "</style>\n",
              "<table border=\"1\" class=\"dataframe\">\n",
              "  <thead>\n",
              "    <tr style=\"text-align: right;\">\n",
              "      <th></th>\n",
              "      <th>productId</th>\n",
              "      <th>Score</th>\n",
              "      <th>Rank</th>\n",
              "    </tr>\n",
              "  </thead>\n",
              "  <tbody>\n",
              "    <tr>\n",
              "      <th>106</th>\n",
              "      <td>B002R5AM7C</td>\n",
              "      <td>42</td>\n",
              "      <td>1.0000000</td>\n",
              "    </tr>\n",
              "    <tr>\n",
              "      <th>108</th>\n",
              "      <td>B002SQK2F2</td>\n",
              "      <td>33</td>\n",
              "      <td>2.0000000</td>\n",
              "    </tr>\n",
              "    <tr>\n",
              "      <th>37</th>\n",
              "      <td>B000JMJWV2</td>\n",
              "      <td>32</td>\n",
              "      <td>3.0000000</td>\n",
              "    </tr>\n",
              "    <tr>\n",
              "      <th>44</th>\n",
              "      <td>B000N99BBC</td>\n",
              "      <td>31</td>\n",
              "      <td>4.0000000</td>\n",
              "    </tr>\n",
              "    <tr>\n",
              "      <th>1</th>\n",
              "      <td>B00004ZCJE</td>\n",
              "      <td>30</td>\n",
              "      <td>5.0000000</td>\n",
              "    </tr>\n",
              "  </tbody>\n",
              "</table>\n",
              "</div>"
            ],
            "text/plain": [
              "      productId  Score      Rank\n",
              "106  B002R5AM7C     42 1.0000000\n",
              "108  B002SQK2F2     33 2.0000000\n",
              "37   B000JMJWV2     32 3.0000000\n",
              "44   B000N99BBC     31 4.0000000\n",
              "1    B00004ZCJE     30 5.0000000"
            ]
          },
          "metadata": {},
          "execution_count": 36
        }
      ]
    },
    {
      "cell_type": "markdown",
      "metadata": {
        "id": "6xcsXTOdJPfo"
      },
      "source": [
        "**MODEL DEPLOYMENT AND EVALUATION**"
      ]
    },
    {
      "cell_type": "code",
      "metadata": {
        "id": "OaqXUHaN9zio"
      },
      "source": [
        "# Using popularity based recommender model to make predictions and find recommendations for random list of users with inferences\n",
        "\n",
        "import warnings\n",
        "warnings.filterwarnings('ignore')\n",
        "def recommend(userId):     \n",
        "    user_recommendations = popularity_recommendations \n",
        "          \n",
        "    #Adding user_id column for which the recommendations are being generated \n",
        "    user_recommendations['userID'] = userId \n",
        "      \n",
        "    #Bringing user_id column to the front \n",
        "    cols = user_recommendations.columns.tolist() \n",
        "    cols = cols[-1:] + cols[:-1] \n",
        "    user_recommendations = user_recommendations[cols] \n",
        "          \n",
        "    return user_recommendations "
      ],
      "execution_count": 37,
      "outputs": []
    },
    {
      "cell_type": "code",
      "metadata": {
        "id": "tsk0bDvf9zos",
        "colab": {
          "base_uri": "https://localhost:8080/"
        },
        "outputId": "703bd43e-a352-4c62-d421-f17b80aec9d6"
      },
      "source": [
        "find_recom = [15,121,55,230,477]   # This list is user choice.\n",
        "for i in find_recom:\n",
        "    print(\"Here is the recommendation for the userId: %d\\n\" %(i))\n",
        "    print(recommend(i))    \n",
        "    print(\"\\n\") "
      ],
      "execution_count": 38,
      "outputs": [
        {
          "output_type": "stream",
          "name": "stdout",
          "text": [
            "Here is the recommendation for the userId: 15\n",
            "\n",
            "     userID   productId  Score      Rank\n",
            "106      15  B002R5AM7C     42 1.0000000\n",
            "108      15  B002SQK2F2     33 2.0000000\n",
            "37       15  B000JMJWV2     32 3.0000000\n",
            "44       15  B000N99BBC     31 4.0000000\n",
            "1        15  B00004ZCJE     30 5.0000000\n",
            "\n",
            "\n",
            "Here is the recommendation for the userId: 121\n",
            "\n",
            "     userID   productId  Score      Rank\n",
            "106     121  B002R5AM7C     42 1.0000000\n",
            "108     121  B002SQK2F2     33 2.0000000\n",
            "37      121  B000JMJWV2     32 3.0000000\n",
            "44      121  B000N99BBC     31 4.0000000\n",
            "1       121  B00004ZCJE     30 5.0000000\n",
            "\n",
            "\n",
            "Here is the recommendation for the userId: 55\n",
            "\n",
            "     userID   productId  Score      Rank\n",
            "106      55  B002R5AM7C     42 1.0000000\n",
            "108      55  B002SQK2F2     33 2.0000000\n",
            "37       55  B000JMJWV2     32 3.0000000\n",
            "44       55  B000N99BBC     31 4.0000000\n",
            "1        55  B00004ZCJE     30 5.0000000\n",
            "\n",
            "\n",
            "Here is the recommendation for the userId: 230\n",
            "\n",
            "     userID   productId  Score      Rank\n",
            "106     230  B002R5AM7C     42 1.0000000\n",
            "108     230  B002SQK2F2     33 2.0000000\n",
            "37      230  B000JMJWV2     32 3.0000000\n",
            "44      230  B000N99BBC     31 4.0000000\n",
            "1       230  B00004ZCJE     30 5.0000000\n",
            "\n",
            "\n",
            "Here is the recommendation for the userId: 477\n",
            "\n",
            "     userID   productId  Score      Rank\n",
            "106     477  B002R5AM7C     42 1.0000000\n",
            "108     477  B002SQK2F2     33 2.0000000\n",
            "37      477  B000JMJWV2     32 3.0000000\n",
            "44      477  B000N99BBC     31 4.0000000\n",
            "1       477  B00004ZCJE     30 5.0000000\n",
            "\n",
            "\n"
          ]
        }
      ]
    },
    {
      "cell_type": "code",
      "metadata": {
        "id": "bBhhKcWkg-CG"
      },
      "source": [
        "import pickle\n",
        "pickle.dump(popularity_recommendations ,open('mostpopular.pkl','wb'))"
      ],
      "execution_count": 39,
      "outputs": []
    },
    {
      "cell_type": "markdown",
      "metadata": {
        "id": "qNfXgiPgHijA"
      },
      "source": [
        "**NOTE:**\n",
        "\n",
        "Since this is a popularity-based recommender model, recommendations remain the same for all users. We predict the products based on the popularity. It is not personalized to the user."
      ]
    },
    {
      "cell_type": "markdown",
      "metadata": {
        "id": "gw5URhGlKEFS"
      },
      "source": [
        "**COLLABORATIVE FILTER MODELLING**\n",
        "\n",
        "We will use the SVD and KNN based modeling to find the closest product to the chosen product and also closest User Profile to the current User Profile\n"
      ]
    },
    {
      "cell_type": "markdown",
      "metadata": {
        "id": "KbgZRy48Sa7M"
      },
      "source": [
        "**SVD**"
      ]
    },
    {
      "cell_type": "code",
      "metadata": {
        "id": "E0pjhw45SfAz",
        "colab": {
          "base_uri": "https://localhost:8080/",
          "height": 304
        },
        "outputId": "f351a60b-cadf-49f8-ebbf-9ee9c084e5da"
      },
      "source": [
        "# Creating Model using best parameters\n",
        "svd_model = SVD(n_epochs=20, lr_all=0.005, reg_all=0.2)\n",
        "\n",
        "# Training the algorithm on the trainset\n",
        "svd_model.fit(trainset)\n",
        "\n",
        "\n",
        "# Predicting for test set\n",
        "predictions_svd = svd_model.test(testset)\n",
        "\n",
        "# Evaluating RMSE, MAE of algorithm SVD on 5 split(s) by cross validation\n",
        "svd_cv = cross_validate(svd_model, surprise_data, measures=['RMSE', 'MAE'], cv=5, verbose=True)\n",
        "\n",
        "# Storing Crossvalidation Results in dataframe\n",
        "svd_df = pd.DataFrame.from_dict(svd_cv)\n",
        "svd_described = svd_df.describe()\n",
        "cv_results = pd.DataFrame([['SVD', svd_described['test_rmse']['mean'], svd_described['test_mae']['mean'], \n",
        "                           svd_described['fit_time']['mean'], svd_described['test_time']['mean']]],\n",
        "                            columns = ['Model', 'RMSE', 'MAE', 'Fit Time', 'Test Time'])\n",
        "# get RMSE\n",
        "print(\"\\n\\n==================== Model Evaluation ===============================\")\n",
        "accuracy.rmse(predictions_svd, verbose=True)\n",
        "print(\"=====================================================================\")\n",
        "cv_results"
      ],
      "execution_count": 40,
      "outputs": [
        {
          "output_type": "execute_result",
          "data": {
            "text/plain": [
              "<surprise.prediction_algorithms.matrix_factorization.SVD at 0x7f8fadcf4650>"
            ]
          },
          "metadata": {},
          "execution_count": 40
        },
        {
          "output_type": "stream",
          "name": "stdout",
          "text": [
            "Evaluating RMSE, MAE of algorithm SVD on 5 split(s).\n",
            "\n",
            "                  Fold 1  Fold 2  Fold 3  Fold 4  Fold 5  Mean    Std     \n",
            "RMSE (testset)    0.8355  0.9008  0.8512  0.8337  0.8773  0.8597  0.0258  \n",
            "MAE (testset)     0.6118  0.6470  0.6160  0.6386  0.6577  0.6342  0.0177  \n",
            "Fit time          0.08    0.10    0.08    0.08    0.09    0.08    0.01    \n",
            "Test time         0.01    0.00    0.00    0.00    0.00    0.00    0.00    \n",
            "\n",
            "\n",
            "==================== Model Evaluation ===============================\n",
            "RMSE: 0.8132\n"
          ]
        },
        {
          "output_type": "execute_result",
          "data": {
            "text/plain": [
              "0.8131646638289174"
            ]
          },
          "metadata": {},
          "execution_count": 40
        },
        {
          "output_type": "stream",
          "name": "stdout",
          "text": [
            "=====================================================================\n"
          ]
        },
        {
          "output_type": "execute_result",
          "data": {
            "text/html": [
              "<div>\n",
              "<style scoped>\n",
              "    .dataframe tbody tr th:only-of-type {\n",
              "        vertical-align: middle;\n",
              "    }\n",
              "\n",
              "    .dataframe tbody tr th {\n",
              "        vertical-align: top;\n",
              "    }\n",
              "\n",
              "    .dataframe thead th {\n",
              "        text-align: right;\n",
              "    }\n",
              "</style>\n",
              "<table border=\"1\" class=\"dataframe\">\n",
              "  <thead>\n",
              "    <tr style=\"text-align: right;\">\n",
              "      <th></th>\n",
              "      <th>Model</th>\n",
              "      <th>RMSE</th>\n",
              "      <th>MAE</th>\n",
              "      <th>Fit Time</th>\n",
              "      <th>Test Time</th>\n",
              "    </tr>\n",
              "  </thead>\n",
              "  <tbody>\n",
              "    <tr>\n",
              "      <th>0</th>\n",
              "      <td>SVD</td>\n",
              "      <td>0.8597010</td>\n",
              "      <td>0.6342204</td>\n",
              "      <td>0.0845932</td>\n",
              "      <td>0.0039163</td>\n",
              "    </tr>\n",
              "  </tbody>\n",
              "</table>\n",
              "</div>"
            ],
            "text/plain": [
              "  Model      RMSE       MAE  Fit Time  Test Time\n",
              "0   SVD 0.8597010 0.6342204 0.0845932  0.0039163"
            ]
          },
          "metadata": {},
          "execution_count": 40
        }
      ]
    },
    {
      "cell_type": "markdown",
      "metadata": {
        "id": "LDXaIcHXS_vs"
      },
      "source": [
        "**Comment:** Here we can see that the RMSE of testset and complete dataset found from cross_validation is almost same and it seems like our model is performing well on trainset and testset."
      ]
    },
    {
      "cell_type": "markdown",
      "metadata": {
        "id": "bLYX-c1bTE9W"
      },
      "source": [
        "**SVD++**"
      ]
    },
    {
      "cell_type": "code",
      "metadata": {
        "id": "nbFjLXlPTTlp",
        "colab": {
          "base_uri": "https://localhost:8080/",
          "height": 335
        },
        "outputId": "b1a2e712-5e98-4eb1-a245-037295e2d8b3"
      },
      "source": [
        "# Creating Model using best parameters\n",
        "svdpp_model = SVDpp(n_epochs=25, lr_all=0.01, reg_all=0.4)\n",
        "\n",
        "# Training the algorithm on the trainset\n",
        "svdpp_model.fit(trainset)\n",
        "\n",
        "\n",
        "# Predicting for test set\n",
        "predictions_svdpp = svdpp_model.test(testset)\n",
        "\n",
        "# Evaluating RMSE, MAE of algorithm SVDpp on 5 split(s) by cross validation\n",
        "svdpp_cv = cross_validate(svdpp_model, surprise_data, measures=['RMSE', 'MAE'], cv=5, verbose=True)\n",
        "\n",
        "# Storing Crossvalidation Results in dataframe\n",
        "svdpp_df = pd.DataFrame.from_dict(svdpp_cv)\n",
        "svdpp_described = svdpp_df.describe()\n",
        "svdpp_cv_results = pd.DataFrame([['SVD++', svdpp_described['test_rmse']['mean'], svdpp_described['test_mae']['mean'], \n",
        "                           svdpp_described['fit_time']['mean'], svdpp_described['test_time']['mean']]],\n",
        "                            columns = ['Model', 'RMSE', 'MAE', 'Fit Time', 'Test Time'])\n",
        "\n",
        "cv_results = cv_results.append(svdpp_cv_results, ignore_index=True)\n",
        "# get RMSE\n",
        "print(\"\\n\\n==================== Model Evaluation ===============================\")\n",
        "accuracy.rmse(predictions_svdpp, verbose=True)\n",
        "print(\"=====================================================================\")\n",
        "cv_results"
      ],
      "execution_count": 41,
      "outputs": [
        {
          "output_type": "execute_result",
          "data": {
            "text/plain": [
              "<surprise.prediction_algorithms.matrix_factorization.SVDpp at 0x7f8fadc803d0>"
            ]
          },
          "metadata": {},
          "execution_count": 41
        },
        {
          "output_type": "stream",
          "name": "stdout",
          "text": [
            "Evaluating RMSE, MAE of algorithm SVDpp on 5 split(s).\n",
            "\n",
            "                  Fold 1  Fold 2  Fold 3  Fold 4  Fold 5  Mean    Std     \n",
            "RMSE (testset)    0.8323  0.8280  0.9347  0.8675  0.8630  0.8651  0.0382  \n",
            "MAE (testset)     0.6099  0.6075  0.6153  0.6375  0.6425  0.6225  0.0146  \n",
            "Fit time          0.34    0.32    0.32    0.34    0.30    0.33    0.01    \n",
            "Test time         0.01    0.01    0.02    0.01    0.01    0.01    0.00    \n",
            "\n",
            "\n",
            "==================== Model Evaluation ===============================\n",
            "RMSE: 0.8179\n"
          ]
        },
        {
          "output_type": "execute_result",
          "data": {
            "text/plain": [
              "0.8178931620284914"
            ]
          },
          "metadata": {},
          "execution_count": 41
        },
        {
          "output_type": "stream",
          "name": "stdout",
          "text": [
            "=====================================================================\n"
          ]
        },
        {
          "output_type": "execute_result",
          "data": {
            "text/html": [
              "<div>\n",
              "<style scoped>\n",
              "    .dataframe tbody tr th:only-of-type {\n",
              "        vertical-align: middle;\n",
              "    }\n",
              "\n",
              "    .dataframe tbody tr th {\n",
              "        vertical-align: top;\n",
              "    }\n",
              "\n",
              "    .dataframe thead th {\n",
              "        text-align: right;\n",
              "    }\n",
              "</style>\n",
              "<table border=\"1\" class=\"dataframe\">\n",
              "  <thead>\n",
              "    <tr style=\"text-align: right;\">\n",
              "      <th></th>\n",
              "      <th>Model</th>\n",
              "      <th>RMSE</th>\n",
              "      <th>MAE</th>\n",
              "      <th>Fit Time</th>\n",
              "      <th>Test Time</th>\n",
              "    </tr>\n",
              "  </thead>\n",
              "  <tbody>\n",
              "    <tr>\n",
              "      <th>0</th>\n",
              "      <td>SVD</td>\n",
              "      <td>0.8597010</td>\n",
              "      <td>0.6342204</td>\n",
              "      <td>0.0845932</td>\n",
              "      <td>0.0039163</td>\n",
              "    </tr>\n",
              "    <tr>\n",
              "      <th>1</th>\n",
              "      <td>SVD++</td>\n",
              "      <td>0.8650942</td>\n",
              "      <td>0.6225308</td>\n",
              "      <td>0.3252538</td>\n",
              "      <td>0.0106252</td>\n",
              "    </tr>\n",
              "  </tbody>\n",
              "</table>\n",
              "</div>"
            ],
            "text/plain": [
              "   Model      RMSE       MAE  Fit Time  Test Time\n",
              "0    SVD 0.8597010 0.6342204 0.0845932  0.0039163\n",
              "1  SVD++ 0.8650942 0.6225308 0.3252538  0.0106252"
            ]
          },
          "metadata": {},
          "execution_count": 41
        }
      ]
    },
    {
      "cell_type": "markdown",
      "metadata": {
        "id": "axMvqYEjLtH-"
      },
      "source": [
        "**KNN BASIC**"
      ]
    },
    {
      "cell_type": "code",
      "metadata": {
        "id": "6QHB7xHqLxTf",
        "colab": {
          "base_uri": "https://localhost:8080/"
        },
        "outputId": "330e6a34-eb46-4432-f6df-d862348e0f1c"
      },
      "source": [
        "knn_param_grid = {'bsl_options': {'method': ['als', 'sgd'],\n",
        "                              'reg': [1, 2]},\n",
        "              'k': [15, 20, 25, 30, 40, 50, 60],\n",
        "              'sim_options': {'name': ['msd', 'cosine', 'pearson_baseline']}\n",
        "              }\n",
        "\n",
        "knnbasic_gs = GridSearchCV(KNNBasic, knn_param_grid, measures=['rmse', 'mae'], cv=5, n_jobs=5)\n",
        "knnmeans_gs = GridSearchCV(KNNWithMeans, knn_param_grid, measures=['rmse', 'mae'], cv=5, n_jobs=5)\n",
        "knnz_gs     = GridSearchCV(KNNWithZScore, knn_param_grid, measures=['rmse', 'mae'], cv=5, n_jobs=5)\n",
        "\n",
        "\n",
        "knnbasic_gs.fit(surprise_data)\n",
        "knnmeans_gs.fit(surprise_data)\n",
        "knnz_gs.fit(surprise_data)\n",
        "\n",
        "# best RMSE score\n",
        "print(knnbasic_gs.best_score['rmse'])\n",
        "print(knnmeans_gs.best_score['rmse'])\n",
        "print(knnz_gs.best_score['rmse'])\n",
        "\n",
        "# combination of parameters that gave the best RMSE score\n",
        "print(knnbasic_gs.best_params['rmse'])\n",
        "print(knnmeans_gs.best_params['rmse'])\n",
        "print(knnz_gs.best_params['rmse'])\n",
        "\n"
      ],
      "execution_count": 42,
      "outputs": [
        {
          "output_type": "stream",
          "name": "stdout",
          "text": [
            "0.9676399994070575\n",
            "0.9710934729094735\n",
            "0.978465844074754\n",
            "{'bsl_options': {'method': 'als', 'reg': 1}, 'k': 15, 'sim_options': {'name': 'cosine', 'user_based': True}}\n",
            "{'bsl_options': {'method': 'als', 'reg': 1}, 'k': 15, 'sim_options': {'name': 'cosine', 'user_based': True}}\n",
            "{'bsl_options': {'method': 'als', 'reg': 1}, 'k': 15, 'sim_options': {'name': 'cosine', 'user_based': True}}\n"
          ]
        }
      ]
    },
    {
      "cell_type": "code",
      "metadata": {
        "id": "YVP7nggCLxaH",
        "colab": {
          "base_uri": "https://localhost:8080/",
          "height": 570
        },
        "outputId": "c042d343-515d-4c4d-9d5c-241b549c8dc8"
      },
      "source": [
        "# Creating Model using best parameters\n",
        "knnBasic_model = KNNBasic(k=50, sim_options={'name': 'cosine', 'user_based': False})\n",
        "\n",
        "# Training the algorithm on the trainset\n",
        "knnBasic_model.fit(trainset)\n",
        "\n",
        "# Predicting for test set\n",
        "prediction_knnBasic = knnBasic_model.test(testset)\n",
        "\n",
        "# Evaluating RMSE, MAE of algorithm KNNBasic on 5 split(s)\n",
        "knnBasic_cv = cross_validate(knnBasic_model, surprise_data, measures=['RMSE', 'MAE'], cv=5, verbose=True)\n",
        "\n",
        "# Storing Crossvalidation Results in dataframe\n",
        "knnBasic_df = pd.DataFrame.from_dict(knnBasic_cv)\n",
        "knnBasic_described = knnBasic_df.describe()\n",
        "knnBasic_cv_results = pd.DataFrame([['KNNBasic', knnBasic_described['test_rmse']['mean'], knnBasic_described['test_mae']['mean'], knnBasic_described['fit_time']['mean'], knnBasic_described['test_time']['mean']]],\n",
        "columns = ['Model', 'RMSE', 'MAE', 'Fit Time', 'Test Time'])\n",
        "cv_results = cv_results.append(knnBasic_cv_results, ignore_index=True)\n",
        "\n",
        "# get RMSE\n",
        "print(\"\\n\\n==================== Model Evaluation ===============================\")\n",
        "accuracy.rmse(prediction_knnBasic, verbose=True)\n",
        "print(\"=====================================================================\")\n",
        "cv_results\n"
      ],
      "execution_count": 43,
      "outputs": [
        {
          "output_type": "stream",
          "name": "stdout",
          "text": [
            "Computing the cosine similarity matrix...\n",
            "Done computing similarity matrix.\n"
          ]
        },
        {
          "output_type": "execute_result",
          "data": {
            "text/plain": [
              "<surprise.prediction_algorithms.knns.KNNBasic at 0x7f8fad98b750>"
            ]
          },
          "metadata": {},
          "execution_count": 43
        },
        {
          "output_type": "stream",
          "name": "stdout",
          "text": [
            "Computing the cosine similarity matrix...\n",
            "Done computing similarity matrix.\n",
            "Computing the cosine similarity matrix...\n",
            "Done computing similarity matrix.\n",
            "Computing the cosine similarity matrix...\n",
            "Done computing similarity matrix.\n",
            "Computing the cosine similarity matrix...\n",
            "Done computing similarity matrix.\n",
            "Computing the cosine similarity matrix...\n",
            "Done computing similarity matrix.\n",
            "Evaluating RMSE, MAE of algorithm KNNBasic on 5 split(s).\n",
            "\n",
            "                  Fold 1  Fold 2  Fold 3  Fold 4  Fold 5  Mean    Std     \n",
            "RMSE (testset)    1.0244  1.0422  1.1009  1.0243  0.9544  1.0293  0.0468  \n",
            "MAE (testset)     0.7195  0.6974  0.7431  0.6729  0.6518  0.6970  0.0324  \n",
            "Fit time          0.01    0.00    0.00    0.00    0.01    0.01    0.00    \n",
            "Test time         0.01    0.01    0.01    0.01    0.01    0.01    0.00    \n",
            "\n",
            "\n",
            "==================== Model Evaluation ===============================\n",
            "RMSE: 1.0119\n"
          ]
        },
        {
          "output_type": "execute_result",
          "data": {
            "text/plain": [
              "1.0119168692862568"
            ]
          },
          "metadata": {},
          "execution_count": 43
        },
        {
          "output_type": "stream",
          "name": "stdout",
          "text": [
            "=====================================================================\n"
          ]
        },
        {
          "output_type": "execute_result",
          "data": {
            "text/html": [
              "<div>\n",
              "<style scoped>\n",
              "    .dataframe tbody tr th:only-of-type {\n",
              "        vertical-align: middle;\n",
              "    }\n",
              "\n",
              "    .dataframe tbody tr th {\n",
              "        vertical-align: top;\n",
              "    }\n",
              "\n",
              "    .dataframe thead th {\n",
              "        text-align: right;\n",
              "    }\n",
              "</style>\n",
              "<table border=\"1\" class=\"dataframe\">\n",
              "  <thead>\n",
              "    <tr style=\"text-align: right;\">\n",
              "      <th></th>\n",
              "      <th>Model</th>\n",
              "      <th>RMSE</th>\n",
              "      <th>MAE</th>\n",
              "      <th>Fit Time</th>\n",
              "      <th>Test Time</th>\n",
              "    </tr>\n",
              "  </thead>\n",
              "  <tbody>\n",
              "    <tr>\n",
              "      <th>0</th>\n",
              "      <td>SVD</td>\n",
              "      <td>0.8597010</td>\n",
              "      <td>0.6342204</td>\n",
              "      <td>0.0845932</td>\n",
              "      <td>0.0039163</td>\n",
              "    </tr>\n",
              "    <tr>\n",
              "      <th>1</th>\n",
              "      <td>SVD++</td>\n",
              "      <td>0.8650942</td>\n",
              "      <td>0.6225308</td>\n",
              "      <td>0.3252538</td>\n",
              "      <td>0.0106252</td>\n",
              "    </tr>\n",
              "    <tr>\n",
              "      <th>2</th>\n",
              "      <td>KNNBasic</td>\n",
              "      <td>1.0292521</td>\n",
              "      <td>0.6969513</td>\n",
              "      <td>0.0054020</td>\n",
              "      <td>0.0059518</td>\n",
              "    </tr>\n",
              "  </tbody>\n",
              "</table>\n",
              "</div>"
            ],
            "text/plain": [
              "      Model      RMSE       MAE  Fit Time  Test Time\n",
              "0       SVD 0.8597010 0.6342204 0.0845932  0.0039163\n",
              "1     SVD++ 0.8650942 0.6225308 0.3252538  0.0106252\n",
              "2  KNNBasic 1.0292521 0.6969513 0.0054020  0.0059518"
            ]
          },
          "metadata": {},
          "execution_count": 43
        }
      ]
    },
    {
      "cell_type": "markdown",
      "metadata": {
        "id": "Fn_kzijQQfn1"
      },
      "source": [
        "**KNNWithZScore**"
      ]
    },
    {
      "cell_type": "code",
      "metadata": {
        "id": "T-yYX0QiLxf3",
        "colab": {
          "base_uri": "https://localhost:8080/",
          "height": 601
        },
        "outputId": "f274a3ca-f718-46ba-e854-58cdc69fbd85"
      },
      "source": [
        "# Creating Model using best parameters\n",
        "knnZscore_model = KNNWithZScore(k=60, sim_options={'name': 'cosine', 'user_based': False})\n",
        "\n",
        "# Training the algorithm on the trainset\n",
        "knnZscore_model.fit(trainset)\n",
        "\n",
        "# Predicting for testset\n",
        "prediction_knnZscore = knnZscore_model.test(testset)\n",
        "\n",
        "# Evaluating RMSE, MAE of algorithm KNNWithZScore on 5 split(s)\n",
        "knnZscore_cv = cross_validate(knnZscore_model, surprise_data, measures=['RMSE', 'MAE'], cv=5, verbose=True)\n",
        "\n",
        "# Storing Crossvalidation Results in dataframe\n",
        "knnZscore_df = pd.DataFrame.from_dict(knnZscore_cv)\n",
        "knnZscore_described = knnZscore_df.describe()\n",
        "knnZscore_cv_results = pd.DataFrame([['KNNWithZScore', knnZscore_described['test_rmse']['mean'], knnZscore_described['test_mae']['mean'], \n",
        "                           knnZscore_described['fit_time']['mean'], knnZscore_described['test_time']['mean']]],\n",
        "                            columns = ['Model', 'RMSE', 'MAE', 'Fit Time', 'Test Time'])\n",
        "\n",
        "cv_results = cv_results.append(knnZscore_cv_results, ignore_index=True)\n",
        "# get RMSE\n",
        "print(\"\\n\\n==================== Model Evaluation ===============================\")\n",
        "accuracy.rmse(prediction_knnZscore, verbose=True)\n",
        "print(\"=====================================================================\")\n",
        "cv_results"
      ],
      "execution_count": 44,
      "outputs": [
        {
          "output_type": "stream",
          "name": "stdout",
          "text": [
            "Computing the cosine similarity matrix...\n",
            "Done computing similarity matrix.\n"
          ]
        },
        {
          "output_type": "execute_result",
          "data": {
            "text/plain": [
              "<surprise.prediction_algorithms.knns.KNNWithZScore at 0x7f8fad9126d0>"
            ]
          },
          "metadata": {},
          "execution_count": 44
        },
        {
          "output_type": "stream",
          "name": "stdout",
          "text": [
            "Computing the cosine similarity matrix...\n",
            "Done computing similarity matrix.\n",
            "Computing the cosine similarity matrix...\n",
            "Done computing similarity matrix.\n",
            "Computing the cosine similarity matrix...\n",
            "Done computing similarity matrix.\n",
            "Computing the cosine similarity matrix...\n",
            "Done computing similarity matrix.\n",
            "Computing the cosine similarity matrix...\n",
            "Done computing similarity matrix.\n",
            "Evaluating RMSE, MAE of algorithm KNNWithZScore on 5 split(s).\n",
            "\n",
            "                  Fold 1  Fold 2  Fold 3  Fold 4  Fold 5  Mean    Std     \n",
            "RMSE (testset)    0.9097  0.8589  0.9930  0.9937  0.9600  0.9431  0.0520  \n",
            "MAE (testset)     0.6399  0.5807  0.6563  0.6522  0.6345  0.6327  0.0272  \n",
            "Fit time          0.01    0.01    0.01    0.01    0.01    0.01    0.00    \n",
            "Test time         0.01    0.01    0.01    0.01    0.01    0.01    0.00    \n",
            "\n",
            "\n",
            "==================== Model Evaluation ===============================\n",
            "RMSE: 0.9617\n"
          ]
        },
        {
          "output_type": "execute_result",
          "data": {
            "text/plain": [
              "0.9617047967586995"
            ]
          },
          "metadata": {},
          "execution_count": 44
        },
        {
          "output_type": "stream",
          "name": "stdout",
          "text": [
            "=====================================================================\n"
          ]
        },
        {
          "output_type": "execute_result",
          "data": {
            "text/html": [
              "<div>\n",
              "<style scoped>\n",
              "    .dataframe tbody tr th:only-of-type {\n",
              "        vertical-align: middle;\n",
              "    }\n",
              "\n",
              "    .dataframe tbody tr th {\n",
              "        vertical-align: top;\n",
              "    }\n",
              "\n",
              "    .dataframe thead th {\n",
              "        text-align: right;\n",
              "    }\n",
              "</style>\n",
              "<table border=\"1\" class=\"dataframe\">\n",
              "  <thead>\n",
              "    <tr style=\"text-align: right;\">\n",
              "      <th></th>\n",
              "      <th>Model</th>\n",
              "      <th>RMSE</th>\n",
              "      <th>MAE</th>\n",
              "      <th>Fit Time</th>\n",
              "      <th>Test Time</th>\n",
              "    </tr>\n",
              "  </thead>\n",
              "  <tbody>\n",
              "    <tr>\n",
              "      <th>0</th>\n",
              "      <td>SVD</td>\n",
              "      <td>0.8597010</td>\n",
              "      <td>0.6342204</td>\n",
              "      <td>0.0845932</td>\n",
              "      <td>0.0039163</td>\n",
              "    </tr>\n",
              "    <tr>\n",
              "      <th>1</th>\n",
              "      <td>SVD++</td>\n",
              "      <td>0.8650942</td>\n",
              "      <td>0.6225308</td>\n",
              "      <td>0.3252538</td>\n",
              "      <td>0.0106252</td>\n",
              "    </tr>\n",
              "    <tr>\n",
              "      <th>2</th>\n",
              "      <td>KNNBasic</td>\n",
              "      <td>1.0292521</td>\n",
              "      <td>0.6969513</td>\n",
              "      <td>0.0054020</td>\n",
              "      <td>0.0059518</td>\n",
              "    </tr>\n",
              "    <tr>\n",
              "      <th>3</th>\n",
              "      <td>KNNWithZScore</td>\n",
              "      <td>0.9430571</td>\n",
              "      <td>0.6326998</td>\n",
              "      <td>0.0128667</td>\n",
              "      <td>0.0086411</td>\n",
              "    </tr>\n",
              "  </tbody>\n",
              "</table>\n",
              "</div>"
            ],
            "text/plain": [
              "           Model      RMSE       MAE  Fit Time  Test Time\n",
              "0            SVD 0.8597010 0.6342204 0.0845932  0.0039163\n",
              "1          SVD++ 0.8650942 0.6225308 0.3252538  0.0106252\n",
              "2       KNNBasic 1.0292521 0.6969513 0.0054020  0.0059518\n",
              "3  KNNWithZScore 0.9430571 0.6326998 0.0128667  0.0086411"
            ]
          },
          "metadata": {},
          "execution_count": 44
        }
      ]
    },
    {
      "cell_type": "markdown",
      "metadata": {
        "id": "oNArtAJWQ7gw"
      },
      "source": [
        "**KNNWithMeans User-User**"
      ]
    },
    {
      "cell_type": "code",
      "metadata": {
        "id": "XJY2S2vDLxkw",
        "colab": {
          "base_uri": "https://localhost:8080/",
          "height": 632
        },
        "outputId": "62d47e1c-380e-45b5-b069-fe5cd411fe62"
      },
      "source": [
        "# Creating Model using best parameters\n",
        "knnMeansUU_model = KNNWithMeans(k=60, sim_options={'name': 'cosine', 'user_based': True})\n",
        "\n",
        "# Training the algorithm on the trainset\n",
        "knnMeansUU_model.fit(trainset)\n",
        "\n",
        "# Predicting for testset\n",
        "prediction_knnMeansUU = knnMeansUU_model.test(testset)\n",
        "\n",
        "# Evaluating RMSE, MAE of algorithm KNNWithMeans User-User on 5 split(s)\n",
        "knnMeansUU_cv = cross_validate(knnMeansUU_model, surprise_data, measures=['RMSE', 'MAE'], cv=5, verbose=True)\n",
        "\n",
        "# Storing Crossvalidation Results in dataframe\n",
        "knnMeansUU_df = pd.DataFrame.from_dict(knnMeansUU_cv)\n",
        "knnMeansUU_described = knnMeansUU_df.describe()\n",
        "knnMeansUU_cv_results = pd.DataFrame([['KNNWithMeans User-User', knnMeansUU_described['test_rmse']['mean'], knnMeansUU_described['test_mae']['mean'], \n",
        "                           knnMeansUU_described['fit_time']['mean'], knnMeansUU_described['test_time']['mean']]],\n",
        "                            columns = ['Model', 'RMSE', 'MAE', 'Fit Time', 'Test Time'])\n",
        "\n",
        "cv_results = cv_results.append(knnMeansUU_cv_results, ignore_index=True)\n",
        "# get RMSE\n",
        "print(\"\\n\\n==================== Model Evaluation ===============================\")\n",
        "accuracy.rmse(prediction_knnMeansUU, verbose=True)\n",
        "print(\"=====================================================================\")\n",
        "cv_results"
      ],
      "execution_count": 45,
      "outputs": [
        {
          "output_type": "stream",
          "name": "stdout",
          "text": [
            "Computing the cosine similarity matrix...\n",
            "Done computing similarity matrix.\n"
          ]
        },
        {
          "output_type": "execute_result",
          "data": {
            "text/plain": [
              "<surprise.prediction_algorithms.knns.KNNWithMeans at 0x7f8fad9122d0>"
            ]
          },
          "metadata": {},
          "execution_count": 45
        },
        {
          "output_type": "stream",
          "name": "stdout",
          "text": [
            "Computing the cosine similarity matrix...\n",
            "Done computing similarity matrix.\n",
            "Computing the cosine similarity matrix...\n",
            "Done computing similarity matrix.\n",
            "Computing the cosine similarity matrix...\n",
            "Done computing similarity matrix.\n",
            "Computing the cosine similarity matrix...\n",
            "Done computing similarity matrix.\n",
            "Computing the cosine similarity matrix...\n",
            "Done computing similarity matrix.\n",
            "Evaluating RMSE, MAE of algorithm KNNWithMeans on 5 split(s).\n",
            "\n",
            "                  Fold 1  Fold 2  Fold 3  Fold 4  Fold 5  Mean    Std     \n",
            "RMSE (testset)    0.9560  1.0684  0.9224  0.9372  0.9752  0.9718  0.0515  \n",
            "MAE (testset)     0.6557  0.7276  0.6285  0.6405  0.6576  0.6620  0.0345  \n",
            "Fit time          0.02    0.02    0.02    0.02    0.02    0.02    0.00    \n",
            "Test time         0.01    0.02    0.02    0.01    0.01    0.01    0.00    \n",
            "\n",
            "\n",
            "==================== Model Evaluation ===============================\n",
            "RMSE: 0.9262\n"
          ]
        },
        {
          "output_type": "execute_result",
          "data": {
            "text/plain": [
              "0.9262069504005537"
            ]
          },
          "metadata": {},
          "execution_count": 45
        },
        {
          "output_type": "stream",
          "name": "stdout",
          "text": [
            "=====================================================================\n"
          ]
        },
        {
          "output_type": "execute_result",
          "data": {
            "text/html": [
              "<div>\n",
              "<style scoped>\n",
              "    .dataframe tbody tr th:only-of-type {\n",
              "        vertical-align: middle;\n",
              "    }\n",
              "\n",
              "    .dataframe tbody tr th {\n",
              "        vertical-align: top;\n",
              "    }\n",
              "\n",
              "    .dataframe thead th {\n",
              "        text-align: right;\n",
              "    }\n",
              "</style>\n",
              "<table border=\"1\" class=\"dataframe\">\n",
              "  <thead>\n",
              "    <tr style=\"text-align: right;\">\n",
              "      <th></th>\n",
              "      <th>Model</th>\n",
              "      <th>RMSE</th>\n",
              "      <th>MAE</th>\n",
              "      <th>Fit Time</th>\n",
              "      <th>Test Time</th>\n",
              "    </tr>\n",
              "  </thead>\n",
              "  <tbody>\n",
              "    <tr>\n",
              "      <th>0</th>\n",
              "      <td>SVD</td>\n",
              "      <td>0.8597010</td>\n",
              "      <td>0.6342204</td>\n",
              "      <td>0.0845932</td>\n",
              "      <td>0.0039163</td>\n",
              "    </tr>\n",
              "    <tr>\n",
              "      <th>1</th>\n",
              "      <td>SVD++</td>\n",
              "      <td>0.8650942</td>\n",
              "      <td>0.6225308</td>\n",
              "      <td>0.3252538</td>\n",
              "      <td>0.0106252</td>\n",
              "    </tr>\n",
              "    <tr>\n",
              "      <th>2</th>\n",
              "      <td>KNNBasic</td>\n",
              "      <td>1.0292521</td>\n",
              "      <td>0.6969513</td>\n",
              "      <td>0.0054020</td>\n",
              "      <td>0.0059518</td>\n",
              "    </tr>\n",
              "    <tr>\n",
              "      <th>3</th>\n",
              "      <td>KNNWithZScore</td>\n",
              "      <td>0.9430571</td>\n",
              "      <td>0.6326998</td>\n",
              "      <td>0.0128667</td>\n",
              "      <td>0.0086411</td>\n",
              "    </tr>\n",
              "    <tr>\n",
              "      <th>4</th>\n",
              "      <td>KNNWithMeans User-User</td>\n",
              "      <td>0.9718359</td>\n",
              "      <td>0.6619875</td>\n",
              "      <td>0.0169119</td>\n",
              "      <td>0.0128836</td>\n",
              "    </tr>\n",
              "  </tbody>\n",
              "</table>\n",
              "</div>"
            ],
            "text/plain": [
              "                    Model      RMSE       MAE  Fit Time  Test Time\n",
              "0                     SVD 0.8597010 0.6342204 0.0845932  0.0039163\n",
              "1                   SVD++ 0.8650942 0.6225308 0.3252538  0.0106252\n",
              "2                KNNBasic 1.0292521 0.6969513 0.0054020  0.0059518\n",
              "3           KNNWithZScore 0.9430571 0.6326998 0.0128667  0.0086411\n",
              "4  KNNWithMeans User-User 0.9718359 0.6619875 0.0169119  0.0128836"
            ]
          },
          "metadata": {},
          "execution_count": 45
        }
      ]
    },
    {
      "cell_type": "markdown",
      "metadata": {
        "id": "yhqJf4GGRSbf"
      },
      "source": [
        "**KNNWithMeans Item-Item**"
      ]
    },
    {
      "cell_type": "code",
      "metadata": {
        "id": "JkZapqyhLxrU",
        "colab": {
          "base_uri": "https://localhost:8080/",
          "height": 663
        },
        "outputId": "b0385832-177a-49d4-9d6f-9ceaae6efc51"
      },
      "source": [
        "# Creating Model using best parameters\n",
        "knnMeansII_model = KNNWithMeans(k=60, sim_options={'name': 'cosine', 'user_based': False})\n",
        "\n",
        "# Training the algorithm on the trainset\n",
        "knnMeansII_model.fit(trainset)\n",
        "\n",
        "# Predicting for testset\n",
        "prediction_knnMeansII = knnMeansII_model.test(testset)\n",
        "\n",
        "# Evaluating RMSE, MAE of algorithm KNNWithMeans Item-Item on 5 split(s)\n",
        "knnMeansII_cv = cross_validate(knnMeansII_model, surprise_data, measures=['RMSE', 'MAE'], cv=5, verbose=True)\n",
        "\n",
        "# Storing Crossvalidation Results in dataframe\n",
        "knnMeansII_df = pd.DataFrame.from_dict(knnMeansII_cv)\n",
        "knnMeansII_described = knnMeansII_df.describe()\n",
        "knnMeansII_cv_results = pd.DataFrame([['KNNWithMeans Item-Item', knnMeansII_described['test_rmse']['mean'], knnMeansII_described['test_mae']['mean'], \n",
        "                           knnMeansII_described['fit_time']['mean'], knnMeansII_described['test_time']['mean']]],\n",
        "                            columns = ['Model', 'RMSE', 'MAE', 'Fit Time', 'Test Time'])\n",
        "\n",
        "cv_results = cv_results.append(knnMeansII_cv_results, ignore_index=True)\n",
        "\n",
        "# get RMSE\n",
        "print(\"\\n\\n==================== Model Evaluation ===============================\")\n",
        "accuracy.rmse(prediction_knnMeansII, verbose=True)\n",
        "print(\"=====================================================================\")\n",
        "cv_results"
      ],
      "execution_count": 46,
      "outputs": [
        {
          "output_type": "stream",
          "name": "stdout",
          "text": [
            "Computing the cosine similarity matrix...\n",
            "Done computing similarity matrix.\n"
          ]
        },
        {
          "output_type": "execute_result",
          "data": {
            "text/plain": [
              "<surprise.prediction_algorithms.knns.KNNWithMeans at 0x7f8fadad2c90>"
            ]
          },
          "metadata": {},
          "execution_count": 46
        },
        {
          "output_type": "stream",
          "name": "stdout",
          "text": [
            "Computing the cosine similarity matrix...\n",
            "Done computing similarity matrix.\n",
            "Computing the cosine similarity matrix...\n",
            "Done computing similarity matrix.\n",
            "Computing the cosine similarity matrix...\n",
            "Done computing similarity matrix.\n",
            "Computing the cosine similarity matrix...\n",
            "Done computing similarity matrix.\n",
            "Computing the cosine similarity matrix...\n",
            "Done computing similarity matrix.\n",
            "Evaluating RMSE, MAE of algorithm KNNWithMeans on 5 split(s).\n",
            "\n",
            "                  Fold 1  Fold 2  Fold 3  Fold 4  Fold 5  Mean    Std     \n",
            "RMSE (testset)    1.0471  0.9860  0.9712  0.8686  0.8932  0.9532  0.0648  \n",
            "MAE (testset)     0.6901  0.6348  0.6682  0.5985  0.6094  0.6402  0.0346  \n",
            "Fit time          0.01    0.01    0.01    0.01    0.01    0.01    0.00    \n",
            "Test time         0.01    0.01    0.01    0.01    0.01    0.01    0.00    \n",
            "\n",
            "\n",
            "==================== Model Evaluation ===============================\n",
            "RMSE: 0.9053\n"
          ]
        },
        {
          "output_type": "execute_result",
          "data": {
            "text/plain": [
              "0.9053276867702928"
            ]
          },
          "metadata": {},
          "execution_count": 46
        },
        {
          "output_type": "stream",
          "name": "stdout",
          "text": [
            "=====================================================================\n"
          ]
        },
        {
          "output_type": "execute_result",
          "data": {
            "text/html": [
              "<div>\n",
              "<style scoped>\n",
              "    .dataframe tbody tr th:only-of-type {\n",
              "        vertical-align: middle;\n",
              "    }\n",
              "\n",
              "    .dataframe tbody tr th {\n",
              "        vertical-align: top;\n",
              "    }\n",
              "\n",
              "    .dataframe thead th {\n",
              "        text-align: right;\n",
              "    }\n",
              "</style>\n",
              "<table border=\"1\" class=\"dataframe\">\n",
              "  <thead>\n",
              "    <tr style=\"text-align: right;\">\n",
              "      <th></th>\n",
              "      <th>Model</th>\n",
              "      <th>RMSE</th>\n",
              "      <th>MAE</th>\n",
              "      <th>Fit Time</th>\n",
              "      <th>Test Time</th>\n",
              "    </tr>\n",
              "  </thead>\n",
              "  <tbody>\n",
              "    <tr>\n",
              "      <th>0</th>\n",
              "      <td>SVD</td>\n",
              "      <td>0.8597010</td>\n",
              "      <td>0.6342204</td>\n",
              "      <td>0.0845932</td>\n",
              "      <td>0.0039163</td>\n",
              "    </tr>\n",
              "    <tr>\n",
              "      <th>1</th>\n",
              "      <td>SVD++</td>\n",
              "      <td>0.8650942</td>\n",
              "      <td>0.6225308</td>\n",
              "      <td>0.3252538</td>\n",
              "      <td>0.0106252</td>\n",
              "    </tr>\n",
              "    <tr>\n",
              "      <th>2</th>\n",
              "      <td>KNNBasic</td>\n",
              "      <td>1.0292521</td>\n",
              "      <td>0.6969513</td>\n",
              "      <td>0.0054020</td>\n",
              "      <td>0.0059518</td>\n",
              "    </tr>\n",
              "    <tr>\n",
              "      <th>3</th>\n",
              "      <td>KNNWithZScore</td>\n",
              "      <td>0.9430571</td>\n",
              "      <td>0.6326998</td>\n",
              "      <td>0.0128667</td>\n",
              "      <td>0.0086411</td>\n",
              "    </tr>\n",
              "    <tr>\n",
              "      <th>4</th>\n",
              "      <td>KNNWithMeans User-User</td>\n",
              "      <td>0.9718359</td>\n",
              "      <td>0.6619875</td>\n",
              "      <td>0.0169119</td>\n",
              "      <td>0.0128836</td>\n",
              "    </tr>\n",
              "    <tr>\n",
              "      <th>5</th>\n",
              "      <td>KNNWithMeans Item-Item</td>\n",
              "      <td>0.9532165</td>\n",
              "      <td>0.6401968</td>\n",
              "      <td>0.0086063</td>\n",
              "      <td>0.0064747</td>\n",
              "    </tr>\n",
              "  </tbody>\n",
              "</table>\n",
              "</div>"
            ],
            "text/plain": [
              "                    Model      RMSE       MAE  Fit Time  Test Time\n",
              "0                     SVD 0.8597010 0.6342204 0.0845932  0.0039163\n",
              "1                   SVD++ 0.8650942 0.6225308 0.3252538  0.0106252\n",
              "2                KNNBasic 1.0292521 0.6969513 0.0054020  0.0059518\n",
              "3           KNNWithZScore 0.9430571 0.6326998 0.0128667  0.0086411\n",
              "4  KNNWithMeans User-User 0.9718359 0.6619875 0.0169119  0.0128836\n",
              "5  KNNWithMeans Item-Item 0.9532165 0.6401968 0.0086063  0.0064747"
            ]
          },
          "metadata": {},
          "execution_count": 46
        }
      ]
    },
    {
      "cell_type": "markdown",
      "metadata": {
        "id": "DPyeDQm0U9ui"
      },
      "source": [
        "**COMPARING ALL RMSE AND MAE ACROSS MODELS**"
      ]
    },
    {
      "cell_type": "code",
      "metadata": {
        "id": "5BeZST8kLxxO",
        "colab": {
          "base_uri": "https://localhost:8080/",
          "height": 1000
        },
        "outputId": "951554a7-4256-401e-b4fa-cb1b87e6f361"
      },
      "source": [
        "x_algo = ['KNN Basic', 'KNNWithMeans-User-User', 'KNNWithMeans-Item-Item', 'KNN ZScore', 'SVD', 'SVD++']\n",
        "all_algos_cv = [knnBasic_cv, knnMeansUU_cv, knnMeansII_cv, knnZscore_cv, svd_cv, svdpp_cv]\n",
        "\n",
        "rmse_cv = [round(res['test_rmse'].mean(), 4) for res in all_algos_cv]\n",
        "mae_cv  = [round(res['test_mae'].mean(), 4) for res in all_algos_cv]\n",
        "\n",
        "plt.figure(figsize=(20,15))\n",
        "\n",
        "plt.subplot(2, 1, 1)\n",
        "plt.title('Comparison of Algorithms on RMSE', loc='center', fontsize=15)\n",
        "plt.plot(x_algo, rmse_cv, label='RMSE', color='darkgreen', marker='o')\n",
        "plt.xlabel('Algorithms', fontsize=15)\n",
        "plt.ylabel('RMSE Value', fontsize=15)\n",
        "plt.legend()\n",
        "plt.grid(ls='dashed')\n",
        "\n",
        "plt.subplot(2, 1, 2)\n",
        "plt.title('Comparison of Algorithms on MAE', loc='center', fontsize=15)\n",
        "plt.plot(x_algo, mae_cv, label='MAE', color='navy', marker='o')\n",
        "plt.xlabel('Algorithms', fontsize=15)\n",
        "plt.ylabel('MAE Value', fontsize=15)\n",
        "plt.legend()\n",
        "plt.grid(ls='dashed')\n",
        "\n",
        "plt.show()\n",
        "\n",
        "cv_results\n"
      ],
      "execution_count": 47,
      "outputs": [
        {
          "output_type": "execute_result",
          "data": {
            "text/plain": [
              "<Figure size 1440x1080 with 0 Axes>"
            ]
          },
          "metadata": {},
          "execution_count": 47
        },
        {
          "output_type": "execute_result",
          "data": {
            "text/plain": [
              "<matplotlib.axes._subplots.AxesSubplot at 0x7f8fadad2750>"
            ]
          },
          "metadata": {},
          "execution_count": 47
        },
        {
          "output_type": "execute_result",
          "data": {
            "text/plain": [
              "Text(0.5, 1.0, 'Comparison of Algorithms on RMSE')"
            ]
          },
          "metadata": {},
          "execution_count": 47
        },
        {
          "output_type": "execute_result",
          "data": {
            "text/plain": [
              "[<matplotlib.lines.Line2D at 0x7f8fad92ea10>]"
            ]
          },
          "metadata": {},
          "execution_count": 47
        },
        {
          "output_type": "execute_result",
          "data": {
            "text/plain": [
              "Text(0.5, 0, 'Algorithms')"
            ]
          },
          "metadata": {},
          "execution_count": 47
        },
        {
          "output_type": "execute_result",
          "data": {
            "text/plain": [
              "Text(0, 0.5, 'RMSE Value')"
            ]
          },
          "metadata": {},
          "execution_count": 47
        },
        {
          "output_type": "execute_result",
          "data": {
            "text/plain": [
              "<matplotlib.legend.Legend at 0x7f8fadb1e650>"
            ]
          },
          "metadata": {},
          "execution_count": 47
        },
        {
          "output_type": "execute_result",
          "data": {
            "text/plain": [
              "<matplotlib.axes._subplots.AxesSubplot at 0x7f8fbadefb10>"
            ]
          },
          "metadata": {},
          "execution_count": 47
        },
        {
          "output_type": "execute_result",
          "data": {
            "text/plain": [
              "Text(0.5, 1.0, 'Comparison of Algorithms on MAE')"
            ]
          },
          "metadata": {},
          "execution_count": 47
        },
        {
          "output_type": "execute_result",
          "data": {
            "text/plain": [
              "[<matplotlib.lines.Line2D at 0x7f8fad92e710>]"
            ]
          },
          "metadata": {},
          "execution_count": 47
        },
        {
          "output_type": "execute_result",
          "data": {
            "text/plain": [
              "Text(0.5, 0, 'Algorithms')"
            ]
          },
          "metadata": {},
          "execution_count": 47
        },
        {
          "output_type": "execute_result",
          "data": {
            "text/plain": [
              "Text(0, 0.5, 'MAE Value')"
            ]
          },
          "metadata": {},
          "execution_count": 47
        },
        {
          "output_type": "execute_result",
          "data": {
            "text/plain": [
              "<matplotlib.legend.Legend at 0x7f8fad92f1d0>"
            ]
          },
          "metadata": {},
          "execution_count": 47
        },
        {
          "output_type": "display_data",
          "data": {
            "image/png": "[encoded data removed]",
            "text/plain": [
              "<Figure size 1440x1080 with 2 Axes>"
            ]
          },
          "metadata": {
            "needs_background": "light"
          }
        },
        {
          "output_type": "execute_result",
          "data": {
            "text/html": [
              "<div>\n",
              "<style scoped>\n",
              "    .dataframe tbody tr th:only-of-type {\n",
              "        vertical-align: middle;\n",
              "    }\n",
              "\n",
              "    .dataframe tbody tr th {\n",
              "        vertical-align: top;\n",
              "    }\n",
              "\n",
              "    .dataframe thead th {\n",
              "        text-align: right;\n",
              "    }\n",
              "</style>\n",
              "<table border=\"1\" class=\"dataframe\">\n",
              "  <thead>\n",
              "    <tr style=\"text-align: right;\">\n",
              "      <th></th>\n",
              "      <th>Model</th>\n",
              "      <th>RMSE</th>\n",
              "      <th>MAE</th>\n",
              "      <th>Fit Time</th>\n",
              "      <th>Test Time</th>\n",
              "    </tr>\n",
              "  </thead>\n",
              "  <tbody>\n",
              "    <tr>\n",
              "      <th>0</th>\n",
              "      <td>SVD</td>\n",
              "      <td>0.8597010</td>\n",
              "      <td>0.6342204</td>\n",
              "      <td>0.0845932</td>\n",
              "      <td>0.0039163</td>\n",
              "    </tr>\n",
              "    <tr>\n",
              "      <th>1</th>\n",
              "      <td>SVD++</td>\n",
              "      <td>0.8650942</td>\n",
              "      <td>0.6225308</td>\n",
              "      <td>0.3252538</td>\n",
              "      <td>0.0106252</td>\n",
              "    </tr>\n",
              "    <tr>\n",
              "      <th>2</th>\n",
              "      <td>KNNBasic</td>\n",
              "      <td>1.0292521</td>\n",
              "      <td>0.6969513</td>\n",
              "      <td>0.0054020</td>\n",
              "      <td>0.0059518</td>\n",
              "    </tr>\n",
              "    <tr>\n",
              "      <th>3</th>\n",
              "      <td>KNNWithZScore</td>\n",
              "      <td>0.9430571</td>\n",
              "      <td>0.6326998</td>\n",
              "      <td>0.0128667</td>\n",
              "      <td>0.0086411</td>\n",
              "    </tr>\n",
              "    <tr>\n",
              "      <th>4</th>\n",
              "      <td>KNNWithMeans User-User</td>\n",
              "      <td>0.9718359</td>\n",
              "      <td>0.6619875</td>\n",
              "      <td>0.0169119</td>\n",
              "      <td>0.0128836</td>\n",
              "    </tr>\n",
              "    <tr>\n",
              "      <th>5</th>\n",
              "      <td>KNNWithMeans Item-Item</td>\n",
              "      <td>0.9532165</td>\n",
              "      <td>0.6401968</td>\n",
              "      <td>0.0086063</td>\n",
              "      <td>0.0064747</td>\n",
              "    </tr>\n",
              "  </tbody>\n",
              "</table>\n",
              "</div>"
            ],
            "text/plain": [
              "                    Model      RMSE       MAE  Fit Time  Test Time\n",
              "0                     SVD 0.8597010 0.6342204 0.0845932  0.0039163\n",
              "1                   SVD++ 0.8650942 0.6225308 0.3252538  0.0106252\n",
              "2                KNNBasic 1.0292521 0.6969513 0.0054020  0.0059518\n",
              "3           KNNWithZScore 0.9430571 0.6326998 0.0128667  0.0086411\n",
              "4  KNNWithMeans User-User 0.9718359 0.6619875 0.0169119  0.0128836\n",
              "5  KNNWithMeans Item-Item 0.9532165 0.6401968 0.0086063  0.0064747"
            ]
          },
          "metadata": {},
          "execution_count": 47
        }
      ]
    },
    {
      "cell_type": "markdown",
      "metadata": {
        "id": "6te0or5tVYiL"
      },
      "source": [
        "**MODEL EVALUATION:**\n",
        "\n",
        "From above algorithm comparisons plots we can infer the followings:\n",
        "\n",
        "1.   RMSE : we can see that SVD++ is giving the best RMSE values\n",
        "2.   MAE : Here SVD++ and KNNWithMean-User-User both are giving the best MAE value\n",
        "3.   SVD++ is showing the best RMSE in Matrix Factorization Based Algorithms.\n",
        "4.   KNNWithMeans is giving the best RMSE in Collaborative Filtering Algorithms.\n",
        "5.  If compare SVD and SVD++ then can notice that RMSE and MAE value of SVD is slightly differs from the SVD++ but the Fit Time and Test Time taken by SVD is significant less(12 times) than SVD++. So, we will proceed with SVD got get top-k recommendations\n"
      ]
    },
    {
      "cell_type": "markdown",
      "metadata": {
        "id": "2N_7JdxZYuST"
      },
      "source": [
        "**MODEL DEPLOYMENT**"
      ]
    },
    {
      "cell_type": "code",
      "metadata": {
        "id": "_bTzP2IsLx28",
        "colab": {
          "base_uri": "https://localhost:8080/"
        },
        "outputId": "d5422a2b-bfa5-4809-90a8-906fed6d1ad8"
      },
      "source": [
        "top_n = defaultdict(list)\n",
        "def get_top_n(predictions, n=k):\n",
        "    # First map the predictions to each user.\n",
        "    top_n = defaultdict(list)\n",
        "    for uid, iid, true_r, est, _ in predictions:\n",
        "        top_n[uid].append((iid, est))\n",
        "\n",
        "    # Then sort the predictions for each user and retrieve the k highest ones.\n",
        "    for uid, user_ratings in top_n.items():\n",
        "        user_ratings.sort(key=lambda x: x[1], reverse=True)\n",
        "        top_n[uid] = user_ratings[:n]\n",
        "\n",
        "    return top_n\n",
        "\n",
        "top_n = get_top_n(predictions_svd, n=k)\n",
        "top_n"
      ],
      "execution_count": 48,
      "outputs": [
        {
          "output_type": "execute_result",
          "data": {
            "text/plain": [
              "defaultdict(list,\n",
              "            {'A100WO06OQR8BQ': [('B000VX6XL6', 4.570168944342328),\n",
              "              ('B00006RVPW', 4.558663516867553)],\n",
              "             'A10Y058K7B96C6': [('B001GS8FZ2', 3.974225199458784),\n",
              "              ('B001CHHVCU', 3.7885438538832577)],\n",
              "             'A11KZ906QD08C5': [('B002WE6D44', 4.818560438132099),\n",
              "              ('B00006I53S', 4.471141944424623),\n",
              "              ('B000L47AHG', 4.454386583474737)],\n",
              "             'A12DQZKRKTNF5E': [('B002WE6D44', 4.796403336274937),\n",
              "              ('B001E1Y5O6', 4.544890483237521),\n",
              "              ('B0002L5R78', 4.410575962897876)],\n",
              "             'A141OPVE376YFI': [('B002WE6D44', 4.67149018013391),\n",
              "              ('B000U5TUWE', 4.3672715971555105),\n",
              "              ('B000TG4BA0', 4.0975449230271535)],\n",
              "             'A1435P5AMCPB3X': [('B000M17AVO', 4.5181673277076015)],\n",
              "             'A149RNR5RH19YY': [('B001F51G16', 4.540244247022802),\n",
              "              ('B00007KDVI', 4.038703764519492)],\n",
              "             'A14JBDSWKPKTZA': [('B001TH7GVE', 4.670327647660726),\n",
              "              ('B00007KDVI', 3.9969817052433236)],\n",
              "             'A15QYHQH80W30L': [('B000TKHBDK', 4.472641961742857),\n",
              "              ('B000HJPK2C', 4.4048033122678705)],\n",
              "             'A17BUUBOU0598B': [('B000JMJWV2', 4.247188585071815),\n",
              "              ('B000TKHBDK', 4.131674846337962),\n",
              "              ('B002SQK2F2', 2.8783863930693854)],\n",
              "             'A17HMM1M7T9PJ1': [('B00007GQLU', 4.552290003731694),\n",
              "              ('B0010Z28XG', 4.549698331439783),\n",
              "              ('B00109Y2DQ', 4.527174678515638)],\n",
              "             'A18HE80910BTZI': [('B00077AA5Q', 4.439382882347723),\n",
              "              ('B0025VKUQQ', 4.160820240024983),\n",
              "              ('B002SQK2F2', 2.979143807316534)],\n",
              "             'A18S2VGUH9SCV5': [('B001T9NUJE', 4.508848368693649),\n",
              "              ('B0002L5R78', 4.477513858900154),\n",
              "              ('B002C7481G', 4.4518678581722675),\n",
              "              ('B000V1MLBE', 4.3219867188797085)],\n",
              "             'A19RGDJPNZ7NZ': [('B001LK8P14', 4.310903018796798)],\n",
              "             'A19W47CXJJP1MI': [('B002VPE1Z2', 4.349335932905253)],\n",
              "             'A19X4BF861LQST': [('B000BQ7GW8', 4.541804128310089),\n",
              "              ('B00109Y2DQ', 4.277146379085046),\n",
              "              ('B000MX48VM', 4.27132439061076)],\n",
              "             'A19XMHRB3G4DIR': [('B000N99BBC', 4.911915275220631),\n",
              "              ('B002SZEOLG', 4.667621821989463)],\n",
              "             'A1BT6TL7UCIC5Y': [('B002R5AM7C', 4.318511152138528),\n",
              "              ('B001GS8FZ2', 4.21875106904569)],\n",
              "             'A1CPRP3VFJRS1R': [('B002HWRJY4', 4.234557432915063),\n",
              "              ('B0002L5R78', 3.995536911980996)],\n",
              "             'A1E55W6ES0FY17': [('B00009XVCZ', 4.486531835887992),\n",
              "              ('B000V1MLBE', 4.2501805347743264)],\n",
              "             'A1EH2S92FHWZRP': [('B000Q8UAWY', 4.631034397171276),\n",
              "              ('B000M2GYF6', 4.55941395696739),\n",
              "              ('B002IC0YL8', 4.37083865104974)],\n",
              "             'A1EKSETIBS9ETQ': [('B000M17AVO', 4.682596784486512)],\n",
              "             'A1EXGL6L0QQ0M5': [('B002HWRJBM', 4.499721823991424),\n",
              "              ('B000JE7GPY', 4.440317427567084),\n",
              "              ('B002QEBMAK', 4.336575313956671),\n",
              "              ('B00004ZCJE', 4.212765366874124)],\n",
              "             'A1F1A0QQP2XVH5': [('B00017LSPI', 4.62909863468562),\n",
              "              ('B0013FRNKG', 4.350911217268726)],\n",
              "             'A1F9Z42CFF9IAY': [('B000AZ57M6', 4.564592229985226),\n",
              "              ('B001UI2FPE', 4.537625081568236),\n",
              "              ('B000M17AVO', 4.305098485024214),\n",
              "              ('B00009R6TA', 4.178477521635553)],\n",
              "             'A1H98YV5K5BUX0': [('B0000BZL1P', 4.873011933651302),\n",
              "              ('B000TXZIDM', 4.362468137971182)],\n",
              "             'A1IU7S4HCK1XK0': [('B000N99BBC', 4.873763542689649)],\n",
              "             'A1J75JJ0Q2OEJN': [('B002SQK2F2', 3.3056196535262354)],\n",
              "             'A1JUBRIZMO0RJV': [('B001GS8FZ2', 3.983806886940723)],\n",
              "             'A1KKE6VX8VPWZK': [('B001FWBUUG', 4.602354084474132),\n",
              "              ('B002R5AM7C', 4.301655091024447),\n",
              "              ('B00275XTSQ', 4.2604096183323765)],\n",
              "             'A1KXJCXS6HFRQZ': [('B00077AA5Q', 4.635827709063617),\n",
              "              ('B0025VKUQQ', 4.287369661097133),\n",
              "              ('B002HWRJBM', 4.133349284477536),\n",
              "              ('B002KC55OM', 4.032898742484777),\n",
              "              ('B001DULYZG', 3.9615228020817996)],\n",
              "             'A1MFVAHTT2BHM0': [('B000S5Q9CA', 4.706249585144605),\n",
              "              ('B00005T3G0', 4.463575562354676),\n",
              "              ('B001F51G16', 4.457669162967899),\n",
              "              ('B002QEBMAK', 4.277889879657683)],\n",
              "             'A1MJMYLRTZ76ZX': [('B000BKJZ9Q', 4.561004668976586),\n",
              "              ('B002C7481G', 4.48424674747715),\n",
              "              ('B00004ZCJE', 4.439056457570405)],\n",
              "             'A1NNMOD9H36Q8E': [('B000HGIWN4', 4.230786038036778)],\n",
              "             'A1ODOGXEYECQQ8': [('B000VX6XL6', 4.695188515437443),\n",
              "              ('B001TUYTZM', 4.6385044708692655),\n",
              "              ('B0007QKMQY', 4.610545941981743),\n",
              "              ('B0011NVMO8', 4.5082468023786735),\n",
              "              ('B00109Y2DQ', 4.4235815929159275)],\n",
              "             'A1P3DDFL423B3C': [('B000A6PPOK', 4.357036923352834)],\n",
              "             'A1PL7QILVQV3IF': [('B001TK3ACA', 4.328167765319312),\n",
              "              ('B000JE7GPY', 4.319696168544768)],\n",
              "             'A1PV5T5S4D5NPI': [('B0019EHU8G', 4.946178029443095)],\n",
              "             'A1QNYLBG73QRNF': [('B00009XVCZ', 4.573668405866636),\n",
              "              ('B00006I53S', 4.534227460079006),\n",
              "              ('B001G5ZTLS', 4.35045923345065),\n",
              "              ('B001CHHVCU', 4.010981266493991)],\n",
              "             'A1QQA7Y92L4F9R': [('B000Q8UAWY', 4.658439308138488),\n",
              "              ('B0000BVYTV', 4.494083774710695)],\n",
              "             'A1QVFHPY8418HC': [('B000V1MLBE', 4.295977732236317)],\n",
              "             'A1RPTVW5VEOSI': [('B002J9HBIO', 4.41424216500868)],\n",
              "             'A1SB9BNNGKNX2Z': [('B00017LSPI', 4.803673826574595),\n",
              "              ('B002R5AM7C', 4.39130457860497)],\n",
              "             'A1SHHQSPOWR00F': [('B00007EDZG', 3.9850521268316847)],\n",
              "             'A1T1YSCDW0PD25': [('B002J9HBIO', 4.540731520815258),\n",
              "              ('B001F51G16', 4.524936120736551),\n",
              "              ('B000U5TUWE', 4.366354929008715)],\n",
              "             'A1TDR7Y90SVCHL': [('B002WE6D44', 4.7364668748771575)],\n",
              "             'A1TQZUSOU22E9M': [('B00005LEN4', 4.84311468895947),\n",
              "              ('B002UT42UI', 4.382559017920883),\n",
              "              ('B001DULYZG', 4.204517099820032)],\n",
              "             'A1UEL5C1N6E5SE': [('B000JMJWV2', 4.595324097963024)],\n",
              "             'A1V4VVBQBFXRHC': [('B00316263Y', 4.657543395112749),\n",
              "              ('B000KO0GY6', 4.421104047041508),\n",
              "              ('B00275XTSQ', 4.217683725496017)],\n",
              "             'A1VHCO8RQFIGQJ': [('B002WE6D44', 4.686471392307783),\n",
              "              ('B0019EHU8G', 4.648636566602216),\n",
              "              ('B000JMJWV2', 4.633013045130618),\n",
              "              ('B00007GQLU', 4.5694455093735575),\n",
              "              ('B002J9HBIO', 4.275559645878345)],\n",
              "             'A1VLVWTLV3LVHR': [('B002R5AM7C', 3.9935440357747978),\n",
              "              ('B001CHHVCU', 3.5073411054370474)],\n",
              "             'A1VQHH85U7PX0': [('B0025VKUQQ', 4.6465185999468614),\n",
              "              ('B00109Y2DQ', 4.626863082537876),\n",
              "              ('B001TH7GSW', 4.610884079237694),\n",
              "              ('B000L47AHG', 4.476570374420921),\n",
              "              ('B00004ZCJE', 4.469709615262489)],\n",
              "             'A1VTCSCH8FFC76': [('B00066IJPQ', 3.865640760591362)],\n",
              "             'A1VVRA3P6G1TWH': [('B0007QKMQY', 4.514374144389017),\n",
              "              ('B00009XVCZ', 4.480108352502656),\n",
              "              ('B00004ZCJE', 4.429713430609425)],\n",
              "             'A1X2LENOF84LCQ': [('B000Q8UAWY', 4.291673273005942),\n",
              "              ('B002HWRJY4', 4.243278334433417),\n",
              "              ('B002O3W2OI', 3.3138624469944173),\n",
              "              ('B002SQK2F2', 2.987807972746231)],\n",
              "             'A1Z16630QMH8Q6': [('B000HPV3RW', 4.743294388736631)],\n",
              "             'A1ZM846Y7AUYD': [('B000NP3DJW', 4.556434746637691),\n",
              "              ('B002SQK2F2', 3.2510012866668965)],\n",
              "             'A203OCQQ12MAVT': [('B002R5AM7C', 4.438791667864639),\n",
              "              ('B002KC55OM', 4.29995357404741),\n",
              "              ('B0028Y4CWI', 3.8751239145152896),\n",
              "              ('B002SQK2F2', 3.438830607953586)],\n",
              "             'A20DZX38KRBIT8': [('B00007KDVI', 3.5894289988806203)],\n",
              "             'A212MDP6K4VJS5': [('B00005LEN4', 4.816331161951988),\n",
              "              ('B002SZEOLG', 4.627779373911699),\n",
              "              ('B000HGIWN4', 4.534793971968868)],\n",
              "             'A21T0D2F7SKG5S': [('B00006JN3G', 4.275829768797725),\n",
              "              ('B002SZEOLG', 4.1226673953848705)],\n",
              "             'A225G2TFM76GYX': [('B001TANZ0W', 4.926764431959365),\n",
              "              ('B001FA1NK0', 4.569329010804166),\n",
              "              ('B001F7AHOG', 4.47207271852533),\n",
              "              ('B002R5AM7C', 4.36793822627954),\n",
              "              ('B002SQK2F2', 3.4317621037394193)],\n",
              "             'A22CW0ZHY3NJH8': [('B000JMJWV2', 4.627704854896623)],\n",
              "             'A23GFTVIETX7DS': [('B002C7481G', 4.520484263040311),\n",
              "              ('B002UT42UI', 4.518836263589574),\n",
              "              ('B0002CPBWI', 4.376352617026486),\n",
              "              ('B001CHHVCU', 3.9988891938774653)],\n",
              "             'A23NSKTMSPPBTR': [('B000N99BBC', 4.454086794977049),\n",
              "              ('B0034CL2ZI', 4.230433334845181),\n",
              "              ('B001S4OTS6', 4.160661642966787)],\n",
              "             'A250AXLRBVYKB4': [('B002V88HFE', 4.83758804601949),\n",
              "              ('B0019EHU8G', 4.835740272130974),\n",
              "              ('B00005LEN4', 4.831984521196334),\n",
              "              ('B000Q8UAWY', 4.726667105651375),\n",
              "              ('B001TH7GSW', 4.536809905396953)],\n",
              "             'A259MPG6SOL02P': [('B002WE4HE2', 4.233930808778006)],\n",
              "             'A25C2M3QF9G7OQ': [('B0011NVMO8', 4.739267756162227),\n",
              "              ('B00006I53S', 4.5260190413768004)],\n",
              "             'A25FL6VLD7S23S': [('B001F51G16', 4.622307236281212)],\n",
              "             'A27B1U3OWCU14J': [('B000FBK3QK', 4.536980447953879),\n",
              "              ('B002BH3I9U', 4.088439642368319)],\n",
              "             'A28UMA3GW9L124': [('B001E1Y5O6', 4.3443961486068785),\n",
              "              ('B0028Y4CWI', 3.5688733386721436),\n",
              "              ('B002O3W2OI', 3.554106829704495)],\n",
              "             'A2ARDVMUGDFED6': [('B000089GN3', 4.657096108621747),\n",
              "              ('B002C7481G', 4.575627583555257),\n",
              "              ('B00009R6TA', 4.574830672250017),\n",
              "              ('B001FWBUUG', 4.531286359577833),\n",
              "              ('B000M17AVO', 4.51129918418212)],\n",
              "             'A2AY4YUOX2N1BQ': [('B000VX6XL6', 4.652462308635598),\n",
              "              ('B00316263Y', 4.573645835042446),\n",
              "              ('B00007GQLU', 4.571540967540044),\n",
              "              ('B000F7QRTG', 4.57063526841783),\n",
              "              ('B0002L5R78', 4.391029285008019)],\n",
              "             'A2B7BUH8834Y6M': [('B0025VKUQQ', 4.2741443555906535),\n",
              "              ('B00004ZCJE', 4.040391879460771)],\n",
              "             'A2BCDZO1XQLDH': [('B002R5AM7C', 4.2390614278124445)],\n",
              "             'A2BLFCOPSMBOZ9': [('B001TH7GVE', 4.526432157934401),\n",
              "              ('B002IC0YL8', 4.416366418511114),\n",
              "              ('B001T9NUJE', 4.3565712538485455),\n",
              "              ('B002VPE1Z2', 4.333818598954704),\n",
              "              ('B0002CPBWI', 4.181730747475147)],\n",
              "             'A2BMZRO0H7TFCS': [('B000HPV3RW', 4.6208594626133594),\n",
              "              ('B000A6PPOK', 4.322274044080831)],\n",
              "             'A2CIQEY05SPHTZ': [('B001LK8P14', 4.371194253831571)],\n",
              "             'A2F7CSE6KT7NI4': [('B002SZEOLG', 4.659826169266301),\n",
              "              ('B00066IJPQ', 4.016908706590413)],\n",
              "             'A2FXBWR4T4OFQ': [('B001E1Y5O6', 4.811945899487299),\n",
              "              ('B00004ZCJE', 4.5150037345903735)],\n",
              "             'A2HMF8ZR67BNZS': [('B00006JN3G', 4.804296630230066),\n",
              "              ('B002TMRZOQ', 4.7302388749588715),\n",
              "              ('B000LRMS66', 4.685809612569289),\n",
              "              ('B000QUUFRW', 4.6125980473187145)],\n",
              "             'A2J7FHZFKOKGZ6': [('B001F51G16', 4.598532071775796)],\n",
              "             'A2JP9E1H0SF392': [('B0034CL2ZI', 4.779045082426624)],\n",
              "             'A2LCE1D0TW2XY0': [('B000AZ57M6', 4.577042518655148)],\n",
              "             'A2LXX47A0KMJVX': [('B002WE6D44', 4.7367958422024286),\n",
              "              ('B000VX6XL6', 4.607251433259613),\n",
              "              ('B001FA1NK0', 3.9759693098201914)],\n",
              "             'A2NB2E5DXE319Z': [('B000N99BBC', 4.597870043653916),\n",
              "              ('B002R5AM7C', 4.115324958995256)],\n",
              "             'A2NOW4U7W3F7RI': [('B001XURP7W', 4.581998053254399)],\n",
              "             'A2NSMJVQY0RV9S': [('B000S5Q9CA', 4.700398750806358),\n",
              "              ('B00017LSPI', 4.676517010379521),\n",
              "              ('B002HWRJBM', 4.653709657586436),\n",
              "              ('B000QUUFRW', 4.60976402113701)],\n",
              "             'A2PSD2R9A1CXG7': [('B000AZ57M6', 4.628234035657498),\n",
              "              ('B00006I53S', 4.135882177041331)],\n",
              "             'A2QI2NTDTMK2FV': [('B0019EHU8G', 4.629455375949166),\n",
              "              ('B001EYV9TM', 4.242539865737028)],\n",
              "             'A2RU4U1JZ3DMP5': [('B00017LSPI', 4.664438887841449),\n",
              "              ('B00077AA5Q', 4.5304881782413275)],\n",
              "             'A2SATO5BNKWY3Y': [('B002QEBMAK', 4.259883635594167)],\n",
              "             'A2T689YVOAYGGD': [('B00009XVCZ', 4.4341499625762095)],\n",
              "             'A2UOHALGF2X77Q': [('B002WE6D44', 4.838085436822345),\n",
              "              ('B000VX6XL6', 4.830523738399576),\n",
              "              ('B002V88HFE', 4.781329838687966),\n",
              "              ('B001S4OTS6', 4.678895379677715)],\n",
              "             'A2UQK3DAZ8NO2T': [('B000HGIWN4', 4.455346728201982)],\n",
              "             'A2UTZ4O5E2W4DK': [('B0010Z28XG', 4.618902766026349)],\n",
              "             'A2V7EO331SFUF6': [('B000S5Q9CA', 4.695035798746476),\n",
              "              ('B0002CPBWI', 4.370862933955116)],\n",
              "             'A2W2ODLRQ2L8LE': [('B000Q8UAWY', 4.555680900842867)],\n",
              "             'A2W9I628I6SE1U': [('B00119T6NQ', 4.430572066808607),\n",
              "              ('B000V1MLBE', 4.128020728689933),\n",
              "              ('B002TLTGM6', 3.924209450613422)],\n",
              "             'A2WB7LZ595CR50': [('B0011NVMO8', 4.779688604308232),\n",
              "              ('B00109Y2DQ', 4.707976535930499),\n",
              "              ('B002R5AM7C', 4.337394848589662)],\n",
              "             'A2WLNSZ9U0T1S3': [('B000VX6XL6', 4.432133149220938),\n",
              "              ('B000F7QRTG', 4.391085989077565),\n",
              "              ('B0015DYMVO', 4.170190608075777),\n",
              "              ('B0011ZK6PC', 4.155187700608869),\n",
              "              ('B001DULYZG', 4.054958313437849)],\n",
              "             'A2WXURU33RBGQS': [('B001D7REIK', 4.318450932985325),\n",
              "              ('B001XURP7W', 4.317795831923946),\n",
              "              ('B0012GK3MQ', 4.261800231409116)],\n",
              "             'A2XA8CW5DF4MNZ': [('B0025VKUQ6', 4.266445408494829)],\n",
              "             'A2XRMQA6PJ5ZJ8': [('B002WE4HE2', 4.8443704882511955),\n",
              "              ('B0019EHU8G', 4.762962426226102),\n",
              "              ('B000HGIWN4', 4.629194198955538),\n",
              "              ('B000LRMS66', 4.591282480757624),\n",
              "              ('B0013FRNKG', 4.5799537955424)],\n",
              "             'A2XU6J41ZQOJ2V': [('B00109Y2DQ', 4.578854762258093)],\n",
              "             'A2Y3WWPUKIJ59I': [('B0034CL2ZI', 4.437620148151834)],\n",
              "             'A2Y739CRM15WDL': [('B001HSOFI2', 4.50792007988391),\n",
              "              ('B002BH3I9U', 4.1701740495449835)],\n",
              "             'A2YHXGPCTENZY3': [('B002UT42UI', 4.085789824868395)],\n",
              "             'A31BD4RXCON7QO': [('B000VX6XL6', 4.545435140223726),\n",
              "              ('B001KELVS0', 4.506430315644365)],\n",
              "             'A31ICLWQ9CSHRS': [('B000HJPK2C', 4.474128565643302),\n",
              "              ('B00007GQLU', 4.407941685922725),\n",
              "              ('B00007E7JU', 4.317438946916097),\n",
              "              ('B000FBK3QK', 4.110555182264791),\n",
              "              ('B002SGATH8', 4.071156110436706)],\n",
              "             'A31N0XY2UTB25C': [('B0034CL2ZI', 4.8204271433828865),\n",
              "              ('B002WE4HE2', 4.757581967176584),\n",
              "              ('B001E1Y5O6', 4.731303537665142)],\n",
              "             'A32O5FZH994CNY': [('B001FA1NK0', 4.394385609991724),\n",
              "              ('B001CHHVCU', 3.9592731662676366)],\n",
              "             'A33HIV8RXRDM88': [('B002R5AM7C', 4.22380198541921),\n",
              "              ('B002SQK2F2', 3.4662186707761466)],\n",
              "             'A33YZNZIRA3H97': [('B000MX48VM', 4.595220854560767),\n",
              "              ('B002UT42UI', 4.368455866440374)],\n",
              "             'A34C9AFFZOI45T': [('B000HPV3RW', 4.526096972087238)],\n",
              "             'A34LQ791ACZ0JC': [('B000N99BBC', 4.739634419467819)],\n",
              "             'A353U0L2HAMSHV': [('B00316263Y', 4.492171076370602),\n",
              "              ('B0002L5R78', 4.385259579332788)],\n",
              "             'A35HNL2VEDK9Z1': [('B000S5Q9CA', 4.373897895791127),\n",
              "              ('B0007MXZB2', 4.007568130566039)],\n",
              "             'A36A1ZYZH8568P': [('B0011ZK6PC', 4.4286056504060465),\n",
              "              ('B002V88HFE', 4.380294474131759),\n",
              "              ('B00077AA5Q', 4.266261243055075)],\n",
              "             'A36K2N527TXXJN': [('B000MX48VM', 4.7086700068839935),\n",
              "              ('B0002L5R78', 4.592561807002899)],\n",
              "             'A370XYLIZCSK1Y': [('B000LRMS66', 4.499430266636245),\n",
              "              ('B0002L5R78', 4.324198559505623),\n",
              "              ('B002TLTGM6', 4.2105293327755)],\n",
              "             'A376OJHLE6SU9Q': [('B001TH7GSW', 4.568408503888651),\n",
              "              ('B0002L5R78', 4.498755395829744)],\n",
              "             'A38KK0SZYEH5UD': [('B00169N0BK', 4.602728020219721),\n",
              "              ('B000FBK3QK', 4.47920395585173)],\n",
              "             'A38RMU1Y5TDP9': [('B001E1Y5O6', 4.689596773530646),\n",
              "              ('B000TXZIDM', 4.430379877648137)],\n",
              "             'A3A4ZAIBQWKOZS': [('B0000BZL1P', 4.81014028548581),\n",
              "              ('B002BH3Z8E', 4.657531875077887),\n",
              "              ('B0015DYMVO', 4.5641041295494915)],\n",
              "             'A3AYSYSLHU26U9': [('B001PIBE8I', 4.5934899028611795)],\n",
              "             'A3BACUOZV1M0WM': [('B000VX6XL6', 4.907362349981197)],\n",
              "             'A3CG93783LP0FO': [('B002WE4HE2', 4.776937551680774),\n",
              "              ('B002V88HFE', 4.7214412267588655),\n",
              "              ('B002SZEOLG', 4.606650566291605),\n",
              "              ('B001E1Y5O6', 4.488654526443806)],\n",
              "             'A3CW0ZLUO5X2B1': [('B000LRMS66', 4.463227754629159),\n",
              "              ('B001TH7GSW', 4.396927688105337)],\n",
              "             'A3DWO5RJDA430F': [('B000VX6XL6', 4.652462308635598),\n",
              "              ('B000L47AHG', 4.414258901012766)],\n",
              "             'A3EXWV8FNSSFL6': [('B00109Y2DQ', 4.63663675654666)],\n",
              "             'A3FEGTOLCWXSV4': [('B00169N0BK', 4.104542824350911)],\n",
              "             'A3FPSY1M6G7XIB': [('B00007E7JU', 4.4435819382564),\n",
              "              ('B00009R6TA', 4.365312690709183),\n",
              "              ('B00004ZCJE', 4.258746737552041)],\n",
              "             'A3IY316DRNF5F2': [('B000089GN3', 4.459656210771425),\n",
              "              ('B002TLTGM6', 4.024434054901882)],\n",
              "             'A3J8A5L5AF5TX9': [('B001TH7GVE', 4.557047170393737),\n",
              "              ('B000BQ7GW8', 4.510493632498733),\n",
              "              ('B001TH7GSW', 4.185353867680317)],\n",
              "             'A3L1VJMHFWONCB': [('B00005T3G0', 4.597112368266947),\n",
              "              ('B001TH7GVE', 4.59591011404563),\n",
              "              ('B002V88HFE', 4.531724414185155)],\n",
              "             'A3L6L5O89JTX2T': [('B002WE6D44', 4.7525582380430365),\n",
              "              ('B000MX48VM', 4.540951596642072),\n",
              "              ('B000QUUFRW', 4.4106065833083195),\n",
              "              ('B0025VKUQ6', 4.184951331428289)],\n",
              "             'A3L9E0YI7C5G0W': [('B0015DYMVO', 4.184443520642759)],\n",
              "             'A3LGT6UZL99IW1': [('B002SZEOLG', 4.513249183133245)],\n",
              "             'A3LWC833HQIG7J': [('B0019EHU8G', 4.565308499193846),\n",
              "              ('B002J9HBIO', 4.231333724132162),\n",
              "              ('B002SQK2F2', 3.068718471944942)],\n",
              "             'A3N4VTNFPMTHEF': [('B002HWRJY4', 4.456427910773475)],\n",
              "             'A3NEAETOSXDBOM': [('B001FWBUUG', 4.637277710698662)],\n",
              "             'A3NKRH3TJ4DPVI': [('B0002CPBWI', 4.466873047698005)],\n",
              "             'A3NOBH42C7UI5M': [('B000LRMS66', 4.599121950302071),\n",
              "              ('B001LK8P14', 4.542005578960979),\n",
              "              ('B0010Z28XG', 4.3103290477290175),\n",
              "              ('B002UT42UI', 4.1898507226839445)],\n",
              "             'A3OA4DV4L81N1D': [('B002V88HFE', 4.815984200529258)],\n",
              "             'A3OXHLG6DIBRW8': [('B002TMRZOQ', 4.968907341727115),\n",
              "              ('B002ZCXJZE', 4.720250695837073),\n",
              "              ('B00169N0BK', 4.666944694769596),\n",
              "              ('B00004ZCJE', 4.582308675212554)],\n",
              "             'A3P1508PZ0UADD': [('B001XURP7W', 4.415995740245921)],\n",
              "             'A3PD8JD9L4WEII': [('B002WE6D44', 4.7131031987621945),\n",
              "              ('B000HDJT4S', 4.510020856226791),\n",
              "              ('B0015DYMVO', 4.364481795710085)],\n",
              "             'A3Q4TYJVAM4IRM': [('B0010Z28XG', 4.514518835213043),\n",
              "              ('B0015DYMVO', 4.340770260077321)],\n",
              "             'A3QMJMTLJC34QC': [('B000BQ7GW8', 4.756513962556521),\n",
              "              ('B002C7481G', 4.706646054555315),\n",
              "              ('B002TMRZOQ', 4.648116668533616),\n",
              "              ('B000TKHBDK', 4.521044608765759)],\n",
              "             'A3QNQQKJTL76H0': [('B002TLTGM6', 4.131516346513543)],\n",
              "             'A3QNX5KWHDV0GD': [('B001F51G16', 4.384902089679424),\n",
              "              ('B00007EDZG', 4.256798272645845)],\n",
              "             'A3QQGPI3CTV9SX': [('B0000BZL1P', 4.881514848570395),\n",
              "              ('B000HJPK2C', 4.675233967937771),\n",
              "              ('B00006JN3G', 4.628370787787305),\n",
              "              ('B000Q8UAWY', 4.524207296968097)],\n",
              "             'A3R4794K2RVU1S': [('B0034CL2ZI', 4.924311388823727),\n",
              "              ('B000TKHBDK', 4.708485510611372)],\n",
              "             'A3REK3OFONWB1Q': [('B001KELVS0', 4.7272087948665344)],\n",
              "             'A3S3R88HA0HZG3': [('B00316263Y', 4.797187894834524),\n",
              "              ('B001GS8FZ2', 4.122798160571866),\n",
              "              ('B001CHHVCU', 4.026443128154338)],\n",
              "             'A3T7V207KRDE2O': [('B00005LEN4', 4.774473695893232),\n",
              "              ('B000TKHBDK', 4.6146764162403935)],\n",
              "             'A3TBMAWIIHKHFN': [('B002WE6D44', 4.625730567026782),\n",
              "              ('B001E1Y5O6', 4.477498084129456),\n",
              "              ('B001FWBUUG', 4.296878758173198),\n",
              "              ('B00004ZCJE', 4.287212162075944)],\n",
              "             'A3TCMJ6GKZJFBQ': [('B0007QKMQY', 4.526100415103175),\n",
              "              ('B000M17AVO', 4.462784654520041)],\n",
              "             'A3U41ZL33SS92P': [('B000A6PPOK', 4.459169642288084),\n",
              "              ('B002IC0YL8', 4.421562717889007),\n",
              "              ('B00093IIRA', 4.288398868385358),\n",
              "              ('B002BH3I9U', 3.924048664935605)],\n",
              "             'A3V7D0LH8L7BG0': [('B0025VKUQ6', 4.184442565744327)],\n",
              "             'A3W4D8XOGLWUN5': [('B000Q8UAWY', 4.514147259507982)],\n",
              "             'A4WEZJOIZIV4U': [('B001TH7GUU', 4.7828764498054746),\n",
              "              ('B000BQ7GW8', 4.685245580997376),\n",
              "              ('B001S4OTS6', 4.563379347709102),\n",
              "              ('B00007E7JU', 4.554983270988526),\n",
              "              ('B001XURP7W', 4.469814785779564)],\n",
              "             'A5JLAU2ARJ0BO': [('B00004SB92', 4.400802315811338),\n",
              "              ('B00007EDZG', 4.283422885209941),\n",
              "              ('B0028Y4CWI', 3.8121754760384)],\n",
              "             'A5KMMY627T3W': [('B0007QKMQY', 4.523668368502745)],\n",
              "             'A680RUE1FDO8B': [('B00119T6NQ', 4.501415304039641),\n",
              "              ('B0019EHU8G', 4.472460840458574),\n",
              "              ('B000EVSLRO', 4.4568253248475616),\n",
              "              ('B001TOD7ME', 4.408310790281914),\n",
              "              ('B0012GK3MQ', 4.348887380329448)],\n",
              "             'A6FIAB28IS79': [('B001D7REIK', 4.545942918866826),\n",
              "              ('B000MX48VM', 4.543014104586952),\n",
              "              ('B002C7481G', 4.536359468755834),\n",
              "              ('B000LRMS66', 4.412099033795968),\n",
              "              ('B001FA1NK0', 4.32554352211736)],\n",
              "             'A6VPK7X53QNAQ': [('B0013FRNKG', 4.595188479745507),\n",
              "              ('B002J9HBIO', 4.523863995637793)],\n",
              "             'A6VXZ1EEPRTLV': [('B002V88HFE', 4.7111667112645605),\n",
              "              ('B001F7AHOG', 4.372434923706527)],\n",
              "             'A7QMQBGJ2TCQG': [('B00007EDZG', 4.055342045701148)],\n",
              "             'A7Y6AVS576M03': [('B000N99BBC', 4.739634419467819),\n",
              "              ('B000BQ7GW8', 4.640394142119149),\n",
              "              ('B000089GN3', 4.600345477440228)],\n",
              "             'A87N6UTYA6NOB': [('B0007MXZB2', 4.173054337066837)],\n",
              "             'AAQ9NJ480N9W5': [('B002V88HFE', 4.587304566384253),\n",
              "              ('B000MX48VM', 4.558758323729545),\n",
              "              ('B002ZCXJZE', 4.5321624889854695),\n",
              "              ('B000QUUFRW', 4.382857207342591)],\n",
              "             'AAR7CEPXYJA0T': [('B002ZCXJZE', 4.318474629899239),\n",
              "              ('B002KC55OM', 3.829833931003829),\n",
              "              ('B00066IJPQ', 3.411088309002227)],\n",
              "             'AB094YABX21WQ': [('B000JMJWV2', 4.710700848393326)],\n",
              "             'ABMF4UC4Z00NT': [('B0015DYMVO', 4.569679377498932)],\n",
              "             'ABQWMANK4AR63': [('B002YU83YO', 4.746682103134614),\n",
              "              ('B002ZCXJZE', 4.611372644845182),\n",
              "              ('B002C7481G', 4.526405691125219),\n",
              "              ('B000JE7GPY', 4.332784079636875)],\n",
              "             'ABVYGB2TKBO8F': [('B002HWRJY4', 4.729532398783657),\n",
              "              ('B000M17AVO', 4.487785987124041),\n",
              "              ('B000L47AHG', 4.388611768236167)],\n",
              "             'AC6Z7DP1Z5GHD': [('B000F7QRTG', 4.703319094970645)],\n",
              "             'ADLVFFE4VBT8': [('B000HPV3RW', 4.668039631887821),\n",
              "              ('B001TK3ACA', 4.463316688813906),\n",
              "              ('B002ZCXJZE', 4.440947747872739),\n",
              "              ('B0002L5R78', 4.440180743038626),\n",
              "              ('B000TXZIDM', 4.326822885924451)],\n",
              "             'AEJAGHLC675A7': [('B000N99BBC', 4.940145821015416),\n",
              "              ('B002SZEOLG', 4.683412674117855)],\n",
              "             'AEWYUPCNDV7HY': [('B002IC0YL8', 4.608007390706155),\n",
              "              ('B00006B7DA', 4.306924698525481)],\n",
              "             'AFNG8O2DXRCUV': [('B001TH7GUU', 4.868822881925226),\n",
              "              ('B000JMJWV2', 4.708874561897224)],\n",
              "             'AFR9GYKAHM37U': [('B000VX6XL6', 4.758266427373615),\n",
              "              ('B0000BVYTV', 4.494187203986457)],\n",
              "             'AGHZXQL9F94T9': [('B0007QKMQY', 4.560626902280613)],\n",
              "             'AGVWTYW0ULXHT': [('B000EVSLRO', 4.310211113378272),\n",
              "              ('B002C7481G', 4.184279822991506),\n",
              "              ('B00169N0BK', 4.14157027202064),\n",
              "              ('B0002L5R78', 4.015890961937476),\n",
              "              ('B000JE7GPY', 4.000196302129723)],\n",
              "             'AGXMC3ITWZASE': [('B001LK8P14', 4.389913027110174),\n",
              "              ('B00275XTSQ', 4.085261070894666),\n",
              "              ('B002SQK2F2', 3.3003330191343756)],\n",
              "             'AGXV8E7XK9J6H': [('B00017LSPI', 4.417299955201601),\n",
              "              ('B00006I53S', 4.210821977953036)],\n",
              "             'AHROSV6WJOEGY': [('B00006RVPW', 4.014361700688709),\n",
              "              ('B00006I53S', 3.9261704522157284)],\n",
              "             'AI8EMB0HUC6Z5': [('B001TH7GUU', 5), ('B000N99BBC', 5)],\n",
              "             'AIJQU979J6UFY': [('B0000BVYTV', 4.625904384283538),\n",
              "              ('B002O3W2OI', 3.958210159610249)],\n",
              "             'AK3GKIV8DEY8B': [('B000Q8UAWY', 4.564313093961601)],\n",
              "             'AKT8TGIT6VVZ5': [('B00005LEN4', 4.767712075040581),\n",
              "              ('B000M2GYF6', 4.600411697915017)],\n",
              "             'ALDAF4VVLFRHP': [('B0011NVMO8', 4.887851529415566),\n",
              "              ('B002YU83YO', 4.669458918201642)],\n",
              "             'AN81JUYW2SL24': [('B001T9NUJE', 4.744392818586528),\n",
              "              ('B002VPE1Z2', 4.702044064898966),\n",
              "              ('B00004SB92', 4.537570510150756),\n",
              "              ('B002SGATH8', 4.308851101919472),\n",
              "              ('B00275XTSQ', 4.296120764170057)],\n",
              "             'AOEAD7DPLZE53': [('B000VX6XL6', 4.751743735452979)],\n",
              "             'AOMEH9W6LHC4S': [('B001KELVS0', 4.249952159106062),\n",
              "              ('B00004ZCJE', 4.000208264602411)],\n",
              "             'AONUCJBC85BL': [('B000F7QRTG', 4.460800470970471),\n",
              "              ('B000A6PPOK', 4.367119163710857),\n",
              "              ('B002R5AM7C', 4.037294308532882),\n",
              "              ('B001CHHVCU', 3.6705079664858267)],\n",
              "             'AQIJ3ZEEVCIKU': [('B000N99BBC', 4.564698587965209),\n",
              "              ('B001TH7GVE', 4.499020582589592),\n",
              "              ('B001TANZ0W', 4.461863958417046),\n",
              "              ('B000HPV3RW', 4.453662097099611),\n",
              "              ('B001TK3ACA', 4.199461031785974)],\n",
              "             'ARBKYIVNYWK3C': [('B001TOD7ME', 4.362846078500176),\n",
              "              ('B000JE7GPY', 4.351281295157166),\n",
              "              ('B000TKHBDK', 4.303727617302968),\n",
              "              ('B002UT42UI', 4.092646103026153),\n",
              "              ('B002TLTGM6', 3.9256889288452514)],\n",
              "             'AROQO2VDODT7': [('B00007GQLU', 4.786749099148644),\n",
              "              ('B00007E7JU', 4.763850905408491)],\n",
              "             'ARX7Z3NI6O0F7': [('B000KO0GY6', 4.488275916816142)],\n",
              "             'ASJSX783R5HTZ': [('B001TH7GUU', 4.669163289283216),\n",
              "              ('B0000BZL1P', 4.5502390299348034),\n",
              "              ('B00169N0BK', 4.350371170165574),\n",
              "              ('B001TH7GVE', 4.320720694631118)],\n",
              "             'AT28RL25Q2OLK': [('B000HJPK2C', 4.739860852378817),\n",
              "              ('B002UT42UI', 4.2412243875942925)],\n",
              "             'AT6CZDCP4TRGA': [('B00007KDVI', 3.9927486304990936)],\n",
              "             'ATDE9JYCPI0L1': [('B00004SB92', 4.394086557637949)],\n",
              "             'AUCISQA1YXX86': [('B001HSOFI2', 4.247316207239538)],\n",
              "             'AVPNQUVZWMDSX': [('B0010Z28XG', 4.6744063415609896),\n",
              "              ('B001TH7GSW', 4.478194385738945),\n",
              "              ('B002KC55OM', 4.254135549973829),\n",
              "              ('B00007KDVI', 3.919953890514166)],\n",
              "             'AVSMRPI23DQI2': [('B0007QKMQY', 4.439181943649044),\n",
              "              ('B001FA1NK0', 4.419290448908612),\n",
              "              ('B00093IIRA', 4.201565524512121)],\n",
              "             'AWJWCKB92RJX2': [('B000LRMS66', 4.563539242890903),\n",
              "              ('B00109Y2DQ', 4.403402352470573)],\n",
              "             'AWPODHOB4GFWL': [('B001HSOFI2', 4.552550117950506)],\n",
              "             'AX7317G153T8W': [('B0025VKUQQ', 4.4585360187432705),\n",
              "              ('B001FA1NK0', 4.305753362041852),\n",
              "              ('B001DULYZG', 4.192292492959278),\n",
              "              ('B000TG4BA0', 4.1729990831733685),\n",
              "              ('B001GS8FZ2', 4.026944444862591)],\n",
              "             'AYMD77ITD15PT': [('B001CHHVCU', 3.8032814634000687)],\n",
              "             'AZ515FFZ7I2P7': [('B001TK3ACA', 4.366179712387627),\n",
              "              ('B002IC0YL8', 4.159508780523229),\n",
              "              ('B001CHHVCU', 3.6696622484211705)],\n",
              "             'AZMY6E8B52L2T': [('B001TH7GUU', 4.999842636680711),\n",
              "              ('B002QEBMAK', 4.527832109880814),\n",
              "              ('B000FBK3QK', 4.4375351645467385)]})"
            ]
          },
          "metadata": {},
          "execution_count": 48
        }
      ]
    },
    {
      "cell_type": "markdown",
      "metadata": {
        "id": "qXw69NTqZf5J"
      },
      "source": [
        "**NOTE:**\n",
        "\n",
        "The above list shows the model recommendations the \"TOP 5\" products for each user. There are some cases in which less than 5 products are recommended as the model is not able to find the appropriate number of neighbors"
      ]
    },
    {
      "cell_type": "code",
      "metadata": {
        "id": "ZWIy5HqzaBIi",
        "colab": {
          "base_uri": "https://localhost:8080/"
        },
        "outputId": "d10720c8-6091-4dbf-9ef6-6c718e9377bd"
      },
      "source": [
        "def precision_recall_at_k(predictions, k=5, threshold=3.5):\n",
        "    '''Return precision and recall at k metrics for each user.'''\n",
        "\n",
        "    # First map the predictions to each user.\n",
        "    user_est_true = defaultdict(list)\n",
        "    for uid, _, true_r, est, _ in predictions:\n",
        "        user_est_true[uid].append((est, true_r))\n",
        "\n",
        "    precisions = dict()\n",
        "    recalls = dict()\n",
        "    for uid, user_ratings in user_est_true.items():\n",
        "\n",
        "        # Sort user ratings by estimated value\n",
        "        user_ratings.sort(key=lambda x: x[0], reverse=True)\n",
        "\n",
        "        # Number of relevant items\n",
        "        n_rel = sum((true_r >= threshold) for (_, true_r) in user_ratings)\n",
        "\n",
        "        # Number of recommended items in top k\n",
        "        n_rec_k = sum((est >= threshold) for (est, _) in user_ratings[:k])\n",
        "\n",
        "        # Number of relevant and recommended items in top k\n",
        "        n_rel_and_rec_k = sum(((true_r >= threshold) and (est >= threshold))\n",
        "                              for (est, true_r) in user_ratings[:k])\n",
        "\n",
        "        # Precision@K: Proportion of recommended items that are relevant\n",
        "        precisions[uid] = n_rel_and_rec_k / n_rec_k if n_rec_k != 0 else 1\n",
        "\n",
        "        # Recall@K: Proportion of relevant items that are recommended\n",
        "        recalls[uid] = n_rel_and_rec_k / n_rel if n_rel != 0 else 1\n",
        "\n",
        "    return precisions, recalls\n",
        "\n",
        "\n",
        "kf = KFold(n_splits=5)\n",
        "svd_model = SVD(n_epochs=20, lr_all=0.005, reg_all=0.2)\n",
        "precs = []\n",
        "recalls = []\n",
        "\n",
        "for trainset, testset in kf.split(surprise_data):\n",
        "    svd_model.fit(trainset)\n",
        "    predictions = svd_model.test(testset)\n",
        "    precisions, recalls = precision_recall_at_k(predictions, k=5, threshold=3.5)\n",
        "\n",
        "    # Precision and recall can then be averaged over all users\n",
        "    print('Precision : ', sum(prec for prec in precisions.values()) / len(precisions))\n",
        "    print('Recalls : ',sum(rec for rec in recalls.values()) / len(recalls))\n"
      ],
      "execution_count": 49,
      "outputs": [
        {
          "output_type": "execute_result",
          "data": {
            "text/plain": [
              "<surprise.prediction_algorithms.matrix_factorization.SVD at 0x7f8fadbc03d0>"
            ]
          },
          "metadata": {},
          "execution_count": 49
        },
        {
          "output_type": "stream",
          "name": "stdout",
          "text": [
            "Precision :  0.8887096774193549\n",
            "Recalls :  0.9895033282130056\n"
          ]
        },
        {
          "output_type": "execute_result",
          "data": {
            "text/plain": [
              "<surprise.prediction_algorithms.matrix_factorization.SVD at 0x7f8fadbc03d0>"
            ]
          },
          "metadata": {},
          "execution_count": 49
        },
        {
          "output_type": "stream",
          "name": "stdout",
          "text": [
            "Precision :  0.9019444444444444\n",
            "Recalls :  0.9850000000000001\n"
          ]
        },
        {
          "output_type": "execute_result",
          "data": {
            "text/plain": [
              "<surprise.prediction_algorithms.matrix_factorization.SVD at 0x7f8fadbc03d0>"
            ]
          },
          "metadata": {},
          "execution_count": 49
        },
        {
          "output_type": "stream",
          "name": "stdout",
          "text": [
            "Precision :  0.8713068181818183\n",
            "Recalls :  0.9919507575757577\n"
          ]
        },
        {
          "output_type": "execute_result",
          "data": {
            "text/plain": [
              "<surprise.prediction_algorithms.matrix_factorization.SVD at 0x7f8fadbc03d0>"
            ]
          },
          "metadata": {},
          "execution_count": 49
        },
        {
          "output_type": "stream",
          "name": "stdout",
          "text": [
            "Precision :  0.8929964539007094\n",
            "Recalls :  0.9831560283687943\n"
          ]
        },
        {
          "output_type": "execute_result",
          "data": {
            "text/plain": [
              "<surprise.prediction_algorithms.matrix_factorization.SVD at 0x7f8fadbc03d0>"
            ]
          },
          "metadata": {},
          "execution_count": 49
        },
        {
          "output_type": "stream",
          "name": "stdout",
          "text": [
            "Precision :  0.8877959927140255\n",
            "Recalls :  0.986872235232891\n"
          ]
        }
      ]
    },
    {
      "cell_type": "code",
      "metadata": {
        "id": "eY2Cpzim5RZo"
      },
      "source": [
        "pickle.dump(svd_model,open('mostrelevant.pkl','wb'))"
      ],
      "execution_count": 50,
      "outputs": []
    },
    {
      "cell_type": "markdown",
      "metadata": {
        "id": "ZGrGEUqSau-c"
      },
      "source": [
        "**Comment:** Precision and Recall have been calculated at k=5. \n",
        "\n",
        " Precision and Recall are binary metrics used to evaluate models with binary output. We need a way to translate our numerical problem (ratings usually from 1 to 5) into a binary problem (relevant and not relevant items). To do the translation we assume that any true rating above 3.5 corresponds to a relevant item and any true rating below 3.5 is irrelevant.\n",
        "\n",
        "Precision at 5 within the TOP 5 recommendations is alomost 85%. This means that 86% of the recommendation are relevent to the users.\n",
        "Recall at 5 within the TOP 5 recommendations problem is almost 95%. This means that 95% of the total number of the relevent products appear in the top-k result."
      ]
    },
    {
      "cell_type": "markdown",
      "metadata": {
        "id": "UwAdUamYavVP"
      },
      "source": [
        "**CONCLUSION**\n",
        "\n",
        "- EDA shows us that most of the customers give a rating of \"5\". This leads us to the conclusion that customers are very satisfied with their purchase. It may need some investigation to see if some bots or mandatory feedback at lower ratings are causing the majority to give a top rating of \"5\"\n",
        "\n",
        "- Subset of users who have provided 50 or more ratings and products which have received more than 10 ratings have been used to remove outliers and overcome Grey Sheep issue.\n",
        "\n",
        "- Popularity Model - shows the TOP 5 recommended products irrespective of the user. The same 5 product will be recommended for every user.\n",
        "\n",
        "- 'Matrix Factorization Based Algorithms' & 'k-NN Based Algorithms' were used to build Collaborative Filtering model.\n",
        "\n",
        "- SVD++ yields the lowest RMSE which is slightly better than SVD but computational time of SVD++ is 12 times greater than SVD. SVD can be used to get the recommended products.\n",
        "\n",
        "- Precision which is almost 86%. which can be interpreted as 86% of the recommendations are actually relevant to the user.\n",
        "\n",
        "- Recall is at 96% which can be interpreted as percent of the relevant items were recommended in the top-k items."
      ]
    },
    {
      "cell_type": "code",
      "metadata": {
        "id": "66BUxovdbWXp",
        "colab": {
          "base_uri": "https://localhost:8080/"
        },
        "outputId": "53be6fe0-387d-48f4-b1d8-ee220b923c40"
      },
      "source": [
        "!pip install colabcode\n",
        "!pip install fastapi"
      ],
      "execution_count": 51,
      "outputs": [
        {
          "output_type": "stream",
          "name": "stdout",
          "text": [
            "Requirement already satisfied: colabcode in /usr/local/lib/python3.7/dist-packages (0.3.0)\n",
            "Requirement already satisfied: nest-asyncio==1.4.3 in /usr/local/lib/python3.7/dist-packages (from colabcode) (1.4.3)\n",
            "Requirement already satisfied: uvicorn==0.13.1 in /usr/local/lib/python3.7/dist-packages (from colabcode) (0.13.1)\n",
            "Requirement already satisfied: jupyterlab==3.0.7 in /usr/local/lib/python3.7/dist-packages (from colabcode) (3.0.7)\n",
            "Requirement already satisfied: pyngrok>=5.0.0 in /usr/local/lib/python3.7/dist-packages (from colabcode) (5.1.0)\n",
            "Requirement already satisfied: tornado>=6.1.0 in /usr/local/lib/python3.7/dist-packages (from jupyterlab==3.0.7->colabcode) (6.1)\n",
            "Requirement already satisfied: ipython in /usr/local/lib/python3.7/dist-packages (from jupyterlab==3.0.7->colabcode) (5.5.0)\n",
            "Requirement already satisfied: packaging in /usr/local/lib/python3.7/dist-packages (from jupyterlab==3.0.7->colabcode) (21.0)\n",
            "Requirement already satisfied: nbclassic~=0.2 in /usr/local/lib/python3.7/dist-packages (from jupyterlab==3.0.7->colabcode) (0.3.2)\n",
            "Requirement already satisfied: jupyterlab-server~=2.0 in /usr/local/lib/python3.7/dist-packages (from jupyterlab==3.0.7->colabcode) (2.8.2)\n",
            "Requirement already satisfied: jupyter-server~=1.2 in /usr/local/lib/python3.7/dist-packages (from jupyterlab==3.0.7->colabcode) (1.11.0)\n",
            "Requirement already satisfied: jinja2>=2.10 in /usr/local/lib/python3.7/dist-packages (from jupyterlab==3.0.7->colabcode) (2.11.3)\n",
            "Requirement already satisfied: jupyter-core in /usr/local/lib/python3.7/dist-packages (from jupyterlab==3.0.7->colabcode) (4.8.1)\n",
            "Requirement already satisfied: click==7.* in /usr/local/lib/python3.7/dist-packages (from uvicorn==0.13.1->colabcode) (7.1.2)\n",
            "Requirement already satisfied: typing-extensions in /usr/local/lib/python3.7/dist-packages (from uvicorn==0.13.1->colabcode) (3.7.4.3)\n",
            "Requirement already satisfied: h11>=0.8 in /usr/local/lib/python3.7/dist-packages (from uvicorn==0.13.1->colabcode) (0.12.0)\n",
            "Requirement already satisfied: MarkupSafe>=0.23 in /usr/local/lib/python3.7/dist-packages (from jinja2>=2.10->jupyterlab==3.0.7->colabcode) (2.0.1)\n",
            "Requirement already satisfied: prometheus-client in /usr/local/lib/python3.7/dist-packages (from jupyter-server~=1.2->jupyterlab==3.0.7->colabcode) (0.11.0)\n",
            "Requirement already satisfied: argon2-cffi in /usr/local/lib/python3.7/dist-packages (from jupyter-server~=1.2->jupyterlab==3.0.7->colabcode) (21.1.0)\n",
            "Requirement already satisfied: pyzmq>=17 in /usr/local/lib/python3.7/dist-packages (from jupyter-server~=1.2->jupyterlab==3.0.7->colabcode) (22.3.0)\n",
            "Requirement already satisfied: traitlets>=4.2.1 in /usr/local/lib/python3.7/dist-packages (from jupyter-server~=1.2->jupyterlab==3.0.7->colabcode) (5.1.0)\n",
            "Requirement already satisfied: terminado>=0.8.3 in /usr/local/lib/python3.7/dist-packages (from jupyter-server~=1.2->jupyterlab==3.0.7->colabcode) (0.12.1)\n",
            "Requirement already satisfied: anyio<4,>=3.1.0 in /usr/local/lib/python3.7/dist-packages (from jupyter-server~=1.2->jupyterlab==3.0.7->colabcode) (3.3.2)\n",
            "Requirement already satisfied: nbconvert in /usr/local/lib/python3.7/dist-packages (from jupyter-server~=1.2->jupyterlab==3.0.7->colabcode) (5.6.1)\n",
            "Requirement already satisfied: ipython-genutils in /usr/local/lib/python3.7/dist-packages (from jupyter-server~=1.2->jupyterlab==3.0.7->colabcode) (0.2.0)\n",
            "Requirement already satisfied: Send2Trash in /usr/local/lib/python3.7/dist-packages (from jupyter-server~=1.2->jupyterlab==3.0.7->colabcode) (1.8.0)\n",
            "Requirement already satisfied: jupyter-client>=6.1.1 in /usr/local/lib/python3.7/dist-packages (from jupyter-server~=1.2->jupyterlab==3.0.7->colabcode) (6.1.12)\n",
            "Requirement already satisfied: websocket-client in /usr/local/lib/python3.7/dist-packages (from jupyter-server~=1.2->jupyterlab==3.0.7->colabcode) (1.2.1)\n",
            "Requirement already satisfied: nbformat in /usr/local/lib/python3.7/dist-packages (from jupyter-server~=1.2->jupyterlab==3.0.7->colabcode) (5.1.3)\n",
            "Requirement already satisfied: requests-unixsocket in /usr/local/lib/python3.7/dist-packages (from jupyter-server~=1.2->jupyterlab==3.0.7->colabcode) (0.2.0)\n",
            "Requirement already satisfied: idna>=2.8 in /usr/local/lib/python3.7/dist-packages (from anyio<4,>=3.1.0->jupyter-server~=1.2->jupyterlab==3.0.7->colabcode) (2.10)\n",
            "Requirement already satisfied: sniffio>=1.1 in /usr/local/lib/python3.7/dist-packages (from anyio<4,>=3.1.0->jupyter-server~=1.2->jupyterlab==3.0.7->colabcode) (1.2.0)\n",
            "Requirement already satisfied: python-dateutil>=2.1 in /usr/local/lib/python3.7/dist-packages (from jupyter-client>=6.1.1->jupyter-server~=1.2->jupyterlab==3.0.7->colabcode) (2.8.2)\n",
            "Requirement already satisfied: babel in /usr/local/lib/python3.7/dist-packages (from jupyterlab-server~=2.0->jupyterlab==3.0.7->colabcode) (2.9.1)\n",
            "Requirement already satisfied: jsonschema>=3.0.1 in /usr/local/lib/python3.7/dist-packages (from jupyterlab-server~=2.0->jupyterlab==3.0.7->colabcode) (4.0.1)\n",
            "Requirement already satisfied: entrypoints>=0.2.2 in /usr/local/lib/python3.7/dist-packages (from jupyterlab-server~=2.0->jupyterlab==3.0.7->colabcode) (0.3)\n",
            "Requirement already satisfied: requests in /usr/local/lib/python3.7/dist-packages (from jupyterlab-server~=2.0->jupyterlab==3.0.7->colabcode) (2.23.0)\n",
            "Requirement already satisfied: json5 in /usr/local/lib/python3.7/dist-packages (from jupyterlab-server~=2.0->jupyterlab==3.0.7->colabcode) (0.9.6)\n",
            "Requirement already satisfied: attrs>=17.4.0 in /usr/local/lib/python3.7/dist-packages (from jsonschema>=3.0.1->jupyterlab-server~=2.0->jupyterlab==3.0.7->colabcode) (21.2.0)\n",
            "Requirement already satisfied: importlib-metadata in /usr/local/lib/python3.7/dist-packages (from jsonschema>=3.0.1->jupyterlab-server~=2.0->jupyterlab==3.0.7->colabcode) (4.8.1)\n",
            "Requirement already satisfied: pyrsistent!=0.17.0,!=0.17.1,!=0.17.2,>=0.14.0 in /usr/local/lib/python3.7/dist-packages (from jsonschema>=3.0.1->jupyterlab-server~=2.0->jupyterlab==3.0.7->colabcode) (0.18.0)\n",
            "Requirement already satisfied: notebook<7 in /usr/local/lib/python3.7/dist-packages (from nbclassic~=0.2->jupyterlab==3.0.7->colabcode) (5.3.1)\n",
            "Requirement already satisfied: ipykernel in /usr/local/lib/python3.7/dist-packages (from notebook<7->nbclassic~=0.2->jupyterlab==3.0.7->colabcode) (4.10.1)\n",
            "Requirement already satisfied: PyYAML in /usr/local/lib/python3.7/dist-packages (from pyngrok>=5.0.0->colabcode) (3.13)\n",
            "Requirement already satisfied: six>=1.5 in /usr/local/lib/python3.7/dist-packages (from python-dateutil>=2.1->jupyter-client>=6.1.1->jupyter-server~=1.2->jupyterlab==3.0.7->colabcode) (1.15.0)\n",
            "Requirement already satisfied: ptyprocess in /usr/local/lib/python3.7/dist-packages (from terminado>=0.8.3->jupyter-server~=1.2->jupyterlab==3.0.7->colabcode) (0.7.0)\n",
            "Requirement already satisfied: cffi>=1.0.0 in /usr/local/lib/python3.7/dist-packages (from argon2-cffi->jupyter-server~=1.2->jupyterlab==3.0.7->colabcode) (1.14.6)\n",
            "Requirement already satisfied: pycparser in /usr/local/lib/python3.7/dist-packages (from cffi>=1.0.0->argon2-cffi->jupyter-server~=1.2->jupyterlab==3.0.7->colabcode) (2.20)\n",
            "Requirement already satisfied: pytz>=2015.7 in /usr/local/lib/python3.7/dist-packages (from babel->jupyterlab-server~=2.0->jupyterlab==3.0.7->colabcode) (2018.9)\n",
            "Requirement already satisfied: zipp>=0.5 in /usr/local/lib/python3.7/dist-packages (from importlib-metadata->jsonschema>=3.0.1->jupyterlab-server~=2.0->jupyterlab==3.0.7->colabcode) (3.5.0)\n",
            "Requirement already satisfied: prompt-toolkit<2.0.0,>=1.0.4 in /usr/local/lib/python3.7/dist-packages (from ipython->jupyterlab==3.0.7->colabcode) (1.0.18)\n",
            "Requirement already satisfied: pickleshare in /usr/local/lib/python3.7/dist-packages (from ipython->jupyterlab==3.0.7->colabcode) (0.7.5)\n",
            "Requirement already satisfied: pygments in /usr/local/lib/python3.7/dist-packages (from ipython->jupyterlab==3.0.7->colabcode) (2.6.1)\n",
            "Requirement already satisfied: decorator in /usr/local/lib/python3.7/dist-packages (from ipython->jupyterlab==3.0.7->colabcode) (4.4.2)\n",
            "Requirement already satisfied: simplegeneric>0.8 in /usr/local/lib/python3.7/dist-packages (from ipython->jupyterlab==3.0.7->colabcode) (0.8.1)\n",
            "Requirement already satisfied: pexpect in /usr/local/lib/python3.7/dist-packages (from ipython->jupyterlab==3.0.7->colabcode) (4.8.0)\n",
            "Requirement already satisfied: setuptools>=18.5 in /usr/local/lib/python3.7/dist-packages (from ipython->jupyterlab==3.0.7->colabcode) (57.4.0)\n",
            "Requirement already satisfied: wcwidth in /usr/local/lib/python3.7/dist-packages (from prompt-toolkit<2.0.0,>=1.0.4->ipython->jupyterlab==3.0.7->colabcode) (0.2.5)\n",
            "Requirement already satisfied: testpath in /usr/local/lib/python3.7/dist-packages (from nbconvert->jupyter-server~=1.2->jupyterlab==3.0.7->colabcode) (0.5.0)\n",
            "Requirement already satisfied: pandocfilters>=1.4.1 in /usr/local/lib/python3.7/dist-packages (from nbconvert->jupyter-server~=1.2->jupyterlab==3.0.7->colabcode) (1.5.0)\n",
            "Requirement already satisfied: defusedxml in /usr/local/lib/python3.7/dist-packages (from nbconvert->jupyter-server~=1.2->jupyterlab==3.0.7->colabcode) (0.7.1)\n",
            "Requirement already satisfied: mistune<2,>=0.8.1 in /usr/local/lib/python3.7/dist-packages (from nbconvert->jupyter-server~=1.2->jupyterlab==3.0.7->colabcode) (0.8.4)\n",
            "Requirement already satisfied: bleach in /usr/local/lib/python3.7/dist-packages (from nbconvert->jupyter-server~=1.2->jupyterlab==3.0.7->colabcode) (4.1.0)\n",
            "Requirement already satisfied: webencodings in /usr/local/lib/python3.7/dist-packages (from bleach->nbconvert->jupyter-server~=1.2->jupyterlab==3.0.7->colabcode) (0.5.1)\n",
            "Requirement already satisfied: pyparsing>=2.0.2 in /usr/local/lib/python3.7/dist-packages (from packaging->jupyterlab==3.0.7->colabcode) (2.4.7)\n",
            "Requirement already satisfied: urllib3!=1.25.0,!=1.25.1,<1.26,>=1.21.1 in /usr/local/lib/python3.7/dist-packages (from requests->jupyterlab-server~=2.0->jupyterlab==3.0.7->colabcode) (1.24.3)\n",
            "Requirement already satisfied: chardet<4,>=3.0.2 in /usr/local/lib/python3.7/dist-packages (from requests->jupyterlab-server~=2.0->jupyterlab==3.0.7->colabcode) (3.0.4)\n",
            "Requirement already satisfied: certifi>=2017.4.17 in /usr/local/lib/python3.7/dist-packages (from requests->jupyterlab-server~=2.0->jupyterlab==3.0.7->colabcode) (2021.5.30)\n",
            "Requirement already satisfied: fastapi in /usr/local/lib/python3.7/dist-packages (0.68.1)\n",
            "Requirement already satisfied: starlette==0.14.2 in /usr/local/lib/python3.7/dist-packages (from fastapi) (0.14.2)\n",
            "Requirement already satisfied: pydantic!=1.7,!=1.7.1,!=1.7.2,!=1.7.3,!=1.8,!=1.8.1,<2.0.0,>=1.6.2 in /usr/local/lib/python3.7/dist-packages (from fastapi) (1.8.2)\n",
            "Requirement already satisfied: typing-extensions>=3.7.4.3 in /usr/local/lib/python3.7/dist-packages (from pydantic!=1.7,!=1.7.1,!=1.7.2,!=1.7.3,!=1.8,!=1.8.1,<2.0.0,>=1.6.2->fastapi) (3.7.4.3)\n"
          ]
        }
      ]
    },
    {
      "cell_type": "markdown",
      "metadata": {
        "id": "TaAWOMA2JSC4"
      },
      "source": [
        ""
      ]
    },
    {
      "cell_type": "code",
      "metadata": {
        "id": "r8UwqHZMDwER"
      },
      "source": [
        "# 1. Library imports\n",
        "import uvicorn\n",
        "from fastapi import FastAPI\n",
        "import numpy as np\n",
        "import pickle\n",
        "import pandas as pd\n",
        "from pydantic import BaseModel\n",
        "from colabcode import ColabCode\n",
        "from typing import Optional"
      ],
      "execution_count": 2,
      "outputs": []
    },
    {
      "cell_type": "code",
      "metadata": {
        "id": "ZYWrEhWnDzXa"
      },
      "source": [
        "# 2. Create the app object\n",
        "app = FastAPI()\n",
        "pickle_in = open(\"mostrelevant.pkl\",\"rb\")\n",
        "mostrelevant=pickle.load(pickle_in)"
      ],
      "execution_count": 3,
      "outputs": []
    },
    {
      "cell_type": "code",
      "metadata": {
        "id": "OnSuKh1bECc-"
      },
      "source": [
        "# 3. Index route, opens automatically on http://127.0.0.1:8000\n",
        "@app.get('/')\n",
        "def index():\n",
        "    return {\"message\": \"This is the homepage of My first FastAPI\"}"
      ],
      "execution_count": 4,
      "outputs": []
    },
    {
      "cell_type": "code",
      "metadata": {
        "id": "-96s3gHwEPHR"
      },
      "source": [
        "# 4. Route with a single parameter, returns the parameter within a message\n",
        "#    Located at: http://127.0.0.1:8000/AnyNameHere\n",
        "@app.get('/{name}')\n",
        "def get_name(name: str):\n",
        "    return {'Welcome To Product Recommender Api CSDA 1040': f'{name}'}"
      ],
      "execution_count": 5,
      "outputs": []
    },
    {
      "cell_type": "code",
      "metadata": {
        "id": "XFkuMeIvEm9D"
      },
      "source": [
        "# 3. Expose the prediction functionality, make a prediction from the passed\n",
        "#    JSON data and return the predicted Bank Note with the confidence\n",
        "@app.post('/predict')\n",
        "def predict_precision_recall_at_k(data):\n",
        "    precision_recall_at_k=data['precision_recall_at_k']\n",
        "   # print(mostrelevant.predict([[precision_recall_at_k]]))\n",
        "    prediction = mostrelevant.predict([[precision_recall_at_k]])\n",
        "    if(prediction[0]>3.5):\n",
        "        prediction=\"Relevant Item\"\n",
        "    else:\n",
        "        prediction=\"Irrelevant Item\"\n",
        "    return {\n",
        "        'prediction': prediction\n",
        "    }"
      ],
      "execution_count": 6,
      "outputs": []
    },
    {
      "cell_type": "code",
      "metadata": {
        "id": "E51J4iJ7Q55G"
      },
      "source": [
        "app.main:app"
      ],
      "execution_count": 7,
      "outputs": []
    },
    {
      "cell_type": "code",
      "metadata": {
        "id": "IAetfdckQ_eI"
      },
      "source": [
        "cc = ColabCode(port=12000, code=False)"
      ],
      "execution_count": 8,
      "outputs": []
    },
    {
      "cell_type": "code",
      "metadata": {
        "colab": {
          "base_uri": "https://localhost:8080/"
        },
        "id": "6rO5Ffc5RKhs",
        "outputId": "1176b418-69a9-429c-828f-cd0191b06502"
      },
      "source": [
        "cc.run_app(app=app)"
      ],
      "execution_count": null,
      "outputs": [
        {
          "output_type": "stream",
          "name": "stderr",
          "text": [
            "INFO:     Started server process [7179]\n",
            "INFO:     Waiting for application startup.\n",
            "INFO:     Application startup complete.\n",
            "INFO:     Uvicorn running on http://127.0.0.1:12000 (Press CTRL+C to quit)\n"
          ]
        },
        {
          "output_type": "stream",
          "name": "stdout",
          "text": [
            "Public URL: NgrokTunnel: \"https://3c7d-35-221-36-166.ngrok.io\" -> \"http://localhost:12000\"\n",
            "INFO:     142.120.224.35:0 - \"GET / HTTP/1.1\" 200 OK\n",
            "INFO:     142.120.224.35:0 - \"GET /favicon.ico HTTP/1.1\" 200 OK\n",
            "INFO:     142.120.224.35:0 - \"GET /docs HTTP/1.1\" 200 OK\n",
            "INFO:     142.120.224.35:0 - \"GET /openapi.json HTTP/1.1\" 200 OK\n",
            "INFO:     142.120.224.35:0 - \"GET /docs HTTP/1.1\" 200 OK\n",
            "INFO:     142.120.224.35:0 - \"GET /docs HTTP/1.1\" 200 OK\n",
            "INFO:     142.120.224.35:0 - \"GET /docs HTTP/1.1\" 200 OK\n"
          ]
        }
      ]
    }
  ]
}