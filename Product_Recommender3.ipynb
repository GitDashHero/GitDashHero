{
  "nbformat": 4,
  "nbformat_minor": 0,
  "metadata": {
    "colab": {
      "name": "Product Recommender.ipynb",
      "provenance": [],
      "collapsed_sections": [],
      "include_colab_link": true
    },
    "kernelspec": {
      "display_name": "Python 3",
      "name": "python3"
    },
    "language_info": {
      "name": "python"
    }
  },
  "cells": [
    {
      "cell_type": "markdown",
      "metadata": {
        "id": "view-in-github",
        "colab_type": "text"
      },
      "source": [
        "<a href=\"https://colab.research.google.com/github/GitDashHero/GitDashHero/blob/main/Product_Recommender3.ipynb\" target=\"_parent\"><img src=\"https://colab.research.google.com/assets/colab-badge.svg\" alt=\"Open In Colab\"/></a>"
      ]
    },
    {
      "cell_type": "markdown",
      "metadata": {
        "id": "mbDSs2p9CTIN"
      },
      "source": [
        "## **PRODUCT RECOMMENDER SYSTEM - CSDA 1040**"
      ]
    },
    {
      "cell_type": "markdown",
      "metadata": {
        "id": "USFFlQzTCifz"
      },
      "source": [
        "### **Context: Building a Product Recommender System**"
      ]
    },
    {
      "cell_type": "markdown",
      "metadata": {
        "id": "xbyEWEM6DdKZ"
      },
      "source": [
        "Everyday millions of products get sold online. It has been established that products recommended to users based on popularity and other metrics on e-commerce websites leads to enhanced user experience. Most popular e-commerce website boost their average order value and also increases revenues significantly thereby improves conversion. Recommender systems are among the most visible and successful applications of Articial Intelligence and Machine Learning technology in practice. Nowadays, such systems accompany us\n",
        "through our daily online lives — for example on e-commerce sites, on media streaming platforms, or in social networks. They help us by suggesting things that are assumed to be of interest to us and which we are correspondingly likely to inspect, consume, or purchase."
      ]
    },
    {
      "cell_type": "markdown",
      "metadata": {
        "id": "l0YZAIlcFoJx"
      },
      "source": [
        "**Data Source: Source** - Amazon Reviews data (http://jmcauley.ucsd.edu/data/amazon/) The repository has several datasets. For this case study, we are using the Electronics dataset.\n",
        "Learning Outcomes"
      ]
    },
    {
      "cell_type": "markdown",
      "metadata": {
        "id": "fGTxhX5XGkvI"
      },
      "source": [
        "**BUSINESS PROBLEM:**\n",
        "\n",
        "As a business that is invested in online sales, it has become imperative to build a product recommender system. Customers that are accustomed to online shopping have come to expect a level of personalization and recommendation to enhance their experience and might move away to websites that are more perceptive to their needs.\n",
        "\n",
        "a) Helps User find the right type of product more easily which leads to better levels of engagement\n",
        "\n",
        "b) Also helps the business use cross-sell, upsell and entice customers which leads to increased sales\n",
        "\n",
        "c) Leads to a personalized experience "
      ]
    },
    {
      "cell_type": "markdown",
      "metadata": {
        "id": "VFp8xxhBGk60"
      },
      "source": [
        "\n",
        "**ANALYTICAL OBJECTIVE**\n",
        "\n",
        "Build a Recommender Model that recommends products to users either based on popularity or ratings to increase customer engagement and drive sales. \n",
        "\n",
        "There are different types of recommender models based on popularity, user based, content based recommendation, collaborative filtering.\n",
        "\n"
      ]
    },
    {
      "cell_type": "code",
      "metadata": {
        "id": "MQUfJbd_B7_O"
      },
      "source": [
        "# Importing Libraries\n",
        "\n",
        "import pandas as pd\n",
        "import numpy as np\n",
        "import seaborn as sns\n",
        "import matplotlib.pyplot as plt\n",
        "%matplotlib inline\n",
        "from sklearn.model_selection import train_test_split\n",
        "import numpy as np # linear algebra\n",
        "import pandas as pd # data processing, CSV file I/O (e.g. pd.read_csv)\n",
        "import os\n",
        "from IPython.core.interactiveshell import InteractiveShell\n",
        "InteractiveShell.ast_node_interactivity = \"all\"\n",
        "import math\n",
        "import json\n",
        "import time\n",
        "import matplotlib.pyplot as plt\n",
        "import seaborn as sns\n",
        "from sklearn.metrics.pairwise import cosine_similarity\n",
        "from sklearn.model_selection import train_test_split\n",
        "from sklearn.neighbors import NearestNeighbors\n",
        "import scipy.sparse\n",
        "from scipy.sparse import csr_matrix\n",
        "from scipy.sparse.linalg import svds\n",
        "import warnings; warnings.simplefilter('ignore')\n",
        "%matplotlib inline\n",
        "\n",
        "# suppress display of warnings\n",
        "warnings.filterwarnings('ignore')\n",
        "\n",
        "# display all dataframe columns\n",
        "pd.options.display.max_columns = None\n",
        "\n",
        "# to set the limit to 3 decimals\n",
        "pd.options.display.float_format = '{:.7f}'.format\n",
        "\n",
        "# display all dataframe rows\n",
        "pd.options.display.max_rows = None\n",
        "\n"
      ],
      "execution_count": 1,
      "outputs": []
    },
    {
      "cell_type": "code",
      "metadata": {
        "colab": {
          "base_uri": "https://localhost:8080/",
          "height": 204
        },
        "id": "lh0cdlZFNTNb",
        "outputId": "2575a23e-7d5c-49a0-90d7-67ebda660a4f"
      },
      "source": [
        "# Loading Data with headers and display\n",
        "electronics_data = pd.read_csv(\"ratings_Electronics.csv\", names=['userId', 'productId','Rating','timestamp'])\n",
        "electronics_data = electronics_data.iloc[1:]\n",
        "electronics_data.head()"
      ],
      "execution_count": 2,
      "outputs": [
        {
          "output_type": "execute_result",
          "data": {
            "text/html": [
              "<div>\n",
              "<style scoped>\n",
              "    .dataframe tbody tr th:only-of-type {\n",
              "        vertical-align: middle;\n",
              "    }\n",
              "\n",
              "    .dataframe tbody tr th {\n",
              "        vertical-align: top;\n",
              "    }\n",
              "\n",
              "    .dataframe thead th {\n",
              "        text-align: right;\n",
              "    }\n",
              "</style>\n",
              "<table border=\"1\" class=\"dataframe\">\n",
              "  <thead>\n",
              "    <tr style=\"text-align: right;\">\n",
              "      <th></th>\n",
              "      <th>userId</th>\n",
              "      <th>productId</th>\n",
              "      <th>Rating</th>\n",
              "      <th>timestamp</th>\n",
              "    </tr>\n",
              "  </thead>\n",
              "  <tbody>\n",
              "    <tr>\n",
              "      <th>1</th>\n",
              "      <td>A2CX7LUOHB2NDG</td>\n",
              "      <td>0321732944</td>\n",
              "      <td>5.0000000</td>\n",
              "      <td>1341100800.0000000</td>\n",
              "    </tr>\n",
              "    <tr>\n",
              "      <th>2</th>\n",
              "      <td>A2NWSAGRHCP8N5</td>\n",
              "      <td>0439886341</td>\n",
              "      <td>1.0000000</td>\n",
              "      <td>1367193600.0000000</td>\n",
              "    </tr>\n",
              "    <tr>\n",
              "      <th>3</th>\n",
              "      <td>A2WNBOD3WNDNKT</td>\n",
              "      <td>0439886341</td>\n",
              "      <td>3.0000000</td>\n",
              "      <td>1374451200.0000000</td>\n",
              "    </tr>\n",
              "    <tr>\n",
              "      <th>4</th>\n",
              "      <td>A1GI0U4ZRJA8WN</td>\n",
              "      <td>0439886341</td>\n",
              "      <td>1.0000000</td>\n",
              "      <td>1334707200.0000000</td>\n",
              "    </tr>\n",
              "    <tr>\n",
              "      <th>5</th>\n",
              "      <td>A1QGNMC6O1VW39</td>\n",
              "      <td>0511189877</td>\n",
              "      <td>5.0000000</td>\n",
              "      <td>1397433600.0000000</td>\n",
              "    </tr>\n",
              "  </tbody>\n",
              "</table>\n",
              "</div>"
            ],
            "text/plain": [
              "           userId   productId    Rating          timestamp\n",
              "1  A2CX7LUOHB2NDG  0321732944 5.0000000 1341100800.0000000\n",
              "2  A2NWSAGRHCP8N5  0439886341 1.0000000 1367193600.0000000\n",
              "3  A2WNBOD3WNDNKT  0439886341 3.0000000 1374451200.0000000\n",
              "4  A1GI0U4ZRJA8WN  0439886341 1.0000000 1334707200.0000000\n",
              "5  A1QGNMC6O1VW39  0511189877 5.0000000 1397433600.0000000"
            ]
          },
          "metadata": {},
          "execution_count": 2
        }
      ]
    },
    {
      "cell_type": "markdown",
      "metadata": {
        "id": "i8c9Od9vYHFL"
      },
      "source": [
        "**DATA EXPLORATION**"
      ]
    },
    {
      "cell_type": "code",
      "metadata": {
        "colab": {
          "base_uri": "https://localhost:8080/"
        },
        "id": "XMGxaOy8X7wT",
        "outputId": "f7787955-6853-4239-ff7e-f1c8b29ef332"
      },
      "source": [
        "# Datatypes\n",
        "\n",
        "electronics_data.info()"
      ],
      "execution_count": 3,
      "outputs": [
        {
          "output_type": "stream",
          "name": "stdout",
          "text": [
            "<class 'pandas.core.frame.DataFrame'>\n",
            "RangeIndex: 3192096 entries, 1 to 3192096\n",
            "Data columns (total 4 columns):\n",
            " #   Column     Dtype  \n",
            "---  ------     -----  \n",
            " 0   userId     object \n",
            " 1   productId  object \n",
            " 2   Rating     float64\n",
            " 3   timestamp  float64\n",
            "dtypes: float64(2), object(2)\n",
            "memory usage: 97.4+ MB\n"
          ]
        }
      ]
    },
    {
      "cell_type": "code",
      "metadata": {
        "colab": {
          "base_uri": "https://localhost:8080/"
        },
        "id": "xpxZpQMvX77C",
        "outputId": "5adebcb8-6611-43d0-a9cf-16c6f152c60e"
      },
      "source": [
        "# Shape of the data\n",
        "electronics_data.shape"
      ],
      "execution_count": 4,
      "outputs": [
        {
          "output_type": "execute_result",
          "data": {
            "text/plain": [
              "(3192096, 4)"
            ]
          },
          "metadata": {},
          "execution_count": 4
        }
      ]
    },
    {
      "cell_type": "code",
      "metadata": {
        "colab": {
          "base_uri": "https://localhost:8080/"
        },
        "id": "8eQG4-tbX8Ek",
        "outputId": "122f2c25-539b-453c-baa9-54be3e9df094"
      },
      "source": [
        "# More on our data\n",
        "electronics_data.describe()['Rating'].T"
      ],
      "execution_count": 5,
      "outputs": [
        {
          "output_type": "execute_result",
          "data": {
            "text/plain": [
              "count   3192095.0000000\n",
              "mean          3.9752777\n",
              "std           1.4021868\n",
              "min           1.0000000\n",
              "25%           3.0000000\n",
              "50%           5.0000000\n",
              "75%           5.0000000\n",
              "max           5.0000000\n",
              "Name: Rating, dtype: float64"
            ]
          },
          "metadata": {},
          "execution_count": 5
        }
      ]
    },
    {
      "cell_type": "code",
      "metadata": {
        "colab": {
          "base_uri": "https://localhost:8080/"
        },
        "id": "vtY4_9VhX8Ng",
        "outputId": "0d2caba8-9189-424d-b5d4-09d4b2d3eaa1"
      },
      "source": [
        "# Checking for any null or missing values\n",
        "print('Number of missing values across columns: \\n',electronics_data.isnull().sum())"
      ],
      "execution_count": 6,
      "outputs": [
        {
          "output_type": "stream",
          "name": "stdout",
          "text": [
            "Number of missing values across columns: \n",
            " userId       0\n",
            "productId    0\n",
            "Rating       1\n",
            "timestamp    1\n",
            "dtype: int64\n"
          ]
        }
      ]
    },
    {
      "cell_type": "code",
      "metadata": {
        "colab": {
          "base_uri": "https://localhost:8080/"
        },
        "id": "iw7VE_qAZNEg",
        "outputId": "5cc9519e-925b-43d6-92db-c7f71c86432c"
      },
      "source": [
        "#Find the minimum and maximum ratings\n",
        "print('Minimum rating is: %d' %(electronics_data.Rating.min()))\n",
        "print('Maximum rating is: %d' %(electronics_data.Rating.max()))"
      ],
      "execution_count": 7,
      "outputs": [
        {
          "output_type": "stream",
          "name": "stdout",
          "text": [
            "Minimum rating is: 1\n",
            "Maximum rating is: 5\n"
          ]
        }
      ]
    },
    {
      "cell_type": "markdown",
      "metadata": {
        "id": "_s_9pa84a6ys"
      },
      "source": [
        "**DATA DISTRIBUTION**"
      ]
    },
    {
      "cell_type": "code",
      "metadata": {
        "id": "3zcuu-wNfZjH",
        "colab": {
          "base_uri": "https://localhost:8080/",
          "height": 391
        },
        "outputId": "54afe76b-c422-4aae-bb99-251dbc8c5185"
      },
      "source": [
        "\n",
        "sns.pairplot(electronics_data, diag_kind= 'kde')\n"
      ],
      "execution_count": 8,
      "outputs": [
        {
          "output_type": "execute_result",
          "data": {
            "text/plain": [
              "<seaborn.axisgrid.PairGrid at 0x7fc40b7a94d0>"
            ]
          },
          "metadata": {},
          "execution_count": 8
        },
        {
          "output_type": "display_data",
          "data": {
            "image/png": "[encoded data removed]",
            "text/plain": [
              "<Figure size 360x360 with 6 Axes>"
            ]
          },
          "metadata": {
            "needs_background": "light"
          }
        }
      ]
    },
    {
      "cell_type": "code",
      "metadata": {
        "id": "fiCo7dzoX8X1",
        "colab": {
          "base_uri": "https://localhost:8080/",
          "height": 204
        },
        "outputId": "7a0173a3-8916-4e82-9463-2aa062b2c003"
      },
      "source": [
        "# Checking the distribution of the ratings\n",
        "rating_counts = pd.DataFrame(electronics_data['Rating'].value_counts()).reset_index()\n",
        "rating_counts.columns = ['Labels', 'Ratings']\n",
        "rating_counts"
      ],
      "execution_count": 9,
      "outputs": [
        {
          "output_type": "execute_result",
          "data": {
            "text/html": [
              "<div>\n",
              "<style scoped>\n",
              "    .dataframe tbody tr th:only-of-type {\n",
              "        vertical-align: middle;\n",
              "    }\n",
              "\n",
              "    .dataframe tbody tr th {\n",
              "        vertical-align: top;\n",
              "    }\n",
              "\n",
              "    .dataframe thead th {\n",
              "        text-align: right;\n",
              "    }\n",
              "</style>\n",
              "<table border=\"1\" class=\"dataframe\">\n",
              "  <thead>\n",
              "    <tr style=\"text-align: right;\">\n",
              "      <th></th>\n",
              "      <th>Labels</th>\n",
              "      <th>Ratings</th>\n",
              "    </tr>\n",
              "  </thead>\n",
              "  <tbody>\n",
              "    <tr>\n",
              "      <th>0</th>\n",
              "      <td>5.0000000</td>\n",
              "      <td>1733884</td>\n",
              "    </tr>\n",
              "    <tr>\n",
              "      <th>1</th>\n",
              "      <td>4.0000000</td>\n",
              "      <td>619460</td>\n",
              "    </tr>\n",
              "    <tr>\n",
              "      <th>2</th>\n",
              "      <td>1.0000000</td>\n",
              "      <td>391617</td>\n",
              "    </tr>\n",
              "    <tr>\n",
              "      <th>3</th>\n",
              "      <td>3.0000000</td>\n",
              "      <td>256319</td>\n",
              "    </tr>\n",
              "    <tr>\n",
              "      <th>4</th>\n",
              "      <td>2.0000000</td>\n",
              "      <td>190815</td>\n",
              "    </tr>\n",
              "  </tbody>\n",
              "</table>\n",
              "</div>"
            ],
            "text/plain": [
              "     Labels  Ratings\n",
              "0 5.0000000  1733884\n",
              "1 4.0000000   619460\n",
              "2 1.0000000   391617\n",
              "3 3.0000000   256319\n",
              "4 2.0000000   190815"
            ]
          },
          "metadata": {},
          "execution_count": 9
        }
      ]
    },
    {
      "cell_type": "code",
      "metadata": {
        "id": "emjJwbphkG5h",
        "colab": {
          "base_uri": "https://localhost:8080/",
          "height": 776
        },
        "outputId": "2560e7ac-54f0-4232-8a81-d671077c1fac"
      },
      "source": [
        "fig, (ax1, ax2) = plt.subplots(nrows=1, ncols=2, figsize=(15,7))\n",
        "sns.countplot(electronics_data['Rating'], ax=ax1)\n",
        "ax1.set_xlabel('Rating Distribution', fontsize=10)\n",
        "ax1.set_ylabel('Count', fontsize=10)\n",
        "\n",
        "\n",
        "explode = (0.1, 0, 0.1, 0, 0)\n",
        "ax2.pie(rating_counts[\"Ratings\"], explode=explode, labels=rating_counts.Labels, autopct='%1.2f%%',\n",
        "        shadow=True, startangle=70)\n",
        "ax2.axis('equal')\n",
        "plt.title(\"Rating Ratio\")\n",
        "plt.legend(rating_counts.Labels, loc=3)\n",
        "plt.show()"
      ],
      "execution_count": 10,
      "outputs": [
        {
          "output_type": "execute_result",
          "data": {
            "text/plain": [
              "<matplotlib.axes._subplots.AxesSubplot at 0x7fc400268350>"
            ]
          },
          "metadata": {},
          "execution_count": 10
        },
        {
          "output_type": "execute_result",
          "data": {
            "text/plain": [
              "Text(0.5, 0, 'Rating Distribution')"
            ]
          },
          "metadata": {},
          "execution_count": 10
        },
        {
          "output_type": "execute_result",
          "data": {
            "text/plain": [
              "Text(0, 0.5, 'Count')"
            ]
          },
          "metadata": {},
          "execution_count": 10
        },
        {
          "output_type": "execute_result",
          "data": {
            "text/plain": [
              "([<matplotlib.patches.Wedge at 0x7fc3ffe0e210>,\n",
              "  <matplotlib.patches.Wedge at 0x7fc3ffdad390>,\n",
              "  <matplotlib.patches.Wedge at 0x7fc3ffdadc90>,\n",
              "  <matplotlib.patches.Wedge at 0x7fc3ffdbe990>,\n",
              "  <matplotlib.patches.Wedge at 0x7fc3ffdc9890>],\n",
              " [Text(-1.1727772471401794, 0.2541525695134766, '5.0'),\n",
              "  Text(0.5578939074679748, -0.9480265755822012, '4.0'),\n",
              "  Text(1.1988485727202942, -0.05255568177194563, '1.0'),\n",
              "  Text(0.9116566810693687, 0.6155339924501193, '3.0'),\n",
              "  Text(0.5625860855793836, 0.9452496476129819, '2.0')],\n",
              " [Text(-0.6841200608317713, 0.14825566554952802, '54.32%'),\n",
              "  Text(0.3043057677098044, -0.5171054048630187, '19.41%'),\n",
              "  Text(0.6993283340868381, -0.030657481033634953, '12.27%'),\n",
              "  Text(0.49726728058329195, 0.3357458140637014, '8.03%'),\n",
              "  Text(0.30686513758875467, 0.5155907168798083, '5.98%')])"
            ]
          },
          "metadata": {},
          "execution_count": 10
        },
        {
          "output_type": "execute_result",
          "data": {
            "text/plain": [
              "(-1.2157865398449696,\n",
              " 1.2150826205469787,\n",
              " -1.1149910052649246,\n",
              " 1.1313380691203048)"
            ]
          },
          "metadata": {},
          "execution_count": 10
        },
        {
          "output_type": "execute_result",
          "data": {
            "text/plain": [
              "Text(0.5, 1.0, 'Rating Ratio')"
            ]
          },
          "metadata": {},
          "execution_count": 10
        },
        {
          "output_type": "execute_result",
          "data": {
            "text/plain": [
              "<matplotlib.legend.Legend at 0x7fc3ffdc9950>"
            ]
          },
          "metadata": {},
          "execution_count": 10
        },
        {
          "output_type": "display_data",
          "data": {
            "image/png": "[encoded data removed]",
            "text/plain": [
              "<Figure size 1080x504 with 2 Axes>"
            ]
          },
          "metadata": {
            "needs_background": "light"
          }
        }
      ]
    },
    {
      "cell_type": "markdown",
      "metadata": {
        "id": "SZCB8bvVf1MI"
      },
      "source": [
        "**OBSERVATIONS:**\n",
        "\n",
        "We can see that most customers provide a rating of \"5\". Very few customers have given a rating of \"2\". \n",
        "\n",
        "From the barplot and pia chart we can clearly see that approx 55% of data have 5 rating followed by 4(approx 19%). Least number of people have given 2 rating. \n",
        "\n",
        "Either most products are liked by customers or there is more to investigate such as dropping of reviews by bots or promotional events. \n",
        "\n",
        "Are customers asked for feedback, if they give a lower rating thus making it easier to go with a rating of \"5\"?"
      ]
    },
    {
      "cell_type": "markdown",
      "metadata": {
        "id": "x0h_5KZjbC_r"
      },
      "source": [
        "**UNIQUE USERS AND NUMBER OF UNIQUE PRODUCTS**"
      ]
    },
    {
      "cell_type": "code",
      "metadata": {
        "id": "0767NVZ3j4mN"
      },
      "source": [
        "electronics_data.productId = electronics_data.productId.fillna('')"
      ],
      "execution_count": 11,
      "outputs": []
    },
    {
      "cell_type": "code",
      "metadata": {
        "id": "u6bglPj2a4b9",
        "colab": {
          "base_uri": "https://localhost:8080/"
        },
        "outputId": "1ebdb1ab-be15-4471-988d-86deb2736a18"
      },
      "source": [
        "print(\"\\nTotal no of Ratings :\",electronics_data.shape[0])\n",
        "print(\"Total No of Users   :\", len(np.unique(electronics_data.userId)))\n",
        "print(\"Total No of Products  :\", len(np.unique(electronics_data.productId)))"
      ],
      "execution_count": 12,
      "outputs": [
        {
          "output_type": "stream",
          "name": "stdout",
          "text": [
            "\n",
            "Total no of Ratings : 3192096\n",
            "Total No of Users   : 2029434\n",
            "Total No of Products  : 173704\n"
          ]
        }
      ]
    },
    {
      "cell_type": "code",
      "metadata": {
        "id": "gC8gIQN8a4nW"
      },
      "source": [
        "#Dropping the Timestamp Column and it is not needed for our analysis\n",
        "\n",
        "electronics_data.drop(['timestamp'], axis=1,inplace=True)"
      ],
      "execution_count": 13,
      "outputs": []
    },
    {
      "cell_type": "markdown",
      "metadata": {
        "id": "-UwKu3H-lu1s"
      },
      "source": [
        "**POPULARITY BASED RECOMMENDER**\n",
        "\n",
        "Popularity based recommendation system uses the most frequently sold items to drive sales. For example, if any product which is usually bought by every new user then there are chances that it may suggest that item to the user who just signed up.\n",
        "\n",
        "The problems with popularity based recommendation system is that the personalization is not available with this method i.e. even though you know the behaviour of the user you cannot recommend items accordingly.\n",
        "\n",
        "This is good for new users when data is not available on their preferences.\n"
      ]
    },
    {
      "cell_type": "code",
      "metadata": {
        "id": "EWbWRTFya4zD"
      },
      "source": [
        "#  Taking Subset of users who have given 50 or more number of ratings\n",
        "users_counts = electronics_data['userId'].value_counts().rename('users_counts')\n",
        "users_data   = electronics_data.merge(users_counts.to_frame(),\n",
        "                                left_on='userId',\n",
        "                                right_index=True)"
      ],
      "execution_count": 14,
      "outputs": []
    },
    {
      "cell_type": "code",
      "metadata": {
        "id": "8LTygCqkltfW",
        "colab": {
          "base_uri": "https://localhost:8080/",
          "height": 204
        },
        "outputId": "7ec25a14-c9b0-42da-8360-572da62b179d"
      },
      "source": [
        "subset_df = users_data[users_data.users_counts >= 50]\n",
        "subset_df.tail()\n",
        "\n",
        "# Customers who have rated more than 50 products. These customers seem like they are regular buyers and provide regular feedback."
      ],
      "execution_count": 15,
      "outputs": [
        {
          "output_type": "execute_result",
          "data": {
            "text/html": [
              "<div>\n",
              "<style scoped>\n",
              "    .dataframe tbody tr th:only-of-type {\n",
              "        vertical-align: middle;\n",
              "    }\n",
              "\n",
              "    .dataframe tbody tr th {\n",
              "        vertical-align: top;\n",
              "    }\n",
              "\n",
              "    .dataframe thead th {\n",
              "        text-align: right;\n",
              "    }\n",
              "</style>\n",
              "<table border=\"1\" class=\"dataframe\">\n",
              "  <thead>\n",
              "    <tr style=\"text-align: right;\">\n",
              "      <th></th>\n",
              "      <th>userId</th>\n",
              "      <th>productId</th>\n",
              "      <th>Rating</th>\n",
              "      <th>users_counts</th>\n",
              "    </tr>\n",
              "  </thead>\n",
              "  <tbody>\n",
              "    <tr>\n",
              "      <th>2897164</th>\n",
              "      <td>A2CIQEY05SPHTZ</td>\n",
              "      <td>B002VPDM2K</td>\n",
              "      <td>3.0000000</td>\n",
              "      <td>51</td>\n",
              "    </tr>\n",
              "    <tr>\n",
              "      <th>2902224</th>\n",
              "      <td>A2CIQEY05SPHTZ</td>\n",
              "      <td>B002VPE1Y8</td>\n",
              "      <td>4.0000000</td>\n",
              "      <td>51</td>\n",
              "    </tr>\n",
              "    <tr>\n",
              "      <th>2936096</th>\n",
              "      <td>A2CIQEY05SPHTZ</td>\n",
              "      <td>B002XUL5OU</td>\n",
              "      <td>4.0000000</td>\n",
              "      <td>51</td>\n",
              "    </tr>\n",
              "    <tr>\n",
              "      <th>2982519</th>\n",
              "      <td>A2CIQEY05SPHTZ</td>\n",
              "      <td>B0030M5NFC</td>\n",
              "      <td>4.0000000</td>\n",
              "      <td>51</td>\n",
              "    </tr>\n",
              "    <tr>\n",
              "      <th>3075349</th>\n",
              "      <td>A2CIQEY05SPHTZ</td>\n",
              "      <td>B0035MDZKM</td>\n",
              "      <td>4.0000000</td>\n",
              "      <td>51</td>\n",
              "    </tr>\n",
              "  </tbody>\n",
              "</table>\n",
              "</div>"
            ],
            "text/plain": [
              "                 userId   productId    Rating  users_counts\n",
              "2897164  A2CIQEY05SPHTZ  B002VPDM2K 3.0000000            51\n",
              "2902224  A2CIQEY05SPHTZ  B002VPE1Y8 4.0000000            51\n",
              "2936096  A2CIQEY05SPHTZ  B002XUL5OU 4.0000000            51\n",
              "2982519  A2CIQEY05SPHTZ  B0030M5NFC 4.0000000            51\n",
              "3075349  A2CIQEY05SPHTZ  B0035MDZKM 4.0000000            51"
            ]
          },
          "metadata": {},
          "execution_count": 15
        }
      ]
    },
    {
      "cell_type": "markdown",
      "metadata": {
        "id": "nMXbusE6naCX"
      },
      "source": [
        "**Resolving the \"Grey Sheep\" Problem:**\n",
        "\n",
        "\"Recommender Systems have been successfully applied to alleviate the information overload problem and assist the process of decision making. Collaborative filtering, as one of the most popular recommendation algorithms, has been fully explored and developed in the past two decades. However, one of the challenges in collaborative filtering, the problem of \"Grey Sheep\" user, is still under investigation. \"Grey Sheep\" users is a group of the users who have special tastes and they may neither agree nor disagree with the majority of the users. The identification of them becomes a challenge in collaborative filtering, since they may introduce difficulties to produce accurate collaborative recommendations\" (Source:https://dl.acm.org/doi/abs/10.1145/3125649.3125651)"
      ]
    },
    {
      "cell_type": "code",
      "metadata": {
        "id": "aiJGGXQVmjz-",
        "colab": {
          "base_uri": "https://localhost:8080/",
          "height": 204
        },
        "outputId": "125486e3-3c65-4882-b81a-17bd4ddf1840"
      },
      "source": [
        "# We resolve the \"Grey Sheep\" Problem by taking a subset of products that have 10 or more ratings. \n",
        "# This will ensure that these are commonly purchased and rated.\n",
        "product_rating_counts = subset_df['productId'].value_counts().rename('product_rating_counts')\n",
        "product_rating_data   = subset_df.merge(product_rating_counts.to_frame(),\n",
        "                                left_on='productId',\n",
        "                                right_index=True)\n",
        "product_rating_data = product_rating_data[product_rating_data.product_rating_counts >= 10]\n",
        "product_rating_data.tail()\n"
      ],
      "execution_count": 16,
      "outputs": [
        {
          "output_type": "execute_result",
          "data": {
            "text/html": [
              "<div>\n",
              "<style scoped>\n",
              "    .dataframe tbody tr th:only-of-type {\n",
              "        vertical-align: middle;\n",
              "    }\n",
              "\n",
              "    .dataframe tbody tr th {\n",
              "        vertical-align: top;\n",
              "    }\n",
              "\n",
              "    .dataframe thead th {\n",
              "        text-align: right;\n",
              "    }\n",
              "</style>\n",
              "<table border=\"1\" class=\"dataframe\">\n",
              "  <thead>\n",
              "    <tr style=\"text-align: right;\">\n",
              "      <th></th>\n",
              "      <th>userId</th>\n",
              "      <th>productId</th>\n",
              "      <th>Rating</th>\n",
              "      <th>users_counts</th>\n",
              "      <th>product_rating_counts</th>\n",
              "    </tr>\n",
              "  </thead>\n",
              "  <tbody>\n",
              "    <tr>\n",
              "      <th>208660</th>\n",
              "      <td>AHROSV6WJOEGY</td>\n",
              "      <td>B00006RVPW</td>\n",
              "      <td>5.0000000</td>\n",
              "      <td>50</td>\n",
              "      <td>10</td>\n",
              "    </tr>\n",
              "    <tr>\n",
              "      <th>208913</th>\n",
              "      <td>A3Q4TYJVAM4IRM</td>\n",
              "      <td>B00006RVPW</td>\n",
              "      <td>5.0000000</td>\n",
              "      <td>86</td>\n",
              "      <td>10</td>\n",
              "    </tr>\n",
              "    <tr>\n",
              "      <th>208786</th>\n",
              "      <td>A1CPRP3VFJRS1R</td>\n",
              "      <td>B00006RVPW</td>\n",
              "      <td>5.0000000</td>\n",
              "      <td>64</td>\n",
              "      <td>10</td>\n",
              "    </tr>\n",
              "    <tr>\n",
              "      <th>208259</th>\n",
              "      <td>A38KK0SZYEH5UD</td>\n",
              "      <td>B00006RVPW</td>\n",
              "      <td>5.0000000</td>\n",
              "      <td>92</td>\n",
              "      <td>10</td>\n",
              "    </tr>\n",
              "    <tr>\n",
              "      <th>209194</th>\n",
              "      <td>AI8EMB0HUC6Z5</td>\n",
              "      <td>B00006RVPW</td>\n",
              "      <td>5.0000000</td>\n",
              "      <td>62</td>\n",
              "      <td>10</td>\n",
              "    </tr>\n",
              "  </tbody>\n",
              "</table>\n",
              "</div>"
            ],
            "text/plain": [
              "                userId   productId    Rating  users_counts  \\\n",
              "208660   AHROSV6WJOEGY  B00006RVPW 5.0000000            50   \n",
              "208913  A3Q4TYJVAM4IRM  B00006RVPW 5.0000000            86   \n",
              "208786  A1CPRP3VFJRS1R  B00006RVPW 5.0000000            64   \n",
              "208259  A38KK0SZYEH5UD  B00006RVPW 5.0000000            92   \n",
              "209194   AI8EMB0HUC6Z5  B00006RVPW 5.0000000            62   \n",
              "\n",
              "        product_rating_counts  \n",
              "208660                     10  \n",
              "208913                     10  \n",
              "208786                     10  \n",
              "208259                     10  \n",
              "209194                     10  "
            ]
          },
          "metadata": {},
          "execution_count": 16
        }
      ]
    },
    {
      "cell_type": "code",
      "metadata": {
        "id": "Zm8tv_0fqjU2",
        "colab": {
          "base_uri": "https://localhost:8080/",
          "height": 339
        },
        "outputId": "2e9fb76a-c610-4cd9-a035-1d4e93adbf1c"
      },
      "source": [
        "no_of_ratings_per_product = product_rating_data.groupby(by='productId')['Rating'].count().sort_values(ascending=False)\n",
        "\n",
        "fig = plt.figure(figsize=plt.figaspect(.5))\n",
        "ax = plt.gca()\n",
        "plt.plot(no_of_ratings_per_product.values)\n",
        "plt.title('# RATINGS per Product')\n",
        "plt.xlabel('Product')\n",
        "plt.ylabel('No of ratings per product')\n",
        "ax.set_xticklabels([])\n",
        "\n",
        "plt.show()"
      ],
      "execution_count": 17,
      "outputs": [
        {
          "output_type": "execute_result",
          "data": {
            "text/plain": [
              "[<matplotlib.lines.Line2D at 0x7fc3ffcf48d0>]"
            ]
          },
          "metadata": {},
          "execution_count": 17
        },
        {
          "output_type": "execute_result",
          "data": {
            "text/plain": [
              "Text(0.5, 1.0, '# RATINGS per Product')"
            ]
          },
          "metadata": {},
          "execution_count": 17
        },
        {
          "output_type": "execute_result",
          "data": {
            "text/plain": [
              "Text(0.5, 0, 'Product')"
            ]
          },
          "metadata": {},
          "execution_count": 17
        },
        {
          "output_type": "execute_result",
          "data": {
            "text/plain": [
              "Text(0, 0.5, 'No of ratings per product')"
            ]
          },
          "metadata": {},
          "execution_count": 17
        },
        {
          "output_type": "execute_result",
          "data": {
            "text/plain": [
              "[]"
            ]
          },
          "metadata": {},
          "execution_count": 17
        },
        {
          "output_type": "display_data",
          "data": {
            "image/png": "[encoded data removed]",
            "text/plain": [
              "<Figure size 576x288 with 1 Axes>"
            ]
          },
          "metadata": {
            "needs_background": "light"
          }
        }
      ]
    },
    {
      "cell_type": "code",
      "metadata": {
        "id": "oF9mSGSYq7d-",
        "colab": {
          "base_uri": "https://localhost:8080/"
        },
        "outputId": "d9360516-b90c-4009-bba1-5b04425c495f"
      },
      "source": [
        "#Average rating of the product \n",
        "\n",
        "product_rating_data.groupby('productId')['Rating'].mean().head()"
      ],
      "execution_count": 18,
      "outputs": [
        {
          "output_type": "execute_result",
          "data": {
            "text/plain": [
              "productId\n",
              "B00004SB92   4.3636364\n",
              "B00004ZCJE   4.3000000\n",
              "B00005LEN4   4.6956522\n",
              "B00005T3G0   4.8181818\n",
              "B00006B7DA   4.2500000\n",
              "Name: Rating, dtype: float64"
            ]
          },
          "metadata": {},
          "execution_count": 18
        }
      ]
    },
    {
      "cell_type": "code",
      "metadata": {
        "id": "det14Bxxq7p2",
        "colab": {
          "base_uri": "https://localhost:8080/"
        },
        "outputId": "459f885d-03e4-4826-f4f5-e605e692acd3"
      },
      "source": [
        "product_rating_data.groupby('productId')['Rating'].mean().sort_values(ascending=False).head()"
      ],
      "execution_count": 19,
      "outputs": [
        {
          "output_type": "execute_result",
          "data": {
            "text/plain": [
              "productId\n",
              "B0000BZL1P   5.0000000\n",
              "B001TH7GUU   4.9473684\n",
              "B00017LSPI   4.9333333\n",
              "B0010Z28XG   4.9166667\n",
              "B002WE6D44   4.9130435\n",
              "Name: Rating, dtype: float64"
            ]
          },
          "metadata": {},
          "execution_count": 19
        }
      ]
    },
    {
      "cell_type": "code",
      "metadata": {
        "id": "RrRTaJ1aq7zG",
        "colab": {
          "base_uri": "https://localhost:8080/"
        },
        "outputId": "3dc4e8cb-6e8d-427a-ecdf-b0f7d2f585ff"
      },
      "source": [
        "#Top Products with maximum ratings of \"5\"\n",
        "\n",
        "product_rating_data.groupby('productId')['Rating'].count().sort_values(ascending=False).head()"
      ],
      "execution_count": 20,
      "outputs": [
        {
          "output_type": "execute_result",
          "data": {
            "text/plain": [
              "productId\n",
              "B002R5AM7C    42\n",
              "B002SQK2F2    33\n",
              "B000JMJWV2    32\n",
              "B000N99BBC    31\n",
              "B00004ZCJE    30\n",
              "Name: Rating, dtype: int64"
            ]
          },
          "metadata": {},
          "execution_count": 20
        }
      ]
    },
    {
      "cell_type": "code",
      "metadata": {
        "id": "P4kktTQYq726",
        "colab": {
          "base_uri": "https://localhost:8080/",
          "height": 235
        },
        "outputId": "df0b305f-9ad9-477a-b501-12cca72bdad7"
      },
      "source": [
        "ratings_mean_count = pd.DataFrame(product_rating_data.groupby('productId')['Rating'].mean())\n",
        "ratings_mean_count['rating_counts'] = pd.DataFrame(product_rating_data.groupby('productId')['Rating'].count())\n",
        "ratings_mean_count.head()"
      ],
      "execution_count": 21,
      "outputs": [
        {
          "output_type": "execute_result",
          "data": {
            "text/html": [
              "<div>\n",
              "<style scoped>\n",
              "    .dataframe tbody tr th:only-of-type {\n",
              "        vertical-align: middle;\n",
              "    }\n",
              "\n",
              "    .dataframe tbody tr th {\n",
              "        vertical-align: top;\n",
              "    }\n",
              "\n",
              "    .dataframe thead th {\n",
              "        text-align: right;\n",
              "    }\n",
              "</style>\n",
              "<table border=\"1\" class=\"dataframe\">\n",
              "  <thead>\n",
              "    <tr style=\"text-align: right;\">\n",
              "      <th></th>\n",
              "      <th>Rating</th>\n",
              "      <th>rating_counts</th>\n",
              "    </tr>\n",
              "    <tr>\n",
              "      <th>productId</th>\n",
              "      <th></th>\n",
              "      <th></th>\n",
              "    </tr>\n",
              "  </thead>\n",
              "  <tbody>\n",
              "    <tr>\n",
              "      <th>B00004SB92</th>\n",
              "      <td>4.3636364</td>\n",
              "      <td>11</td>\n",
              "    </tr>\n",
              "    <tr>\n",
              "      <th>B00004ZCJE</th>\n",
              "      <td>4.3000000</td>\n",
              "      <td>30</td>\n",
              "    </tr>\n",
              "    <tr>\n",
              "      <th>B00005LEN4</th>\n",
              "      <td>4.6956522</td>\n",
              "      <td>23</td>\n",
              "    </tr>\n",
              "    <tr>\n",
              "      <th>B00005T3G0</th>\n",
              "      <td>4.8181818</td>\n",
              "      <td>11</td>\n",
              "    </tr>\n",
              "    <tr>\n",
              "      <th>B00006B7DA</th>\n",
              "      <td>4.2500000</td>\n",
              "      <td>12</td>\n",
              "    </tr>\n",
              "  </tbody>\n",
              "</table>\n",
              "</div>"
            ],
            "text/plain": [
              "              Rating  rating_counts\n",
              "productId                          \n",
              "B00004SB92 4.3636364             11\n",
              "B00004ZCJE 4.3000000             30\n",
              "B00005LEN4 4.6956522             23\n",
              "B00005T3G0 4.8181818             11\n",
              "B00006B7DA 4.2500000             12"
            ]
          },
          "metadata": {},
          "execution_count": 21
        }
      ]
    },
    {
      "cell_type": "code",
      "metadata": {
        "id": "UZ9FZxv5q77f",
        "colab": {
          "base_uri": "https://localhost:8080/",
          "height": 391
        },
        "outputId": "8aec514d-a703-430b-c839-e6ce96f3acb2"
      },
      "source": [
        "plt.figure(figsize=(8,6))\n",
        "plt.rcParams['patch.force_edgecolor'] = True\n",
        "ratings_mean_count['rating_counts'].hist(bins=20)"
      ],
      "execution_count": 22,
      "outputs": [
        {
          "output_type": "execute_result",
          "data": {
            "text/plain": [
              "<Figure size 576x432 with 0 Axes>"
            ]
          },
          "metadata": {},
          "execution_count": 22
        },
        {
          "output_type": "execute_result",
          "data": {
            "text/plain": [
              "<matplotlib.axes._subplots.AxesSubplot at 0x7fc3ffcbb250>"
            ]
          },
          "metadata": {},
          "execution_count": 22
        },
        {
          "output_type": "display_data",
          "data": {
            "image/png": "[encoded data removed]",
            "text/plain": [
              "<Figure size 576x432 with 1 Axes>"
            ]
          },
          "metadata": {
            "needs_background": "light"
          }
        }
      ]
    },
    {
      "cell_type": "markdown",
      "metadata": {
        "id": "BL0MNphx0OVc"
      },
      "source": [
        "**OBSERVATION:**\n",
        "\n",
        "We see that the most customers have reviewed the top 25 products. This leads us to the conclusion that this seems to be the most popular product."
      ]
    },
    {
      "cell_type": "code",
      "metadata": {
        "id": "vHsXvk-aq7-M",
        "colab": {
          "base_uri": "https://localhost:8080/",
          "height": 391
        },
        "outputId": "d8ffec22-5028-42ef-fe6b-56d6a9efc60a"
      },
      "source": [
        "plt.figure(figsize=(8,6))\n",
        "plt.rcParams['patch.force_edgecolor'] = True\n",
        "ratings_mean_count['Rating'].hist(bins=50)"
      ],
      "execution_count": 23,
      "outputs": [
        {
          "output_type": "execute_result",
          "data": {
            "text/plain": [
              "<Figure size 576x432 with 0 Axes>"
            ]
          },
          "metadata": {},
          "execution_count": 23
        },
        {
          "output_type": "execute_result",
          "data": {
            "text/plain": [
              "<matplotlib.axes._subplots.AxesSubplot at 0x7fc3ffc3f610>"
            ]
          },
          "metadata": {},
          "execution_count": 23
        },
        {
          "output_type": "display_data",
          "data": {
            "image/png": "[encoded data removed]",
            "text/plain": [
              "<Figure size 576x432 with 1 Axes>"
            ]
          },
          "metadata": {
            "needs_background": "light"
          }
        }
      ]
    },
    {
      "cell_type": "markdown",
      "metadata": {
        "id": "4nT13Jbh2DcH"
      },
      "source": [
        "**OBSERVATION**\n",
        "\n",
        "Here we see that the items with most ratings seem to be popular and consistently score between Rating \"4\" to Rating \"5\""
      ]
    },
    {
      "cell_type": "code",
      "metadata": {
        "id": "mKsh2tJjq8Bd",
        "colab": {
          "base_uri": "https://localhost:8080/",
          "height": 475
        },
        "outputId": "3495cfc0-0853-4a66-cd3e-56dae908f7c9"
      },
      "source": [
        "# Lets see the data on a jointplot\n",
        "plt.figure(figsize=(8,6))\n",
        "plt.rcParams['patch.force_edgecolor'] = True\n",
        "sns.jointplot(x='Rating', y='rating_counts', data=ratings_mean_count, alpha=0.4)"
      ],
      "execution_count": 24,
      "outputs": [
        {
          "output_type": "execute_result",
          "data": {
            "text/plain": [
              "<Figure size 576x432 with 0 Axes>"
            ]
          },
          "metadata": {},
          "execution_count": 24
        },
        {
          "output_type": "execute_result",
          "data": {
            "text/plain": [
              "<seaborn.axisgrid.JointGrid at 0x7fc3ffcb5310>"
            ]
          },
          "metadata": {},
          "execution_count": 24
        },
        {
          "output_type": "display_data",
          "data": {
            "text/plain": [
              "<Figure size 576x432 with 0 Axes>"
            ]
          },
          "metadata": {}
        },
        {
          "output_type": "display_data",
          "data": {
            "image/png": "[encoded data removed]",
            "text/plain": [
              "<Figure size 432x432 with 3 Axes>"
            ]
          },
          "metadata": {
            "needs_background": "light"
          }
        }
      ]
    },
    {
      "cell_type": "code",
      "metadata": {
        "id": "dIzZtRjqq8Fm",
        "colab": {
          "base_uri": "https://localhost:8080/",
          "height": 355
        },
        "outputId": "3dfa84cd-f0d7-44bb-f682-d23e96689076"
      },
      "source": [
        "popular_products = pd.DataFrame(product_rating_data.groupby('productId')['Rating'].count())\n",
        "most_popular = popular_products.sort_values('Rating', ascending=False)\n",
        "most_popular.head(10).plot(kind = \"bar\")"
      ],
      "execution_count": 25,
      "outputs": [
        {
          "output_type": "execute_result",
          "data": {
            "text/plain": [
              "<matplotlib.axes._subplots.AxesSubplot at 0x7fc3ffba0490>"
            ]
          },
          "metadata": {},
          "execution_count": 25
        },
        {
          "output_type": "display_data",
          "data": {
            "image/png": "[encoded data removed]",
            "text/plain": [
              "<Figure size 432x288 with 1 Axes>"
            ]
          },
          "metadata": {
            "needs_background": "light"
          }
        }
      ]
    },
    {
      "cell_type": "markdown",
      "metadata": {
        "id": "5MWdzzHv3gS0"
      },
      "source": [
        "The above chart shows us the Top 10 Recommended Products based on popularity"
      ]
    },
    {
      "cell_type": "markdown",
      "metadata": {
        "id": "-BKtftcA5gxy"
      },
      "source": [
        "**DATA PREPARATION**\n",
        "\n"
      ]
    },
    {
      "cell_type": "code",
      "metadata": {
        "id": "HZEH4gSOq8Jy"
      },
      "source": [
        "df1=product_rating_data.copy()\n",
        "df2 = df1.drop(['users_counts', 'product_rating_counts'], axis=1)"
      ],
      "execution_count": 26,
      "outputs": []
    },
    {
      "cell_type": "code",
      "metadata": {
        "id": "1nvHvgewq8MB",
        "colab": {
          "base_uri": "https://localhost:8080/",
          "height": 204
        },
        "outputId": "07f1e4eb-0647-47d4-87c6-ca4a50253833"
      },
      "source": [
        "df2.head()"
      ],
      "execution_count": 27,
      "outputs": [
        {
          "output_type": "execute_result",
          "data": {
            "text/html": [
              "<div>\n",
              "<style scoped>\n",
              "    .dataframe tbody tr th:only-of-type {\n",
              "        vertical-align: middle;\n",
              "    }\n",
              "\n",
              "    .dataframe tbody tr th {\n",
              "        vertical-align: top;\n",
              "    }\n",
              "\n",
              "    .dataframe thead th {\n",
              "        text-align: right;\n",
              "    }\n",
              "</style>\n",
              "<table border=\"1\" class=\"dataframe\">\n",
              "  <thead>\n",
              "    <tr style=\"text-align: right;\">\n",
              "      <th></th>\n",
              "      <th>userId</th>\n",
              "      <th>productId</th>\n",
              "      <th>Rating</th>\n",
              "    </tr>\n",
              "  </thead>\n",
              "  <tbody>\n",
              "    <tr>\n",
              "      <th>227983</th>\n",
              "      <td>A17HMM1M7T9PJ1</td>\n",
              "      <td>B00007GQLU</td>\n",
              "      <td>5.0000000</td>\n",
              "    </tr>\n",
              "    <tr>\n",
              "      <th>227685</th>\n",
              "      <td>A1VHCO8RQFIGQJ</td>\n",
              "      <td>B00007GQLU</td>\n",
              "      <td>5.0000000</td>\n",
              "    </tr>\n",
              "    <tr>\n",
              "      <th>227907</th>\n",
              "      <td>A3OA4DV4L81N1D</td>\n",
              "      <td>B00007GQLU</td>\n",
              "      <td>5.0000000</td>\n",
              "    </tr>\n",
              "    <tr>\n",
              "      <th>227909</th>\n",
              "      <td>AAQ9NJ480N9W5</td>\n",
              "      <td>B00007GQLU</td>\n",
              "      <td>4.0000000</td>\n",
              "    </tr>\n",
              "    <tr>\n",
              "      <th>227578</th>\n",
              "      <td>A4WEZJOIZIV4U</td>\n",
              "      <td>B00007GQLU</td>\n",
              "      <td>5.0000000</td>\n",
              "    </tr>\n",
              "  </tbody>\n",
              "</table>\n",
              "</div>"
            ],
            "text/plain": [
              "                userId   productId    Rating\n",
              "227983  A17HMM1M7T9PJ1  B00007GQLU 5.0000000\n",
              "227685  A1VHCO8RQFIGQJ  B00007GQLU 5.0000000\n",
              "227907  A3OA4DV4L81N1D  B00007GQLU 5.0000000\n",
              "227909   AAQ9NJ480N9W5  B00007GQLU 4.0000000\n",
              "227578   A4WEZJOIZIV4U  B00007GQLU 5.0000000"
            ]
          },
          "metadata": {},
          "execution_count": 27
        }
      ]
    },
    {
      "cell_type": "code",
      "metadata": {
        "id": "199celAm7x_8",
        "colab": {
          "base_uri": "https://localhost:8080/"
        },
        "outputId": "0825115d-5a7e-461f-bd48-7ce16235433a"
      },
      "source": [
        "!pip3 install numpy\n",
        "!pip3 install scikit-surprise"
      ],
      "execution_count": 28,
      "outputs": [
        {
          "output_type": "stream",
          "name": "stdout",
          "text": [
            "Requirement already satisfied: numpy in /usr/local/lib/python3.7/dist-packages (1.19.5)\n",
            "Requirement already satisfied: scikit-surprise in /usr/local/lib/python3.7/dist-packages (1.1.1)\n",
            "Requirement already satisfied: joblib>=0.11 in /usr/local/lib/python3.7/dist-packages (from scikit-surprise) (1.0.1)\n",
            "Requirement already satisfied: scipy>=1.0.0 in /usr/local/lib/python3.7/dist-packages (from scikit-surprise) (1.4.1)\n",
            "Requirement already satisfied: six>=1.10.0 in /usr/local/lib/python3.7/dist-packages (from scikit-surprise) (1.15.0)\n",
            "Requirement already satisfied: numpy>=1.11.2 in /usr/local/lib/python3.7/dist-packages (from scikit-surprise) (1.19.5)\n"
          ]
        }
      ]
    },
    {
      "cell_type": "code",
      "metadata": {
        "id": "cwAR5Nrz61bW"
      },
      "source": [
        "from collections import defaultdict\n",
        "from surprise import KNNWithMeans\n",
        "from surprise import SVD, SVDpp\n",
        "from surprise import KNNBaseline\n",
        "from surprise import KNNBasic\n",
        "from surprise import KNNWithZScore\n",
        "from surprise import BaselineOnly\n",
        "from surprise import Dataset\n",
        "from surprise import Reader\n",
        "from surprise import accuracy\n",
        "from surprise.model_selection import train_test_split\n",
        "from surprise.model_selection import cross_validate\n",
        "from surprise.model_selection import KFold\n",
        "from surprise.model_selection import GridSearchCV\n",
        "\n",
        "import time"
      ],
      "execution_count": 29,
      "outputs": []
    },
    {
      "cell_type": "code",
      "metadata": {
        "id": "sJy33egTq8Pv"
      },
      "source": [
        "# Spliting the data randomly into train and test dataset. (Split it in 70/30 ratio)\n",
        "\n",
        "k = 5 \n",
        "#(To Get top - K ( K = 5) recommendations)\n",
        "reader = Reader(rating_scale=(1, 5))\n",
        "surprise_data = Dataset.load_from_df(df2[['userId', 'productId', 'Rating']], reader)\n",
        "trainset, testset = train_test_split(surprise_data, test_size=.30, random_state=7)"
      ],
      "execution_count": 30,
      "outputs": []
    },
    {
      "cell_type": "markdown",
      "metadata": {
        "id": "DHyieHL28TBS"
      },
      "source": [
        "**DATA MODELING**\n",
        "\n",
        "Here we will try two types of Popularity Recommender Models - \n",
        "\n",
        "1) Using Mean Product Rating\n",
        "\n",
        "2) Using Ranking Based Rating"
      ]
    },
    {
      "cell_type": "code",
      "metadata": {
        "id": "7m4dPGSW9Fk5",
        "colab": {
          "base_uri": "https://localhost:8080/"
        },
        "outputId": "c20e5995-9794-491f-ac4b-a1cdf73300bb"
      },
      "source": [
        "# 1) Using Mean Product Rating\n",
        "df2.groupby('productId')['Rating'].mean().head()"
      ],
      "execution_count": 31,
      "outputs": [
        {
          "output_type": "execute_result",
          "data": {
            "text/plain": [
              "productId\n",
              "B00004SB92   4.3636364\n",
              "B00004ZCJE   4.3000000\n",
              "B00005LEN4   4.6956522\n",
              "B00005T3G0   4.8181818\n",
              "B00006B7DA   4.2500000\n",
              "Name: Rating, dtype: float64"
            ]
          },
          "metadata": {},
          "execution_count": 31
        }
      ]
    },
    {
      "cell_type": "code",
      "metadata": {
        "id": "FoUOQsYK9F_f",
        "colab": {
          "base_uri": "https://localhost:8080/"
        },
        "outputId": "4a426bbf-75e5-4e33-f40b-63e8404ee9e7"
      },
      "source": [
        "df2.groupby('productId')['Rating'].mean().sort_values(ascending=False).head()"
      ],
      "execution_count": 32,
      "outputs": [
        {
          "output_type": "execute_result",
          "data": {
            "text/plain": [
              "productId\n",
              "B0000BZL1P   5.0000000\n",
              "B001TH7GUU   4.9473684\n",
              "B00017LSPI   4.9333333\n",
              "B0010Z28XG   4.9166667\n",
              "B002WE6D44   4.9130435\n",
              "Name: Rating, dtype: float64"
            ]
          },
          "metadata": {},
          "execution_count": 32
        }
      ]
    },
    {
      "cell_type": "code",
      "metadata": {
        "id": "Y9FduWyd9y2x",
        "colab": {
          "base_uri": "https://localhost:8080/",
          "height": 235
        },
        "outputId": "019e944a-5fc8-45d1-a5f6-5866e3dcf0a1"
      },
      "source": [
        "prod_rating_count = pd.DataFrame(df2.groupby('productId')['Rating'].mean().sort_values(ascending=False))\n",
        "prod_rating_count['prod_rating_count'] = pd.DataFrame(df2.groupby('productId')['Rating'].count())\n",
        "prod_rating_count.head(k)"
      ],
      "execution_count": 33,
      "outputs": [
        {
          "output_type": "execute_result",
          "data": {
            "text/html": [
              "<div>\n",
              "<style scoped>\n",
              "    .dataframe tbody tr th:only-of-type {\n",
              "        vertical-align: middle;\n",
              "    }\n",
              "\n",
              "    .dataframe tbody tr th {\n",
              "        vertical-align: top;\n",
              "    }\n",
              "\n",
              "    .dataframe thead th {\n",
              "        text-align: right;\n",
              "    }\n",
              "</style>\n",
              "<table border=\"1\" class=\"dataframe\">\n",
              "  <thead>\n",
              "    <tr style=\"text-align: right;\">\n",
              "      <th></th>\n",
              "      <th>Rating</th>\n",
              "      <th>prod_rating_count</th>\n",
              "    </tr>\n",
              "    <tr>\n",
              "      <th>productId</th>\n",
              "      <th></th>\n",
              "      <th></th>\n",
              "    </tr>\n",
              "  </thead>\n",
              "  <tbody>\n",
              "    <tr>\n",
              "      <th>B0000BZL1P</th>\n",
              "      <td>5.0000000</td>\n",
              "      <td>18</td>\n",
              "    </tr>\n",
              "    <tr>\n",
              "      <th>B001TH7GUU</th>\n",
              "      <td>4.9473684</td>\n",
              "      <td>19</td>\n",
              "    </tr>\n",
              "    <tr>\n",
              "      <th>B00017LSPI</th>\n",
              "      <td>4.9333333</td>\n",
              "      <td>15</td>\n",
              "    </tr>\n",
              "    <tr>\n",
              "      <th>B0010Z28XG</th>\n",
              "      <td>4.9166667</td>\n",
              "      <td>12</td>\n",
              "    </tr>\n",
              "    <tr>\n",
              "      <th>B002WE6D44</th>\n",
              "      <td>4.9130435</td>\n",
              "      <td>23</td>\n",
              "    </tr>\n",
              "  </tbody>\n",
              "</table>\n",
              "</div>"
            ],
            "text/plain": [
              "              Rating  prod_rating_count\n",
              "productId                              \n",
              "B0000BZL1P 5.0000000                 18\n",
              "B001TH7GUU 4.9473684                 19\n",
              "B00017LSPI 4.9333333                 15\n",
              "B0010Z28XG 4.9166667                 12\n",
              "B002WE6D44 4.9130435                 23"
            ]
          },
          "metadata": {},
          "execution_count": 33
        }
      ]
    },
    {
      "cell_type": "code",
      "metadata": {
        "id": "TM0PXDAa9zLT",
        "colab": {
          "base_uri": "https://localhost:8080/",
          "height": 235
        },
        "outputId": "638872ea-8b3a-4157-e4a8-eac44b1098a8"
      },
      "source": [
        "basic_poplurity_model = prod_rating_count.sort_values(by=['prod_rating_count'], ascending=False)\n",
        "basic_poplurity_model.head(k)"
      ],
      "execution_count": 34,
      "outputs": [
        {
          "output_type": "execute_result",
          "data": {
            "text/html": [
              "<div>\n",
              "<style scoped>\n",
              "    .dataframe tbody tr th:only-of-type {\n",
              "        vertical-align: middle;\n",
              "    }\n",
              "\n",
              "    .dataframe tbody tr th {\n",
              "        vertical-align: top;\n",
              "    }\n",
              "\n",
              "    .dataframe thead th {\n",
              "        text-align: right;\n",
              "    }\n",
              "</style>\n",
              "<table border=\"1\" class=\"dataframe\">\n",
              "  <thead>\n",
              "    <tr style=\"text-align: right;\">\n",
              "      <th></th>\n",
              "      <th>Rating</th>\n",
              "      <th>prod_rating_count</th>\n",
              "    </tr>\n",
              "    <tr>\n",
              "      <th>productId</th>\n",
              "      <th></th>\n",
              "      <th></th>\n",
              "    </tr>\n",
              "  </thead>\n",
              "  <tbody>\n",
              "    <tr>\n",
              "      <th>B002R5AM7C</th>\n",
              "      <td>4.1428571</td>\n",
              "      <td>42</td>\n",
              "    </tr>\n",
              "    <tr>\n",
              "      <th>B002SQK2F2</th>\n",
              "      <td>3.0303030</td>\n",
              "      <td>33</td>\n",
              "    </tr>\n",
              "    <tr>\n",
              "      <th>B000JMJWV2</th>\n",
              "      <td>4.7187500</td>\n",
              "      <td>32</td>\n",
              "    </tr>\n",
              "    <tr>\n",
              "      <th>B000N99BBC</th>\n",
              "      <td>4.8064516</td>\n",
              "      <td>31</td>\n",
              "    </tr>\n",
              "    <tr>\n",
              "      <th>B00004ZCJE</th>\n",
              "      <td>4.3000000</td>\n",
              "      <td>30</td>\n",
              "    </tr>\n",
              "  </tbody>\n",
              "</table>\n",
              "</div>"
            ],
            "text/plain": [
              "              Rating  prod_rating_count\n",
              "productId                              \n",
              "B002R5AM7C 4.1428571                 42\n",
              "B002SQK2F2 3.0303030                 33\n",
              "B000JMJWV2 4.7187500                 32\n",
              "B000N99BBC 4.8064516                 31\n",
              "B00004ZCJE 4.3000000                 30"
            ]
          },
          "metadata": {},
          "execution_count": 34
        }
      ]
    },
    {
      "cell_type": "markdown",
      "metadata": {
        "id": "wk1gwARf-KgJ"
      },
      "source": [
        "These are the TOP 5 popular products that would be recommended based on Mean Product Rating"
      ]
    },
    {
      "cell_type": "markdown",
      "metadata": {
        "id": "Y23UrgTN-XTB"
      },
      "source": [
        "2) Ranking Based Rating"
      ]
    },
    {
      "cell_type": "code",
      "metadata": {
        "id": "0H1LOLGU9zRR",
        "colab": {
          "base_uri": "https://localhost:8080/",
          "height": 204
        },
        "outputId": "3a44bb25-60d3-4021-e701-42a967cf70f4"
      },
      "source": [
        "df2_grouped = df2.groupby('productId').agg({'userId': 'count'}).reset_index()\n",
        "df2_grouped.rename(columns = {'userId': 'Score'},inplace=True)\n",
        "df2_grouped.head()"
      ],
      "execution_count": 35,
      "outputs": [
        {
          "output_type": "execute_result",
          "data": {
            "text/html": [
              "<div>\n",
              "<style scoped>\n",
              "    .dataframe tbody tr th:only-of-type {\n",
              "        vertical-align: middle;\n",
              "    }\n",
              "\n",
              "    .dataframe tbody tr th {\n",
              "        vertical-align: top;\n",
              "    }\n",
              "\n",
              "    .dataframe thead th {\n",
              "        text-align: right;\n",
              "    }\n",
              "</style>\n",
              "<table border=\"1\" class=\"dataframe\">\n",
              "  <thead>\n",
              "    <tr style=\"text-align: right;\">\n",
              "      <th></th>\n",
              "      <th>productId</th>\n",
              "      <th>Score</th>\n",
              "    </tr>\n",
              "  </thead>\n",
              "  <tbody>\n",
              "    <tr>\n",
              "      <th>0</th>\n",
              "      <td>B00004SB92</td>\n",
              "      <td>11</td>\n",
              "    </tr>\n",
              "    <tr>\n",
              "      <th>1</th>\n",
              "      <td>B00004ZCJE</td>\n",
              "      <td>30</td>\n",
              "    </tr>\n",
              "    <tr>\n",
              "      <th>2</th>\n",
              "      <td>B00005LEN4</td>\n",
              "      <td>23</td>\n",
              "    </tr>\n",
              "    <tr>\n",
              "      <th>3</th>\n",
              "      <td>B00005T3G0</td>\n",
              "      <td>11</td>\n",
              "    </tr>\n",
              "    <tr>\n",
              "      <th>4</th>\n",
              "      <td>B00006B7DA</td>\n",
              "      <td>12</td>\n",
              "    </tr>\n",
              "  </tbody>\n",
              "</table>\n",
              "</div>"
            ],
            "text/plain": [
              "    productId  Score\n",
              "0  B00004SB92     11\n",
              "1  B00004ZCJE     30\n",
              "2  B00005LEN4     23\n",
              "3  B00005T3G0     11\n",
              "4  B00006B7DA     12"
            ]
          },
          "metadata": {},
          "execution_count": 35
        }
      ]
    },
    {
      "cell_type": "code",
      "metadata": {
        "id": "HgiiaLw-9zaj",
        "colab": {
          "base_uri": "https://localhost:8080/",
          "height": 204
        },
        "outputId": "3d663309-2fdc-40db-ec8d-7c87fd8f6b78"
      },
      "source": [
        "#Sort the products on recommendation score \n",
        "df2_sort = df2_grouped.sort_values(['Score', 'productId'], ascending = [0,1]) \n",
        "      \n",
        "#Generate a product rank based upon score \n",
        "df2_sort['Rank'] = df2_sort['Score'].rank(ascending=0, method='first') \n",
        "          \n",
        "#Get the top 5 recommendations \n",
        "popularity_recommendations = df2_sort.head(k) \n",
        "popularity_recommendations "
      ],
      "execution_count": 36,
      "outputs": [
        {
          "output_type": "execute_result",
          "data": {
            "text/html": [
              "<div>\n",
              "<style scoped>\n",
              "    .dataframe tbody tr th:only-of-type {\n",
              "        vertical-align: middle;\n",
              "    }\n",
              "\n",
              "    .dataframe tbody tr th {\n",
              "        vertical-align: top;\n",
              "    }\n",
              "\n",
              "    .dataframe thead th {\n",
              "        text-align: right;\n",
              "    }\n",
              "</style>\n",
              "<table border=\"1\" class=\"dataframe\">\n",
              "  <thead>\n",
              "    <tr style=\"text-align: right;\">\n",
              "      <th></th>\n",
              "      <th>productId</th>\n",
              "      <th>Score</th>\n",
              "      <th>Rank</th>\n",
              "    </tr>\n",
              "  </thead>\n",
              "  <tbody>\n",
              "    <tr>\n",
              "      <th>106</th>\n",
              "      <td>B002R5AM7C</td>\n",
              "      <td>42</td>\n",
              "      <td>1.0000000</td>\n",
              "    </tr>\n",
              "    <tr>\n",
              "      <th>108</th>\n",
              "      <td>B002SQK2F2</td>\n",
              "      <td>33</td>\n",
              "      <td>2.0000000</td>\n",
              "    </tr>\n",
              "    <tr>\n",
              "      <th>37</th>\n",
              "      <td>B000JMJWV2</td>\n",
              "      <td>32</td>\n",
              "      <td>3.0000000</td>\n",
              "    </tr>\n",
              "    <tr>\n",
              "      <th>44</th>\n",
              "      <td>B000N99BBC</td>\n",
              "      <td>31</td>\n",
              "      <td>4.0000000</td>\n",
              "    </tr>\n",
              "    <tr>\n",
              "      <th>1</th>\n",
              "      <td>B00004ZCJE</td>\n",
              "      <td>30</td>\n",
              "      <td>5.0000000</td>\n",
              "    </tr>\n",
              "  </tbody>\n",
              "</table>\n",
              "</div>"
            ],
            "text/plain": [
              "      productId  Score      Rank\n",
              "106  B002R5AM7C     42 1.0000000\n",
              "108  B002SQK2F2     33 2.0000000\n",
              "37   B000JMJWV2     32 3.0000000\n",
              "44   B000N99BBC     31 4.0000000\n",
              "1    B00004ZCJE     30 5.0000000"
            ]
          },
          "metadata": {},
          "execution_count": 36
        }
      ]
    },
    {
      "cell_type": "markdown",
      "metadata": {
        "id": "6xcsXTOdJPfo"
      },
      "source": [
        "**MODEL DEPLOYMENT AND EVALUATION**"
      ]
    },
    {
      "cell_type": "code",
      "metadata": {
        "id": "OaqXUHaN9zio"
      },
      "source": [
        "# Using popularity based recommender model to make predictions and find recommendations for random list of users with inferences\n",
        "\n",
        "import warnings\n",
        "warnings.filterwarnings('ignore')\n",
        "def recommend(userId):     \n",
        "    user_recommendations = popularity_recommendations \n",
        "          \n",
        "    #Adding user_id column for which the recommendations are being generated \n",
        "    user_recommendations['userID'] = userId \n",
        "      \n",
        "    #Bringing user_id column to the front \n",
        "    cols = user_recommendations.columns.tolist() \n",
        "    cols = cols[-1:] + cols[:-1] \n",
        "    user_recommendations = user_recommendations[cols] \n",
        "          \n",
        "    return user_recommendations "
      ],
      "execution_count": 37,
      "outputs": []
    },
    {
      "cell_type": "code",
      "metadata": {
        "id": "tsk0bDvf9zos",
        "colab": {
          "base_uri": "https://localhost:8080/"
        },
        "outputId": "9535fd37-880c-4cb4-fa17-5219735216cc"
      },
      "source": [
        "find_recom = [15,121,55,230,477]   # This list is user choice.\n",
        "for i in find_recom:\n",
        "    print(\"Here is the recommendation for the userId: %d\\n\" %(i))\n",
        "    print(recommend(i))    \n",
        "    print(\"\\n\") "
      ],
      "execution_count": 38,
      "outputs": [
        {
          "output_type": "stream",
          "name": "stdout",
          "text": [
            "Here is the recommendation for the userId: 15\n",
            "\n",
            "     userID   productId  Score      Rank\n",
            "106      15  B002R5AM7C     42 1.0000000\n",
            "108      15  B002SQK2F2     33 2.0000000\n",
            "37       15  B000JMJWV2     32 3.0000000\n",
            "44       15  B000N99BBC     31 4.0000000\n",
            "1        15  B00004ZCJE     30 5.0000000\n",
            "\n",
            "\n",
            "Here is the recommendation for the userId: 121\n",
            "\n",
            "     userID   productId  Score      Rank\n",
            "106     121  B002R5AM7C     42 1.0000000\n",
            "108     121  B002SQK2F2     33 2.0000000\n",
            "37      121  B000JMJWV2     32 3.0000000\n",
            "44      121  B000N99BBC     31 4.0000000\n",
            "1       121  B00004ZCJE     30 5.0000000\n",
            "\n",
            "\n",
            "Here is the recommendation for the userId: 55\n",
            "\n",
            "     userID   productId  Score      Rank\n",
            "106      55  B002R5AM7C     42 1.0000000\n",
            "108      55  B002SQK2F2     33 2.0000000\n",
            "37       55  B000JMJWV2     32 3.0000000\n",
            "44       55  B000N99BBC     31 4.0000000\n",
            "1        55  B00004ZCJE     30 5.0000000\n",
            "\n",
            "\n",
            "Here is the recommendation for the userId: 230\n",
            "\n",
            "     userID   productId  Score      Rank\n",
            "106     230  B002R5AM7C     42 1.0000000\n",
            "108     230  B002SQK2F2     33 2.0000000\n",
            "37      230  B000JMJWV2     32 3.0000000\n",
            "44      230  B000N99BBC     31 4.0000000\n",
            "1       230  B00004ZCJE     30 5.0000000\n",
            "\n",
            "\n",
            "Here is the recommendation for the userId: 477\n",
            "\n",
            "     userID   productId  Score      Rank\n",
            "106     477  B002R5AM7C     42 1.0000000\n",
            "108     477  B002SQK2F2     33 2.0000000\n",
            "37      477  B000JMJWV2     32 3.0000000\n",
            "44      477  B000N99BBC     31 4.0000000\n",
            "1       477  B00004ZCJE     30 5.0000000\n",
            "\n",
            "\n"
          ]
        }
      ]
    },
    {
      "cell_type": "code",
      "metadata": {
        "id": "bBhhKcWkg-CG"
      },
      "source": [
        "import pickle\n",
        "pickle.dump(popularity_recommendations ,open('mostpopular.pkl','wb'))"
      ],
      "execution_count": 39,
      "outputs": []
    },
    {
      "cell_type": "markdown",
      "metadata": {
        "id": "qNfXgiPgHijA"
      },
      "source": [
        "**NOTE:**\n",
        "\n",
        "Since this is a popularity-based recommender model, recommendations remain the same for all users. We predict the products based on the popularity. It is not personalized to the user."
      ]
    },
    {
      "cell_type": "markdown",
      "metadata": {
        "id": "gw5URhGlKEFS"
      },
      "source": [
        "**COLLABORATIVE FILTER MODELLING**\n",
        "\n",
        "We will use the SVD and KNN based modeling to find the closest product to the chosen product and also closest User Profile to the current User Profile\n"
      ]
    },
    {
      "cell_type": "markdown",
      "metadata": {
        "id": "KbgZRy48Sa7M"
      },
      "source": [
        "**SVD**"
      ]
    },
    {
      "cell_type": "code",
      "metadata": {
        "id": "E0pjhw45SfAz",
        "colab": {
          "base_uri": "https://localhost:8080/",
          "height": 304
        },
        "outputId": "2a4b10ea-acda-4d9b-d038-a9d21961bfb8"
      },
      "source": [
        "# Creating Model using best parameters\n",
        "svd_model = SVD(n_epochs=20, lr_all=0.005, reg_all=0.2)\n",
        "\n",
        "# Training the algorithm on the trainset\n",
        "svd_model.fit(trainset)\n",
        "\n",
        "\n",
        "# Predicting for test set\n",
        "predictions_svd = svd_model.test(testset)\n",
        "\n",
        "# Evaluating RMSE, MAE of algorithm SVD on 5 split(s) by cross validation\n",
        "svd_cv = cross_validate(svd_model, surprise_data, measures=['RMSE', 'MAE'], cv=5, verbose=True)\n",
        "\n",
        "# Storing Crossvalidation Results in dataframe\n",
        "svd_df = pd.DataFrame.from_dict(svd_cv)\n",
        "svd_described = svd_df.describe()\n",
        "cv_results = pd.DataFrame([['SVD', svd_described['test_rmse']['mean'], svd_described['test_mae']['mean'], \n",
        "                           svd_described['fit_time']['mean'], svd_described['test_time']['mean']]],\n",
        "                            columns = ['Model', 'RMSE', 'MAE', 'Fit Time', 'Test Time'])\n",
        "# get RMSE\n",
        "print(\"\\n\\n==================== Model Evaluation ===============================\")\n",
        "accuracy.rmse(predictions_svd, verbose=True)\n",
        "print(\"=====================================================================\")\n",
        "cv_results"
      ],
      "execution_count": 40,
      "outputs": [
        {
          "output_type": "execute_result",
          "data": {
            "text/plain": [
              "<surprise.prediction_algorithms.matrix_factorization.SVD at 0x7fc3fe6e3590>"
            ]
          },
          "metadata": {},
          "execution_count": 40
        },
        {
          "output_type": "stream",
          "name": "stdout",
          "text": [
            "Evaluating RMSE, MAE of algorithm SVD on 5 split(s).\n",
            "\n",
            "                  Fold 1  Fold 2  Fold 3  Fold 4  Fold 5  Mean    Std     \n",
            "RMSE (testset)    0.9104  0.8368  0.8515  0.8121  0.8485  0.8518  0.0324  \n",
            "MAE (testset)     0.6530  0.6158  0.6268  0.6091  0.6229  0.6255  0.0150  \n",
            "Fit time          0.08    0.09    0.08    0.08    0.08    0.08    0.00    \n",
            "Test time         0.00    0.00    0.00    0.00    0.00    0.00    0.00    \n",
            "\n",
            "\n",
            "==================== Model Evaluation ===============================\n",
            "RMSE: 0.8215\n"
          ]
        },
        {
          "output_type": "execute_result",
          "data": {
            "text/plain": [
              "0.8215117998229464"
            ]
          },
          "metadata": {},
          "execution_count": 40
        },
        {
          "output_type": "stream",
          "name": "stdout",
          "text": [
            "=====================================================================\n"
          ]
        },
        {
          "output_type": "execute_result",
          "data": {
            "text/html": [
              "<div>\n",
              "<style scoped>\n",
              "    .dataframe tbody tr th:only-of-type {\n",
              "        vertical-align: middle;\n",
              "    }\n",
              "\n",
              "    .dataframe tbody tr th {\n",
              "        vertical-align: top;\n",
              "    }\n",
              "\n",
              "    .dataframe thead th {\n",
              "        text-align: right;\n",
              "    }\n",
              "</style>\n",
              "<table border=\"1\" class=\"dataframe\">\n",
              "  <thead>\n",
              "    <tr style=\"text-align: right;\">\n",
              "      <th></th>\n",
              "      <th>Model</th>\n",
              "      <th>RMSE</th>\n",
              "      <th>MAE</th>\n",
              "      <th>Fit Time</th>\n",
              "      <th>Test Time</th>\n",
              "    </tr>\n",
              "  </thead>\n",
              "  <tbody>\n",
              "    <tr>\n",
              "      <th>0</th>\n",
              "      <td>SVD</td>\n",
              "      <td>0.8518489</td>\n",
              "      <td>0.6254990</td>\n",
              "      <td>0.0783845</td>\n",
              "      <td>0.0028490</td>\n",
              "    </tr>\n",
              "  </tbody>\n",
              "</table>\n",
              "</div>"
            ],
            "text/plain": [
              "  Model      RMSE       MAE  Fit Time  Test Time\n",
              "0   SVD 0.8518489 0.6254990 0.0783845  0.0028490"
            ]
          },
          "metadata": {},
          "execution_count": 40
        }
      ]
    },
    {
      "cell_type": "markdown",
      "metadata": {
        "id": "LDXaIcHXS_vs"
      },
      "source": [
        "**Comment:** Here we can see that the RMSE of testset and complete dataset found from cross_validation is almost same and it seems like our model is performing well on trainset and testset."
      ]
    },
    {
      "cell_type": "markdown",
      "metadata": {
        "id": "bLYX-c1bTE9W"
      },
      "source": [
        "**SVD++**"
      ]
    },
    {
      "cell_type": "code",
      "metadata": {
        "id": "nbFjLXlPTTlp",
        "colab": {
          "base_uri": "https://localhost:8080/",
          "height": 335
        },
        "outputId": "6e9f070d-0dc5-4b05-b245-b7713f209b0f"
      },
      "source": [
        "# Creating Model using best parameters\n",
        "svdpp_model = SVDpp(n_epochs=25, lr_all=0.01, reg_all=0.4)\n",
        "\n",
        "# Training the algorithm on the trainset\n",
        "svdpp_model.fit(trainset)\n",
        "\n",
        "\n",
        "# Predicting for test set\n",
        "predictions_svdpp = svdpp_model.test(testset)\n",
        "\n",
        "# Evaluating RMSE, MAE of algorithm SVDpp on 5 split(s) by cross validation\n",
        "svdpp_cv = cross_validate(svdpp_model, surprise_data, measures=['RMSE', 'MAE'], cv=5, verbose=True)\n",
        "\n",
        "# Storing Crossvalidation Results in dataframe\n",
        "svdpp_df = pd.DataFrame.from_dict(svdpp_cv)\n",
        "svdpp_described = svdpp_df.describe()\n",
        "svdpp_cv_results = pd.DataFrame([['SVD++', svdpp_described['test_rmse']['mean'], svdpp_described['test_mae']['mean'], \n",
        "                           svdpp_described['fit_time']['mean'], svdpp_described['test_time']['mean']]],\n",
        "                            columns = ['Model', 'RMSE', 'MAE', 'Fit Time', 'Test Time'])\n",
        "\n",
        "cv_results = cv_results.append(svdpp_cv_results, ignore_index=True)\n",
        "# get RMSE\n",
        "print(\"\\n\\n==================== Model Evaluation ===============================\")\n",
        "accuracy.rmse(predictions_svdpp, verbose=True)\n",
        "print(\"=====================================================================\")\n",
        "cv_results"
      ],
      "execution_count": 41,
      "outputs": [
        {
          "output_type": "execute_result",
          "data": {
            "text/plain": [
              "<surprise.prediction_algorithms.matrix_factorization.SVDpp at 0x7fc3fe5e0a10>"
            ]
          },
          "metadata": {},
          "execution_count": 41
        },
        {
          "output_type": "stream",
          "name": "stdout",
          "text": [
            "Evaluating RMSE, MAE of algorithm SVDpp on 5 split(s).\n",
            "\n",
            "                  Fold 1  Fold 2  Fold 3  Fold 4  Fold 5  Mean    Std     \n",
            "RMSE (testset)    0.8819  0.8248  0.9259  0.8108  0.8538  0.8594  0.0413  \n",
            "MAE (testset)     0.6351  0.5983  0.6622  0.5971  0.6237  0.6233  0.0243  \n",
            "Fit time          0.36    0.39    0.36    0.34    0.33    0.36    0.02    \n",
            "Test time         0.02    0.02    0.01    0.01    0.01    0.01    0.01    \n",
            "\n",
            "\n",
            "==================== Model Evaluation ===============================\n",
            "RMSE: 0.8158\n"
          ]
        },
        {
          "output_type": "execute_result",
          "data": {
            "text/plain": [
              "0.8158033820451317"
            ]
          },
          "metadata": {},
          "execution_count": 41
        },
        {
          "output_type": "stream",
          "name": "stdout",
          "text": [
            "=====================================================================\n"
          ]
        },
        {
          "output_type": "execute_result",
          "data": {
            "text/html": [
              "<div>\n",
              "<style scoped>\n",
              "    .dataframe tbody tr th:only-of-type {\n",
              "        vertical-align: middle;\n",
              "    }\n",
              "\n",
              "    .dataframe tbody tr th {\n",
              "        vertical-align: top;\n",
              "    }\n",
              "\n",
              "    .dataframe thead th {\n",
              "        text-align: right;\n",
              "    }\n",
              "</style>\n",
              "<table border=\"1\" class=\"dataframe\">\n",
              "  <thead>\n",
              "    <tr style=\"text-align: right;\">\n",
              "      <th></th>\n",
              "      <th>Model</th>\n",
              "      <th>RMSE</th>\n",
              "      <th>MAE</th>\n",
              "      <th>Fit Time</th>\n",
              "      <th>Test Time</th>\n",
              "    </tr>\n",
              "  </thead>\n",
              "  <tbody>\n",
              "    <tr>\n",
              "      <th>0</th>\n",
              "      <td>SVD</td>\n",
              "      <td>0.8518489</td>\n",
              "      <td>0.6254990</td>\n",
              "      <td>0.0783845</td>\n",
              "      <td>0.0028490</td>\n",
              "    </tr>\n",
              "    <tr>\n",
              "      <th>1</th>\n",
              "      <td>SVD++</td>\n",
              "      <td>0.8594328</td>\n",
              "      <td>0.6232726</td>\n",
              "      <td>0.3554513</td>\n",
              "      <td>0.0122289</td>\n",
              "    </tr>\n",
              "  </tbody>\n",
              "</table>\n",
              "</div>"
            ],
            "text/plain": [
              "   Model      RMSE       MAE  Fit Time  Test Time\n",
              "0    SVD 0.8518489 0.6254990 0.0783845  0.0028490\n",
              "1  SVD++ 0.8594328 0.6232726 0.3554513  0.0122289"
            ]
          },
          "metadata": {},
          "execution_count": 41
        }
      ]
    },
    {
      "cell_type": "markdown",
      "metadata": {
        "id": "axMvqYEjLtH-"
      },
      "source": [
        "**KNN BASIC**"
      ]
    },
    {
      "cell_type": "code",
      "metadata": {
        "id": "6QHB7xHqLxTf",
        "colab": {
          "base_uri": "https://localhost:8080/"
        },
        "outputId": "1e59136d-5507-4e7d-cc0d-a62663ec5eb1"
      },
      "source": [
        "knn_param_grid = {'bsl_options': {'method': ['als', 'sgd'],\n",
        "                              'reg': [1, 2]},\n",
        "              'k': [15, 20, 25, 30, 40, 50, 60],\n",
        "              'sim_options': {'name': ['msd', 'cosine', 'pearson_baseline']}\n",
        "              }\n",
        "\n",
        "knnbasic_gs = GridSearchCV(KNNBasic, knn_param_grid, measures=['rmse', 'mae'], cv=5, n_jobs=5)\n",
        "knnmeans_gs = GridSearchCV(KNNWithMeans, knn_param_grid, measures=['rmse', 'mae'], cv=5, n_jobs=5)\n",
        "knnz_gs     = GridSearchCV(KNNWithZScore, knn_param_grid, measures=['rmse', 'mae'], cv=5, n_jobs=5)\n",
        "\n",
        "\n",
        "knnbasic_gs.fit(surprise_data)\n",
        "knnmeans_gs.fit(surprise_data)\n",
        "knnz_gs.fit(surprise_data)\n",
        "\n",
        "# best RMSE score\n",
        "print(knnbasic_gs.best_score['rmse'])\n",
        "print(knnmeans_gs.best_score['rmse'])\n",
        "print(knnz_gs.best_score['rmse'])\n",
        "\n",
        "# combination of parameters that gave the best RMSE score\n",
        "print(knnbasic_gs.best_params['rmse'])\n",
        "print(knnmeans_gs.best_params['rmse'])\n",
        "print(knnz_gs.best_params['rmse'])\n",
        "\n"
      ],
      "execution_count": 42,
      "outputs": [
        {
          "output_type": "stream",
          "name": "stdout",
          "text": [
            "0.9679174494750619\n",
            "0.9641826619952528\n",
            "0.9959425619990286\n",
            "{'bsl_options': {'method': 'sgd', 'reg': 2}, 'k': 15, 'sim_options': {'name': 'pearson_baseline', 'user_based': True}}\n",
            "{'bsl_options': {'method': 'als', 'reg': 1}, 'k': 30, 'sim_options': {'name': 'cosine', 'user_based': True}}\n",
            "{'bsl_options': {'method': 'als', 'reg': 1}, 'k': 25, 'sim_options': {'name': 'cosine', 'user_based': True}}\n"
          ]
        }
      ]
    },
    {
      "cell_type": "code",
      "metadata": {
        "id": "YVP7nggCLxaH",
        "colab": {
          "base_uri": "https://localhost:8080/",
          "height": 570
        },
        "outputId": "17680cd1-2fb7-44df-9847-3daa5049d3ff"
      },
      "source": [
        "# Creating Model using best parameters\n",
        "knnBasic_model = KNNBasic(k=50, sim_options={'name': 'cosine', 'user_based': False})\n",
        "\n",
        "# Training the algorithm on the trainset\n",
        "knnBasic_model.fit(trainset)\n",
        "\n",
        "# Predicting for test set\n",
        "prediction_knnBasic = knnBasic_model.test(testset)\n",
        "\n",
        "# Evaluating RMSE, MAE of algorithm KNNBasic on 5 split(s)\n",
        "knnBasic_cv = cross_validate(knnBasic_model, surprise_data, measures=['RMSE', 'MAE'], cv=5, verbose=True)\n",
        "\n",
        "# Storing Crossvalidation Results in dataframe\n",
        "knnBasic_df = pd.DataFrame.from_dict(knnBasic_cv)\n",
        "knnBasic_described = knnBasic_df.describe()\n",
        "knnBasic_cv_results = pd.DataFrame([['KNNBasic', knnBasic_described['test_rmse']['mean'], knnBasic_described['test_mae']['mean'], knnBasic_described['fit_time']['mean'], knnBasic_described['test_time']['mean']]],\n",
        "columns = ['Model', 'RMSE', 'MAE', 'Fit Time', 'Test Time'])\n",
        "cv_results = cv_results.append(knnBasic_cv_results, ignore_index=True)\n",
        "\n",
        "# get RMSE\n",
        "print(\"\\n\\n==================== Model Evaluation ===============================\")\n",
        "accuracy.rmse(prediction_knnBasic, verbose=True)\n",
        "print(\"=====================================================================\")\n",
        "cv_results\n"
      ],
      "execution_count": 43,
      "outputs": [
        {
          "output_type": "stream",
          "name": "stdout",
          "text": [
            "Computing the cosine similarity matrix...\n",
            "Done computing similarity matrix.\n"
          ]
        },
        {
          "output_type": "execute_result",
          "data": {
            "text/plain": [
              "<surprise.prediction_algorithms.knns.KNNBasic at 0x7fc3ffaaaed0>"
            ]
          },
          "metadata": {},
          "execution_count": 43
        },
        {
          "output_type": "stream",
          "name": "stdout",
          "text": [
            "Computing the cosine similarity matrix...\n",
            "Done computing similarity matrix.\n",
            "Computing the cosine similarity matrix...\n",
            "Done computing similarity matrix.\n",
            "Computing the cosine similarity matrix...\n",
            "Done computing similarity matrix.\n",
            "Computing the cosine similarity matrix...\n",
            "Done computing similarity matrix.\n",
            "Computing the cosine similarity matrix...\n",
            "Done computing similarity matrix.\n",
            "Evaluating RMSE, MAE of algorithm KNNBasic on 5 split(s).\n",
            "\n",
            "                  Fold 1  Fold 2  Fold 3  Fold 4  Fold 5  Mean    Std     \n",
            "RMSE (testset)    0.9742  1.0384  1.0746  0.9801  1.0207  1.0176  0.0374  \n",
            "MAE (testset)     0.6670  0.7044  0.7027  0.6788  0.6720  0.6850  0.0156  \n",
            "Fit time          0.00    0.00    0.00    0.00    0.00    0.00    0.00    \n",
            "Test time         0.01    0.01    0.01    0.01    0.01    0.01    0.00    \n",
            "\n",
            "\n",
            "==================== Model Evaluation ===============================\n",
            "RMSE: 1.0119\n"
          ]
        },
        {
          "output_type": "execute_result",
          "data": {
            "text/plain": [
              "1.0119168692862568"
            ]
          },
          "metadata": {},
          "execution_count": 43
        },
        {
          "output_type": "stream",
          "name": "stdout",
          "text": [
            "=====================================================================\n"
          ]
        },
        {
          "output_type": "execute_result",
          "data": {
            "text/html": [
              "<div>\n",
              "<style scoped>\n",
              "    .dataframe tbody tr th:only-of-type {\n",
              "        vertical-align: middle;\n",
              "    }\n",
              "\n",
              "    .dataframe tbody tr th {\n",
              "        vertical-align: top;\n",
              "    }\n",
              "\n",
              "    .dataframe thead th {\n",
              "        text-align: right;\n",
              "    }\n",
              "</style>\n",
              "<table border=\"1\" class=\"dataframe\">\n",
              "  <thead>\n",
              "    <tr style=\"text-align: right;\">\n",
              "      <th></th>\n",
              "      <th>Model</th>\n",
              "      <th>RMSE</th>\n",
              "      <th>MAE</th>\n",
              "      <th>Fit Time</th>\n",
              "      <th>Test Time</th>\n",
              "    </tr>\n",
              "  </thead>\n",
              "  <tbody>\n",
              "    <tr>\n",
              "      <th>0</th>\n",
              "      <td>SVD</td>\n",
              "      <td>0.8518489</td>\n",
              "      <td>0.6254990</td>\n",
              "      <td>0.0783845</td>\n",
              "      <td>0.0028490</td>\n",
              "    </tr>\n",
              "    <tr>\n",
              "      <th>1</th>\n",
              "      <td>SVD++</td>\n",
              "      <td>0.8594328</td>\n",
              "      <td>0.6232726</td>\n",
              "      <td>0.3554513</td>\n",
              "      <td>0.0122289</td>\n",
              "    </tr>\n",
              "    <tr>\n",
              "      <th>2</th>\n",
              "      <td>KNNBasic</td>\n",
              "      <td>1.0176245</td>\n",
              "      <td>0.6849967</td>\n",
              "      <td>0.0045937</td>\n",
              "      <td>0.0055417</td>\n",
              "    </tr>\n",
              "  </tbody>\n",
              "</table>\n",
              "</div>"
            ],
            "text/plain": [
              "      Model      RMSE       MAE  Fit Time  Test Time\n",
              "0       SVD 0.8518489 0.6254990 0.0783845  0.0028490\n",
              "1     SVD++ 0.8594328 0.6232726 0.3554513  0.0122289\n",
              "2  KNNBasic 1.0176245 0.6849967 0.0045937  0.0055417"
            ]
          },
          "metadata": {},
          "execution_count": 43
        }
      ]
    },
    {
      "cell_type": "markdown",
      "metadata": {
        "id": "Fn_kzijQQfn1"
      },
      "source": [
        "**KNNWithZScore**"
      ]
    },
    {
      "cell_type": "code",
      "metadata": {
        "id": "T-yYX0QiLxf3",
        "colab": {
          "base_uri": "https://localhost:8080/",
          "height": 601
        },
        "outputId": "f03ea13b-7c8f-4560-ddce-8909060422d4"
      },
      "source": [
        "# Creating Model using best parameters\n",
        "knnZscore_model = KNNWithZScore(k=60, sim_options={'name': 'cosine', 'user_based': False})\n",
        "\n",
        "# Training the algorithm on the trainset\n",
        "knnZscore_model.fit(trainset)\n",
        "\n",
        "# Predicting for testset\n",
        "prediction_knnZscore = knnZscore_model.test(testset)\n",
        "\n",
        "# Evaluating RMSE, MAE of algorithm KNNWithZScore on 5 split(s)\n",
        "knnZscore_cv = cross_validate(knnZscore_model, surprise_data, measures=['RMSE', 'MAE'], cv=5, verbose=True)\n",
        "\n",
        "# Storing Crossvalidation Results in dataframe\n",
        "knnZscore_df = pd.DataFrame.from_dict(knnZscore_cv)\n",
        "knnZscore_described = knnZscore_df.describe()\n",
        "knnZscore_cv_results = pd.DataFrame([['KNNWithZScore', knnZscore_described['test_rmse']['mean'], knnZscore_described['test_mae']['mean'], \n",
        "                           knnZscore_described['fit_time']['mean'], knnZscore_described['test_time']['mean']]],\n",
        "                            columns = ['Model', 'RMSE', 'MAE', 'Fit Time', 'Test Time'])\n",
        "\n",
        "cv_results = cv_results.append(knnZscore_cv_results, ignore_index=True)\n",
        "# get RMSE\n",
        "print(\"\\n\\n==================== Model Evaluation ===============================\")\n",
        "accuracy.rmse(prediction_knnZscore, verbose=True)\n",
        "print(\"=====================================================================\")\n",
        "cv_results"
      ],
      "execution_count": 44,
      "outputs": [
        {
          "output_type": "stream",
          "name": "stdout",
          "text": [
            "Computing the cosine similarity matrix...\n",
            "Done computing similarity matrix.\n"
          ]
        },
        {
          "output_type": "execute_result",
          "data": {
            "text/plain": [
              "<surprise.prediction_algorithms.knns.KNNWithZScore at 0x7fc3fe3f5150>"
            ]
          },
          "metadata": {},
          "execution_count": 44
        },
        {
          "output_type": "stream",
          "name": "stdout",
          "text": [
            "Computing the cosine similarity matrix...\n",
            "Done computing similarity matrix.\n",
            "Computing the cosine similarity matrix...\n",
            "Done computing similarity matrix.\n",
            "Computing the cosine similarity matrix...\n",
            "Done computing similarity matrix.\n",
            "Computing the cosine similarity matrix...\n",
            "Done computing similarity matrix.\n",
            "Computing the cosine similarity matrix...\n",
            "Done computing similarity matrix.\n",
            "Evaluating RMSE, MAE of algorithm KNNWithZScore on 5 split(s).\n",
            "\n",
            "                  Fold 1  Fold 2  Fold 3  Fold 4  Fold 5  Mean    Std     \n",
            "RMSE (testset)    0.9457  0.9272  0.9978  0.9496  0.9339  0.9509  0.0248  \n",
            "MAE (testset)     0.6390  0.6234  0.6722  0.6433  0.6216  0.6399  0.0183  \n",
            "Fit time          0.01    0.01    0.01    0.01    0.01    0.01    0.00    \n",
            "Test time         0.01    0.01    0.01    0.01    0.01    0.01    0.00    \n",
            "\n",
            "\n",
            "==================== Model Evaluation ===============================\n",
            "RMSE: 0.9617\n"
          ]
        },
        {
          "output_type": "execute_result",
          "data": {
            "text/plain": [
              "0.9617047967586995"
            ]
          },
          "metadata": {},
          "execution_count": 44
        },
        {
          "output_type": "stream",
          "name": "stdout",
          "text": [
            "=====================================================================\n"
          ]
        },
        {
          "output_type": "execute_result",
          "data": {
            "text/html": [
              "<div>\n",
              "<style scoped>\n",
              "    .dataframe tbody tr th:only-of-type {\n",
              "        vertical-align: middle;\n",
              "    }\n",
              "\n",
              "    .dataframe tbody tr th {\n",
              "        vertical-align: top;\n",
              "    }\n",
              "\n",
              "    .dataframe thead th {\n",
              "        text-align: right;\n",
              "    }\n",
              "</style>\n",
              "<table border=\"1\" class=\"dataframe\">\n",
              "  <thead>\n",
              "    <tr style=\"text-align: right;\">\n",
              "      <th></th>\n",
              "      <th>Model</th>\n",
              "      <th>RMSE</th>\n",
              "      <th>MAE</th>\n",
              "      <th>Fit Time</th>\n",
              "      <th>Test Time</th>\n",
              "    </tr>\n",
              "  </thead>\n",
              "  <tbody>\n",
              "    <tr>\n",
              "      <th>0</th>\n",
              "      <td>SVD</td>\n",
              "      <td>0.8518489</td>\n",
              "      <td>0.6254990</td>\n",
              "      <td>0.0783845</td>\n",
              "      <td>0.0028490</td>\n",
              "    </tr>\n",
              "    <tr>\n",
              "      <th>1</th>\n",
              "      <td>SVD++</td>\n",
              "      <td>0.8594328</td>\n",
              "      <td>0.6232726</td>\n",
              "      <td>0.3554513</td>\n",
              "      <td>0.0122289</td>\n",
              "    </tr>\n",
              "    <tr>\n",
              "      <th>2</th>\n",
              "      <td>KNNBasic</td>\n",
              "      <td>1.0176245</td>\n",
              "      <td>0.6849967</td>\n",
              "      <td>0.0045937</td>\n",
              "      <td>0.0055417</td>\n",
              "    </tr>\n",
              "    <tr>\n",
              "      <th>3</th>\n",
              "      <td>KNNWithZScore</td>\n",
              "      <td>0.9508509</td>\n",
              "      <td>0.6398952</td>\n",
              "      <td>0.0113291</td>\n",
              "      <td>0.0088645</td>\n",
              "    </tr>\n",
              "  </tbody>\n",
              "</table>\n",
              "</div>"
            ],
            "text/plain": [
              "           Model      RMSE       MAE  Fit Time  Test Time\n",
              "0            SVD 0.8518489 0.6254990 0.0783845  0.0028490\n",
              "1          SVD++ 0.8594328 0.6232726 0.3554513  0.0122289\n",
              "2       KNNBasic 1.0176245 0.6849967 0.0045937  0.0055417\n",
              "3  KNNWithZScore 0.9508509 0.6398952 0.0113291  0.0088645"
            ]
          },
          "metadata": {},
          "execution_count": 44
        }
      ]
    },
    {
      "cell_type": "markdown",
      "metadata": {
        "id": "oNArtAJWQ7gw"
      },
      "source": [
        "**KNNWithMeans User-User**"
      ]
    },
    {
      "cell_type": "code",
      "metadata": {
        "id": "XJY2S2vDLxkw",
        "colab": {
          "base_uri": "https://localhost:8080/",
          "height": 632
        },
        "outputId": "2ad6f838-8747-48eb-ceaf-70e56f3e8efe"
      },
      "source": [
        "# Creating Model using best parameters\n",
        "knnMeansUU_model = KNNWithMeans(k=60, sim_options={'name': 'cosine', 'user_based': True})\n",
        "\n",
        "# Training the algorithm on the trainset\n",
        "knnMeansUU_model.fit(trainset)\n",
        "\n",
        "# Predicting for testset\n",
        "prediction_knnMeansUU = knnMeansUU_model.test(testset)\n",
        "\n",
        "# Evaluating RMSE, MAE of algorithm KNNWithMeans User-User on 5 split(s)\n",
        "knnMeansUU_cv = cross_validate(knnMeansUU_model, surprise_data, measures=['RMSE', 'MAE'], cv=5, verbose=True)\n",
        "\n",
        "# Storing Crossvalidation Results in dataframe\n",
        "knnMeansUU_df = pd.DataFrame.from_dict(knnMeansUU_cv)\n",
        "knnMeansUU_described = knnMeansUU_df.describe()\n",
        "knnMeansUU_cv_results = pd.DataFrame([['KNNWithMeans User-User', knnMeansUU_described['test_rmse']['mean'], knnMeansUU_described['test_mae']['mean'], \n",
        "                           knnMeansUU_described['fit_time']['mean'], knnMeansUU_described['test_time']['mean']]],\n",
        "                            columns = ['Model', 'RMSE', 'MAE', 'Fit Time', 'Test Time'])\n",
        "\n",
        "cv_results = cv_results.append(knnMeansUU_cv_results, ignore_index=True)\n",
        "# get RMSE\n",
        "print(\"\\n\\n==================== Model Evaluation ===============================\")\n",
        "accuracy.rmse(prediction_knnMeansUU, verbose=True)\n",
        "print(\"=====================================================================\")\n",
        "cv_results"
      ],
      "execution_count": 45,
      "outputs": [
        {
          "output_type": "stream",
          "name": "stdout",
          "text": [
            "Computing the cosine similarity matrix...\n",
            "Done computing similarity matrix.\n"
          ]
        },
        {
          "output_type": "execute_result",
          "data": {
            "text/plain": [
              "<surprise.prediction_algorithms.knns.KNNWithMeans at 0x7fc3fe30d8d0>"
            ]
          },
          "metadata": {},
          "execution_count": 45
        },
        {
          "output_type": "stream",
          "name": "stdout",
          "text": [
            "Computing the cosine similarity matrix...\n",
            "Done computing similarity matrix.\n",
            "Computing the cosine similarity matrix...\n",
            "Done computing similarity matrix.\n",
            "Computing the cosine similarity matrix...\n",
            "Done computing similarity matrix.\n",
            "Computing the cosine similarity matrix...\n",
            "Done computing similarity matrix.\n",
            "Computing the cosine similarity matrix...\n",
            "Done computing similarity matrix.\n",
            "Evaluating RMSE, MAE of algorithm KNNWithMeans on 5 split(s).\n",
            "\n",
            "                  Fold 1  Fold 2  Fold 3  Fold 4  Fold 5  Mean    Std     \n",
            "RMSE (testset)    0.9918  0.8054  1.0512  0.9409  0.9828  0.9544  0.0824  \n",
            "MAE (testset)     0.6629  0.5855  0.7205  0.6670  0.6366  0.6545  0.0440  \n",
            "Fit time          0.01    0.02    0.02    0.01    0.01    0.01    0.00    \n",
            "Test time         0.01    0.01    0.01    0.01    0.01    0.01    0.00    \n",
            "\n",
            "\n",
            "==================== Model Evaluation ===============================\n",
            "RMSE: 0.9262\n"
          ]
        },
        {
          "output_type": "execute_result",
          "data": {
            "text/plain": [
              "0.9262069504005537"
            ]
          },
          "metadata": {},
          "execution_count": 45
        },
        {
          "output_type": "stream",
          "name": "stdout",
          "text": [
            "=====================================================================\n"
          ]
        },
        {
          "output_type": "execute_result",
          "data": {
            "text/html": [
              "<div>\n",
              "<style scoped>\n",
              "    .dataframe tbody tr th:only-of-type {\n",
              "        vertical-align: middle;\n",
              "    }\n",
              "\n",
              "    .dataframe tbody tr th {\n",
              "        vertical-align: top;\n",
              "    }\n",
              "\n",
              "    .dataframe thead th {\n",
              "        text-align: right;\n",
              "    }\n",
              "</style>\n",
              "<table border=\"1\" class=\"dataframe\">\n",
              "  <thead>\n",
              "    <tr style=\"text-align: right;\">\n",
              "      <th></th>\n",
              "      <th>Model</th>\n",
              "      <th>RMSE</th>\n",
              "      <th>MAE</th>\n",
              "      <th>Fit Time</th>\n",
              "      <th>Test Time</th>\n",
              "    </tr>\n",
              "  </thead>\n",
              "  <tbody>\n",
              "    <tr>\n",
              "      <th>0</th>\n",
              "      <td>SVD</td>\n",
              "      <td>0.8518489</td>\n",
              "      <td>0.6254990</td>\n",
              "      <td>0.0783845</td>\n",
              "      <td>0.0028490</td>\n",
              "    </tr>\n",
              "    <tr>\n",
              "      <th>1</th>\n",
              "      <td>SVD++</td>\n",
              "      <td>0.8594328</td>\n",
              "      <td>0.6232726</td>\n",
              "      <td>0.3554513</td>\n",
              "      <td>0.0122289</td>\n",
              "    </tr>\n",
              "    <tr>\n",
              "      <th>2</th>\n",
              "      <td>KNNBasic</td>\n",
              "      <td>1.0176245</td>\n",
              "      <td>0.6849967</td>\n",
              "      <td>0.0045937</td>\n",
              "      <td>0.0055417</td>\n",
              "    </tr>\n",
              "    <tr>\n",
              "      <th>3</th>\n",
              "      <td>KNNWithZScore</td>\n",
              "      <td>0.9508509</td>\n",
              "      <td>0.6398952</td>\n",
              "      <td>0.0113291</td>\n",
              "      <td>0.0088645</td>\n",
              "    </tr>\n",
              "    <tr>\n",
              "      <th>4</th>\n",
              "      <td>KNNWithMeans User-User</td>\n",
              "      <td>0.9544208</td>\n",
              "      <td>0.6544960</td>\n",
              "      <td>0.0148889</td>\n",
              "      <td>0.0095836</td>\n",
              "    </tr>\n",
              "  </tbody>\n",
              "</table>\n",
              "</div>"
            ],
            "text/plain": [
              "                    Model      RMSE       MAE  Fit Time  Test Time\n",
              "0                     SVD 0.8518489 0.6254990 0.0783845  0.0028490\n",
              "1                   SVD++ 0.8594328 0.6232726 0.3554513  0.0122289\n",
              "2                KNNBasic 1.0176245 0.6849967 0.0045937  0.0055417\n",
              "3           KNNWithZScore 0.9508509 0.6398952 0.0113291  0.0088645\n",
              "4  KNNWithMeans User-User 0.9544208 0.6544960 0.0148889  0.0095836"
            ]
          },
          "metadata": {},
          "execution_count": 45
        }
      ]
    },
    {
      "cell_type": "markdown",
      "metadata": {
        "id": "yhqJf4GGRSbf"
      },
      "source": [
        "**KNNWithMeans Item-Item**"
      ]
    },
    {
      "cell_type": "code",
      "metadata": {
        "id": "JkZapqyhLxrU",
        "colab": {
          "base_uri": "https://localhost:8080/",
          "height": 663
        },
        "outputId": "59390b1c-2b89-407a-c555-73fa5f203344"
      },
      "source": [
        "# Creating Model using best parameters\n",
        "knnMeansII_model = KNNWithMeans(k=60, sim_options={'name': 'cosine', 'user_based': False})\n",
        "\n",
        "# Training the algorithm on the trainset\n",
        "knnMeansII_model.fit(trainset)\n",
        "\n",
        "# Predicting for testset\n",
        "prediction_knnMeansII = knnMeansII_model.test(testset)\n",
        "\n",
        "# Evaluating RMSE, MAE of algorithm KNNWithMeans Item-Item on 5 split(s)\n",
        "knnMeansII_cv = cross_validate(knnMeansII_model, surprise_data, measures=['RMSE', 'MAE'], cv=5, verbose=True)\n",
        "\n",
        "# Storing Crossvalidation Results in dataframe\n",
        "knnMeansII_df = pd.DataFrame.from_dict(knnMeansII_cv)\n",
        "knnMeansII_described = knnMeansII_df.describe()\n",
        "knnMeansII_cv_results = pd.DataFrame([['KNNWithMeans Item-Item', knnMeansII_described['test_rmse']['mean'], knnMeansII_described['test_mae']['mean'], \n",
        "                           knnMeansII_described['fit_time']['mean'], knnMeansII_described['test_time']['mean']]],\n",
        "                            columns = ['Model', 'RMSE', 'MAE', 'Fit Time', 'Test Time'])\n",
        "\n",
        "cv_results = cv_results.append(knnMeansII_cv_results, ignore_index=True)\n",
        "\n",
        "# get RMSE\n",
        "print(\"\\n\\n==================== Model Evaluation ===============================\")\n",
        "accuracy.rmse(prediction_knnMeansII, verbose=True)\n",
        "print(\"=====================================================================\")\n",
        "cv_results"
      ],
      "execution_count": 46,
      "outputs": [
        {
          "output_type": "stream",
          "name": "stdout",
          "text": [
            "Computing the cosine similarity matrix...\n",
            "Done computing similarity matrix.\n"
          ]
        },
        {
          "output_type": "execute_result",
          "data": {
            "text/plain": [
              "<surprise.prediction_algorithms.knns.KNNWithMeans at 0x7fc3fe2a30d0>"
            ]
          },
          "metadata": {},
          "execution_count": 46
        },
        {
          "output_type": "stream",
          "name": "stdout",
          "text": [
            "Computing the cosine similarity matrix...\n",
            "Done computing similarity matrix.\n",
            "Computing the cosine similarity matrix...\n",
            "Done computing similarity matrix.\n",
            "Computing the cosine similarity matrix...\n",
            "Done computing similarity matrix.\n",
            "Computing the cosine similarity matrix...\n",
            "Done computing similarity matrix.\n",
            "Computing the cosine similarity matrix...\n",
            "Done computing similarity matrix.\n",
            "Evaluating RMSE, MAE of algorithm KNNWithMeans on 5 split(s).\n",
            "\n",
            "                  Fold 1  Fold 2  Fold 3  Fold 4  Fold 5  Mean    Std     \n",
            "RMSE (testset)    0.9617  0.8721  0.9435  0.8923  1.0336  0.9406  0.0568  \n",
            "MAE (testset)     0.6739  0.6131  0.6683  0.6023  0.6567  0.6429  0.0295  \n",
            "Fit time          0.01    0.01    0.01    0.01    0.01    0.01    0.00    \n",
            "Test time         0.01    0.01    0.01    0.01    0.01    0.01    0.00    \n",
            "\n",
            "\n",
            "==================== Model Evaluation ===============================\n",
            "RMSE: 0.9053\n"
          ]
        },
        {
          "output_type": "execute_result",
          "data": {
            "text/plain": [
              "0.9053276867702928"
            ]
          },
          "metadata": {},
          "execution_count": 46
        },
        {
          "output_type": "stream",
          "name": "stdout",
          "text": [
            "=====================================================================\n"
          ]
        },
        {
          "output_type": "execute_result",
          "data": {
            "text/html": [
              "<div>\n",
              "<style scoped>\n",
              "    .dataframe tbody tr th:only-of-type {\n",
              "        vertical-align: middle;\n",
              "    }\n",
              "\n",
              "    .dataframe tbody tr th {\n",
              "        vertical-align: top;\n",
              "    }\n",
              "\n",
              "    .dataframe thead th {\n",
              "        text-align: right;\n",
              "    }\n",
              "</style>\n",
              "<table border=\"1\" class=\"dataframe\">\n",
              "  <thead>\n",
              "    <tr style=\"text-align: right;\">\n",
              "      <th></th>\n",
              "      <th>Model</th>\n",
              "      <th>RMSE</th>\n",
              "      <th>MAE</th>\n",
              "      <th>Fit Time</th>\n",
              "      <th>Test Time</th>\n",
              "    </tr>\n",
              "  </thead>\n",
              "  <tbody>\n",
              "    <tr>\n",
              "      <th>0</th>\n",
              "      <td>SVD</td>\n",
              "      <td>0.8518489</td>\n",
              "      <td>0.6254990</td>\n",
              "      <td>0.0783845</td>\n",
              "      <td>0.0028490</td>\n",
              "    </tr>\n",
              "    <tr>\n",
              "      <th>1</th>\n",
              "      <td>SVD++</td>\n",
              "      <td>0.8594328</td>\n",
              "      <td>0.6232726</td>\n",
              "      <td>0.3554513</td>\n",
              "      <td>0.0122289</td>\n",
              "    </tr>\n",
              "    <tr>\n",
              "      <th>2</th>\n",
              "      <td>KNNBasic</td>\n",
              "      <td>1.0176245</td>\n",
              "      <td>0.6849967</td>\n",
              "      <td>0.0045937</td>\n",
              "      <td>0.0055417</td>\n",
              "    </tr>\n",
              "    <tr>\n",
              "      <th>3</th>\n",
              "      <td>KNNWithZScore</td>\n",
              "      <td>0.9508509</td>\n",
              "      <td>0.6398952</td>\n",
              "      <td>0.0113291</td>\n",
              "      <td>0.0088645</td>\n",
              "    </tr>\n",
              "    <tr>\n",
              "      <th>4</th>\n",
              "      <td>KNNWithMeans User-User</td>\n",
              "      <td>0.9544208</td>\n",
              "      <td>0.6544960</td>\n",
              "      <td>0.0148889</td>\n",
              "      <td>0.0095836</td>\n",
              "    </tr>\n",
              "    <tr>\n",
              "      <th>5</th>\n",
              "      <td>KNNWithMeans Item-Item</td>\n",
              "      <td>0.9406418</td>\n",
              "      <td>0.6428714</td>\n",
              "      <td>0.0082927</td>\n",
              "      <td>0.0070587</td>\n",
              "    </tr>\n",
              "  </tbody>\n",
              "</table>\n",
              "</div>"
            ],
            "text/plain": [
              "                    Model      RMSE       MAE  Fit Time  Test Time\n",
              "0                     SVD 0.8518489 0.6254990 0.0783845  0.0028490\n",
              "1                   SVD++ 0.8594328 0.6232726 0.3554513  0.0122289\n",
              "2                KNNBasic 1.0176245 0.6849967 0.0045937  0.0055417\n",
              "3           KNNWithZScore 0.9508509 0.6398952 0.0113291  0.0088645\n",
              "4  KNNWithMeans User-User 0.9544208 0.6544960 0.0148889  0.0095836\n",
              "5  KNNWithMeans Item-Item 0.9406418 0.6428714 0.0082927  0.0070587"
            ]
          },
          "metadata": {},
          "execution_count": 46
        }
      ]
    },
    {
      "cell_type": "markdown",
      "metadata": {
        "id": "DPyeDQm0U9ui"
      },
      "source": [
        "**COMPARING ALL RMSE AND MAE ACROSS MODELS**"
      ]
    },
    {
      "cell_type": "code",
      "metadata": {
        "id": "5BeZST8kLxxO",
        "colab": {
          "base_uri": "https://localhost:8080/",
          "height": 1000
        },
        "outputId": "daf5d4d1-5322-475b-a563-8df7f784e5a4"
      },
      "source": [
        "x_algo = ['KNN Basic', 'KNNWithMeans-User-User', 'KNNWithMeans-Item-Item', 'KNN ZScore', 'SVD', 'SVD++']\n",
        "all_algos_cv = [knnBasic_cv, knnMeansUU_cv, knnMeansII_cv, knnZscore_cv, svd_cv, svdpp_cv]\n",
        "\n",
        "rmse_cv = [round(res['test_rmse'].mean(), 4) for res in all_algos_cv]\n",
        "mae_cv  = [round(res['test_mae'].mean(), 4) for res in all_algos_cv]\n",
        "\n",
        "plt.figure(figsize=(20,15))\n",
        "\n",
        "plt.subplot(2, 1, 1)\n",
        "plt.title('Comparison of Algorithms on RMSE', loc='center', fontsize=15)\n",
        "plt.plot(x_algo, rmse_cv, label='RMSE', color='darkgreen', marker='o')\n",
        "plt.xlabel('Algorithms', fontsize=15)\n",
        "plt.ylabel('RMSE Value', fontsize=15)\n",
        "plt.legend()\n",
        "plt.grid(ls='dashed')\n",
        "\n",
        "plt.subplot(2, 1, 2)\n",
        "plt.title('Comparison of Algorithms on MAE', loc='center', fontsize=15)\n",
        "plt.plot(x_algo, mae_cv, label='MAE', color='navy', marker='o')\n",
        "plt.xlabel('Algorithms', fontsize=15)\n",
        "plt.ylabel('MAE Value', fontsize=15)\n",
        "plt.legend()\n",
        "plt.grid(ls='dashed')\n",
        "\n",
        "plt.show()\n",
        "\n",
        "cv_results\n"
      ],
      "execution_count": 47,
      "outputs": [
        {
          "output_type": "execute_result",
          "data": {
            "text/plain": [
              "<Figure size 1440x1080 with 0 Axes>"
            ]
          },
          "metadata": {},
          "execution_count": 47
        },
        {
          "output_type": "execute_result",
          "data": {
            "text/plain": [
              "<matplotlib.axes._subplots.AxesSubplot at 0x7fc3fe30f1d0>"
            ]
          },
          "metadata": {},
          "execution_count": 47
        },
        {
          "output_type": "execute_result",
          "data": {
            "text/plain": [
              "Text(0.5, 1.0, 'Comparison of Algorithms on RMSE')"
            ]
          },
          "metadata": {},
          "execution_count": 47
        },
        {
          "output_type": "execute_result",
          "data": {
            "text/plain": [
              "[<matplotlib.lines.Line2D at 0x7fc3fe509750>]"
            ]
          },
          "metadata": {},
          "execution_count": 47
        },
        {
          "output_type": "execute_result",
          "data": {
            "text/plain": [
              "Text(0.5, 0, 'Algorithms')"
            ]
          },
          "metadata": {},
          "execution_count": 47
        },
        {
          "output_type": "execute_result",
          "data": {
            "text/plain": [
              "Text(0, 0.5, 'RMSE Value')"
            ]
          },
          "metadata": {},
          "execution_count": 47
        },
        {
          "output_type": "execute_result",
          "data": {
            "text/plain": [
              "<matplotlib.legend.Legend at 0x7fc3ff93ca50>"
            ]
          },
          "metadata": {},
          "execution_count": 47
        },
        {
          "output_type": "execute_result",
          "data": {
            "text/plain": [
              "<matplotlib.axes._subplots.AxesSubplot at 0x7fc3fe509cd0>"
            ]
          },
          "metadata": {},
          "execution_count": 47
        },
        {
          "output_type": "execute_result",
          "data": {
            "text/plain": [
              "Text(0.5, 1.0, 'Comparison of Algorithms on MAE')"
            ]
          },
          "metadata": {},
          "execution_count": 47
        },
        {
          "output_type": "execute_result",
          "data": {
            "text/plain": [
              "[<matplotlib.lines.Line2D at 0x7fc3fe293fd0>]"
            ]
          },
          "metadata": {},
          "execution_count": 47
        },
        {
          "output_type": "execute_result",
          "data": {
            "text/plain": [
              "Text(0.5, 0, 'Algorithms')"
            ]
          },
          "metadata": {},
          "execution_count": 47
        },
        {
          "output_type": "execute_result",
          "data": {
            "text/plain": [
              "Text(0, 0.5, 'MAE Value')"
            ]
          },
          "metadata": {},
          "execution_count": 47
        },
        {
          "output_type": "execute_result",
          "data": {
            "text/plain": [
              "<matplotlib.legend.Legend at 0x7fc3fe4bdf50>"
            ]
          },
          "metadata": {},
          "execution_count": 47
        },
        {
          "output_type": "display_data",
          "data": {
            "image/png": "[encoded data removed]",
            "text/plain": [
              "<Figure size 1440x1080 with 2 Axes>"
            ]
          },
          "metadata": {
            "needs_background": "light"
          }
        },
        {
          "output_type": "execute_result",
          "data": {
            "text/html": [
              "<div>\n",
              "<style scoped>\n",
              "    .dataframe tbody tr th:only-of-type {\n",
              "        vertical-align: middle;\n",
              "    }\n",
              "\n",
              "    .dataframe tbody tr th {\n",
              "        vertical-align: top;\n",
              "    }\n",
              "\n",
              "    .dataframe thead th {\n",
              "        text-align: right;\n",
              "    }\n",
              "</style>\n",
              "<table border=\"1\" class=\"dataframe\">\n",
              "  <thead>\n",
              "    <tr style=\"text-align: right;\">\n",
              "      <th></th>\n",
              "      <th>Model</th>\n",
              "      <th>RMSE</th>\n",
              "      <th>MAE</th>\n",
              "      <th>Fit Time</th>\n",
              "      <th>Test Time</th>\n",
              "    </tr>\n",
              "  </thead>\n",
              "  <tbody>\n",
              "    <tr>\n",
              "      <th>0</th>\n",
              "      <td>SVD</td>\n",
              "      <td>0.8518489</td>\n",
              "      <td>0.6254990</td>\n",
              "      <td>0.0783845</td>\n",
              "      <td>0.0028490</td>\n",
              "    </tr>\n",
              "    <tr>\n",
              "      <th>1</th>\n",
              "      <td>SVD++</td>\n",
              "      <td>0.8594328</td>\n",
              "      <td>0.6232726</td>\n",
              "      <td>0.3554513</td>\n",
              "      <td>0.0122289</td>\n",
              "    </tr>\n",
              "    <tr>\n",
              "      <th>2</th>\n",
              "      <td>KNNBasic</td>\n",
              "      <td>1.0176245</td>\n",
              "      <td>0.6849967</td>\n",
              "      <td>0.0045937</td>\n",
              "      <td>0.0055417</td>\n",
              "    </tr>\n",
              "    <tr>\n",
              "      <th>3</th>\n",
              "      <td>KNNWithZScore</td>\n",
              "      <td>0.9508509</td>\n",
              "      <td>0.6398952</td>\n",
              "      <td>0.0113291</td>\n",
              "      <td>0.0088645</td>\n",
              "    </tr>\n",
              "    <tr>\n",
              "      <th>4</th>\n",
              "      <td>KNNWithMeans User-User</td>\n",
              "      <td>0.9544208</td>\n",
              "      <td>0.6544960</td>\n",
              "      <td>0.0148889</td>\n",
              "      <td>0.0095836</td>\n",
              "    </tr>\n",
              "    <tr>\n",
              "      <th>5</th>\n",
              "      <td>KNNWithMeans Item-Item</td>\n",
              "      <td>0.9406418</td>\n",
              "      <td>0.6428714</td>\n",
              "      <td>0.0082927</td>\n",
              "      <td>0.0070587</td>\n",
              "    </tr>\n",
              "  </tbody>\n",
              "</table>\n",
              "</div>"
            ],
            "text/plain": [
              "                    Model      RMSE       MAE  Fit Time  Test Time\n",
              "0                     SVD 0.8518489 0.6254990 0.0783845  0.0028490\n",
              "1                   SVD++ 0.8594328 0.6232726 0.3554513  0.0122289\n",
              "2                KNNBasic 1.0176245 0.6849967 0.0045937  0.0055417\n",
              "3           KNNWithZScore 0.9508509 0.6398952 0.0113291  0.0088645\n",
              "4  KNNWithMeans User-User 0.9544208 0.6544960 0.0148889  0.0095836\n",
              "5  KNNWithMeans Item-Item 0.9406418 0.6428714 0.0082927  0.0070587"
            ]
          },
          "metadata": {},
          "execution_count": 47
        }
      ]
    },
    {
      "cell_type": "markdown",
      "metadata": {
        "id": "6te0or5tVYiL"
      },
      "source": [
        "**MODEL EVALUATION:**\n",
        "\n",
        "From above algorithm comparisons plots we can infer the followings:\n",
        "\n",
        "1.   RMSE : we can see that SVD++ is giving the best RMSE values\n",
        "2.   MAE : Here SVD++ and KNNWithMean-User-User both are giving the best MAE value\n",
        "3.   SVD++ is showing the best RMSE in Matrix Factorization Based Algorithms.\n",
        "4.   KNNWithMeans is giving the best RMSE in Collaborative Filtering Algorithms.\n",
        "5.  If compare SVD and SVD++ then can notice that RMSE and MAE value of SVD is slightly differs from the SVD++ but the Fit Time and Test Time taken by SVD is significant less(12 times) than SVD++. So, we will proceed with SVD got get top-k recommendations\n"
      ]
    },
    {
      "cell_type": "markdown",
      "metadata": {
        "id": "2N_7JdxZYuST"
      },
      "source": [
        "**MODEL DEPLOYMENT**"
      ]
    },
    {
      "cell_type": "code",
      "metadata": {
        "id": "_bTzP2IsLx28",
        "colab": {
          "base_uri": "https://localhost:8080/"
        },
        "outputId": "9c962687-c4bb-4cf5-d4cf-006a3afcfc20"
      },
      "source": [
        "top_n = defaultdict(list)\n",
        "def get_top_n(predictions, n=k):\n",
        "    # First map the predictions to each user.\n",
        "    top_n = defaultdict(list)\n",
        "    for uid, iid, true_r, est, _ in predictions:\n",
        "        top_n[uid].append((iid, est))\n",
        "\n",
        "    # Then sort the predictions for each user and retrieve the k highest ones.\n",
        "    for uid, user_ratings in top_n.items():\n",
        "        user_ratings.sort(key=lambda x: x[1], reverse=True)\n",
        "        top_n[uid] = user_ratings[:n]\n",
        "\n",
        "    return top_n\n",
        "\n",
        "top_n = get_top_n(predictions_svd, n=k)\n",
        "top_n"
      ],
      "execution_count": 48,
      "outputs": [
        {
          "output_type": "execute_result",
          "data": {
            "text/plain": [
              "defaultdict(list,\n",
              "            {'A100WO06OQR8BQ': [('B000VX6XL6', 4.591005426671877),\n",
              "              ('B00006RVPW', 4.37711750033731)],\n",
              "             'A10Y058K7B96C6': [('B001GS8FZ2', 4.06040938649935),\n",
              "              ('B001CHHVCU', 3.8021055994004405)],\n",
              "             'A11KZ906QD08C5': [('B002WE6D44', 4.915421865966979),\n",
              "              ('B00006I53S', 4.437220347936598),\n",
              "              ('B000L47AHG', 4.3150332529511095)],\n",
              "             'A12DQZKRKTNF5E': [('B002WE6D44', 4.817363034736411),\n",
              "              ('B0002L5R78', 4.537866664136031),\n",
              "              ('B001E1Y5O6', 4.426262274259822)],\n",
              "             'A141OPVE376YFI': [('B002WE6D44', 4.923897099634615),\n",
              "              ('B000U5TUWE', 4.341327716362755),\n",
              "              ('B000TG4BA0', 4.059261644468197)],\n",
              "             'A1435P5AMCPB3X': [('B000M17AVO', 4.51117801760781)],\n",
              "             'A149RNR5RH19YY': [('B001F51G16', 4.722928095701712),\n",
              "              ('B00007KDVI', 4.067215153828369)],\n",
              "             'A14JBDSWKPKTZA': [('B001TH7GVE', 4.890051172294455),\n",
              "              ('B00007KDVI', 3.9867418463161535)],\n",
              "             'A15QYHQH80W30L': [('B000HJPK2C', 4.453780645126737),\n",
              "              ('B000TKHBDK', 4.335368151969852)],\n",
              "             'A17BUUBOU0598B': [('B000JMJWV2', 4.116012006687388),\n",
              "              ('B000TKHBDK', 4.03622789324457),\n",
              "              ('B002SQK2F2', 2.958302297002938)],\n",
              "             'A17HMM1M7T9PJ1': [('B0010Z28XG', 4.661549882250662),\n",
              "              ('B00007GQLU', 4.4787239802313765),\n",
              "              ('B00109Y2DQ', 4.410541434433631)],\n",
              "             'A18HE80910BTZI': [('B00077AA5Q', 4.4036763648584545),\n",
              "              ('B0025VKUQQ', 4.36402354077515),\n",
              "              ('B002SQK2F2', 3.1238330198364204)],\n",
              "             'A18S2VGUH9SCV5': [('B002C7481G', 4.632346855282151),\n",
              "              ('B001T9NUJE', 4.52250751182679),\n",
              "              ('B0002L5R78', 4.4059743217426215),\n",
              "              ('B000V1MLBE', 4.246445057527038)],\n",
              "             'A19RGDJPNZ7NZ': [('B001LK8P14', 4.345965890985623)],\n",
              "             'A19W47CXJJP1MI': [('B002VPE1Z2', 4.349032932630687)],\n",
              "             'A19X4BF861LQST': [('B00109Y2DQ', 4.465510373685037),\n",
              "              ('B000MX48VM', 4.408028321628866),\n",
              "              ('B000BQ7GW8', 4.374448660183542)],\n",
              "             'A19XMHRB3G4DIR': [('B000N99BBC', 4.824926879888969),\n",
              "              ('B002SZEOLG', 4.554907441628749)],\n",
              "             'A1BT6TL7UCIC5Y': [('B002R5AM7C', 4.190443826427325),\n",
              "              ('B001GS8FZ2', 4.00390510898224)],\n",
              "             'A1CPRP3VFJRS1R': [('B002HWRJY4', 4.19561200833374),\n",
              "              ('B0002L5R78', 3.975156986539997)],\n",
              "             'A1E55W6ES0FY17': [('B00009XVCZ', 4.484704959640889),\n",
              "              ('B000V1MLBE', 4.242515383182104)],\n",
              "             'A1EH2S92FHWZRP': [('B000M2GYF6', 4.710576382741208),\n",
              "              ('B000Q8UAWY', 4.708271696332092),\n",
              "              ('B002IC0YL8', 4.395196471705367)],\n",
              "             'A1EKSETIBS9ETQ': [('B000M17AVO', 4.360169807943285)],\n",
              "             'A1EXGL6L0QQ0M5': [('B000JE7GPY', 4.449703624855523),\n",
              "              ('B002QEBMAK', 4.363853428162012),\n",
              "              ('B002HWRJBM', 4.237275181379071),\n",
              "              ('B00004ZCJE', 4.2283082653458886)],\n",
              "             'A1F1A0QQP2XVH5': [('B00017LSPI', 4.605875730639609),\n",
              "              ('B0013FRNKG', 4.296319414336875)],\n",
              "             'A1F9Z42CFF9IAY': [('B001UI2FPE', 4.469648285450871),\n",
              "              ('B000AZ57M6', 4.431056314890638),\n",
              "              ('B000M17AVO', 4.26427757444141),\n",
              "              ('B00009R6TA', 4.085176563497231)],\n",
              "             'A1H98YV5K5BUX0': [('B0000BZL1P', 4.769184670830326),\n",
              "              ('B000TXZIDM', 4.365834806691173)],\n",
              "             'A1IU7S4HCK1XK0': [('B000N99BBC', 4.882816859098323)],\n",
              "             'A1J75JJ0Q2OEJN': [('B002SQK2F2', 3.5072885156914735)],\n",
              "             'A1JUBRIZMO0RJV': [('B001GS8FZ2', 3.8998396839829095)],\n",
              "             'A1KKE6VX8VPWZK': [('B001FWBUUG', 4.717806172870923),\n",
              "              ('B002R5AM7C', 4.421517477231266),\n",
              "              ('B00275XTSQ', 4.206454502771798)],\n",
              "             'A1KXJCXS6HFRQZ': [('B00077AA5Q', 4.507521221799261),\n",
              "              ('B0025VKUQQ', 4.217759374485599),\n",
              "              ('B002HWRJBM', 4.150045498207136),\n",
              "              ('B001DULYZG', 3.9381360023924983),\n",
              "              ('B002KC55OM', 3.9375624985123236)],\n",
              "             'A1MFVAHTT2BHM0': [('B000S5Q9CA', 4.527718989202194),\n",
              "              ('B00005T3G0', 4.507920335191831),\n",
              "              ('B001F51G16', 4.423628863075709),\n",
              "              ('B002QEBMAK', 4.380690647976241)],\n",
              "             'A1MJMYLRTZ76ZX': [('B002C7481G', 4.488246013538883),\n",
              "              ('B000BKJZ9Q', 4.443700598859404),\n",
              "              ('B00004ZCJE', 4.280733607193356)],\n",
              "             'A1NNMOD9H36Q8E': [('B000HGIWN4', 4.2390696938430255)],\n",
              "             'A1ODOGXEYECQQ8': [('B000VX6XL6', 4.731098935601761),\n",
              "              ('B0011NVMO8', 4.725867597926084),\n",
              "              ('B000LRMS66', 4.560189137905091),\n",
              "              ('B001TUYTZM', 4.503960763475691),\n",
              "              ('B0007QKMQY', 4.48550793342677)],\n",
              "             'A1P3DDFL423B3C': [('B000A6PPOK', 4.474881976756303)],\n",
              "             'A1PL7QILVQV3IF': [('B000JE7GPY', 4.195314504676187),\n",
              "              ('B001TK3ACA', 4.094197883212313)],\n",
              "             'A1PV5T5S4D5NPI': [('B0019EHU8G', 4.931160641038824)],\n",
              "             'A1QNYLBG73QRNF': [('B00009XVCZ', 4.735453103437061),\n",
              "              ('B001G5ZTLS', 4.400883710365523),\n",
              "              ('B00006I53S', 4.306520640723515),\n",
              "              ('B001CHHVCU', 3.963126514072216)],\n",
              "             'A1QQA7Y92L4F9R': [('B000Q8UAWY', 4.658229886368391),\n",
              "              ('B0000BVYTV', 4.55872564826382)],\n",
              "             'A1QVFHPY8418HC': [('B000V1MLBE', 4.5785970901679764)],\n",
              "             'A1RPTVW5VEOSI': [('B002J9HBIO', 4.426345035291266)],\n",
              "             'A1SB9BNNGKNX2Z': [('B00017LSPI', 4.7733031669101385),\n",
              "              ('B002R5AM7C', 4.423881841609093)],\n",
              "             'A1SHHQSPOWR00F': [('B00007EDZG', 3.850906704256653)],\n",
              "             'A1T1YSCDW0PD25': [('B001F51G16', 4.552687080610216),\n",
              "              ('B002J9HBIO', 4.373349449995211),\n",
              "              ('B000U5TUWE', 4.363291748284586)],\n",
              "             'A1TDR7Y90SVCHL': [('B002WE6D44', 4.757958794348393)],\n",
              "             'A1TQZUSOU22E9M': [('B00005LEN4', 4.803399840369832),\n",
              "              ('B001DULYZG', 4.444150288096148),\n",
              "              ('B002UT42UI', 4.369821786568068)],\n",
              "             'A1UEL5C1N6E5SE': [('B000JMJWV2', 4.486897990153917)],\n",
              "             'A1V4VVBQBFXRHC': [('B000KO0GY6', 4.50298197513913),\n",
              "              ('B00316263Y', 4.478431217269388),\n",
              "              ('B00275XTSQ', 4.248667278578125)],\n",
              "             'A1VHCO8RQFIGQJ': [('B002WE6D44', 4.84096061914953),\n",
              "              ('B0019EHU8G', 4.683330584946422),\n",
              "              ('B000JMJWV2', 4.643236512121933),\n",
              "              ('B00007GQLU', 4.616721498542575),\n",
              "              ('B002J9HBIO', 4.575239574809808)],\n",
              "             'A1VLVWTLV3LVHR': [('B002R5AM7C', 3.9439489649581487),\n",
              "              ('B001CHHVCU', 3.5729349054746757)],\n",
              "             'A1VQHH85U7PX0': [('B0025VKUQQ', 4.713012502039955),\n",
              "              ('B000L47AHG', 4.658915195956712),\n",
              "              ('B00109Y2DQ', 4.650209223147583),\n",
              "              ('B00004ZCJE', 4.510783056365462),\n",
              "              ('B000TXZIDM', 4.491305603008616)],\n",
              "             'A1VTCSCH8FFC76': [('B00066IJPQ', 3.784176088458854)],\n",
              "             'A1VVRA3P6G1TWH': [('B00009XVCZ', 4.545293755826933),\n",
              "              ('B0007QKMQY', 4.518956486984503),\n",
              "              ('B00004ZCJE', 4.398807637879429)],\n",
              "             'A1X2LENOF84LCQ': [('B000Q8UAWY', 4.23353853331526),\n",
              "              ('B002HWRJY4', 4.169622354501289),\n",
              "              ('B002O3W2OI', 3.472637779037293),\n",
              "              ('B002SQK2F2', 3.083417142241706)],\n",
              "             'A1Z16630QMH8Q6': [('B000HPV3RW', 4.822598350651453)],\n",
              "             'A1ZM846Y7AUYD': [('B000NP3DJW', 4.618645046559167),\n",
              "              ('B002SQK2F2', 3.2824880291283987)],\n",
              "             'A203OCQQ12MAVT': [('B002KC55OM', 4.373141942741378),\n",
              "              ('B002R5AM7C', 4.326130349640235),\n",
              "              ('B0028Y4CWI', 3.9673167596445222),\n",
              "              ('B002SQK2F2', 3.5927418148393766)],\n",
              "             'A20DZX38KRBIT8': [('B00007KDVI', 3.425122203114832)],\n",
              "             'A212MDP6K4VJS5': [('B002SZEOLG', 4.72457642190513),\n",
              "              ('B00005LEN4', 4.717026300605893),\n",
              "              ('B000HGIWN4', 4.631439957310334)],\n",
              "             'A21T0D2F7SKG5S': [('B002SZEOLG', 4.280691731021131),\n",
              "              ('B00006JN3G', 4.076527933996505)],\n",
              "             'A225G2TFM76GYX': [('B001TANZ0W', 4.80674952306418),\n",
              "              ('B001F7AHOG', 4.396956595862127),\n",
              "              ('B001FA1NK0', 4.393060085118017),\n",
              "              ('B002R5AM7C', 4.377117049286917),\n",
              "              ('B002SQK2F2', 3.554225919837038)],\n",
              "             'A22CW0ZHY3NJH8': [('B000JMJWV2', 4.570462638615886)],\n",
              "             'A23GFTVIETX7DS': [('B002C7481G', 4.654793961850036),\n",
              "              ('B0002CPBWI', 4.490325969211653),\n",
              "              ('B002UT42UI', 4.320999223871102),\n",
              "              ('B001CHHVCU', 4.067866774657104)],\n",
              "             'A23NSKTMSPPBTR': [('B001S4OTS6', 4.370318210196272),\n",
              "              ('B000N99BBC', 4.337020441977361),\n",
              "              ('B0034CL2ZI', 4.320166387506426)],\n",
              "             'A250AXLRBVYKB4': [('B002V88HFE', 4.867177885982952),\n",
              "              ('B00005LEN4', 4.7522061977333765),\n",
              "              ('B0019EHU8G', 4.746211690237015),\n",
              "              ('B000Q8UAWY', 4.714919204440449),\n",
              "              ('B001TH7GSW', 4.477986215105776)],\n",
              "             'A259MPG6SOL02P': [('B002WE4HE2', 4.250330373327386)],\n",
              "             'A25C2M3QF9G7OQ': [('B0011NVMO8', 4.696650858164925),\n",
              "              ('B00006I53S', 4.6377898088185985)],\n",
              "             'A25FL6VLD7S23S': [('B001F51G16', 4.692578935570036)],\n",
              "             'A27B1U3OWCU14J': [('B000FBK3QK', 4.33000075794583),\n",
              "              ('B002BH3I9U', 4.019055489721105)],\n",
              "             'A28UMA3GW9L124': [('B001E1Y5O6', 4.347008236300116),\n",
              "              ('B0028Y4CWI', 3.881891960972661),\n",
              "              ('B002O3W2OI', 3.779457562364888)],\n",
              "             'A2ARDVMUGDFED6': [('B000089GN3', 4.71417205464356),\n",
              "              ('B000M17AVO', 4.684631911163119),\n",
              "              ('B002C7481G', 4.636916724294374),\n",
              "              ('B001FWBUUG', 4.627246227472725),\n",
              "              ('B00009R6TA', 4.429390420559084)],\n",
              "             'A2AY4YUOX2N1BQ': [('B000VX6XL6', 4.654771284436169),\n",
              "              ('B00316263Y', 4.621653464629664),\n",
              "              ('B00007GQLU', 4.548301697196544),\n",
              "              ('B000F7QRTG', 4.541688162572565),\n",
              "              ('B0002L5R78', 4.406791076100209)],\n",
              "             'A2B7BUH8834Y6M': [('B0025VKUQQ', 4.192997792624217),\n",
              "              ('B00004ZCJE', 4.185006922185358)],\n",
              "             'A2BCDZO1XQLDH': [('B002R5AM7C', 4.2697842519399085)],\n",
              "             'A2BLFCOPSMBOZ9': [('B001TH7GVE', 4.577714114408955),\n",
              "              ('B002VPE1Z2', 4.373485523752172),\n",
              "              ('B001T9NUJE', 4.3359570597163435),\n",
              "              ('B002IC0YL8', 4.333950280041216),\n",
              "              ('B0002CPBWI', 4.322383532823009)],\n",
              "             'A2BMZRO0H7TFCS': [('B000HPV3RW', 4.473233292209398),\n",
              "              ('B000A6PPOK', 4.350916253077064)],\n",
              "             'A2CIQEY05SPHTZ': [('B001LK8P14', 4.365309351283007)],\n",
              "             'A2F7CSE6KT7NI4': [('B002SZEOLG', 4.686009554284891),\n",
              "              ('B00066IJPQ', 3.935761714301865)],\n",
              "             'A2FXBWR4T4OFQ': [('B001E1Y5O6', 4.766877889436089),\n",
              "              ('B00004ZCJE', 4.69975375456291)],\n",
              "             'A2HMF8ZR67BNZS': [('B002TMRZOQ', 4.737747367522979),\n",
              "              ('B00006JN3G', 4.724370631603719),\n",
              "              ('B000QUUFRW', 4.702461868395298),\n",
              "              ('B000LRMS66', 4.656967713707848)],\n",
              "             'A2J7FHZFKOKGZ6': [('B001F51G16', 4.493475292847636)],\n",
              "             'A2JP9E1H0SF392': [('B0034CL2ZI', 4.668650988434313)],\n",
              "             'A2LCE1D0TW2XY0': [('B000AZ57M6', 4.439724856662757)],\n",
              "             'A2LXX47A0KMJVX': [('B002WE6D44', 4.8349431289298535),\n",
              "              ('B000VX6XL6', 4.576065255192),\n",
              "              ('B001FA1NK0', 4.0706596999272096)],\n",
              "             'A2NB2E5DXE319Z': [('B000N99BBC', 4.733492508231955),\n",
              "              ('B002R5AM7C', 4.178643118293741)],\n",
              "             'A2NOW4U7W3F7RI': [('B001XURP7W', 4.602409500196592)],\n",
              "             'A2NSMJVQY0RV9S': [('B00017LSPI', 4.84752721874169),\n",
              "              ('B000S5Q9CA', 4.79411143136289),\n",
              "              ('B002HWRJBM', 4.513600428078589),\n",
              "              ('B000QUUFRW', 4.505527220501496)],\n",
              "             'A2PSD2R9A1CXG7': [('B000AZ57M6', 4.585973717193059),\n",
              "              ('B00006I53S', 4.214305080961346)],\n",
              "             'A2QI2NTDTMK2FV': [('B0019EHU8G', 4.582815943705036),\n",
              "              ('B001EYV9TM', 4.456531281538938)],\n",
              "             'A2RU4U1JZ3DMP5': [('B00017LSPI', 4.657427194285542),\n",
              "              ('B00077AA5Q', 4.618498792449464)],\n",
              "             'A2SATO5BNKWY3Y': [('B002QEBMAK', 4.190571708345513)],\n",
              "             'A2T689YVOAYGGD': [('B00009XVCZ', 4.489465888525063)],\n",
              "             'A2UOHALGF2X77Q': [('B002WE6D44', 4.912366597971421),\n",
              "              ('B000VX6XL6', 4.9026878044620155),\n",
              "              ('B002V88HFE', 4.731730843187948),\n",
              "              ('B001S4OTS6', 4.666105466235075)],\n",
              "             'A2UQK3DAZ8NO2T': [('B000HGIWN4', 4.453116932660425)],\n",
              "             'A2UTZ4O5E2W4DK': [('B0010Z28XG', 4.567360679285794)],\n",
              "             'A2V7EO331SFUF6': [('B000S5Q9CA', 4.567376854538281),\n",
              "              ('B0002CPBWI', 4.363501622593738)],\n",
              "             'A2W2ODLRQ2L8LE': [('B000Q8UAWY', 4.475909152728185)],\n",
              "             'A2W9I628I6SE1U': [('B00119T6NQ', 4.545414401767285),\n",
              "              ('B000V1MLBE', 4.149150995577428),\n",
              "              ('B002TLTGM6', 4.057047853355282)],\n",
              "             'A2WB7LZ595CR50': [('B0011NVMO8', 4.670343586576572),\n",
              "              ('B00109Y2DQ', 4.6185072534983425),\n",
              "              ('B002R5AM7C', 4.257336463474654)],\n",
              "             'A2WLNSZ9U0T1S3': [('B000VX6XL6', 4.368206060639302),\n",
              "              ('B0015DYMVO', 4.352995709322475),\n",
              "              ('B000F7QRTG', 4.22092874116662),\n",
              "              ('B0011ZK6PC', 4.109269177934885),\n",
              "              ('B001DULYZG', 4.00886528729919)],\n",
              "             'A2WXURU33RBGQS': [('B001D7REIK', 4.585924402454084),\n",
              "              ('B0012GK3MQ', 4.513265678294131),\n",
              "              ('B001XURP7W', 4.2686210782818215)],\n",
              "             'A2XA8CW5DF4MNZ': [('B0025VKUQ6', 4.3690869766411735)],\n",
              "             'A2XRMQA6PJ5ZJ8': [('B002WE4HE2', 4.741022260144343),\n",
              "              ('B0019EHU8G', 4.734461413596457),\n",
              "              ('B0013FRNKG', 4.687390008655071),\n",
              "              ('B00109Y2DQ', 4.5919376396490525),\n",
              "              ('B000KO0GY6', 4.560870898631925)],\n",
              "             'A2XU6J41ZQOJ2V': [('B00109Y2DQ', 4.448106789307992)],\n",
              "             'A2Y3WWPUKIJ59I': [('B0034CL2ZI', 4.4073793342319965)],\n",
              "             'A2Y739CRM15WDL': [('B001HSOFI2', 4.520068621963169),\n",
              "              ('B002BH3I9U', 3.9597601993528984)],\n",
              "             'A2YHXGPCTENZY3': [('B002UT42UI', 3.9364835787122185)],\n",
              "             'A31BD4RXCON7QO': [('B000VX6XL6', 4.5015305309443905),\n",
              "              ('B001KELVS0', 4.4979127340661265)],\n",
              "             'A31ICLWQ9CSHRS': [('B000HJPK2C', 4.48524010702027),\n",
              "              ('B00007E7JU', 4.318546137111422),\n",
              "              ('B00007GQLU', 4.28908282508075),\n",
              "              ('B000FBK3QK', 4.095094290297845),\n",
              "              ('B002SGATH8', 3.9491409488053506)],\n",
              "             'A31N0XY2UTB25C': [('B002WE4HE2', 4.908911557934556),\n",
              "              ('B0034CL2ZI', 4.695425940644342),\n",
              "              ('B001E1Y5O6', 4.680608262095058)],\n",
              "             'A32O5FZH994CNY': [('B001FA1NK0', 4.604313502937135),\n",
              "              ('B001CHHVCU', 4.063482867475385)],\n",
              "             'A33HIV8RXRDM88': [('B002R5AM7C', 4.17539381005714),\n",
              "              ('B002SQK2F2', 3.1971654824059637)],\n",
              "             'A33YZNZIRA3H97': [('B000MX48VM', 4.509976721422676),\n",
              "              ('B002UT42UI', 4.355213975839924)],\n",
              "             'A34C9AFFZOI45T': [('B000HPV3RW', 4.503622537477257)],\n",
              "             'A34LQ791ACZ0JC': [('B000N99BBC', 4.754079039811831)],\n",
              "             'A353U0L2HAMSHV': [('B00316263Y', 4.474347311235825),\n",
              "              ('B0002L5R78', 4.309009516605024)],\n",
              "             'A35HNL2VEDK9Z1': [('B000S5Q9CA', 4.587359952249951),\n",
              "              ('B0007MXZB2', 4.105832799605018)],\n",
              "             'A36A1ZYZH8568P': [('B00077AA5Q', 4.439067472733667),\n",
              "              ('B002V88HFE', 4.386119597411568),\n",
              "              ('B0011ZK6PC', 4.306021835875188)],\n",
              "             'A36K2N527TXXJN': [('B000MX48VM', 4.677417329768398),\n",
              "              ('B0002L5R78', 4.646362442196189)],\n",
              "             'A370XYLIZCSK1Y': [('B000LRMS66', 4.614899877670055),\n",
              "              ('B0002L5R78', 4.593301358728103),\n",
              "              ('B002TLTGM6', 4.234821498843485)],\n",
              "             'A376OJHLE6SU9Q': [('B0002L5R78', 4.513167565577998),\n",
              "              ('B001TH7GSW', 4.440144302855289)],\n",
              "             'A38KK0SZYEH5UD': [('B00169N0BK', 4.707828899726241),\n",
              "              ('B000FBK3QK', 4.316529928042621)],\n",
              "             'A38RMU1Y5TDP9': [('B001E1Y5O6', 4.587714062696097),\n",
              "              ('B000TXZIDM', 4.44503641351705)],\n",
              "             'A3A4ZAIBQWKOZS': [('B0000BZL1P', 4.953543590768056),\n",
              "              ('B002BH3Z8E', 4.646322676046416),\n",
              "              ('B0015DYMVO', 4.4140835400812)],\n",
              "             'A3AYSYSLHU26U9': [('B001PIBE8I', 4.529822316704876)],\n",
              "             'A3BACUOZV1M0WM': [('B000VX6XL6', 4.844347181685081)],\n",
              "             'A3CG93783LP0FO': [('B002V88HFE', 4.645089616738035),\n",
              "              ('B002SZEOLG', 4.634034247843294),\n",
              "              ('B002WE4HE2', 4.599603132471927),\n",
              "              ('B001E1Y5O6', 4.597964117998631)],\n",
              "             'A3CW0ZLUO5X2B1': [('B000LRMS66', 4.344511771017845),\n",
              "              ('B001TH7GSW', 4.170118364646752)],\n",
              "             'A3DWO5RJDA430F': [('B000VX6XL6', 4.654771284436169),\n",
              "              ('B000L47AHG', 4.421059272844963)],\n",
              "             'A3EXWV8FNSSFL6': [('B00109Y2DQ', 4.780311250415314)],\n",
              "             'A3FEGTOLCWXSV4': [('B00169N0BK', 4.522732523617342)],\n",
              "             'A3FPSY1M6G7XIB': [('B00007E7JU', 4.502032948217694),\n",
              "              ('B00009R6TA', 4.385905662141147),\n",
              "              ('B00004ZCJE', 4.3187761767905855)],\n",
              "             'A3IY316DRNF5F2': [('B000089GN3', 4.46392550196812),\n",
              "              ('B002TLTGM6', 3.897108541148893)],\n",
              "             'A3J8A5L5AF5TX9': [('B001TH7GVE', 4.508766665422579),\n",
              "              ('B000BQ7GW8', 4.473698539087583),\n",
              "              ('B001TH7GSW', 4.195103005424819)],\n",
              "             'A3L1VJMHFWONCB': [('B001TH7GVE', 4.6730162005879405),\n",
              "              ('B002V88HFE', 4.613108058800672),\n",
              "              ('B00005T3G0', 4.4397558502314824)],\n",
              "             'A3L6L5O89JTX2T': [('B002WE6D44', 4.781343118407504),\n",
              "              ('B000MX48VM', 4.553339848351408),\n",
              "              ('B000QUUFRW', 4.417893231152676),\n",
              "              ('B0025VKUQ6', 4.173541520712675)],\n",
              "             'A3L9E0YI7C5G0W': [('B0015DYMVO', 4.286186422270424)],\n",
              "             'A3LGT6UZL99IW1': [('B002SZEOLG', 4.559268516917645)],\n",
              "             'A3LWC833HQIG7J': [('B0019EHU8G', 4.535775150967299),\n",
              "              ('B002J9HBIO', 4.126975191131074),\n",
              "              ('B002SQK2F2', 3.042051740143088)],\n",
              "             'A3N4VTNFPMTHEF': [('B002HWRJY4', 4.406569907014646)],\n",
              "             'A3NEAETOSXDBOM': [('B001FWBUUG', 4.641433679383749)],\n",
              "             'A3NKRH3TJ4DPVI': [('B0002CPBWI', 4.574206334399417)],\n",
              "             'A3NOBH42C7UI5M': [('B0010Z28XG', 4.596652292026724),\n",
              "              ('B001LK8P14', 4.449508348810755),\n",
              "              ('B000LRMS66', 4.395921566157167),\n",
              "              ('B002UT42UI', 4.195568101330805)],\n",
              "             'A3OA4DV4L81N1D': [('B002V88HFE', 4.77585581921197)],\n",
              "             'A3OXHLG6DIBRW8': [('B002TMRZOQ', 4.845485284417914),\n",
              "              ('B00169N0BK', 4.706352832499607),\n",
              "              ('B002ZCXJZE', 4.622083068043788),\n",
              "              ('B00004ZCJE', 4.549183498549525)],\n",
              "             'A3P1508PZ0UADD': [('B001XURP7W', 4.4260722978859715)],\n",
              "             'A3PD8JD9L4WEII': [('B002WE6D44', 4.784806386793759),\n",
              "              ('B000HDJT4S', 4.539006057859199),\n",
              "              ('B0015DYMVO', 4.418158483623139)],\n",
              "             'A3Q4TYJVAM4IRM': [('B0010Z28XG', 4.566082737566883),\n",
              "              ('B0015DYMVO', 4.423082256322306)],\n",
              "             'A3QMJMTLJC34QC': [('B002TMRZOQ', 4.717830126389085),\n",
              "              ('B000BQ7GW8', 4.660061378062856),\n",
              "              ('B000TKHBDK', 4.609566014429579),\n",
              "              ('B002C7481G', 4.559931674784423)],\n",
              "             'A3QNQQKJTL76H0': [('B002TLTGM6', 4.060082228999741)],\n",
              "             'A3QNX5KWHDV0GD': [('B001F51G16', 4.6059159669968395),\n",
              "              ('B00007EDZG', 4.121631805405992)],\n",
              "             'A3QQGPI3CTV9SX': [('B0000BZL1P', 4.841881170409498),\n",
              "              ('B000HJPK2C', 4.795730177676377),\n",
              "              ('B00006JN3G', 4.768638894113036),\n",
              "              ('B000Q8UAWY', 4.689211118645018)],\n",
              "             'A3R4794K2RVU1S': [('B000TKHBDK', 4.7411984976530555),\n",
              "              ('B0034CL2ZI', 4.7396784159382515)],\n",
              "             'A3REK3OFONWB1Q': [('B001KELVS0', 4.8170187968151925)],\n",
              "             'A3S3R88HA0HZG3': [('B00316263Y', 4.765706683158992),\n",
              "              ('B001GS8FZ2', 4.148372527665694),\n",
              "              ('B001CHHVCU', 3.978597916147711)],\n",
              "             'A3T7V207KRDE2O': [('B00005LEN4', 4.751526888789424),\n",
              "              ('B000TKHBDK', 4.700571489675724)],\n",
              "             'A3TBMAWIIHKHFN': [('B002WE6D44', 4.631349148387369),\n",
              "              ('B001E1Y5O6', 4.510582861163718),\n",
              "              ('B001FWBUUG', 4.352539240730481),\n",
              "              ('B00004ZCJE', 4.225128902512912)],\n",
              "             'A3TCMJ6GKZJFBQ': [('B0007QKMQY', 4.463905138844251),\n",
              "              ('B000M17AVO', 4.350171852892443)],\n",
              "             'A3U41ZL33SS92P': [('B000A6PPOK', 4.363300132754598),\n",
              "              ('B002IC0YL8', 4.301393192364459),\n",
              "              ('B00093IIRA', 4.2987238780769195),\n",
              "              ('B002BH3I9U', 3.922384457918545)],\n",
              "             'A3V7D0LH8L7BG0': [('B0025VKUQ6', 4.3278988700187355)],\n",
              "             'A3W4D8XOGLWUN5': [('B000Q8UAWY', 4.426290642053935)],\n",
              "             'A4WEZJOIZIV4U': [('B001TH7GUU', 4.896006922384068),\n",
              "              ('B000BQ7GW8', 4.686325241664257),\n",
              "              ('B00007E7JU', 4.637055459140758),\n",
              "              ('B001S4OTS6', 4.587789844089873),\n",
              "              ('B001XURP7W', 4.497325088005102)],\n",
              "             'A5JLAU2ARJ0BO': [('B00004SB92', 4.587595100045771),\n",
              "              ('B00007EDZG', 4.2087829724675485),\n",
              "              ('B0028Y4CWI', 3.7087426543056012)],\n",
              "             'A5KMMY627T3W': [('B0007QKMQY', 4.400159568545417)],\n",
              "             'A680RUE1FDO8B': [('B0019EHU8G', 4.610263879891581),\n",
              "              ('B001TOD7ME', 4.575314065504415),\n",
              "              ('B00119T6NQ', 4.534738626545066),\n",
              "              ('B0012GK3MQ', 4.43690490790368),\n",
              "              ('B000EVSLRO', 4.379687065276998)],\n",
              "             'A6FIAB28IS79': [('B000MX48VM', 4.648216613544142),\n",
              "              ('B001D7REIK', 4.5297694422424675),\n",
              "              ('B002C7481G', 4.4776384209315045),\n",
              "              ('B000LRMS66', 4.461139894271984),\n",
              "              ('B001FA1NK0', 4.303188561280566)],\n",
              "             'A6VPK7X53QNAQ': [('B0013FRNKG', 4.429604283794105),\n",
              "              ('B002J9HBIO', 4.398734347164645)],\n",
              "             'A6VXZ1EEPRTLV': [('B002V88HFE', 4.699639976424981),\n",
              "              ('B001F7AHOG', 4.3447884319787375)],\n",
              "             'A7QMQBGJ2TCQG': [('B00007EDZG', 4.151254414530432)],\n",
              "             'A7Y6AVS576M03': [('B000N99BBC', 4.754079039811831),\n",
              "              ('B000BQ7GW8', 4.647229342591081),\n",
              "              ('B000089GN3', 4.5784591791527305)],\n",
              "             'A87N6UTYA6NOB': [('B0007MXZB2', 4.139875661084823)],\n",
              "             'AAQ9NJ480N9W5': [('B002ZCXJZE', 4.641758372883014),\n",
              "              ('B002V88HFE', 4.602435221382823),\n",
              "              ('B000MX48VM', 4.595867010747684),\n",
              "              ('B000QUUFRW', 4.450835730158327)],\n",
              "             'AAR7CEPXYJA0T': [('B002ZCXJZE', 4.255467575766421),\n",
              "              ('B002KC55OM', 3.846901556669278),\n",
              "              ('B00066IJPQ', 3.5002581213936317)],\n",
              "             'AB094YABX21WQ': [('B000JMJWV2', 4.739949565175485)],\n",
              "             'ABMF4UC4Z00NT': [('B0015DYMVO', 4.754431669935315)],\n",
              "             'ABQWMANK4AR63': [('B002YU83YO', 4.579798891791266),\n",
              "              ('B002ZCXJZE', 4.526670909428775),\n",
              "              ('B002C7481G', 4.441285492883911),\n",
              "              ('B000JE7GPY', 4.404521328796789)],\n",
              "             'ABVYGB2TKBO8F': [('B000L47AHG', 4.641770618536203),\n",
              "              ('B002HWRJY4', 4.598524758212393),\n",
              "              ('B000M17AVO', 4.445024100112774)],\n",
              "             'AC6Z7DP1Z5GHD': [('B000F7QRTG', 4.33399451590174)],\n",
              "             'ADLVFFE4VBT8': [('B000HPV3RW', 4.677686136186996),\n",
              "              ('B002ZCXJZE', 4.51971652615405),\n",
              "              ('B0002L5R78', 4.42156706982003),\n",
              "              ('B001TK3ACA', 4.405729788349494),\n",
              "              ('B000TXZIDM', 4.308848253736572)],\n",
              "             'AEJAGHLC675A7': [('B000N99BBC', 4.855948940462621),\n",
              "              ('B002SZEOLG', 4.760617269218914)],\n",
              "             'AEWYUPCNDV7HY': [('B002IC0YL8', 4.474538016942995),\n",
              "              ('B00006B7DA', 4.341332652960767)],\n",
              "             'AFNG8O2DXRCUV': [('B001TH7GUU', 4.860164717193457),\n",
              "              ('B000JMJWV2', 4.810264611012417)],\n",
              "             'AFR9GYKAHM37U': [('B000VX6XL6', 4.892581454433633),\n",
              "              ('B0000BVYTV', 4.423261532101039)],\n",
              "             'AGHZXQL9F94T9': [('B0007QKMQY', 4.598742226542109)],\n",
              "             'AGVWTYW0ULXHT': [('B00169N0BK', 4.232180027379136),\n",
              "              ('B000EVSLRO', 4.176543451622198),\n",
              "              ('B002C7481G', 4.161372024265246),\n",
              "              ('B000JE7GPY', 4.065286976541072),\n",
              "              ('B0002L5R78', 4.041978166503669)],\n",
              "             'AGXMC3ITWZASE': [('B001LK8P14', 4.297905296314171),\n",
              "              ('B00275XTSQ', 4.172013051324768),\n",
              "              ('B002SQK2F2', 3.3295960274163403)],\n",
              "             'AGXV8E7XK9J6H': [('B00017LSPI', 4.514277119909233),\n",
              "              ('B00006I53S', 4.288901105239931)],\n",
              "             'AHROSV6WJOEGY': [('B00006RVPW', 4.185952918650785),\n",
              "              ('B00006I53S', 3.917206929131567)],\n",
              "             'AI8EMB0HUC6Z5': [('B001TH7GUU', 5),\n",
              "              ('B000N99BBC', 4.891936609753717)],\n",
              "             'AIJQU979J6UFY': [('B0000BVYTV', 4.560154049995163),\n",
              "              ('B002O3W2OI', 3.9954070988334203)],\n",
              "             'AK3GKIV8DEY8B': [('B000Q8UAWY', 4.558396141055706)],\n",
              "             'AKT8TGIT6VVZ5': [('B00005LEN4', 4.728791202404945),\n",
              "              ('B000M2GYF6', 4.702954739105575)],\n",
              "             'ALDAF4VVLFRHP': [('B002YU83YO', 4.75750571642971),\n",
              "              ('B0011NVMO8', 4.6998898724767715)],\n",
              "             'AN81JUYW2SL24': [('B001T9NUJE', 4.760141634961538),\n",
              "              ('B00004SB92', 4.682112891329173),\n",
              "              ('B002VPE1Z2', 4.552424980734956),\n",
              "              ('B00275XTSQ', 4.391161414695858),\n",
              "              ('B002SGATH8', 4.254652997888763)],\n",
              "             'AOEAD7DPLZE53': [('B000VX6XL6', 4.8449916745897985)],\n",
              "             'AOMEH9W6LHC4S': [('B001KELVS0', 4.337734970025073),\n",
              "              ('B00004ZCJE', 4.186720903828736)],\n",
              "             'AONUCJBC85BL': [('B000F7QRTG', 4.350142168849162),\n",
              "              ('B000A6PPOK', 4.1772243579018316),\n",
              "              ('B002R5AM7C', 4.042735707149154),\n",
              "              ('B001CHHVCU', 3.671669222179038)],\n",
              "             'AQIJ3ZEEVCIKU': [('B000N99BBC', 4.570319940848538),\n",
              "              ('B001TANZ0W', 4.500147189749381),\n",
              "              ('B0025VKUQQ', 4.367349452371704),\n",
              "              ('B000HPV3RW', 4.367313646924561),\n",
              "              ('B001TH7GVE', 4.300227316606508)],\n",
              "             'ARBKYIVNYWK3C': [('B001TOD7ME', 4.420232734855039),\n",
              "              ('B000TKHBDK', 4.350885913089561),\n",
              "              ('B002UT42UI', 4.130266879345731),\n",
              "              ('B000JE7GPY', 4.047000717924371),\n",
              "              ('B002TLTGM6', 3.8581240608820844)],\n",
              "             'AROQO2VDODT7': [('B00007E7JU', 4.600735501024022),\n",
              "              ('B00007GQLU', 4.586994161718206)],\n",
              "             'ARX7Z3NI6O0F7': [('B000KO0GY6', 4.664827603577529)],\n",
              "             'ASJSX783R5HTZ': [('B001TH7GUU', 4.359715993388738),\n",
              "              ('B0000BZL1P', 4.291580958826623),\n",
              "              ('B001TH7GVE', 4.2450319569087664),\n",
              "              ('B00169N0BK', 4.206720131434555)],\n",
              "             'AT28RL25Q2OLK': [('B000HJPK2C', 4.551718988450888),\n",
              "              ('B002UT42UI', 4.188452735087351)],\n",
              "             'AT6CZDCP4TRGA': [('B00007KDVI', 3.8243792373740817)],\n",
              "             'ATDE9JYCPI0L1': [('B00004SB92', 4.229575376507716)],\n",
              "             'AUCISQA1YXX86': [('B001HSOFI2', 4.329183433988191)],\n",
              "             'AVPNQUVZWMDSX': [('B0010Z28XG', 4.880994454302853),\n",
              "              ('B001TH7GSW', 4.346697969614611),\n",
              "              ('B002KC55OM', 4.2818055004791375),\n",
              "              ('B00007KDVI', 4.041733108190002)],\n",
              "             'AVSMRPI23DQI2': [('B0007QKMQY', 4.620320369873365),\n",
              "              ('B00093IIRA', 4.36052266044173),\n",
              "              ('B001FA1NK0', 4.204179307526444)],\n",
              "             'AWJWCKB92RJX2': [('B000LRMS66', 4.5171506305017814),\n",
              "              ('B00109Y2DQ', 4.504342252244411)],\n",
              "             'AWPODHOB4GFWL': [('B001HSOFI2', 4.669340461000212)],\n",
              "             'AX7317G153T8W': [('B0025VKUQQ', 4.49403822402172),\n",
              "              ('B001FA1NK0', 4.263082036661474),\n",
              "              ('B001DULYZG', 4.159544940077992),\n",
              "              ('B000TG4BA0', 4.090836513242985),\n",
              "              ('B002O3W2OI', 3.8262120910756563)],\n",
              "             'AYMD77ITD15PT': [('B001CHHVCU', 3.8071590896473744)],\n",
              "             'AZ515FFZ7I2P7': [('B001TK3ACA', 4.13251315972782),\n",
              "              ('B002IC0YL8', 4.11860445553631),\n",
              "              ('B001CHHVCU', 3.63590075091392)],\n",
              "             'AZMY6E8B52L2T': [('B001TH7GUU', 4.880595476511884),\n",
              "              ('B000FBK3QK', 4.570664855387784),\n",
              "              ('B002QEBMAK', 4.4737143623429345)]})"
            ]
          },
          "metadata": {},
          "execution_count": 48
        }
      ]
    },
    {
      "cell_type": "markdown",
      "metadata": {
        "id": "qXw69NTqZf5J"
      },
      "source": [
        "**NOTE:**\n",
        "\n",
        "The above list shows the model recommendations the \"TOP 5\" products for each user. There are some cases in which less than 5 products are recommended as the model is not able to find the appropriate number of neighbors"
      ]
    },
    {
      "cell_type": "code",
      "metadata": {
        "id": "ZWIy5HqzaBIi",
        "colab": {
          "base_uri": "https://localhost:8080/"
        },
        "outputId": "57a88dc8-670a-439e-806d-fe02dac32bc7"
      },
      "source": [
        "def precision_recall_at_k(predictions, k=5, threshold=3.5):\n",
        "    '''Return precision and recall at k metrics for each user.'''\n",
        "\n",
        "    # First map the predictions to each user.\n",
        "    user_est_true = defaultdict(list)\n",
        "    for uid, _, true_r, est, _ in predictions:\n",
        "        user_est_true[uid].append((est, true_r))\n",
        "\n",
        "    precisions = dict()\n",
        "    recalls = dict()\n",
        "    for uid, user_ratings in user_est_true.items():\n",
        "\n",
        "        # Sort user ratings by estimated value\n",
        "        user_ratings.sort(key=lambda x: x[0], reverse=True)\n",
        "\n",
        "        # Number of relevant items\n",
        "        n_rel = sum((true_r >= threshold) for (_, true_r) in user_ratings)\n",
        "\n",
        "        # Number of recommended items in top k\n",
        "        n_rec_k = sum((est >= threshold) for (est, _) in user_ratings[:k])\n",
        "\n",
        "        # Number of relevant and recommended items in top k\n",
        "        n_rel_and_rec_k = sum(((true_r >= threshold) and (est >= threshold))\n",
        "                              for (est, true_r) in user_ratings[:k])\n",
        "\n",
        "        # Precision@K: Proportion of recommended items that are relevant\n",
        "        precisions[uid] = n_rel_and_rec_k / n_rec_k if n_rec_k != 0 else 1\n",
        "\n",
        "        # Recall@K: Proportion of relevant items that are recommended\n",
        "        recalls[uid] = n_rel_and_rec_k / n_rel if n_rel != 0 else 1\n",
        "\n",
        "    return precisions, recalls\n",
        "\n",
        "\n",
        "kf = KFold(n_splits=5)\n",
        "svd_model = SVD(n_epochs=20, lr_all=0.005, reg_all=0.2)\n",
        "precs = []\n",
        "recalls = []\n",
        "\n",
        "for trainset, testset in kf.split(surprise_data):\n",
        "    svd_model.fit(trainset)\n",
        "    predictions = svd_model.test(testset)\n",
        "    precisions, recalls = precision_recall_at_k(predictions, k=5, threshold=3.5)\n",
        "\n",
        "    # Precision and recall can then be averaged over all users\n",
        "    print('Precision : ', sum(prec for prec in precisions.values()) / len(precisions))\n",
        "    print('Recalls : ',sum(rec for rec in recalls.values()) / len(recalls))\n"
      ],
      "execution_count": 49,
      "outputs": [
        {
          "output_type": "execute_result",
          "data": {
            "text/plain": [
              "<surprise.prediction_algorithms.matrix_factorization.SVD at 0x7fc40b6a6210>"
            ]
          },
          "metadata": {},
          "execution_count": 49
        },
        {
          "output_type": "stream",
          "name": "stdout",
          "text": [
            "Precision :  0.8322975517890772\n",
            "Recalls :  0.9889157923056229\n"
          ]
        },
        {
          "output_type": "execute_result",
          "data": {
            "text/plain": [
              "<surprise.prediction_algorithms.matrix_factorization.SVD at 0x7fc40b6a6210>"
            ]
          },
          "metadata": {},
          "execution_count": 49
        },
        {
          "output_type": "stream",
          "name": "stdout",
          "text": [
            "Precision :  0.907051282051282\n",
            "Recalls :  0.9931318681318682\n"
          ]
        },
        {
          "output_type": "execute_result",
          "data": {
            "text/plain": [
              "<surprise.prediction_algorithms.matrix_factorization.SVD at 0x7fc40b6a6210>"
            ]
          },
          "metadata": {},
          "execution_count": 49
        },
        {
          "output_type": "stream",
          "name": "stdout",
          "text": [
            "Precision :  0.8919819819819819\n",
            "Recalls :  0.9914414414414415\n"
          ]
        },
        {
          "output_type": "execute_result",
          "data": {
            "text/plain": [
              "<surprise.prediction_algorithms.matrix_factorization.SVD at 0x7fc40b6a6210>"
            ]
          },
          "metadata": {},
          "execution_count": 49
        },
        {
          "output_type": "stream",
          "name": "stdout",
          "text": [
            "Precision :  0.8743879472693032\n",
            "Recalls :  0.9967043314500943\n"
          ]
        },
        {
          "output_type": "execute_result",
          "data": {
            "text/plain": [
              "<surprise.prediction_algorithms.matrix_factorization.SVD at 0x7fc40b6a6210>"
            ]
          },
          "metadata": {},
          "execution_count": 49
        },
        {
          "output_type": "stream",
          "name": "stdout",
          "text": [
            "Precision :  0.8781914893617021\n",
            "Recalls :  0.9894376899696048\n"
          ]
        }
      ]
    },
    {
      "cell_type": "code",
      "metadata": {
        "id": "eY2Cpzim5RZo"
      },
      "source": [
        "pickle.dump(svd_model,open('mostrelevant.pkl','wb'))"
      ],
      "execution_count": 50,
      "outputs": []
    },
    {
      "cell_type": "markdown",
      "metadata": {
        "id": "ZGrGEUqSau-c"
      },
      "source": [
        "**Comment:** Precision and Recall have been calculated at k=5. \n",
        "\n",
        " Precision and Recall are binary metrics used to evaluate models with binary output. We need a way to translate our numerical problem (ratings usually from 1 to 5) into a binary problem (relevant and not relevant items). To do the translation we assume that any true rating above 3.5 corresponds to a relevant item and any true rating below 3.5 is irrelevant.\n",
        "\n",
        "Precision at 5 within the TOP 5 recommendations is alomost 85%. This means that 86% of the recommendation are relevent to the users.\n",
        "Recall at 5 within the TOP 5 recommendations problem is almost 95%. This means that 95% of the total number of the relevent products appear in the top-k result."
      ]
    },
    {
      "cell_type": "markdown",
      "metadata": {
        "id": "UwAdUamYavVP"
      },
      "source": [
        "**CONCLUSION**\n",
        "\n",
        "- EDA shows us that most of the customers give a rating of \"5\". This leads us to the conclusion that customers are very satisfied with their purchase. It may need some investigation to see if some bots or mandatory feedback at lower ratings are causing the majority to give a top rating of \"5\"\n",
        "\n",
        "- Subset of users who have provided 50 or more ratings and products which have received more than 10 ratings have been used to remove outliers and overcome Grey Sheep issue.\n",
        "\n",
        "- Popularity Model - shows the TOP 5 recommended products irrespective of the user. The same 5 product will be recommended for every user.\n",
        "\n",
        "- 'Matrix Factorization Based Algorithms' & 'k-NN Based Algorithms' were used to build Collaborative Filtering model.\n",
        "\n",
        "- SVD++ yields the lowest RMSE which is slightly better than SVD but computational time of SVD++ is 12 times greater than SVD. SVD can be used to get the recommended products.\n",
        "\n",
        "- Precision which is almost 86%. which can be interpreted as 86% of the recommendations are actually relevant to the user.\n",
        "\n",
        "- Recall is at 96% which can be interpreted as percent of the relevant items were recommended in the top-k items."
      ]
    },
    {
      "cell_type": "code",
      "metadata": {
        "id": "66BUxovdbWXp",
        "colab": {
          "base_uri": "https://localhost:8080/"
        },
        "outputId": "13fc6ec0-2dbb-4d78-db22-883744a40a9b"
      },
      "source": [
        "!pip install colabcode\n",
        "!pip install fastapi"
      ],
      "execution_count": 51,
      "outputs": [
        {
          "output_type": "stream",
          "name": "stdout",
          "text": [
            "Requirement already satisfied: colabcode in /usr/local/lib/python3.7/dist-packages (0.3.0)\n",
            "Requirement already satisfied: pyngrok>=5.0.0 in /usr/local/lib/python3.7/dist-packages (from colabcode) (5.1.0)\n",
            "Requirement already satisfied: uvicorn==0.13.1 in /usr/local/lib/python3.7/dist-packages (from colabcode) (0.13.1)\n",
            "Requirement already satisfied: nest-asyncio==1.4.3 in /usr/local/lib/python3.7/dist-packages (from colabcode) (1.4.3)\n",
            "Requirement already satisfied: jupyterlab==3.0.7 in /usr/local/lib/python3.7/dist-packages (from colabcode) (3.0.7)\n",
            "Requirement already satisfied: jupyter-core in /usr/local/lib/python3.7/dist-packages (from jupyterlab==3.0.7->colabcode) (4.8.1)\n",
            "Requirement already satisfied: nbclassic~=0.2 in /usr/local/lib/python3.7/dist-packages (from jupyterlab==3.0.7->colabcode) (0.3.2)\n",
            "Requirement already satisfied: jinja2>=2.10 in /usr/local/lib/python3.7/dist-packages (from jupyterlab==3.0.7->colabcode) (2.11.3)\n",
            "Requirement already satisfied: tornado>=6.1.0 in /usr/local/lib/python3.7/dist-packages (from jupyterlab==3.0.7->colabcode) (6.1)\n",
            "Requirement already satisfied: jupyterlab-server~=2.0 in /usr/local/lib/python3.7/dist-packages (from jupyterlab==3.0.7->colabcode) (2.8.2)\n",
            "Requirement already satisfied: ipython in /usr/local/lib/python3.7/dist-packages (from jupyterlab==3.0.7->colabcode) (5.5.0)\n",
            "Requirement already satisfied: jupyter-server~=1.2 in /usr/local/lib/python3.7/dist-packages (from jupyterlab==3.0.7->colabcode) (1.11.0)\n",
            "Requirement already satisfied: packaging in /usr/local/lib/python3.7/dist-packages (from jupyterlab==3.0.7->colabcode) (21.0)\n",
            "Requirement already satisfied: click==7.* in /usr/local/lib/python3.7/dist-packages (from uvicorn==0.13.1->colabcode) (7.1.2)\n",
            "Requirement already satisfied: typing-extensions in /usr/local/lib/python3.7/dist-packages (from uvicorn==0.13.1->colabcode) (3.7.4.3)\n",
            "Requirement already satisfied: h11>=0.8 in /usr/local/lib/python3.7/dist-packages (from uvicorn==0.13.1->colabcode) (0.12.0)\n",
            "Requirement already satisfied: MarkupSafe>=0.23 in /usr/local/lib/python3.7/dist-packages (from jinja2>=2.10->jupyterlab==3.0.7->colabcode) (2.0.1)\n",
            "Requirement already satisfied: Send2Trash in /usr/local/lib/python3.7/dist-packages (from jupyter-server~=1.2->jupyterlab==3.0.7->colabcode) (1.8.0)\n",
            "Requirement already satisfied: requests-unixsocket in /usr/local/lib/python3.7/dist-packages (from jupyter-server~=1.2->jupyterlab==3.0.7->colabcode) (0.2.0)\n",
            "Requirement already satisfied: pyzmq>=17 in /usr/local/lib/python3.7/dist-packages (from jupyter-server~=1.2->jupyterlab==3.0.7->colabcode) (22.3.0)\n",
            "Requirement already satisfied: argon2-cffi in /usr/local/lib/python3.7/dist-packages (from jupyter-server~=1.2->jupyterlab==3.0.7->colabcode) (21.1.0)\n",
            "Requirement already satisfied: jupyter-client>=6.1.1 in /usr/local/lib/python3.7/dist-packages (from jupyter-server~=1.2->jupyterlab==3.0.7->colabcode) (6.1.12)\n",
            "Requirement already satisfied: nbformat in /usr/local/lib/python3.7/dist-packages (from jupyter-server~=1.2->jupyterlab==3.0.7->colabcode) (5.1.3)\n",
            "Requirement already satisfied: terminado>=0.8.3 in /usr/local/lib/python3.7/dist-packages (from jupyter-server~=1.2->jupyterlab==3.0.7->colabcode) (0.12.1)\n",
            "Requirement already satisfied: prometheus-client in /usr/local/lib/python3.7/dist-packages (from jupyter-server~=1.2->jupyterlab==3.0.7->colabcode) (0.11.0)\n",
            "Requirement already satisfied: traitlets>=4.2.1 in /usr/local/lib/python3.7/dist-packages (from jupyter-server~=1.2->jupyterlab==3.0.7->colabcode) (5.1.0)\n",
            "Requirement already satisfied: websocket-client in /usr/local/lib/python3.7/dist-packages (from jupyter-server~=1.2->jupyterlab==3.0.7->colabcode) (1.2.1)\n",
            "Requirement already satisfied: ipython-genutils in /usr/local/lib/python3.7/dist-packages (from jupyter-server~=1.2->jupyterlab==3.0.7->colabcode) (0.2.0)\n",
            "Requirement already satisfied: anyio<4,>=3.1.0 in /usr/local/lib/python3.7/dist-packages (from jupyter-server~=1.2->jupyterlab==3.0.7->colabcode) (3.3.2)\n",
            "Requirement already satisfied: nbconvert in /usr/local/lib/python3.7/dist-packages (from jupyter-server~=1.2->jupyterlab==3.0.7->colabcode) (5.6.1)\n",
            "Requirement already satisfied: idna>=2.8 in /usr/local/lib/python3.7/dist-packages (from anyio<4,>=3.1.0->jupyter-server~=1.2->jupyterlab==3.0.7->colabcode) (2.10)\n",
            "Requirement already satisfied: sniffio>=1.1 in /usr/local/lib/python3.7/dist-packages (from anyio<4,>=3.1.0->jupyter-server~=1.2->jupyterlab==3.0.7->colabcode) (1.2.0)\n",
            "Requirement already satisfied: python-dateutil>=2.1 in /usr/local/lib/python3.7/dist-packages (from jupyter-client>=6.1.1->jupyter-server~=1.2->jupyterlab==3.0.7->colabcode) (2.8.2)\n",
            "Requirement already satisfied: json5 in /usr/local/lib/python3.7/dist-packages (from jupyterlab-server~=2.0->jupyterlab==3.0.7->colabcode) (0.9.6)\n",
            "Requirement already satisfied: babel in /usr/local/lib/python3.7/dist-packages (from jupyterlab-server~=2.0->jupyterlab==3.0.7->colabcode) (2.9.1)\n",
            "Requirement already satisfied: requests in /usr/local/lib/python3.7/dist-packages (from jupyterlab-server~=2.0->jupyterlab==3.0.7->colabcode) (2.23.0)\n",
            "Requirement already satisfied: entrypoints>=0.2.2 in /usr/local/lib/python3.7/dist-packages (from jupyterlab-server~=2.0->jupyterlab==3.0.7->colabcode) (0.3)\n",
            "Requirement already satisfied: jsonschema>=3.0.1 in /usr/local/lib/python3.7/dist-packages (from jupyterlab-server~=2.0->jupyterlab==3.0.7->colabcode) (4.0.1)\n",
            "Requirement already satisfied: pyrsistent!=0.17.0,!=0.17.1,!=0.17.2,>=0.14.0 in /usr/local/lib/python3.7/dist-packages (from jsonschema>=3.0.1->jupyterlab-server~=2.0->jupyterlab==3.0.7->colabcode) (0.18.0)\n",
            "Requirement already satisfied: attrs>=17.4.0 in /usr/local/lib/python3.7/dist-packages (from jsonschema>=3.0.1->jupyterlab-server~=2.0->jupyterlab==3.0.7->colabcode) (21.2.0)\n",
            "Requirement already satisfied: importlib-metadata in /usr/local/lib/python3.7/dist-packages (from jsonschema>=3.0.1->jupyterlab-server~=2.0->jupyterlab==3.0.7->colabcode) (4.8.1)\n",
            "Requirement already satisfied: notebook<7 in /usr/local/lib/python3.7/dist-packages (from nbclassic~=0.2->jupyterlab==3.0.7->colabcode) (5.3.1)\n",
            "Requirement already satisfied: ipykernel in /usr/local/lib/python3.7/dist-packages (from notebook<7->nbclassic~=0.2->jupyterlab==3.0.7->colabcode) (4.10.1)\n",
            "Requirement already satisfied: PyYAML in /usr/local/lib/python3.7/dist-packages (from pyngrok>=5.0.0->colabcode) (3.13)\n",
            "Requirement already satisfied: six>=1.5 in /usr/local/lib/python3.7/dist-packages (from python-dateutil>=2.1->jupyter-client>=6.1.1->jupyter-server~=1.2->jupyterlab==3.0.7->colabcode) (1.15.0)\n",
            "Requirement already satisfied: ptyprocess in /usr/local/lib/python3.7/dist-packages (from terminado>=0.8.3->jupyter-server~=1.2->jupyterlab==3.0.7->colabcode) (0.7.0)\n",
            "Requirement already satisfied: cffi>=1.0.0 in /usr/local/lib/python3.7/dist-packages (from argon2-cffi->jupyter-server~=1.2->jupyterlab==3.0.7->colabcode) (1.14.6)\n",
            "Requirement already satisfied: pycparser in /usr/local/lib/python3.7/dist-packages (from cffi>=1.0.0->argon2-cffi->jupyter-server~=1.2->jupyterlab==3.0.7->colabcode) (2.20)\n",
            "Requirement already satisfied: pytz>=2015.7 in /usr/local/lib/python3.7/dist-packages (from babel->jupyterlab-server~=2.0->jupyterlab==3.0.7->colabcode) (2018.9)\n",
            "Requirement already satisfied: zipp>=0.5 in /usr/local/lib/python3.7/dist-packages (from importlib-metadata->jsonschema>=3.0.1->jupyterlab-server~=2.0->jupyterlab==3.0.7->colabcode) (3.5.0)\n",
            "Requirement already satisfied: decorator in /usr/local/lib/python3.7/dist-packages (from ipython->jupyterlab==3.0.7->colabcode) (4.4.2)\n",
            "Requirement already satisfied: pygments in /usr/local/lib/python3.7/dist-packages (from ipython->jupyterlab==3.0.7->colabcode) (2.6.1)\n",
            "Requirement already satisfied: pickleshare in /usr/local/lib/python3.7/dist-packages (from ipython->jupyterlab==3.0.7->colabcode) (0.7.5)\n",
            "Requirement already satisfied: simplegeneric>0.8 in /usr/local/lib/python3.7/dist-packages (from ipython->jupyterlab==3.0.7->colabcode) (0.8.1)\n",
            "Requirement already satisfied: pexpect in /usr/local/lib/python3.7/dist-packages (from ipython->jupyterlab==3.0.7->colabcode) (4.8.0)\n",
            "Requirement already satisfied: setuptools>=18.5 in /usr/local/lib/python3.7/dist-packages (from ipython->jupyterlab==3.0.7->colabcode) (57.4.0)\n",
            "Requirement already satisfied: prompt-toolkit<2.0.0,>=1.0.4 in /usr/local/lib/python3.7/dist-packages (from ipython->jupyterlab==3.0.7->colabcode) (1.0.18)\n",
            "Requirement already satisfied: wcwidth in /usr/local/lib/python3.7/dist-packages (from prompt-toolkit<2.0.0,>=1.0.4->ipython->jupyterlab==3.0.7->colabcode) (0.2.5)\n",
            "Requirement already satisfied: pandocfilters>=1.4.1 in /usr/local/lib/python3.7/dist-packages (from nbconvert->jupyter-server~=1.2->jupyterlab==3.0.7->colabcode) (1.5.0)\n",
            "Requirement already satisfied: defusedxml in /usr/local/lib/python3.7/dist-packages (from nbconvert->jupyter-server~=1.2->jupyterlab==3.0.7->colabcode) (0.7.1)\n",
            "Requirement already satisfied: bleach in /usr/local/lib/python3.7/dist-packages (from nbconvert->jupyter-server~=1.2->jupyterlab==3.0.7->colabcode) (4.1.0)\n",
            "Requirement already satisfied: testpath in /usr/local/lib/python3.7/dist-packages (from nbconvert->jupyter-server~=1.2->jupyterlab==3.0.7->colabcode) (0.5.0)\n",
            "Requirement already satisfied: mistune<2,>=0.8.1 in /usr/local/lib/python3.7/dist-packages (from nbconvert->jupyter-server~=1.2->jupyterlab==3.0.7->colabcode) (0.8.4)\n",
            "Requirement already satisfied: webencodings in /usr/local/lib/python3.7/dist-packages (from bleach->nbconvert->jupyter-server~=1.2->jupyterlab==3.0.7->colabcode) (0.5.1)\n",
            "Requirement already satisfied: pyparsing>=2.0.2 in /usr/local/lib/python3.7/dist-packages (from packaging->jupyterlab==3.0.7->colabcode) (2.4.7)\n",
            "Requirement already satisfied: urllib3!=1.25.0,!=1.25.1,<1.26,>=1.21.1 in /usr/local/lib/python3.7/dist-packages (from requests->jupyterlab-server~=2.0->jupyterlab==3.0.7->colabcode) (1.24.3)\n",
            "Requirement already satisfied: chardet<4,>=3.0.2 in /usr/local/lib/python3.7/dist-packages (from requests->jupyterlab-server~=2.0->jupyterlab==3.0.7->colabcode) (3.0.4)\n",
            "Requirement already satisfied: certifi>=2017.4.17 in /usr/local/lib/python3.7/dist-packages (from requests->jupyterlab-server~=2.0->jupyterlab==3.0.7->colabcode) (2021.5.30)\n",
            "Requirement already satisfied: fastapi in /usr/local/lib/python3.7/dist-packages (0.68.1)\n",
            "Requirement already satisfied: pydantic!=1.7,!=1.7.1,!=1.7.2,!=1.7.3,!=1.8,!=1.8.1,<2.0.0,>=1.6.2 in /usr/local/lib/python3.7/dist-packages (from fastapi) (1.8.2)\n",
            "Requirement already satisfied: starlette==0.14.2 in /usr/local/lib/python3.7/dist-packages (from fastapi) (0.14.2)\n",
            "Requirement already satisfied: typing-extensions>=3.7.4.3 in /usr/local/lib/python3.7/dist-packages (from pydantic!=1.7,!=1.7.1,!=1.7.2,!=1.7.3,!=1.8,!=1.8.1,<2.0.0,>=1.6.2->fastapi) (3.7.4.3)\n"
          ]
        }
      ]
    },
    {
      "cell_type": "code",
      "metadata": {
        "id": "cC0mAyX1wI-n"
      },
      "source": [
        "import uvicorn"
      ],
      "execution_count": 52,
      "outputs": []
    },
    {
      "cell_type": "code",
      "metadata": {
        "id": "rJsHtMvxxF8M"
      },
      "source": [
        "from pydantic import BaseModel"
      ],
      "execution_count": 53,
      "outputs": []
    },
    {
      "cell_type": "code",
      "metadata": {
        "id": "z1wZOMuibXa0"
      },
      "source": [
        "from colabcode import ColabCode"
      ],
      "execution_count": 54,
      "outputs": []
    },
    {
      "cell_type": "code",
      "metadata": {
        "id": "qI-eNsCXg7J_"
      },
      "source": [
        "from fastapi import FastAPI"
      ],
      "execution_count": 55,
      "outputs": []
    },
    {
      "cell_type": "code",
      "metadata": {
        "id": "rVCA6AIfF8mG"
      },
      "source": [
        "from typing import Optional"
      ],
      "execution_count": 56,
      "outputs": []
    },
    {
      "cell_type": "code",
      "metadata": {
        "id": "kBCXzKmWbmaj"
      },
      "source": [
        "#cc = ColabCode(port=12000, password=None, authtoken=None, mount_drive=False, code=False, lab=False)\n",
        "cc = ColabCode(port=12000, code=False)"
      ],
      "execution_count": 57,
      "outputs": []
    },
    {
      "cell_type": "code",
      "metadata": {
        "id": "SCDzJLf_bymq"
      },
      "source": [
        "app = FastAPI()\n",
        "\n",
        "@app.get(\"/\")\n",
        "async def read_root():\n",
        "  return {\"PRODUCT RECOMMENDER\":\"APP2\"}"
      ],
      "execution_count": 58,
      "outputs": []
    },
    {
      "cell_type": "code",
      "metadata": {
        "id": "iuioQ40-6xLK"
      },
      "source": [
        "app.main:app"
      ],
      "execution_count": 59,
      "outputs": []
    },
    {
      "cell_type": "code",
      "metadata": {
        "id": "nPSY5rJAc5O9"
      },
      "source": [
        "cc.run_app(app=app)"
      ],
      "execution_count": null,
      "outputs": []
    },
    {
      "cell_type": "markdown",
      "metadata": {
        "id": "TaAWOMA2JSC4"
      },
      "source": [
        ""
      ]
    },
    {
      "cell_type": "code",
      "metadata": {
        "id": "2yMISn3-b53v",
        "colab": {
          "base_uri": "https://localhost:8080/"
        },
        "outputId": "ff437bfc-8439-4125-d942-9ad82605a97d"
      },
      "source": [
        "%%writefile models.py\n",
        "from pydantic import BaseModel, conlist\n",
        "from typing import List\n",
        "\n",
        "class electronics_data(BaseModel)\n",
        "data: List[conlist(float, min_items=1, max_items=1)]"
      ],
      "execution_count": 60,
      "outputs": [
        {
          "output_type": "stream",
          "name": "stdout",
          "text": [
            "Public URL: NgrokTunnel: \"https://26ee-35-221-36-166.ngrok.io\" -> \"http://localhost:12000\"\n",
            "Overwriting models.py\n"
          ]
        }
      ]
    },
    {
      "cell_type": "code",
      "metadata": {
        "id": "HvqTI11JhXI9"
      },
      "source": [
        "import pickle\n",
        "import logging\n",
        "from fastapi import FastAPI"
      ],
      "execution_count": 61,
      "outputs": []
    },
    {
      "cell_type": "code",
      "metadata": {
        "id": "gEzsmhKTpeuP"
      },
      "source": [
        "pickle.dump(svd_model,open('mostrelevant.pkl','wb'))"
      ],
      "execution_count": 62,
      "outputs": []
    },
    {
      "cell_type": "code",
      "metadata": {
        "id": "ZAoROwHscryN",
        "colab": {
          "base_uri": "https://localhost:8080/",
          "height": 164
        },
        "outputId": "7c971c4d-5cf8-4607-f48a-d36c9ba15660"
      },
      "source": [
        "from fastapi import FastAPI\n",
        "\n",
        "app = FastAPI(title=\"Model Deployment\", description=\"with FastAPI and Colab\", version=\"1.0\")\n",
        "\n",
        "#Initialize logging\n",
        "my_logger = logging.getLogger()\n",
        "my_logger.setLevel(logging.DEBUG)\n",
        "logging.basicConfig(level=logging.DEBUG, filename='logs.log')\n",
        "\n",
        "model = None\n",
        "\n",
        "@app.on_event(\"startup\")\n",
        "def load_model():\n",
        "    global model\n",
        "    model = pickle.load(open(\"mostpopular.pkl\", \"rb\"))\n",
        "\n",
        "@app.post(\"/api\", tags=[\"prediction\"])\n",
        "data= dict(popularity_recommendations)['data']:\n",
        "        print(data)\n",
        "        prediction = list(map(lambda x: popularity_recommendations_types[x], model.predict(data).tolist()))\n",
        "        log_proba = model.predict_log_proba(data).tolist()\n",
        "        return {\"prediction\": prediction, \"log_proba\": log_proba}\n",
        "\n",
        "    except:\n",
        "        my_logger.error(\"Something went wrong!\")\n",
        "        return {\"prediction\": \"error\"}"
      ],
      "execution_count": 63,
      "outputs": [
        {
          "output_type": "error",
          "ename": "SyntaxError",
          "evalue": "ignored",
          "traceback": [
            "\u001b[0;36m  File \u001b[0;32m\"<ipython-input-63-23bca92d3578>\"\u001b[0;36m, line \u001b[0;32m18\u001b[0m\n\u001b[0;31m    data= dict(popularity_recommendations)['data']:\u001b[0m\n\u001b[0m       ^\u001b[0m\n\u001b[0;31mSyntaxError\u001b[0m\u001b[0;31m:\u001b[0m invalid syntax\n"
          ]
        },
        {
          "output_type": "stream",
          "name": "stderr",
          "text": [
            "INFO:     Started server process [2198]\n",
            "INFO:     Waiting for application startup.\n"
          ]
        }
      ]
    }
  ]
}