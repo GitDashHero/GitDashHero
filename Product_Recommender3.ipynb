{
  "nbformat": 4,
  "nbformat_minor": 0,
  "metadata": {
    "colab": {
      "name": "Product Recommender.ipynb",
      "provenance": [],
      "collapsed_sections": [],
      "include_colab_link": true
    },
    "kernelspec": {
      "display_name": "Python 3",
      "name": "python3"
    },
    "language_info": {
      "name": "python"
    }
  },
  "cells": [
    {
      "cell_type": "markdown",
      "metadata": {
        "id": "view-in-github",
        "colab_type": "text"
      },
      "source": [
        "<a href=\"https://colab.research.google.com/github/GitDashHero/GitDashHero/blob/main/Product_Recommender3.ipynb\" target=\"_parent\"><img src=\"https://colab.research.google.com/assets/colab-badge.svg\" alt=\"Open In Colab\"/></a>"
      ]
    },
    {
      "cell_type": "markdown",
      "metadata": {
        "id": "mbDSs2p9CTIN"
      },
      "source": [
        "## **PRODUCT RECOMMENDER SYSTEM - CSDA 1040**"
      ]
    },
    {
      "cell_type": "markdown",
      "metadata": {
        "id": "USFFlQzTCifz"
      },
      "source": [
        "### **Context: Building a Product Recommender System**"
      ]
    },
    {
      "cell_type": "markdown",
      "metadata": {
        "id": "xbyEWEM6DdKZ"
      },
      "source": [
        "Everyday millions of products get sold online. It has been established that products recommended to users based on popularity and other metrics on e-commerce websites leads to enhanced user experience. Most popular e-commerce website boost their average order value and also increases revenues significantly thereby improves conversion. Recommender systems are among the most visible and successful applications of Articial Intelligence and Machine Learning technology in practice. Nowadays, such systems accompany us\n",
        "through our daily online lives — for example on e-commerce sites, on media streaming platforms, or in social networks. They help us by suggesting things that are assumed to be of interest to us and which we are correspondingly likely to inspect, consume, or purchase."
      ]
    },
    {
      "cell_type": "markdown",
      "metadata": {
        "id": "l0YZAIlcFoJx"
      },
      "source": [
        "**Data Source: Source** - Amazon Reviews data (http://jmcauley.ucsd.edu/data/amazon/) The repository has several datasets. For this case study, we are using the Electronics dataset.\n",
        "Learning Outcomes"
      ]
    },
    {
      "cell_type": "markdown",
      "metadata": {
        "id": "fGTxhX5XGkvI"
      },
      "source": [
        "**BUSINESS PROBLEM:**\n",
        "\n",
        "As a business that is invested in online sales, it has become imperative to build a product recommender system. Customers that are accustomed to online shopping have come to expect a level of personalization and recommendation to enhance their experience and might move away to websites that are more perceptive to their needs.\n",
        "\n",
        "a) Helps User find the right type of product more easily which leads to better levels of engagement\n",
        "\n",
        "b) Also helps the business use cross-sell, upsell and entice customers which leads to increased sales\n",
        "\n",
        "c) Leads to a personalized experience "
      ]
    },
    {
      "cell_type": "markdown",
      "metadata": {
        "id": "VFp8xxhBGk60"
      },
      "source": [
        "\n",
        "**ANALYTICAL OBJECTIVE**\n",
        "\n",
        "Build a Recommender Model that recommends products to users either based on popularity or ratings to increase customer engagement and drive sales. \n",
        "\n",
        "There are different types of recommender models based on popularity, user based, content based recommendation, collaborative filtering.\n",
        "\n"
      ]
    },
    {
      "cell_type": "code",
      "metadata": {
        "id": "MQUfJbd_B7_O"
      },
      "source": [
        "# Importing Libraries\n",
        "\n",
        "import pandas as pd\n",
        "import numpy as np\n",
        "import seaborn as sns\n",
        "import matplotlib.pyplot as plt\n",
        "%matplotlib inline\n",
        "from sklearn.model_selection import train_test_split\n",
        "import numpy as np # linear algebra\n",
        "import pandas as pd # data processing, CSV file I/O (e.g. pd.read_csv)\n",
        "import os\n",
        "from IPython.core.interactiveshell import InteractiveShell\n",
        "InteractiveShell.ast_node_interactivity = \"all\"\n",
        "import math\n",
        "import json\n",
        "import time\n",
        "import matplotlib.pyplot as plt\n",
        "import seaborn as sns\n",
        "from sklearn.metrics.pairwise import cosine_similarity\n",
        "from sklearn.model_selection import train_test_split\n",
        "from sklearn.neighbors import NearestNeighbors\n",
        "import scipy.sparse\n",
        "from scipy.sparse import csr_matrix\n",
        "from scipy.sparse.linalg import svds\n",
        "import warnings; warnings.simplefilter('ignore')\n",
        "%matplotlib inline\n",
        "\n",
        "# suppress display of warnings\n",
        "warnings.filterwarnings('ignore')\n",
        "\n",
        "# display all dataframe columns\n",
        "pd.options.display.max_columns = None\n",
        "\n",
        "# to set the limit to 3 decimals\n",
        "pd.options.display.float_format = '{:.7f}'.format\n",
        "\n",
        "# display all dataframe rows\n",
        "pd.options.display.max_rows = None\n",
        "\n"
      ],
      "execution_count": 1,
      "outputs": []
    },
    {
      "cell_type": "code",
      "metadata": {
        "colab": {
          "base_uri": "https://localhost:8080/",
          "height": 204
        },
        "id": "lh0cdlZFNTNb",
        "outputId": "a7849329-324c-42e4-9473-2fd70e5a5653"
      },
      "source": [
        "# Loading Data with headers and display\n",
        "electronics_data = pd.read_csv(\"ratings_Electronics.csv\", names=['userId', 'productId','Rating','timestamp'])\n",
        "electronics_data = electronics_data.iloc[1:]\n",
        "electronics_data.head()"
      ],
      "execution_count": 2,
      "outputs": [
        {
          "output_type": "execute_result",
          "data": {
            "text/html": [
              "<div>\n",
              "<style scoped>\n",
              "    .dataframe tbody tr th:only-of-type {\n",
              "        vertical-align: middle;\n",
              "    }\n",
              "\n",
              "    .dataframe tbody tr th {\n",
              "        vertical-align: top;\n",
              "    }\n",
              "\n",
              "    .dataframe thead th {\n",
              "        text-align: right;\n",
              "    }\n",
              "</style>\n",
              "<table border=\"1\" class=\"dataframe\">\n",
              "  <thead>\n",
              "    <tr style=\"text-align: right;\">\n",
              "      <th></th>\n",
              "      <th>userId</th>\n",
              "      <th>productId</th>\n",
              "      <th>Rating</th>\n",
              "      <th>timestamp</th>\n",
              "    </tr>\n",
              "  </thead>\n",
              "  <tbody>\n",
              "    <tr>\n",
              "      <th>1</th>\n",
              "      <td>A2CX7LUOHB2NDG</td>\n",
              "      <td>0321732944</td>\n",
              "      <td>5.0000000</td>\n",
              "      <td>1341100800.0000000</td>\n",
              "    </tr>\n",
              "    <tr>\n",
              "      <th>2</th>\n",
              "      <td>A2NWSAGRHCP8N5</td>\n",
              "      <td>0439886341</td>\n",
              "      <td>1.0000000</td>\n",
              "      <td>1367193600.0000000</td>\n",
              "    </tr>\n",
              "    <tr>\n",
              "      <th>3</th>\n",
              "      <td>A2WNBOD3WNDNKT</td>\n",
              "      <td>0439886341</td>\n",
              "      <td>3.0000000</td>\n",
              "      <td>1374451200.0000000</td>\n",
              "    </tr>\n",
              "    <tr>\n",
              "      <th>4</th>\n",
              "      <td>A1GI0U4ZRJA8WN</td>\n",
              "      <td>0439886341</td>\n",
              "      <td>1.0000000</td>\n",
              "      <td>1334707200.0000000</td>\n",
              "    </tr>\n",
              "    <tr>\n",
              "      <th>5</th>\n",
              "      <td>A1QGNMC6O1VW39</td>\n",
              "      <td>0511189877</td>\n",
              "      <td>5.0000000</td>\n",
              "      <td>1397433600.0000000</td>\n",
              "    </tr>\n",
              "  </tbody>\n",
              "</table>\n",
              "</div>"
            ],
            "text/plain": [
              "           userId   productId    Rating          timestamp\n",
              "1  A2CX7LUOHB2NDG  0321732944 5.0000000 1341100800.0000000\n",
              "2  A2NWSAGRHCP8N5  0439886341 1.0000000 1367193600.0000000\n",
              "3  A2WNBOD3WNDNKT  0439886341 3.0000000 1374451200.0000000\n",
              "4  A1GI0U4ZRJA8WN  0439886341 1.0000000 1334707200.0000000\n",
              "5  A1QGNMC6O1VW39  0511189877 5.0000000 1397433600.0000000"
            ]
          },
          "metadata": {},
          "execution_count": 2
        }
      ]
    },
    {
      "cell_type": "markdown",
      "metadata": {
        "id": "i8c9Od9vYHFL"
      },
      "source": [
        "**DATA EXPLORATION**"
      ]
    },
    {
      "cell_type": "code",
      "metadata": {
        "colab": {
          "base_uri": "https://localhost:8080/"
        },
        "id": "XMGxaOy8X7wT",
        "outputId": "fa819cd4-5182-466c-d24f-41b6f8ae3084"
      },
      "source": [
        "# Datatypes\n",
        "\n",
        "electronics_data.info()"
      ],
      "execution_count": 3,
      "outputs": [
        {
          "output_type": "stream",
          "name": "stdout",
          "text": [
            "<class 'pandas.core.frame.DataFrame'>\n",
            "RangeIndex: 3192096 entries, 1 to 3192096\n",
            "Data columns (total 4 columns):\n",
            " #   Column     Dtype  \n",
            "---  ------     -----  \n",
            " 0   userId     object \n",
            " 1   productId  object \n",
            " 2   Rating     float64\n",
            " 3   timestamp  float64\n",
            "dtypes: float64(2), object(2)\n",
            "memory usage: 97.4+ MB\n"
          ]
        }
      ]
    },
    {
      "cell_type": "code",
      "metadata": {
        "colab": {
          "base_uri": "https://localhost:8080/"
        },
        "id": "xpxZpQMvX77C",
        "outputId": "84845472-37a8-4d18-b930-0f1cac908180"
      },
      "source": [
        "# Shape of the data\n",
        "electronics_data.shape"
      ],
      "execution_count": 4,
      "outputs": [
        {
          "output_type": "execute_result",
          "data": {
            "text/plain": [
              "(3192096, 4)"
            ]
          },
          "metadata": {},
          "execution_count": 4
        }
      ]
    },
    {
      "cell_type": "code",
      "metadata": {
        "colab": {
          "base_uri": "https://localhost:8080/"
        },
        "id": "8eQG4-tbX8Ek",
        "outputId": "39f12042-338f-44f9-b2bf-6b1328d3077d"
      },
      "source": [
        "# More on our data\n",
        "electronics_data.describe()['Rating'].T"
      ],
      "execution_count": 5,
      "outputs": [
        {
          "output_type": "execute_result",
          "data": {
            "text/plain": [
              "count   3192095.0000000\n",
              "mean          3.9752777\n",
              "std           1.4021868\n",
              "min           1.0000000\n",
              "25%           3.0000000\n",
              "50%           5.0000000\n",
              "75%           5.0000000\n",
              "max           5.0000000\n",
              "Name: Rating, dtype: float64"
            ]
          },
          "metadata": {},
          "execution_count": 5
        }
      ]
    },
    {
      "cell_type": "code",
      "metadata": {
        "colab": {
          "base_uri": "https://localhost:8080/"
        },
        "id": "vtY4_9VhX8Ng",
        "outputId": "c38bfc60-69a4-4b99-cc62-80b14d9e76ee"
      },
      "source": [
        "# Checking for any null or missing values\n",
        "print('Number of missing values across columns: \\n',electronics_data.isnull().sum())"
      ],
      "execution_count": 6,
      "outputs": [
        {
          "output_type": "stream",
          "name": "stdout",
          "text": [
            "Number of missing values across columns: \n",
            " userId       0\n",
            "productId    0\n",
            "Rating       1\n",
            "timestamp    1\n",
            "dtype: int64\n"
          ]
        }
      ]
    },
    {
      "cell_type": "code",
      "metadata": {
        "colab": {
          "base_uri": "https://localhost:8080/"
        },
        "id": "iw7VE_qAZNEg",
        "outputId": "0dda7250-1cfd-4707-d8ca-5a06a4d7510a"
      },
      "source": [
        "#Find the minimum and maximum ratings\n",
        "print('Minimum rating is: %d' %(electronics_data.Rating.min()))\n",
        "print('Maximum rating is: %d' %(electronics_data.Rating.max()))"
      ],
      "execution_count": 7,
      "outputs": [
        {
          "output_type": "stream",
          "name": "stdout",
          "text": [
            "Minimum rating is: 1\n",
            "Maximum rating is: 5\n"
          ]
        }
      ]
    },
    {
      "cell_type": "markdown",
      "metadata": {
        "id": "_s_9pa84a6ys"
      },
      "source": [
        "**DATA DISTRIBUTION**"
      ]
    },
    {
      "cell_type": "code",
      "metadata": {
        "colab": {
          "base_uri": "https://localhost:8080/",
          "height": 391
        },
        "id": "3zcuu-wNfZjH",
        "outputId": "1e1a26b7-a05b-4159-eba7-da6e430bbd2c"
      },
      "source": [
        "\n",
        "sns.pairplot(electronics_data, diag_kind= 'kde')\n"
      ],
      "execution_count": 8,
      "outputs": [
        {
          "output_type": "execute_result",
          "data": {
            "text/plain": [
              "<seaborn.axisgrid.PairGrid at 0x7f5e4e8ed890>"
            ]
          },
          "metadata": {},
          "execution_count": 8
        },
        {
          "output_type": "display_data",
          "data": {
            "image/png": "[encoded data removed]",
            "text/plain": [
              "<Figure size 360x360 with 6 Axes>"
            ]
          },
          "metadata": {
            "needs_background": "light"
          }
        }
      ]
    },
    {
      "cell_type": "code",
      "metadata": {
        "colab": {
          "base_uri": "https://localhost:8080/",
          "height": 204
        },
        "id": "fiCo7dzoX8X1",
        "outputId": "bb59f23d-3495-4160-ee87-b783af37a018"
      },
      "source": [
        "# Checking the distribution of the ratings\n",
        "rating_counts = pd.DataFrame(electronics_data['Rating'].value_counts()).reset_index()\n",
        "rating_counts.columns = ['Labels', 'Ratings']\n",
        "rating_counts"
      ],
      "execution_count": 9,
      "outputs": [
        {
          "output_type": "execute_result",
          "data": {
            "text/html": [
              "<div>\n",
              "<style scoped>\n",
              "    .dataframe tbody tr th:only-of-type {\n",
              "        vertical-align: middle;\n",
              "    }\n",
              "\n",
              "    .dataframe tbody tr th {\n",
              "        vertical-align: top;\n",
              "    }\n",
              "\n",
              "    .dataframe thead th {\n",
              "        text-align: right;\n",
              "    }\n",
              "</style>\n",
              "<table border=\"1\" class=\"dataframe\">\n",
              "  <thead>\n",
              "    <tr style=\"text-align: right;\">\n",
              "      <th></th>\n",
              "      <th>Labels</th>\n",
              "      <th>Ratings</th>\n",
              "    </tr>\n",
              "  </thead>\n",
              "  <tbody>\n",
              "    <tr>\n",
              "      <th>0</th>\n",
              "      <td>5.0000000</td>\n",
              "      <td>1733884</td>\n",
              "    </tr>\n",
              "    <tr>\n",
              "      <th>1</th>\n",
              "      <td>4.0000000</td>\n",
              "      <td>619460</td>\n",
              "    </tr>\n",
              "    <tr>\n",
              "      <th>2</th>\n",
              "      <td>1.0000000</td>\n",
              "      <td>391617</td>\n",
              "    </tr>\n",
              "    <tr>\n",
              "      <th>3</th>\n",
              "      <td>3.0000000</td>\n",
              "      <td>256319</td>\n",
              "    </tr>\n",
              "    <tr>\n",
              "      <th>4</th>\n",
              "      <td>2.0000000</td>\n",
              "      <td>190815</td>\n",
              "    </tr>\n",
              "  </tbody>\n",
              "</table>\n",
              "</div>"
            ],
            "text/plain": [
              "     Labels  Ratings\n",
              "0 5.0000000  1733884\n",
              "1 4.0000000   619460\n",
              "2 1.0000000   391617\n",
              "3 3.0000000   256319\n",
              "4 2.0000000   190815"
            ]
          },
          "metadata": {},
          "execution_count": 9
        }
      ]
    },
    {
      "cell_type": "code",
      "metadata": {
        "colab": {
          "base_uri": "https://localhost:8080/",
          "height": 776
        },
        "id": "emjJwbphkG5h",
        "outputId": "3e64f283-c59f-49af-d3fa-3343e0218745"
      },
      "source": [
        "fig, (ax1, ax2) = plt.subplots(nrows=1, ncols=2, figsize=(15,7))\n",
        "sns.countplot(electronics_data['Rating'], ax=ax1)\n",
        "ax1.set_xlabel('Rating Distribution', fontsize=10)\n",
        "ax1.set_ylabel('Count', fontsize=10)\n",
        "\n",
        "\n",
        "explode = (0.1, 0, 0.1, 0, 0)\n",
        "ax2.pie(rating_counts[\"Ratings\"], explode=explode, labels=rating_counts.Labels, autopct='%1.2f%%',\n",
        "        shadow=True, startangle=70)\n",
        "ax2.axis('equal')\n",
        "plt.title(\"Rating Ratio\")\n",
        "plt.legend(rating_counts.Labels, loc=3)\n",
        "plt.show()"
      ],
      "execution_count": 10,
      "outputs": [
        {
          "output_type": "execute_result",
          "data": {
            "text/plain": [
              "<matplotlib.axes._subplots.AxesSubplot at 0x7f5e43b990d0>"
            ]
          },
          "metadata": {},
          "execution_count": 10
        },
        {
          "output_type": "execute_result",
          "data": {
            "text/plain": [
              "Text(0.5, 0, 'Rating Distribution')"
            ]
          },
          "metadata": {},
          "execution_count": 10
        },
        {
          "output_type": "execute_result",
          "data": {
            "text/plain": [
              "Text(0, 0.5, 'Count')"
            ]
          },
          "metadata": {},
          "execution_count": 10
        },
        {
          "output_type": "execute_result",
          "data": {
            "text/plain": [
              "([<matplotlib.patches.Wedge at 0x7f5e43bb1390>,\n",
              "  <matplotlib.patches.Wedge at 0x7f5e436e5410>,\n",
              "  <matplotlib.patches.Wedge at 0x7f5e436e5b90>,\n",
              "  <matplotlib.patches.Wedge at 0x7f5e436ef890>,\n",
              "  <matplotlib.patches.Wedge at 0x7f5e436fb790>],\n",
              " [Text(-1.1727772471401794, 0.2541525695134766, '5.0'),\n",
              "  Text(0.5578939074679748, -0.9480265755822012, '4.0'),\n",
              "  Text(1.1988485727202942, -0.05255568177194563, '1.0'),\n",
              "  Text(0.9116566810693687, 0.6155339924501193, '3.0'),\n",
              "  Text(0.5625860855793836, 0.9452496476129819, '2.0')],\n",
              " [Text(-0.6841200608317713, 0.14825566554952802, '54.32%'),\n",
              "  Text(0.3043057677098044, -0.5171054048630187, '19.41%'),\n",
              "  Text(0.6993283340868381, -0.030657481033634953, '12.27%'),\n",
              "  Text(0.49726728058329195, 0.3357458140637014, '8.03%'),\n",
              "  Text(0.30686513758875467, 0.5155907168798083, '5.98%')])"
            ]
          },
          "metadata": {},
          "execution_count": 10
        },
        {
          "output_type": "execute_result",
          "data": {
            "text/plain": [
              "(-1.2157865398449696,\n",
              " 1.2150826205469787,\n",
              " -1.1149910052649246,\n",
              " 1.1313380691203048)"
            ]
          },
          "metadata": {},
          "execution_count": 10
        },
        {
          "output_type": "execute_result",
          "data": {
            "text/plain": [
              "Text(0.5, 1.0, 'Rating Ratio')"
            ]
          },
          "metadata": {},
          "execution_count": 10
        },
        {
          "output_type": "execute_result",
          "data": {
            "text/plain": [
              "<matplotlib.legend.Legend at 0x7f5e43bb12d0>"
            ]
          },
          "metadata": {},
          "execution_count": 10
        },
        {
          "output_type": "display_data",
          "data": {
            "image/png": "[encoded data removed]",
            "text/plain": [
              "<Figure size 1080x504 with 2 Axes>"
            ]
          },
          "metadata": {
            "needs_background": "light"
          }
        }
      ]
    },
    {
      "cell_type": "markdown",
      "metadata": {
        "id": "SZCB8bvVf1MI"
      },
      "source": [
        "**OBSERVATIONS:**\n",
        "\n",
        "We can see that most customers provide a rating of \"5\". Very few customers have given a rating of \"2\". \n",
        "\n",
        "From the barplot and pia chart we can clearly see that approx 55% of data have 5 rating followed by 4(approx 19%). Least number of people have given 2 rating. \n",
        "\n",
        "Either most products are liked by customers or there is more to investigate such as dropping of reviews by bots or promotional events. \n",
        "\n",
        "Are customers asked for feedback, if they give a lower rating thus making it easier to go with a rating of \"5\"?"
      ]
    },
    {
      "cell_type": "markdown",
      "metadata": {
        "id": "x0h_5KZjbC_r"
      },
      "source": [
        "**UNIQUE USERS AND NUMBER OF UNIQUE PRODUCTS**"
      ]
    },
    {
      "cell_type": "code",
      "metadata": {
        "id": "0767NVZ3j4mN"
      },
      "source": [
        "electronics_data.productId = electronics_data.productId.fillna('')"
      ],
      "execution_count": 11,
      "outputs": []
    },
    {
      "cell_type": "code",
      "metadata": {
        "colab": {
          "base_uri": "https://localhost:8080/"
        },
        "id": "u6bglPj2a4b9",
        "outputId": "c4d0a096-4b61-4ea0-8b96-9a8021b67bfb"
      },
      "source": [
        "print(\"\\nTotal no of Ratings :\",electronics_data.shape[0])\n",
        "print(\"Total No of Users   :\", len(np.unique(electronics_data.userId)))\n",
        "print(\"Total No of Products  :\", len(np.unique(electronics_data.productId)))"
      ],
      "execution_count": 12,
      "outputs": [
        {
          "output_type": "stream",
          "name": "stdout",
          "text": [
            "\n",
            "Total no of Ratings : 3192096\n",
            "Total No of Users   : 2029434\n",
            "Total No of Products  : 173704\n"
          ]
        }
      ]
    },
    {
      "cell_type": "code",
      "metadata": {
        "id": "gC8gIQN8a4nW"
      },
      "source": [
        "#Dropping the Timestamp Column and it is not needed for our analysis\n",
        "\n",
        "electronics_data.drop(['timestamp'], axis=1,inplace=True)"
      ],
      "execution_count": 13,
      "outputs": []
    },
    {
      "cell_type": "markdown",
      "metadata": {
        "id": "-UwKu3H-lu1s"
      },
      "source": [
        "**POPULARITY BASED RECOMMENDER**\n",
        "\n",
        "Popularity based recommendation system uses the most frequently sold items to drive sales. For example, if any product which is usually bought by every new user then there are chances that it may suggest that item to the user who just signed up.\n",
        "\n",
        "The problems with popularity based recommendation system is that the personalization is not available with this method i.e. even though you know the behaviour of the user you cannot recommend items accordingly.\n",
        "\n",
        "This is good for new users when data is not available on their preferences.\n"
      ]
    },
    {
      "cell_type": "code",
      "metadata": {
        "id": "EWbWRTFya4zD"
      },
      "source": [
        "#  Taking Subset of users who have given 50 or more number of ratings\n",
        "users_counts = electronics_data['userId'].value_counts().rename('users_counts')\n",
        "users_data   = electronics_data.merge(users_counts.to_frame(),\n",
        "                                left_on='userId',\n",
        "                                right_index=True)"
      ],
      "execution_count": 14,
      "outputs": []
    },
    {
      "cell_type": "code",
      "metadata": {
        "colab": {
          "base_uri": "https://localhost:8080/",
          "height": 204
        },
        "id": "8LTygCqkltfW",
        "outputId": "e3ef4b94-bf35-467d-fc3f-02d00605fd97"
      },
      "source": [
        "subset_df = users_data[users_data.users_counts >= 50]\n",
        "subset_df.tail()\n",
        "\n",
        "# Customers who have rated more than 50 products. These customers seem like they are regular buyers and provide regular feedback."
      ],
      "execution_count": 15,
      "outputs": [
        {
          "output_type": "execute_result",
          "data": {
            "text/html": [
              "<div>\n",
              "<style scoped>\n",
              "    .dataframe tbody tr th:only-of-type {\n",
              "        vertical-align: middle;\n",
              "    }\n",
              "\n",
              "    .dataframe tbody tr th {\n",
              "        vertical-align: top;\n",
              "    }\n",
              "\n",
              "    .dataframe thead th {\n",
              "        text-align: right;\n",
              "    }\n",
              "</style>\n",
              "<table border=\"1\" class=\"dataframe\">\n",
              "  <thead>\n",
              "    <tr style=\"text-align: right;\">\n",
              "      <th></th>\n",
              "      <th>userId</th>\n",
              "      <th>productId</th>\n",
              "      <th>Rating</th>\n",
              "      <th>users_counts</th>\n",
              "    </tr>\n",
              "  </thead>\n",
              "  <tbody>\n",
              "    <tr>\n",
              "      <th>2897164</th>\n",
              "      <td>A2CIQEY05SPHTZ</td>\n",
              "      <td>B002VPDM2K</td>\n",
              "      <td>3.0000000</td>\n",
              "      <td>51</td>\n",
              "    </tr>\n",
              "    <tr>\n",
              "      <th>2902224</th>\n",
              "      <td>A2CIQEY05SPHTZ</td>\n",
              "      <td>B002VPE1Y8</td>\n",
              "      <td>4.0000000</td>\n",
              "      <td>51</td>\n",
              "    </tr>\n",
              "    <tr>\n",
              "      <th>2936096</th>\n",
              "      <td>A2CIQEY05SPHTZ</td>\n",
              "      <td>B002XUL5OU</td>\n",
              "      <td>4.0000000</td>\n",
              "      <td>51</td>\n",
              "    </tr>\n",
              "    <tr>\n",
              "      <th>2982519</th>\n",
              "      <td>A2CIQEY05SPHTZ</td>\n",
              "      <td>B0030M5NFC</td>\n",
              "      <td>4.0000000</td>\n",
              "      <td>51</td>\n",
              "    </tr>\n",
              "    <tr>\n",
              "      <th>3075349</th>\n",
              "      <td>A2CIQEY05SPHTZ</td>\n",
              "      <td>B0035MDZKM</td>\n",
              "      <td>4.0000000</td>\n",
              "      <td>51</td>\n",
              "    </tr>\n",
              "  </tbody>\n",
              "</table>\n",
              "</div>"
            ],
            "text/plain": [
              "                 userId   productId    Rating  users_counts\n",
              "2897164  A2CIQEY05SPHTZ  B002VPDM2K 3.0000000            51\n",
              "2902224  A2CIQEY05SPHTZ  B002VPE1Y8 4.0000000            51\n",
              "2936096  A2CIQEY05SPHTZ  B002XUL5OU 4.0000000            51\n",
              "2982519  A2CIQEY05SPHTZ  B0030M5NFC 4.0000000            51\n",
              "3075349  A2CIQEY05SPHTZ  B0035MDZKM 4.0000000            51"
            ]
          },
          "metadata": {},
          "execution_count": 15
        }
      ]
    },
    {
      "cell_type": "markdown",
      "metadata": {
        "id": "nMXbusE6naCX"
      },
      "source": [
        "**Resolving the \"Grey Sheep\" Problem:**\n",
        "\n",
        "\"Recommender Systems have been successfully applied to alleviate the information overload problem and assist the process of decision making. Collaborative filtering, as one of the most popular recommendation algorithms, has been fully explored and developed in the past two decades. However, one of the challenges in collaborative filtering, the problem of \"Grey Sheep\" user, is still under investigation. \"Grey Sheep\" users is a group of the users who have special tastes and they may neither agree nor disagree with the majority of the users. The identification of them becomes a challenge in collaborative filtering, since they may introduce difficulties to produce accurate collaborative recommendations\" (Source:https://dl.acm.org/doi/abs/10.1145/3125649.3125651)"
      ]
    },
    {
      "cell_type": "code",
      "metadata": {
        "colab": {
          "base_uri": "https://localhost:8080/",
          "height": 204
        },
        "id": "aiJGGXQVmjz-",
        "outputId": "98a050d1-e3ee-4893-9fdb-3710f5d10b01"
      },
      "source": [
        "# We resolve the \"Grey Sheep\" Problem by taking a subset of products that have 10 or more ratings. \n",
        "# This will ensure that these are commonly purchased and rated.\n",
        "product_rating_counts = subset_df['productId'].value_counts().rename('product_rating_counts')\n",
        "product_rating_data   = subset_df.merge(product_rating_counts.to_frame(),\n",
        "                                left_on='productId',\n",
        "                                right_index=True)\n",
        "product_rating_data = product_rating_data[product_rating_data.product_rating_counts >= 10]\n",
        "product_rating_data.tail()\n"
      ],
      "execution_count": 16,
      "outputs": [
        {
          "output_type": "execute_result",
          "data": {
            "text/html": [
              "<div>\n",
              "<style scoped>\n",
              "    .dataframe tbody tr th:only-of-type {\n",
              "        vertical-align: middle;\n",
              "    }\n",
              "\n",
              "    .dataframe tbody tr th {\n",
              "        vertical-align: top;\n",
              "    }\n",
              "\n",
              "    .dataframe thead th {\n",
              "        text-align: right;\n",
              "    }\n",
              "</style>\n",
              "<table border=\"1\" class=\"dataframe\">\n",
              "  <thead>\n",
              "    <tr style=\"text-align: right;\">\n",
              "      <th></th>\n",
              "      <th>userId</th>\n",
              "      <th>productId</th>\n",
              "      <th>Rating</th>\n",
              "      <th>users_counts</th>\n",
              "      <th>product_rating_counts</th>\n",
              "    </tr>\n",
              "  </thead>\n",
              "  <tbody>\n",
              "    <tr>\n",
              "      <th>208660</th>\n",
              "      <td>AHROSV6WJOEGY</td>\n",
              "      <td>B00006RVPW</td>\n",
              "      <td>5.0000000</td>\n",
              "      <td>50</td>\n",
              "      <td>10</td>\n",
              "    </tr>\n",
              "    <tr>\n",
              "      <th>208913</th>\n",
              "      <td>A3Q4TYJVAM4IRM</td>\n",
              "      <td>B00006RVPW</td>\n",
              "      <td>5.0000000</td>\n",
              "      <td>86</td>\n",
              "      <td>10</td>\n",
              "    </tr>\n",
              "    <tr>\n",
              "      <th>208786</th>\n",
              "      <td>A1CPRP3VFJRS1R</td>\n",
              "      <td>B00006RVPW</td>\n",
              "      <td>5.0000000</td>\n",
              "      <td>64</td>\n",
              "      <td>10</td>\n",
              "    </tr>\n",
              "    <tr>\n",
              "      <th>208259</th>\n",
              "      <td>A38KK0SZYEH5UD</td>\n",
              "      <td>B00006RVPW</td>\n",
              "      <td>5.0000000</td>\n",
              "      <td>92</td>\n",
              "      <td>10</td>\n",
              "    </tr>\n",
              "    <tr>\n",
              "      <th>209194</th>\n",
              "      <td>AI8EMB0HUC6Z5</td>\n",
              "      <td>B00006RVPW</td>\n",
              "      <td>5.0000000</td>\n",
              "      <td>62</td>\n",
              "      <td>10</td>\n",
              "    </tr>\n",
              "  </tbody>\n",
              "</table>\n",
              "</div>"
            ],
            "text/plain": [
              "                userId   productId    Rating  users_counts  \\\n",
              "208660   AHROSV6WJOEGY  B00006RVPW 5.0000000            50   \n",
              "208913  A3Q4TYJVAM4IRM  B00006RVPW 5.0000000            86   \n",
              "208786  A1CPRP3VFJRS1R  B00006RVPW 5.0000000            64   \n",
              "208259  A38KK0SZYEH5UD  B00006RVPW 5.0000000            92   \n",
              "209194   AI8EMB0HUC6Z5  B00006RVPW 5.0000000            62   \n",
              "\n",
              "        product_rating_counts  \n",
              "208660                     10  \n",
              "208913                     10  \n",
              "208786                     10  \n",
              "208259                     10  \n",
              "209194                     10  "
            ]
          },
          "metadata": {},
          "execution_count": 16
        }
      ]
    },
    {
      "cell_type": "code",
      "metadata": {
        "colab": {
          "base_uri": "https://localhost:8080/",
          "height": 339
        },
        "id": "Zm8tv_0fqjU2",
        "outputId": "99b8cc29-6725-4091-b990-991beacc6c5a"
      },
      "source": [
        "no_of_ratings_per_product = product_rating_data.groupby(by='productId')['Rating'].count().sort_values(ascending=False)\n",
        "\n",
        "fig = plt.figure(figsize=plt.figaspect(.5))\n",
        "ax = plt.gca()\n",
        "plt.plot(no_of_ratings_per_product.values)\n",
        "plt.title('# RATINGS per Product')\n",
        "plt.xlabel('Product')\n",
        "plt.ylabel('No of ratings per product')\n",
        "ax.set_xticklabels([])\n",
        "\n",
        "plt.show()"
      ],
      "execution_count": 17,
      "outputs": [
        {
          "output_type": "execute_result",
          "data": {
            "text/plain": [
              "[<matplotlib.lines.Line2D at 0x7f5e43624750>]"
            ]
          },
          "metadata": {},
          "execution_count": 17
        },
        {
          "output_type": "execute_result",
          "data": {
            "text/plain": [
              "Text(0.5, 1.0, '# RATINGS per Product')"
            ]
          },
          "metadata": {},
          "execution_count": 17
        },
        {
          "output_type": "execute_result",
          "data": {
            "text/plain": [
              "Text(0.5, 0, 'Product')"
            ]
          },
          "metadata": {},
          "execution_count": 17
        },
        {
          "output_type": "execute_result",
          "data": {
            "text/plain": [
              "Text(0, 0.5, 'No of ratings per product')"
            ]
          },
          "metadata": {},
          "execution_count": 17
        },
        {
          "output_type": "execute_result",
          "data": {
            "text/plain": [
              "[]"
            ]
          },
          "metadata": {},
          "execution_count": 17
        },
        {
          "output_type": "display_data",
          "data": {
            "image/png": "[encoded data removed]",
            "text/plain": [
              "<Figure size 576x288 with 1 Axes>"
            ]
          },
          "metadata": {
            "needs_background": "light"
          }
        }
      ]
    },
    {
      "cell_type": "code",
      "metadata": {
        "colab": {
          "base_uri": "https://localhost:8080/"
        },
        "id": "oF9mSGSYq7d-",
        "outputId": "bfb99508-7664-4fb6-a5fe-ce67dea01cdf"
      },
      "source": [
        "#Average rating of the product \n",
        "\n",
        "product_rating_data.groupby('productId')['Rating'].mean().head()"
      ],
      "execution_count": 18,
      "outputs": [
        {
          "output_type": "execute_result",
          "data": {
            "text/plain": [
              "productId\n",
              "B00004SB92   4.3636364\n",
              "B00004ZCJE   4.3000000\n",
              "B00005LEN4   4.6956522\n",
              "B00005T3G0   4.8181818\n",
              "B00006B7DA   4.2500000\n",
              "Name: Rating, dtype: float64"
            ]
          },
          "metadata": {},
          "execution_count": 18
        }
      ]
    },
    {
      "cell_type": "code",
      "metadata": {
        "colab": {
          "base_uri": "https://localhost:8080/"
        },
        "id": "det14Bxxq7p2",
        "outputId": "bbe9479b-6d60-440b-8549-29574936b7b8"
      },
      "source": [
        "product_rating_data.groupby('productId')['Rating'].mean().sort_values(ascending=False).head()"
      ],
      "execution_count": 19,
      "outputs": [
        {
          "output_type": "execute_result",
          "data": {
            "text/plain": [
              "productId\n",
              "B0000BZL1P   5.0000000\n",
              "B001TH7GUU   4.9473684\n",
              "B00017LSPI   4.9333333\n",
              "B0010Z28XG   4.9166667\n",
              "B002WE6D44   4.9130435\n",
              "Name: Rating, dtype: float64"
            ]
          },
          "metadata": {},
          "execution_count": 19
        }
      ]
    },
    {
      "cell_type": "code",
      "metadata": {
        "colab": {
          "base_uri": "https://localhost:8080/"
        },
        "id": "RrRTaJ1aq7zG",
        "outputId": "a8e89179-9cce-4d65-99f2-0f8f190ec51b"
      },
      "source": [
        "#Top Products with maximum ratings of \"5\"\n",
        "\n",
        "product_rating_data.groupby('productId')['Rating'].count().sort_values(ascending=False).head()"
      ],
      "execution_count": 20,
      "outputs": [
        {
          "output_type": "execute_result",
          "data": {
            "text/plain": [
              "productId\n",
              "B002R5AM7C    42\n",
              "B002SQK2F2    33\n",
              "B000JMJWV2    32\n",
              "B000N99BBC    31\n",
              "B00004ZCJE    30\n",
              "Name: Rating, dtype: int64"
            ]
          },
          "metadata": {},
          "execution_count": 20
        }
      ]
    },
    {
      "cell_type": "code",
      "metadata": {
        "colab": {
          "base_uri": "https://localhost:8080/",
          "height": 235
        },
        "id": "P4kktTQYq726",
        "outputId": "2dbf30e0-35bd-458c-fbb5-23e29cc7fa87"
      },
      "source": [
        "ratings_mean_count = pd.DataFrame(product_rating_data.groupby('productId')['Rating'].mean())\n",
        "ratings_mean_count['rating_counts'] = pd.DataFrame(product_rating_data.groupby('productId')['Rating'].count())\n",
        "ratings_mean_count.head()"
      ],
      "execution_count": 21,
      "outputs": [
        {
          "output_type": "execute_result",
          "data": {
            "text/html": [
              "<div>\n",
              "<style scoped>\n",
              "    .dataframe tbody tr th:only-of-type {\n",
              "        vertical-align: middle;\n",
              "    }\n",
              "\n",
              "    .dataframe tbody tr th {\n",
              "        vertical-align: top;\n",
              "    }\n",
              "\n",
              "    .dataframe thead th {\n",
              "        text-align: right;\n",
              "    }\n",
              "</style>\n",
              "<table border=\"1\" class=\"dataframe\">\n",
              "  <thead>\n",
              "    <tr style=\"text-align: right;\">\n",
              "      <th></th>\n",
              "      <th>Rating</th>\n",
              "      <th>rating_counts</th>\n",
              "    </tr>\n",
              "    <tr>\n",
              "      <th>productId</th>\n",
              "      <th></th>\n",
              "      <th></th>\n",
              "    </tr>\n",
              "  </thead>\n",
              "  <tbody>\n",
              "    <tr>\n",
              "      <th>B00004SB92</th>\n",
              "      <td>4.3636364</td>\n",
              "      <td>11</td>\n",
              "    </tr>\n",
              "    <tr>\n",
              "      <th>B00004ZCJE</th>\n",
              "      <td>4.3000000</td>\n",
              "      <td>30</td>\n",
              "    </tr>\n",
              "    <tr>\n",
              "      <th>B00005LEN4</th>\n",
              "      <td>4.6956522</td>\n",
              "      <td>23</td>\n",
              "    </tr>\n",
              "    <tr>\n",
              "      <th>B00005T3G0</th>\n",
              "      <td>4.8181818</td>\n",
              "      <td>11</td>\n",
              "    </tr>\n",
              "    <tr>\n",
              "      <th>B00006B7DA</th>\n",
              "      <td>4.2500000</td>\n",
              "      <td>12</td>\n",
              "    </tr>\n",
              "  </tbody>\n",
              "</table>\n",
              "</div>"
            ],
            "text/plain": [
              "              Rating  rating_counts\n",
              "productId                          \n",
              "B00004SB92 4.3636364             11\n",
              "B00004ZCJE 4.3000000             30\n",
              "B00005LEN4 4.6956522             23\n",
              "B00005T3G0 4.8181818             11\n",
              "B00006B7DA 4.2500000             12"
            ]
          },
          "metadata": {},
          "execution_count": 21
        }
      ]
    },
    {
      "cell_type": "code",
      "metadata": {
        "colab": {
          "base_uri": "https://localhost:8080/",
          "height": 391
        },
        "id": "UZ9FZxv5q77f",
        "outputId": "f5493d3c-ba93-415c-9bc4-f39bd1d5698d"
      },
      "source": [
        "plt.figure(figsize=(8,6))\n",
        "plt.rcParams['patch.force_edgecolor'] = True\n",
        "ratings_mean_count['rating_counts'].hist(bins=20)"
      ],
      "execution_count": 22,
      "outputs": [
        {
          "output_type": "execute_result",
          "data": {
            "text/plain": [
              "<Figure size 576x432 with 0 Axes>"
            ]
          },
          "metadata": {},
          "execution_count": 22
        },
        {
          "output_type": "execute_result",
          "data": {
            "text/plain": [
              "<matplotlib.axes._subplots.AxesSubplot at 0x7f5e435c1310>"
            ]
          },
          "metadata": {},
          "execution_count": 22
        },
        {
          "output_type": "display_data",
          "data": {
            "image/png": "[encoded data removed]",
            "text/plain": [
              "<Figure size 576x432 with 1 Axes>"
            ]
          },
          "metadata": {
            "needs_background": "light"
          }
        }
      ]
    },
    {
      "cell_type": "markdown",
      "metadata": {
        "id": "BL0MNphx0OVc"
      },
      "source": [
        "**OBSERVATION:**\n",
        "\n",
        "We see that the most customers have reviewed the top 25 products. This leads us to the conclusion that this seems to be the most popular product."
      ]
    },
    {
      "cell_type": "code",
      "metadata": {
        "colab": {
          "base_uri": "https://localhost:8080/",
          "height": 391
        },
        "id": "vHsXvk-aq7-M",
        "outputId": "0ff2bc87-1375-4d98-e50e-925ac5dba2e1"
      },
      "source": [
        "plt.figure(figsize=(8,6))\n",
        "plt.rcParams['patch.force_edgecolor'] = True\n",
        "ratings_mean_count['Rating'].hist(bins=50)"
      ],
      "execution_count": 23,
      "outputs": [
        {
          "output_type": "execute_result",
          "data": {
            "text/plain": [
              "<Figure size 576x432 with 0 Axes>"
            ]
          },
          "metadata": {},
          "execution_count": 23
        },
        {
          "output_type": "execute_result",
          "data": {
            "text/plain": [
              "<matplotlib.axes._subplots.AxesSubplot at 0x7f5e4355aa50>"
            ]
          },
          "metadata": {},
          "execution_count": 23
        },
        {
          "output_type": "display_data",
          "data": {
            "image/png": "[encoded data removed]",
            "text/plain": [
              "<Figure size 576x432 with 1 Axes>"
            ]
          },
          "metadata": {
            "needs_background": "light"
          }
        }
      ]
    },
    {
      "cell_type": "markdown",
      "metadata": {
        "id": "4nT13Jbh2DcH"
      },
      "source": [
        "**OBSERVATION**\n",
        "\n",
        "Here we see that the items with most ratings seem to be popular and consistently score between Rating \"4\" to Rating \"5\""
      ]
    },
    {
      "cell_type": "code",
      "metadata": {
        "colab": {
          "base_uri": "https://localhost:8080/",
          "height": 475
        },
        "id": "mKsh2tJjq8Bd",
        "outputId": "6cfd7103-3772-4172-c054-6c1716c1fa0f"
      },
      "source": [
        "# Lets see the data on a jointplot\n",
        "plt.figure(figsize=(8,6))\n",
        "plt.rcParams['patch.force_edgecolor'] = True\n",
        "sns.jointplot(x='Rating', y='rating_counts', data=ratings_mean_count, alpha=0.4)"
      ],
      "execution_count": 24,
      "outputs": [
        {
          "output_type": "execute_result",
          "data": {
            "text/plain": [
              "<Figure size 576x432 with 0 Axes>"
            ]
          },
          "metadata": {},
          "execution_count": 24
        },
        {
          "output_type": "execute_result",
          "data": {
            "text/plain": [
              "<seaborn.axisgrid.JointGrid at 0x7f5e4343dd50>"
            ]
          },
          "metadata": {},
          "execution_count": 24
        },
        {
          "output_type": "display_data",
          "data": {
            "text/plain": [
              "<Figure size 576x432 with 0 Axes>"
            ]
          },
          "metadata": {}
        },
        {
          "output_type": "display_data",
          "data": {
            "image/png": "[encoded data removed]",
            "text/plain": [
              "<Figure size 432x432 with 3 Axes>"
            ]
          },
          "metadata": {
            "needs_background": "light"
          }
        }
      ]
    },
    {
      "cell_type": "code",
      "metadata": {
        "colab": {
          "base_uri": "https://localhost:8080/",
          "height": 355
        },
        "id": "dIzZtRjqq8Fm",
        "outputId": "e9294399-6638-41cb-f970-5b8cd905a176"
      },
      "source": [
        "popular_products = pd.DataFrame(product_rating_data.groupby('productId')['Rating'].count())\n",
        "most_popular = popular_products.sort_values('Rating', ascending=False)\n",
        "most_popular.head(10).plot(kind = \"bar\")"
      ],
      "execution_count": 25,
      "outputs": [
        {
          "output_type": "execute_result",
          "data": {
            "text/plain": [
              "<matplotlib.axes._subplots.AxesSubplot at 0x7f5e43244590>"
            ]
          },
          "metadata": {},
          "execution_count": 25
        },
        {
          "output_type": "display_data",
          "data": {
            "image/png": "[encoded data removed]",
            "text/plain": [
              "<Figure size 432x288 with 1 Axes>"
            ]
          },
          "metadata": {
            "needs_background": "light"
          }
        }
      ]
    },
    {
      "cell_type": "markdown",
      "metadata": {
        "id": "5MWdzzHv3gS0"
      },
      "source": [
        "The above chart shows us the Top 10 Recommended Products based on popularity"
      ]
    },
    {
      "cell_type": "markdown",
      "metadata": {
        "id": "-BKtftcA5gxy"
      },
      "source": [
        "**DATA PREPARATION**\n",
        "\n"
      ]
    },
    {
      "cell_type": "code",
      "metadata": {
        "id": "HZEH4gSOq8Jy"
      },
      "source": [
        "df1=product_rating_data.copy()\n",
        "df2 = df1.drop(['users_counts', 'product_rating_counts'], axis=1)"
      ],
      "execution_count": 26,
      "outputs": []
    },
    {
      "cell_type": "code",
      "metadata": {
        "colab": {
          "base_uri": "https://localhost:8080/",
          "height": 204
        },
        "id": "1nvHvgewq8MB",
        "outputId": "e36602a3-be9d-4173-9a0d-47819ccca092"
      },
      "source": [
        "df2.head()"
      ],
      "execution_count": 27,
      "outputs": [
        {
          "output_type": "execute_result",
          "data": {
            "text/html": [
              "<div>\n",
              "<style scoped>\n",
              "    .dataframe tbody tr th:only-of-type {\n",
              "        vertical-align: middle;\n",
              "    }\n",
              "\n",
              "    .dataframe tbody tr th {\n",
              "        vertical-align: top;\n",
              "    }\n",
              "\n",
              "    .dataframe thead th {\n",
              "        text-align: right;\n",
              "    }\n",
              "</style>\n",
              "<table border=\"1\" class=\"dataframe\">\n",
              "  <thead>\n",
              "    <tr style=\"text-align: right;\">\n",
              "      <th></th>\n",
              "      <th>userId</th>\n",
              "      <th>productId</th>\n",
              "      <th>Rating</th>\n",
              "    </tr>\n",
              "  </thead>\n",
              "  <tbody>\n",
              "    <tr>\n",
              "      <th>227983</th>\n",
              "      <td>A17HMM1M7T9PJ1</td>\n",
              "      <td>B00007GQLU</td>\n",
              "      <td>5.0000000</td>\n",
              "    </tr>\n",
              "    <tr>\n",
              "      <th>227685</th>\n",
              "      <td>A1VHCO8RQFIGQJ</td>\n",
              "      <td>B00007GQLU</td>\n",
              "      <td>5.0000000</td>\n",
              "    </tr>\n",
              "    <tr>\n",
              "      <th>227907</th>\n",
              "      <td>A3OA4DV4L81N1D</td>\n",
              "      <td>B00007GQLU</td>\n",
              "      <td>5.0000000</td>\n",
              "    </tr>\n",
              "    <tr>\n",
              "      <th>227909</th>\n",
              "      <td>AAQ9NJ480N9W5</td>\n",
              "      <td>B00007GQLU</td>\n",
              "      <td>4.0000000</td>\n",
              "    </tr>\n",
              "    <tr>\n",
              "      <th>227578</th>\n",
              "      <td>A4WEZJOIZIV4U</td>\n",
              "      <td>B00007GQLU</td>\n",
              "      <td>5.0000000</td>\n",
              "    </tr>\n",
              "  </tbody>\n",
              "</table>\n",
              "</div>"
            ],
            "text/plain": [
              "                userId   productId    Rating\n",
              "227983  A17HMM1M7T9PJ1  B00007GQLU 5.0000000\n",
              "227685  A1VHCO8RQFIGQJ  B00007GQLU 5.0000000\n",
              "227907  A3OA4DV4L81N1D  B00007GQLU 5.0000000\n",
              "227909   AAQ9NJ480N9W5  B00007GQLU 4.0000000\n",
              "227578   A4WEZJOIZIV4U  B00007GQLU 5.0000000"
            ]
          },
          "metadata": {},
          "execution_count": 27
        }
      ]
    },
    {
      "cell_type": "code",
      "metadata": {
        "colab": {
          "base_uri": "https://localhost:8080/"
        },
        "id": "199celAm7x_8",
        "outputId": "a2620a15-497e-4a8a-9ccf-c72e726fadd2"
      },
      "source": [
        "!pip3 install numpy\n",
        "!pip3 install scikit-surprise"
      ],
      "execution_count": 28,
      "outputs": [
        {
          "output_type": "stream",
          "name": "stdout",
          "text": [
            "Requirement already satisfied: numpy in /usr/local/lib/python3.7/dist-packages (1.19.5)\n",
            "Requirement already satisfied: scikit-surprise in /usr/local/lib/python3.7/dist-packages (1.1.1)\n",
            "Requirement already satisfied: joblib>=0.11 in /usr/local/lib/python3.7/dist-packages (from scikit-surprise) (1.0.1)\n",
            "Requirement already satisfied: numpy>=1.11.2 in /usr/local/lib/python3.7/dist-packages (from scikit-surprise) (1.19.5)\n",
            "Requirement already satisfied: scipy>=1.0.0 in /usr/local/lib/python3.7/dist-packages (from scikit-surprise) (1.4.1)\n",
            "Requirement already satisfied: six>=1.10.0 in /usr/local/lib/python3.7/dist-packages (from scikit-surprise) (1.15.0)\n"
          ]
        }
      ]
    },
    {
      "cell_type": "code",
      "metadata": {
        "id": "cwAR5Nrz61bW"
      },
      "source": [
        "from collections import defaultdict\n",
        "from surprise import KNNWithMeans\n",
        "from surprise import SVD, SVDpp\n",
        "from surprise import KNNBaseline\n",
        "from surprise import KNNBasic\n",
        "from surprise import KNNWithZScore\n",
        "from surprise import BaselineOnly\n",
        "from surprise import Dataset\n",
        "from surprise import Reader\n",
        "from surprise import accuracy\n",
        "from surprise.model_selection import train_test_split\n",
        "from surprise.model_selection import cross_validate\n",
        "from surprise.model_selection import KFold\n",
        "from surprise.model_selection import GridSearchCV\n",
        "\n",
        "import time"
      ],
      "execution_count": 29,
      "outputs": []
    },
    {
      "cell_type": "code",
      "metadata": {
        "id": "sJy33egTq8Pv"
      },
      "source": [
        "# Spliting the data randomly into train and test dataset. (Split it in 70/30 ratio)\n",
        "\n",
        "k = 5 \n",
        "#(To Get top - K ( K = 5) recommendations)\n",
        "reader = Reader(rating_scale=(1, 5))\n",
        "surprise_data = Dataset.load_from_df(df2[['userId', 'productId', 'Rating']], reader)\n",
        "trainset, testset = train_test_split(surprise_data, test_size=.30, random_state=7)"
      ],
      "execution_count": 30,
      "outputs": []
    },
    {
      "cell_type": "markdown",
      "metadata": {
        "id": "DHyieHL28TBS"
      },
      "source": [
        "**DATA MODELING**\n",
        "\n",
        "Here we will try two types of Popularity Recommender Models - \n",
        "\n",
        "1) Using Mean Product Rating\n",
        "\n",
        "2) Using Ranking Based Rating"
      ]
    },
    {
      "cell_type": "code",
      "metadata": {
        "colab": {
          "base_uri": "https://localhost:8080/"
        },
        "id": "7m4dPGSW9Fk5",
        "outputId": "b84b19de-9bac-44f0-9f2f-b03184434132"
      },
      "source": [
        "# 1) Using Mean Product Rating\n",
        "df2.groupby('productId')['Rating'].mean().head()"
      ],
      "execution_count": 31,
      "outputs": [
        {
          "output_type": "execute_result",
          "data": {
            "text/plain": [
              "productId\n",
              "B00004SB92   4.3636364\n",
              "B00004ZCJE   4.3000000\n",
              "B00005LEN4   4.6956522\n",
              "B00005T3G0   4.8181818\n",
              "B00006B7DA   4.2500000\n",
              "Name: Rating, dtype: float64"
            ]
          },
          "metadata": {},
          "execution_count": 31
        }
      ]
    },
    {
      "cell_type": "code",
      "metadata": {
        "colab": {
          "base_uri": "https://localhost:8080/"
        },
        "id": "FoUOQsYK9F_f",
        "outputId": "71bd0e1b-380e-40d1-ac5b-07a569bac02d"
      },
      "source": [
        "df2.groupby('productId')['Rating'].mean().sort_values(ascending=False).head()"
      ],
      "execution_count": 32,
      "outputs": [
        {
          "output_type": "execute_result",
          "data": {
            "text/plain": [
              "productId\n",
              "B0000BZL1P   5.0000000\n",
              "B001TH7GUU   4.9473684\n",
              "B00017LSPI   4.9333333\n",
              "B0010Z28XG   4.9166667\n",
              "B002WE6D44   4.9130435\n",
              "Name: Rating, dtype: float64"
            ]
          },
          "metadata": {},
          "execution_count": 32
        }
      ]
    },
    {
      "cell_type": "code",
      "metadata": {
        "colab": {
          "base_uri": "https://localhost:8080/",
          "height": 235
        },
        "id": "Y9FduWyd9y2x",
        "outputId": "94c975d8-d498-477e-cc2c-6a64f48c9ea3"
      },
      "source": [
        "prod_rating_count = pd.DataFrame(df2.groupby('productId')['Rating'].mean().sort_values(ascending=False))\n",
        "prod_rating_count['prod_rating_count'] = pd.DataFrame(df2.groupby('productId')['Rating'].count())\n",
        "prod_rating_count.head(k)"
      ],
      "execution_count": 33,
      "outputs": [
        {
          "output_type": "execute_result",
          "data": {
            "text/html": [
              "<div>\n",
              "<style scoped>\n",
              "    .dataframe tbody tr th:only-of-type {\n",
              "        vertical-align: middle;\n",
              "    }\n",
              "\n",
              "    .dataframe tbody tr th {\n",
              "        vertical-align: top;\n",
              "    }\n",
              "\n",
              "    .dataframe thead th {\n",
              "        text-align: right;\n",
              "    }\n",
              "</style>\n",
              "<table border=\"1\" class=\"dataframe\">\n",
              "  <thead>\n",
              "    <tr style=\"text-align: right;\">\n",
              "      <th></th>\n",
              "      <th>Rating</th>\n",
              "      <th>prod_rating_count</th>\n",
              "    </tr>\n",
              "    <tr>\n",
              "      <th>productId</th>\n",
              "      <th></th>\n",
              "      <th></th>\n",
              "    </tr>\n",
              "  </thead>\n",
              "  <tbody>\n",
              "    <tr>\n",
              "      <th>B0000BZL1P</th>\n",
              "      <td>5.0000000</td>\n",
              "      <td>18</td>\n",
              "    </tr>\n",
              "    <tr>\n",
              "      <th>B001TH7GUU</th>\n",
              "      <td>4.9473684</td>\n",
              "      <td>19</td>\n",
              "    </tr>\n",
              "    <tr>\n",
              "      <th>B00017LSPI</th>\n",
              "      <td>4.9333333</td>\n",
              "      <td>15</td>\n",
              "    </tr>\n",
              "    <tr>\n",
              "      <th>B0010Z28XG</th>\n",
              "      <td>4.9166667</td>\n",
              "      <td>12</td>\n",
              "    </tr>\n",
              "    <tr>\n",
              "      <th>B002WE6D44</th>\n",
              "      <td>4.9130435</td>\n",
              "      <td>23</td>\n",
              "    </tr>\n",
              "  </tbody>\n",
              "</table>\n",
              "</div>"
            ],
            "text/plain": [
              "              Rating  prod_rating_count\n",
              "productId                              \n",
              "B0000BZL1P 5.0000000                 18\n",
              "B001TH7GUU 4.9473684                 19\n",
              "B00017LSPI 4.9333333                 15\n",
              "B0010Z28XG 4.9166667                 12\n",
              "B002WE6D44 4.9130435                 23"
            ]
          },
          "metadata": {},
          "execution_count": 33
        }
      ]
    },
    {
      "cell_type": "code",
      "metadata": {
        "colab": {
          "base_uri": "https://localhost:8080/",
          "height": 235
        },
        "id": "TM0PXDAa9zLT",
        "outputId": "ef7bd4ab-d1ea-461e-f2ca-c84c5c6a61e2"
      },
      "source": [
        "basic_poplurity_model = prod_rating_count.sort_values(by=['prod_rating_count'], ascending=False)\n",
        "basic_poplurity_model.head(k)"
      ],
      "execution_count": 34,
      "outputs": [
        {
          "output_type": "execute_result",
          "data": {
            "text/html": [
              "<div>\n",
              "<style scoped>\n",
              "    .dataframe tbody tr th:only-of-type {\n",
              "        vertical-align: middle;\n",
              "    }\n",
              "\n",
              "    .dataframe tbody tr th {\n",
              "        vertical-align: top;\n",
              "    }\n",
              "\n",
              "    .dataframe thead th {\n",
              "        text-align: right;\n",
              "    }\n",
              "</style>\n",
              "<table border=\"1\" class=\"dataframe\">\n",
              "  <thead>\n",
              "    <tr style=\"text-align: right;\">\n",
              "      <th></th>\n",
              "      <th>Rating</th>\n",
              "      <th>prod_rating_count</th>\n",
              "    </tr>\n",
              "    <tr>\n",
              "      <th>productId</th>\n",
              "      <th></th>\n",
              "      <th></th>\n",
              "    </tr>\n",
              "  </thead>\n",
              "  <tbody>\n",
              "    <tr>\n",
              "      <th>B002R5AM7C</th>\n",
              "      <td>4.1428571</td>\n",
              "      <td>42</td>\n",
              "    </tr>\n",
              "    <tr>\n",
              "      <th>B002SQK2F2</th>\n",
              "      <td>3.0303030</td>\n",
              "      <td>33</td>\n",
              "    </tr>\n",
              "    <tr>\n",
              "      <th>B000JMJWV2</th>\n",
              "      <td>4.7187500</td>\n",
              "      <td>32</td>\n",
              "    </tr>\n",
              "    <tr>\n",
              "      <th>B000N99BBC</th>\n",
              "      <td>4.8064516</td>\n",
              "      <td>31</td>\n",
              "    </tr>\n",
              "    <tr>\n",
              "      <th>B00004ZCJE</th>\n",
              "      <td>4.3000000</td>\n",
              "      <td>30</td>\n",
              "    </tr>\n",
              "  </tbody>\n",
              "</table>\n",
              "</div>"
            ],
            "text/plain": [
              "              Rating  prod_rating_count\n",
              "productId                              \n",
              "B002R5AM7C 4.1428571                 42\n",
              "B002SQK2F2 3.0303030                 33\n",
              "B000JMJWV2 4.7187500                 32\n",
              "B000N99BBC 4.8064516                 31\n",
              "B00004ZCJE 4.3000000                 30"
            ]
          },
          "metadata": {},
          "execution_count": 34
        }
      ]
    },
    {
      "cell_type": "markdown",
      "metadata": {
        "id": "wk1gwARf-KgJ"
      },
      "source": [
        "These are the TOP 5 popular products that would be recommended based on Mean Product Rating"
      ]
    },
    {
      "cell_type": "markdown",
      "metadata": {
        "id": "Y23UrgTN-XTB"
      },
      "source": [
        "2) Ranking Based Rating"
      ]
    },
    {
      "cell_type": "code",
      "metadata": {
        "colab": {
          "base_uri": "https://localhost:8080/",
          "height": 204
        },
        "id": "0H1LOLGU9zRR",
        "outputId": "3cf66a23-16eb-4f0e-a8fb-d9dd44885d7a"
      },
      "source": [
        "df2_grouped = df2.groupby('productId').agg({'userId': 'count'}).reset_index()\n",
        "df2_grouped.rename(columns = {'userId': 'Score'},inplace=True)\n",
        "df2_grouped.head()"
      ],
      "execution_count": 35,
      "outputs": [
        {
          "output_type": "execute_result",
          "data": {
            "text/html": [
              "<div>\n",
              "<style scoped>\n",
              "    .dataframe tbody tr th:only-of-type {\n",
              "        vertical-align: middle;\n",
              "    }\n",
              "\n",
              "    .dataframe tbody tr th {\n",
              "        vertical-align: top;\n",
              "    }\n",
              "\n",
              "    .dataframe thead th {\n",
              "        text-align: right;\n",
              "    }\n",
              "</style>\n",
              "<table border=\"1\" class=\"dataframe\">\n",
              "  <thead>\n",
              "    <tr style=\"text-align: right;\">\n",
              "      <th></th>\n",
              "      <th>productId</th>\n",
              "      <th>Score</th>\n",
              "    </tr>\n",
              "  </thead>\n",
              "  <tbody>\n",
              "    <tr>\n",
              "      <th>0</th>\n",
              "      <td>B00004SB92</td>\n",
              "      <td>11</td>\n",
              "    </tr>\n",
              "    <tr>\n",
              "      <th>1</th>\n",
              "      <td>B00004ZCJE</td>\n",
              "      <td>30</td>\n",
              "    </tr>\n",
              "    <tr>\n",
              "      <th>2</th>\n",
              "      <td>B00005LEN4</td>\n",
              "      <td>23</td>\n",
              "    </tr>\n",
              "    <tr>\n",
              "      <th>3</th>\n",
              "      <td>B00005T3G0</td>\n",
              "      <td>11</td>\n",
              "    </tr>\n",
              "    <tr>\n",
              "      <th>4</th>\n",
              "      <td>B00006B7DA</td>\n",
              "      <td>12</td>\n",
              "    </tr>\n",
              "  </tbody>\n",
              "</table>\n",
              "</div>"
            ],
            "text/plain": [
              "    productId  Score\n",
              "0  B00004SB92     11\n",
              "1  B00004ZCJE     30\n",
              "2  B00005LEN4     23\n",
              "3  B00005T3G0     11\n",
              "4  B00006B7DA     12"
            ]
          },
          "metadata": {},
          "execution_count": 35
        }
      ]
    },
    {
      "cell_type": "code",
      "metadata": {
        "colab": {
          "base_uri": "https://localhost:8080/",
          "height": 204
        },
        "id": "HgiiaLw-9zaj",
        "outputId": "791df55d-fde2-4b45-80de-2481dac3673f"
      },
      "source": [
        "#Sort the products on recommendation score \n",
        "df2_sort = df2_grouped.sort_values(['Score', 'productId'], ascending = [0,1]) \n",
        "      \n",
        "#Generate a product rank based upon score \n",
        "df2_sort['Rank'] = df2_sort['Score'].rank(ascending=0, method='first') \n",
        "          \n",
        "#Get the top 5 recommendations \n",
        "popularity_recommendations = df2_sort.head(k) \n",
        "popularity_recommendations "
      ],
      "execution_count": 36,
      "outputs": [
        {
          "output_type": "execute_result",
          "data": {
            "text/html": [
              "<div>\n",
              "<style scoped>\n",
              "    .dataframe tbody tr th:only-of-type {\n",
              "        vertical-align: middle;\n",
              "    }\n",
              "\n",
              "    .dataframe tbody tr th {\n",
              "        vertical-align: top;\n",
              "    }\n",
              "\n",
              "    .dataframe thead th {\n",
              "        text-align: right;\n",
              "    }\n",
              "</style>\n",
              "<table border=\"1\" class=\"dataframe\">\n",
              "  <thead>\n",
              "    <tr style=\"text-align: right;\">\n",
              "      <th></th>\n",
              "      <th>productId</th>\n",
              "      <th>Score</th>\n",
              "      <th>Rank</th>\n",
              "    </tr>\n",
              "  </thead>\n",
              "  <tbody>\n",
              "    <tr>\n",
              "      <th>106</th>\n",
              "      <td>B002R5AM7C</td>\n",
              "      <td>42</td>\n",
              "      <td>1.0000000</td>\n",
              "    </tr>\n",
              "    <tr>\n",
              "      <th>108</th>\n",
              "      <td>B002SQK2F2</td>\n",
              "      <td>33</td>\n",
              "      <td>2.0000000</td>\n",
              "    </tr>\n",
              "    <tr>\n",
              "      <th>37</th>\n",
              "      <td>B000JMJWV2</td>\n",
              "      <td>32</td>\n",
              "      <td>3.0000000</td>\n",
              "    </tr>\n",
              "    <tr>\n",
              "      <th>44</th>\n",
              "      <td>B000N99BBC</td>\n",
              "      <td>31</td>\n",
              "      <td>4.0000000</td>\n",
              "    </tr>\n",
              "    <tr>\n",
              "      <th>1</th>\n",
              "      <td>B00004ZCJE</td>\n",
              "      <td>30</td>\n",
              "      <td>5.0000000</td>\n",
              "    </tr>\n",
              "  </tbody>\n",
              "</table>\n",
              "</div>"
            ],
            "text/plain": [
              "      productId  Score      Rank\n",
              "106  B002R5AM7C     42 1.0000000\n",
              "108  B002SQK2F2     33 2.0000000\n",
              "37   B000JMJWV2     32 3.0000000\n",
              "44   B000N99BBC     31 4.0000000\n",
              "1    B00004ZCJE     30 5.0000000"
            ]
          },
          "metadata": {},
          "execution_count": 36
        }
      ]
    },
    {
      "cell_type": "markdown",
      "metadata": {
        "id": "6xcsXTOdJPfo"
      },
      "source": [
        "**MODEL DEPLOYMENT AND EVALUATION**"
      ]
    },
    {
      "cell_type": "code",
      "metadata": {
        "id": "OaqXUHaN9zio"
      },
      "source": [
        "# Using popularity based recommender model to make predictions and find recommendations for random list of users with inferences\n",
        "\n",
        "import warnings\n",
        "warnings.filterwarnings('ignore')\n",
        "def recommend(userId):     \n",
        "    user_recommendations = popularity_recommendations \n",
        "          \n",
        "    #Adding user_id column for which the recommendations are being generated \n",
        "    user_recommendations['userID'] = userId \n",
        "      \n",
        "    #Bringing user_id column to the front \n",
        "    cols = user_recommendations.columns.tolist() \n",
        "    cols = cols[-1:] + cols[:-1] \n",
        "    user_recommendations = user_recommendations[cols] \n",
        "          \n",
        "    return user_recommendations "
      ],
      "execution_count": 37,
      "outputs": []
    },
    {
      "cell_type": "code",
      "metadata": {
        "colab": {
          "base_uri": "https://localhost:8080/"
        },
        "id": "tsk0bDvf9zos",
        "outputId": "daa38ffb-d935-488d-ca5b-72abbc49405a"
      },
      "source": [
        "find_recom = [15,121,55,230,477]   # This list is user choice.\n",
        "for i in find_recom:\n",
        "    print(\"Here is the recommendation for the userId: %d\\n\" %(i))\n",
        "    print(recommend(i))    \n",
        "    print(\"\\n\") "
      ],
      "execution_count": 38,
      "outputs": [
        {
          "output_type": "stream",
          "name": "stdout",
          "text": [
            "Here is the recommendation for the userId: 15\n",
            "\n",
            "     userID   productId  Score      Rank\n",
            "106      15  B002R5AM7C     42 1.0000000\n",
            "108      15  B002SQK2F2     33 2.0000000\n",
            "37       15  B000JMJWV2     32 3.0000000\n",
            "44       15  B000N99BBC     31 4.0000000\n",
            "1        15  B00004ZCJE     30 5.0000000\n",
            "\n",
            "\n",
            "Here is the recommendation for the userId: 121\n",
            "\n",
            "     userID   productId  Score      Rank\n",
            "106     121  B002R5AM7C     42 1.0000000\n",
            "108     121  B002SQK2F2     33 2.0000000\n",
            "37      121  B000JMJWV2     32 3.0000000\n",
            "44      121  B000N99BBC     31 4.0000000\n",
            "1       121  B00004ZCJE     30 5.0000000\n",
            "\n",
            "\n",
            "Here is the recommendation for the userId: 55\n",
            "\n",
            "     userID   productId  Score      Rank\n",
            "106      55  B002R5AM7C     42 1.0000000\n",
            "108      55  B002SQK2F2     33 2.0000000\n",
            "37       55  B000JMJWV2     32 3.0000000\n",
            "44       55  B000N99BBC     31 4.0000000\n",
            "1        55  B00004ZCJE     30 5.0000000\n",
            "\n",
            "\n",
            "Here is the recommendation for the userId: 230\n",
            "\n",
            "     userID   productId  Score      Rank\n",
            "106     230  B002R5AM7C     42 1.0000000\n",
            "108     230  B002SQK2F2     33 2.0000000\n",
            "37      230  B000JMJWV2     32 3.0000000\n",
            "44      230  B000N99BBC     31 4.0000000\n",
            "1       230  B00004ZCJE     30 5.0000000\n",
            "\n",
            "\n",
            "Here is the recommendation for the userId: 477\n",
            "\n",
            "     userID   productId  Score      Rank\n",
            "106     477  B002R5AM7C     42 1.0000000\n",
            "108     477  B002SQK2F2     33 2.0000000\n",
            "37      477  B000JMJWV2     32 3.0000000\n",
            "44      477  B000N99BBC     31 4.0000000\n",
            "1       477  B00004ZCJE     30 5.0000000\n",
            "\n",
            "\n"
          ]
        }
      ]
    },
    {
      "cell_type": "code",
      "metadata": {
        "id": "bBhhKcWkg-CG"
      },
      "source": [
        "import pickle\n",
        "pickle.dump(popularity_recommendations ,open('mostpopular.pkl','wb'))"
      ],
      "execution_count": 39,
      "outputs": []
    },
    {
      "cell_type": "markdown",
      "metadata": {
        "id": "qNfXgiPgHijA"
      },
      "source": [
        "**NOTE:**\n",
        "\n",
        "Since this is a popularity-based recommender model, recommendations remain the same for all users. We predict the products based on the popularity. It is not personalized to the user."
      ]
    },
    {
      "cell_type": "markdown",
      "metadata": {
        "id": "gw5URhGlKEFS"
      },
      "source": [
        "**COLLABORATIVE FILTER MODELLING**\n",
        "\n",
        "We will use the SVD and KNN based modeling to find the closest product to the chosen product and also closest User Profile to the current User Profile\n"
      ]
    },
    {
      "cell_type": "markdown",
      "metadata": {
        "id": "KbgZRy48Sa7M"
      },
      "source": [
        "**SVD**"
      ]
    },
    {
      "cell_type": "code",
      "metadata": {
        "colab": {
          "base_uri": "https://localhost:8080/",
          "height": 304
        },
        "id": "E0pjhw45SfAz",
        "outputId": "527153e1-d431-4191-e4ec-7905292be3a7"
      },
      "source": [
        "# Creating Model using best parameters\n",
        "svd_model = SVD(n_epochs=20, lr_all=0.005, reg_all=0.2)\n",
        "\n",
        "# Training the algorithm on the trainset\n",
        "svd_model.fit(trainset)\n",
        "\n",
        "\n",
        "# Predicting for test set\n",
        "predictions_svd = svd_model.test(testset)\n",
        "\n",
        "# Evaluating RMSE, MAE of algorithm SVD on 5 split(s) by cross validation\n",
        "svd_cv = cross_validate(svd_model, surprise_data, measures=['RMSE', 'MAE'], cv=5, verbose=True)\n",
        "\n",
        "# Storing Crossvalidation Results in dataframe\n",
        "svd_df = pd.DataFrame.from_dict(svd_cv)\n",
        "svd_described = svd_df.describe()\n",
        "cv_results = pd.DataFrame([['SVD', svd_described['test_rmse']['mean'], svd_described['test_mae']['mean'], \n",
        "                           svd_described['fit_time']['mean'], svd_described['test_time']['mean']]],\n",
        "                            columns = ['Model', 'RMSE', 'MAE', 'Fit Time', 'Test Time'])\n",
        "# get RMSE\n",
        "print(\"\\n\\n==================== Model Evaluation ===============================\")\n",
        "accuracy.rmse(predictions_svd, verbose=True)\n",
        "print(\"=====================================================================\")\n",
        "cv_results"
      ],
      "execution_count": 40,
      "outputs": [
        {
          "output_type": "execute_result",
          "data": {
            "text/plain": [
              "<surprise.prediction_algorithms.matrix_factorization.SVD at 0x7f5e433e7cd0>"
            ]
          },
          "metadata": {},
          "execution_count": 40
        },
        {
          "output_type": "stream",
          "name": "stdout",
          "text": [
            "Evaluating RMSE, MAE of algorithm SVD on 5 split(s).\n",
            "\n",
            "                  Fold 1  Fold 2  Fold 3  Fold 4  Fold 5  Mean    Std     \n",
            "RMSE (testset)    0.8866  0.8909  0.7964  0.8543  0.8687  0.8594  0.0341  \n",
            "MAE (testset)     0.6416  0.6562  0.6015  0.6354  0.6403  0.6350  0.0182  \n",
            "Fit time          0.09    0.08    0.08    0.09    0.08    0.08    0.00    \n",
            "Test time         0.01    0.00    0.00    0.00    0.00    0.00    0.00    \n",
            "\n",
            "\n",
            "==================== Model Evaluation ===============================\n",
            "RMSE: 0.8178\n"
          ]
        },
        {
          "output_type": "execute_result",
          "data": {
            "text/plain": [
              "0.8177526760771222"
            ]
          },
          "metadata": {},
          "execution_count": 40
        },
        {
          "output_type": "stream",
          "name": "stdout",
          "text": [
            "=====================================================================\n"
          ]
        },
        {
          "output_type": "execute_result",
          "data": {
            "text/html": [
              "<div>\n",
              "<style scoped>\n",
              "    .dataframe tbody tr th:only-of-type {\n",
              "        vertical-align: middle;\n",
              "    }\n",
              "\n",
              "    .dataframe tbody tr th {\n",
              "        vertical-align: top;\n",
              "    }\n",
              "\n",
              "    .dataframe thead th {\n",
              "        text-align: right;\n",
              "    }\n",
              "</style>\n",
              "<table border=\"1\" class=\"dataframe\">\n",
              "  <thead>\n",
              "    <tr style=\"text-align: right;\">\n",
              "      <th></th>\n",
              "      <th>Model</th>\n",
              "      <th>RMSE</th>\n",
              "      <th>MAE</th>\n",
              "      <th>Fit Time</th>\n",
              "      <th>Test Time</th>\n",
              "    </tr>\n",
              "  </thead>\n",
              "  <tbody>\n",
              "    <tr>\n",
              "      <th>0</th>\n",
              "      <td>SVD</td>\n",
              "      <td>0.8593849</td>\n",
              "      <td>0.6350164</td>\n",
              "      <td>0.0839866</td>\n",
              "      <td>0.0034791</td>\n",
              "    </tr>\n",
              "  </tbody>\n",
              "</table>\n",
              "</div>"
            ],
            "text/plain": [
              "  Model      RMSE       MAE  Fit Time  Test Time\n",
              "0   SVD 0.8593849 0.6350164 0.0839866  0.0034791"
            ]
          },
          "metadata": {},
          "execution_count": 40
        }
      ]
    },
    {
      "cell_type": "markdown",
      "metadata": {
        "id": "LDXaIcHXS_vs"
      },
      "source": [
        "**Comment:** Here we can see that the RMSE of testset and complete dataset found from cross_validation is almost same and it seems like our model is performing well on trainset and testset."
      ]
    },
    {
      "cell_type": "markdown",
      "metadata": {
        "id": "bLYX-c1bTE9W"
      },
      "source": [
        "**SVD++**"
      ]
    },
    {
      "cell_type": "code",
      "metadata": {
        "colab": {
          "base_uri": "https://localhost:8080/",
          "height": 335
        },
        "id": "nbFjLXlPTTlp",
        "outputId": "d493232f-1573-4743-edf8-aa3847cc2d3c"
      },
      "source": [
        "# Creating Model using best parameters\n",
        "svdpp_model = SVDpp(n_epochs=25, lr_all=0.01, reg_all=0.4)\n",
        "\n",
        "# Training the algorithm on the trainset\n",
        "svdpp_model.fit(trainset)\n",
        "\n",
        "\n",
        "# Predicting for test set\n",
        "predictions_svdpp = svdpp_model.test(testset)\n",
        "\n",
        "# Evaluating RMSE, MAE of algorithm SVDpp on 5 split(s) by cross validation\n",
        "svdpp_cv = cross_validate(svdpp_model, surprise_data, measures=['RMSE', 'MAE'], cv=5, verbose=True)\n",
        "\n",
        "# Storing Crossvalidation Results in dataframe\n",
        "svdpp_df = pd.DataFrame.from_dict(svdpp_cv)\n",
        "svdpp_described = svdpp_df.describe()\n",
        "svdpp_cv_results = pd.DataFrame([['SVD++', svdpp_described['test_rmse']['mean'], svdpp_described['test_mae']['mean'], \n",
        "                           svdpp_described['fit_time']['mean'], svdpp_described['test_time']['mean']]],\n",
        "                            columns = ['Model', 'RMSE', 'MAE', 'Fit Time', 'Test Time'])\n",
        "\n",
        "cv_results = cv_results.append(svdpp_cv_results, ignore_index=True)\n",
        "# get RMSE\n",
        "print(\"\\n\\n==================== Model Evaluation ===============================\")\n",
        "accuracy.rmse(predictions_svdpp, verbose=True)\n",
        "print(\"=====================================================================\")\n",
        "cv_results"
      ],
      "execution_count": 41,
      "outputs": [
        {
          "output_type": "execute_result",
          "data": {
            "text/plain": [
              "<surprise.prediction_algorithms.matrix_factorization.SVDpp at 0x7f5e41fbd690>"
            ]
          },
          "metadata": {},
          "execution_count": 41
        },
        {
          "output_type": "stream",
          "name": "stdout",
          "text": [
            "Evaluating RMSE, MAE of algorithm SVDpp on 5 split(s).\n",
            "\n",
            "                  Fold 1  Fold 2  Fold 3  Fold 4  Fold 5  Mean    Std     \n",
            "RMSE (testset)    0.8604  0.8752  0.8437  0.7901  0.9126  0.8564  0.0402  \n",
            "MAE (testset)     0.6403  0.6078  0.6199  0.5908  0.6413  0.6200  0.0193  \n",
            "Fit time          0.33    0.34    0.31    0.34    0.31    0.33    0.01    \n",
            "Test time         0.01    0.01    0.01    0.01    0.01    0.01    0.00    \n",
            "\n",
            "\n",
            "==================== Model Evaluation ===============================\n",
            "RMSE: 0.8176\n"
          ]
        },
        {
          "output_type": "execute_result",
          "data": {
            "text/plain": [
              "0.8175756724466908"
            ]
          },
          "metadata": {},
          "execution_count": 41
        },
        {
          "output_type": "stream",
          "name": "stdout",
          "text": [
            "=====================================================================\n"
          ]
        },
        {
          "output_type": "execute_result",
          "data": {
            "text/html": [
              "<div>\n",
              "<style scoped>\n",
              "    .dataframe tbody tr th:only-of-type {\n",
              "        vertical-align: middle;\n",
              "    }\n",
              "\n",
              "    .dataframe tbody tr th {\n",
              "        vertical-align: top;\n",
              "    }\n",
              "\n",
              "    .dataframe thead th {\n",
              "        text-align: right;\n",
              "    }\n",
              "</style>\n",
              "<table border=\"1\" class=\"dataframe\">\n",
              "  <thead>\n",
              "    <tr style=\"text-align: right;\">\n",
              "      <th></th>\n",
              "      <th>Model</th>\n",
              "      <th>RMSE</th>\n",
              "      <th>MAE</th>\n",
              "      <th>Fit Time</th>\n",
              "      <th>Test Time</th>\n",
              "    </tr>\n",
              "  </thead>\n",
              "  <tbody>\n",
              "    <tr>\n",
              "      <th>0</th>\n",
              "      <td>SVD</td>\n",
              "      <td>0.8593849</td>\n",
              "      <td>0.6350164</td>\n",
              "      <td>0.0839866</td>\n",
              "      <td>0.0034791</td>\n",
              "    </tr>\n",
              "    <tr>\n",
              "      <th>1</th>\n",
              "      <td>SVD++</td>\n",
              "      <td>0.8563944</td>\n",
              "      <td>0.6200168</td>\n",
              "      <td>0.3255200</td>\n",
              "      <td>0.0078287</td>\n",
              "    </tr>\n",
              "  </tbody>\n",
              "</table>\n",
              "</div>"
            ],
            "text/plain": [
              "   Model      RMSE       MAE  Fit Time  Test Time\n",
              "0    SVD 0.8593849 0.6350164 0.0839866  0.0034791\n",
              "1  SVD++ 0.8563944 0.6200168 0.3255200  0.0078287"
            ]
          },
          "metadata": {},
          "execution_count": 41
        }
      ]
    },
    {
      "cell_type": "markdown",
      "metadata": {
        "id": "axMvqYEjLtH-"
      },
      "source": [
        "**KNN BASIC**"
      ]
    },
    {
      "cell_type": "code",
      "metadata": {
        "id": "6QHB7xHqLxTf",
        "colab": {
          "base_uri": "https://localhost:8080/"
        },
        "outputId": "185f15fe-e5e8-4666-e2fd-20cbc5fbf5ff"
      },
      "source": [
        "knn_param_grid = {'bsl_options': {'method': ['als', 'sgd'],\n",
        "                              'reg': [1, 2]},\n",
        "              'k': [15, 20, 25, 30, 40, 50, 60],\n",
        "              'sim_options': {'name': ['msd', 'cosine', 'pearson_baseline']}\n",
        "              }\n",
        "\n",
        "knnbasic_gs = GridSearchCV(KNNBasic, knn_param_grid, measures=['rmse', 'mae'], cv=5, n_jobs=5)\n",
        "knnmeans_gs = GridSearchCV(KNNWithMeans, knn_param_grid, measures=['rmse', 'mae'], cv=5, n_jobs=5)\n",
        "knnz_gs     = GridSearchCV(KNNWithZScore, knn_param_grid, measures=['rmse', 'mae'], cv=5, n_jobs=5)\n",
        "\n",
        "\n",
        "knnbasic_gs.fit(surprise_data)\n",
        "knnmeans_gs.fit(surprise_data)\n",
        "knnz_gs.fit(surprise_data)\n",
        "\n",
        "# best RMSE score\n",
        "print(knnbasic_gs.best_score['rmse'])\n",
        "print(knnmeans_gs.best_score['rmse'])\n",
        "print(knnz_gs.best_score['rmse'])\n",
        "\n",
        "# combination of parameters that gave the best RMSE score\n",
        "print(knnbasic_gs.best_params['rmse'])\n",
        "print(knnmeans_gs.best_params['rmse'])\n",
        "print(knnz_gs.best_params['rmse'])\n",
        "\n"
      ],
      "execution_count": 42,
      "outputs": [
        {
          "output_type": "stream",
          "name": "stdout",
          "text": [
            "0.9693843703278437\n",
            "0.953842594731398\n",
            "0.9881469254921245\n",
            "{'bsl_options': {'method': 'als', 'reg': 1}, 'k': 15, 'sim_options': {'name': 'cosine', 'user_based': True}}\n",
            "{'bsl_options': {'method': 'als', 'reg': 1}, 'k': 20, 'sim_options': {'name': 'cosine', 'user_based': True}}\n",
            "{'bsl_options': {'method': 'als', 'reg': 1}, 'k': 15, 'sim_options': {'name': 'cosine', 'user_based': True}}\n"
          ]
        }
      ]
    },
    {
      "cell_type": "code",
      "metadata": {
        "id": "YVP7nggCLxaH",
        "colab": {
          "base_uri": "https://localhost:8080/",
          "height": 570
        },
        "outputId": "7076a7ca-92c7-488e-8332-797dfbfca8f2"
      },
      "source": [
        "# Creating Model using best parameters\n",
        "knnBasic_model = KNNBasic(k=50, sim_options={'name': 'cosine', 'user_based': False})\n",
        "\n",
        "# Training the algorithm on the trainset\n",
        "knnBasic_model.fit(trainset)\n",
        "\n",
        "# Predicting for test set\n",
        "prediction_knnBasic = knnBasic_model.test(testset)\n",
        "\n",
        "# Evaluating RMSE, MAE of algorithm KNNBasic on 5 split(s)\n",
        "knnBasic_cv = cross_validate(knnBasic_model, surprise_data, measures=['RMSE', 'MAE'], cv=5, verbose=True)\n",
        "\n",
        "# Storing Crossvalidation Results in dataframe\n",
        "knnBasic_df = pd.DataFrame.from_dict(knnBasic_cv)\n",
        "knnBasic_described = knnBasic_df.describe()\n",
        "knnBasic_cv_results = pd.DataFrame([['KNNBasic', knnBasic_described['test_rmse']['mean'], knnBasic_described['test_mae']['mean'], knnBasic_described['fit_time']['mean'], knnBasic_described['test_time']['mean']]],\n",
        "columns = ['Model', 'RMSE', 'MAE', 'Fit Time', 'Test Time'])\n",
        "cv_results = cv_results.append(knnBasic_cv_results, ignore_index=True)\n",
        "\n",
        "# get RMSE\n",
        "print(\"\\n\\n==================== Model Evaluation ===============================\")\n",
        "accuracy.rmse(prediction_knnBasic, verbose=True)\n",
        "print(\"=====================================================================\")\n",
        "cv_results\n"
      ],
      "execution_count": 43,
      "outputs": [
        {
          "output_type": "stream",
          "name": "stdout",
          "text": [
            "Computing the cosine similarity matrix...\n",
            "Done computing similarity matrix.\n"
          ]
        },
        {
          "output_type": "execute_result",
          "data": {
            "text/plain": [
              "<surprise.prediction_algorithms.knns.KNNBasic at 0x7f5e41bf9410>"
            ]
          },
          "metadata": {},
          "execution_count": 43
        },
        {
          "output_type": "stream",
          "name": "stdout",
          "text": [
            "Computing the cosine similarity matrix...\n",
            "Done computing similarity matrix.\n",
            "Computing the cosine similarity matrix...\n",
            "Done computing similarity matrix.\n",
            "Computing the cosine similarity matrix...\n",
            "Done computing similarity matrix.\n",
            "Computing the cosine similarity matrix...\n",
            "Done computing similarity matrix.\n",
            "Computing the cosine similarity matrix...\n",
            "Done computing similarity matrix.\n",
            "Evaluating RMSE, MAE of algorithm KNNBasic on 5 split(s).\n",
            "\n",
            "                  Fold 1  Fold 2  Fold 3  Fold 4  Fold 5  Mean    Std     \n",
            "RMSE (testset)    0.9902  1.0098  1.0107  1.0420  1.0141  1.0133  0.0166  \n",
            "MAE (testset)     0.6863  0.6843  0.6787  0.7032  0.6722  0.6849  0.0104  \n",
            "Fit time          0.00    0.00    0.00    0.00    0.00    0.00    0.00    \n",
            "Test time         0.01    0.01    0.01    0.01    0.01    0.01    0.00    \n",
            "\n",
            "\n",
            "==================== Model Evaluation ===============================\n",
            "RMSE: 1.0119\n"
          ]
        },
        {
          "output_type": "execute_result",
          "data": {
            "text/plain": [
              "1.0119168692862568"
            ]
          },
          "metadata": {},
          "execution_count": 43
        },
        {
          "output_type": "stream",
          "name": "stdout",
          "text": [
            "=====================================================================\n"
          ]
        },
        {
          "output_type": "execute_result",
          "data": {
            "text/html": [
              "<div>\n",
              "<style scoped>\n",
              "    .dataframe tbody tr th:only-of-type {\n",
              "        vertical-align: middle;\n",
              "    }\n",
              "\n",
              "    .dataframe tbody tr th {\n",
              "        vertical-align: top;\n",
              "    }\n",
              "\n",
              "    .dataframe thead th {\n",
              "        text-align: right;\n",
              "    }\n",
              "</style>\n",
              "<table border=\"1\" class=\"dataframe\">\n",
              "  <thead>\n",
              "    <tr style=\"text-align: right;\">\n",
              "      <th></th>\n",
              "      <th>Model</th>\n",
              "      <th>RMSE</th>\n",
              "      <th>MAE</th>\n",
              "      <th>Fit Time</th>\n",
              "      <th>Test Time</th>\n",
              "    </tr>\n",
              "  </thead>\n",
              "  <tbody>\n",
              "    <tr>\n",
              "      <th>0</th>\n",
              "      <td>SVD</td>\n",
              "      <td>0.8593849</td>\n",
              "      <td>0.6350164</td>\n",
              "      <td>0.0839866</td>\n",
              "      <td>0.0034791</td>\n",
              "    </tr>\n",
              "    <tr>\n",
              "      <th>1</th>\n",
              "      <td>SVD++</td>\n",
              "      <td>0.8563944</td>\n",
              "      <td>0.6200168</td>\n",
              "      <td>0.3255200</td>\n",
              "      <td>0.0078287</td>\n",
              "    </tr>\n",
              "    <tr>\n",
              "      <th>2</th>\n",
              "      <td>KNNBasic</td>\n",
              "      <td>1.0133478</td>\n",
              "      <td>0.6849264</td>\n",
              "      <td>0.0046651</td>\n",
              "      <td>0.0054764</td>\n",
              "    </tr>\n",
              "  </tbody>\n",
              "</table>\n",
              "</div>"
            ],
            "text/plain": [
              "      Model      RMSE       MAE  Fit Time  Test Time\n",
              "0       SVD 0.8593849 0.6350164 0.0839866  0.0034791\n",
              "1     SVD++ 0.8563944 0.6200168 0.3255200  0.0078287\n",
              "2  KNNBasic 1.0133478 0.6849264 0.0046651  0.0054764"
            ]
          },
          "metadata": {},
          "execution_count": 43
        }
      ]
    },
    {
      "cell_type": "markdown",
      "metadata": {
        "id": "Fn_kzijQQfn1"
      },
      "source": [
        "**KNNWithZScore**"
      ]
    },
    {
      "cell_type": "code",
      "metadata": {
        "id": "T-yYX0QiLxf3",
        "colab": {
          "base_uri": "https://localhost:8080/",
          "height": 601
        },
        "outputId": "8bebdd1b-5d8d-4006-acfa-96d69b77d78a"
      },
      "source": [
        "# Creating Model using best parameters\n",
        "knnZscore_model = KNNWithZScore(k=60, sim_options={'name': 'cosine', 'user_based': False})\n",
        "\n",
        "# Training the algorithm on the trainset\n",
        "knnZscore_model.fit(trainset)\n",
        "\n",
        "# Predicting for testset\n",
        "prediction_knnZscore = knnZscore_model.test(testset)\n",
        "\n",
        "# Evaluating RMSE, MAE of algorithm KNNWithZScore on 5 split(s)\n",
        "knnZscore_cv = cross_validate(knnZscore_model, surprise_data, measures=['RMSE', 'MAE'], cv=5, verbose=True)\n",
        "\n",
        "# Storing Crossvalidation Results in dataframe\n",
        "knnZscore_df = pd.DataFrame.from_dict(knnZscore_cv)\n",
        "knnZscore_described = knnZscore_df.describe()\n",
        "knnZscore_cv_results = pd.DataFrame([['KNNWithZScore', knnZscore_described['test_rmse']['mean'], knnZscore_described['test_mae']['mean'], \n",
        "                           knnZscore_described['fit_time']['mean'], knnZscore_described['test_time']['mean']]],\n",
        "                            columns = ['Model', 'RMSE', 'MAE', 'Fit Time', 'Test Time'])\n",
        "\n",
        "cv_results = cv_results.append(knnZscore_cv_results, ignore_index=True)\n",
        "# get RMSE\n",
        "print(\"\\n\\n==================== Model Evaluation ===============================\")\n",
        "accuracy.rmse(prediction_knnZscore, verbose=True)\n",
        "print(\"=====================================================================\")\n",
        "cv_results"
      ],
      "execution_count": 44,
      "outputs": [
        {
          "output_type": "stream",
          "name": "stdout",
          "text": [
            "Computing the cosine similarity matrix...\n",
            "Done computing similarity matrix.\n"
          ]
        },
        {
          "output_type": "execute_result",
          "data": {
            "text/plain": [
              "<surprise.prediction_algorithms.knns.KNNWithZScore at 0x7f5e41bdb0d0>"
            ]
          },
          "metadata": {},
          "execution_count": 44
        },
        {
          "output_type": "stream",
          "name": "stdout",
          "text": [
            "Computing the cosine similarity matrix...\n",
            "Done computing similarity matrix.\n",
            "Computing the cosine similarity matrix...\n",
            "Done computing similarity matrix.\n",
            "Computing the cosine similarity matrix...\n",
            "Done computing similarity matrix.\n",
            "Computing the cosine similarity matrix...\n",
            "Done computing similarity matrix.\n",
            "Computing the cosine similarity matrix...\n",
            "Done computing similarity matrix.\n",
            "Evaluating RMSE, MAE of algorithm KNNWithZScore on 5 split(s).\n",
            "\n",
            "                  Fold 1  Fold 2  Fold 3  Fold 4  Fold 5  Mean    Std     \n",
            "RMSE (testset)    1.0194  1.0185  0.9112  0.9311  0.9502  0.9661  0.0449  \n",
            "MAE (testset)     0.6534  0.6789  0.6081  0.6467  0.6430  0.6460  0.0227  \n",
            "Fit time          0.01    0.02    0.02    0.01    0.01    0.01    0.00    \n",
            "Test time         0.01    0.01    0.01    0.01    0.01    0.01    0.00    \n",
            "\n",
            "\n",
            "==================== Model Evaluation ===============================\n",
            "RMSE: 0.9617\n"
          ]
        },
        {
          "output_type": "execute_result",
          "data": {
            "text/plain": [
              "0.9617047967586995"
            ]
          },
          "metadata": {},
          "execution_count": 44
        },
        {
          "output_type": "stream",
          "name": "stdout",
          "text": [
            "=====================================================================\n"
          ]
        },
        {
          "output_type": "execute_result",
          "data": {
            "text/html": [
              "<div>\n",
              "<style scoped>\n",
              "    .dataframe tbody tr th:only-of-type {\n",
              "        vertical-align: middle;\n",
              "    }\n",
              "\n",
              "    .dataframe tbody tr th {\n",
              "        vertical-align: top;\n",
              "    }\n",
              "\n",
              "    .dataframe thead th {\n",
              "        text-align: right;\n",
              "    }\n",
              "</style>\n",
              "<table border=\"1\" class=\"dataframe\">\n",
              "  <thead>\n",
              "    <tr style=\"text-align: right;\">\n",
              "      <th></th>\n",
              "      <th>Model</th>\n",
              "      <th>RMSE</th>\n",
              "      <th>MAE</th>\n",
              "      <th>Fit Time</th>\n",
              "      <th>Test Time</th>\n",
              "    </tr>\n",
              "  </thead>\n",
              "  <tbody>\n",
              "    <tr>\n",
              "      <th>0</th>\n",
              "      <td>SVD</td>\n",
              "      <td>0.8593849</td>\n",
              "      <td>0.6350164</td>\n",
              "      <td>0.0839866</td>\n",
              "      <td>0.0034791</td>\n",
              "    </tr>\n",
              "    <tr>\n",
              "      <th>1</th>\n",
              "      <td>SVD++</td>\n",
              "      <td>0.8563944</td>\n",
              "      <td>0.6200168</td>\n",
              "      <td>0.3255200</td>\n",
              "      <td>0.0078287</td>\n",
              "    </tr>\n",
              "    <tr>\n",
              "      <th>2</th>\n",
              "      <td>KNNBasic</td>\n",
              "      <td>1.0133478</td>\n",
              "      <td>0.6849264</td>\n",
              "      <td>0.0046651</td>\n",
              "      <td>0.0054764</td>\n",
              "    </tr>\n",
              "    <tr>\n",
              "      <th>3</th>\n",
              "      <td>KNNWithZScore</td>\n",
              "      <td>0.9660607</td>\n",
              "      <td>0.6460221</td>\n",
              "      <td>0.0130789</td>\n",
              "      <td>0.0082687</td>\n",
              "    </tr>\n",
              "  </tbody>\n",
              "</table>\n",
              "</div>"
            ],
            "text/plain": [
              "           Model      RMSE       MAE  Fit Time  Test Time\n",
              "0            SVD 0.8593849 0.6350164 0.0839866  0.0034791\n",
              "1          SVD++ 0.8563944 0.6200168 0.3255200  0.0078287\n",
              "2       KNNBasic 1.0133478 0.6849264 0.0046651  0.0054764\n",
              "3  KNNWithZScore 0.9660607 0.6460221 0.0130789  0.0082687"
            ]
          },
          "metadata": {},
          "execution_count": 44
        }
      ]
    },
    {
      "cell_type": "markdown",
      "metadata": {
        "id": "oNArtAJWQ7gw"
      },
      "source": [
        "**KNNWithMeans User-User**"
      ]
    },
    {
      "cell_type": "code",
      "metadata": {
        "id": "XJY2S2vDLxkw",
        "colab": {
          "base_uri": "https://localhost:8080/",
          "height": 632
        },
        "outputId": "c6f9cd03-5c04-4f95-fccf-54b05e3ddb12"
      },
      "source": [
        "# Creating Model using best parameters\n",
        "knnMeansUU_model = KNNWithMeans(k=60, sim_options={'name': 'cosine', 'user_based': True})\n",
        "\n",
        "# Training the algorithm on the trainset\n",
        "knnMeansUU_model.fit(trainset)\n",
        "\n",
        "# Predicting for testset\n",
        "prediction_knnMeansUU = knnMeansUU_model.test(testset)\n",
        "\n",
        "# Evaluating RMSE, MAE of algorithm KNNWithMeans User-User on 5 split(s)\n",
        "knnMeansUU_cv = cross_validate(knnMeansUU_model, surprise_data, measures=['RMSE', 'MAE'], cv=5, verbose=True)\n",
        "\n",
        "# Storing Crossvalidation Results in dataframe\n",
        "knnMeansUU_df = pd.DataFrame.from_dict(knnMeansUU_cv)\n",
        "knnMeansUU_described = knnMeansUU_df.describe()\n",
        "knnMeansUU_cv_results = pd.DataFrame([['KNNWithMeans User-User', knnMeansUU_described['test_rmse']['mean'], knnMeansUU_described['test_mae']['mean'], \n",
        "                           knnMeansUU_described['fit_time']['mean'], knnMeansUU_described['test_time']['mean']]],\n",
        "                            columns = ['Model', 'RMSE', 'MAE', 'Fit Time', 'Test Time'])\n",
        "\n",
        "cv_results = cv_results.append(knnMeansUU_cv_results, ignore_index=True)\n",
        "# get RMSE\n",
        "print(\"\\n\\n==================== Model Evaluation ===============================\")\n",
        "accuracy.rmse(prediction_knnMeansUU, verbose=True)\n",
        "print(\"=====================================================================\")\n",
        "cv_results"
      ],
      "execution_count": 45,
      "outputs": [
        {
          "output_type": "stream",
          "name": "stdout",
          "text": [
            "Computing the cosine similarity matrix...\n",
            "Done computing similarity matrix.\n"
          ]
        },
        {
          "output_type": "execute_result",
          "data": {
            "text/plain": [
              "<surprise.prediction_algorithms.knns.KNNWithMeans at 0x7f5e41e5a490>"
            ]
          },
          "metadata": {},
          "execution_count": 45
        },
        {
          "output_type": "stream",
          "name": "stdout",
          "text": [
            "Computing the cosine similarity matrix...\n",
            "Done computing similarity matrix.\n",
            "Computing the cosine similarity matrix...\n",
            "Done computing similarity matrix.\n",
            "Computing the cosine similarity matrix...\n",
            "Done computing similarity matrix.\n",
            "Computing the cosine similarity matrix...\n",
            "Done computing similarity matrix.\n",
            "Computing the cosine similarity matrix...\n",
            "Done computing similarity matrix.\n",
            "Evaluating RMSE, MAE of algorithm KNNWithMeans on 5 split(s).\n",
            "\n",
            "                  Fold 1  Fold 2  Fold 3  Fold 4  Fold 5  Mean    Std     \n",
            "RMSE (testset)    0.9810  0.9402  1.0298  0.8937  0.9753  0.9640  0.0453  \n",
            "MAE (testset)     0.6474  0.6491  0.6932  0.6166  0.6685  0.6550  0.0253  \n",
            "Fit time          0.02    0.01    0.02    0.03    0.01    0.02    0.00    \n",
            "Test time         0.01    0.01    0.01    0.02    0.01    0.01    0.00    \n",
            "\n",
            "\n",
            "==================== Model Evaluation ===============================\n",
            "RMSE: 0.9262\n"
          ]
        },
        {
          "output_type": "execute_result",
          "data": {
            "text/plain": [
              "0.9262069504005537"
            ]
          },
          "metadata": {},
          "execution_count": 45
        },
        {
          "output_type": "stream",
          "name": "stdout",
          "text": [
            "=====================================================================\n"
          ]
        },
        {
          "output_type": "execute_result",
          "data": {
            "text/html": [
              "<div>\n",
              "<style scoped>\n",
              "    .dataframe tbody tr th:only-of-type {\n",
              "        vertical-align: middle;\n",
              "    }\n",
              "\n",
              "    .dataframe tbody tr th {\n",
              "        vertical-align: top;\n",
              "    }\n",
              "\n",
              "    .dataframe thead th {\n",
              "        text-align: right;\n",
              "    }\n",
              "</style>\n",
              "<table border=\"1\" class=\"dataframe\">\n",
              "  <thead>\n",
              "    <tr style=\"text-align: right;\">\n",
              "      <th></th>\n",
              "      <th>Model</th>\n",
              "      <th>RMSE</th>\n",
              "      <th>MAE</th>\n",
              "      <th>Fit Time</th>\n",
              "      <th>Test Time</th>\n",
              "    </tr>\n",
              "  </thead>\n",
              "  <tbody>\n",
              "    <tr>\n",
              "      <th>0</th>\n",
              "      <td>SVD</td>\n",
              "      <td>0.8593849</td>\n",
              "      <td>0.6350164</td>\n",
              "      <td>0.0839866</td>\n",
              "      <td>0.0034791</td>\n",
              "    </tr>\n",
              "    <tr>\n",
              "      <th>1</th>\n",
              "      <td>SVD++</td>\n",
              "      <td>0.8563944</td>\n",
              "      <td>0.6200168</td>\n",
              "      <td>0.3255200</td>\n",
              "      <td>0.0078287</td>\n",
              "    </tr>\n",
              "    <tr>\n",
              "      <th>2</th>\n",
              "      <td>KNNBasic</td>\n",
              "      <td>1.0133478</td>\n",
              "      <td>0.6849264</td>\n",
              "      <td>0.0046651</td>\n",
              "      <td>0.0054764</td>\n",
              "    </tr>\n",
              "    <tr>\n",
              "      <th>3</th>\n",
              "      <td>KNNWithZScore</td>\n",
              "      <td>0.9660607</td>\n",
              "      <td>0.6460221</td>\n",
              "      <td>0.0130789</td>\n",
              "      <td>0.0082687</td>\n",
              "    </tr>\n",
              "    <tr>\n",
              "      <th>4</th>\n",
              "      <td>KNNWithMeans User-User</td>\n",
              "      <td>0.9639792</td>\n",
              "      <td>0.6549600</td>\n",
              "      <td>0.0173621</td>\n",
              "      <td>0.0100783</td>\n",
              "    </tr>\n",
              "  </tbody>\n",
              "</table>\n",
              "</div>"
            ],
            "text/plain": [
              "                    Model      RMSE       MAE  Fit Time  Test Time\n",
              "0                     SVD 0.8593849 0.6350164 0.0839866  0.0034791\n",
              "1                   SVD++ 0.8563944 0.6200168 0.3255200  0.0078287\n",
              "2                KNNBasic 1.0133478 0.6849264 0.0046651  0.0054764\n",
              "3           KNNWithZScore 0.9660607 0.6460221 0.0130789  0.0082687\n",
              "4  KNNWithMeans User-User 0.9639792 0.6549600 0.0173621  0.0100783"
            ]
          },
          "metadata": {},
          "execution_count": 45
        }
      ]
    },
    {
      "cell_type": "markdown",
      "metadata": {
        "id": "yhqJf4GGRSbf"
      },
      "source": [
        "**KNNWithMeans Item-Item**"
      ]
    },
    {
      "cell_type": "code",
      "metadata": {
        "id": "JkZapqyhLxrU",
        "colab": {
          "base_uri": "https://localhost:8080/",
          "height": 663
        },
        "outputId": "a41747b5-457b-4e51-fc46-eb0adcd3c646"
      },
      "source": [
        "# Creating Model using best parameters\n",
        "knnMeansII_model = KNNWithMeans(k=60, sim_options={'name': 'cosine', 'user_based': False})\n",
        "\n",
        "# Training the algorithm on the trainset\n",
        "knnMeansII_model.fit(trainset)\n",
        "\n",
        "# Predicting for testset\n",
        "prediction_knnMeansII = knnMeansII_model.test(testset)\n",
        "\n",
        "# Evaluating RMSE, MAE of algorithm KNNWithMeans Item-Item on 5 split(s)\n",
        "knnMeansII_cv = cross_validate(knnMeansII_model, surprise_data, measures=['RMSE', 'MAE'], cv=5, verbose=True)\n",
        "\n",
        "# Storing Crossvalidation Results in dataframe\n",
        "knnMeansII_df = pd.DataFrame.from_dict(knnMeansII_cv)\n",
        "knnMeansII_described = knnMeansII_df.describe()\n",
        "knnMeansII_cv_results = pd.DataFrame([['KNNWithMeans Item-Item', knnMeansII_described['test_rmse']['mean'], knnMeansII_described['test_mae']['mean'], \n",
        "                           knnMeansII_described['fit_time']['mean'], knnMeansII_described['test_time']['mean']]],\n",
        "                            columns = ['Model', 'RMSE', 'MAE', 'Fit Time', 'Test Time'])\n",
        "\n",
        "cv_results = cv_results.append(knnMeansII_cv_results, ignore_index=True)\n",
        "\n",
        "# get RMSE\n",
        "print(\"\\n\\n==================== Model Evaluation ===============================\")\n",
        "accuracy.rmse(prediction_knnMeansII, verbose=True)\n",
        "print(\"=====================================================================\")\n",
        "cv_results"
      ],
      "execution_count": 46,
      "outputs": [
        {
          "output_type": "stream",
          "name": "stdout",
          "text": [
            "Computing the cosine similarity matrix...\n",
            "Done computing similarity matrix.\n"
          ]
        },
        {
          "output_type": "execute_result",
          "data": {
            "text/plain": [
              "<surprise.prediction_algorithms.knns.KNNWithMeans at 0x7f5e41bdd510>"
            ]
          },
          "metadata": {},
          "execution_count": 46
        },
        {
          "output_type": "stream",
          "name": "stdout",
          "text": [
            "Computing the cosine similarity matrix...\n",
            "Done computing similarity matrix.\n",
            "Computing the cosine similarity matrix...\n",
            "Done computing similarity matrix.\n",
            "Computing the cosine similarity matrix...\n",
            "Done computing similarity matrix.\n",
            "Computing the cosine similarity matrix...\n",
            "Done computing similarity matrix.\n",
            "Computing the cosine similarity matrix...\n",
            "Done computing similarity matrix.\n",
            "Evaluating RMSE, MAE of algorithm KNNWithMeans on 5 split(s).\n",
            "\n",
            "                  Fold 1  Fold 2  Fold 3  Fold 4  Fold 5  Mean    Std     \n",
            "RMSE (testset)    0.9082  0.9669  0.9039  0.9826  0.8966  0.9316  0.0357  \n",
            "MAE (testset)     0.6093  0.6731  0.6178  0.6557  0.6189  0.6350  0.0249  \n",
            "Fit time          0.01    0.01    0.01    0.01    0.01    0.01    0.00    \n",
            "Test time         0.01    0.01    0.01    0.01    0.01    0.01    0.00    \n",
            "\n",
            "\n",
            "==================== Model Evaluation ===============================\n",
            "RMSE: 0.9053\n"
          ]
        },
        {
          "output_type": "execute_result",
          "data": {
            "text/plain": [
              "0.9053276867702928"
            ]
          },
          "metadata": {},
          "execution_count": 46
        },
        {
          "output_type": "stream",
          "name": "stdout",
          "text": [
            "=====================================================================\n"
          ]
        },
        {
          "output_type": "execute_result",
          "data": {
            "text/html": [
              "<div>\n",
              "<style scoped>\n",
              "    .dataframe tbody tr th:only-of-type {\n",
              "        vertical-align: middle;\n",
              "    }\n",
              "\n",
              "    .dataframe tbody tr th {\n",
              "        vertical-align: top;\n",
              "    }\n",
              "\n",
              "    .dataframe thead th {\n",
              "        text-align: right;\n",
              "    }\n",
              "</style>\n",
              "<table border=\"1\" class=\"dataframe\">\n",
              "  <thead>\n",
              "    <tr style=\"text-align: right;\">\n",
              "      <th></th>\n",
              "      <th>Model</th>\n",
              "      <th>RMSE</th>\n",
              "      <th>MAE</th>\n",
              "      <th>Fit Time</th>\n",
              "      <th>Test Time</th>\n",
              "    </tr>\n",
              "  </thead>\n",
              "  <tbody>\n",
              "    <tr>\n",
              "      <th>0</th>\n",
              "      <td>SVD</td>\n",
              "      <td>0.8593849</td>\n",
              "      <td>0.6350164</td>\n",
              "      <td>0.0839866</td>\n",
              "      <td>0.0034791</td>\n",
              "    </tr>\n",
              "    <tr>\n",
              "      <th>1</th>\n",
              "      <td>SVD++</td>\n",
              "      <td>0.8563944</td>\n",
              "      <td>0.6200168</td>\n",
              "      <td>0.3255200</td>\n",
              "      <td>0.0078287</td>\n",
              "    </tr>\n",
              "    <tr>\n",
              "      <th>2</th>\n",
              "      <td>KNNBasic</td>\n",
              "      <td>1.0133478</td>\n",
              "      <td>0.6849264</td>\n",
              "      <td>0.0046651</td>\n",
              "      <td>0.0054764</td>\n",
              "    </tr>\n",
              "    <tr>\n",
              "      <th>3</th>\n",
              "      <td>KNNWithZScore</td>\n",
              "      <td>0.9660607</td>\n",
              "      <td>0.6460221</td>\n",
              "      <td>0.0130789</td>\n",
              "      <td>0.0082687</td>\n",
              "    </tr>\n",
              "    <tr>\n",
              "      <th>4</th>\n",
              "      <td>KNNWithMeans User-User</td>\n",
              "      <td>0.9639792</td>\n",
              "      <td>0.6549600</td>\n",
              "      <td>0.0173621</td>\n",
              "      <td>0.0100783</td>\n",
              "    </tr>\n",
              "    <tr>\n",
              "      <th>5</th>\n",
              "      <td>KNNWithMeans Item-Item</td>\n",
              "      <td>0.9316409</td>\n",
              "      <td>0.6349654</td>\n",
              "      <td>0.0082887</td>\n",
              "      <td>0.0077644</td>\n",
              "    </tr>\n",
              "  </tbody>\n",
              "</table>\n",
              "</div>"
            ],
            "text/plain": [
              "                    Model      RMSE       MAE  Fit Time  Test Time\n",
              "0                     SVD 0.8593849 0.6350164 0.0839866  0.0034791\n",
              "1                   SVD++ 0.8563944 0.6200168 0.3255200  0.0078287\n",
              "2                KNNBasic 1.0133478 0.6849264 0.0046651  0.0054764\n",
              "3           KNNWithZScore 0.9660607 0.6460221 0.0130789  0.0082687\n",
              "4  KNNWithMeans User-User 0.9639792 0.6549600 0.0173621  0.0100783\n",
              "5  KNNWithMeans Item-Item 0.9316409 0.6349654 0.0082887  0.0077644"
            ]
          },
          "metadata": {},
          "execution_count": 46
        }
      ]
    },
    {
      "cell_type": "markdown",
      "metadata": {
        "id": "DPyeDQm0U9ui"
      },
      "source": [
        "**COMPARING ALL RMSE AND MAE ACROSS MODELS**"
      ]
    },
    {
      "cell_type": "code",
      "metadata": {
        "id": "5BeZST8kLxxO",
        "colab": {
          "base_uri": "https://localhost:8080/",
          "height": 1000
        },
        "outputId": "e6b9ffa1-0043-4031-9a60-a7a54daa3cce"
      },
      "source": [
        "x_algo = ['KNN Basic', 'KNNWithMeans-User-User', 'KNNWithMeans-Item-Item', 'KNN ZScore', 'SVD', 'SVD++']\n",
        "all_algos_cv = [knnBasic_cv, knnMeansUU_cv, knnMeansII_cv, knnZscore_cv, svd_cv, svdpp_cv]\n",
        "\n",
        "rmse_cv = [round(res['test_rmse'].mean(), 4) for res in all_algos_cv]\n",
        "mae_cv  = [round(res['test_mae'].mean(), 4) for res in all_algos_cv]\n",
        "\n",
        "plt.figure(figsize=(20,15))\n",
        "\n",
        "plt.subplot(2, 1, 1)\n",
        "plt.title('Comparison of Algorithms on RMSE', loc='center', fontsize=15)\n",
        "plt.plot(x_algo, rmse_cv, label='RMSE', color='darkgreen', marker='o')\n",
        "plt.xlabel('Algorithms', fontsize=15)\n",
        "plt.ylabel('RMSE Value', fontsize=15)\n",
        "plt.legend()\n",
        "plt.grid(ls='dashed')\n",
        "\n",
        "plt.subplot(2, 1, 2)\n",
        "plt.title('Comparison of Algorithms on MAE', loc='center', fontsize=15)\n",
        "plt.plot(x_algo, mae_cv, label='MAE', color='navy', marker='o')\n",
        "plt.xlabel('Algorithms', fontsize=15)\n",
        "plt.ylabel('MAE Value', fontsize=15)\n",
        "plt.legend()\n",
        "plt.grid(ls='dashed')\n",
        "\n",
        "plt.show()\n",
        "\n",
        "cv_results\n"
      ],
      "execution_count": 47,
      "outputs": [
        {
          "output_type": "execute_result",
          "data": {
            "text/plain": [
              "<Figure size 1440x1080 with 0 Axes>"
            ]
          },
          "metadata": {},
          "execution_count": 47
        },
        {
          "output_type": "execute_result",
          "data": {
            "text/plain": [
              "<matplotlib.axes._subplots.AxesSubplot at 0x7f5e41bf8fd0>"
            ]
          },
          "metadata": {},
          "execution_count": 47
        },
        {
          "output_type": "execute_result",
          "data": {
            "text/plain": [
              "Text(0.5, 1.0, 'Comparison of Algorithms on RMSE')"
            ]
          },
          "metadata": {},
          "execution_count": 47
        },
        {
          "output_type": "execute_result",
          "data": {
            "text/plain": [
              "[<matplotlib.lines.Line2D at 0x7f5e41c617d0>]"
            ]
          },
          "metadata": {},
          "execution_count": 47
        },
        {
          "output_type": "execute_result",
          "data": {
            "text/plain": [
              "Text(0.5, 0, 'Algorithms')"
            ]
          },
          "metadata": {},
          "execution_count": 47
        },
        {
          "output_type": "execute_result",
          "data": {
            "text/plain": [
              "Text(0, 0.5, 'RMSE Value')"
            ]
          },
          "metadata": {},
          "execution_count": 47
        },
        {
          "output_type": "execute_result",
          "data": {
            "text/plain": [
              "<matplotlib.legend.Legend at 0x7f5e41c61290>"
            ]
          },
          "metadata": {},
          "execution_count": 47
        },
        {
          "output_type": "execute_result",
          "data": {
            "text/plain": [
              "<matplotlib.axes._subplots.AxesSubplot at 0x7f5e41c61590>"
            ]
          },
          "metadata": {},
          "execution_count": 47
        },
        {
          "output_type": "execute_result",
          "data": {
            "text/plain": [
              "Text(0.5, 1.0, 'Comparison of Algorithms on MAE')"
            ]
          },
          "metadata": {},
          "execution_count": 47
        },
        {
          "output_type": "execute_result",
          "data": {
            "text/plain": [
              "[<matplotlib.lines.Line2D at 0x7f5e41e18190>]"
            ]
          },
          "metadata": {},
          "execution_count": 47
        },
        {
          "output_type": "execute_result",
          "data": {
            "text/plain": [
              "Text(0.5, 0, 'Algorithms')"
            ]
          },
          "metadata": {},
          "execution_count": 47
        },
        {
          "output_type": "execute_result",
          "data": {
            "text/plain": [
              "Text(0, 0.5, 'MAE Value')"
            ]
          },
          "metadata": {},
          "execution_count": 47
        },
        {
          "output_type": "execute_result",
          "data": {
            "text/plain": [
              "<matplotlib.legend.Legend at 0x7f5e41c70850>"
            ]
          },
          "metadata": {},
          "execution_count": 47
        },
        {
          "output_type": "display_data",
          "data": {
            "image/png": "[encoded data removed]",
            "text/plain": [
              "<Figure size 1440x1080 with 2 Axes>"
            ]
          },
          "metadata": {
            "needs_background": "light"
          }
        },
        {
          "output_type": "execute_result",
          "data": {
            "text/html": [
              "<div>\n",
              "<style scoped>\n",
              "    .dataframe tbody tr th:only-of-type {\n",
              "        vertical-align: middle;\n",
              "    }\n",
              "\n",
              "    .dataframe tbody tr th {\n",
              "        vertical-align: top;\n",
              "    }\n",
              "\n",
              "    .dataframe thead th {\n",
              "        text-align: right;\n",
              "    }\n",
              "</style>\n",
              "<table border=\"1\" class=\"dataframe\">\n",
              "  <thead>\n",
              "    <tr style=\"text-align: right;\">\n",
              "      <th></th>\n",
              "      <th>Model</th>\n",
              "      <th>RMSE</th>\n",
              "      <th>MAE</th>\n",
              "      <th>Fit Time</th>\n",
              "      <th>Test Time</th>\n",
              "    </tr>\n",
              "  </thead>\n",
              "  <tbody>\n",
              "    <tr>\n",
              "      <th>0</th>\n",
              "      <td>SVD</td>\n",
              "      <td>0.8593849</td>\n",
              "      <td>0.6350164</td>\n",
              "      <td>0.0839866</td>\n",
              "      <td>0.0034791</td>\n",
              "    </tr>\n",
              "    <tr>\n",
              "      <th>1</th>\n",
              "      <td>SVD++</td>\n",
              "      <td>0.8563944</td>\n",
              "      <td>0.6200168</td>\n",
              "      <td>0.3255200</td>\n",
              "      <td>0.0078287</td>\n",
              "    </tr>\n",
              "    <tr>\n",
              "      <th>2</th>\n",
              "      <td>KNNBasic</td>\n",
              "      <td>1.0133478</td>\n",
              "      <td>0.6849264</td>\n",
              "      <td>0.0046651</td>\n",
              "      <td>0.0054764</td>\n",
              "    </tr>\n",
              "    <tr>\n",
              "      <th>3</th>\n",
              "      <td>KNNWithZScore</td>\n",
              "      <td>0.9660607</td>\n",
              "      <td>0.6460221</td>\n",
              "      <td>0.0130789</td>\n",
              "      <td>0.0082687</td>\n",
              "    </tr>\n",
              "    <tr>\n",
              "      <th>4</th>\n",
              "      <td>KNNWithMeans User-User</td>\n",
              "      <td>0.9639792</td>\n",
              "      <td>0.6549600</td>\n",
              "      <td>0.0173621</td>\n",
              "      <td>0.0100783</td>\n",
              "    </tr>\n",
              "    <tr>\n",
              "      <th>5</th>\n",
              "      <td>KNNWithMeans Item-Item</td>\n",
              "      <td>0.9316409</td>\n",
              "      <td>0.6349654</td>\n",
              "      <td>0.0082887</td>\n",
              "      <td>0.0077644</td>\n",
              "    </tr>\n",
              "  </tbody>\n",
              "</table>\n",
              "</div>"
            ],
            "text/plain": [
              "                    Model      RMSE       MAE  Fit Time  Test Time\n",
              "0                     SVD 0.8593849 0.6350164 0.0839866  0.0034791\n",
              "1                   SVD++ 0.8563944 0.6200168 0.3255200  0.0078287\n",
              "2                KNNBasic 1.0133478 0.6849264 0.0046651  0.0054764\n",
              "3           KNNWithZScore 0.9660607 0.6460221 0.0130789  0.0082687\n",
              "4  KNNWithMeans User-User 0.9639792 0.6549600 0.0173621  0.0100783\n",
              "5  KNNWithMeans Item-Item 0.9316409 0.6349654 0.0082887  0.0077644"
            ]
          },
          "metadata": {},
          "execution_count": 47
        }
      ]
    },
    {
      "cell_type": "markdown",
      "metadata": {
        "id": "6te0or5tVYiL"
      },
      "source": [
        "**MODEL EVALUATION:**\n",
        "\n",
        "From above algorithm comparisons plots we can infer the followings:\n",
        "\n",
        "1.   RMSE : we can see that SVD++ is giving the best RMSE values\n",
        "2.   MAE : Here SVD++ and KNNWithMean-User-User both are giving the best MAE value\n",
        "3.   SVD++ is showing the best RMSE in Matrix Factorization Based Algorithms.\n",
        "4.   KNNWithMeans is giving the best RMSE in Collaborative Filtering Algorithms.\n",
        "5.  If compare SVD and SVD++ then can notice that RMSE and MAE value of SVD is slightly differs from the SVD++ but the Fit Time and Test Time taken by SVD is significant less(12 times) than SVD++. So, we will proceed with SVD got get top-k recommendations\n"
      ]
    },
    {
      "cell_type": "markdown",
      "metadata": {
        "id": "2N_7JdxZYuST"
      },
      "source": [
        "**MODEL DEPLOYMENT**"
      ]
    },
    {
      "cell_type": "code",
      "metadata": {
        "id": "_bTzP2IsLx28",
        "colab": {
          "base_uri": "https://localhost:8080/"
        },
        "outputId": "ee794112-fb88-4d9f-ffce-503fa868ae8f"
      },
      "source": [
        "top_n = defaultdict(list)\n",
        "def get_top_n(predictions, n=k):\n",
        "    # First map the predictions to each user.\n",
        "    top_n = defaultdict(list)\n",
        "    for uid, iid, true_r, est, _ in predictions:\n",
        "        top_n[uid].append((iid, est))\n",
        "\n",
        "    # Then sort the predictions for each user and retrieve the k highest ones.\n",
        "    for uid, user_ratings in top_n.items():\n",
        "        user_ratings.sort(key=lambda x: x[1], reverse=True)\n",
        "        top_n[uid] = user_ratings[:n]\n",
        "\n",
        "    return top_n\n",
        "\n",
        "top_n = get_top_n(predictions_svd, n=k)\n",
        "top_n"
      ],
      "execution_count": 48,
      "outputs": [
        {
          "output_type": "execute_result",
          "data": {
            "text/plain": [
              "defaultdict(list,\n",
              "            {'A100WO06OQR8BQ': [('B000VX6XL6', 4.483547957610481),\n",
              "              ('B00006RVPW', 4.476499586693412)],\n",
              "             'A10Y058K7B96C6': [('B001GS8FZ2', 3.8404851902204027),\n",
              "              ('B001CHHVCU', 3.8071626733652613)],\n",
              "             'A11KZ906QD08C5': [('B002WE6D44', 4.80480884246909),\n",
              "              ('B000L47AHG', 4.517786143607771),\n",
              "              ('B00006I53S', 4.352979215042126)],\n",
              "             'A12DQZKRKTNF5E': [('B002WE6D44', 4.923102399658721),\n",
              "              ('B001E1Y5O6', 4.551161021830124),\n",
              "              ('B0002L5R78', 4.190950575301013)],\n",
              "             'A141OPVE376YFI': [('B002WE6D44', 4.931205472604195),\n",
              "              ('B000U5TUWE', 4.386771548913119),\n",
              "              ('B000TG4BA0', 4.279562948050071)],\n",
              "             'A1435P5AMCPB3X': [('B000M17AVO', 4.319540878811387)],\n",
              "             'A149RNR5RH19YY': [('B001F51G16', 4.739767330851196),\n",
              "              ('B00007KDVI', 4.138558599882068)],\n",
              "             'A14JBDSWKPKTZA': [('B001TH7GVE', 4.706250764857415),\n",
              "              ('B00007KDVI', 4.047326549017981)],\n",
              "             'A15QYHQH80W30L': [('B000HJPK2C', 4.5124069179836),\n",
              "              ('B000TKHBDK', 4.479005162909172)],\n",
              "             'A17BUUBOU0598B': [('B000JMJWV2', 4.166722184885215),\n",
              "              ('B000TKHBDK', 3.9833335939639567),\n",
              "              ('B002SQK2F2', 2.877825610365549)],\n",
              "             'A17HMM1M7T9PJ1': [('B0010Z28XG', 4.605037362580932),\n",
              "              ('B00007GQLU', 4.427049244583158),\n",
              "              ('B00109Y2DQ', 4.377631581394433)],\n",
              "             'A18HE80910BTZI': [('B00077AA5Q', 4.349260936130056),\n",
              "              ('B0025VKUQQ', 4.228705647591527),\n",
              "              ('B002SQK2F2', 2.9980048490474713)],\n",
              "             'A18S2VGUH9SCV5': [('B001T9NUJE', 4.598623842229136),\n",
              "              ('B002C7481G', 4.594573576123554),\n",
              "              ('B0002L5R78', 4.529218145103129),\n",
              "              ('B000V1MLBE', 4.338810163459843)],\n",
              "             'A19RGDJPNZ7NZ': [('B001LK8P14', 4.114727689488994)],\n",
              "             'A19W47CXJJP1MI': [('B002VPE1Z2', 4.396624665663831)],\n",
              "             'A19X4BF861LQST': [('B00109Y2DQ', 4.460726239349403),\n",
              "              ('B000BQ7GW8', 4.339975561048546),\n",
              "              ('B000MX48VM', 4.333474264342767)],\n",
              "             'A19XMHRB3G4DIR': [('B000N99BBC', 4.827988510672603),\n",
              "              ('B002SZEOLG', 4.64579215444617)],\n",
              "             'A1BT6TL7UCIC5Y': [('B002R5AM7C', 4.308242830304067),\n",
              "              ('B001GS8FZ2', 4.112096700144033)],\n",
              "             'A1CPRP3VFJRS1R': [('B002HWRJY4', 4.209875077158925),\n",
              "              ('B0002L5R78', 3.9421353063103286)],\n",
              "             'A1E55W6ES0FY17': [('B00009XVCZ', 4.483910108322617),\n",
              "              ('B000V1MLBE', 4.253287846385224)],\n",
              "             'A1EH2S92FHWZRP': [('B000Q8UAWY', 4.612555876376118),\n",
              "              ('B000M2GYF6', 4.597498325045635),\n",
              "              ('B002IC0YL8', 4.565640247192115)],\n",
              "             'A1EKSETIBS9ETQ': [('B000M17AVO', 4.471139665784279)],\n",
              "             'A1EXGL6L0QQ0M5': [('B002HWRJBM', 4.386651868270816),\n",
              "              ('B00004ZCJE', 4.36494942594039),\n",
              "              ('B002QEBMAK', 4.361752608789332),\n",
              "              ('B000JE7GPY', 4.32964871814243)],\n",
              "             'A1F1A0QQP2XVH5': [('B00017LSPI', 4.477435668148088),\n",
              "              ('B0013FRNKG', 4.301778154673243)],\n",
              "             'A1F9Z42CFF9IAY': [('B000AZ57M6', 4.523072680872385),\n",
              "              ('B001UI2FPE', 4.505948824866386),\n",
              "              ('B000M17AVO', 4.230720425596809),\n",
              "              ('B00009R6TA', 4.0740223916550455)],\n",
              "             'A1H98YV5K5BUX0': [('B0000BZL1P', 4.849620574537788),\n",
              "              ('B000TXZIDM', 4.2473613804757955)],\n",
              "             'A1IU7S4HCK1XK0': [('B000N99BBC', 5)],\n",
              "             'A1J75JJ0Q2OEJN': [('B002SQK2F2', 3.392942520678639)],\n",
              "             'A1JUBRIZMO0RJV': [('B001GS8FZ2', 4.01125338875811)],\n",
              "             'A1KKE6VX8VPWZK': [('B001FWBUUG', 4.595354793886953),\n",
              "              ('B00275XTSQ', 4.375484515891742),\n",
              "              ('B002R5AM7C', 4.367797472575226)],\n",
              "             'A1KXJCXS6HFRQZ': [('B00077AA5Q', 4.35542917359281),\n",
              "              ('B0025VKUQQ', 4.224366815472977),\n",
              "              ('B002HWRJBM', 4.139140480958007),\n",
              "              ('B001DULYZG', 4.059682154395916),\n",
              "              ('B002KC55OM', 3.9204920245919705)],\n",
              "             'A1MFVAHTT2BHM0': [('B000S5Q9CA', 4.668411403022758),\n",
              "              ('B00005T3G0', 4.501630537965761),\n",
              "              ('B001F51G16', 4.4018263891835385),\n",
              "              ('B002QEBMAK', 4.3468368916922495)],\n",
              "             'A1MJMYLRTZ76ZX': [('B002C7481G', 4.504162694354892),\n",
              "              ('B00004ZCJE', 4.414883415635461),\n",
              "              ('B000BKJZ9Q', 4.393004394050748)],\n",
              "             'A1NNMOD9H36Q8E': [('B000HGIWN4', 4.293809792786234)],\n",
              "             'A1ODOGXEYECQQ8': [('B000VX6XL6', 4.5997641972698435),\n",
              "              ('B001TUYTZM', 4.584457771933989),\n",
              "              ('B0007QKMQY', 4.5249189084940316),\n",
              "              ('B0011NVMO8', 4.479358978913211),\n",
              "              ('B00109Y2DQ', 4.471916557977109)],\n",
              "             'A1P3DDFL423B3C': [('B000A6PPOK', 4.457563329678401)],\n",
              "             'A1PL7QILVQV3IF': [('B001TK3ACA', 4.336100666972248),\n",
              "              ('B000JE7GPY', 4.254225637025847)],\n",
              "             'A1PV5T5S4D5NPI': [('B0019EHU8G', 4.861954748975266)],\n",
              "             'A1QNYLBG73QRNF': [('B00009XVCZ', 4.544495816296099),\n",
              "              ('B00006I53S', 4.525786945770793),\n",
              "              ('B001G5ZTLS', 4.460657624097145),\n",
              "              ('B001CHHVCU', 3.9210702726111055)],\n",
              "             'A1QQA7Y92L4F9R': [('B0000BVYTV', 4.655076084173428),\n",
              "              ('B000Q8UAWY', 4.504681958325056)],\n",
              "             'A1QVFHPY8418HC': [('B000V1MLBE', 4.476305649020439)],\n",
              "             'A1RPTVW5VEOSI': [('B002J9HBIO', 4.5299779473220765)],\n",
              "             'A1SB9BNNGKNX2Z': [('B00017LSPI', 4.947535035208669),\n",
              "              ('B002R5AM7C', 4.374001415850761)],\n",
              "             'A1SHHQSPOWR00F': [('B00007EDZG', 3.8458931465881703)],\n",
              "             'A1T1YSCDW0PD25': [('B001F51G16', 4.484896903545884),\n",
              "              ('B002J9HBIO', 4.445857181925541),\n",
              "              ('B000U5TUWE', 4.431957983055206)],\n",
              "             'A1TDR7Y90SVCHL': [('B002WE6D44', 4.817756593428663)],\n",
              "             'A1TQZUSOU22E9M': [('B00005LEN4', 4.813696242944046),\n",
              "              ('B002UT42UI', 4.490777031178259),\n",
              "              ('B001DULYZG', 4.360247281426004)],\n",
              "             'A1UEL5C1N6E5SE': [('B000JMJWV2', 4.6758935484618585)],\n",
              "             'A1V4VVBQBFXRHC': [('B00316263Y', 4.5566378383266954),\n",
              "              ('B000KO0GY6', 4.450374991262807),\n",
              "              ('B00275XTSQ', 4.092000187593988)],\n",
              "             'A1VHCO8RQFIGQJ': [('B002WE6D44', 4.78540216361868),\n",
              "              ('B0019EHU8G', 4.75240576166929),\n",
              "              ('B000JMJWV2', 4.692277544683653),\n",
              "              ('B00007GQLU', 4.508042051940404),\n",
              "              ('B002J9HBIO', 4.320475218695073)],\n",
              "             'A1VLVWTLV3LVHR': [('B002R5AM7C', 4.089771148348575),\n",
              "              ('B001CHHVCU', 3.6253179331454355)],\n",
              "             'A1VQHH85U7PX0': [('B0025VKUQQ', 4.661085048345263),\n",
              "              ('B000L47AHG', 4.646865771642204),\n",
              "              ('B00109Y2DQ', 4.5622304788732855),\n",
              "              ('B000TXZIDM', 4.40325993689722),\n",
              "              ('B001TH7GSW', 4.387071346331761)],\n",
              "             'A1VTCSCH8FFC76': [('B00066IJPQ', 3.728795588504971)],\n",
              "             'A1VVRA3P6G1TWH': [('B00009XVCZ', 4.582715606272582),\n",
              "              ('B0007QKMQY', 4.501919687878281),\n",
              "              ('B00004ZCJE', 4.358505566528032)],\n",
              "             'A1X2LENOF84LCQ': [('B000Q8UAWY', 4.333070085576276),\n",
              "              ('B002HWRJY4', 4.231274613910831),\n",
              "              ('B002O3W2OI', 3.364818901725548),\n",
              "              ('B002SQK2F2', 3.0212186362881503)],\n",
              "             'A1Z16630QMH8Q6': [('B000HPV3RW', 4.7553829745115355)],\n",
              "             'A1ZM846Y7AUYD': [('B000NP3DJW', 4.660005196133224),\n",
              "              ('B002SQK2F2', 3.417158578439292)],\n",
              "             'A203OCQQ12MAVT': [('B002R5AM7C', 4.365875524767017),\n",
              "              ('B002KC55OM', 4.193469808624921),\n",
              "              ('B0028Y4CWI', 3.7304729386277655),\n",
              "              ('B002SQK2F2', 3.4781103687902757)],\n",
              "             'A20DZX38KRBIT8': [('B00007KDVI', 3.450124885350485)],\n",
              "             'A212MDP6K4VJS5': [('B00005LEN4', 4.820942331102875),\n",
              "              ('B002SZEOLG', 4.660538284076935),\n",
              "              ('B000HGIWN4', 4.355987640927348)],\n",
              "             'A21T0D2F7SKG5S': [('B00006JN3G', 4.325092357235674),\n",
              "              ('B002SZEOLG', 4.322166453657935)],\n",
              "             'A225G2TFM76GYX': [('B001TANZ0W', 4.838263581378532),\n",
              "              ('B001F7AHOG', 4.560329322769181),\n",
              "              ('B002R5AM7C', 4.390432781498813),\n",
              "              ('B001FA1NK0', 4.36873185006115),\n",
              "              ('B002SQK2F2', 3.5278323257156465)],\n",
              "             'A22CW0ZHY3NJH8': [('B000JMJWV2', 4.488857785567643)],\n",
              "             'A23GFTVIETX7DS': [('B0002CPBWI', 4.7794411012171905),\n",
              "              ('B002C7481G', 4.778276505549617),\n",
              "              ('B002UT42UI', 4.541219614700051),\n",
              "              ('B001CHHVCU', 3.962212119155011)],\n",
              "             'A23NSKTMSPPBTR': [('B000N99BBC', 4.453797562609202),\n",
              "              ('B0034CL2ZI', 4.281683217399191),\n",
              "              ('B001S4OTS6', 4.21243149123751)],\n",
              "             'A250AXLRBVYKB4': [('B002V88HFE', 4.781058204166166),\n",
              "              ('B00005LEN4', 4.768475037547798),\n",
              "              ('B0019EHU8G', 4.750307003258941),\n",
              "              ('B000Q8UAWY', 4.6999133857484034),\n",
              "              ('B001TH7GSW', 4.320431626702431)],\n",
              "             'A259MPG6SOL02P': [('B002WE4HE2', 4.336953879259435)],\n",
              "             'A25C2M3QF9G7OQ': [('B0011NVMO8', 4.761780873464267),\n",
              "              ('B00006I53S', 4.578855352662349)],\n",
              "             'A25FL6VLD7S23S': [('B001F51G16', 4.610231947204088)],\n",
              "             'A27B1U3OWCU14J': [('B000FBK3QK', 4.2929806101910675),\n",
              "              ('B002BH3I9U', 4.053735756124034)],\n",
              "             'A28UMA3GW9L124': [('B001E1Y5O6', 4.456284113099249),\n",
              "              ('B0028Y4CWI', 3.827220422402796),\n",
              "              ('B002O3W2OI', 3.716083975173922)],\n",
              "             'A2ARDVMUGDFED6': [('B000089GN3', 4.832747353411806),\n",
              "              ('B002C7481G', 4.764553943690587),\n",
              "              ('B000M17AVO', 4.592210406109886),\n",
              "              ('B001FWBUUG', 4.5531026701390545),\n",
              "              ('B00009R6TA', 4.4582936232760835)],\n",
              "             'A2AY4YUOX2N1BQ': [('B000VX6XL6', 4.64856746681687),\n",
              "              ('B00316263Y', 4.590602429934616),\n",
              "              ('B000F7QRTG', 4.563545376307516),\n",
              "              ('B00007GQLU', 4.536984591003179),\n",
              "              ('B0002L5R78', 4.388410519745132)],\n",
              "             'A2B7BUH8834Y6M': [('B0025VKUQQ', 4.315453675489253),\n",
              "              ('B00004ZCJE', 4.130314954012702)],\n",
              "             'A2BCDZO1XQLDH': [('B002R5AM7C', 4.125693671697974)],\n",
              "             'A2BLFCOPSMBOZ9': [('B001TH7GVE', 4.511795144638415),\n",
              "              ('B001T9NUJE', 4.339392161577999),\n",
              "              ('B002IC0YL8', 4.3053682669944),\n",
              "              ('B0002CPBWI', 4.214172961410083),\n",
              "              ('B002VPE1Z2', 4.18274007523629)],\n",
              "             'A2BMZRO0H7TFCS': [('B000A6PPOK', 4.485584126867061),\n",
              "              ('B000HPV3RW', 4.446434556153451)],\n",
              "             'A2CIQEY05SPHTZ': [('B001LK8P14', 4.357316397761225)],\n",
              "             'A2F7CSE6KT7NI4': [('B002SZEOLG', 4.601058592563841),\n",
              "              ('B00066IJPQ', 3.7019245349229957)],\n",
              "             'A2FXBWR4T4OFQ': [('B001E1Y5O6', 4.748378940720411),\n",
              "              ('B00004ZCJE', 4.493601523038535)],\n",
              "             'A2HMF8ZR67BNZS': [('B002TMRZOQ', 4.935119890270832),\n",
              "              ('B00006JN3G', 4.781870844670001),\n",
              "              ('B000LRMS66', 4.734115183270644),\n",
              "              ('B000QUUFRW', 4.719316976904333)],\n",
              "             'A2J7FHZFKOKGZ6': [('B001F51G16', 4.582558761584814)],\n",
              "             'A2JP9E1H0SF392': [('B0034CL2ZI', 4.714208974483024)],\n",
              "             'A2LCE1D0TW2XY0': [('B000AZ57M6', 4.426738048582601)],\n",
              "             'A2LXX47A0KMJVX': [('B002WE6D44', 4.616452469671036),\n",
              "              ('B000VX6XL6', 4.588598069941069),\n",
              "              ('B001FA1NK0', 4.0448462778691185)],\n",
              "             'A2NB2E5DXE319Z': [('B000N99BBC', 4.6941629837339836),\n",
              "              ('B002R5AM7C', 4.041345881480948)],\n",
              "             'A2NOW4U7W3F7RI': [('B001XURP7W', 4.587757059308911)],\n",
              "             'A2NSMJVQY0RV9S': [('B000S5Q9CA', 4.886004081543879),\n",
              "              ('B00017LSPI', 4.861301411273381),\n",
              "              ('B002HWRJBM', 4.637855991630102),\n",
              "              ('B000QUUFRW', 4.524515402933325)],\n",
              "             'A2PSD2R9A1CXG7': [('B000AZ57M6', 4.570740298994288),\n",
              "              ('B00006I53S', 4.289043065969832)],\n",
              "             'A2QI2NTDTMK2FV': [('B0019EHU8G', 4.637123413470012),\n",
              "              ('B001EYV9TM', 4.455864347165793)],\n",
              "             'A2RU4U1JZ3DMP5': [('B00017LSPI', 4.709798637936767),\n",
              "              ('B00077AA5Q', 4.542466287821221)],\n",
              "             'A2SATO5BNKWY3Y': [('B002QEBMAK', 4.3127903590328796)],\n",
              "             'A2T689YVOAYGGD': [('B00009XVCZ', 4.474052730706452)],\n",
              "             'A2UOHALGF2X77Q': [('B002WE6D44', 4.973301986359874),\n",
              "              ('B002V88HFE', 4.89269422503148),\n",
              "              ('B000VX6XL6', 4.803704232668948),\n",
              "              ('B001S4OTS6', 4.5076690697505954)],\n",
              "             'A2UQK3DAZ8NO2T': [('B000HGIWN4', 4.398211457606028)],\n",
              "             'A2UTZ4O5E2W4DK': [('B0010Z28XG', 4.653006582235708)],\n",
              "             'A2V7EO331SFUF6': [('B000S5Q9CA', 4.690494100417491),\n",
              "              ('B0002CPBWI', 4.335676580876596)],\n",
              "             'A2W2ODLRQ2L8LE': [('B000Q8UAWY', 4.573336777087163)],\n",
              "             'A2W9I628I6SE1U': [('B00119T6NQ', 4.576758092155124),\n",
              "              ('B000V1MLBE', 4.168201826730516),\n",
              "              ('B002TLTGM6', 4.154038249078865)],\n",
              "             'A2WB7LZ595CR50': [('B0011NVMO8', 4.733755146749669),\n",
              "              ('B00109Y2DQ', 4.708066022999473),\n",
              "              ('B002R5AM7C', 4.290161055589816)],\n",
              "             'A2WLNSZ9U0T1S3': [('B000F7QRTG', 4.483071399655579),\n",
              "              ('B000VX6XL6', 4.429628579315543),\n",
              "              ('B0011ZK6PC', 4.365831007292531),\n",
              "              ('B0015DYMVO', 4.330371398140096),\n",
              "              ('B001DULYZG', 4.065370695299193)],\n",
              "             'A2WXURU33RBGQS': [('B0012GK3MQ', 4.475241571864172),\n",
              "              ('B001XURP7W', 4.390724060765195),\n",
              "              ('B001D7REIK', 4.368326229123927)],\n",
              "             'A2XA8CW5DF4MNZ': [('B0025VKUQ6', 4.35303982863823)],\n",
              "             'A2XRMQA6PJ5ZJ8': [('B002WE4HE2', 4.70532738991229),\n",
              "              ('B0019EHU8G', 4.698978514808953),\n",
              "              ('B000HGIWN4', 4.658945477741221),\n",
              "              ('B0013FRNKG', 4.6036544132233095),\n",
              "              ('B000KO0GY6', 4.570143692840655)],\n",
              "             'A2XU6J41ZQOJ2V': [('B00109Y2DQ', 4.780614719341505)],\n",
              "             'A2Y3WWPUKIJ59I': [('B0034CL2ZI', 4.432005489841663)],\n",
              "             'A2Y739CRM15WDL': [('B001HSOFI2', 4.4790801789532475),\n",
              "              ('B002BH3I9U', 4.029408253910342)],\n",
              "             'A2YHXGPCTENZY3': [('B002UT42UI', 4.038315630813868)],\n",
              "             'A31BD4RXCON7QO': [('B000VX6XL6', 4.600088021301916),\n",
              "              ('B001KELVS0', 4.407799556344155)],\n",
              "             'A31ICLWQ9CSHRS': [('B000HJPK2C', 4.571105407972451),\n",
              "              ('B00007GQLU', 4.374199671448797),\n",
              "              ('B000FBK3QK', 4.333262592524915),\n",
              "              ('B00007E7JU', 4.309778421463068),\n",
              "              ('B002SGATH8', 4.0649192241980865)],\n",
              "             'A31N0XY2UTB25C': [('B002WE4HE2', 4.906342970653966),\n",
              "              ('B0034CL2ZI', 4.762069100907607),\n",
              "              ('B001E1Y5O6', 4.6111481898665785)],\n",
              "             'A32O5FZH994CNY': [('B001FA1NK0', 4.494994241413688),\n",
              "              ('B001CHHVCU', 4.008227417729506)],\n",
              "             'A33HIV8RXRDM88': [('B002R5AM7C', 4.188610369633362),\n",
              "              ('B002SQK2F2', 3.3879532033499444)],\n",
              "             'A33YZNZIRA3H97': [('B000MX48VM', 4.623266835149097),\n",
              "              ('B002UT42UI', 4.3747117302095315)],\n",
              "             'A34C9AFFZOI45T': [('B000HPV3RW', 4.556599406042905)],\n",
              "             'A34LQ791ACZ0JC': [('B000N99BBC', 4.726193303218506)],\n",
              "             'A353U0L2HAMSHV': [('B00316263Y', 4.756850232443663),\n",
              "              ('B0002L5R78', 4.423465405547007)],\n",
              "             'A35HNL2VEDK9Z1': [('B000S5Q9CA', 4.513614973034087),\n",
              "              ('B0007MXZB2', 3.9604458010858252)],\n",
              "             'A36A1ZYZH8568P': [('B002V88HFE', 4.523943140538415),\n",
              "              ('B00077AA5Q', 4.416544180427417),\n",
              "              ('B0011ZK6PC', 4.324893139549601)],\n",
              "             'A36K2N527TXXJN': [('B000MX48VM', 4.659866124251221),\n",
              "              ('B0002L5R78', 4.537036905935128)],\n",
              "             'A370XYLIZCSK1Y': [('B0002L5R78', 4.658568527706867),\n",
              "              ('B000LRMS66', 4.65441958533087),\n",
              "              ('B002TLTGM6', 4.237888986565762)],\n",
              "             'A376OJHLE6SU9Q': [('B0002L5R78', 4.538069459264853),\n",
              "              ('B001TH7GSW', 4.303252003989211)],\n",
              "             'A38KK0SZYEH5UD': [('B00169N0BK', 4.594289002681194),\n",
              "              ('B000FBK3QK', 4.498257297506608)],\n",
              "             'A38RMU1Y5TDP9': [('B001E1Y5O6', 4.528845964763455),\n",
              "              ('B000TXZIDM', 4.373007796946032)],\n",
              "             'A3A4ZAIBQWKOZS': [('B0015DYMVO', 4.745049323192723),\n",
              "              ('B0000BZL1P', 4.73107452934959),\n",
              "              ('B002BH3Z8E', 4.583308691404791)],\n",
              "             'A3AYSYSLHU26U9': [('B001PIBE8I', 4.814375080418086)],\n",
              "             'A3BACUOZV1M0WM': [('B000VX6XL6', 4.8883140535083385)],\n",
              "             'A3CG93783LP0FO': [('B002WE4HE2', 4.766045833802451),\n",
              "              ('B002V88HFE', 4.727017175176327),\n",
              "              ('B002SZEOLG', 4.559821337794659),\n",
              "              ('B001E1Y5O6', 4.464954742204969)],\n",
              "             'A3CW0ZLUO5X2B1': [('B000LRMS66', 4.465350944055813),\n",
              "              ('B001TH7GSW', 4.113149696015388)],\n",
              "             'A3DWO5RJDA430F': [('B000VX6XL6', 4.64856746681687),\n",
              "              ('B000L47AHG', 4.428673287495203)],\n",
              "             'A3EXWV8FNSSFL6': [('B00109Y2DQ', 4.744800713347893)],\n",
              "             'A3FEGTOLCWXSV4': [('B00169N0BK', 4.387214206082961)],\n",
              "             'A3FPSY1M6G7XIB': [('B00007E7JU', 4.697193502134051),\n",
              "              ('B00004ZCJE', 4.44034972448569),\n",
              "              ('B00009R6TA', 4.311721515955182)],\n",
              "             'A3IY316DRNF5F2': [('B000089GN3', 4.56799979611692),\n",
              "              ('B002TLTGM6', 4.041039568187758)],\n",
              "             'A3J8A5L5AF5TX9': [('B001TH7GVE', 4.674928188575295),\n",
              "              ('B000BQ7GW8', 4.462856566001869),\n",
              "              ('B001TH7GSW', 3.976991628217844)],\n",
              "             'A3L1VJMHFWONCB': [('B002V88HFE', 4.5866685979220945),\n",
              "              ('B001TH7GVE', 4.507641437768749),\n",
              "              ('B00005T3G0', 4.471440999291419)],\n",
              "             'A3L6L5O89JTX2T': [('B002WE6D44', 4.787898102140078),\n",
              "              ('B000MX48VM', 4.559469792463831),\n",
              "              ('B000QUUFRW', 4.405159033743582),\n",
              "              ('B0025VKUQ6', 4.199579903844098)],\n",
              "             'A3L9E0YI7C5G0W': [('B0015DYMVO', 4.175833281223077)],\n",
              "             'A3LGT6UZL99IW1': [('B002SZEOLG', 4.52427074119523)],\n",
              "             'A3LWC833HQIG7J': [('B0019EHU8G', 4.515432460202856),\n",
              "              ('B002J9HBIO', 4.223419761318169),\n",
              "              ('B002SQK2F2', 3.1410959588276297)],\n",
              "             'A3N4VTNFPMTHEF': [('B002HWRJY4', 4.395902675539815)],\n",
              "             'A3NEAETOSXDBOM': [('B001FWBUUG', 4.501113320420018)],\n",
              "             'A3NKRH3TJ4DPVI': [('B0002CPBWI', 4.503335074287684)],\n",
              "             'A3NOBH42C7UI5M': [('B0010Z28XG', 4.747433915623221),\n",
              "              ('B000LRMS66', 4.442654625902327),\n",
              "              ('B001LK8P14', 4.238457868267835),\n",
              "              ('B002UT42UI', 4.117499761416941)],\n",
              "             'A3OA4DV4L81N1D': [('B002V88HFE', 4.767602031187162)],\n",
              "             'A3OXHLG6DIBRW8': [('B002TMRZOQ', 4.727293730092216),\n",
              "              ('B002ZCXJZE', 4.695408796444765),\n",
              "              ('B00169N0BK', 4.544749913926312),\n",
              "              ('B00004ZCJE', 4.517981139574888)],\n",
              "             'A3P1508PZ0UADD': [('B001XURP7W', 4.282535154683461)],\n",
              "             'A3PD8JD9L4WEII': [('B002WE6D44', 4.709934714241783),\n",
              "              ('B000HDJT4S', 4.526660993151099),\n",
              "              ('B0015DYMVO', 4.494029920826186)],\n",
              "             'A3Q4TYJVAM4IRM': [('B0010Z28XG', 4.534435458506897),\n",
              "              ('B0015DYMVO', 4.483273461071716)],\n",
              "             'A3QMJMTLJC34QC': [('B000BQ7GW8', 4.694284892537148),\n",
              "              ('B002TMRZOQ', 4.681398530190777),\n",
              "              ('B000TKHBDK', 4.629770931372265),\n",
              "              ('B002C7481G', 4.446378450788581)],\n",
              "             'A3QNQQKJTL76H0': [('B002TLTGM6', 4.11877009878687)],\n",
              "             'A3QNX5KWHDV0GD': [('B001F51G16', 4.65383524050609),\n",
              "              ('B00007EDZG', 4.331915839637173)],\n",
              "             'A3QQGPI3CTV9SX': [('B0000BZL1P', 4.880187381311953),\n",
              "              ('B000HJPK2C', 4.80978692376319),\n",
              "              ('B000Q8UAWY', 4.7316734826208044),\n",
              "              ('B00006JN3G', 4.615293610734159)],\n",
              "             'A3R4794K2RVU1S': [('B0034CL2ZI', 4.784526837885762),\n",
              "              ('B000TKHBDK', 4.703750464628235)],\n",
              "             'A3REK3OFONWB1Q': [('B001KELVS0', 4.541207407028741)],\n",
              "             'A3S3R88HA0HZG3': [('B00316263Y', 4.743304656659186),\n",
              "              ('B001GS8FZ2', 4.101564529617026),\n",
              "              ('B001CHHVCU', 3.9342290384786724)],\n",
              "             'A3T7V207KRDE2O': [('B000TKHBDK', 4.8656699685556415),\n",
              "              ('B00005LEN4', 4.768773944457818)],\n",
              "             'A3TBMAWIIHKHFN': [('B002WE6D44', 4.791203910422632),\n",
              "              ('B001E1Y5O6', 4.421737018910544),\n",
              "              ('B00004ZCJE', 4.220179033438005),\n",
              "              ('B001FWBUUG', 4.214728805639764)],\n",
              "             'A3TCMJ6GKZJFBQ': [('B0007QKMQY', 4.39206400769488),\n",
              "              ('B000M17AVO', 4.332695499857114)],\n",
              "             'A3U41ZL33SS92P': [('B000A6PPOK', 4.45086776683912),\n",
              "              ('B002IC0YL8', 4.334381616662633),\n",
              "              ('B00093IIRA', 4.133931345660914),\n",
              "              ('B002BH3I9U', 3.8634251365923027)],\n",
              "             'A3V7D0LH8L7BG0': [('B0025VKUQ6', 4.229337626210337)],\n",
              "             'A3W4D8XOGLWUN5': [('B000Q8UAWY', 4.387500764528549)],\n",
              "             'A4WEZJOIZIV4U': [('B001TH7GUU', 4.897554055543734),\n",
              "              ('B000BQ7GW8', 4.638077185363005),\n",
              "              ('B001XURP7W', 4.569862721171978),\n",
              "              ('B00007E7JU', 4.564607523049838),\n",
              "              ('B001S4OTS6', 4.562097389647142)],\n",
              "             'A5JLAU2ARJ0BO': [('B00004SB92', 4.357195211040234),\n",
              "              ('B00007EDZG', 4.179224808250745),\n",
              "              ('B0028Y4CWI', 3.774302583676102)],\n",
              "             'A5KMMY627T3W': [('B0007QKMQY', 4.257226024622511)],\n",
              "             'A680RUE1FDO8B': [('B0019EHU8G', 4.564194378348168),\n",
              "              ('B001TOD7ME', 4.534899238718477),\n",
              "              ('B00119T6NQ', 4.494329424570891),\n",
              "              ('B0012GK3MQ', 4.383730186392687),\n",
              "              ('B000EVSLRO', 4.365846490363834)],\n",
              "             'A6FIAB28IS79': [('B002C7481G', 4.601144373839563),\n",
              "              ('B000MX48VM', 4.598446088444675),\n",
              "              ('B000LRMS66', 4.565301908859403),\n",
              "              ('B001D7REIK', 4.465476017130748),\n",
              "              ('B001FA1NK0', 4.20717490368988)],\n",
              "             'A6VPK7X53QNAQ': [('B0013FRNKG', 4.637811951452871),\n",
              "              ('B002J9HBIO', 4.439849448859377)],\n",
              "             'A6VXZ1EEPRTLV': [('B002V88HFE', 4.584383422587491),\n",
              "              ('B001F7AHOG', 4.1968675930925246)],\n",
              "             'A7QMQBGJ2TCQG': [('B00007EDZG', 4.173995682748335)],\n",
              "             'A7Y6AVS576M03': [('B000N99BBC', 4.726193303218506),\n",
              "              ('B000BQ7GW8', 4.63507638532426),\n",
              "              ('B000089GN3', 4.607287816569156)],\n",
              "             'A87N6UTYA6NOB': [('B0007MXZB2', 4.10526357573008)],\n",
              "             'AAQ9NJ480N9W5': [('B002V88HFE', 4.664912124017004),\n",
              "              ('B000MX48VM', 4.590417481291104),\n",
              "              ('B002ZCXJZE', 4.5888084024183),\n",
              "              ('B000QUUFRW', 4.5343578880699145)],\n",
              "             'AAR7CEPXYJA0T': [('B002ZCXJZE', 4.102195680604765),\n",
              "              ('B002KC55OM', 3.9117600344581556),\n",
              "              ('B00066IJPQ', 3.4064662050081176)],\n",
              "             'AB094YABX21WQ': [('B000JMJWV2', 4.700322697608507)],\n",
              "             'ABMF4UC4Z00NT': [('B0015DYMVO', 4.587471340030444)],\n",
              "             'ABQWMANK4AR63': [('B002YU83YO', 4.733450070599184),\n",
              "              ('B002C7481G', 4.60015413005734),\n",
              "              ('B002ZCXJZE', 4.543739771551026),\n",
              "              ('B000JE7GPY', 4.440844423463088)],\n",
              "             'ABVYGB2TKBO8F': [('B002HWRJY4', 4.6867677762465165),\n",
              "              ('B000M17AVO', 4.608068641098928),\n",
              "              ('B000L47AHG', 4.605672060387901)],\n",
              "             'AC6Z7DP1Z5GHD': [('B000F7QRTG', 4.429762694592608)],\n",
              "             'ADLVFFE4VBT8': [('B000HPV3RW', 4.666408262611214),\n",
              "              ('B0002L5R78', 4.508665159533428),\n",
              "              ('B002ZCXJZE', 4.475261020860957),\n",
              "              ('B001TK3ACA', 4.393932307645236),\n",
              "              ('B002R5AM7C', 4.328877169916599)],\n",
              "             'AEJAGHLC675A7': [('B000N99BBC', 5),\n",
              "              ('B002SZEOLG', 4.821406248026514)],\n",
              "             'AEWYUPCNDV7HY': [('B002IC0YL8', 4.4003614385466445),\n",
              "              ('B00006B7DA', 4.374900016100014)],\n",
              "             'AFNG8O2DXRCUV': [('B001TH7GUU', 4.867344365299092),\n",
              "              ('B000JMJWV2', 4.671743400058862)],\n",
              "             'AFR9GYKAHM37U': [('B000VX6XL6', 4.831995940514958),\n",
              "              ('B0000BVYTV', 4.576426999800622)],\n",
              "             'AGHZXQL9F94T9': [('B0007QKMQY', 4.566988884927712)],\n",
              "             'AGVWTYW0ULXHT': [('B002C7481G', 4.2354643890904455),\n",
              "              ('B0002L5R78', 4.162680322186266),\n",
              "              ('B000EVSLRO', 4.1540958660059415),\n",
              "              ('B00169N0BK', 4.093326483021592),\n",
              "              ('B000JE7GPY', 4.011393028233784)],\n",
              "             'AGXMC3ITWZASE': [('B001LK8P14', 4.3543480702326125),\n",
              "              ('B00275XTSQ', 4.041177085666919),\n",
              "              ('B002SQK2F2', 3.276208822588192)],\n",
              "             'AGXV8E7XK9J6H': [('B00017LSPI', 4.6491514691602545),\n",
              "              ('B00006I53S', 4.336557110649645)],\n",
              "             'AHROSV6WJOEGY': [('B00006RVPW', 4.099388907564582),\n",
              "              ('B00006I53S', 3.9123122429694193)],\n",
              "             'AI8EMB0HUC6Z5': [('B001TH7GUU', 5),\n",
              "              ('B000N99BBC', 4.920625583023215)],\n",
              "             'AIJQU979J6UFY': [('B0000BVYTV', 4.630333228470309),\n",
              "              ('B002O3W2OI', 3.9388650598850328)],\n",
              "             'AK3GKIV8DEY8B': [('B000Q8UAWY', 4.547371932712488)],\n",
              "             'AKT8TGIT6VVZ5': [('B00005LEN4', 4.814646732333893),\n",
              "              ('B000M2GYF6', 4.512735772683995)],\n",
              "             'ALDAF4VVLFRHP': [('B0011NVMO8', 4.7462208066925164),\n",
              "              ('B002YU83YO', 4.6944542425458655)],\n",
              "             'AN81JUYW2SL24': [('B001T9NUJE', 4.609299514655384),\n",
              "              ('B002VPE1Z2', 4.5534820754877705),\n",
              "              ('B00004SB92', 4.489759717566347),\n",
              "              ('B002SGATH8', 4.442551393005364),\n",
              "              ('B00275XTSQ', 4.383408322243589)],\n",
              "             'AOEAD7DPLZE53': [('B000VX6XL6', 4.835973346272848)],\n",
              "             'AOMEH9W6LHC4S': [('B001KELVS0', 4.522591173027794),\n",
              "              ('B00004ZCJE', 4.177571968857045)],\n",
              "             'AONUCJBC85BL': [('B000F7QRTG', 4.606161436312621),\n",
              "              ('B000A6PPOK', 4.22343255054059),\n",
              "              ('B002R5AM7C', 3.997403869863527),\n",
              "              ('B001CHHVCU', 3.723673436246686)],\n",
              "             'AQIJ3ZEEVCIKU': [('B000N99BBC', 4.542063570501382),\n",
              "              ('B001TH7GVE', 4.453927522944989),\n",
              "              ('B001TANZ0W', 4.3915693557004944),\n",
              "              ('B000HPV3RW', 4.337142753882059),\n",
              "              ('B0025VKUQQ', 4.292034443041399)],\n",
              "             'ARBKYIVNYWK3C': [('B001TOD7ME', 4.372931693302409),\n",
              "              ('B000TKHBDK', 4.279658048627135),\n",
              "              ('B000JE7GPY', 4.148586666978909),\n",
              "              ('B002UT42UI', 3.9797811032728374),\n",
              "              ('B002TLTGM6', 3.808221001368875)],\n",
              "             'AROQO2VDODT7': [('B00007E7JU', 4.691834415471177),\n",
              "              ('B00007GQLU', 4.602333142706873)],\n",
              "             'ARX7Z3NI6O0F7': [('B000KO0GY6', 4.703373471575111)],\n",
              "             'ASJSX783R5HTZ': [('B0000BZL1P', 4.541110751429197),\n",
              "              ('B001TH7GUU', 4.46244910592585),\n",
              "              ('B001TH7GVE', 4.196413271073725),\n",
              "              ('B00169N0BK', 3.9630756280613504)],\n",
              "             'AT28RL25Q2OLK': [('B000HJPK2C', 4.695720137471334),\n",
              "              ('B002UT42UI', 4.337222540414047)],\n",
              "             'AT6CZDCP4TRGA': [('B00007KDVI', 3.7731467161558347)],\n",
              "             'ATDE9JYCPI0L1': [('B00004SB92', 4.407755178569472)],\n",
              "             'AUCISQA1YXX86': [('B001HSOFI2', 4.456100741650685)],\n",
              "             'AVPNQUVZWMDSX': [('B0010Z28XG', 4.682838630283522),\n",
              "              ('B001TH7GSW', 4.446912495577996),\n",
              "              ('B002KC55OM', 4.346854343146174),\n",
              "              ('B00007KDVI', 4.166642802100269)],\n",
              "             'AVSMRPI23DQI2': [('B0007QKMQY', 4.68500808394677),\n",
              "              ('B00093IIRA', 4.257956809480544),\n",
              "              ('B001FA1NK0', 4.23470454697778)],\n",
              "             'AWJWCKB92RJX2': [('B00109Y2DQ', 4.6567603200952705),\n",
              "              ('B000LRMS66', 4.486232266038814)],\n",
              "             'AWPODHOB4GFWL': [('B001HSOFI2', 4.554546492303859)],\n",
              "             'AX7317G153T8W': [('B0025VKUQQ', 4.404250577461207),\n",
              "              ('B001FA1NK0', 4.247319634190196),\n",
              "              ('B001DULYZG', 4.220674411278183),\n",
              "              ('B000TG4BA0', 3.986682730429511),\n",
              "              ('B001GS8FZ2', 3.9348132688976696)],\n",
              "             'AYMD77ITD15PT': [('B001CHHVCU', 3.9165612668121486)],\n",
              "             'AZ515FFZ7I2P7': [('B002IC0YL8', 4.226269832398196),\n",
              "              ('B001TK3ACA', 4.119846493299427),\n",
              "              ('B001CHHVCU', 3.650531272023148)],\n",
              "             'AZMY6E8B52L2T': [('B001TH7GUU', 5),\n",
              "              ('B000FBK3QK', 4.58493094186032),\n",
              "              ('B002QEBMAK', 4.502966934319922)]})"
            ]
          },
          "metadata": {},
          "execution_count": 48
        }
      ]
    },
    {
      "cell_type": "markdown",
      "metadata": {
        "id": "qXw69NTqZf5J"
      },
      "source": [
        "**NOTE:**\n",
        "\n",
        "The above list shows the model recommendations the \"TOP 5\" products for each user. There are some cases in which less than 5 products are recommended as the model is not able to find the appropriate number of neighbors"
      ]
    },
    {
      "cell_type": "code",
      "metadata": {
        "id": "ZWIy5HqzaBIi",
        "colab": {
          "base_uri": "https://localhost:8080/"
        },
        "outputId": "aba0bd19-f93e-4de3-d9fd-3d112d79971b"
      },
      "source": [
        "def precision_recall_at_k(predictions, k=5, threshold=3.5):\n",
        "    '''Return precision and recall at k metrics for each user.'''\n",
        "\n",
        "    # First map the predictions to each user.\n",
        "    user_est_true = defaultdict(list)\n",
        "    for uid, _, true_r, est, _ in predictions:\n",
        "        user_est_true[uid].append((est, true_r))\n",
        "\n",
        "    precisions = dict()\n",
        "    recalls = dict()\n",
        "    for uid, user_ratings in user_est_true.items():\n",
        "\n",
        "        # Sort user ratings by estimated value\n",
        "        user_ratings.sort(key=lambda x: x[0], reverse=True)\n",
        "\n",
        "        # Number of relevant items\n",
        "        n_rel = sum((true_r >= threshold) for (_, true_r) in user_ratings)\n",
        "\n",
        "        # Number of recommended items in top k\n",
        "        n_rec_k = sum((est >= threshold) for (est, _) in user_ratings[:k])\n",
        "\n",
        "        # Number of relevant and recommended items in top k\n",
        "        n_rel_and_rec_k = sum(((true_r >= threshold) and (est >= threshold))\n",
        "                              for (est, true_r) in user_ratings[:k])\n",
        "\n",
        "        # Precision@K: Proportion of recommended items that are relevant\n",
        "        precisions[uid] = n_rel_and_rec_k / n_rec_k if n_rec_k != 0 else 1\n",
        "\n",
        "        # Recall@K: Proportion of relevant items that are recommended\n",
        "        recalls[uid] = n_rel_and_rec_k / n_rel if n_rel != 0 else 1\n",
        "\n",
        "    return precisions, recalls\n",
        "\n",
        "\n",
        "kf = KFold(n_splits=5)\n",
        "svd_model = SVD(n_epochs=20, lr_all=0.005, reg_all=0.2)\n",
        "precs = []\n",
        "recalls = []\n",
        "\n",
        "for trainset, testset in kf.split(surprise_data):\n",
        "    svd_model.fit(trainset)\n",
        "    predictions = svd_model.test(testset)\n",
        "    precisions, recalls = precision_recall_at_k(predictions, k=5, threshold=3.5)\n",
        "\n",
        "    # Precision and recall can then be averaged over all users\n",
        "    print('Precision : ', sum(prec for prec in precisions.values()) / len(precisions))\n",
        "    print('Recalls : ',sum(rec for rec in recalls.values()) / len(recalls))\n"
      ],
      "execution_count": 49,
      "outputs": [
        {
          "output_type": "execute_result",
          "data": {
            "text/plain": [
              "<surprise.prediction_algorithms.matrix_factorization.SVD at 0x7f5e41b0dc10>"
            ]
          },
          "metadata": {},
          "execution_count": 49
        },
        {
          "output_type": "stream",
          "name": "stdout",
          "text": [
            "Precision :  0.8964349376114081\n",
            "Recalls :  0.9940285204991087\n"
          ]
        },
        {
          "output_type": "execute_result",
          "data": {
            "text/plain": [
              "<surprise.prediction_algorithms.matrix_factorization.SVD at 0x7f5e41b0dc10>"
            ]
          },
          "metadata": {},
          "execution_count": 49
        },
        {
          "output_type": "stream",
          "name": "stdout",
          "text": [
            "Precision :  0.8832402234636871\n",
            "Recalls :  0.9928172386272945\n"
          ]
        },
        {
          "output_type": "execute_result",
          "data": {
            "text/plain": [
              "<surprise.prediction_algorithms.matrix_factorization.SVD at 0x7f5e41b0dc10>"
            ]
          },
          "metadata": {},
          "execution_count": 49
        },
        {
          "output_type": "stream",
          "name": "stdout",
          "text": [
            "Precision :  0.8686666666666667\n",
            "Recalls :  0.9933333333333334\n"
          ]
        },
        {
          "output_type": "execute_result",
          "data": {
            "text/plain": [
              "<surprise.prediction_algorithms.matrix_factorization.SVD at 0x7f5e41b0dc10>"
            ]
          },
          "metadata": {},
          "execution_count": 49
        },
        {
          "output_type": "stream",
          "name": "stdout",
          "text": [
            "Precision :  0.8835135135135135\n",
            "Recalls :  0.9779279279279279\n"
          ]
        },
        {
          "output_type": "execute_result",
          "data": {
            "text/plain": [
              "<surprise.prediction_algorithms.matrix_factorization.SVD at 0x7f5e41b0dc10>"
            ]
          },
          "metadata": {},
          "execution_count": 49
        },
        {
          "output_type": "stream",
          "name": "stdout",
          "text": [
            "Precision :  0.8712280701754387\n",
            "Recalls :  0.9921052631578947\n"
          ]
        }
      ]
    },
    {
      "cell_type": "code",
      "metadata": {
        "id": "eY2Cpzim5RZo"
      },
      "source": [
        "pickle.dump(svd_model,open('mostrelevant.pkl','wb'))"
      ],
      "execution_count": 50,
      "outputs": []
    },
    {
      "cell_type": "markdown",
      "metadata": {
        "id": "ZGrGEUqSau-c"
      },
      "source": [
        "**Comment:** Precision and Recall have been calculated at k=5. \n",
        "\n",
        " Precision and Recall are binary metrics used to evaluate models with binary output. We need a way to translate our numerical problem (ratings usually from 1 to 5) into a binary problem (relevant and not relevant items). To do the translation we assume that any true rating above 3.5 corresponds to a relevant item and any true rating below 3.5 is irrelevant.\n",
        "\n",
        "Precision at 5 within the TOP 5 recommendations is alomost 85%. This means that 86% of the recommendation are relevent to the users.\n",
        "Recall at 5 within the TOP 5 recommendations problem is almost 95%. This means that 95% of the total number of the relevent products appear in the top-k result."
      ]
    },
    {
      "cell_type": "markdown",
      "metadata": {
        "id": "UwAdUamYavVP"
      },
      "source": [
        "**CONCLUSION**\n",
        "\n",
        "- EDA shows us that most of the customers give a rating of \"5\". This leads us to the conclusion that customers are very satisfied with their purchase. It may need some investigation to see if some bots or mandatory feedback at lower ratings are causing the majority to give a top rating of \"5\"\n",
        "\n",
        "- Subset of users who have provided 50 or more ratings and products which have received more than 10 ratings have been used to remove outliers and overcome Grey Sheep issue.\n",
        "\n",
        "- Popularity Model - shows the TOP 5 recommended products irrespective of the user. The same 5 product will be recommended for every user.\n",
        "\n",
        "- 'Matrix Factorization Based Algorithms' & 'k-NN Based Algorithms' were used to build Collaborative Filtering model.\n",
        "\n",
        "- SVD++ yields the lowest RMSE which is slightly better than SVD but computational time of SVD++ is 12 times greater than SVD. SVD can be used to get the recommended products.\n",
        "\n",
        "- Precision which is almost 86%. which can be interpreted as 86% of the recommendations are actually relevant to the user.\n",
        "\n",
        "- Recall is at 96% which can be interpreted as percent of the relevant items were recommended in the top-k items."
      ]
    },
    {
      "cell_type": "code",
      "metadata": {
        "id": "oTKCDmBebMV4",
        "colab": {
          "base_uri": "https://localhost:8080/"
        },
        "outputId": "06b93f09-a50b-4276-9ce0-48770810544e"
      },
      "source": [
        "!pip install colabcode\n",
        "!pip install fastapi"
      ],
      "execution_count": 51,
      "outputs": [
        {
          "output_type": "stream",
          "name": "stdout",
          "text": [
            "Requirement already satisfied: colabcode in /usr/local/lib/python3.7/dist-packages (0.3.0)\n",
            "Requirement already satisfied: nest-asyncio==1.4.3 in /usr/local/lib/python3.7/dist-packages (from colabcode) (1.4.3)\n",
            "Requirement already satisfied: pyngrok>=5.0.0 in /usr/local/lib/python3.7/dist-packages (from colabcode) (5.1.0)\n",
            "Requirement already satisfied: uvicorn==0.13.1 in /usr/local/lib/python3.7/dist-packages (from colabcode) (0.13.1)\n",
            "Requirement already satisfied: jupyterlab==3.0.7 in /usr/local/lib/python3.7/dist-packages (from colabcode) (3.0.7)\n",
            "Requirement already satisfied: jupyter-server~=1.2 in /usr/local/lib/python3.7/dist-packages (from jupyterlab==3.0.7->colabcode) (1.11.0)\n",
            "Requirement already satisfied: ipython in /usr/local/lib/python3.7/dist-packages (from jupyterlab==3.0.7->colabcode) (5.5.0)\n",
            "Requirement already satisfied: jinja2>=2.10 in /usr/local/lib/python3.7/dist-packages (from jupyterlab==3.0.7->colabcode) (2.11.3)\n",
            "Requirement already satisfied: packaging in /usr/local/lib/python3.7/dist-packages (from jupyterlab==3.0.7->colabcode) (21.0)\n",
            "Requirement already satisfied: nbclassic~=0.2 in /usr/local/lib/python3.7/dist-packages (from jupyterlab==3.0.7->colabcode) (0.3.2)\n",
            "Requirement already satisfied: jupyter-core in /usr/local/lib/python3.7/dist-packages (from jupyterlab==3.0.7->colabcode) (4.8.1)\n",
            "Requirement already satisfied: tornado>=6.1.0 in /usr/local/lib/python3.7/dist-packages (from jupyterlab==3.0.7->colabcode) (6.1)\n",
            "Requirement already satisfied: jupyterlab-server~=2.0 in /usr/local/lib/python3.7/dist-packages (from jupyterlab==3.0.7->colabcode) (2.8.2)\n",
            "Requirement already satisfied: click==7.* in /usr/local/lib/python3.7/dist-packages (from uvicorn==0.13.1->colabcode) (7.1.2)\n",
            "Requirement already satisfied: typing-extensions in /usr/local/lib/python3.7/dist-packages (from uvicorn==0.13.1->colabcode) (3.7.4.3)\n",
            "Requirement already satisfied: h11>=0.8 in /usr/local/lib/python3.7/dist-packages (from uvicorn==0.13.1->colabcode) (0.12.0)\n",
            "Requirement already satisfied: MarkupSafe>=0.23 in /usr/local/lib/python3.7/dist-packages (from jinja2>=2.10->jupyterlab==3.0.7->colabcode) (2.0.1)\n",
            "Requirement already satisfied: pyzmq>=17 in /usr/local/lib/python3.7/dist-packages (from jupyter-server~=1.2->jupyterlab==3.0.7->colabcode) (22.3.0)\n",
            "Requirement already satisfied: terminado>=0.8.3 in /usr/local/lib/python3.7/dist-packages (from jupyter-server~=1.2->jupyterlab==3.0.7->colabcode) (0.12.1)\n",
            "Requirement already satisfied: websocket-client in /usr/local/lib/python3.7/dist-packages (from jupyter-server~=1.2->jupyterlab==3.0.7->colabcode) (1.2.1)\n",
            "Requirement already satisfied: jupyter-client>=6.1.1 in /usr/local/lib/python3.7/dist-packages (from jupyter-server~=1.2->jupyterlab==3.0.7->colabcode) (6.1.12)\n",
            "Requirement already satisfied: Send2Trash in /usr/local/lib/python3.7/dist-packages (from jupyter-server~=1.2->jupyterlab==3.0.7->colabcode) (1.8.0)\n",
            "Requirement already satisfied: ipython-genutils in /usr/local/lib/python3.7/dist-packages (from jupyter-server~=1.2->jupyterlab==3.0.7->colabcode) (0.2.0)\n",
            "Requirement already satisfied: traitlets>=4.2.1 in /usr/local/lib/python3.7/dist-packages (from jupyter-server~=1.2->jupyterlab==3.0.7->colabcode) (5.1.0)\n",
            "Requirement already satisfied: anyio<4,>=3.1.0 in /usr/local/lib/python3.7/dist-packages (from jupyter-server~=1.2->jupyterlab==3.0.7->colabcode) (3.3.2)\n",
            "Requirement already satisfied: nbconvert in /usr/local/lib/python3.7/dist-packages (from jupyter-server~=1.2->jupyterlab==3.0.7->colabcode) (5.6.1)\n",
            "Requirement already satisfied: requests-unixsocket in /usr/local/lib/python3.7/dist-packages (from jupyter-server~=1.2->jupyterlab==3.0.7->colabcode) (0.2.0)\n",
            "Requirement already satisfied: nbformat in /usr/local/lib/python3.7/dist-packages (from jupyter-server~=1.2->jupyterlab==3.0.7->colabcode) (5.1.3)\n",
            "Requirement already satisfied: argon2-cffi in /usr/local/lib/python3.7/dist-packages (from jupyter-server~=1.2->jupyterlab==3.0.7->colabcode) (21.1.0)\n",
            "Requirement already satisfied: prometheus-client in /usr/local/lib/python3.7/dist-packages (from jupyter-server~=1.2->jupyterlab==3.0.7->colabcode) (0.11.0)\n",
            "Requirement already satisfied: sniffio>=1.1 in /usr/local/lib/python3.7/dist-packages (from anyio<4,>=3.1.0->jupyter-server~=1.2->jupyterlab==3.0.7->colabcode) (1.2.0)\n",
            "Requirement already satisfied: idna>=2.8 in /usr/local/lib/python3.7/dist-packages (from anyio<4,>=3.1.0->jupyter-server~=1.2->jupyterlab==3.0.7->colabcode) (2.10)\n",
            "Requirement already satisfied: python-dateutil>=2.1 in /usr/local/lib/python3.7/dist-packages (from jupyter-client>=6.1.1->jupyter-server~=1.2->jupyterlab==3.0.7->colabcode) (2.8.2)\n",
            "Requirement already satisfied: jsonschema>=3.0.1 in /usr/local/lib/python3.7/dist-packages (from jupyterlab-server~=2.0->jupyterlab==3.0.7->colabcode) (4.0.1)\n",
            "Requirement already satisfied: json5 in /usr/local/lib/python3.7/dist-packages (from jupyterlab-server~=2.0->jupyterlab==3.0.7->colabcode) (0.9.6)\n",
            "Requirement already satisfied: babel in /usr/local/lib/python3.7/dist-packages (from jupyterlab-server~=2.0->jupyterlab==3.0.7->colabcode) (2.9.1)\n",
            "Requirement already satisfied: entrypoints>=0.2.2 in /usr/local/lib/python3.7/dist-packages (from jupyterlab-server~=2.0->jupyterlab==3.0.7->colabcode) (0.3)\n",
            "Requirement already satisfied: requests in /usr/local/lib/python3.7/dist-packages (from jupyterlab-server~=2.0->jupyterlab==3.0.7->colabcode) (2.23.0)\n",
            "Requirement already satisfied: importlib-metadata in /usr/local/lib/python3.7/dist-packages (from jsonschema>=3.0.1->jupyterlab-server~=2.0->jupyterlab==3.0.7->colabcode) (4.8.1)\n",
            "Requirement already satisfied: pyrsistent!=0.17.0,!=0.17.1,!=0.17.2,>=0.14.0 in /usr/local/lib/python3.7/dist-packages (from jsonschema>=3.0.1->jupyterlab-server~=2.0->jupyterlab==3.0.7->colabcode) (0.18.0)\n",
            "Requirement already satisfied: attrs>=17.4.0 in /usr/local/lib/python3.7/dist-packages (from jsonschema>=3.0.1->jupyterlab-server~=2.0->jupyterlab==3.0.7->colabcode) (21.2.0)\n",
            "Requirement already satisfied: notebook<7 in /usr/local/lib/python3.7/dist-packages (from nbclassic~=0.2->jupyterlab==3.0.7->colabcode) (5.3.1)\n",
            "Requirement already satisfied: ipykernel in /usr/local/lib/python3.7/dist-packages (from notebook<7->nbclassic~=0.2->jupyterlab==3.0.7->colabcode) (4.10.1)\n",
            "Requirement already satisfied: PyYAML in /usr/local/lib/python3.7/dist-packages (from pyngrok>=5.0.0->colabcode) (3.13)\n",
            "Requirement already satisfied: six>=1.5 in /usr/local/lib/python3.7/dist-packages (from python-dateutil>=2.1->jupyter-client>=6.1.1->jupyter-server~=1.2->jupyterlab==3.0.7->colabcode) (1.15.0)\n",
            "Requirement already satisfied: ptyprocess in /usr/local/lib/python3.7/dist-packages (from terminado>=0.8.3->jupyter-server~=1.2->jupyterlab==3.0.7->colabcode) (0.7.0)\n",
            "Requirement already satisfied: cffi>=1.0.0 in /usr/local/lib/python3.7/dist-packages (from argon2-cffi->jupyter-server~=1.2->jupyterlab==3.0.7->colabcode) (1.14.6)\n",
            "Requirement already satisfied: pycparser in /usr/local/lib/python3.7/dist-packages (from cffi>=1.0.0->argon2-cffi->jupyter-server~=1.2->jupyterlab==3.0.7->colabcode) (2.20)\n",
            "Requirement already satisfied: pytz>=2015.7 in /usr/local/lib/python3.7/dist-packages (from babel->jupyterlab-server~=2.0->jupyterlab==3.0.7->colabcode) (2018.9)\n",
            "Requirement already satisfied: zipp>=0.5 in /usr/local/lib/python3.7/dist-packages (from importlib-metadata->jsonschema>=3.0.1->jupyterlab-server~=2.0->jupyterlab==3.0.7->colabcode) (3.5.0)\n",
            "Requirement already satisfied: pickleshare in /usr/local/lib/python3.7/dist-packages (from ipython->jupyterlab==3.0.7->colabcode) (0.7.5)\n",
            "Requirement already satisfied: prompt-toolkit<2.0.0,>=1.0.4 in /usr/local/lib/python3.7/dist-packages (from ipython->jupyterlab==3.0.7->colabcode) (1.0.18)\n",
            "Requirement already satisfied: simplegeneric>0.8 in /usr/local/lib/python3.7/dist-packages (from ipython->jupyterlab==3.0.7->colabcode) (0.8.1)\n",
            "Requirement already satisfied: pexpect in /usr/local/lib/python3.7/dist-packages (from ipython->jupyterlab==3.0.7->colabcode) (4.8.0)\n",
            "Requirement already satisfied: decorator in /usr/local/lib/python3.7/dist-packages (from ipython->jupyterlab==3.0.7->colabcode) (4.4.2)\n",
            "Requirement already satisfied: setuptools>=18.5 in /usr/local/lib/python3.7/dist-packages (from ipython->jupyterlab==3.0.7->colabcode) (57.4.0)\n",
            "Requirement already satisfied: pygments in /usr/local/lib/python3.7/dist-packages (from ipython->jupyterlab==3.0.7->colabcode) (2.6.1)\n",
            "Requirement already satisfied: wcwidth in /usr/local/lib/python3.7/dist-packages (from prompt-toolkit<2.0.0,>=1.0.4->ipython->jupyterlab==3.0.7->colabcode) (0.2.5)\n",
            "Requirement already satisfied: testpath in /usr/local/lib/python3.7/dist-packages (from nbconvert->jupyter-server~=1.2->jupyterlab==3.0.7->colabcode) (0.5.0)\n",
            "Requirement already satisfied: bleach in /usr/local/lib/python3.7/dist-packages (from nbconvert->jupyter-server~=1.2->jupyterlab==3.0.7->colabcode) (4.1.0)\n",
            "Requirement already satisfied: defusedxml in /usr/local/lib/python3.7/dist-packages (from nbconvert->jupyter-server~=1.2->jupyterlab==3.0.7->colabcode) (0.7.1)\n",
            "Requirement already satisfied: mistune<2,>=0.8.1 in /usr/local/lib/python3.7/dist-packages (from nbconvert->jupyter-server~=1.2->jupyterlab==3.0.7->colabcode) (0.8.4)\n",
            "Requirement already satisfied: pandocfilters>=1.4.1 in /usr/local/lib/python3.7/dist-packages (from nbconvert->jupyter-server~=1.2->jupyterlab==3.0.7->colabcode) (1.5.0)\n",
            "Requirement already satisfied: webencodings in /usr/local/lib/python3.7/dist-packages (from bleach->nbconvert->jupyter-server~=1.2->jupyterlab==3.0.7->colabcode) (0.5.1)\n",
            "Requirement already satisfied: pyparsing>=2.0.2 in /usr/local/lib/python3.7/dist-packages (from packaging->jupyterlab==3.0.7->colabcode) (2.4.7)\n",
            "Requirement already satisfied: certifi>=2017.4.17 in /usr/local/lib/python3.7/dist-packages (from requests->jupyterlab-server~=2.0->jupyterlab==3.0.7->colabcode) (2021.5.30)\n",
            "Requirement already satisfied: chardet<4,>=3.0.2 in /usr/local/lib/python3.7/dist-packages (from requests->jupyterlab-server~=2.0->jupyterlab==3.0.7->colabcode) (3.0.4)\n",
            "Requirement already satisfied: urllib3!=1.25.0,!=1.25.1,<1.26,>=1.21.1 in /usr/local/lib/python3.7/dist-packages (from requests->jupyterlab-server~=2.0->jupyterlab==3.0.7->colabcode) (1.24.3)\n",
            "Requirement already satisfied: fastapi in /usr/local/lib/python3.7/dist-packages (0.68.1)\n",
            "Requirement already satisfied: pydantic!=1.7,!=1.7.1,!=1.7.2,!=1.7.3,!=1.8,!=1.8.1,<2.0.0,>=1.6.2 in /usr/local/lib/python3.7/dist-packages (from fastapi) (1.8.2)\n",
            "Requirement already satisfied: starlette==0.14.2 in /usr/local/lib/python3.7/dist-packages (from fastapi) (0.14.2)\n",
            "Requirement already satisfied: typing-extensions>=3.7.4.3 in /usr/local/lib/python3.7/dist-packages (from pydantic!=1.7,!=1.7.1,!=1.7.2,!=1.7.3,!=1.8,!=1.8.1,<2.0.0,>=1.6.2->fastapi) (3.7.4.3)\n"
          ]
        }
      ]
    },
    {
      "cell_type": "code",
      "metadata": {
        "id": "cC0mAyX1wI-n"
      },
      "source": [
        "import uvicorn"
      ],
      "execution_count": 52,
      "outputs": []
    },
    {
      "cell_type": "code",
      "metadata": {
        "id": "rJsHtMvxxF8M"
      },
      "source": [
        "from pydantic import BaseModel"
      ],
      "execution_count": 53,
      "outputs": []
    },
    {
      "cell_type": "code",
      "metadata": {
        "id": "z1wZOMuibXa0"
      },
      "source": [
        "from colabcode import ColabCode"
      ],
      "execution_count": 54,
      "outputs": []
    },
    {
      "cell_type": "code",
      "metadata": {
        "id": "qI-eNsCXg7J_"
      },
      "source": [
        "from fastapi import FastAPI"
      ],
      "execution_count": 55,
      "outputs": []
    },
    {
      "cell_type": "code",
      "metadata": {
        "id": "rVCA6AIfF8mG"
      },
      "source": [
        "from typing import Optional"
      ],
      "execution_count": 56,
      "outputs": []
    },
    {
      "cell_type": "code",
      "metadata": {
        "id": "kBCXzKmWbmaj"
      },
      "source": [
        "#cc = ColabCode(port=12000, password=None, authtoken=None, mount_drive=False, code=False, lab=False)\n",
        "#cc = ColabCode(port=12000, code=False)"
      ],
      "execution_count": 57,
      "outputs": []
    },
    {
      "cell_type": "code",
      "metadata": {
        "id": "SCDzJLf_bymq"
      },
      "source": [
        "app = FastAPI()\n",
        "\n",
        "@app.get(\"/\")\n",
        "async def root():\n",
        "    return {\"message\": \"Hello World\"}"
      ],
      "execution_count": 58,
      "outputs": []
    },
    {
      "cell_type": "code",
      "metadata": {
        "id": "iuioQ40-6xLK"
      },
      "source": [
        "app.main:app"
      ],
      "execution_count": 59,
      "outputs": []
    },
    {
      "cell_type": "code",
      "metadata": {
        "id": "nPSY5rJAc5O9"
      },
      "source": [
        "#cc.run_app(app-app)"
      ],
      "execution_count": 60,
      "outputs": []
    },
    {
      "cell_type": "markdown",
      "metadata": {
        "id": "TaAWOMA2JSC4"
      },
      "source": [
        ""
      ]
    },
    {
      "cell_type": "code",
      "metadata": {
        "id": "66BUxovdbWXp",
        "colab": {
          "base_uri": "https://localhost:8080/"
        },
        "outputId": "4aac884e-3083-4077-e693-b55c18c48f80"
      },
      "source": [
        "!pip install colabcode\n",
        "!pip install fastapi"
      ],
      "execution_count": 61,
      "outputs": [
        {
          "output_type": "stream",
          "name": "stdout",
          "text": [
            "Requirement already satisfied: colabcode in /usr/local/lib/python3.7/dist-packages (0.3.0)\n",
            "Requirement already satisfied: pyngrok>=5.0.0 in /usr/local/lib/python3.7/dist-packages (from colabcode) (5.1.0)\n",
            "Requirement already satisfied: uvicorn==0.13.1 in /usr/local/lib/python3.7/dist-packages (from colabcode) (0.13.1)\n",
            "Requirement already satisfied: jupyterlab==3.0.7 in /usr/local/lib/python3.7/dist-packages (from colabcode) (3.0.7)\n",
            "Requirement already satisfied: nest-asyncio==1.4.3 in /usr/local/lib/python3.7/dist-packages (from colabcode) (1.4.3)\n",
            "Requirement already satisfied: jinja2>=2.10 in /usr/local/lib/python3.7/dist-packages (from jupyterlab==3.0.7->colabcode) (2.11.3)\n",
            "Requirement already satisfied: jupyter-server~=1.2 in /usr/local/lib/python3.7/dist-packages (from jupyterlab==3.0.7->colabcode) (1.11.0)\n",
            "Requirement already satisfied: nbclassic~=0.2 in /usr/local/lib/python3.7/dist-packages (from jupyterlab==3.0.7->colabcode) (0.3.2)\n",
            "Requirement already satisfied: jupyter-core in /usr/local/lib/python3.7/dist-packages (from jupyterlab==3.0.7->colabcode) (4.8.1)\n",
            "Requirement already satisfied: ipython in /usr/local/lib/python3.7/dist-packages (from jupyterlab==3.0.7->colabcode) (5.5.0)\n",
            "Requirement already satisfied: tornado>=6.1.0 in /usr/local/lib/python3.7/dist-packages (from jupyterlab==3.0.7->colabcode) (6.1)\n",
            "Requirement already satisfied: packaging in /usr/local/lib/python3.7/dist-packages (from jupyterlab==3.0.7->colabcode) (21.0)\n",
            "Requirement already satisfied: jupyterlab-server~=2.0 in /usr/local/lib/python3.7/dist-packages (from jupyterlab==3.0.7->colabcode) (2.8.2)\n",
            "Requirement already satisfied: typing-extensions in /usr/local/lib/python3.7/dist-packages (from uvicorn==0.13.1->colabcode) (3.7.4.3)\n",
            "Requirement already satisfied: click==7.* in /usr/local/lib/python3.7/dist-packages (from uvicorn==0.13.1->colabcode) (7.1.2)\n",
            "Requirement already satisfied: h11>=0.8 in /usr/local/lib/python3.7/dist-packages (from uvicorn==0.13.1->colabcode) (0.12.0)\n",
            "Requirement already satisfied: MarkupSafe>=0.23 in /usr/local/lib/python3.7/dist-packages (from jinja2>=2.10->jupyterlab==3.0.7->colabcode) (2.0.1)\n",
            "Requirement already satisfied: argon2-cffi in /usr/local/lib/python3.7/dist-packages (from jupyter-server~=1.2->jupyterlab==3.0.7->colabcode) (21.1.0)\n",
            "Requirement already satisfied: requests-unixsocket in /usr/local/lib/python3.7/dist-packages (from jupyter-server~=1.2->jupyterlab==3.0.7->colabcode) (0.2.0)\n",
            "Requirement already satisfied: Send2Trash in /usr/local/lib/python3.7/dist-packages (from jupyter-server~=1.2->jupyterlab==3.0.7->colabcode) (1.8.0)\n",
            "Requirement already satisfied: traitlets>=4.2.1 in /usr/local/lib/python3.7/dist-packages (from jupyter-server~=1.2->jupyterlab==3.0.7->colabcode) (5.1.0)\n",
            "Requirement already satisfied: nbconvert in /usr/local/lib/python3.7/dist-packages (from jupyter-server~=1.2->jupyterlab==3.0.7->colabcode) (5.6.1)\n",
            "Requirement already satisfied: pyzmq>=17 in /usr/local/lib/python3.7/dist-packages (from jupyter-server~=1.2->jupyterlab==3.0.7->colabcode) (22.3.0)\n",
            "Requirement already satisfied: terminado>=0.8.3 in /usr/local/lib/python3.7/dist-packages (from jupyter-server~=1.2->jupyterlab==3.0.7->colabcode) (0.12.1)\n",
            "Requirement already satisfied: prometheus-client in /usr/local/lib/python3.7/dist-packages (from jupyter-server~=1.2->jupyterlab==3.0.7->colabcode) (0.11.0)\n",
            "Requirement already satisfied: websocket-client in /usr/local/lib/python3.7/dist-packages (from jupyter-server~=1.2->jupyterlab==3.0.7->colabcode) (1.2.1)\n",
            "Requirement already satisfied: jupyter-client>=6.1.1 in /usr/local/lib/python3.7/dist-packages (from jupyter-server~=1.2->jupyterlab==3.0.7->colabcode) (6.1.12)\n",
            "Requirement already satisfied: nbformat in /usr/local/lib/python3.7/dist-packages (from jupyter-server~=1.2->jupyterlab==3.0.7->colabcode) (5.1.3)\n",
            "Requirement already satisfied: anyio<4,>=3.1.0 in /usr/local/lib/python3.7/dist-packages (from jupyter-server~=1.2->jupyterlab==3.0.7->colabcode) (3.3.2)\n",
            "Requirement already satisfied: ipython-genutils in /usr/local/lib/python3.7/dist-packages (from jupyter-server~=1.2->jupyterlab==3.0.7->colabcode) (0.2.0)\n",
            "Requirement already satisfied: sniffio>=1.1 in /usr/local/lib/python3.7/dist-packages (from anyio<4,>=3.1.0->jupyter-server~=1.2->jupyterlab==3.0.7->colabcode) (1.2.0)\n",
            "Requirement already satisfied: idna>=2.8 in /usr/local/lib/python3.7/dist-packages (from anyio<4,>=3.1.0->jupyter-server~=1.2->jupyterlab==3.0.7->colabcode) (2.10)\n",
            "Requirement already satisfied: python-dateutil>=2.1 in /usr/local/lib/python3.7/dist-packages (from jupyter-client>=6.1.1->jupyter-server~=1.2->jupyterlab==3.0.7->colabcode) (2.8.2)\n",
            "Requirement already satisfied: json5 in /usr/local/lib/python3.7/dist-packages (from jupyterlab-server~=2.0->jupyterlab==3.0.7->colabcode) (0.9.6)\n",
            "Requirement already satisfied: jsonschema>=3.0.1 in /usr/local/lib/python3.7/dist-packages (from jupyterlab-server~=2.0->jupyterlab==3.0.7->colabcode) (4.0.1)\n",
            "Requirement already satisfied: requests in /usr/local/lib/python3.7/dist-packages (from jupyterlab-server~=2.0->jupyterlab==3.0.7->colabcode) (2.23.0)\n",
            "Requirement already satisfied: babel in /usr/local/lib/python3.7/dist-packages (from jupyterlab-server~=2.0->jupyterlab==3.0.7->colabcode) (2.9.1)\n",
            "Requirement already satisfied: entrypoints>=0.2.2 in /usr/local/lib/python3.7/dist-packages (from jupyterlab-server~=2.0->jupyterlab==3.0.7->colabcode) (0.3)\n",
            "Requirement already satisfied: pyrsistent!=0.17.0,!=0.17.1,!=0.17.2,>=0.14.0 in /usr/local/lib/python3.7/dist-packages (from jsonschema>=3.0.1->jupyterlab-server~=2.0->jupyterlab==3.0.7->colabcode) (0.18.0)\n",
            "Requirement already satisfied: importlib-metadata in /usr/local/lib/python3.7/dist-packages (from jsonschema>=3.0.1->jupyterlab-server~=2.0->jupyterlab==3.0.7->colabcode) (4.8.1)\n",
            "Requirement already satisfied: attrs>=17.4.0 in /usr/local/lib/python3.7/dist-packages (from jsonschema>=3.0.1->jupyterlab-server~=2.0->jupyterlab==3.0.7->colabcode) (21.2.0)\n",
            "Requirement already satisfied: notebook<7 in /usr/local/lib/python3.7/dist-packages (from nbclassic~=0.2->jupyterlab==3.0.7->colabcode) (5.3.1)\n",
            "Requirement already satisfied: ipykernel in /usr/local/lib/python3.7/dist-packages (from notebook<7->nbclassic~=0.2->jupyterlab==3.0.7->colabcode) (4.10.1)\n",
            "Requirement already satisfied: PyYAML in /usr/local/lib/python3.7/dist-packages (from pyngrok>=5.0.0->colabcode) (3.13)\n",
            "Requirement already satisfied: six>=1.5 in /usr/local/lib/python3.7/dist-packages (from python-dateutil>=2.1->jupyter-client>=6.1.1->jupyter-server~=1.2->jupyterlab==3.0.7->colabcode) (1.15.0)\n",
            "Requirement already satisfied: ptyprocess in /usr/local/lib/python3.7/dist-packages (from terminado>=0.8.3->jupyter-server~=1.2->jupyterlab==3.0.7->colabcode) (0.7.0)\n",
            "Requirement already satisfied: cffi>=1.0.0 in /usr/local/lib/python3.7/dist-packages (from argon2-cffi->jupyter-server~=1.2->jupyterlab==3.0.7->colabcode) (1.14.6)\n",
            "Requirement already satisfied: pycparser in /usr/local/lib/python3.7/dist-packages (from cffi>=1.0.0->argon2-cffi->jupyter-server~=1.2->jupyterlab==3.0.7->colabcode) (2.20)\n",
            "Requirement already satisfied: pytz>=2015.7 in /usr/local/lib/python3.7/dist-packages (from babel->jupyterlab-server~=2.0->jupyterlab==3.0.7->colabcode) (2018.9)\n",
            "Requirement already satisfied: zipp>=0.5 in /usr/local/lib/python3.7/dist-packages (from importlib-metadata->jsonschema>=3.0.1->jupyterlab-server~=2.0->jupyterlab==3.0.7->colabcode) (3.5.0)\n",
            "Requirement already satisfied: setuptools>=18.5 in /usr/local/lib/python3.7/dist-packages (from ipython->jupyterlab==3.0.7->colabcode) (57.4.0)\n",
            "Requirement already satisfied: prompt-toolkit<2.0.0,>=1.0.4 in /usr/local/lib/python3.7/dist-packages (from ipython->jupyterlab==3.0.7->colabcode) (1.0.18)\n",
            "Requirement already satisfied: pickleshare in /usr/local/lib/python3.7/dist-packages (from ipython->jupyterlab==3.0.7->colabcode) (0.7.5)\n",
            "Requirement already satisfied: pygments in /usr/local/lib/python3.7/dist-packages (from ipython->jupyterlab==3.0.7->colabcode) (2.6.1)\n",
            "Requirement already satisfied: simplegeneric>0.8 in /usr/local/lib/python3.7/dist-packages (from ipython->jupyterlab==3.0.7->colabcode) (0.8.1)\n",
            "Requirement already satisfied: decorator in /usr/local/lib/python3.7/dist-packages (from ipython->jupyterlab==3.0.7->colabcode) (4.4.2)\n",
            "Requirement already satisfied: pexpect in /usr/local/lib/python3.7/dist-packages (from ipython->jupyterlab==3.0.7->colabcode) (4.8.0)\n",
            "Requirement already satisfied: wcwidth in /usr/local/lib/python3.7/dist-packages (from prompt-toolkit<2.0.0,>=1.0.4->ipython->jupyterlab==3.0.7->colabcode) (0.2.5)\n",
            "Requirement already satisfied: pandocfilters>=1.4.1 in /usr/local/lib/python3.7/dist-packages (from nbconvert->jupyter-server~=1.2->jupyterlab==3.0.7->colabcode) (1.5.0)\n",
            "Requirement already satisfied: mistune<2,>=0.8.1 in /usr/local/lib/python3.7/dist-packages (from nbconvert->jupyter-server~=1.2->jupyterlab==3.0.7->colabcode) (0.8.4)\n",
            "Requirement already satisfied: bleach in /usr/local/lib/python3.7/dist-packages (from nbconvert->jupyter-server~=1.2->jupyterlab==3.0.7->colabcode) (4.1.0)\n",
            "Requirement already satisfied: testpath in /usr/local/lib/python3.7/dist-packages (from nbconvert->jupyter-server~=1.2->jupyterlab==3.0.7->colabcode) (0.5.0)\n",
            "Requirement already satisfied: defusedxml in /usr/local/lib/python3.7/dist-packages (from nbconvert->jupyter-server~=1.2->jupyterlab==3.0.7->colabcode) (0.7.1)\n",
            "Requirement already satisfied: webencodings in /usr/local/lib/python3.7/dist-packages (from bleach->nbconvert->jupyter-server~=1.2->jupyterlab==3.0.7->colabcode) (0.5.1)\n",
            "Requirement already satisfied: pyparsing>=2.0.2 in /usr/local/lib/python3.7/dist-packages (from packaging->jupyterlab==3.0.7->colabcode) (2.4.7)\n",
            "Requirement already satisfied: chardet<4,>=3.0.2 in /usr/local/lib/python3.7/dist-packages (from requests->jupyterlab-server~=2.0->jupyterlab==3.0.7->colabcode) (3.0.4)\n",
            "Requirement already satisfied: urllib3!=1.25.0,!=1.25.1,<1.26,>=1.21.1 in /usr/local/lib/python3.7/dist-packages (from requests->jupyterlab-server~=2.0->jupyterlab==3.0.7->colabcode) (1.24.3)\n",
            "Requirement already satisfied: certifi>=2017.4.17 in /usr/local/lib/python3.7/dist-packages (from requests->jupyterlab-server~=2.0->jupyterlab==3.0.7->colabcode) (2021.5.30)\n",
            "Requirement already satisfied: fastapi in /usr/local/lib/python3.7/dist-packages (0.68.1)\n",
            "Requirement already satisfied: pydantic!=1.7,!=1.7.1,!=1.7.2,!=1.7.3,!=1.8,!=1.8.1,<2.0.0,>=1.6.2 in /usr/local/lib/python3.7/dist-packages (from fastapi) (1.8.2)\n",
            "Requirement already satisfied: starlette==0.14.2 in /usr/local/lib/python3.7/dist-packages (from fastapi) (0.14.2)\n",
            "Requirement already satisfied: typing-extensions>=3.7.4.3 in /usr/local/lib/python3.7/dist-packages (from pydantic!=1.7,!=1.7.1,!=1.7.2,!=1.7.3,!=1.8,!=1.8.1,<2.0.0,>=1.6.2->fastapi) (3.7.4.3)\n"
          ]
        }
      ]
    },
    {
      "cell_type": "code",
      "metadata": {
        "id": "LGPBFFUybhav"
      },
      "source": [
        "from colabcode import ColabCode\n",
        "from fastapi import FastAPI"
      ],
      "execution_count": 62,
      "outputs": []
    },
    {
      "cell_type": "code",
      "metadata": {
        "id": "nhKWIGaEbkud"
      },
      "source": [
        "cc = ColabCode(port=12000, code=False)"
      ],
      "execution_count": 63,
      "outputs": []
    },
    {
      "cell_type": "code",
      "metadata": {
        "id": "tc0-_qKObpCL"
      },
      "source": [
        "app = FastAPI()\n",
        "\n",
        "@app.get(\"/\")\n",
        "async def read_root():\n",
        "  return {\"PRODUCT RECOMMENDER APP\"}"
      ],
      "execution_count": 64,
      "outputs": []
    },
    {
      "cell_type": "code",
      "metadata": {
        "id": "Qmi6NrBfbx9R"
      },
      "source": [
        "cc.run_app(app=app)"
      ],
      "execution_count": null,
      "outputs": []
    },
    {
      "cell_type": "code",
      "metadata": {
        "id": "2yMISn3-b53v",
        "colab": {
          "base_uri": "https://localhost:8080/"
        },
        "outputId": "b123f2ab-7f7c-44d9-d2cf-a545253b1770"
      },
      "source": [
        "%%writefile models.py\n",
        "from pydantic import BaseModel, conlist\n",
        "from typing import List\n",
        "\n",
        "class electronics_data(BaseModel)\n",
        "data: List[conlist(float, min_items=1, max_items=1)]"
      ],
      "execution_count": 65,
      "outputs": [
        {
          "output_type": "stream",
          "name": "stdout",
          "text": [
            "Public URL: NgrokTunnel: \"https://ba77-35-221-36-166.ngrok.io\" -> \"http://localhost:12000\"\n",
            "Overwriting models.py\n"
          ]
        }
      ]
    },
    {
      "cell_type": "code",
      "metadata": {
        "id": "ZAoROwHscryN",
        "colab": {
          "base_uri": "https://localhost:8080/",
          "height": 443
        },
        "outputId": "fa53986b-11b7-4232-ecf2-dc2f14aec648"
      },
      "source": [
        "import pickle\n",
        "import logging\n",
        "from fastapi import FastAPI\n",
        "\n",
        "app = FastAPI(title=\"Model Deployment\", description=\"Select your product\", version=\"1.0\")\n",
        "\n",
        "# # Initialize logging\n",
        "# my_logger = logging.getLogger()\n",
        "# my_logger.setLevel(logging.DEBUG)\n",
        "# logging.basicConfig(level=logging.DEBUG, filename='logs.log')\n",
        "\n",
        "model = None\n",
        "\n",
        "@app.on_event(\"startup\")\n",
        "def load_model():\n",
        "    global model\n",
        "    model = pickle.load(open(\"mostpopular.pkl\", \"rb\"))\n",
        "\n",
        "@app.post(\"/api\", tags=[\"prediction\"])\n",
        "async def get_predictions(popularity_recommendations:electronics_data):\n",
        "    try:\n",
        "        data = dict(popularity_recommendations)['data']\n",
        "        print(data)\n",
        "        prediction = list(map(lambda x: popularity_recommendations_types[x], model.predict(data).tolist()))\n",
        "        log_proba = model.predict_log_proba(data).tolist()\n",
        "        return {\"prediction\": prediction, \"log_proba\": log_proba}\n",
        "\n",
        "    except:\n",
        "        my_logger.error(\"Something went wrong!\")\n",
        "        return {\"prediction\": \"error\"}"
      ],
      "execution_count": 66,
      "outputs": [
        {
          "output_type": "error",
          "ename": "ValueError",
          "evalue": "ignored",
          "traceback": [
            "\u001b[0;31m---------------------------------------------------------------------------\u001b[0m",
            "\u001b[0;31mValueError\u001b[0m                                Traceback (most recent call last)",
            "\u001b[0;32m<ipython-input-66-7a2edb9e9d5f>\u001b[0m in \u001b[0;36m<module>\u001b[0;34m()\u001b[0m\n\u001b[1;32m     18\u001b[0m \u001b[0;34m\u001b[0m\u001b[0m\n\u001b[1;32m     19\u001b[0m \u001b[0;34m@\u001b[0m\u001b[0mapp\u001b[0m\u001b[0;34m.\u001b[0m\u001b[0mpost\u001b[0m\u001b[0;34m(\u001b[0m\u001b[0;34m\"/api\"\u001b[0m\u001b[0;34m,\u001b[0m \u001b[0mtags\u001b[0m\u001b[0;34m=\u001b[0m\u001b[0;34m[\u001b[0m\u001b[0;34m\"prediction\"\u001b[0m\u001b[0;34m]\u001b[0m\u001b[0;34m)\u001b[0m\u001b[0;34m\u001b[0m\u001b[0;34m\u001b[0m\u001b[0m\n\u001b[0;32m---> 20\u001b[0;31m \u001b[0;32masync\u001b[0m \u001b[0;32mdef\u001b[0m \u001b[0mget_predictions\u001b[0m\u001b[0;34m(\u001b[0m\u001b[0mpopularity_recommendations\u001b[0m\u001b[0;34m:\u001b[0m\u001b[0melectronics_data\u001b[0m\u001b[0;34m)\u001b[0m\u001b[0;34m:\u001b[0m\u001b[0;34m\u001b[0m\u001b[0;34m\u001b[0m\u001b[0m\n\u001b[0m\u001b[1;32m     21\u001b[0m     \u001b[0;32mtry\u001b[0m\u001b[0;34m:\u001b[0m\u001b[0;34m\u001b[0m\u001b[0;34m\u001b[0m\u001b[0m\n\u001b[1;32m     22\u001b[0m         \u001b[0mdata\u001b[0m \u001b[0;34m=\u001b[0m \u001b[0mdict\u001b[0m\u001b[0;34m(\u001b[0m\u001b[0mpopularity_recommendations\u001b[0m\u001b[0;34m)\u001b[0m\u001b[0;34m[\u001b[0m\u001b[0;34m'data'\u001b[0m\u001b[0;34m]\u001b[0m\u001b[0;34m\u001b[0m\u001b[0;34m\u001b[0m\u001b[0m\n",
            "\u001b[0;32m/usr/local/lib/python3.7/dist-packages/fastapi/routing.py\u001b[0m in \u001b[0;36mdecorator\u001b[0;34m(func)\u001b[0m\n\u001b[1;32m    604\u001b[0m                 \u001b[0mname\u001b[0m\u001b[0;34m=\u001b[0m\u001b[0mname\u001b[0m\u001b[0;34m,\u001b[0m\u001b[0;34m\u001b[0m\u001b[0;34m\u001b[0m\u001b[0m\n\u001b[1;32m    605\u001b[0m                 \u001b[0mcallbacks\u001b[0m\u001b[0;34m=\u001b[0m\u001b[0mcallbacks\u001b[0m\u001b[0;34m,\u001b[0m\u001b[0;34m\u001b[0m\u001b[0;34m\u001b[0m\u001b[0m\n\u001b[0;32m--> 606\u001b[0;31m                 \u001b[0mopenapi_extra\u001b[0m\u001b[0;34m=\u001b[0m\u001b[0mopenapi_extra\u001b[0m\u001b[0;34m,\u001b[0m\u001b[0;34m\u001b[0m\u001b[0;34m\u001b[0m\u001b[0m\n\u001b[0m\u001b[1;32m    607\u001b[0m             )\n\u001b[1;32m    608\u001b[0m             \u001b[0;32mreturn\u001b[0m \u001b[0mfunc\u001b[0m\u001b[0;34m\u001b[0m\u001b[0;34m\u001b[0m\u001b[0m\n",
            "\u001b[0;32m/usr/local/lib/python3.7/dist-packages/fastapi/routing.py\u001b[0m in \u001b[0;36madd_api_route\u001b[0;34m(self, path, endpoint, response_model, status_code, tags, dependencies, summary, description, response_description, responses, deprecated, methods, operation_id, response_model_include, response_model_exclude, response_model_by_alias, response_model_exclude_unset, response_model_exclude_defaults, response_model_exclude_none, include_in_schema, response_class, name, route_class_override, callbacks, openapi_extra)\u001b[0m\n\u001b[1;32m    548\u001b[0m             \u001b[0mdependency_overrides_provider\u001b[0m\u001b[0;34m=\u001b[0m\u001b[0mself\u001b[0m\u001b[0;34m.\u001b[0m\u001b[0mdependency_overrides_provider\u001b[0m\u001b[0;34m,\u001b[0m\u001b[0;34m\u001b[0m\u001b[0;34m\u001b[0m\u001b[0m\n\u001b[1;32m    549\u001b[0m             \u001b[0mcallbacks\u001b[0m\u001b[0;34m=\u001b[0m\u001b[0mcurrent_callbacks\u001b[0m\u001b[0;34m,\u001b[0m\u001b[0;34m\u001b[0m\u001b[0;34m\u001b[0m\u001b[0m\n\u001b[0;32m--> 550\u001b[0;31m             \u001b[0mopenapi_extra\u001b[0m\u001b[0;34m=\u001b[0m\u001b[0mopenapi_extra\u001b[0m\u001b[0;34m,\u001b[0m\u001b[0;34m\u001b[0m\u001b[0;34m\u001b[0m\u001b[0m\n\u001b[0m\u001b[1;32m    551\u001b[0m         )\n\u001b[1;32m    552\u001b[0m         \u001b[0mself\u001b[0m\u001b[0;34m.\u001b[0m\u001b[0mroutes\u001b[0m\u001b[0;34m.\u001b[0m\u001b[0mappend\u001b[0m\u001b[0;34m(\u001b[0m\u001b[0mroute\u001b[0m\u001b[0;34m)\u001b[0m\u001b[0;34m\u001b[0m\u001b[0;34m\u001b[0m\u001b[0m\n",
            "\u001b[0;32m/usr/local/lib/python3.7/dist-packages/fastapi/routing.py\u001b[0m in \u001b[0;36m__init__\u001b[0;34m(self, path, endpoint, response_model, status_code, tags, dependencies, summary, description, response_description, responses, deprecated, name, methods, operation_id, response_model_include, response_model_exclude, response_model_by_alias, response_model_exclude_unset, response_model_exclude_defaults, response_model_exclude_none, include_in_schema, response_class, dependency_overrides_provider, callbacks, openapi_extra)\u001b[0m\n\u001b[1;32m    405\u001b[0m \u001b[0;34m\u001b[0m\u001b[0m\n\u001b[1;32m    406\u001b[0m         \u001b[0;32massert\u001b[0m \u001b[0mcallable\u001b[0m\u001b[0;34m(\u001b[0m\u001b[0mendpoint\u001b[0m\u001b[0;34m)\u001b[0m\u001b[0;34m,\u001b[0m \u001b[0;34m\"An endpoint must be a callable\"\u001b[0m\u001b[0;34m\u001b[0m\u001b[0;34m\u001b[0m\u001b[0m\n\u001b[0;32m--> 407\u001b[0;31m         \u001b[0mself\u001b[0m\u001b[0;34m.\u001b[0m\u001b[0mdependant\u001b[0m \u001b[0;34m=\u001b[0m \u001b[0mget_dependant\u001b[0m\u001b[0;34m(\u001b[0m\u001b[0mpath\u001b[0m\u001b[0;34m=\u001b[0m\u001b[0mself\u001b[0m\u001b[0;34m.\u001b[0m\u001b[0mpath_format\u001b[0m\u001b[0;34m,\u001b[0m \u001b[0mcall\u001b[0m\u001b[0;34m=\u001b[0m\u001b[0mself\u001b[0m\u001b[0;34m.\u001b[0m\u001b[0mendpoint\u001b[0m\u001b[0;34m)\u001b[0m\u001b[0;34m\u001b[0m\u001b[0;34m\u001b[0m\u001b[0m\n\u001b[0m\u001b[1;32m    408\u001b[0m         \u001b[0;32mfor\u001b[0m \u001b[0mdepends\u001b[0m \u001b[0;32min\u001b[0m \u001b[0mself\u001b[0m\u001b[0;34m.\u001b[0m\u001b[0mdependencies\u001b[0m\u001b[0;34m[\u001b[0m\u001b[0;34m:\u001b[0m\u001b[0;34m:\u001b[0m\u001b[0;34m-\u001b[0m\u001b[0;36m1\u001b[0m\u001b[0;34m]\u001b[0m\u001b[0;34m:\u001b[0m\u001b[0;34m\u001b[0m\u001b[0;34m\u001b[0m\u001b[0m\n\u001b[1;32m    409\u001b[0m             self.dependant.dependencies.insert(\n",
            "\u001b[0;32m/usr/local/lib/python3.7/dist-packages/fastapi/dependencies/utils.py\u001b[0m in \u001b[0;36mget_dependant\u001b[0;34m(path, call, name, security_scopes, use_cache)\u001b[0m\n\u001b[1;32m    303\u001b[0m             \u001b[0;32mcontinue\u001b[0m\u001b[0;34m\u001b[0m\u001b[0;34m\u001b[0m\u001b[0m\n\u001b[1;32m    304\u001b[0m         param_field = get_param_field(\n\u001b[0;32m--> 305\u001b[0;31m             \u001b[0mparam\u001b[0m\u001b[0;34m=\u001b[0m\u001b[0mparam\u001b[0m\u001b[0;34m,\u001b[0m \u001b[0mdefault_field_info\u001b[0m\u001b[0;34m=\u001b[0m\u001b[0mparams\u001b[0m\u001b[0;34m.\u001b[0m\u001b[0mQuery\u001b[0m\u001b[0;34m,\u001b[0m \u001b[0mparam_name\u001b[0m\u001b[0;34m=\u001b[0m\u001b[0mparam_name\u001b[0m\u001b[0;34m\u001b[0m\u001b[0;34m\u001b[0m\u001b[0m\n\u001b[0m\u001b[1;32m    306\u001b[0m         )\n\u001b[1;32m    307\u001b[0m         \u001b[0;32mif\u001b[0m \u001b[0mparam_name\u001b[0m \u001b[0;32min\u001b[0m \u001b[0mpath_param_names\u001b[0m\u001b[0;34m:\u001b[0m\u001b[0;34m\u001b[0m\u001b[0;34m\u001b[0m\u001b[0m\n",
            "\u001b[0;32m/usr/local/lib/python3.7/dist-packages/fastapi/dependencies/utils.py\u001b[0m in \u001b[0;36mget_param_field\u001b[0;34m(param, param_name, default_field_info, force_type, ignore_default)\u001b[0m\n\u001b[1;32m    387\u001b[0m     \u001b[0mrequired\u001b[0m \u001b[0;34m=\u001b[0m \u001b[0mdefault_value\u001b[0m \u001b[0;34m==\u001b[0m \u001b[0mRequired\u001b[0m\u001b[0;34m\u001b[0m\u001b[0;34m\u001b[0m\u001b[0m\n\u001b[1;32m    388\u001b[0m     \u001b[0mannotation\u001b[0m\u001b[0;34m:\u001b[0m \u001b[0mAny\u001b[0m \u001b[0;34m=\u001b[0m \u001b[0mAny\u001b[0m\u001b[0;34m\u001b[0m\u001b[0;34m\u001b[0m\u001b[0m\n\u001b[0;32m--> 389\u001b[0;31m     \u001b[0;32mif\u001b[0m \u001b[0;32mnot\u001b[0m \u001b[0mparam\u001b[0m\u001b[0;34m.\u001b[0m\u001b[0mannotation\u001b[0m \u001b[0;34m==\u001b[0m \u001b[0mparam\u001b[0m\u001b[0;34m.\u001b[0m\u001b[0mempty\u001b[0m\u001b[0;34m:\u001b[0m\u001b[0;34m\u001b[0m\u001b[0;34m\u001b[0m\u001b[0m\n\u001b[0m\u001b[1;32m    390\u001b[0m         \u001b[0mannotation\u001b[0m \u001b[0;34m=\u001b[0m \u001b[0mparam\u001b[0m\u001b[0;34m.\u001b[0m\u001b[0mannotation\u001b[0m\u001b[0;34m\u001b[0m\u001b[0;34m\u001b[0m\u001b[0m\n\u001b[1;32m    391\u001b[0m     \u001b[0mannotation\u001b[0m \u001b[0;34m=\u001b[0m \u001b[0mget_annotation_from_field_info\u001b[0m\u001b[0;34m(\u001b[0m\u001b[0mannotation\u001b[0m\u001b[0;34m,\u001b[0m \u001b[0mfield_info\u001b[0m\u001b[0;34m,\u001b[0m \u001b[0mparam_name\u001b[0m\u001b[0;34m)\u001b[0m\u001b[0;34m\u001b[0m\u001b[0;34m\u001b[0m\u001b[0m\n",
            "\u001b[0;32m/usr/local/lib/python3.7/dist-packages/pandas/core/ops/__init__.py\u001b[0m in \u001b[0;36mf\u001b[0;34m(self, other)\u001b[0m\n\u001b[1;32m    706\u001b[0m \u001b[0;34m\u001b[0m\u001b[0m\n\u001b[1;32m    707\u001b[0m         \u001b[0;31m# See GH#4537 for discussion of scalar op behavior\u001b[0m\u001b[0;34m\u001b[0m\u001b[0;34m\u001b[0m\u001b[0;34m\u001b[0m\u001b[0m\n\u001b[0;32m--> 708\u001b[0;31m         \u001b[0mnew_data\u001b[0m \u001b[0;34m=\u001b[0m \u001b[0mdispatch_to_series\u001b[0m\u001b[0;34m(\u001b[0m\u001b[0mself\u001b[0m\u001b[0;34m,\u001b[0m \u001b[0mother\u001b[0m\u001b[0;34m,\u001b[0m \u001b[0mop\u001b[0m\u001b[0;34m,\u001b[0m \u001b[0maxis\u001b[0m\u001b[0;34m=\u001b[0m\u001b[0maxis\u001b[0m\u001b[0;34m)\u001b[0m\u001b[0;34m\u001b[0m\u001b[0;34m\u001b[0m\u001b[0m\n\u001b[0m\u001b[1;32m    709\u001b[0m         \u001b[0;32mreturn\u001b[0m \u001b[0mself\u001b[0m\u001b[0;34m.\u001b[0m\u001b[0m_construct_result\u001b[0m\u001b[0;34m(\u001b[0m\u001b[0mnew_data\u001b[0m\u001b[0;34m)\u001b[0m\u001b[0;34m\u001b[0m\u001b[0;34m\u001b[0m\u001b[0m\n\u001b[1;32m    710\u001b[0m \u001b[0;34m\u001b[0m\u001b[0m\n",
            "\u001b[0;32m/usr/local/lib/python3.7/dist-packages/pandas/core/ops/__init__.py\u001b[0m in \u001b[0;36mdispatch_to_series\u001b[0;34m(left, right, func, axis)\u001b[0m\n\u001b[1;32m    263\u001b[0m     \u001b[0;32mif\u001b[0m \u001b[0;32mnot\u001b[0m \u001b[0mis_list_like\u001b[0m\u001b[0;34m(\u001b[0m\u001b[0mright\u001b[0m\u001b[0;34m)\u001b[0m\u001b[0;34m:\u001b[0m\u001b[0;34m\u001b[0m\u001b[0;34m\u001b[0m\u001b[0m\n\u001b[1;32m    264\u001b[0m         \u001b[0;31m# i.e. scalar, faster than checking np.ndim(right) == 0\u001b[0m\u001b[0;34m\u001b[0m\u001b[0;34m\u001b[0m\u001b[0;34m\u001b[0m\u001b[0m\n\u001b[0;32m--> 265\u001b[0;31m         \u001b[0mbm\u001b[0m \u001b[0;34m=\u001b[0m \u001b[0mleft\u001b[0m\u001b[0;34m.\u001b[0m\u001b[0m_mgr\u001b[0m\u001b[0;34m.\u001b[0m\u001b[0mapply\u001b[0m\u001b[0;34m(\u001b[0m\u001b[0marray_op\u001b[0m\u001b[0;34m,\u001b[0m \u001b[0mright\u001b[0m\u001b[0;34m=\u001b[0m\u001b[0mright\u001b[0m\u001b[0;34m)\u001b[0m\u001b[0;34m\u001b[0m\u001b[0;34m\u001b[0m\u001b[0m\n\u001b[0m\u001b[1;32m    266\u001b[0m         \u001b[0;32mreturn\u001b[0m \u001b[0mtype\u001b[0m\u001b[0;34m(\u001b[0m\u001b[0mleft\u001b[0m\u001b[0;34m)\u001b[0m\u001b[0;34m(\u001b[0m\u001b[0mbm\u001b[0m\u001b[0;34m)\u001b[0m\u001b[0;34m\u001b[0m\u001b[0;34m\u001b[0m\u001b[0m\n\u001b[1;32m    267\u001b[0m \u001b[0;34m\u001b[0m\u001b[0m\n",
            "\u001b[0;32m/usr/local/lib/python3.7/dist-packages/pandas/core/internals/managers.py\u001b[0m in \u001b[0;36mapply\u001b[0;34m(self, f, align_keys, **kwargs)\u001b[0m\n\u001b[1;32m    405\u001b[0m \u001b[0;34m\u001b[0m\u001b[0m\n\u001b[1;32m    406\u001b[0m             \u001b[0;32mif\u001b[0m \u001b[0mcallable\u001b[0m\u001b[0;34m(\u001b[0m\u001b[0mf\u001b[0m\u001b[0;34m)\u001b[0m\u001b[0;34m:\u001b[0m\u001b[0;34m\u001b[0m\u001b[0;34m\u001b[0m\u001b[0m\n\u001b[0;32m--> 407\u001b[0;31m                 \u001b[0mapplied\u001b[0m \u001b[0;34m=\u001b[0m \u001b[0mb\u001b[0m\u001b[0;34m.\u001b[0m\u001b[0mapply\u001b[0m\u001b[0;34m(\u001b[0m\u001b[0mf\u001b[0m\u001b[0;34m,\u001b[0m \u001b[0;34m**\u001b[0m\u001b[0mkwargs\u001b[0m\u001b[0;34m)\u001b[0m\u001b[0;34m\u001b[0m\u001b[0;34m\u001b[0m\u001b[0m\n\u001b[0m\u001b[1;32m    408\u001b[0m             \u001b[0;32melse\u001b[0m\u001b[0;34m:\u001b[0m\u001b[0;34m\u001b[0m\u001b[0;34m\u001b[0m\u001b[0m\n\u001b[1;32m    409\u001b[0m                 \u001b[0mapplied\u001b[0m \u001b[0;34m=\u001b[0m \u001b[0mgetattr\u001b[0m\u001b[0;34m(\u001b[0m\u001b[0mb\u001b[0m\u001b[0;34m,\u001b[0m \u001b[0mf\u001b[0m\u001b[0;34m)\u001b[0m\u001b[0;34m(\u001b[0m\u001b[0;34m**\u001b[0m\u001b[0mkwargs\u001b[0m\u001b[0;34m)\u001b[0m\u001b[0;34m\u001b[0m\u001b[0;34m\u001b[0m\u001b[0m\n",
            "\u001b[0;32m/usr/local/lib/python3.7/dist-packages/pandas/core/internals/blocks.py\u001b[0m in \u001b[0;36mapply\u001b[0;34m(self, func, **kwargs)\u001b[0m\n\u001b[1;32m    344\u001b[0m         \"\"\"\n\u001b[1;32m    345\u001b[0m         \u001b[0;32mwith\u001b[0m \u001b[0mnp\u001b[0m\u001b[0;34m.\u001b[0m\u001b[0merrstate\u001b[0m\u001b[0;34m(\u001b[0m\u001b[0mall\u001b[0m\u001b[0;34m=\u001b[0m\u001b[0;34m\"ignore\"\u001b[0m\u001b[0;34m)\u001b[0m\u001b[0;34m:\u001b[0m\u001b[0;34m\u001b[0m\u001b[0;34m\u001b[0m\u001b[0m\n\u001b[0;32m--> 346\u001b[0;31m             \u001b[0mresult\u001b[0m \u001b[0;34m=\u001b[0m \u001b[0mfunc\u001b[0m\u001b[0;34m(\u001b[0m\u001b[0mself\u001b[0m\u001b[0;34m.\u001b[0m\u001b[0mvalues\u001b[0m\u001b[0;34m,\u001b[0m \u001b[0;34m**\u001b[0m\u001b[0mkwargs\u001b[0m\u001b[0;34m)\u001b[0m\u001b[0;34m\u001b[0m\u001b[0;34m\u001b[0m\u001b[0m\n\u001b[0m\u001b[1;32m    347\u001b[0m \u001b[0;34m\u001b[0m\u001b[0m\n\u001b[1;32m    348\u001b[0m         \u001b[0;32mreturn\u001b[0m \u001b[0mself\u001b[0m\u001b[0;34m.\u001b[0m\u001b[0m_split_op_result\u001b[0m\u001b[0;34m(\u001b[0m\u001b[0mresult\u001b[0m\u001b[0;34m)\u001b[0m\u001b[0;34m\u001b[0m\u001b[0;34m\u001b[0m\u001b[0m\n",
            "\u001b[0;32m/usr/local/lib/python3.7/dist-packages/pandas/core/ops/array_ops.py\u001b[0m in \u001b[0;36mcomparison_op\u001b[0;34m(left, right, op)\u001b[0m\n\u001b[1;32m    249\u001b[0m             \u001b[0mwarnings\u001b[0m\u001b[0;34m.\u001b[0m\u001b[0msimplefilter\u001b[0m\u001b[0;34m(\u001b[0m\u001b[0;34m\"ignore\"\u001b[0m\u001b[0;34m,\u001b[0m \u001b[0mDeprecationWarning\u001b[0m\u001b[0;34m)\u001b[0m\u001b[0;34m\u001b[0m\u001b[0;34m\u001b[0m\u001b[0m\n\u001b[1;32m    250\u001b[0m             \u001b[0;32mwith\u001b[0m \u001b[0mnp\u001b[0m\u001b[0;34m.\u001b[0m\u001b[0merrstate\u001b[0m\u001b[0;34m(\u001b[0m\u001b[0mall\u001b[0m\u001b[0;34m=\u001b[0m\u001b[0;34m\"ignore\"\u001b[0m\u001b[0;34m)\u001b[0m\u001b[0;34m:\u001b[0m\u001b[0;34m\u001b[0m\u001b[0;34m\u001b[0m\u001b[0m\n\u001b[0;32m--> 251\u001b[0;31m                 \u001b[0mres_values\u001b[0m \u001b[0;34m=\u001b[0m \u001b[0mna_arithmetic_op\u001b[0m\u001b[0;34m(\u001b[0m\u001b[0mlvalues\u001b[0m\u001b[0;34m,\u001b[0m \u001b[0mrvalues\u001b[0m\u001b[0;34m,\u001b[0m \u001b[0mop\u001b[0m\u001b[0;34m,\u001b[0m \u001b[0mis_cmp\u001b[0m\u001b[0;34m=\u001b[0m\u001b[0;32mTrue\u001b[0m\u001b[0;34m)\u001b[0m\u001b[0;34m\u001b[0m\u001b[0;34m\u001b[0m\u001b[0m\n\u001b[0m\u001b[1;32m    252\u001b[0m \u001b[0;34m\u001b[0m\u001b[0m\n\u001b[1;32m    253\u001b[0m     \u001b[0;32mreturn\u001b[0m \u001b[0mres_values\u001b[0m\u001b[0;34m\u001b[0m\u001b[0;34m\u001b[0m\u001b[0m\n",
            "\u001b[0;32m/usr/local/lib/python3.7/dist-packages/pandas/core/ops/array_ops.py\u001b[0m in \u001b[0;36mna_arithmetic_op\u001b[0;34m(left, right, op, is_cmp)\u001b[0m\n\u001b[1;32m    141\u001b[0m \u001b[0;34m\u001b[0m\u001b[0m\n\u001b[1;32m    142\u001b[0m     \u001b[0;32mtry\u001b[0m\u001b[0;34m:\u001b[0m\u001b[0;34m\u001b[0m\u001b[0;34m\u001b[0m\u001b[0m\n\u001b[0;32m--> 143\u001b[0;31m         \u001b[0mresult\u001b[0m \u001b[0;34m=\u001b[0m \u001b[0mexpressions\u001b[0m\u001b[0;34m.\u001b[0m\u001b[0mevaluate\u001b[0m\u001b[0;34m(\u001b[0m\u001b[0mop\u001b[0m\u001b[0;34m,\u001b[0m \u001b[0mleft\u001b[0m\u001b[0;34m,\u001b[0m \u001b[0mright\u001b[0m\u001b[0;34m)\u001b[0m\u001b[0;34m\u001b[0m\u001b[0;34m\u001b[0m\u001b[0m\n\u001b[0m\u001b[1;32m    144\u001b[0m     \u001b[0;32mexcept\u001b[0m \u001b[0mTypeError\u001b[0m\u001b[0;34m:\u001b[0m\u001b[0;34m\u001b[0m\u001b[0;34m\u001b[0m\u001b[0m\n\u001b[1;32m    145\u001b[0m         \u001b[0;32mif\u001b[0m \u001b[0mis_cmp\u001b[0m\u001b[0;34m:\u001b[0m\u001b[0;34m\u001b[0m\u001b[0;34m\u001b[0m\u001b[0m\n",
            "\u001b[0;32m/usr/local/lib/python3.7/dist-packages/pandas/core/computation/expressions.py\u001b[0m in \u001b[0;36mevaluate\u001b[0;34m(op, a, b, use_numexpr)\u001b[0m\n\u001b[1;32m    231\u001b[0m         \u001b[0muse_numexpr\u001b[0m \u001b[0;34m=\u001b[0m \u001b[0muse_numexpr\u001b[0m \u001b[0;32mand\u001b[0m \u001b[0m_bool_arith_check\u001b[0m\u001b[0;34m(\u001b[0m\u001b[0mop_str\u001b[0m\u001b[0;34m,\u001b[0m \u001b[0ma\u001b[0m\u001b[0;34m,\u001b[0m \u001b[0mb\u001b[0m\u001b[0;34m)\u001b[0m\u001b[0;34m\u001b[0m\u001b[0;34m\u001b[0m\u001b[0m\n\u001b[1;32m    232\u001b[0m         \u001b[0;32mif\u001b[0m \u001b[0muse_numexpr\u001b[0m\u001b[0;34m:\u001b[0m\u001b[0;34m\u001b[0m\u001b[0;34m\u001b[0m\u001b[0m\n\u001b[0;32m--> 233\u001b[0;31m             \u001b[0;32mreturn\u001b[0m \u001b[0m_evaluate\u001b[0m\u001b[0;34m(\u001b[0m\u001b[0mop\u001b[0m\u001b[0;34m,\u001b[0m \u001b[0mop_str\u001b[0m\u001b[0;34m,\u001b[0m \u001b[0ma\u001b[0m\u001b[0;34m,\u001b[0m \u001b[0mb\u001b[0m\u001b[0;34m)\u001b[0m  \u001b[0;31m# type: ignore\u001b[0m\u001b[0;34m\u001b[0m\u001b[0;34m\u001b[0m\u001b[0m\n\u001b[0m\u001b[1;32m    234\u001b[0m     \u001b[0;32mreturn\u001b[0m \u001b[0m_evaluate_standard\u001b[0m\u001b[0;34m(\u001b[0m\u001b[0mop\u001b[0m\u001b[0;34m,\u001b[0m \u001b[0mop_str\u001b[0m\u001b[0;34m,\u001b[0m \u001b[0ma\u001b[0m\u001b[0;34m,\u001b[0m \u001b[0mb\u001b[0m\u001b[0;34m)\u001b[0m\u001b[0;34m\u001b[0m\u001b[0;34m\u001b[0m\u001b[0m\n\u001b[1;32m    235\u001b[0m \u001b[0;34m\u001b[0m\u001b[0m\n",
            "\u001b[0;32m/usr/local/lib/python3.7/dist-packages/pandas/core/computation/expressions.py\u001b[0m in \u001b[0;36m_evaluate_numexpr\u001b[0;34m(op, op_str, a, b)\u001b[0m\n\u001b[1;32m    110\u001b[0m             \u001b[0;34mf\"a_value {op_str} b_value\"\u001b[0m\u001b[0;34m,\u001b[0m\u001b[0;34m\u001b[0m\u001b[0;34m\u001b[0m\u001b[0m\n\u001b[1;32m    111\u001b[0m             \u001b[0mlocal_dict\u001b[0m\u001b[0;34m=\u001b[0m\u001b[0;34m{\u001b[0m\u001b[0;34m\"a_value\"\u001b[0m\u001b[0;34m:\u001b[0m \u001b[0ma_value\u001b[0m\u001b[0;34m,\u001b[0m \u001b[0;34m\"b_value\"\u001b[0m\u001b[0;34m:\u001b[0m \u001b[0mb_value\u001b[0m\u001b[0;34m}\u001b[0m\u001b[0;34m,\u001b[0m\u001b[0;34m\u001b[0m\u001b[0;34m\u001b[0m\u001b[0m\n\u001b[0;32m--> 112\u001b[0;31m             \u001b[0mcasting\u001b[0m\u001b[0;34m=\u001b[0m\u001b[0;34m\"safe\"\u001b[0m\u001b[0;34m,\u001b[0m\u001b[0;34m\u001b[0m\u001b[0;34m\u001b[0m\u001b[0m\n\u001b[0m\u001b[1;32m    113\u001b[0m         )\n\u001b[1;32m    114\u001b[0m \u001b[0;34m\u001b[0m\u001b[0m\n",
            "\u001b[0;32m/usr/local/lib/python3.7/dist-packages/numexpr/necompiler.py\u001b[0m in \u001b[0;36mevaluate\u001b[0;34m(ex, local_dict, global_dict, out, order, casting, **kwargs)\u001b[0m\n\u001b[1;32m    822\u001b[0m     \u001b[0;31m# Create a signature\u001b[0m\u001b[0;34m\u001b[0m\u001b[0;34m\u001b[0m\u001b[0;34m\u001b[0m\u001b[0m\n\u001b[1;32m    823\u001b[0m     signature = [(name, getType(arg)) for (name, arg) in\n\u001b[0;32m--> 824\u001b[0;31m                  zip(names, arguments)]\n\u001b[0m\u001b[1;32m    825\u001b[0m \u001b[0;34m\u001b[0m\u001b[0m\n\u001b[1;32m    826\u001b[0m     \u001b[0;31m# Look up numexpr if possible.\u001b[0m\u001b[0;34m\u001b[0m\u001b[0;34m\u001b[0m\u001b[0;34m\u001b[0m\u001b[0m\n",
            "\u001b[0;32m/usr/local/lib/python3.7/dist-packages/numexpr/necompiler.py\u001b[0m in \u001b[0;36m<listcomp>\u001b[0;34m(.0)\u001b[0m\n\u001b[1;32m    821\u001b[0m \u001b[0;34m\u001b[0m\u001b[0m\n\u001b[1;32m    822\u001b[0m     \u001b[0;31m# Create a signature\u001b[0m\u001b[0;34m\u001b[0m\u001b[0;34m\u001b[0m\u001b[0;34m\u001b[0m\u001b[0m\n\u001b[0;32m--> 823\u001b[0;31m     signature = [(name, getType(arg)) for (name, arg) in\n\u001b[0m\u001b[1;32m    824\u001b[0m                  zip(names, arguments)]\n\u001b[1;32m    825\u001b[0m \u001b[0;34m\u001b[0m\u001b[0m\n",
            "\u001b[0;32m/usr/local/lib/python3.7/dist-packages/numexpr/necompiler.py\u001b[0m in \u001b[0;36mgetType\u001b[0;34m(a)\u001b[0m\n\u001b[1;32m    703\u001b[0m     \u001b[0;32mif\u001b[0m \u001b[0mkind\u001b[0m \u001b[0;34m==\u001b[0m \u001b[0;34m'U'\u001b[0m\u001b[0;34m:\u001b[0m\u001b[0;34m\u001b[0m\u001b[0;34m\u001b[0m\u001b[0m\n\u001b[1;32m    704\u001b[0m         \u001b[0;32mraise\u001b[0m \u001b[0mValueError\u001b[0m\u001b[0;34m(\u001b[0m\u001b[0;34m'NumExpr 2 does not support Unicode as a dtype.'\u001b[0m\u001b[0;34m)\u001b[0m\u001b[0;34m\u001b[0m\u001b[0;34m\u001b[0m\u001b[0m\n\u001b[0;32m--> 705\u001b[0;31m     \u001b[0;32mraise\u001b[0m \u001b[0mValueError\u001b[0m\u001b[0;34m(\u001b[0m\u001b[0;34m\"unknown type %s\"\u001b[0m \u001b[0;34m%\u001b[0m \u001b[0ma\u001b[0m\u001b[0;34m.\u001b[0m\u001b[0mdtype\u001b[0m\u001b[0;34m.\u001b[0m\u001b[0mname\u001b[0m\u001b[0;34m)\u001b[0m\u001b[0;34m\u001b[0m\u001b[0;34m\u001b[0m\u001b[0m\n\u001b[0m\u001b[1;32m    706\u001b[0m \u001b[0;34m\u001b[0m\u001b[0m\n\u001b[1;32m    707\u001b[0m \u001b[0;34m\u001b[0m\u001b[0m\n",
            "\u001b[0;31mValueError\u001b[0m: unknown type object"
          ]
        },
        {
          "output_type": "stream",
          "name": "stderr",
          "text": [
            "INFO:     Started server process [794]\n",
            "INFO:     Waiting for application startup.\n",
            "INFO:     Application startup complete.\n",
            "INFO:     Uvicorn running on http://127.0.0.1:12000 (Press CTRL+C to quit)\n"
          ]
        }
      ]
    }
  ]
}